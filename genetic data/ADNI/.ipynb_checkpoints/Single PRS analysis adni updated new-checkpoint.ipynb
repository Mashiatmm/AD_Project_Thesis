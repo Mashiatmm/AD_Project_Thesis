{
 "cells": [
  {
   "cell_type": "markdown",
   "metadata": {},
   "source": [
    "# Read the input dataset :\n",
    "\n",
    "1. usable_samples_ADNI.json : stores the IID (index) for each row of PRS_feature_matrix.npy\n",
    "2. PRS_feature_matrix.npy : PR Score for different features\n",
    "3. Covar_FILE_bigger_dataset : for reading covar such as age, gender\n",
    "4. Final_Samples.json : contains ID and output for each data"
   ]
  },
  {
   "cell_type": "code",
   "execution_count": 1,
   "metadata": {},
   "outputs": [],
   "source": [
    "if True:\n",
    "    def warn(*args, **kwargs):\n",
    "        pass\n",
    "    import warnings\n",
    "    warnings.warn = warn\n",
    "\n",
    "import pandas as pd\n",
    "import numpy as np\n",
    "import json\n",
    "import random\n",
    "import math\n",
    "\n",
    "import os\n",
    "import time\n",
    "import sys\n",
    "\n",
    "import torch as t\n",
    "from torch import nn\n",
    "from torch.autograd import Variable\n",
    "import torch\n",
    "from torch.utils import data\n",
    "\n",
    "from sklearn.metrics import precision_recall_fscore_support, roc_auc_score, precision_recall_curve, auc\n",
    "from sklearn.model_selection import train_test_split\n",
    "from sklearn.model_selection import KFold \n",
    "\n",
    "DEVICE = \"cuda\" if torch.cuda.is_available() else \"cpu\"\n",
    "DEVICE = \"cpu\"\n",
    "\n",
    "import shap\n",
    "from copy import deepcopy\n",
    "\n",
    "import pickle\n",
    "from tqdm import tqdm\n",
    "\n",
    "import matplotlib\n",
    "import matplotlib.pyplot as plt\n",
    "\n",
    "import seaborn as sns\n",
    "\n",
    "import tpot\n",
    "\n",
    "from imblearn.over_sampling import SMOTE\n",
    "from imblearn.over_sampling import BorderlineSMOTE\n",
    "from imblearn.over_sampling import ADASYN"
   ]
  },
  {
   "cell_type": "code",
   "execution_count": 2,
   "metadata": {},
   "outputs": [],
   "source": [
    "# !pip install skfeature-chappers\n",
    "# !pip install mlxtend\n",
    "# !pip --version\n",
    "# !pip install imblearn\n",
    "# !conda install -c conda-forge imbalanced-learn\n",
    "# conda install -c conda-forge tqdm\n",
    "# conda install mlxtend\n",
    "\n",
    "# conda config --add channels conda-forge\n",
    "# conda install hyperopt\n",
    "\n",
    "# conda config --add channels conda-forge\n",
    "# conda config --set channel_priority strict\n",
    "# conda install auto-sklearn\n",
    "# conda install -c conda-forge tpot\n",
    "\n"
   ]
  },
  {
   "cell_type": "markdown",
   "metadata": {},
   "source": [
    "Show the installed packages with their versions"
   ]
  },
  {
   "cell_type": "code",
   "execution_count": 3,
   "metadata": {},
   "outputs": [
    {
     "name": "stdout",
     "output_type": "stream",
     "text": [
      "# packages in environment at /home/bayzid/anaconda3:\r\n",
      "#\r\n",
      "# Name                    Version                   Build  Channel\r\n",
      "_anaconda_depends         2020.07                  py37_0  \r\n",
      "_ipyw_jlab_nb_ext_conf    0.1.0                    py37_0  \r\n",
      "_libgcc_mutex             0.1                 conda_forge    conda-forge\r\n",
      "_openmp_mutex             4.5                  2_kmp_llvm    conda-forge\r\n",
      "absl-py                   1.0.0                    pypi_0    pypi\r\n",
      "adjusttext                0.7.3                    pypi_0    pypi\r\n",
      "alabaster                 0.7.13             pyhd8ed1ab_0    conda-forge\r\n",
      "alignment-c               1.0.0                    pypi_0    pypi\r\n",
      "anaconda                  custom                   py37_1  \r\n",
      "anaconda-client           1.12.0             pyhd8ed1ab_0    conda-forge\r\n",
      "anaconda-navigator        2.1.0            py37h06a4308_0  \r\n",
      "anaconda-project          0.11.1             pyhd8ed1ab_0    conda-forge\r\n",
      "anyio                     3.7.1              pyhd8ed1ab_0    conda-forge\r\n",
      "argh                      0.27.2             pyhd8ed1ab_0    conda-forge\r\n",
      "argon2-cffi               21.3.0             pyhd8ed1ab_0    conda-forge\r\n",
      "argon2-cffi-bindings      21.2.0           py37h540881e_2    conda-forge\r\n",
      "asn1crypto                1.5.1              pyhd8ed1ab_0    conda-forge\r\n",
      "astor                     0.8.1                    pypi_0    pypi\r\n",
      "astroid                   2.5.8            py37h89c1867_0    conda-forge\r\n",
      "astropy                   3.2.3            py37h516909a_0    conda-forge\r\n",
      "atomicwrites              1.4.1              pyhd8ed1ab_0    conda-forge\r\n",
      "attrs                     23.1.0             pyh71513ae_1    conda-forge\r\n",
      "autopep8                  1.5.5              pyh44b312d_0    conda-forge\r\n",
      "babel                     2.12.1             pyhd8ed1ab_1    conda-forge\r\n",
      "backcall                  0.2.0              pyh9f0ad1d_0    conda-forge\r\n",
      "backports                 1.0                pyhd8ed1ab_3    conda-forge\r\n",
      "backports.functools_lru_cache 1.6.5              pyhd8ed1ab_0    conda-forge\r\n",
      "backports.shutil_get_terminal_size 1.0.0                      py_3    conda-forge\r\n",
      "backports.tempfile        1.0                        py_0    conda-forge\r\n",
      "backports.weakref         1.0.post1       pyhd8ed1ab_1003    conda-forge\r\n",
      "backports.zoneinfo        0.2.1            py37h540881e_5    conda-forge\r\n",
      "beautifulsoup4            4.12.2             pyha770c72_0    conda-forge\r\n",
      "bioinfokit                2.1.0                    pypi_0    pypi\r\n",
      "bitarray                  2.6.0            py37h540881e_0    conda-forge\r\n",
      "bkcharts                  0.2              py37h06a4308_1  \r\n",
      "black                     22.10.0          py37h89c1867_1    conda-forge\r\n",
      "blas                      2.3                    openblas    conda-forge\r\n",
      "bleach                    6.0.0              pyhd8ed1ab_0    conda-forge\r\n",
      "blosc                     1.21.4               h0f2a231_0    conda-forge\r\n",
      "bokeh                     2.4.3              pyhd8ed1ab_3    conda-forge\r\n",
      "boto                      2.49.0                     py_0    conda-forge\r\n",
      "bottleneck                1.3.5            py37hda87dfa_0    conda-forge\r\n",
      "brotli                    1.0.9                h166bdaf_9    conda-forge\r\n",
      "brotli-bin                1.0.9                h166bdaf_9    conda-forge\r\n",
      "brotlipy                  0.7.0           py37h540881e_1004    conda-forge\r\n",
      "bzip2                     1.0.8                h7f98852_4    conda-forge\r\n",
      "c-ares                    1.19.1               hd590300_0    conda-forge\r\n",
      "ca-certificates           2023.7.22            hbcca054_0    conda-forge\r\n",
      "cached-property           1.5.2                hd8ed1ab_1    conda-forge\r\n",
      "cached_property           1.5.2              pyha770c72_1    conda-forge\r\n",
      "cairo                     1.16.0            h18b612c_1001    conda-forge\r\n",
      "capnproto                 0.10.2               h6239696_0    conda-forge\r\n",
      "certifi                   2023.7.22          pyhd8ed1ab_0    conda-forge\r\n",
      "cffi                      1.15.1           py37h74dc2b5_0  \r\n",
      "chardet                   5.0.0            py37h89c1867_0    conda-forge\r\n",
      "charset-normalizer        3.2.0              pyhd8ed1ab_0    conda-forge\r\n",
      "click                     8.1.3            py37h89c1867_0    conda-forge\r\n",
      "click-plugins             1.1.1                    pypi_0    pypi\r\n",
      "cligj                     0.7.2                    pypi_0    pypi\r\n",
      "cloudpickle               2.2.1              pyhd8ed1ab_0    conda-forge\r\n",
      "clyent                    1.2.2                      py_1    conda-forge\r\n",
      "colorama                  0.4.6              pyhd8ed1ab_0    conda-forge\r\n",
      "conda                     22.9.0           py37h89c1867_1    conda-forge\r\n",
      "conda-build               3.21.4           py37h89c1867_0    conda-forge\r\n",
      "conda-content-trust       0.1.3              pyhd8ed1ab_0    conda-forge\r\n",
      "conda-env                 2.6.0                         1  \r\n",
      "conda-pack                0.7.0              pyh6c4a22f_0    conda-forge\r\n",
      "conda-package-handling    1.9.0            py37h540881e_0    conda-forge\r\n",
      "conda-repo-cli            1.0.24           py37h06a4308_0  \r\n",
      "conda-token               0.4.0              pyhd3eb1b0_0  \r\n",
      "conda-verify              3.4.2                      py_1  \r\n",
      "contextlib2               21.6.0             pyhd8ed1ab_0    conda-forge\r\n",
      "coverage                  6.5.0            py37h540881e_0    conda-forge\r\n",
      "cryptography              37.0.4           py37h38fbfac_0    conda-forge\r\n",
      "cudatoolkit               10.2.89             hdec6ad0_12    conda-forge\r\n",
      "cudnn                     8.2.1.32             h2c0ae14_0    conda-forge\r\n",
      "curl                      7.86.0               h7bff187_1    conda-forge\r\n",
      "cycler                    0.11.0             pyhd8ed1ab_0    conda-forge\r\n",
      "cython                    0.29.32          py37hd23a5d3_0    conda-forge\r\n",
      "cytoolz                   0.12.0           py37h540881e_0    conda-forge\r\n",
      "dask                      2021.4.0           pyhd3eb1b0_0  \r\n",
      "dask-core                 2021.4.0           pyhd3eb1b0_0  \r\n",
      "dbus                      1.13.6               he372182_0    conda-forge\r\n",
      "debugpy                   1.6.3            py37hd23a5d3_0    conda-forge\r\n",
      "decorator                 5.1.1              pyhd8ed1ab_0    conda-forge\r\n",
      "defusedxml                0.7.1              pyhd8ed1ab_0    conda-forge\r\n",
      "dendropy                  4.6.1                    pypi_0    pypi\r\n",
      "diff-match-patch          20230430           pyhd8ed1ab_0    conda-forge\r\n",
      "distributed               2021.4.1         py37h06a4308_0  \r\n",
      "docutils                  0.19             py37h89c1867_0    conda-forge\r\n",
      "entrypoints               0.4                pyhd8ed1ab_0    conda-forge\r\n",
      "enum34                    1.1.10           py37hc8dfbb8_2    conda-forge\r\n",
      "et_xmlfile                1.1.0              pyhd8ed1ab_0    conda-forge\r\n",
      "exceptiongroup            1.1.2              pyhd8ed1ab_0    conda-forge\r\n",
      "expat                     2.5.0                hcb278e6_1    conda-forge\r\n",
      "fastcache                 1.1.0            py37h540881e_4    conda-forge\r\n",
      "filelock                  3.12.2             pyhd8ed1ab_0    conda-forge\r\n",
      "fiona                     1.8.20                   pypi_0    pypi\r\n",
      "flake8                    3.8.4                      py_0    conda-forge\r\n",
      "flask                     2.2.3              pyhd8ed1ab_0    conda-forge\r\n",
      "flit-core                 3.9.0              pyhd8ed1ab_0    conda-forge\r\n",
      "fontconfig                2.14.2               h14ed4e7_0    conda-forge\r\n",
      "fonttools                 4.25.0             pyhd3eb1b0_0  \r\n",
      "freetype                  2.12.1               hca18f0e_1    conda-forge\r\n",
      "fribidi                   1.0.10               h36c2ea0_0    conda-forge\r\n",
      "fsspec                    2022.11.0          pyhd8ed1ab_0    conda-forge\r\n",
      "future                    0.18.2           py37h89c1867_5    conda-forge\r\n",
      "gast                      0.5.3                    pypi_0    pypi\r\n",
      "geopandas                 0.10.2                   pypi_0    pypi\r\n",
      "get_terminal_size         1.0.0                haa9412d_0  \r\n",
      "gevent                    21.1.2           py37h27cfd23_1  \r\n",
      "glib                      2.69.1               h4ff587b_1  \r\n",
      "glob2                     0.7                        py_0    conda-forge\r\n",
      "gmp                       6.2.1                h58526e2_0    conda-forge\r\n",
      "gmpy2                     2.1.2            py37h025e8b9_0    conda-forge\r\n",
      "google-pasta              0.2.0                    pypi_0    pypi\r\n",
      "graphite2                 1.3.14               h295c915_1  \r\n",
      "greenlet                  0.4.17           py37h5e8e339_2    conda-forge\r\n",
      "grpcio                    1.43.0                   pypi_0    pypi\r\n",
      "gsl                       2.7                  he838d99_0    conda-forge\r\n",
      "gst-plugins-base          1.14.0               hbbd80ab_1  \r\n",
      "gstreamer                 1.14.1               h5eee18b_1  \r\n",
      "h5py                      3.7.0           nompi_py37hc97082c_100    conda-forge\r\n",
      "harfbuzz                  2.8.0                h6f93f22_0  \r\n",
      "hdf5                      1.12.1               h69dfa17_1  \r\n",
      "heapdict                  1.0.1                      py_0    conda-forge\r\n",
      "helpdev                   0.7.1              pyhd8ed1ab_0    conda-forge\r\n",
      "html5lib                  1.1                pyh9f0ad1d_0    conda-forge\r\n",
      "huggingface-hub           0.10.1                   pypi_0    pypi\r\n",
      "hypothesis                6.56.3           py37h89c1867_1    conda-forge\r\n",
      "icu                       58.2              hf484d3e_1000    conda-forge\r\n",
      "idna                      3.4                pyhd8ed1ab_0    conda-forge\r\n",
      "ijson                     3.1.3              pyhd3deb0d_0    conda-forge\r\n",
      "imagecodecs-lite          2019.12.3        py37hc105733_5    conda-forge\r\n",
      "imageio                   2.31.1             pyh24c5eb1_0    conda-forge\r\n",
      "imagesize                 1.4.1              pyhd8ed1ab_0    conda-forge\r\n",
      "importlib-metadata        4.10.0                   pypi_0    pypi\r\n",
      "importlib_metadata        4.11.4               hd8ed1ab_0    conda-forge\r\n",
      "importlib_resources       6.0.0              pyhd8ed1ab_0    conda-forge\r\n",
      "iniconfig                 2.0.0              pyhd8ed1ab_0    conda-forge\r\n",
      "intel-openmp              2022.1.0          h9e868ea_3769  \r\n",
      "intervaltree              3.1.0              pyhd8ed1ab_1    conda-forge\r\n",
      "ipykernel                 6.15.0             pyh210e3f2_0    conda-forge\r\n",
      "ipython                   7.33.0           py37h89c1867_0    conda-forge\r\n",
      "ipython_genutils          0.2.0                      py_1    conda-forge\r\n",
      "ipywidgets                8.0.7              pyhd8ed1ab_0    conda-forge\r\n",
      "isort                     5.10.1             pyhd8ed1ab_0    conda-forge\r\n",
      "itsdangerous              2.1.2              pyhd8ed1ab_0    conda-forge\r\n",
      "jbig                      2.1               h7f98852_2003    conda-forge\r\n",
      "jdcal                     1.4.1                      py_0    conda-forge\r\n",
      "jedi                      0.17.2           py37h89c1867_2    conda-forge\r\n",
      "jeepney                   0.8.0              pyhd8ed1ab_0    conda-forge\r\n",
      "jinja2                    3.1.2              pyhd8ed1ab_1    conda-forge\r\n",
      "joblib                    1.3.0              pyhd8ed1ab_1    conda-forge\r\n",
      "jpeg                      9e                   h0b41bf4_3    conda-forge\r\n",
      "json5                     0.9.14             pyhd8ed1ab_0    conda-forge\r\n",
      "jsonschema                4.17.3             pyhd8ed1ab_0    conda-forge\r\n",
      "jupyter                   1.0.0            py37h89c1867_7    conda-forge\r\n",
      "jupyter_client            7.0.6              pyhd8ed1ab_0    conda-forge\r\n",
      "jupyter_console           6.4.4              pyhd8ed1ab_0    conda-forge\r\n",
      "jupyter_core              4.9.1            py37h89c1867_0    conda-forge\r\n",
      "jupyter_server            1.23.2             pyhd8ed1ab_0    conda-forge\r\n",
      "jupyterlab                3.5.3              pyhd8ed1ab_0    conda-forge\r\n",
      "jupyterlab_pygments       0.2.2              pyhd8ed1ab_0    conda-forge\r\n",
      "jupyterlab_server         2.24.0             pyhd8ed1ab_0    conda-forge\r\n",
      "jupyterlab_widgets        3.0.8              pyhd8ed1ab_0    conda-forge\r\n",
      "keras-applications        1.0.8                    pypi_0    pypi\r\n",
      "keras-preprocessing       1.1.2                    pypi_0    pypi\r\n",
      "keyring                   23.2.1           py37h89c1867_0    conda-forge\r\n",
      "keyutils                  1.6.1                h166bdaf_0    conda-forge\r\n",
      "kiwisolver                1.4.4            py37h7cecad7_0    conda-forge\r\n",
      "kmer-jellyfish            2.3.0                h9f5acd7_3    bioconda\r\n",
      "krb5                      1.19.3               h3790be6_0    conda-forge\r\n",
      "lazy-object-proxy         1.6.0            py37h27cfd23_0  \r\n",
      "lcms2                     2.14                 h6ed2654_0    conda-forge\r\n",
      "ld_impl_linux-64          2.40                 h41732ed_0    conda-forge\r\n",
      "lerc                      4.0.0                h27087fc_0    conda-forge\r\n",
      "libarchive                3.5.2                hb890918_3    conda-forge\r\n",
      "libblas                   3.9.0                3_openblas    conda-forge\r\n",
      "libbrotlicommon           1.0.9                h166bdaf_9    conda-forge\r\n",
      "libbrotlidec              1.0.9                h166bdaf_9    conda-forge\r\n",
      "libbrotlienc              1.0.9                h166bdaf_9    conda-forge\r\n",
      "libcblas                  3.9.0                3_openblas    conda-forge\r\n",
      "libcurl                   7.86.0               h7bff187_1    conda-forge\r\n",
      "libdeflate                1.14                 h166bdaf_0    conda-forge\r\n",
      "libedit                   3.1.20191231         he28a2e2_2    conda-forge\r\n",
      "libev                     4.33                 h516909a_1    conda-forge\r\n",
      "libexpat                  2.5.0                hcb278e6_1    conda-forge\r\n",
      "libffi                    3.3                  h58526e2_2    conda-forge\r\n",
      "libgcc-ng                 13.1.0               he5830b7_0    conda-forge\r\n",
      "libgfortran-ng            7.5.0               h14aa051_20    conda-forge\r\n",
      "libgfortran4              7.5.0               h14aa051_20    conda-forge\r\n",
      "libiconv                  1.17                 h166bdaf_0    conda-forge\r\n",
      "liblapack                 3.9.0                3_openblas    conda-forge\r\n",
      "liblapacke                3.9.0                3_openblas    conda-forge\r\n",
      "liblief                   0.12.3               h6a678d5_0  \r\n",
      "libllvm11                 11.1.0               he0ac6c6_5    conda-forge\r\n",
      "libllvm9                  9.0.1           default_hc23dcda_7    conda-forge\r\n",
      "libnghttp2                1.47.0               hdcd2b5c_1    conda-forge\r\n",
      "libopenblas               0.3.12          pthreads_hb3c22a3_1    conda-forge\r\n",
      "libpng                    1.6.39               h753d276_0    conda-forge\r\n",
      "libsodium                 1.0.18               h36c2ea0_1    conda-forge\r\n",
      "libspatialindex           1.9.3                h9c3ff4c_4    conda-forge\r\n",
      "libsqlite                 3.42.0               h2797004_0    conda-forge\r\n",
      "libssh2                   1.10.0               haa6b8db_3    conda-forge\r\n",
      "libstdcxx-ng              13.1.0               hfd8a6a1_0    conda-forge\r\n",
      "libtiff                   4.4.0                h82bc61c_5    conda-forge\r\n",
      "libtool                   2.4.7                h27087fc_0    conda-forge\r\n",
      "libuuid                   2.38.1               h0b41bf4_0    conda-forge\r\n",
      "libuv                     1.44.2               h166bdaf_0    conda-forge\r\n",
      "libwebp-base              1.3.1                hd590300_0    conda-forge\r\n",
      "libxcb                    1.13              h7f98852_1004    conda-forge\r\n",
      "libxml2                   2.9.14               h74e7548_0  \r\n",
      "libxslt                   1.1.35               h4e12654_0  \r\n",
      "libzlib                   1.2.13               hd590300_5    conda-forge\r\n",
      "llvm-openmp               16.0.6               h4dfa4b3_0    conda-forge\r\n",
      "llvmlite                  0.39.1           py37h0761922_0    conda-forge\r\n",
      "locket                    1.0.0              pyhd8ed1ab_0    conda-forge\r\n",
      "lxml                      4.9.1            py37h540881e_0    conda-forge\r\n",
      "lz4-c                     1.9.4                hcb278e6_0    conda-forge\r\n",
      "lzo                       2.10              h516909a_1000    conda-forge\r\n",
      "markdown                  3.3.6                    pypi_0    pypi\r\n",
      "markupsafe                2.1.1            py37h540881e_1    conda-forge\r\n",
      "mash                      2.3                  hd3113c8_6    bioconda\r\n",
      "matplotlib                3.5.3            py37h89c1867_2    conda-forge\r\n",
      "matplotlib-base           3.5.3            py37hf395dca_2    conda-forge\r\n",
      "matplotlib-inline         0.1.6              pyhd8ed1ab_0    conda-forge\r\n",
      "matplotlib-venn           0.11.7                   pypi_0    pypi\r\n",
      "mccabe                    0.6.1                      py_1    conda-forge\r\n",
      "mistune                   2.0.5              pyhd8ed1ab_0    conda-forge\r\n",
      "mkl                       2022.2.1         h84fe81f_16997    conda-forge\r\n",
      "mkl-service               2.4.0            py37h94185c7_0    conda-forge\r\n",
      "mkl_fft                   1.3.1            py37h90e98c2_3    conda-forge\r\n",
      "mkl_random                1.2.2            py37h693438c_1    conda-forge\r\n",
      "mock                      5.1.0              pyhd8ed1ab_0    conda-forge\r\n",
      "more-itertools            10.0.0             pyhd8ed1ab_0    conda-forge\r\n",
      "mpc                       1.3.1                hfe3b2da_0    conda-forge\r\n",
      "mpfr                      4.2.0                hb012696_0    conda-forge\r\n",
      "mpmath                    1.3.0              pyhd8ed1ab_0    conda-forge\r\n",
      "msgpack-python            1.0.4            py37h7cecad7_0    conda-forge\r\n",
      "multipledispatch          0.6.0                      py_0    conda-forge\r\n",
      "munch                     2.5.0                    pypi_0    pypi\r\n",
      "munkres                   1.1.4              pyh9f0ad1d_0    conda-forge\r\n",
      "mypy_extensions           1.0.0              pyha770c72_0    conda-forge\r\n",
      "navigator-updater         0.2.1                    py37_0  \r\n",
      "nbclassic                 1.0.0              pyhb4ecaf3_1    conda-forge\r\n",
      "nbclient                  0.7.0              pyhd8ed1ab_0    conda-forge\r\n",
      "nbconvert                 7.2.5              pyhd8ed1ab_0    conda-forge\r\n",
      "nbconvert-core            7.2.5              pyhd8ed1ab_0    conda-forge\r\n",
      "nbconvert-pandoc          7.2.5              pyhd8ed1ab_0    conda-forge\r\n",
      "nbformat                  5.7.0              pyhd8ed1ab_0    conda-forge\r\n",
      "ncurses                   6.4                  hcb278e6_0    conda-forge\r\n",
      "nest-asyncio              1.5.6              pyhd8ed1ab_0    conda-forge\r\n",
      "networkx                  2.6.3              pyhd8ed1ab_1    conda-forge\r\n",
      "nltk                      3.8.1              pyhd8ed1ab_0    conda-forge\r\n",
      "nomkl                     3.0                           0  \r\n",
      "nose                      1.3.7                   py_1006    conda-forge\r\n",
      "notebook                  6.5.4              pyha770c72_0    conda-forge\r\n",
      "notebook-shim             0.2.3              pyhd8ed1ab_0    conda-forge\r\n",
      "numba                     0.56.3           py37hf081915_0    conda-forge\r\n",
      "numexpr                   2.8.3           py37h85a3170_100    conda-forge\r\n",
      "numpy                     1.20.3           py37h038b26d_0    conda-forge\r\n",
      "numpy-base                1.18.5           py37h2f8d375_0  \r\n",
      "numpydoc                  1.5.0              pyhd8ed1ab_0    conda-forge\r\n",
      "olefile                   0.46               pyh9f0ad1d_1    conda-forge\r\n",
      "openjpeg                  2.5.0                h7d73246_1    conda-forge\r\n",
      "openpyxl                  3.0.10           py37h540881e_1    conda-forge\r\n",
      "openssl                   1.1.1u               hd590300_0    conda-forge\r\n",
      "packaging                 23.1               pyhd8ed1ab_0    conda-forge\r\n",
      "pandas                    1.3.5            py37he8f5f7f_0    conda-forge\r\n",
      "pandoc                    3.1.3                h32600fe_0    conda-forge\r\n",
      "pandocfilters             1.5.0              pyhd8ed1ab_0    conda-forge\r\n",
      "pango                     1.42.4               h7062337_4    conda-forge\r\n",
      "parso                     0.7.0                      py_0  \r\n",
      "partd                     1.4.0              pyhd8ed1ab_0    conda-forge\r\n",
      "patchelf                  0.17.2               h58526e2_0    conda-forge\r\n",
      "path                      16.5.0           py37h89c1867_0    conda-forge\r\n",
      "path.py                   12.5.0                        0    conda-forge\r\n",
      "pathlib                   1.0.1            py37h89c1867_6    conda-forge\r\n",
      "pathlib2                  2.3.7.post1      py37h89c1867_1    conda-forge\r\n",
      "pathspec                  0.11.1             pyhd8ed1ab_0    conda-forge\r\n",
      "pathtools                 0.1.2                      py_1    conda-forge\r\n",
      "patsy                     0.5.3              pyhd8ed1ab_0    conda-forge\r\n",
      "pcre                      8.45                 h9c3ff4c_0    conda-forge\r\n",
      "pep8                      1.7.1                      py_0    conda-forge\r\n",
      "pexpect                   4.8.0              pyh1a96a4e_2    conda-forge\r\n",
      "pickleshare               0.7.5                   py_1003    conda-forge\r\n",
      "pillow                    9.2.0            py37h850a105_2    conda-forge\r\n",
      "pip                       23.2.1             pyhd8ed1ab_0    conda-forge\r\n",
      "pixman                    0.38.0            h516909a_1003    conda-forge\r\n",
      "pkginfo                   1.9.6              pyhd8ed1ab_0    conda-forge\r\n",
      "pkgutil-resolve-name      1.3.10             pyhd8ed1ab_0    conda-forge\r\n",
      "platformdirs              3.9.1              pyhd8ed1ab_0    conda-forge\r\n",
      "pluggy                    1.0.0            py37h89c1867_3    conda-forge\r\n",
      "ply                       3.11                       py_1    conda-forge\r\n",
      "prometheus_client         0.17.1             pyhd8ed1ab_0    conda-forge\r\n",
      "prompt-toolkit            3.0.39             pyha770c72_0    conda-forge\r\n",
      "prompt_toolkit            3.0.39               hd8ed1ab_0    conda-forge\r\n",
      "protobuf                  3.19.3                   pypi_0    pypi\r\n",
      "psutil                    5.9.0            py37h5eee18b_0  \r\n",
      "pthread-stubs             0.4               h36c2ea0_1001    conda-forge\r\n",
      "ptyprocess                0.7.0              pyhd3deb0d_0    conda-forge\r\n",
      "py                        1.11.0             pyh6c4a22f_0    conda-forge\r\n",
      "py-lief                   0.12.3           py37h6a678d5_0  \r\n",
      "pycodestyle               2.6.0              pyh9f0ad1d_0    conda-forge\r\n",
      "pycosat                   0.6.4            py37h540881e_0    conda-forge\r\n",
      "pycparser                 2.21               pyhd8ed1ab_0    conda-forge\r\n",
      "pycrypto                  2.6.1           py37h5e8e339_1006    conda-forge\r\n",
      "pycurl                    7.45.1           py37haaec8a5_2    conda-forge\r\n",
      "pydocstyle                6.1.1              pyhd8ed1ab_0    conda-forge\r\n",
      "pyflakes                  2.2.0              pyh9f0ad1d_0    conda-forge\r\n",
      "pygments                  2.15.1             pyhd8ed1ab_0    conda-forge\r\n",
      "pyjwt                     2.8.0              pyhd8ed1ab_0    conda-forge\r\n",
      "pylint                    2.7.2            py37h89c1867_0    conda-forge\r\n",
      "pyls-black                0.4.6              pyh9f0ad1d_0    conda-forge\r\n",
      "pyls-spyder               0.3.2              pyhd3eb1b0_0  \r\n",
      "pyodbc                    4.0.34           py37hd23a5d3_0    conda-forge\r\n",
      "pyopenssl                 22.0.0             pyhd8ed1ab_1    conda-forge\r\n",
      "pyparsing                 3.1.0              pyhd8ed1ab_0    conda-forge\r\n",
      "pyproj                    3.2.1                    pypi_0    pypi\r\n",
      "pyqt                      5.9.2            py37hcca6a23_4    conda-forge\r\n",
      "pyrsistent                0.18.0           py37heee7806_0  \r\n",
      "pysocks                   1.7.1            py37h89c1867_5    conda-forge\r\n",
      "pytables                  3.7.0            py37h5dea08b_0    conda-forge\r\n",
      "pytest                    7.4.0              pyhd8ed1ab_0    conda-forge\r\n",
      "pytest-arraydiff          0.5.0              pyhd8ed1ab_0    conda-forge\r\n",
      "pytest-astropy            0.10.0             pyhd8ed1ab_0    conda-forge\r\n",
      "pytest-astropy-header     0.2.2              pyhd8ed1ab_0    conda-forge\r\n",
      "pytest-cov                4.1.0              pyhd8ed1ab_0    conda-forge\r\n",
      "pytest-doctestplus        0.13.0             pyhd8ed1ab_0    conda-forge\r\n",
      "pytest-filter-subpackage  0.1.1                      py_0    conda-forge\r\n",
      "pytest-mock               3.11.1             pyhd8ed1ab_0    conda-forge\r\n",
      "pytest-openfiles          0.5.0                      py_0    conda-forge\r\n",
      "pytest-remotedata         0.4.0              pyhd8ed1ab_0    conda-forge\r\n",
      "python                    3.7.11               h12debd9_0  \r\n",
      "python-dateutil           2.8.2              pyhd8ed1ab_0    conda-forge\r\n",
      "python-fastjsonschema     2.18.0             pyhd8ed1ab_0    conda-forge\r\n",
      "python-jsonrpc-server     0.4.0              pyh9f0ad1d_0    conda-forge\r\n",
      "python-language-server    0.36.2             pyhd8ed1ab_0    conda-forge\r\n",
      "python-libarchive-c       4.0              py37h89c1867_1    conda-forge\r\n",
      "python_abi                3.7                     2_cp37m    conda-forge\r\n",
      "pytoolconfig              1.2.5              pyhd8ed1ab_0    conda-forge\r\n",
      "pytz                      2023.3             pyhd8ed1ab_0    conda-forge\r\n",
      "pywavelets                1.3.0            py37hda87dfa_1    conda-forge\r\n",
      "pyxdg                     0.28               pyhd8ed1ab_0    conda-forge\r\n",
      "pyyaml                    6.0              py37h540881e_4    conda-forge\r\n",
      "pyzmq                     24.0.1           py37h0c0c2a8_0    conda-forge\r\n",
      "qdarkstyle                2.8.1              pyhd8ed1ab_2    conda-forge\r\n",
      "qt                        5.9.7                h5867ecd_1  \r\n",
      "qtawesome                 1.2.3              pyhd8ed1ab_0    conda-forge\r\n",
      "qtconsole                 5.4.3              pyhd8ed1ab_0    conda-forge\r\n",
      "qtconsole-base            5.4.3              pyha770c72_0    conda-forge\r\n",
      "qtpy                      2.3.1              pyhd8ed1ab_0    conda-forge\r\n",
      "readline                  8.2                  h8228510_1    conda-forge\r\n",
      "regex                     2022.7.9         py37h5eee18b_0  \r\n",
      "requests                  2.31.0             pyhd8ed1ab_0    conda-forge\r\n",
      "requests-toolbelt         1.0.0              pyhd8ed1ab_0    conda-forge\r\n",
      "ripgrep                   13.0.0               h2f28480_2    conda-forge\r\n",
      "rope                      1.9.0              pyhd8ed1ab_0    conda-forge\r\n",
      "rtree                     1.0.1            py37h0b55af0_0    conda-forge\r\n",
      "ruamel_yaml               0.15.80         py37h540881e_1007    conda-forge\r\n",
      "scikit-image              0.19.3           py37hfb7772e_1    conda-forge\r\n",
      "scikit-learn              1.0.2            py37hf9e9bfc_0    conda-forge\r\n",
      "scipy                     1.5.3            py37h8911b10_0    conda-forge\r\n",
      "seaborn                   0.12.2               hd8ed1ab_0    conda-forge\r\n",
      "seaborn-base              0.12.2             pyhd8ed1ab_0    conda-forge\r\n",
      "secretstorage             3.3.3            py37h89c1867_0    conda-forge\r\n",
      "send2trash                1.8.2              pyh41d4057_0    conda-forge\r\n",
      "sentencepiece             0.1.97                   pypi_0    pypi\r\n",
      "seqtk                     1.3                  h7132678_4    bioconda\r\n",
      "setuptools                59.8.0           py37h89c1867_1    conda-forge\r\n",
      "shapely                   1.8.0                    pypi_0    pypi\r\n",
      "simplegeneric             0.8.1                      py_1    conda-forge\r\n",
      "singledispatch            3.6.1              pyh44b312d_0    conda-forge\r\n",
      "sip                       4.19.8           py37hf484d3e_0  \r\n",
      "six                       1.16.0             pyh6c4a22f_0    conda-forge\r\n",
      "sklearn                   0.0                      pypi_0    pypi\r\n",
      "skmer                     3.1.0              pyhfa5458b_1    bioconda\r\n",
      "snappy                    1.1.10               h9fff704_0    conda-forge\r\n",
      "sniffio                   1.3.0              pyhd8ed1ab_0    conda-forge\r\n",
      "snowballstemmer           2.2.0              pyhd8ed1ab_0    conda-forge\r\n",
      "sortedcollections         2.1.0              pyhd8ed1ab_0    conda-forge\r\n",
      "sortedcontainers          2.4.0              pyhd8ed1ab_0    conda-forge\r\n",
      "soupsieve                 2.3.2.post1        pyhd8ed1ab_0    conda-forge\r\n",
      "sphinx                    5.3.0              pyhd8ed1ab_0    conda-forge\r\n",
      "sphinxcontrib             1.0                      py37_1  \r\n",
      "sphinxcontrib-applehelp   1.0.4              pyhd8ed1ab_0    conda-forge\r\n",
      "sphinxcontrib-devhelp     1.0.2                      py_0    conda-forge\r\n",
      "sphinxcontrib-htmlhelp    2.0.1              pyhd8ed1ab_0    conda-forge\r\n",
      "sphinxcontrib-jsmath      1.0.1                      py_0    conda-forge\r\n",
      "sphinxcontrib-qthelp      1.0.3                      py_0    conda-forge\r\n",
      "sphinxcontrib-serializinghtml 1.1.5              pyhd8ed1ab_2    conda-forge\r\n",
      "sphinxcontrib-websupport  1.2.4              pyhd8ed1ab_1    conda-forge\r\n",
      "spyder                    4.2.5            py37h89c1867_0    conda-forge\r\n",
      "spyder-kernels            1.10.2           py37h06a4308_0  \r\n",
      "sqlalchemy                1.3.24           py37h540881e_1    conda-forge\r\n",
      "sqlite                    3.42.0               h2c6b66d_0    conda-forge\r\n",
      "statsmodels               0.12.1           py37ha21ca33_1    conda-forge\r\n",
      "sympy                     1.10.1           py37h89c1867_1    conda-forge\r\n",
      "tabulate                  0.9.0                    pypi_0    pypi\r\n",
      "tbb                       2021.6.0             h924138e_1    conda-forge\r\n",
      "tblib                     1.7.0              pyhd8ed1ab_0    conda-forge\r\n",
      "tensorboard               1.14.0                   pypi_0    pypi\r\n",
      "tensorflow-estimator      1.14.0                   pypi_0    pypi\r\n",
      "tensorflow-gpu            1.14.0                   pypi_0    pypi\r\n",
      "termcolor                 1.1.0                    pypi_0    pypi\r\n",
      "terminado                 0.17.1             pyh41d4057_0    conda-forge\r\n",
      "testpath                  0.6.0              pyhd8ed1ab_0    conda-forge\r\n",
      "textdistance              4.5.0              pyhd8ed1ab_0    conda-forge\r\n",
      "textformats               1.2.2                    pypi_0    pypi\r\n",
      "textwrap3                 0.9.2                    pypi_0    pypi\r\n",
      "threadpoolctl             3.1.0              pyh8a188c0_0    conda-forge\r\n",
      "three-merge               0.1.1              pyh9f0ad1d_0    conda-forge\r\n",
      "tifffile                  2019.7.26.2              py37_0    conda-forge\r\n",
      "tinycss2                  1.2.1              pyhd8ed1ab_0    conda-forge\r\n",
      "tk                        8.6.12               h27826a3_0    conda-forge\r\n",
      "tokenizers                0.13.1                   pypi_0    pypi\r\n",
      "toml                      0.10.2             pyhd8ed1ab_0    conda-forge\r\n",
      "tomli                     2.0.1              pyhd8ed1ab_0    conda-forge\r\n",
      "toolz                     0.12.0             pyhd8ed1ab_0    conda-forge\r\n",
      "torch                     1.11.0                   pypi_0    pypi\r\n",
      "tornado                   6.2              py37h540881e_0    conda-forge\r\n",
      "tqdm                      4.65.0             pyhd8ed1ab_1    conda-forge\r\n",
      "traitlets                 5.9.0              pyhd8ed1ab_0    conda-forge\r\n",
      "transformers              4.24.0                   pypi_0    pypi\r\n",
      "typed-ast                 1.4.3            py37h7f8727e_1  \r\n",
      "typing-extensions         4.7.1                hd8ed1ab_0    conda-forge\r\n",
      "typing_extensions         4.7.1              pyha770c72_0    conda-forge\r\n",
      "tzdata                    2023c                h71feb2d_0    conda-forge\r\n",
      "ujson                     5.5.0            py37hd23a5d3_0    conda-forge\r\n",
      "unicodecsv                0.14.1                     py_1    conda-forge\r\n",
      "unixodbc                  2.3.10               h583eb01_0    conda-forge\r\n",
      "urllib3                   1.26.15            pyhd8ed1ab_0    conda-forge\r\n",
      "watchdog                  1.0.2            py37h06a4308_1  \r\n",
      "wcwidth                   0.2.6              pyhd8ed1ab_0    conda-forge\r\n",
      "webencodings              0.5.1                      py_1    conda-forge\r\n",
      "websocket-client          1.6.1              pyhd8ed1ab_0    conda-forge\r\n",
      "werkzeug                  2.2.3              pyhd8ed1ab_0    conda-forge\r\n",
      "wheel                     0.41.0             pyhd8ed1ab_0    conda-forge\r\n",
      "widgetsnbextension        4.0.8              pyhd8ed1ab_0    conda-forge\r\n",
      "wrapt                     1.12.1           py37h5e8e339_3    conda-forge\r\n",
      "wurlitzer                 3.0.3              pyhd8ed1ab_0    conda-forge\r\n",
      "xlrd                      2.0.1              pyhd8ed1ab_3    conda-forge\r\n",
      "xlsxwriter                3.1.2              pyhd8ed1ab_0    conda-forge\r\n",
      "xlwt                      1.3.0                      py_1    conda-forge\r\n",
      "xmltodict                 0.13.0             pyhd8ed1ab_0    conda-forge\r\n",
      "xorg-kbproto              1.0.7             h7f98852_1002    conda-forge\r\n",
      "xorg-libice               1.1.1                hd590300_0    conda-forge\r\n",
      "xorg-libsm                1.2.4                h7391055_0    conda-forge\r\n",
      "xorg-libx11               1.7.2                h7f98852_0    conda-forge\r\n",
      "xorg-libxau               1.0.11               hd590300_0    conda-forge\r\n",
      "xorg-libxdmcp             1.1.3                h7f98852_0    conda-forge\r\n",
      "xorg-libxext              1.3.4                h0b41bf4_2    conda-forge\r\n",
      "xorg-libxrender           0.9.10            h7f98852_1003    conda-forge\r\n",
      "xorg-renderproto          0.11.1            h7f98852_1002    conda-forge\r\n",
      "xorg-xextproto            7.3.0             h0b41bf4_1003    conda-forge\r\n",
      "xorg-xproto               7.0.31            h7f98852_1007    conda-forge\r\n",
      "xz                        5.2.6                h166bdaf_0    conda-forge\r\n",
      "yaml                      0.2.5                h7f98852_2    conda-forge\r\n",
      "yapf                      0.33.0             pyhd8ed1ab_1    conda-forge\r\n",
      "zeromq                    4.3.4                h9c3ff4c_1    conda-forge\r\n",
      "zict                      2.2.0              pyhd8ed1ab_0    conda-forge\r\n",
      "zipp                      3.10.0             pyhd8ed1ab_0    conda-forge\r\n",
      "zlib                      1.2.13               hd590300_5    conda-forge\r\n",
      "zope                      1.0                      py37_1  \r\n",
      "zope.event                5.0                pyhd8ed1ab_0    conda-forge\r\n",
      "zope.interface            5.4.0            py37h540881e_2    conda-forge\r\n",
      "zstd                      1.5.2                hfc55251_7    conda-forge\r\n"
     ]
    }
   ],
   "source": [
    "!conda list"
   ]
  },
  {
   "cell_type": "code",
   "execution_count": 4,
   "metadata": {},
   "outputs": [],
   "source": [
    "random_seed = 42 # or any of your favorite number \n",
    "torch.manual_seed(random_seed)\n",
    "torch.cuda.manual_seed(random_seed)\n",
    "torch.backends.cudnn.deterministic = True\n",
    "torch.backends.cudnn.benchmark = False\n",
    "\n",
    "np.random.seed(random_seed)\n",
    "random.seed(random_seed)"
   ]
  },
  {
   "cell_type": "code",
   "execution_count": 5,
   "metadata": {},
   "outputs": [],
   "source": [
    "yrs = '6yrs'"
   ]
  },
  {
   "cell_type": "code",
   "execution_count": 6,
   "metadata": {},
   "outputs": [
    {
     "name": "stdout",
     "output_type": "stream",
     "text": [
      "1816\n",
      "53\n"
     ]
    }
   ],
   "source": [
    "Final_Samples_path = 'Final Samples/Final_Samples_6yrs.json'\n",
    "Final_Samples = json.load(open(Final_Samples_path, 'r')) \n",
    "usable_samples_ADNI = json.load(open('./usable_samples_ADNI.json'))\n",
    "PRS_orig_feature_matrix = np.load('./PRS_feature_matrix.npy').astype(np.float32)\n",
    "# normalize feature matrix\n",
    "PRS_orig_feature_matrix = (PRS_orig_feature_matrix - PRS_orig_feature_matrix.mean(0))/PRS_orig_feature_matrix.std(0)\n",
    "# PRS_orig_feature_matrix.shape[1], len(usable_samples_ADNI), usable_samples_ADNI\n",
    "num_features=PRS_orig_feature_matrix.shape[1]\n",
    "print(len( usable_samples_ADNI ) )\n",
    "print(num_features)"
   ]
  },
  {
   "cell_type": "code",
   "execution_count": 7,
   "metadata": {},
   "outputs": [
    {
     "name": "stdout",
     "output_type": "stream",
     "text": [
      "shape (1817, 14)\n",
      "(1817, 2) (1817, 2)\n",
      "                FID               IID       PC1       PC2       PC3       PC4  \\\n",
      "0  ADNI3_036_S_6231  ADNI3_036_S_6231 -0.006724 -0.010617  0.001596 -0.000460   \n",
      "1  ADNI3_006_S_6277  ADNI3_006_S_6277 -0.010432 -0.010269  0.012757  0.006921   \n",
      "2  ADNI3_129_S_6146  ADNI3_129_S_6146 -0.004919 -0.011656 -0.035521  0.064641   \n",
      "3  ADNI3_033_S_6352  ADNI3_033_S_6352 -0.014069 -0.010279  0.020014  0.053023   \n",
      "4  ADNI3_027_S_6183  ADNI3_027_S_6183 -0.010766 -0.012370 -0.010960  0.029830   \n",
      "\n",
      "        PC5       PC6       PC7       PC8       PC9      PC10  PTGENDER    AGE  \n",
      "0 -0.013131 -0.005855 -0.005142 -0.009063 -0.001739 -0.012863         1  0.691  \n",
      "1 -0.014958 -0.005860 -0.027775 -0.009632  0.054966  0.087390         1  0.707  \n",
      "2  0.012094  0.003860  0.035955  0.006561  0.019736 -0.023304         1  0.655  \n",
      "3  0.023691  0.000247 -0.002273 -0.030627 -0.053461  0.049984         0  0.714  \n",
      "4 -0.019520 -0.001955  0.023844  0.079138  0.002207  0.008892         0  0.656  \n"
     ]
    }
   ],
   "source": [
    "# covar_df = pd.read_csv('./COVAR_FILE_bigger_dataset.txt', ' ') \n",
    "covar_df = pd.read_csv('./COVAR_FILE_bigger_dataset.txt', ' ') \n",
    "print(\"shape\",covar_df.shape)\n",
    "print( covar_df[['AGE', 'PTGENDER']].shape, covar_df[['AGE', 'PTGENDER']].dropna().shape ) \n",
    "# PC - Principal Component\n",
    "\n",
    "# trying to normalize AGE with having max age of 100\n",
    "covar_df['AGE'] = covar_df['AGE'] / 100.0\n",
    "print( covar_df.head() )"
   ]
  },
  {
   "cell_type": "markdown",
   "metadata": {},
   "source": [
    "# Add APOE4 "
   ]
  },
  {
   "cell_type": "code",
   "execution_count": 8,
   "metadata": {},
   "outputs": [
    {
     "name": "stdout",
     "output_type": "stream",
     "text": [
      "             PTID  Month    AGE  PTGENDER  APOE4\n",
      "669    002_S_0295      0  0.848         0    1.0\n",
      "931    002_S_0413      0  0.763         1    0.0\n",
      "1238   002_S_0559      0  0.793         0    1.0\n",
      "1333   002_S_0619      0  0.775         0    2.0\n",
      "11762  002_S_0685      0  0.896         1    0.0\n"
     ]
    }
   ],
   "source": [
    "# covar_df = pd.read_csv('./COVAR_FILE_bigger_dataset.txt', ' ') \n",
    "adnimerge = pd.read_csv('ADNIMERGE_NEW.csv') \n",
    "adnimerge = adnimerge[['PTID', 'Month', 'AGE', 'PTGENDER', 'APOE4']]\n",
    "adnimerge = adnimerge.sort_values(['PTID', 'Month']).drop_duplicates(['PTID'], keep='first')\n",
    "adnimerge['AGE'] = adnimerge['AGE'] / 100.0\n",
    "adnimerge['PTGENDER'] = adnimerge['PTGENDER'].replace({'Female': 1, 'Male': 0})\n",
    "\n",
    "print( adnimerge.head() )\n",
    "# print(\"shape\",covar_df.shape)\n",
    "# print( covar_df[['AGE', 'PTGENDER']].shape, covar_df[['AGE', 'PTGENDER']].dropna().shape ) \n",
    "# # PC - Principal Component\n",
    "\n",
    "# # trying to normalize AGE with having max age of 100\n",
    "# covar_df['AGE'] = covar_df['AGE'] / 100.0\n",
    "# print( covar_df.head() )"
   ]
  },
  {
   "cell_type": "code",
   "execution_count": 9,
   "metadata": {},
   "outputs": [
    {
     "name": "stdout",
     "output_type": "stream",
     "text": [
      "                FID               IID       PC1       PC2       PC3       PC4  \\\n",
      "0  ADNI3_036_S_6231  ADNI3_036_S_6231 -0.006724 -0.010617  0.001596 -0.000460   \n",
      "1  ADNI3_006_S_6277  ADNI3_006_S_6277 -0.010432 -0.010269  0.012757  0.006921   \n",
      "2  ADNI3_129_S_6146  ADNI3_129_S_6146 -0.004919 -0.011656 -0.035521  0.064641   \n",
      "3  ADNI3_033_S_6352  ADNI3_033_S_6352 -0.014069 -0.010279  0.020014  0.053023   \n",
      "4  ADNI3_027_S_6183  ADNI3_027_S_6183 -0.010766 -0.012370 -0.010960  0.029830   \n",
      "\n",
      "        PC5       PC6       PC7       PC8       PC9      PC10  PTGENDER_x  \\\n",
      "0 -0.013131 -0.005855 -0.005142 -0.009063 -0.001739 -0.012863           1   \n",
      "1 -0.014958 -0.005860 -0.027775 -0.009632  0.054966  0.087390           1   \n",
      "2  0.012094  0.003860  0.035955  0.006561  0.019736 -0.023304           1   \n",
      "3  0.023691  0.000247 -0.002273 -0.030627 -0.053461  0.049984           0   \n",
      "4 -0.019520 -0.001955  0.023844  0.079138  0.002207  0.008892           0   \n",
      "\n",
      "   AGE_x        PTID  Month  AGE_y  PTGENDER_y  APOE4  \n",
      "0  0.691  036_S_6231      0  0.691           1    1.0  \n",
      "1  0.707  006_S_6277      0  0.707           1    0.0  \n",
      "2  0.655  129_S_6146      0  0.655           1    0.0  \n",
      "3  0.714  033_S_6352      0  0.714           0    1.0  \n",
      "4  0.656  027_S_6183      0  0.656           0    0.0  \n"
     ]
    }
   ],
   "source": [
    "covar_df['PTID'] =  covar_df['IID'].str.split('_').str[1:] \n",
    "covar_df['PTID'] = covar_df['PTID'].apply(lambda x: '_'.join(x))\n",
    "\n",
    "merged_df = pd.merge(covar_df, adnimerge, on='PTID')\n",
    "\n",
    "print( merged_df.head() )\n"
   ]
  },
  {
   "cell_type": "code",
   "execution_count": 10,
   "metadata": {},
   "outputs": [
    {
     "name": "stdout",
     "output_type": "stream",
     "text": [
      "True\n"
     ]
    }
   ],
   "source": [
    "# check if age of both matches\n",
    "\n",
    "match = merged_df['AGE_x'].equals( merged_df ['AGE_y'] )\n",
    "print( match )\n",
    "\n",
    "if match == True:\n",
    "    merged_df = merged_df.drop( ['AGE_y'], axis = 1 )"
   ]
  },
  {
   "cell_type": "code",
   "execution_count": 11,
   "metadata": {},
   "outputs": [
    {
     "name": "stdout",
     "output_type": "stream",
     "text": [
      "True\n"
     ]
    }
   ],
   "source": [
    "# check if gender matches of both\n",
    "\n",
    "match = merged_df['PTGENDER_x'].equals( merged_df ['PTGENDER_y'] )\n",
    "print( match )\n",
    "\n",
    "if match == True:\n",
    "    merged_df = merged_df.drop( ['PTGENDER_y'], axis = 1 )"
   ]
  },
  {
   "cell_type": "code",
   "execution_count": 12,
   "metadata": {},
   "outputs": [
    {
     "name": "stdout",
     "output_type": "stream",
     "text": [
      "                IID  PTGENDER_x  AGE_x  APOE4\n",
      "0  ADNI3_036_S_6231           1  0.691    1.0\n",
      "1  ADNI3_006_S_6277           1  0.707    0.0\n",
      "2  ADNI3_129_S_6146           1  0.655    0.0\n",
      "3  ADNI3_033_S_6352           0  0.714    1.0\n",
      "4  ADNI3_027_S_6183           0  0.656    0.0\n"
     ]
    }
   ],
   "source": [
    "merged_df = merged_df[['IID', 'PTGENDER_x', 'AGE_x', 'APOE4']]\n",
    "covar_df = merged_df\n",
    "print(covar_df.head())"
   ]
  },
  {
   "cell_type": "markdown",
   "metadata": {},
   "source": [
    "# Alter parameters :\n",
    "    1. Number of features\n",
    "    2. Number of Hidden Layers \n",
    "    3. Dimension of Hidden Layers"
   ]
  },
  {
   "cell_type": "code",
   "execution_count": 13,
   "metadata": {},
   "outputs": [],
   "source": [
    "num_features = 53\n",
    "hidden = 4\n",
    "hidden_dimension = 32"
   ]
  },
  {
   "cell_type": "code",
   "execution_count": 14,
   "metadata": {},
   "outputs": [
    {
     "name": "stdout",
     "output_type": "stream",
     "text": [
      "(1816, 53)\n"
     ]
    }
   ],
   "source": [
    "# take the first num_features column from PRS_feature_matrix\n",
    "PRS_feature_matrix = PRS_orig_feature_matrix\n",
    "PRS_feature_matrix = PRS_feature_matrix[:, :num_features]\n",
    "print(PRS_feature_matrix.shape)"
   ]
  },
  {
   "cell_type": "markdown",
   "metadata": {},
   "source": [
    "Final Samples has two columns of data :\n",
    "    1. ID \n",
    "    2. output - true / false\n",
    "    \n",
    "Get the length of positive and negative samples of test dataset"
   ]
  },
  {
   "cell_type": "code",
   "execution_count": 15,
   "metadata": {},
   "outputs": [
    {
     "name": "stdout",
     "output_type": "stream",
     "text": [
      "974\n",
      "654\n",
      "320\n"
     ]
    }
   ],
   "source": [
    "# positive samples - output true\n",
    "# negative samples - output false\n",
    "len_positive_samples = 0\n",
    "len_negative_samples = 0\n",
    "for x in Final_Samples:\n",
    "    if x[1] == 1 :\n",
    "        len_positive_samples += 1\n",
    "    else :\n",
    "        len_negative_samples += 1\n",
    "        \n",
    "print(len(Final_Samples))\n",
    "print(len_positive_samples)\n",
    "print(len_negative_samples)"
   ]
  },
  {
   "cell_type": "markdown",
   "metadata": {},
   "source": [
    "# Combining covar data with PRS Feature Matrix"
   ]
  },
  {
   "cell_type": "code",
   "execution_count": 16,
   "metadata": {
    "scrolled": true
   },
   "outputs": [
    {
     "name": "stdout",
     "output_type": "stream",
     "text": [
      "Before adding covar_df columns, shape :  (1816, 53)\n",
      "Before adding covar_df columns, shape :  (1816, 56)\n",
      "ADNI3_037_S_6125\n",
      "ADNI3_024_S_6005\n",
      "ADNI3_002_S_6066\n",
      "ADNI3_011_S_6303\n",
      "ADNI3_053_S_6598\n",
      "7_098_S_0160\n",
      "8_027_S_0256\n",
      "26_052_S_1346\n",
      "47_072_S_2027\n",
      "51_016_S_0702\n",
      "64_027_S_2219\n",
      "71_027_S_1045\n",
      "75_068_S_4174\n",
      "82_007_S_2058\n",
      "86_100_S_0296\n",
      "96_041_S_1418\n",
      "222_141_S_0915\n",
      "239_153_S_4372\n",
      "313_068_S_4340\n",
      "315_129_S_4396\n",
      "324_129_S_4371\n",
      "379_037_S_4146\n",
      "387_130_S_4405\n",
      "388_126_S_4507\n",
      "397_022_S_1097\n",
      "445_021_S_4254\n",
      "446_137_S_4299\n",
      "449_006_S_0498\n",
      "462_098_S_4018\n",
      "477_082_S_1256\n",
      "480_098_S_2079\n",
      "487_002_S_4237\n",
      "492_041_S_4271\n",
      "522_068_S_4332\n",
      "533_127_S_4500\n",
      "555_099_S_4463\n",
      "583_141_S_2333\n",
      "589_099_S_1034\n",
      "630_022_S_2087\n",
      "637_033_S_0922\n",
      "648_137_S_0972\n",
      "655_021_S_2150\n",
      "665_027_S_0074\n",
      "675_014_S_0658\n",
      "682_099_S_2146\n",
      "691_037_S_0377\n",
      "695_057_S_1269\n",
      "719_023_S_4035\n",
      "740_137_S_0459\n",
      "753_016_S_1326\n",
      "763_100_S_0047\n",
      "801_123_S_4096\n",
      "196_037_S_0454\n",
      "210_036_S_0673\n",
      "263_072_S_1380\n",
      "268_141_S_1004\n",
      "26_128_S_0522\n",
      "289_023_S_0126\n",
      "296_029_S_0914\n",
      "298_021_S_0178\n",
      "305_032_S_0677\n",
      "319_002_S_0413\n",
      "339_029_S_1318\n",
      "364_023_S_1046\n",
      "370_035_S_0997\n",
      "372_031_S_1066\n",
      "376_116_S_0361\n",
      "388_098_S_0667\n",
      "398_022_S_0096\n",
      "400_002_S_1155\n",
      "416_099_S_0291\n",
      "435_005_S_0572\n",
      "451_023_S_0031\n",
      "484_027_S_0307\n",
      "486_018_S_0142\n",
      "500_123_S_0108\n",
      "515_023_S_0331\n",
      "53_116_S_1271\n",
      "547_033_S_0514\n",
      "558_033_S_0734\n",
      "565_137_S_0994\n",
      "587_023_S_0217\n",
      "592_114_S_1106\n",
      "595_014_S_0519\n",
      "597_098_S_0269\n",
      "605_006_S_0731\n",
      "608_123_S_0113\n",
      "615_114_S_0416\n",
      "625_067_S_0257\n",
      "626_023_S_0042\n",
      "627_116_S_1249\n",
      "629_126_S_1187\n",
      "631_123_S_0072\n",
      "63_027_S_0835\n",
      "648_126_S_0680\n",
      "651_023_S_0887\n",
      "654_012_S_0637\n",
      "663_130_S_0232\n",
      "665_137_S_0668\n",
      "675_128_S_0135\n",
      "689_037_S_1078\n",
      "68_141_S_1255\n",
      "692_041_S_0125\n",
      "696_137_S_0301\n",
      "6_027_S_0118\n",
      "705_128_S_0863\n",
      "709_128_S_0230\n",
      "713_114_S_0166\n",
      "715_021_S_0337\n",
      "719_141_S_0767\n",
      "72_011_S_0008\n",
      "730_029_S_0824\n",
      "732_126_S_0709\n",
      "734_037_S_0467\n",
      "73_114_S_0173\n",
      "740_941_S_1202\n",
      "742_021_S_0984\n",
      "743_035_S_0156\n",
      "744_052_S_0989\n",
      "753_128_S_0227\n",
      "756_009_S_1030\n",
      "760_007_S_0698\n",
      "761_100_S_0035\n",
      "766_073_S_0746\n",
      "767_130_S_0886\n",
      "768_128_S_0229\n",
      "76_005_S_0553\n",
      "770_141_S_0717\n",
      "771_029_S_1218\n",
      "776_068_S_0210\n",
      "781_052_S_0952\n",
      "782_141_S_0697\n",
      "783_052_S_1352\n",
      "78_123_S_0106\n",
      "794_037_S_0552\n",
      "799_068_S_0473\n",
      "79_052_S_0951\n",
      "804_027_S_0408\n",
      "807_116_S_0649\n",
      "809_031_S_0867\n",
      "816_129_S_0778\n",
      "817_053_S_0919\n",
      "83_041_S_1010\n",
      "88_033_S_0923\n",
      "91_032_S_0978\n",
      "95_116_S_0382\n",
      "5_068_S_2194\n",
      "9_072_S_4390\n",
      "25_072_S_2164\n",
      "32_941_S_4376\n",
      "33_033_S_4505\n",
      "35_153_S_4077\n",
      "43_021_S_4276\n",
      "45_014_S_4079\n",
      "47_153_S_4139\n",
      "48_022_S_4320\n",
      "49_031_S_2018\n",
      "51_941_S_4377\n",
      "52_011_S_4105\n",
      "54_129_S_4220\n",
      "55_067_S_2196\n",
      "57_068_S_2171\n",
      "58_014_S_4080\n",
      "59_116_S_4209\n",
      "60_136_S_4189\n",
      "61_067_S_4184\n",
      "62_072_S_4226\n",
      "66_002_S_2010\n",
      "67_014_S_4093\n",
      "68_002_S_4213\n",
      "69_007_S_4387\n",
      "71_002_S_4219\n",
      "74_941_S_4292\n",
      "76_127_S_4198\n",
      "77_073_S_4300\n",
      "80_137_S_4258\n",
      "82_067_S_4054\n",
      "84_137_S_4351\n",
      "86_033_S_4508\n",
      "87_137_S_4211\n",
      "89_130_S_2403\n",
      "91_012_S_4012\n",
      "92_041_S_4004\n",
      "96_153_S_4125\n",
      "98_130_S_2391\n",
      "99_098_S_4201\n",
      "159_021_S_2124\n",
      "163_019_S_4367\n",
      "168_094_S_2201\n",
      "177_116_S_4010\n",
      "185_941_S_2060\n",
      "198_003_S_2374\n",
      "222_123_S_2055\n",
      "249_094_S_4089\n",
      "253_073_S_2225\n",
      "256_116_S_4199\n",
      "263_029_S_4307\n",
      "268_068_S_4217\n",
      "270_067_S_2301\n",
      "276_073_S_4393\n",
      "290_098_S_4215\n",
      "293_002_S_4229\n",
      "300_128_S_2130\n",
      "309_036_S_2380\n",
      "313_099_S_4022\n",
      "319_019_S_4293\n",
      "323_127_S_4197\n",
      "324_002_S_4521\n",
      "328_003_S_4136\n",
      "336_116_S_4175\n",
      "340_129_S_2347\n",
      "341_035_S_4464\n",
      "350_073_S_4312\n",
      "352_029_S_4290\n",
      "360_135_S_4406\n",
      "361_006_S_4485\n",
      "368_129_S_4369\n",
      "370_094_S_2367\n",
      "375_009_S_2208\n",
      "377_033_S_4177\n",
      "379_130_S_4352\n",
      "380_099_S_4086\n",
      "381_094_S_2216\n",
      "395_018_S_4257\n",
      "397_036_S_2378\n",
      "405_029_S_4384\n",
      "412_072_S_2072\n",
      "419_073_S_2264\n",
      "423_068_S_4274\n",
      "425_031_S_4194\n",
      "426_073_S_2153\n",
      "427_141_S_4423\n",
      "428_011_S_2274\n",
      "429_094_S_4282\n",
      "Count of missing samples for covar data :  234\n"
     ]
    }
   ],
   "source": [
    "# cnt = number of missing IDs for which covar data doesn't exist\n",
    "cnt = 0\n",
    "print(\"Before adding covar_df columns, shape : \",PRS_feature_matrix.shape)\n",
    "# adding ( total columns - 1 ) of covar_df , excluding  IID\n",
    "FEATURE_MATRIX = np.concatenate([PRS_feature_matrix, np.zeros([PRS_feature_matrix.shape[0], covar_df.shape[1] - 1 ])], 1).astype(np.float32)\n",
    "print(\"Before adding covar_df columns, shape : \",FEATURE_MATRIX.shape)\n",
    "for sample in usable_samples_ADNI:\n",
    "    # taking from the PCs, skipping the first two columns of IID, FID\n",
    "    covar = covar_df[covar_df['IID'] == sample].to_numpy()[:, 1:].astype(np.float32) \n",
    "    # shape[0] = 1 means a row is found in covar for the following sample ID\n",
    "    # if not, that means no covar data exists for the sample in usable_samples_ADNI\n",
    "    if covar.shape[0] != 1:\n",
    "#         print(covar.shape)\n",
    "        print(sample)\n",
    "        cnt += 1\n",
    "        continue\n",
    "    # Adding the covar values to the feature matrix\n",
    "    FEATURE_MATRIX[usable_samples_ADNI[sample], num_features:] = covar\n",
    "\n",
    "\n",
    "print(\"Count of missing samples for covar data : \", cnt)\n",
    "#     FEATURE_MATRIX[usable_samples_ADNI[sample], num_features:] = covar # naeem's modification\n",
    "# cnt/FEATURE_MATRIX.shape[0], FEATURE_MATRIX[:2], PRS_feature_matrix[:2]"
   ]
  },
  {
   "cell_type": "markdown",
   "metadata": {},
   "source": [
    "# Create directory for saving shap figures"
   ]
  },
  {
   "cell_type": "code",
   "execution_count": 17,
   "metadata": {},
   "outputs": [],
   "source": [
    "path = \"./shap/\" + str(num_features)\n",
    "if not os.path.exists(path):\n",
    "    os.makedirs(path)"
   ]
  },
  {
   "cell_type": "markdown",
   "metadata": {},
   "source": [
    "# Storing the index with the Age = 0\n",
    "\n",
    "age is zero for the rows that the covar data was not found"
   ]
  },
  {
   "cell_type": "code",
   "execution_count": 18,
   "metadata": {},
   "outputs": [
    {
     "name": "stdout",
     "output_type": "stream",
     "text": [
      "234\n"
     ]
    }
   ],
   "source": [
    "# print(FEATURE_MATRIX[:2])\n",
    "age_zero = 0\n",
    "age_zero_idx = []\n",
    "for i in range( len(FEATURE_MATRIX) ):\n",
    "    if FEATURE_MATRIX[i, -2] == 0.00:\n",
    "        age_zero += 1\n",
    "        age_zero_idx.append(i)\n",
    "        \n",
    "print(age_zero)"
   ]
  },
  {
   "cell_type": "markdown",
   "metadata": {},
   "source": [
    "# Indices of features to consider"
   ]
  },
  {
   "cell_type": "code",
   "execution_count": 19,
   "metadata": {},
   "outputs": [
    {
     "name": "stdout",
     "output_type": "stream",
     "text": [
      "56\n",
      "[0, 1, 2, 3, 4, 5, 6, 7, 8, 9, 10, 11, 12, 13, 14, 15, 16, 17, 18, 19, 20, 21, 22, 23, 24, 25, 26, 27, 28, 29, 30, 31, 32, 33, 34, 35, 36, 37, 38, 39, 40, 41, 42, 43, 44, 45, 46, 47, 48, 49, 50, 51, 52, 53, 54, 55]\n"
     ]
    }
   ],
   "source": [
    "\n",
    "\n",
    "# feature_indices_to_consider = list(range(23))#list(range(35)) #[1, 2, 3, 4, 5, 6, 7, 8, 9, 10, 11, 13, 14, 15, 16, 18, 20, 22]\n",
    "# naeem modified\n",
    "print(FEATURE_MATRIX.shape[1])\n",
    "last_idx = FEATURE_MATRIX.shape[1] - 1\n",
    "feature_indices_to_consider = list(range(num_features))  + list(range(last_idx - 2 , last_idx + 1 )) #list(range(35)) #[1, 2, 3, 4, 5, 6, 7, 8, 9, 10, 11, 13, 14, 15, 16, 18, 20, 22]\n",
    "# remove_indices = [1, 2, 3]\n",
    "# for i in remove_indices:\n",
    "#     feature_indices_to_consider.remove(i)\n",
    "\n",
    "# feature_indices_to_consider = list(range(23, 36))\n",
    "\n",
    "# feature_indices_to_consider = [ 4, 11, 14, 21, 23, 26, 32, 34, 46]\n",
    "\n",
    "# feature_indices_to_consider = [ 9, 10, 11, 14, 21, 23, 26, 28, 32, 34, 46]\n",
    "# feature_indices_to_consider = [9, 10, 28, 34, 46]\n",
    "\n",
    "print(feature_indices_to_consider)\n",
    "# feature_indices_to_consider = [1, 2, 3, 11, 14, 21, 23, 26, 32, 45]\n",
    "# feature_indices_to_consider = [2, 26, 32, 45]\n"
   ]
  },
  {
   "cell_type": "markdown",
   "metadata": {},
   "source": [
    "# Functions & Classes"
   ]
  },
  {
   "cell_type": "code",
   "execution_count": 20,
   "metadata": {},
   "outputs": [],
   "source": [
    "# save_in_file: saves model accuracy in a text file\n",
    "#     args : model_name : name of model with layers and dimensions\n",
    "#            accuracy : accuracy  score\n",
    "def save_in_file(model_name, accuracy):\n",
    "    model_file = open(\"model_details.txt\",\"a\")\n",
    "    model_file.write(model_name + \" -> accuracy : \" + str(accuracy) + \"\\n\" )\n",
    "    model_file.close() "
   ]
  },
  {
   "cell_type": "markdown",
   "metadata": {},
   "source": [
    "**Modifications**\n",
    "1. Added relu in the hidden layers and sigmoid in the output layer as activation functions\n",
    "2. Added dropout in the hidden layers"
   ]
  },
  {
   "cell_type": "code",
   "execution_count": 21,
   "metadata": {},
   "outputs": [],
   "source": [
    "class simple_model(nn.Module):\n",
    "    def __init__(self, num_features=FEATURE_MATRIX.shape[1], hidden_dim= hidden_dimension, drop_probab=.5):\n",
    "        super(simple_model, self).__init__()\n",
    "        \n",
    "        ####\n",
    "        num_hidden = hidden\n",
    "        hidden_dim = hidden_dimension\n",
    "        self.fc1 = nn.Linear(num_features, hidden_dim)\n",
    "        self.fc_hidden = nn.ModuleList([nn.Linear(hidden_dim, hidden_dim) for i in range(num_hidden)])\n",
    "        self.fc2 = nn.Linear(hidden_dim, 8)\n",
    "        self.outLayer = nn.Linear(8, 1)\n",
    "#         self.softmax = nn.Softmax(-1)\n",
    "        self.sigmoid = nn.Sigmoid()\n",
    "        self.relu = nn.ReLU()\n",
    "        self.num_hidden = num_hidden\n",
    "        self.drop_probab = drop_probab\n",
    "        self.dropout = nn.functional.dropout\n",
    "        ####\n",
    "\n",
    "    def forward(self, features):\n",
    "        features = self.fc1(features)\n",
    "        features = self.dropout(features, p=self.drop_probab)\n",
    "        for i in range(self.num_hidden):\n",
    "            features = self.fc_hidden[i](features)\n",
    "            # added by Mashiat\n",
    "            features = self.dropout(features, p=self.drop_probab)\n",
    "            features = self.relu( features )\n",
    "            ####################\n",
    "        features = self.fc2(features)\n",
    "        features = self.dropout(features, p=self.drop_probab)\n",
    "        logit = self.outLayer(features)\n",
    "#         print(features.shape, features)\n",
    "        probab = self.sigmoid(logit)\n",
    "        return probab\n",
    "    "
   ]
  },
  {
   "cell_type": "code",
   "execution_count": 22,
   "metadata": {},
   "outputs": [
    {
     "data": {
      "text/plain": [
       "simple_model(\n",
       "  (fc1): Linear(in_features=56, out_features=32, bias=True)\n",
       "  (fc_hidden): ModuleList(\n",
       "    (0): Linear(in_features=32, out_features=32, bias=True)\n",
       "    (1): Linear(in_features=32, out_features=32, bias=True)\n",
       "    (2): Linear(in_features=32, out_features=32, bias=True)\n",
       "    (3): Linear(in_features=32, out_features=32, bias=True)\n",
       "  )\n",
       "  (fc2): Linear(in_features=32, out_features=8, bias=True)\n",
       "  (outLayer): Linear(in_features=8, out_features=1, bias=True)\n",
       "  (sigmoid): Sigmoid()\n",
       "  (relu): ReLU()\n",
       ")"
      ]
     },
     "execution_count": 22,
     "metadata": {},
     "output_type": "execute_result"
    }
   ],
   "source": [
    "simple_model(num_features=len(feature_indices_to_consider))"
   ]
  },
  {
   "cell_type": "markdown",
   "metadata": {},
   "source": [
    "# dataSet class \n",
    "combines usable_samples_ADNI, Final_Samples, feature_matrix to one dataset with features and labels"
   ]
  },
  {
   "cell_type": "code",
   "execution_count": 23,
   "metadata": {},
   "outputs": [],
   "source": [
    "class dataSet(data.Dataset):\n",
    "    def __init__(self, Final_Samples, feature_matrix, usable_samples_ADNI, feature_indices_to_consider=feature_indices_to_consider):\n",
    "        super(dataSet, self).__init__()  \n",
    "        self.data_len = len(Final_Samples)\n",
    "        self.usable_samples_ADNI = usable_samples_ADNI\n",
    "        self.Final_Samples = Final_Samples\n",
    "        self.feature_indices_to_consider = feature_indices_to_consider\n",
    "        self.feature_matrix = feature_matrix[:, self.feature_indices_to_consider]\n",
    "        \n",
    "    def __getitem__(self, index):\n",
    "        features = torch.from_numpy(self.feature_matrix[self.usable_samples_ADNI[self.Final_Samples[index][0]]]).float()\n",
    "        label = torch.tensor([float(self.Final_Samples[index][1])]).float()\n",
    "        return features, label\n",
    "    \n",
    "    def update_prs_features(self, mean, std):\n",
    "        self.feature_matrix = (self.feature_matrix - mean) / std\n",
    "        \n",
    "    def get_mean_std(self):\n",
    "        mean = self.feature_matrix.mean(0)\n",
    "        std = self.feature_matrix.std(0)\n",
    "        return mean, std\n",
    "        \n",
    "    def __len__(self):\n",
    "        return self.data_len"
   ]
  },
  {
   "cell_type": "markdown",
   "metadata": {},
   "source": [
    "# Converting Pandas Dataframe to Dataset class\n",
    "\n",
    "overriding the constructor, getitem, len function of the original class"
   ]
  },
  {
   "cell_type": "code",
   "execution_count": 24,
   "metadata": {},
   "outputs": [],
   "source": [
    "class df_dataSet(data.Dataset):\n",
    "    def __init__(self, X, y):\n",
    "        \n",
    "        self.features = torch.tensor(X.values, dtype=torch.float32)\n",
    "        self.labels = torch.tensor(y.values, dtype=torch.float32)\n",
    "        \n",
    "    def __getitem__(self, index):\n",
    "        return self.features[index], self.labels[index]\n",
    "    \n",
    "        \n",
    "        \n",
    "    def __len__(self):\n",
    "        return len(self.labels)"
   ]
  },
  {
   "cell_type": "code",
   "execution_count": 25,
   "metadata": {
    "scrolled": false
   },
   "outputs": [],
   "source": [
    "# random samples : sample test dataset taking equal number of positive & negative outputs\n",
    "#                 args : \n",
    "#                         total_folds : fold number for splitting\n",
    "#                         random_seed : seed value for randomization\n",
    "#                 return :\n",
    "#                         N_splits : test dataset splitted according to fold numbers\n",
    "                        \n",
    "def random_samples(total_folds, random_seed=None):\n",
    "    Final_Samples = json.load(open(Final_Samples_path, 'r')) \n",
    "    positive_samples = Final_Samples[:len_positive_samples]\n",
    "    negative_samples = Final_Samples[len_positive_samples:]\n",
    "    min_len = min( len(positive_samples), len(negative_samples))\n",
    "    if random_seed is not None: \n",
    "        random.seed(random_seed * 2)\n",
    "    random.shuffle(positive_samples)\n",
    "    random.shuffle(negative_samples)\n",
    "    print(\"min length : \", min_len)\n",
    "    Final_Samples = positive_samples[:min_len] + negative_samples[:min_len]\n",
    "    random.shuffle(Final_Samples)\n",
    "    print(len([x[1] for x in Final_Samples if x[1] == 1]), len([x[1] for x in Final_Samples if x[1] == 0]))\n",
    "    Final_Samples = np.array(Final_Samples)\n",
    "\n",
    "#   -----------------------------------------------------------------------\n",
    "#     positive_samples = Final_Samples[:654]\n",
    "#     negative_samples = Final_Samples[654:]\n",
    "#     if random_seed is not None: \n",
    "#         random.seed(random_seed * 2)\n",
    "#     random.shuffle(positive_samples)\n",
    "#     random.shuffle(negative_samples)\n",
    "#     Final_Samples = positive_samples[:500] + negative_samples[:500]\n",
    "#     if random_seed is not None: \n",
    "#         random.seed(random_seed)\n",
    "#     random.shuffle(Final_Samples)\n",
    "#     Final_Samples = np.array(Final_Samples)\n",
    "# --------------------------------------------------------------------------\n",
    "    N_splits = Final_Samples.reshape(total_folds, -1, 2)\n",
    "    return N_splits\n",
    "\n",
    "# generate_datasets : get train, validation & test datasets\n",
    "#                 args : \n",
    "#                         N_splits : data splitted according to folds; output of random samples\n",
    "#                         fold_num : fold_num for test dataset\n",
    "#                         random_seed : seed value for randomization\n",
    "#                 return :\n",
    "#                         train_set, test_set, val_set : datasets\n",
    "def generate_datasets(N_splits, fold_num, random_seed):\n",
    "    test_samples = N_splits[fold_num:fold_num+1].reshape([-1, 2])\n",
    "    train_samples = np.concatenate([N_splits[0:fold_num],N_splits[fold_num+1:]], 0).reshape([-1, 2]).tolist()\n",
    "    if random_seed is not None: \n",
    "        random.seed(random_seed * 3)\n",
    "    random.shuffle(train_samples)\n",
    "    train_samples = np.array(train_samples)\n",
    "    # take all as training dataset, leaves nothing for validation - multiply shpae by 1\n",
    "    split_pos = int(train_samples.shape[0] * 1.) \n",
    "    #split_pos = int(train_samples.shape[0] * .8) \n",
    "#     print(train_samples.shape, split_pos, train_samples.shape[0])\n",
    "    train_samples, val_samples = train_samples[:split_pos], train_samples[split_pos:]\n",
    "    train_set = dataSet(Final_Samples=train_samples, \n",
    "                        feature_matrix=FEATURE_MATRIX, \n",
    "                        usable_samples_ADNI=usable_samples_ADNI)\n",
    "    val_set = dataSet(Final_Samples=val_samples, \n",
    "                      feature_matrix=FEATURE_MATRIX, \n",
    "                      usable_samples_ADNI=usable_samples_ADNI)\n",
    "    test_set = dataSet(Final_Samples=test_samples, \n",
    "                      feature_matrix=FEATURE_MATRIX, \n",
    "                      usable_samples_ADNI=usable_samples_ADNI)\n",
    "    mean, std = train_set.get_mean_std()\n",
    "    # normalize dataset\n",
    "    train_set.update_prs_features(mean, std)\n",
    "    val_set.update_prs_features(mean, std)\n",
    "    test_set.update_prs_features(mean, std)\n",
    "#     print(len(train_set))\n",
    "#     print(len(val_set))\n",
    "#     print(len(test_set))\n",
    "    return train_set, val_set, test_set\n",
    "\n",
    "\n",
    "\n",
    "# generate_loader : get train, validation & test as torch dataset\n",
    "#                 args : \n",
    "#                         train_set, test_set, val_set : datasets\n",
    "#                 returns :\n",
    "#                         train, val & test torch datasets\n",
    "def generate_loader(train_set, val_set, test_set, num_workers):\n",
    "    train_batch_size = train_set.__len__()\n",
    "    val_batch_size = val_set.__len__()\n",
    "    test_batch_size = test_set.__len__()\n",
    "    train_loader = torch.utils.data.DataLoader(train_set,\n",
    "                                              batch_size=train_batch_size,\n",
    "                                              shuffle=True,\n",
    "                                              pin_memory=(torch.cuda.is_available()),\n",
    "                                              num_workers=num_workers)\n",
    "    val_loader = torch.utils.data.DataLoader(val_set,\n",
    "                                              batch_size=val_batch_size,\n",
    "                                              shuffle=False,\n",
    "                                              pin_memory=(torch.cuda.is_available()),\n",
    "                                              num_workers=num_workers)\n",
    "    test_loader = torch.utils.data.DataLoader(test_set,\n",
    "                                              batch_size=test_batch_size,\n",
    "                                              shuffle=False,\n",
    "                                              pin_memory=(torch.cuda.is_available()),\n",
    "                                              num_workers=num_workers)\n",
    "    return train_loader, val_loader, test_loader\n",
    "\n",
    "# train_set, val_set, test_set = generate_datasets(N_splits=random_samples(total_folds=10, random_seed=0), fold_num=0, random_seed=0)\n",
    "# val_set.feature_matrix.shape"
   ]
  },
  {
   "cell_type": "code",
   "execution_count": 26,
   "metadata": {},
   "outputs": [],
   "source": [
    "# epoch function : runs an epoch of a model\n",
    "#                 args :\n",
    "#                         model : neural network model\n",
    "#                         optimizer :\n",
    "#                         criterion :\n",
    "#                         is_training : train - true or test - false\n",
    "#                         loader : torch dataset\n",
    "#                 returns :\n",
    "#                         different accuracy score for the dataset of per epoch\n",
    "def epoch(model, optimizer, criterion, is_training, loader):\n",
    "    pred = []\n",
    "    true = []\n",
    "    total_loss = 0.\n",
    "#     print(loader)\n",
    "    for batch_idx, (features, label) in enumerate(loader):\n",
    "        features = torch.autograd.Variable(features.to(DEVICE).float())\n",
    "        label = torch.autograd.Variable(label.to(DEVICE).float())\n",
    "        label = torch.reshape(label, (label.shape[0], 1))\n",
    "        probab = model(features)\n",
    "        if is_training:  \n",
    "#             print(probab.shape, label.shape)\n",
    "            loss = criterion(probab, label)\n",
    "            ## compute gradient and do SGD step \n",
    "            optimizer.zero_grad()\n",
    "            loss.backward()\n",
    "            optimizer.step()\n",
    "            total_loss += loss.item()\n",
    "#             print(batch_idx, ':', loss) \n",
    "        pred += probab.detach().cpu().numpy().tolist()\n",
    "        true += label.detach().cpu().numpy().tolist()\n",
    "    \n",
    "    pred, true, total_loss = np.array(pred).reshape([-1]), np.array(true).reshape([-1]), total_loss\n",
    "    pred_binary = (pred > .5).astype(float)\n",
    "    precision, recall, fscore, support = precision_recall_fscore_support(true, pred_binary)\n",
    "    auroc = roc_auc_score(true, pred)\n",
    "    p, r, thresholds = precision_recall_curve(true, pred)\n",
    "    auprc = auc(r, p)\n",
    "    acc = (pred_binary==true).mean()\n",
    "    \n",
    "    return precision[1], recall[1], fscore[1], support, auroc, auprc, acc, total_loss, pred, pred_binary, true\n",
    "#     return None, None, None, None, None, None, acc, total_loss, pred, pred_binary, true\n",
    "    \n"
   ]
  },
  {
   "cell_type": "markdown",
   "metadata": {},
   "source": [
    "**epoch function for LOOCV**\n",
    "\n",
    "Without precision, recall, ROC, AUC "
   ]
  },
  {
   "cell_type": "code",
   "execution_count": 27,
   "metadata": {},
   "outputs": [],
   "source": [
    "def loocv_epoch(model, optimizer, criterion, is_training, loader):\n",
    "    pred = []\n",
    "    true = []\n",
    "    total_loss = 0.\n",
    "#     print(loader)\n",
    "    for batch_idx, (features, label) in enumerate(loader):\n",
    "        features = torch.autograd.Variable(features.to(DEVICE).float())\n",
    "        label = torch.autograd.Variable(label.to(DEVICE).float())\n",
    "        label = torch.reshape(label, (label.shape[0], 1))\n",
    "        probab = model(features)\n",
    "        if is_training:  \n",
    "#             print(probab.shape, label.shape)\n",
    "            loss = criterion(probab, label)\n",
    "            ## compute gradient and do SGD step \n",
    "            optimizer.zero_grad()\n",
    "            loss.backward()\n",
    "            optimizer.step()\n",
    "            total_loss += loss.item()\n",
    "#             print(batch_idx, ':', loss) \n",
    "        pred += probab.detach().cpu().numpy().tolist()\n",
    "        true += label.detach().cpu().numpy().tolist()\n",
    "    \n",
    "    pred, true, total_loss = np.array(pred).reshape([-1]), np.array(true).reshape([-1]), total_loss\n",
    "    pred_binary = (pred > .5).astype(float)\n",
    "#     precision, recall, fscore, support = precision_recall_fscore_support(true, pred_binary)\n",
    "#     auroc = roc_auc_score(true, pred)\n",
    "#     p, r, thresholds = precision_recall_curve(true, pred)\n",
    "#     auprc = auc(r, p)\n",
    "    acc = (pred_binary==true).mean()\n",
    "    \n",
    "#     return precision[1], recall[1], fscore[1], support, auroc, auprc, acc, total_loss, pred, pred_binary, true\n",
    "    return None, None, None, None, None, None, acc, total_loss, pred, pred_binary, true\n",
    "    "
   ]
  },
  {
   "cell_type": "markdown",
   "metadata": {},
   "source": [
    "# usable_samples_ADNI "
   ]
  },
  {
   "cell_type": "code",
   "execution_count": 28,
   "metadata": {},
   "outputs": [
    {
     "name": "stdout",
     "output_type": "stream",
     "text": [
      "974\n",
      "974\n",
      "Shape of usable features :  (974, 56)\n"
     ]
    }
   ],
   "source": [
    "# usable_indices : take indices from usable_samples_ADNI which are in Final_Samples\n",
    "# usable_features : take the part of feature matrix with usable_indices( rows )\n",
    "#                   and feature_indices_to_consider ( columns )\n",
    "\n",
    "print(len(Final_Samples))\n",
    "usable_indices = [( usable_samples_ADNI[Final_Samples[i][0]] if ( Final_Samples[i][0] in usable_samples_ADNI.keys() ) else None ) for i in range(len(Final_Samples))]\n",
    "print(len(usable_indices))\n",
    "# print(usable_indices)\n",
    "usable_features = FEATURE_MATRIX[usable_indices][:, feature_indices_to_consider]\n",
    "print(\"Shape of usable features : \", usable_features.shape)\n"
   ]
  },
  {
   "cell_type": "markdown",
   "metadata": {},
   "source": [
    "# Removing age values with 0"
   ]
  },
  {
   "cell_type": "code",
   "execution_count": 29,
   "metadata": {},
   "outputs": [
    {
     "name": "stdout",
     "output_type": "stream",
     "text": [
      "166\n",
      "(974, 56) 974\n",
      "(808, 56) 808\n",
      "['662_011_S_0326' '1']\n"
     ]
    }
   ],
   "source": [
    "# removing age with value 0\n",
    "#--------------------------------------------------------------------------------\n",
    "age_zero = 0\n",
    "age_zero_idx = []\n",
    "for i in range(len(usable_features)):\n",
    "    if usable_features[i, -2] == 0.00:\n",
    "        age_zero += 1\n",
    "        age_zero_idx.append(i)\n",
    "print(len(age_zero_idx))\n",
    "print(usable_features.shape, len( Final_Samples ) )\n",
    "usable_features = np.delete(usable_features, age_zero_idx, axis = 0)\n",
    "Final_Samples = np.delete(Final_Samples, age_zero_idx, axis = 0)\n",
    "print(usable_features.shape, len( Final_Samples ) )\n",
    "print(Final_Samples[0])\n",
    "#--------------------------------------------------------------------------------"
   ]
  },
  {
   "cell_type": "markdown",
   "metadata": {},
   "source": [
    "# usable_labels : output"
   ]
  },
  {
   "cell_type": "code",
   "execution_count": 30,
   "metadata": {},
   "outputs": [
    {
     "name": "stdout",
     "output_type": "stream",
     "text": [
      "Length of usable labels :  808\n"
     ]
    }
   ],
   "source": [
    "usable_labels = np.array([float(Final_Samples[i][1]) for i in range(len(Final_Samples))])\n",
    "print(\"Length of usable labels : \", len(usable_labels))"
   ]
  },
  {
   "cell_type": "markdown",
   "metadata": {},
   "source": [
    "# Read all traits from json file "
   ]
  },
  {
   "cell_type": "code",
   "execution_count": 31,
   "metadata": {},
   "outputs": [
    {
     "name": "stdout",
     "output_type": "stream",
     "text": [
      "['Non-cancer illness code, self-reported: type 2 diabetes', 'Ever had known person concerned about, or recommend reduction of, alcohol consumption: No', 'Ever had known person concerned about, or recommend reduction of, alcohol consumption: Yes, but not in the last year', 'Ever had known person concerned about, or recommend reduction of, alcohol consumption: Yes, during the last year', 'Total cholesterol', 'HDL cholesterol', 'LDL cholesterol', 'triglycerides', 'Cigarettes per Day', 'systolic blood pressure', 'diastolic blood pressure', 'Hearing difficulty/problems: Yes', 'Non-cancer illness code, self-reported: depression', 'Non-oily fish intake', 'Hearing difficulty/problems with background noise', 'Body mass index (BMI)', 'Oily fish intake', 'Sleeplessness / insomnia', 'Sleep duration', 'Age completed full time education', 'Processed meat intake', 'Types of physical activity in last 4 weeks: Strenuous sports', 'Other meat intake', 'Loneliness, isolation', \"Illnesses of father: Alzheimer's disease/dementia\", \"Illnesses of mother: Alzheimer's disease/dementia\", 'Mood swings', 'Non-cancer illness code, self-reported: anxiety/panic attacks', 'Non-cancer illness code, self-reported: stroke', 'Non-cancer illness code, self-reported: head injury', 'Alcohol intake frequency', 'Diagnoses - secondary ICD10: E66.9 Obesity, unspecified', 'Non-cancer illness code, self-reported: hypothyroidism/myxoedema', 'Non-cancer illness code, self-reported: hyperthyroidism/thyrotoxicosis', 'Non-cancer illness code, self-reported: hypertension', 'Particulate matter air pollution 2.5-10um; 2010', 'Nitrogen oxides air pollution; 2010', 'Types of physical activity in last 4 weeks: Light DIY (eg: pruning, watering the lawn)', 'Diagnoses - secondary ICD10: I10 Essential (primary) hypertension', 'Prospective memory result', 'Leisure/social activities: Pub or social club', 'Leisure/social activities: Sports club or gym', 'Mental health problems ever diagnosed by a professional: Social anxiety or social phobia', 'Mental health problems ever diagnosed by a professional: Anxiety, nerves or generalized anxiety disorder', 'Operation code: brain surgery', 'Ever had prolonged loss of interest in normal activities', 'Illness, injury, bereavement, stress in last 2 years: Serious illness, injury or assault to yourself', 'Illness, injury, bereavement, stress in last 2 years: Marital separation/divorce', 'Illness, injury, bereavement, stress in last 2 years: Financial difficulties', 'ADHD', 'Microalbumin in urine', \"Parkinson's disease\", \"Alzheimer's disease\"]\n"
     ]
    }
   ],
   "source": [
    "all_traits = json.load(open('traits_map_w_ad.json', 'r'))\n",
    "# print(all_traits)\n",
    "GWAS_IDS = list(all_traits)\n",
    "# print(GWAS_IDS)\n",
    "traits = [all_traits[x] for x in all_traits]\n",
    "print(traits)"
   ]
  },
  {
   "cell_type": "markdown",
   "metadata": {},
   "source": [
    "# Get traits corresponding to features"
   ]
  },
  {
   "cell_type": "code",
   "execution_count": 32,
   "metadata": {},
   "outputs": [
    {
     "name": "stdout",
     "output_type": "stream",
     "text": [
      "53\n",
      "53\n",
      "[0, 1, 2, 3, 4, 5, 6, 7, 8, 9, 10, 11, 12, 13, 14, 15, 16, 17, 18, 19, 20, 21, 22, 23, 24, 25, 26, 27, 28, 29, 30, 31, 32, 33, 34, 35, 36, 37, 38, 39, 40, 41, 42, 43, 44, 45, 46, 47, 48, 49, 50, 51, 52, 53, 54, 55]\n",
      "['Non-cancer illness code, self-reported: type 2 diabetes', 'Ever had known person concerned about, or recommend reduction of, alcohol consumption: No', 'Ever had known person concerned about, or recommend reduction of, alcohol consumption: Yes, but not in the last year', 'Ever had known person concerned about, or recommend reduction of, alcohol consumption: Yes, during the last year', 'Total cholesterol', 'HDL cholesterol', 'LDL cholesterol', 'triglycerides', 'Cigarettes per Day', 'systolic blood pressure', 'diastolic blood pressure', 'Hearing difficulty/problems: Yes', 'Non-cancer illness code, self-reported: depression', 'Non-oily fish intake', 'Hearing difficulty/problems with background noise', 'Body mass index (BMI)', 'Oily fish intake', 'Sleeplessness / insomnia', 'Sleep duration', 'Age completed full time education', 'Processed meat intake', 'Types of physical activity in last 4 weeks: Strenuous sports', 'Other meat intake', 'Loneliness, isolation', \"Illnesses of father: Alzheimer's disease/dementia\", \"Illnesses of mother: Alzheimer's disease/dementia\", 'Mood swings', 'Non-cancer illness code, self-reported: anxiety/panic attacks', 'Non-cancer illness code, self-reported: stroke', 'Non-cancer illness code, self-reported: head injury', 'Alcohol intake frequency', 'Diagnoses - secondary ICD10: E66.9 Obesity, unspecified', 'Non-cancer illness code, self-reported: hypothyroidism/myxoedema', 'Non-cancer illness code, self-reported: hyperthyroidism/thyrotoxicosis', 'Non-cancer illness code, self-reported: hypertension', 'Particulate matter air pollution 2.5-10um; 2010', 'Nitrogen oxides air pollution; 2010', 'Types of physical activity in last 4 weeks: Light DIY (eg: pruning, watering the lawn)', 'Diagnoses - secondary ICD10: I10 Essential (primary) hypertension', 'Prospective memory result', 'Leisure/social activities: Pub or social club', 'Leisure/social activities: Sports club or gym', 'Mental health problems ever diagnosed by a professional: Social anxiety or social phobia', 'Mental health problems ever diagnosed by a professional: Anxiety, nerves or generalized anxiety disorder', 'Operation code: brain surgery', 'Ever had prolonged loss of interest in normal activities', 'Illness, injury, bereavement, stress in last 2 years: Serious illness, injury or assault to yourself', 'Illness, injury, bereavement, stress in last 2 years: Marital separation/divorce', 'Illness, injury, bereavement, stress in last 2 years: Financial difficulties', 'ADHD', 'Microalbumin in urine', \"Parkinson's disease\", \"Alzheimer's disease\", 'gender', 'age', 'APOE4']\n"
     ]
    }
   ],
   "source": [
    "print(PRS_orig_feature_matrix.shape[1])\n",
    "# print(feature_indices_to_consider)\n",
    "\n",
    "print(len(traits))\n",
    "print(feature_indices_to_consider)\n",
    "\n",
    "# check if age and gender is included\n",
    "# if they are included, their index will be larger than the original feature matrix\n",
    "if any(y >PRS_orig_feature_matrix.shape[1] for y in feature_indices_to_consider):\n",
    "#     features = feature_indices_to_consider.copy()\n",
    "#     age_include = False\n",
    "#     gender_include = False\n",
    "#     print(features[-2])\n",
    "#     if(features[-2] == PRS_orig_feature_matrix.shape[1] + 8):\n",
    "#         print(\"gender_include\")\n",
    "#         features.pop(-2)\n",
    "#         gender_include = True\n",
    "#     print(features[-1])\n",
    "#     if(features[-1] == PRS_orig_feature_matrix.shape[1] + 9):\n",
    "#         print(\"age include\")\n",
    "#         features.pop(-1)\n",
    "#         age_include = True\n",
    "    \n",
    "#     print(features)\n",
    "#     traits = [ traits[i] for i in features]\n",
    "#     if gender_include == True:\n",
    "#         traits.append(\"gender\")\n",
    "#     if age_include == True:\n",
    "#         traits.append(\"age\")\n",
    "    \n",
    "#     traits.append(\"output prediction\")\n",
    "    traits.append(\"gender\")\n",
    "    traits.append(\"age\")\n",
    "    traits.append('APOE4')\n",
    "    \n",
    "else:\n",
    "    # not included - age, gender\n",
    "    traits = [ traits[i] for i in feature_indices_to_consider]\n",
    "print(traits)\n"
   ]
  },
  {
   "cell_type": "markdown",
   "metadata": {},
   "source": [
    "# Panda dataframe conversion"
   ]
  },
  {
   "cell_type": "code",
   "execution_count": 33,
   "metadata": {},
   "outputs": [
    {
     "name": "stdout",
     "output_type": "stream",
     "text": [
      "   Non-cancer illness code, self-reported: type 2 diabetes  \\\n",
      "0                                          -0.960335         \n",
      "1                                           1.138523         \n",
      "2                                           0.902894         \n",
      "3                                           0.364530         \n",
      "4                                          -0.577780         \n",
      "\n",
      "   Ever had known person concerned about, or recommend reduction of, alcohol consumption: No  \\\n",
      "0                                           1.321775                                           \n",
      "1                                           0.402761                                           \n",
      "2                                           0.144739                                           \n",
      "3                                          -0.146442                                           \n",
      "4                                           0.399917                                           \n",
      "\n",
      "   Ever had known person concerned about, or recommend reduction of, alcohol consumption: Yes, but not in the last year  \\\n",
      "0                                           0.200117                                                                      \n",
      "1                                           0.485669                                                                      \n",
      "2                                           0.729288                                                                      \n",
      "3                                          -1.059038                                                                      \n",
      "4                                           1.083757                                                                      \n",
      "\n",
      "   Ever had known person concerned about, or recommend reduction of, alcohol consumption: Yes, during the last year  \\\n",
      "0                                           0.428231                                                                  \n",
      "1                                           0.024429                                                                  \n",
      "2                                           0.545684                                                                  \n",
      "3                                           0.366148                                                                  \n",
      "4                                           0.105396                                                                  \n",
      "\n",
      "   Total cholesterol  HDL cholesterol  LDL cholesterol  triglycerides  \\\n",
      "0          -2.514147        -1.004727        -2.157089       1.150449   \n",
      "1           0.709317        -1.331891         0.296803       0.526724   \n",
      "2          -0.223670        -0.364057        -0.776616       0.896496   \n",
      "3           0.799081        -0.510388         0.780386       0.346197   \n",
      "4           1.421602         0.266841         1.740108       1.966697   \n",
      "\n",
      "   Cigarettes per Day  systolic blood pressure  ...  \\\n",
      "0            0.118371                 0.255906  ...   \n",
      "1            0.607390                -0.367588  ...   \n",
      "2            0.576153                -1.275939  ...   \n",
      "3            0.271284                -0.167139  ...   \n",
      "4            0.171658                 0.074380  ...   \n",
      "\n",
      "   Illness, injury, bereavement, stress in last 2 years: Marital separation/divorce  \\\n",
      "0                                           1.233169                                  \n",
      "1                                           0.222673                                  \n",
      "2                                           1.020071                                  \n",
      "3                                           0.338272                                  \n",
      "4                                           0.411949                                  \n",
      "\n",
      "   Illness, injury, bereavement, stress in last 2 years: Financial difficulties  \\\n",
      "0                                           1.639043                              \n",
      "1                                          -0.580087                              \n",
      "2                                           0.951036                              \n",
      "3                                           0.091528                              \n",
      "4                                           0.097683                              \n",
      "\n",
      "       ADHD  Microalbumin in urine  Parkinson's disease  Alzheimer's disease  \\\n",
      "0  1.879781               1.071902             0.978490             0.258765   \n",
      "1  0.062218              -0.016224            -0.451618             0.290424   \n",
      "2  0.929617              -0.016224             0.251613             0.264766   \n",
      "3  0.400434              -0.611614             0.128502            -0.909316   \n",
      "4 -0.069690              -0.016224             0.269944            -1.334098   \n",
      "\n",
      "   gender    age  APOE4  output  \n",
      "0     0.0  0.769    0.0     1.0  \n",
      "1     1.0  0.683    0.0     1.0  \n",
      "2     1.0  0.788    0.0     1.0  \n",
      "3     0.0  0.686    0.5     1.0  \n",
      "4     1.0  0.709    1.0     1.0  \n",
      "\n",
      "[5 rows x 57 columns]\n"
     ]
    }
   ],
   "source": [
    "total_features = np.c_[ usable_features, usable_labels ]\n",
    "# print(total_features.shape)\n",
    "# print(num_features)\n",
    "# column_list = list(range(num_features)) + [last_idx - 1, last_idx - 2, num_features ] \n",
    "column_list = feature_indices_to_consider + [num_features]\n",
    "# print( column_list )\n",
    "\n",
    "df = pd.DataFrame(total_features, columns = column_list )\n",
    "\n",
    "# turn column names to strings\n",
    "# df.columns = df.columns.astype(str)\n",
    "\n",
    "# assign traits as column names\n",
    "column_names = traits.copy()\n",
    "column_names.append('output')\n",
    "df.columns = column_names\n",
    "df['APOE4'] = (df['APOE4'] - df['APOE4'].min()) / (df['APOE4'].max() - df['APOE4'].min())    \n",
    "\n",
    "# print( df.columns )\n",
    "\n",
    "# dropping last / output column in df\n",
    "df_X = df.iloc[: , :-1]\n",
    "# taking the output column of df\n",
    "df_Y = df.iloc[: , -1]\n",
    "\n",
    "print( df.head() )\n",
    "# print( df_X.head() )\n",
    "# print( df_Y.head() )\n",
    "\n"
   ]
  },
  {
   "cell_type": "code",
   "execution_count": 34,
   "metadata": {},
   "outputs": [
    {
     "name": "stdout",
     "output_type": "stream",
     "text": [
      "(808, 57)\n"
     ]
    }
   ],
   "source": [
    "print(df.shape)\n",
    "# df.to_csv('ros_adni_merged/adni_6yrs.csv')"
   ]
  },
  {
   "cell_type": "markdown",
   "metadata": {},
   "source": [
    "# Get equal amount of positive & negative data"
   ]
  },
  {
   "cell_type": "code",
   "execution_count": 35,
   "metadata": {},
   "outputs": [
    {
     "name": "stdout",
     "output_type": "stream",
     "text": [
      "1.0    576\n",
      "0.0    232\n",
      "Name: output, dtype: int64\n",
      "(464, 57)\n"
     ]
    }
   ],
   "source": [
    "print( df['output'].value_counts() )\n",
    "\n",
    "ones = df[df['output'] == 1]\n",
    "zeros = df[df['output'] == 0]\n",
    "min_len = min( len(ones), len(zeros) ) \n",
    "\n",
    "ones = ones.iloc[:min_len, :]\n",
    "zeros = zeros.iloc[:min_len, :]\n",
    "\n",
    "df = ones.append(zeros, ignore_index=True)\n",
    "print(df.shape)"
   ]
  },
  {
   "cell_type": "markdown",
   "metadata": {},
   "source": [
    "# SMOTE Analysis to oversample data\n",
    "\n",
    "https://towardsdatascience.com/smote-synthetic-data-augmentation-for-tabular-data-1ce28090debc#:~:text=SMOTE%20is%20an%20over%2Dsampling,its%20%E2%80%9Ck%E2%80%9D%20nearest%20neighbors."
   ]
  },
  {
   "cell_type": "code",
   "execution_count": 36,
   "metadata": {},
   "outputs": [],
   "source": [
    "\n",
    "def smote(x, y):\n",
    "    # Synthetic Minority Over-samping Technique\n",
    "    # \n",
    "    # sampling_strategy: determines the portion of samples to \n",
    "    #                    generate with respect to the majority class\n",
    "    # k_neighbors : number of neighbors to be considered for each sample\n",
    "    \n",
    "    # For this example, only 1% of minoirty samples are considered\n",
    "    k_neighbors = math.ceil(sum(y) * 0.01)\n",
    "      \n",
    "    smote = SMOTE(sampling_strategy=1, \n",
    "                  k_neighbors=k_neighbors)\n",
    "    x, y = smote.fit_resample(x, y)\n",
    "    \n",
    "    return x, y\n",
    "    \n",
    "def bordersmote(x, y):\n",
    "    # Borderline-SMOTE\n",
    "    # \n",
    "    # sampling_strategy: determines the portion of samples to \n",
    "    #                    generate with respect to the majority class\n",
    "    # k_neighbors : number of neighbors to be considered for each sample\n",
    "    # m_neighbors : number of neighbors to consider to determine if a sample is danger\n",
    "    \n",
    "    # For this example, only 1% of minoirty samples are considered\n",
    "    k_neighbors = math.ceil(sum(y) * 0.01)\n",
    "    m_neighbors = math.ceil(sum(y) * 0.01)\n",
    "    \n",
    "    bordersmote = BorderlineSMOTE(sampling_strategy=1, \n",
    "                                  k_neighbors=k_neighbors, \n",
    "                                  m_neighbors=m_neighbors)\n",
    "    \n",
    "    x, y = bordersmote.fit_resample(x, y)\n",
    "    \n",
    "    return x, y\n",
    "    \n",
    "def adasyn(x, y):\n",
    "    # Adaptive Synthetic\n",
    "    # \n",
    "    # sampling_strategy: determines the portion of samples to \n",
    "    #                    generate with respect to the majority class\n",
    "    # n_neighbors : number of neighbors to be considered for each sample\n",
    "    \n",
    "    # For this example, only 1% of minoirty samples are considered\n",
    "    n_neighbors = math.ceil(sum(y) * 0.01)\n",
    "    \n",
    "    adasyn = ADASYN(sampling_strategy=1,\n",
    "                   n_neighbors=n_neighbors)\n",
    "    x, y = adasyn.fit_resample(x, y)\n",
    "\n",
    "    return x, y"
   ]
  },
  {
   "cell_type": "code",
   "execution_count": 37,
   "metadata": {},
   "outputs": [],
   "source": [
    "# # dropping last / output column in df\n",
    "# shuffled_X = shuffled.iloc[: , :-1]\n",
    "# # taking the output column of df\n",
    "# shuffled_Y = shuffled.iloc[: , -1]\n",
    "# print(df.shape)\n",
    "# df_X_new, df_Y_new = bordersmote(df_X, df_Y)\n",
    "# print( df_X_new.shape, df_Y_new.shape )\n",
    "\n",
    "# df = df_X_new\n",
    "# df['output'] = df_Y_new\n",
    "# print(df.shape)\n"
   ]
  },
  {
   "cell_type": "code",
   "execution_count": 38,
   "metadata": {},
   "outputs": [
    {
     "name": "stdout",
     "output_type": "stream",
     "text": [
      "1.0    232\n",
      "0.0    232\n",
      "Name: output, dtype: int64\n",
      "   Non-cancer illness code, self-reported: type 2 diabetes  \\\n",
      "0                                          -0.960335         \n",
      "1                                           1.138523         \n",
      "2                                           0.902894         \n",
      "3                                           0.364530         \n",
      "4                                          -0.577780         \n",
      "\n",
      "   Ever had known person concerned about, or recommend reduction of, alcohol consumption: No  \\\n",
      "0                                           1.321775                                           \n",
      "1                                           0.402761                                           \n",
      "2                                           0.144739                                           \n",
      "3                                          -0.146442                                           \n",
      "4                                           0.399917                                           \n",
      "\n",
      "   Ever had known person concerned about, or recommend reduction of, alcohol consumption: Yes, but not in the last year  \\\n",
      "0                                           0.200117                                                                      \n",
      "1                                           0.485669                                                                      \n",
      "2                                           0.729288                                                                      \n",
      "3                                          -1.059038                                                                      \n",
      "4                                           1.083757                                                                      \n",
      "\n",
      "   Ever had known person concerned about, or recommend reduction of, alcohol consumption: Yes, during the last year  \\\n",
      "0                                           0.428231                                                                  \n",
      "1                                           0.024429                                                                  \n",
      "2                                           0.545684                                                                  \n",
      "3                                           0.366148                                                                  \n",
      "4                                           0.105396                                                                  \n",
      "\n",
      "   Total cholesterol  HDL cholesterol  LDL cholesterol  triglycerides  \\\n",
      "0          -2.514147        -1.004727        -2.157089       1.150449   \n",
      "1           0.709317        -1.331891         0.296803       0.526724   \n",
      "2          -0.223670        -0.364057        -0.776616       0.896496   \n",
      "3           0.799081        -0.510388         0.780386       0.346197   \n",
      "4           1.421602         0.266841         1.740108       1.966697   \n",
      "\n",
      "   Cigarettes per Day  systolic blood pressure  ...  \\\n",
      "0            0.118371                 0.255906  ...   \n",
      "1            0.607390                -0.367588  ...   \n",
      "2            0.576153                -1.275939  ...   \n",
      "3            0.271284                -0.167139  ...   \n",
      "4            0.171658                 0.074380  ...   \n",
      "\n",
      "   Illness, injury, bereavement, stress in last 2 years: Marital separation/divorce  \\\n",
      "0                                           1.233169                                  \n",
      "1                                           0.222673                                  \n",
      "2                                           1.020071                                  \n",
      "3                                           0.338272                                  \n",
      "4                                           0.411949                                  \n",
      "\n",
      "   Illness, injury, bereavement, stress in last 2 years: Financial difficulties  \\\n",
      "0                                           1.639043                              \n",
      "1                                          -0.580087                              \n",
      "2                                           0.951036                              \n",
      "3                                           0.091528                              \n",
      "4                                           0.097683                              \n",
      "\n",
      "       ADHD  Microalbumin in urine  Parkinson's disease  Alzheimer's disease  \\\n",
      "0  1.879781               1.071902             0.978490             0.258765   \n",
      "1  0.062218              -0.016224            -0.451618             0.290424   \n",
      "2  0.929617              -0.016224             0.251613             0.264766   \n",
      "3  0.400434              -0.611614             0.128502            -0.909316   \n",
      "4 -0.069690              -0.016224             0.269944            -1.334098   \n",
      "\n",
      "   gender    age  APOE4  output  \n",
      "0     0.0  0.769    0.0     1.0  \n",
      "1     1.0  0.683    0.0     1.0  \n",
      "2     1.0  0.788    0.0     1.0  \n",
      "3     0.0  0.686    0.5     1.0  \n",
      "4     1.0  0.709    1.0     1.0  \n",
      "\n",
      "[5 rows x 57 columns]\n"
     ]
    }
   ],
   "source": [
    "print( df['output'].value_counts() )\n",
    "print(df.head())\n",
    "\n",
    "# ones = df[df['output'] == 1]\n",
    "# zeros = df[df['output'] == 0]\n",
    "# min_len = min( len(ones), len(zeros) ) \n",
    "\n",
    "# ones = ones.iloc[:min_len, :]\n",
    "# zeros = zeros.iloc[:min_len, :]\n",
    "\n",
    "# df = ones.append(zeros, ignore_index=True)\n",
    "# print(df.shape)"
   ]
  },
  {
   "cell_type": "markdown",
   "metadata": {},
   "source": [
    "# Shuffling dataframe\n",
    "\n",
    "**Dropping alcohol recommended columns**"
   ]
  },
  {
   "cell_type": "code",
   "execution_count": 39,
   "metadata": {},
   "outputs": [
    {
     "name": "stdout",
     "output_type": "stream",
     "text": [
      "   Non-cancer illness code, self-reported: type 2 diabetes  \\\n",
      "0                                          -0.819408         \n",
      "1                                           0.188020         \n",
      "2                                          -1.036659         \n",
      "3                                           1.300829         \n",
      "4                                          -0.214900         \n",
      "\n",
      "   Ever had known person concerned about, or recommend reduction of, alcohol consumption: No  \\\n",
      "0                                           0.382139                                           \n",
      "1                                          -1.177304                                           \n",
      "2                                           0.658124                                           \n",
      "3                                           0.165516                                           \n",
      "4                                           0.564594                                           \n",
      "\n",
      "   Ever had known person concerned about, or recommend reduction of, alcohol consumption: Yes, but not in the last year  \\\n",
      "0                                           0.061027                                                                      \n",
      "1                                          -0.097127                                                                      \n",
      "2                                          -0.494219                                                                      \n",
      "3                                           0.648550                                                                      \n",
      "4                                           1.072501                                                                      \n",
      "\n",
      "   Ever had known person concerned about, or recommend reduction of, alcohol consumption: Yes, during the last year  \\\n",
      "0                                           0.189013                                                                  \n",
      "1                                          -0.197121                                                                  \n",
      "2                                           0.469733                                                                  \n",
      "3                                          -0.052344                                                                  \n",
      "4                                          -0.490948                                                                  \n",
      "\n",
      "   Total cholesterol  HDL cholesterol  LDL cholesterol  triglycerides  \\\n",
      "0           1.036229         0.063314         1.469086       0.510281   \n",
      "1          -1.226604        -0.885684        -1.336015       2.235259   \n",
      "2          -1.489633         0.263038        -1.340507       1.529443   \n",
      "3           0.969924        -0.570415         1.604220       0.327796   \n",
      "4           0.581332         0.157751        -0.152839       0.502734   \n",
      "\n",
      "   Cigarettes per Day  systolic blood pressure  ...  \\\n",
      "0           -0.543418                 0.633621  ...   \n",
      "1           -1.285366                 1.480495  ...   \n",
      "2            0.280471                -1.224046  ...   \n",
      "3            0.694579                -0.978939  ...   \n",
      "4           -0.508744                -0.140194  ...   \n",
      "\n",
      "   Illness, injury, bereavement, stress in last 2 years: Marital separation/divorce  \\\n",
      "0                                           0.787794                                  \n",
      "1                                          -1.075161                                  \n",
      "2                                           0.544711                                  \n",
      "3                                           0.053301                                  \n",
      "4                                           0.530233                                  \n",
      "\n",
      "   Illness, injury, bereavement, stress in last 2 years: Financial difficulties  \\\n",
      "0                                           1.128272                              \n",
      "1                                          -0.983379                              \n",
      "2                                           0.232975                              \n",
      "3                                           0.184508                              \n",
      "4                                           0.406567                              \n",
      "\n",
      "       ADHD  Microalbumin in urine  Parkinson's disease  Alzheimer's disease  \\\n",
      "0  0.904256              -0.611614             0.201119             0.051652   \n",
      "1  0.067510              -0.611614            -0.774038            -0.142278   \n",
      "2  0.074498              -0.611614            -0.367916             1.710814   \n",
      "3  0.493758               2.232191            -0.631882            -0.980363   \n",
      "4 -1.057598              -1.207004             0.320504            -0.157164   \n",
      "\n",
      "   gender    age  APOE4  output  \n",
      "0     0.0  0.796    0.5     1.0  \n",
      "1     0.0  0.723    0.0     1.0  \n",
      "2     0.0  0.702    0.0     0.0  \n",
      "3     0.0  0.724    0.5     0.0  \n",
      "4     0.0  0.833    0.0     1.0  \n",
      "\n",
      "[5 rows x 57 columns]\n"
     ]
    }
   ],
   "source": [
    "# # keep the index same\n",
    "# shuffled = df.sample(frac=1)\n",
    "# print( shuffled.head() )\n",
    "\n",
    "# reset the index\n",
    "shuffled = df.sample(frac=1, random_state = 1).reset_index()\n",
    "# print(shuffled.columns)\n",
    "shuffled = shuffled.drop( ['index'], axis = 1 )\n",
    "\n",
    "\n",
    "# #  dropping alcohol recommended columns\n",
    "# shuffled = shuffled.drop(['Ever had known person concerned about, or recommend reduction of, alcohol consumption: No', 'Ever had known person concerned about, or recommend reduction of, alcohol consumption: Yes, but not in the last year', 'Ever had known person concerned about, or recommend reduction of, alcohol consumption: Yes, during the last year'], axis = 1)\n",
    "# shuffled = shuffled.drop(['Non-cancer illness code, self-reported: anxiety/panic attacks', 'Sleeplessness / insomnia', 'Non-cancer illness code, self-reported: type 2 diabetes', \"Illnesses of father: Alzheimer's disease/dementia\", \"Illnesses of mother: Alzheimer's disease/dementia\", \"Alcohol intake frequency\", 'Other meat intake' ], axis = 1)\n",
    "\n",
    "print( shuffled.head() )\n",
    "\n"
   ]
  },
  {
   "cell_type": "code",
   "execution_count": null,
   "metadata": {},
   "outputs": [],
   "source": []
  },
  {
   "cell_type": "code",
   "execution_count": 40,
   "metadata": {},
   "outputs": [
    {
     "name": "stdout",
     "output_type": "stream",
     "text": [
      "Usable Features :  tensor([[-0.9603,  1.3218,  0.2001,  0.4282, -2.5141, -1.0047, -2.1571,  1.1504,\n",
      "          0.1184,  0.2559,  0.0611,  1.0647,  2.0988,  0.2044,  0.6044, -0.7672,\n",
      "         -0.0389, -0.4630, -0.0963, -0.2294,  0.8050,  0.5858,  0.6490,  0.6385,\n",
      "          0.8230,  0.7771,  0.6264,  1.4069,  0.9675,  0.6394, -1.1226, -0.6376,\n",
      "          0.8129, -0.0685,  0.6861, -0.1525, -0.2040,  0.3581,  0.8493,  0.0402,\n",
      "          0.4381,  0.9044,  0.5321,  0.6802,  2.7494,  0.4675,  0.7722,  1.2332,\n",
      "          1.6390,  1.8798,  1.0719,  0.9785,  0.2588,  0.0000,  0.7690,  0.0000],\n",
      "        [ 1.1385,  0.4028,  0.4857,  0.0244,  0.7093, -1.3319,  0.2968,  0.5267,\n",
      "          0.6074, -0.3676,  0.2666,  0.4514, -0.1329, -0.9391,  0.5022,  1.8441,\n",
      "          0.6441,  1.8459, -0.5425, -0.1262, -0.8022,  0.4240,  1.6018, -0.5013,\n",
      "          0.8192,  0.7936,  0.0872, -1.8013,  1.5432, -0.3336,  0.6009, -0.9466,\n",
      "         -0.1161,  0.9842,  0.1516,  0.3998, -0.1960,  0.6639,  0.1539, -0.2587,\n",
      "          0.4926,  0.4102,  0.3938,  0.0534, -0.0130,  0.4675, -0.3010,  0.2227,\n",
      "         -0.5801,  0.0622, -0.0162, -0.4516,  0.2904,  1.0000,  0.6830,  0.0000]])\n",
      "torch.Size([808, 56])\n"
     ]
    }
   ],
   "source": [
    "usable_features = torch.autograd.Variable(torch.from_numpy(usable_features)).to(DEVICE).float()\n",
    "\n",
    "print(\"Usable Features : \", usable_features[:2])\n",
    "\n",
    "print(usable_features.shape)"
   ]
  },
  {
   "cell_type": "markdown",
   "metadata": {},
   "source": [
    "# Combining Illness of Father & Mother having Alzheimer\n",
    "\n",
    "Previously data showed a negative correlation with both of these factors, which shouldn't be. We will now try to combine both risk scores by averaging it and use is as a new feature, descarding the previous two. This new feature will represent the risk score of a parent having Alzheimer."
   ]
  },
  {
   "cell_type": "code",
   "execution_count": 41,
   "metadata": {},
   "outputs": [],
   "source": [
    "# shuffled['Parent having Alzheimer'] = shuffled[[\"Illnesses of father: Alzheimer's disease/dementia\", \"Illnesses of mother: Alzheimer's disease/dementia\"]].max(axis=1)\n",
    "# shuffled[[\"Illnesses of father: Alzheimer's disease/dementia\", \"Illnesses of mother: Alzheimer's disease/dementia\", \"Parent having Alzheimer\"]].head()"
   ]
  },
  {
   "cell_type": "code",
   "execution_count": 42,
   "metadata": {},
   "outputs": [],
   "source": [
    "# shuffled = shuffled.drop(['Illnesses of mother: Alzheimer\\'s disease/dementia', 'Illnesses of father: Alzheimer\\'s disease/dementia'], axis = 1 )\n",
    "# print( shuffled.head() )"
   ]
  },
  {
   "cell_type": "code",
   "execution_count": 43,
   "metadata": {},
   "outputs": [],
   "source": [
    "# index=shuffled.columns.get_loc(\"output\")\n",
    "# temp_cols = shuffled.columns.tolist()\n",
    "# print(index)\n",
    "# new_cols= temp_cols[0 : index] + temp_cols[index+1 : ] + temp_cols[index : index + 1 ]\n",
    "# shuffled = shuffled[new_cols]\n",
    "# print( shuffled.head() )"
   ]
  },
  {
   "cell_type": "markdown",
   "metadata": {},
   "source": [
    "# X, Y differentiate"
   ]
  },
  {
   "cell_type": "code",
   "execution_count": 44,
   "metadata": {},
   "outputs": [],
   "source": [
    "# dropping last / output column in df\n",
    "shuffled_X = shuffled.iloc[: , :-1]\n",
    "# taking the output column of df\n",
    "shuffled_Y = shuffled.iloc[: , -1]"
   ]
  },
  {
   "cell_type": "markdown",
   "metadata": {},
   "source": [
    "# Feature Analysis"
   ]
  },
  {
   "cell_type": "code",
   "execution_count": 45,
   "metadata": {},
   "outputs": [
    {
     "name": "stdout",
     "output_type": "stream",
     "text": [
      "Non-cancer illness code, self-reported: type 2 diabetes\n"
     ]
    },
    {
     "data": {
      "image/png": "[encoded data removed]",
      "text/plain": [
       "<Figure size 640x480 with 1 Axes>"
      ]
     },
     "metadata": {},
     "output_type": "display_data"
    },
    {
     "name": "stdout",
     "output_type": "stream",
     "text": [
      "Ever had known person concerned about, or recommend reduction of, alcohol consumption: No\n"
     ]
    },
    {
     "data": {
      "image/png": "[encoded data removed]",
      "text/plain": [
       "<Figure size 640x480 with 1 Axes>"
      ]
     },
     "metadata": {},
     "output_type": "display_data"
    },
    {
     "name": "stdout",
     "output_type": "stream",
     "text": [
      "Ever had known person concerned about, or recommend reduction of, alcohol consumption: Yes, but not in the last year\n"
     ]
    },
    {
     "data": {
      "image/png": "[encoded data removed]",
      "text/plain": [
       "<Figure size 640x480 with 1 Axes>"
      ]
     },
     "metadata": {},
     "output_type": "display_data"
    },
    {
     "name": "stdout",
     "output_type": "stream",
     "text": [
      "Ever had known person concerned about, or recommend reduction of, alcohol consumption: Yes, during the last year\n"
     ]
    },
    {
     "data": {
      "image/png": "[encoded data removed]",
      "text/plain": [
       "<Figure size 640x480 with 1 Axes>"
      ]
     },
     "metadata": {},
     "output_type": "display_data"
    },
    {
     "name": "stdout",
     "output_type": "stream",
     "text": [
      "Total cholesterol\n"
     ]
    },
    {
     "data": {
      "image/png": "[encoded data removed]",
      "text/plain": [
       "<Figure size 640x480 with 1 Axes>"
      ]
     },
     "metadata": {},
     "output_type": "display_data"
    },
    {
     "name": "stdout",
     "output_type": "stream",
     "text": [
      "HDL cholesterol\n"
     ]
    },
    {
     "data": {
      "image/png": "[encoded data removed]",
      "text/plain": [
       "<Figure size 640x480 with 1 Axes>"
      ]
     },
     "metadata": {},
     "output_type": "display_data"
    },
    {
     "name": "stdout",
     "output_type": "stream",
     "text": [
      "LDL cholesterol\n"
     ]
    },
    {
     "data": {
      "image/png": "[encoded data removed]",
      "text/plain": [
       "<Figure size 640x480 with 1 Axes>"
      ]
     },
     "metadata": {},
     "output_type": "display_data"
    },
    {
     "name": "stdout",
     "output_type": "stream",
     "text": [
      "triglycerides\n"
     ]
    },
    {
     "data": {
      "image/png": "[encoded data removed]",
      "text/plain": [
       "<Figure size 640x480 with 1 Axes>"
      ]
     },
     "metadata": {},
     "output_type": "display_data"
    },
    {
     "name": "stdout",
     "output_type": "stream",
     "text": [
      "Cigarettes per Day\n"
     ]
    },
    {
     "data": {
      "image/png": "[encoded data removed]",
      "text/plain": [
       "<Figure size 640x480 with 1 Axes>"
      ]
     },
     "metadata": {},
     "output_type": "display_data"
    },
    {
     "name": "stdout",
     "output_type": "stream",
     "text": [
      "systolic blood pressure\n"
     ]
    },
    {
     "data": {
      "image/png": "[encoded data removed]",
      "text/plain": [
       "<Figure size 640x480 with 1 Axes>"
      ]
     },
     "metadata": {},
     "output_type": "display_data"
    },
    {
     "name": "stdout",
     "output_type": "stream",
     "text": [
      "diastolic blood pressure\n"
     ]
    },
    {
     "data": {
      "image/png": "[encoded data removed]",
      "text/plain": [
       "<Figure size 640x480 with 1 Axes>"
      ]
     },
     "metadata": {},
     "output_type": "display_data"
    },
    {
     "name": "stdout",
     "output_type": "stream",
     "text": [
      "Hearing difficulty/problems: Yes\n"
     ]
    },
    {
     "data": {
      "image/png": "[encoded data removed]",
      "text/plain": [
       "<Figure size 640x480 with 1 Axes>"
      ]
     },
     "metadata": {},
     "output_type": "display_data"
    },
    {
     "name": "stdout",
     "output_type": "stream",
     "text": [
      "Non-cancer illness code, self-reported: depression\n"
     ]
    },
    {
     "data": {
      "image/png": "[encoded data removed]",
      "text/plain": [
       "<Figure size 640x480 with 1 Axes>"
      ]
     },
     "metadata": {},
     "output_type": "display_data"
    },
    {
     "name": "stdout",
     "output_type": "stream",
     "text": [
      "Non-oily fish intake\n"
     ]
    },
    {
     "data": {
      "image/png": "[encoded data removed]",
      "text/plain": [
       "<Figure size 640x480 with 1 Axes>"
      ]
     },
     "metadata": {},
     "output_type": "display_data"
    },
    {
     "name": "stdout",
     "output_type": "stream",
     "text": [
      "Hearing difficulty/problems with background noise\n"
     ]
    },
    {
     "data": {
      "image/png": "[encoded data removed]",
      "text/plain": [
       "<Figure size 640x480 with 1 Axes>"
      ]
     },
     "metadata": {},
     "output_type": "display_data"
    },
    {
     "name": "stdout",
     "output_type": "stream",
     "text": [
      "Body mass index (BMI)\n"
     ]
    },
    {
     "data": {
      "image/png": "[encoded data removed]",
      "text/plain": [
       "<Figure size 640x480 with 1 Axes>"
      ]
     },
     "metadata": {},
     "output_type": "display_data"
    },
    {
     "name": "stdout",
     "output_type": "stream",
     "text": [
      "Oily fish intake\n"
     ]
    },
    {
     "data": {
      "image/png": "[encoded data removed]",
      "text/plain": [
       "<Figure size 640x480 with 1 Axes>"
      ]
     },
     "metadata": {},
     "output_type": "display_data"
    },
    {
     "name": "stdout",
     "output_type": "stream",
     "text": [
      "Sleeplessness / insomnia\n"
     ]
    },
    {
     "data": {
      "image/png": "[encoded data removed]",
      "text/plain": [
       "<Figure size 640x480 with 1 Axes>"
      ]
     },
     "metadata": {},
     "output_type": "display_data"
    },
    {
     "name": "stdout",
     "output_type": "stream",
     "text": [
      "Sleep duration\n"
     ]
    },
    {
     "data": {
      "image/png": "[encoded data removed]",
      "text/plain": [
       "<Figure size 640x480 with 1 Axes>"
      ]
     },
     "metadata": {},
     "output_type": "display_data"
    },
    {
     "name": "stdout",
     "output_type": "stream",
     "text": [
      "Age completed full time education\n"
     ]
    },
    {
     "data": {
      "image/png": "[encoded data removed]",
      "text/plain": [
       "<Figure size 640x480 with 1 Axes>"
      ]
     },
     "metadata": {},
     "output_type": "display_data"
    },
    {
     "name": "stdout",
     "output_type": "stream",
     "text": [
      "Processed meat intake\n"
     ]
    },
    {
     "data": {
      "image/png": "[encoded data removed]",
      "text/plain": [
       "<Figure size 640x480 with 1 Axes>"
      ]
     },
     "metadata": {},
     "output_type": "display_data"
    },
    {
     "name": "stdout",
     "output_type": "stream",
     "text": [
      "Types of physical activity in last 4 weeks: Strenuous sports\n"
     ]
    },
    {
     "data": {
      "image/png": "[encoded data removed]",
      "text/plain": [
       "<Figure size 640x480 with 1 Axes>"
      ]
     },
     "metadata": {},
     "output_type": "display_data"
    },
    {
     "name": "stdout",
     "output_type": "stream",
     "text": [
      "Other meat intake\n"
     ]
    },
    {
     "data": {
      "image/png": "[encoded data removed]",
      "text/plain": [
       "<Figure size 640x480 with 1 Axes>"
      ]
     },
     "metadata": {},
     "output_type": "display_data"
    },
    {
     "name": "stdout",
     "output_type": "stream",
     "text": [
      "Loneliness, isolation\n"
     ]
    },
    {
     "data": {
      "image/png": "[encoded data removed]",
      "text/plain": [
       "<Figure size 640x480 with 1 Axes>"
      ]
     },
     "metadata": {},
     "output_type": "display_data"
    },
    {
     "name": "stdout",
     "output_type": "stream",
     "text": [
      "Illnesses of father: Alzheimer's disease/dementia\n"
     ]
    },
    {
     "data": {
      "image/png": "[encoded data removed]",
      "text/plain": [
       "<Figure size 640x480 with 1 Axes>"
      ]
     },
     "metadata": {},
     "output_type": "display_data"
    },
    {
     "name": "stdout",
     "output_type": "stream",
     "text": [
      "Illnesses of mother: Alzheimer's disease/dementia\n"
     ]
    },
    {
     "data": {
      "image/png": "[encoded data removed]",
      "text/plain": [
       "<Figure size 640x480 with 1 Axes>"
      ]
     },
     "metadata": {},
     "output_type": "display_data"
    },
    {
     "name": "stdout",
     "output_type": "stream",
     "text": [
      "Mood swings\n"
     ]
    },
    {
     "data": {
      "image/png": "[encoded data removed]",
      "text/plain": [
       "<Figure size 640x480 with 1 Axes>"
      ]
     },
     "metadata": {},
     "output_type": "display_data"
    },
    {
     "name": "stdout",
     "output_type": "stream",
     "text": [
      "Non-cancer illness code, self-reported: anxiety/panic attacks\n"
     ]
    },
    {
     "data": {
      "image/png": "[encoded data removed]",
      "text/plain": [
       "<Figure size 640x480 with 1 Axes>"
      ]
     },
     "metadata": {},
     "output_type": "display_data"
    },
    {
     "name": "stdout",
     "output_type": "stream",
     "text": [
      "Non-cancer illness code, self-reported: stroke\n"
     ]
    },
    {
     "data": {
      "image/png": "[encoded data removed]",
      "text/plain": [
       "<Figure size 640x480 with 1 Axes>"
      ]
     },
     "metadata": {},
     "output_type": "display_data"
    },
    {
     "name": "stdout",
     "output_type": "stream",
     "text": [
      "Non-cancer illness code, self-reported: head injury\n"
     ]
    },
    {
     "data": {
      "image/png": "[encoded data removed]",
      "text/plain": [
       "<Figure size 640x480 with 1 Axes>"
      ]
     },
     "metadata": {},
     "output_type": "display_data"
    },
    {
     "name": "stdout",
     "output_type": "stream",
     "text": [
      "Alcohol intake frequency\n"
     ]
    },
    {
     "data": {
      "image/png": "[encoded data removed]",
      "text/plain": [
       "<Figure size 640x480 with 1 Axes>"
      ]
     },
     "metadata": {},
     "output_type": "display_data"
    },
    {
     "name": "stdout",
     "output_type": "stream",
     "text": [
      "Diagnoses - secondary ICD10: E66.9 Obesity, unspecified\n"
     ]
    },
    {
     "data": {
      "image/png": "[encoded data removed]",
      "text/plain": [
       "<Figure size 640x480 with 1 Axes>"
      ]
     },
     "metadata": {},
     "output_type": "display_data"
    },
    {
     "name": "stdout",
     "output_type": "stream",
     "text": [
      "Non-cancer illness code, self-reported: hypothyroidism/myxoedema\n"
     ]
    },
    {
     "data": {
      "image/png": "[encoded data removed]",
      "text/plain": [
       "<Figure size 640x480 with 1 Axes>"
      ]
     },
     "metadata": {},
     "output_type": "display_data"
    },
    {
     "name": "stdout",
     "output_type": "stream",
     "text": [
      "Non-cancer illness code, self-reported: hyperthyroidism/thyrotoxicosis\n"
     ]
    },
    {
     "data": {
      "image/png": "[encoded data removed]",
      "text/plain": [
       "<Figure size 640x480 with 1 Axes>"
      ]
     },
     "metadata": {},
     "output_type": "display_data"
    },
    {
     "name": "stdout",
     "output_type": "stream",
     "text": [
      "Non-cancer illness code, self-reported: hypertension\n"
     ]
    },
    {
     "data": {
      "image/png": "[encoded data removed]",
      "text/plain": [
       "<Figure size 640x480 with 1 Axes>"
      ]
     },
     "metadata": {},
     "output_type": "display_data"
    },
    {
     "name": "stdout",
     "output_type": "stream",
     "text": [
      "Particulate matter air pollution 2.5-10um; 2010\n"
     ]
    },
    {
     "data": {
      "image/png": "[encoded data removed]",
      "text/plain": [
       "<Figure size 640x480 with 1 Axes>"
      ]
     },
     "metadata": {},
     "output_type": "display_data"
    },
    {
     "name": "stdout",
     "output_type": "stream",
     "text": [
      "Nitrogen oxides air pollution; 2010\n"
     ]
    },
    {
     "data": {
      "image/png": "[encoded data removed]",
      "text/plain": [
       "<Figure size 640x480 with 1 Axes>"
      ]
     },
     "metadata": {},
     "output_type": "display_data"
    },
    {
     "name": "stdout",
     "output_type": "stream",
     "text": [
      "Types of physical activity in last 4 weeks: Light DIY (eg: pruning, watering the lawn)\n"
     ]
    },
    {
     "data": {
      "image/png": "[encoded data removed]",
      "text/plain": [
       "<Figure size 640x480 with 1 Axes>"
      ]
     },
     "metadata": {},
     "output_type": "display_data"
    },
    {
     "name": "stdout",
     "output_type": "stream",
     "text": [
      "Diagnoses - secondary ICD10: I10 Essential (primary) hypertension\n"
     ]
    },
    {
     "data": {
      "image/png": "[encoded data removed]",
      "text/plain": [
       "<Figure size 640x480 with 1 Axes>"
      ]
     },
     "metadata": {},
     "output_type": "display_data"
    },
    {
     "name": "stdout",
     "output_type": "stream",
     "text": [
      "Prospective memory result\n"
     ]
    },
    {
     "data": {
      "image/png": "[encoded data removed]",
      "text/plain": [
       "<Figure size 640x480 with 1 Axes>"
      ]
     },
     "metadata": {},
     "output_type": "display_data"
    },
    {
     "name": "stdout",
     "output_type": "stream",
     "text": [
      "Leisure/social activities: Pub or social club\n"
     ]
    },
    {
     "data": {
      "image/png": "[encoded data removed]",
      "text/plain": [
       "<Figure size 640x480 with 1 Axes>"
      ]
     },
     "metadata": {},
     "output_type": "display_data"
    },
    {
     "name": "stdout",
     "output_type": "stream",
     "text": [
      "Leisure/social activities: Sports club or gym\n"
     ]
    },
    {
     "data": {
      "image/png": "[encoded data removed]",
      "text/plain": [
       "<Figure size 640x480 with 1 Axes>"
      ]
     },
     "metadata": {},
     "output_type": "display_data"
    },
    {
     "name": "stdout",
     "output_type": "stream",
     "text": [
      "Mental health problems ever diagnosed by a professional: Social anxiety or social phobia\n"
     ]
    },
    {
     "data": {
      "image/png": "[encoded data removed]",
      "text/plain": [
       "<Figure size 640x480 with 1 Axes>"
      ]
     },
     "metadata": {},
     "output_type": "display_data"
    },
    {
     "name": "stdout",
     "output_type": "stream",
     "text": [
      "Mental health problems ever diagnosed by a professional: Anxiety, nerves or generalized anxiety disorder\n"
     ]
    },
    {
     "data": {
      "image/png": "[encoded data removed]",
      "text/plain": [
       "<Figure size 640x480 with 1 Axes>"
      ]
     },
     "metadata": {},
     "output_type": "display_data"
    },
    {
     "name": "stdout",
     "output_type": "stream",
     "text": [
      "Operation code: brain surgery\n"
     ]
    },
    {
     "data": {
      "image/png": "[encoded data removed]",
      "text/plain": [
       "<Figure size 640x480 with 1 Axes>"
      ]
     },
     "metadata": {},
     "output_type": "display_data"
    },
    {
     "name": "stdout",
     "output_type": "stream",
     "text": [
      "Ever had prolonged loss of interest in normal activities\n"
     ]
    },
    {
     "data": {
      "image/png": "[encoded data removed]",
      "text/plain": [
       "<Figure size 640x480 with 1 Axes>"
      ]
     },
     "metadata": {},
     "output_type": "display_data"
    },
    {
     "name": "stdout",
     "output_type": "stream",
     "text": [
      "Illness, injury, bereavement, stress in last 2 years: Serious illness, injury or assault to yourself\n"
     ]
    },
    {
     "data": {
      "image/png": "[encoded data removed]",
      "text/plain": [
       "<Figure size 640x480 with 1 Axes>"
      ]
     },
     "metadata": {},
     "output_type": "display_data"
    },
    {
     "name": "stdout",
     "output_type": "stream",
     "text": [
      "Illness, injury, bereavement, stress in last 2 years: Marital separation/divorce\n"
     ]
    },
    {
     "data": {
      "image/png": "[encoded data removed]",
      "text/plain": [
       "<Figure size 640x480 with 1 Axes>"
      ]
     },
     "metadata": {},
     "output_type": "display_data"
    },
    {
     "name": "stdout",
     "output_type": "stream",
     "text": [
      "Illness, injury, bereavement, stress in last 2 years: Financial difficulties\n"
     ]
    },
    {
     "data": {
      "image/png": "[encoded data removed]",
      "text/plain": [
       "<Figure size 640x480 with 1 Axes>"
      ]
     },
     "metadata": {},
     "output_type": "display_data"
    },
    {
     "name": "stdout",
     "output_type": "stream",
     "text": [
      "ADHD\n"
     ]
    },
    {
     "data": {
      "image/png": "[encoded data removed]",
      "text/plain": [
       "<Figure size 640x480 with 1 Axes>"
      ]
     },
     "metadata": {},
     "output_type": "display_data"
    },
    {
     "name": "stdout",
     "output_type": "stream",
     "text": [
      "Microalbumin in urine\n"
     ]
    },
    {
     "data": {
      "image/png": "[encoded data removed]",
      "text/plain": [
       "<Figure size 640x480 with 1 Axes>"
      ]
     },
     "metadata": {},
     "output_type": "display_data"
    },
    {
     "name": "stdout",
     "output_type": "stream",
     "text": [
      "Parkinson's disease\n"
     ]
    },
    {
     "data": {
      "image/png": "[encoded data removed]",
      "text/plain": [
       "<Figure size 640x480 with 1 Axes>"
      ]
     },
     "metadata": {},
     "output_type": "display_data"
    },
    {
     "name": "stdout",
     "output_type": "stream",
     "text": [
      "Alzheimer's disease\n"
     ]
    },
    {
     "data": {
      "image/png": "[encoded data removed]",
      "text/plain": [
       "<Figure size 640x480 with 1 Axes>"
      ]
     },
     "metadata": {},
     "output_type": "display_data"
    },
    {
     "name": "stdout",
     "output_type": "stream",
     "text": [
      "gender\n"
     ]
    },
    {
     "data": {
      "image/png": "[encoded data removed]",
      "text/plain": [
       "<Figure size 640x480 with 1 Axes>"
      ]
     },
     "metadata": {},
     "output_type": "display_data"
    },
    {
     "name": "stdout",
     "output_type": "stream",
     "text": [
      "age\n"
     ]
    },
    {
     "data": {
      "image/png": "[encoded data removed]",
      "text/plain": [
       "<Figure size 640x480 with 1 Axes>"
      ]
     },
     "metadata": {},
     "output_type": "display_data"
    },
    {
     "name": "stdout",
     "output_type": "stream",
     "text": [
      "APOE4\n"
     ]
    },
    {
     "data": {
      "image/png": "[encoded data removed]",
      "text/plain": [
       "<Figure size 640x480 with 1 Axes>"
      ]
     },
     "metadata": {},
     "output_type": "display_data"
    },
    {
     "name": "stdout",
     "output_type": "stream",
     "text": [
      "output\n"
     ]
    },
    {
     "data": {
      "image/png": "[encoded data removed]",
      "text/plain": [
       "<Figure size 640x480 with 1 Axes>"
      ]
     },
     "metadata": {},
     "output_type": "display_data"
    }
   ],
   "source": [
    "# print(df.head())\n",
    "column_list = shuffled.columns\n",
    "for i in column_list:\n",
    "    print(i)\n",
    "    shuffled[i].plot(kind=\"hist\")\n",
    "    plt.show()"
   ]
  },
  {
   "cell_type": "markdown",
   "metadata": {},
   "source": [
    "**check distribution for positive and negative output with parents' Alzheimer PRS**"
   ]
  },
  {
   "cell_type": "code",
   "execution_count": 46,
   "metadata": {},
   "outputs": [
    {
     "name": "stdout",
     "output_type": "stream",
     "text": [
      "negative PRS values for negative output among  232  samples\n",
      "Illnesses of father: Alzheimer's disease/dementia     93\n",
      "Illnesses of mother: Alzheimer's disease/dementia    100\n",
      "dtype: int64\n",
      "Illnesses of father: Alzheimer's disease/dementia\n"
     ]
    },
    {
     "data": {
      "image/png": "[encoded data removed]",
      "text/plain": [
       "<Figure size 640x480 with 1 Axes>"
      ]
     },
     "metadata": {},
     "output_type": "display_data"
    },
    {
     "name": "stdout",
     "output_type": "stream",
     "text": [
      "Illnesses of mother: Alzheimer's disease/dementia\n"
     ]
    },
    {
     "data": {
      "image/png": "[encoded data removed]",
      "text/plain": [
       "<Figure size 640x480 with 1 Axes>"
      ]
     },
     "metadata": {},
     "output_type": "display_data"
    }
   ],
   "source": [
    "cols_to_check = [\"Illnesses of father: Alzheimer's disease/dementia\", \"Illnesses of mother: Alzheimer's disease/dementia\"]\n",
    "shuffled_neg = shuffled[shuffled['output'] == 0]\n",
    "\n",
    "\n",
    "print('negative PRS values for negative output among ', shuffled_neg.shape[0], \" samples\")\n",
    "print( shuffled_neg[cols_to_check].lt(0).sum() )\n",
    "\n",
    "for i in cols_to_check:\n",
    "    print(i)\n",
    "    shuffled_neg[i].plot(kind=\"hist\")\n",
    "    plt.show()"
   ]
  },
  {
   "cell_type": "code",
   "execution_count": 47,
   "metadata": {},
   "outputs": [
    {
     "name": "stdout",
     "output_type": "stream",
     "text": [
      "negative PRS values for positive output among  232  samples\n",
      "Illnesses of father: Alzheimer's disease/dementia    126\n",
      "Illnesses of mother: Alzheimer's disease/dementia    118\n",
      "dtype: int64\n",
      "Illnesses of father: Alzheimer's disease/dementia\n"
     ]
    },
    {
     "data": {
      "image/png": "[encoded data removed]",
      "text/plain": [
       "<Figure size 640x480 with 1 Axes>"
      ]
     },
     "metadata": {},
     "output_type": "display_data"
    },
    {
     "name": "stdout",
     "output_type": "stream",
     "text": [
      "Illnesses of mother: Alzheimer's disease/dementia\n"
     ]
    },
    {
     "data": {
      "image/png": "[encoded data removed]",
      "text/plain": [
       "<Figure size 640x480 with 1 Axes>"
      ]
     },
     "metadata": {},
     "output_type": "display_data"
    }
   ],
   "source": [
    "cols_to_check = [\"Illnesses of father: Alzheimer's disease/dementia\", \"Illnesses of mother: Alzheimer's disease/dementia\"]\n",
    "shuffled_pos = shuffled[shuffled['output'] == 1]\n",
    "\n",
    "\n",
    "print('negative PRS values for positive output among ', shuffled_pos.shape[0], \" samples\")\n",
    "print( shuffled_pos[cols_to_check].lt(0).sum() )\n",
    "\n",
    "for i in cols_to_check:\n",
    "    print(i)\n",
    "    shuffled_pos[i].plot(kind=\"hist\")\n",
    "    plt.show()"
   ]
  },
  {
   "cell_type": "markdown",
   "metadata": {},
   "source": [
    "# Feature Selection\n",
    "https://www.analyticsvidhya.com/blog/2020/10/feature-selection-techniques-in-machine-learning/"
   ]
  },
  {
   "cell_type": "code",
   "execution_count": 48,
   "metadata": {},
   "outputs": [],
   "source": [
    "# selected_features = []"
   ]
  },
  {
   "cell_type": "markdown",
   "metadata": {},
   "source": [
    "# Filter methods\n",
    "Filter methods pick up the intrinsic properties of the features measured via univariate statistics instead of cross-validation performance. These methods are faster and less computationally expensive than wrapper methods. When dealing with high-dimensional data, it is computationally cheaper to use filter methods."
   ]
  },
  {
   "cell_type": "markdown",
   "metadata": {},
   "source": [
    "**Information Gain**\n",
    "\n",
    "Information gain calculates the reduction in entropy from the transformation of a dataset. It can be used for feature selection by evaluating the Information gain of each variable in the context of the target variable."
   ]
  },
  {
   "cell_type": "code",
   "execution_count": 49,
   "metadata": {},
   "outputs": [],
   "source": [
    "# from sklearn.feature_selection import mutual_info_classif\n",
    "# import matplotlib.pyplot as plt\n",
    "# %matplotlib inline\n",
    "# from matplotlib.pyplot import figure\n",
    "\n",
    "# figure(figsize=(20, 20), dpi=100)\n",
    "\n",
    "# importances = mutual_info_classif(shuffled_X, shuffled_Y)\n",
    "# feat_importances = pd.Series(importances, shuffled.columns[ 0:len(shuffled.columns) - 1 ] )\n",
    "# important_features = []\n",
    "# count = 0\n",
    "# for elem in feat_importances:\n",
    "#     if elem > 0.05:\n",
    "#         important_features.append(shuffled.columns[count])\n",
    "#     count += 1\n",
    "# print(important_features)\n",
    "\n",
    "# selected_features += important_features\n",
    "# # print(selected_features)\n",
    "\n",
    "# feat_importances.plot( kind = 'barh', color = 'teal' )\n",
    "# plt.show()"
   ]
  },
  {
   "cell_type": "markdown",
   "metadata": {},
   "source": [
    "**Correlation Coefficient**\n"
   ]
  },
  {
   "cell_type": "code",
   "execution_count": 50,
   "metadata": {},
   "outputs": [],
   "source": [
    "# fig, ax = plt.subplots(figsize=(20,20))         # Sample figsize in inches\n",
    "# corr = shuffled.corr()\n",
    "# sns.heatmap( corr )"
   ]
  },
  {
   "cell_type": "code",
   "execution_count": 51,
   "metadata": {},
   "outputs": [],
   "source": [
    "# print(corr)"
   ]
  },
  {
   "cell_type": "markdown",
   "metadata": {},
   "source": [
    "**Still Alzheimer of parents show negative correlation:**\n",
    "    1. Lack of Diagnosis for parents.\n",
    "    2. Less patients overall earlier.\n",
    "    3. Lack of such patients in this dataset"
   ]
  },
  {
   "cell_type": "code",
   "execution_count": 52,
   "metadata": {},
   "outputs": [],
   "source": [
    "# print(corr.iloc[0][0])\n",
    "# features_selected = []\n",
    "# column_len = len( shuffled.columns )\n",
    "# output_idx = column_len - 1\n",
    "\n",
    "# for i in range( column_len ): \n",
    "#     if (corr.iloc[i][output_idx] > 0.1 ) and i != output_idx :\n",
    "#         features_selected.append(shuffled.columns[i])\n",
    "# print(features_selected)\n",
    "\n",
    "# selected_features += features_selected"
   ]
  },
  {
   "cell_type": "markdown",
   "metadata": {},
   "source": [
    "**Variance Threshold**\n",
    "\n",
    "The variance threshold is a simple baseline approach to feature selection. It removes all features which variance doesn’t meet some threshold. By default, it removes all zero-variance features, i.e., features that have the same value in all samples. We assume that features with a higher variance may contain more useful information, but note that we are not taking the relationship between feature variables or feature and target variables into account, which is one of the drawbacks of filter methods."
   ]
  },
  {
   "cell_type": "code",
   "execution_count": 53,
   "metadata": {},
   "outputs": [],
   "source": [
    "# from sklearn.feature_selection import VarianceThreshold\n",
    "\n",
    "# # remove features with variance less than 0.1\n",
    "# v_threshold = VarianceThreshold( threshold = 0.1 )\n",
    "# v_threshold.fit(shuffled_X)\n",
    "# print( v_threshold.get_support() )\n",
    "# rejected_col = [x for x, y in zip(shuffled_X.columns, v_threshold.get_support() ) if y == False]\n",
    "# print(rejected_col)"
   ]
  },
  {
   "cell_type": "markdown",
   "metadata": {},
   "source": [
    "Makes sense as most of the age is very high for AD patients. No need to reject the \"age\" column"
   ]
  },
  {
   "cell_type": "markdown",
   "metadata": {},
   "source": [
    "**Mean Absolute Difference (MAD)**\n",
    "\n",
    "The mean absolute difference (MAD) computes the absolute difference from the mean value. The main difference between the variance and MAD measures is the absence of the square in the latter. The MAD, like the variance, is also a scale variant.’ This means that higher the MAD, higher the discriminatory power."
   ]
  },
  {
   "cell_type": "code",
   "execution_count": 54,
   "metadata": {},
   "outputs": [],
   "source": [
    "# mean_abs_diff = np.sum( np.abs( shuffled_X - np.mean(shuffled_X, axis = 0 ) ), axis = 0 ) / shuffled_X.shape[0]\n",
    "\n",
    "# plt.bar( np.arange( shuffled_X.shape[1] ), mean_abs_diff, color = 'teal' )"
   ]
  },
  {
   "cell_type": "markdown",
   "metadata": {},
   "source": [
    "# Wrapper Methods\n",
    "\n",
    "Wrappers require some method to search the space of all possible subsets of features, assessing their quality by learning and evaluating a classifier with that feature subset. The feature selection process is based on a specific machine learning algorithm that we are trying to fit on a given dataset. It follows a greedy search approach by evaluating all the possible combinations of features against the evaluation criterion. The wrapper methods usually result in better predictive accuracy than filter methods."
   ]
  },
  {
   "cell_type": "markdown",
   "metadata": {},
   "source": [
    "**Forward Feature Selection**\n",
    "\n",
    "http://rasbt.github.io/mlxtend/user_guide/feature_selection/SequentialFeatureSelector/\n",
    "\n",
    "https://scikit-learn.org/stable/modules/generated/sklearn.feature_selection.SequentialFeatureSelector.html\n",
    "\n",
    "This is an iterative method wherein we start with the best performing variable against the target. Next, we select another variable that gives the best performance in combination with the first selected variable. This process continues until the preset criterion is achieved."
   ]
  },
  {
   "cell_type": "code",
   "execution_count": 55,
   "metadata": {},
   "outputs": [],
   "source": [
    "# from mlxtend.feature_selection import SequentialFeatureSelector\n",
    "\n",
    "# from sklearn.ensemble import RandomForestClassifier\n",
    "# rfc = RandomForestClassifier()\n",
    "# rfc.fit(shuffled_X, shuffled_Y)\n",
    "\n",
    "# ffs = SequentialFeatureSelector( rfc, k_features = 'best', forward = True, n_jobs = -1 )\n",
    "# ffs.fit(shuffled_X, shuffled_Y)\n",
    "# features = list( ffs.k_feature_names_ )\n",
    "# print(features)\n",
    "# print( len( features ) )\n",
    "\n",
    "# selected_features += features\n",
    "# # print(selected_features)"
   ]
  },
  {
   "cell_type": "markdown",
   "metadata": {},
   "source": [
    "**Backward Feature Elimination**\n",
    "\n",
    "This method works exactly opposite to the Forward Feature Selection method. Here, we start with all the features available and build a model. Next, we remove the variable from the model which gives the best evaluation measure value. This process is continued until the preset criterion is achieved."
   ]
  },
  {
   "cell_type": "code",
   "execution_count": 56,
   "metadata": {},
   "outputs": [],
   "source": [
    "# from sklearn.linear_model import LogisticRegression\n",
    "# from mlxtend.feature_selection import SequentialFeatureSelector\n",
    "\n",
    "# lr = LogisticRegression( class_weight = 'balanced', solver = 'lbfgs', random_state = 42, n_jobs = -1, max_iter = 500 )\n",
    "# lr.fit(shuffled_X, shuffled_Y)\n",
    "\n",
    "# bfs = SequentialFeatureSelector( lr, k_features = 'best', forward = False, n_jobs = -1 )\n",
    "# bfs.fit(shuffled_X, shuffled_Y)\n",
    "# features = list( bfs.k_feature_names_ )\n",
    "# print(features)\n",
    "# print( len( features ) )\n",
    "\n",
    "# selected_features += features\n",
    "# # print(selected_features)"
   ]
  },
  {
   "cell_type": "markdown",
   "metadata": {},
   "source": [
    "**Exhaustive Feature Selection**\n",
    "\n",
    "This is the most robust feature selection method covered so far. This is a brute-force evaluation of each feature subset. This means that it tries every possible combination of the variables and returns the best performing subset."
   ]
  },
  {
   "cell_type": "code",
   "execution_count": 57,
   "metadata": {},
   "outputs": [],
   "source": [
    "# from mlxtend.feature_selection import ExhaustiveFeatureSelector\n",
    "\n",
    "# from sklearn.ensemble import RandomForestClassifier\n",
    "\n",
    "# efs = ExhaustiveFeatureSelector( RandomForestClassifier(), min_features = 8, max_features = 10, scoring = 'roc_auc', cv = 2)\n",
    "# efs.fit(shuffled_X, shuffled_Y)\n",
    "\n",
    "# selected_features = shuffled_X.columns[list(efs.best_idx_)]\n",
    "# print(selected_features)\n",
    "\n",
    "# print(efs.best_score_)"
   ]
  },
  {
   "cell_type": "markdown",
   "metadata": {},
   "source": [
    "**Recursive Feature Elimination**\n",
    "\n",
    "‘Given an external estimator that assigns weights to features (e.g., the coefficients of a linear model), the goal of recursive feature elimination (RFE) is to select features by recursively considering smaller and smaller sets of features. First, the estimator is trained on the initial set of features and the importance of each feature is obtained either through a coef_ attribute or through a feature_importances_ attribute.\n",
    "\n",
    "Then, the least important features are pruned from the current set of features. That procedure is recursively repeated on the pruned set until the desired number of features to select is eventually reached.’"
   ]
  },
  {
   "cell_type": "code",
   "execution_count": 58,
   "metadata": {},
   "outputs": [],
   "source": [
    "# from sklearn.feature_selection import RFE\n",
    "# # here lr denotes the logistic regression model trained on backward elimination\n",
    "# rfe = RFE(lr, n_features_to_select = 10)\n",
    "# rfe.fit(shuffled_X, shuffled_Y)\n",
    "# selected_col = [ x for x, y in zip(shuffled_X.columns, rfe.support_ )  if y == True ]\n",
    "# print(selected_col)\n",
    "# print( len (selected_col ) )\n",
    "# print(rfe.ranking_)\n",
    "\n",
    "# selected_features += selected_col \n",
    "# # print(selected_features)"
   ]
  },
  {
   "cell_type": "markdown",
   "metadata": {},
   "source": [
    "# Embedded Methods\n",
    "\n",
    "These methods encompass the benefits of both the wrapper and filter methods, by including interactions of features but also maintaining reasonable computational cost. Embedded methods are iterative in the sense that takes care of each iteration of the model training process and carefully extracts those features which contribute the most to the training for a particular iteration."
   ]
  },
  {
   "cell_type": "markdown",
   "metadata": {},
   "source": [
    "**LASSO Regularization (L1)**\n",
    "\n",
    "Regularization consists of adding a penalty to the different parameters of the machine learning model to reduce the freedom of the model, i.e. to avoid over-fitting. In linear model regularization, the penalty is applied over the coefficients that multiply each of the predictors. From the different types of regularization, Lasso or L1 has the property that is able to shrink some of the coefficients to zero. Therefore, that feature can be removed from the model."
   ]
  },
  {
   "cell_type": "code",
   "execution_count": 59,
   "metadata": {},
   "outputs": [],
   "source": [
    "# from sklearn.linear_model import LogisticRegression\n",
    "# from sklearn.feature_selection import SelectFromModel\n",
    "\n",
    "# logistic = LogisticRegression( C = 1, penalty = \"l1\", solver = 'liblinear', random_state = 7 ).fit(shuffled_X, shuffled_Y )\n",
    "\n",
    "# model = SelectFromModel(logistic, prefit = True )\n",
    "\n",
    "# X_new = model.transform(shuffled_X)\n",
    "\n",
    "# selected_feat = shuffled_X.columns[(model.get_support())]\n",
    "# print(selected_feat)\n",
    "# print( len( selected_feat ) )\n",
    "# # selected_columns = shuffled_X.columns[X_new.var() != 0 ]\n",
    "# # print(selected_columns)\n",
    "# # print( len(selected_columns[0] ) )\n",
    "# # print(type(selected_feat))\n",
    "# # print( selected_feat.tolist() )\n",
    "# selected_features += selected_feat.tolist()\n",
    "\n",
    "# # print(selected_features)"
   ]
  },
  {
   "cell_type": "markdown",
   "metadata": {},
   "source": [
    "**Random Forest Importance**\n",
    "\n",
    "Random Forests is a kind of a Bagging Algorithm that aggregates a specified number of decision trees. The tree-based strategies used by random forests naturally rank by how well they improve the purity of the node, or in other words a decrease in the impurity (Gini impurity) over all trees. Nodes with the greatest decrease in impurity happen at the start of the trees, while notes with the least decrease in impurity occur at the end of trees. Thus, by pruning trees below a particular node, we can create a subset of the most important features."
   ]
  },
  {
   "cell_type": "code",
   "execution_count": 60,
   "metadata": {},
   "outputs": [],
   "source": [
    "# from sklearn.ensemble import RandomForestClassifier\n",
    "\n",
    "# model = RandomForestClassifier( n_estimators = 340 )\n",
    "\n",
    "# model.fit(shuffled_X, shuffled_Y)\n",
    "# -\n",
    "# importances = model.feature_importances_\n",
    "\n",
    "# final_df = pd.DataFrame({\"Features\" : pd.DataFrame(shuffled_X).columns, \"Importances\" : importances } )\n",
    "# final_df.set_index('Importances')\n",
    "\n",
    "# final_df = final_df.sort_values('Importances')\n",
    "# final_df.plot.bar(color = 'teal')"
   ]
  },
  {
   "cell_type": "code",
   "execution_count": 61,
   "metadata": {},
   "outputs": [],
   "source": [
    "# # print(type( final_df ) )\n",
    "# # print(final_df.columns)\n",
    "# # print(final_df['Features'].iloc[-10:])\n",
    "# important_cols = []\n",
    "# important_cols = final_df['Features'].iloc[-10:].values.tolist()\n",
    "# print(important_cols)\n",
    "\n",
    "# selected_features += important_cols"
   ]
  },
  {
   "cell_type": "markdown",
   "metadata": {},
   "source": [
    "# Select features based on all methods\n",
    "\n",
    "https://www.digitalocean.com/community/tutorials/python-counter-python-collections-counter"
   ]
  },
  {
   "cell_type": "code",
   "execution_count": 62,
   "metadata": {},
   "outputs": [],
   "source": [
    "# from collections import Counter\n",
    "# # print(selected_features)\n",
    "# c = Counter( selected_features )\n",
    "# # print( c )\n",
    "# # print( c.most_common(20) )\n",
    "# most_common = c.most_common(15)\n",
    "# print( most_common )\n",
    "# selected_col = list( list(zip(*most_common))[0] )\n",
    "# print(selected_col)"
   ]
  },
  {
   "cell_type": "code",
   "execution_count": 63,
   "metadata": {},
   "outputs": [
    {
     "name": "stdout",
     "output_type": "stream",
     "text": [
      "Keys read from the file: ['Types of physical activity in last 4 weeks: Light DIY (eg: pruning, watering the lawn)', 'Illness, injury, bereavement, stress in last 2 years: Serious illness, injury or assault to yourself', \"Parkinson's disease\", 'Hearing difficulty/problems with background noise', 'Illness, injury, bereavement, stress in last 2 years: Financial difficulties', 'Non-cancer illness code, self-reported: hypothyroidism/myxoedema', 'Diagnoses - secondary ICD10: I10 Essential (primary) hypertension', 'age', 'systolic blood pressure', 'Mood swings', 'Types of physical activity in last 4 weeks: Strenuous sports', 'HDL cholesterol', 'Ever had known person concerned about, or recommend reduction of, alcohol consumption: No', 'Loneliness, isolation', 'Body mass index (BMI)', 'Ever had known person concerned about, or recommend reduction of, alcohol consumption: Yes, during the last year', 'Non-oily fish intake', 'Leisure/social activities: Pub or social club', 'Mental health problems ever diagnosed by a professional: Anxiety, nerves or generalized anxiety disorder', \"Alzheimer's disease\", 'Hearing difficulty/problems: Yes', 'Non-cancer illness code, self-reported: depression', 'gender', 'Non-cancer illness code, self-reported: hypertension', 'Operation code: brain surgery', 'ADHD', 'Non-cancer illness code, self-reported: stroke', 'Oily fish intake', 'diastolic blood pressure', 'Microalbumin in urine', 'Leisure/social activities: Sports club or gym', 'Sleeplessness / insomnia', 'Mental health problems ever diagnosed by a professional: Social anxiety or social phobia', 'Cigarettes per Day', 'Nitrogen oxides air pollution; 2010', 'Ever had known person concerned about, or recommend reduction of, alcohol consumption: Yes, but not in the last year', 'Processed meat intake', 'Alcohol intake frequency', 'Non-cancer illness code, self-reported: type 2 diabetes', 'Non-cancer illness code, self-reported: hyperthyroidism/thyrotoxicosis', 'Non-cancer illness code, self-reported: head injury', 'triglycerides', 'Total cholesterol', 'Ever had prolonged loss of interest in normal activities', 'Sleep duration', 'Prospective memory result', 'Other meat intake', 'LDL cholesterol', 'Diagnoses - secondary ICD10: E66.9 Obesity, unspecified', 'Illness, injury, bereavement, stress in last 2 years: Marital separation/divorce', 'Non-cancer illness code, self-reported: anxiety/panic attacks', \"Illnesses of mother: Alzheimer's disease/dementia\", 'Particulate matter air pollution 2.5-10um; 2010', \"Illnesses of father: Alzheimer's disease/dementia\", 'Age completed full time education']\n"
     ]
    }
   ],
   "source": [
    "\n",
    "# Read from the output file and store keys in a list\n",
    "input_file = \"column_importance_ADNI.txt\"\n",
    "col_imp = []\n",
    "\n",
    "with open(input_file, \"r\") as f:\n",
    "    for line in f:\n",
    "        key = line.strip()  # Remove newline character\n",
    "        col_imp.append(key)\n",
    "\n",
    "print(\"Keys read from the file:\", col_imp)"
   ]
  },
  {
   "cell_type": "code",
   "execution_count": 64,
   "metadata": {},
   "outputs": [
    {
     "name": "stdout",
     "output_type": "stream",
     "text": [
      "8\n",
      "['Types of physical activity in last 4 weeks: Light DIY (eg: pruning, watering the lawn)', 'Illness, injury, bereavement, stress in last 2 years: Serious illness, injury or assault to yourself', \"Parkinson's disease\", 'Hearing difficulty/problems with background noise', 'Illness, injury, bereavement, stress in last 2 years: Financial difficulties', 'Non-cancer illness code, self-reported: hypothyroidism/myxoedema', 'Diagnoses - secondary ICD10: I10 Essential (primary) hypertension', 'age']\n"
     ]
    }
   ],
   "source": [
    "f = open(\"ADNI_feature_count.txt\", \"r\")\n",
    "count = f.read()\n",
    "print( int(count) )\n",
    "cols_to_take = int(count)\n",
    "selected_col = col_imp[:cols_to_take]\n",
    "# selected_col.append( 'output' )\n",
    "print(selected_col)"
   ]
  },
  {
   "cell_type": "code",
   "execution_count": 65,
   "metadata": {},
   "outputs": [
    {
     "name": "stdout",
     "output_type": "stream",
     "text": [
      "9\n"
     ]
    }
   ],
   "source": [
    "if 'APOE4' not in selected_col:\n",
    "    selected_col.append('APOE4')\n",
    "\n",
    "# print( most_common )\n",
    "# selected_col.append('output')\n",
    "\n",
    "print(len( selected_col ) )"
   ]
  },
  {
   "cell_type": "markdown",
   "metadata": {},
   "source": [
    "# Drop extra features from Shuffled Dataframe"
   ]
  },
  {
   "cell_type": "markdown",
   "metadata": {},
   "source": [
    "# Literature Review select features\n",
    "\n",
    "Features related to : \n",
    "**Alcohol Consumption,\n",
    "Hearing Problem,\n",
    "Smoking / Cigarettes,\n",
    "Cholesterol,\n",
    "Blood Pressure,\n",
    "Meat,\n",
    "Depression,\n",
    "Insomnia /  Sleep Schedule,\n",
    "Education,\n",
    "Hypertension,\n",
    "Physical Inactivity,\n",
    "Brain Injury,\n",
    "Father / Mother,\n",
    "Obesity,\n",
    "Diabetes,\n",
    "Age**\n",
    "\n",
    "\n",
    "'Non-cancer illness code, self-reported: type 2 diabetes'\n",
    "'Total cholesterol', 'HDL cholesterol', 'LDL cholesterol'\n",
    "'Cigarettes per Day', 'systolic blood pressure', 'diastolic blood pressure'\n",
    "'Hearing difficulty/problems: Yes', 'Non-cancer illness code, self-reported: depression’\n",
    "'Hearing difficulty/problems with background noise'\n",
    "'Sleeplessness / insomnia', 'Sleep duration', 'Age completed full time education'\n",
    "'Types of physical activity in last 4 weeks: Strenuous sports', 'Other meat intake', 'Loneliness, isolation', \"Illnesses of father: Alzheimer's disease/dementia\", \"Illnesses of mother: Alzheimer's disease/dementia\", 'Mood swings'\n",
    "'Non-cancer illness code, self-reported: hypertension'\n",
    "'Diagnoses - secondary ICD10: I10 Essential (primary) hypertension'\n",
    "'Non-cancer illness code, self-reported: head injury', 'Alcohol intake frequency', 'Diagnoses - secondary ICD10: E66.9 Obesity, unspecified’\n"
   ]
  },
  {
   "cell_type": "code",
   "execution_count": 66,
   "metadata": {},
   "outputs": [],
   "source": [
    "# selected_col = ['Non-cancer illness code, self-reported: type 2 diabetes', 'Total cholesterol', 'HDL cholesterol', 'LDL cholesterol', \n",
    "# 'Cigarettes per Day', 'systolic blood pressure', 'diastolic blood pressure',\n",
    "# 'Hearing difficulty/problems: Yes', 'Non-cancer illness code, self-reported: depression',\n",
    "# 'Hearing difficulty/problems with background noise',\n",
    "# 'Sleeplessness / insomnia', 'Sleep duration', 'Age completed full time education',\n",
    "# 'Types of physical activity in last 4 weeks: Strenuous sports', 'Other meat intake', 'Loneliness, isolation', \"Illnesses of father: Alzheimer's disease/dementia\", \"Illnesses of mother: Alzheimer's disease/dementia\", 'Mood swings',\n",
    "# 'Non-cancer illness code, self-reported: hypertension',\n",
    "# 'Diagnoses - secondary ICD10: I10 Essential (primary) hypertension',\n",
    "# 'Non-cancer illness code, self-reported: head injury', 'Alcohol intake frequency', 'Diagnoses - secondary ICD10: E66.9 Obesity, unspecified', 'age']"
   ]
  },
  {
   "cell_type": "code",
   "execution_count": 67,
   "metadata": {},
   "outputs": [],
   "source": [
    "shuffled = shuffled.loc[:, ~shuffled.columns.duplicated()]\n"
   ]
  },
  {
   "cell_type": "code",
   "execution_count": 68,
   "metadata": {},
   "outputs": [
    {
     "name": "stdout",
     "output_type": "stream",
     "text": [
      "10\n",
      "(464, 10)\n",
      "   Types of physical activity in last 4 weeks: Light DIY (eg: pruning, watering the lawn)  \\\n",
      "0                                           0.139413                                        \n",
      "1                                          -1.058011                                        \n",
      "2                                           0.573958                                        \n",
      "3                                           0.233788                                        \n",
      "4                                           0.409575                                        \n",
      "\n",
      "   Illness, injury, bereavement, stress in last 2 years: Serious illness, injury or assault to yourself  \\\n",
      "0                                           0.788127                                                      \n",
      "1                                          -0.836299                                                      \n",
      "2                                          -0.099296                                                      \n",
      "3                                          -0.629129                                                      \n",
      "4                                           0.993390                                                      \n",
      "\n",
      "   Parkinson's disease  Hearing difficulty/problems with background noise  \\\n",
      "0             0.201119                                           0.802276   \n",
      "1            -0.774038                                          -1.171389   \n",
      "2            -0.367916                                           0.258010   \n",
      "3            -0.631882                                          -0.165733   \n",
      "4             0.320504                                           0.409332   \n",
      "\n",
      "   Illness, injury, bereavement, stress in last 2 years: Financial difficulties  \\\n",
      "0                                           1.128272                              \n",
      "1                                          -0.983379                              \n",
      "2                                           0.232975                              \n",
      "3                                           0.184508                              \n",
      "4                                           0.406567                              \n",
      "\n",
      "   Non-cancer illness code, self-reported: hypothyroidism/myxoedema  \\\n",
      "0                                           0.317127                  \n",
      "1                                          -0.769655                  \n",
      "2                                           0.389664                  \n",
      "3                                           0.002617                  \n",
      "4                                           0.118983                  \n",
      "\n",
      "   Diagnoses - secondary ICD10: I10 Essential (primary) hypertension    age  \\\n",
      "0                                           0.779473                  0.796   \n",
      "1                                          -1.415852                  0.723   \n",
      "2                                           0.579342                  0.702   \n",
      "3                                           0.031671                  0.724   \n",
      "4                                           0.665582                  0.833   \n",
      "\n",
      "   APOE4  output  \n",
      "0    0.5     1.0  \n",
      "1    0.0     1.0  \n",
      "2    0.0     0.0  \n",
      "3    0.5     0.0  \n",
      "4    0.0     1.0  \n"
     ]
    }
   ],
   "source": [
    "selected_col += ['output']\n",
    "print(len(selected_col) )\n",
    "shuffled = shuffled[selected_col]\n",
    "\n",
    "# file = open('ROSMAP analysis/columns.txt','w')\n",
    "# for item in selected_col:\n",
    "#     file.write(item+\"\\n\")\n",
    "# file.close()\n",
    "\n",
    "print( shuffled.shape )\n",
    "print( shuffled.head() )\n",
    "\n",
    "# dropping last / output column in df\n",
    "shuffled_X = shuffled.iloc[: , :-1]"
   ]
  },
  {
   "cell_type": "markdown",
   "metadata": {},
   "source": [
    "# LOOCV"
   ]
  },
  {
   "cell_type": "markdown",
   "metadata": {},
   "source": [
    "**Random Forest Classifier with LOOCV**"
   ]
  },
  {
   "cell_type": "code",
   "execution_count": 69,
   "metadata": {},
   "outputs": [],
   "source": [
    "# from sklearn.model_selection import LeaveOneOut\n",
    "# from sklearn.ensemble import RandomForestClassifier\n",
    "# from sklearn.metrics import accuracy_score\n",
    "\n",
    "# # print(shuffled_X.shape)\n",
    "# # create loocv procedure\n",
    "# cv = LeaveOneOut()\n",
    "# # enumerate splits\n",
    "# y_true, y_pred = list(), list()\n",
    "# for train_ix, test_ix in cv.split(shuffled_X):\n",
    "#     # split data\n",
    "# #     print(train_ix, test_ix)\n",
    "#     X_train, X_test = shuffled_X.iloc[train_ix], shuffled_X.iloc[test_ix]\n",
    "#     y_train, y_test = shuffled_Y.iloc[train_ix], shuffled_Y.iloc[test_ix]\n",
    "#     # fit model\n",
    "#     model = RandomForestClassifier(random_state=1)\n",
    "#     model.fit(X_train, y_train)\n",
    "#     # evaluate model\n",
    "#     yhat = model.predict(X_test)\n",
    "#     # store\n",
    "# #     print(y_test[0], yhat[0])\n",
    "# #  print(len( y_test ), len( yhat ) )\n",
    "#     y_true.append(y_test)\n",
    "#     y_pred.append(yhat)\n",
    "# # calculate accuracy\n",
    "# acc = accuracy_score(y_true, y_pred)\n",
    "# print('Accuracy: %.3f' % acc)"
   ]
  },
  {
   "cell_type": "markdown",
   "metadata": {},
   "source": [
    "**Neural Network Model with LOOCV**\n",
    "\n",
    "Epoch number is reduced to 250"
   ]
  },
  {
   "cell_type": "code",
   "execution_count": 70,
   "metadata": {},
   "outputs": [],
   "source": [
    "# from sklearn.model_selection import LeaveOneOut\n",
    "# from sklearn.ensemble import RandomForestClassifier\n",
    "# from sklearn.metrics import accuracy_score\n",
    "\n",
    "# # print(shuffled_X.shape)\n",
    "\n",
    "# avg_val_acc = []\n",
    "# accuracies = []\n",
    "# accuracies_val = []\n",
    "# acc_score = []\n",
    "# total_epochs = 250 #250(ideal)\n",
    "\n",
    "\n",
    "# # create loocv procedure\n",
    "# cv = LeaveOneOut()\n",
    "# # enumerate splits\n",
    "# y_true, y_pred = list(), list()\n",
    "# for train_ix, test_ix in cv.split(shuffled_X):\n",
    "#     # split data\n",
    "# #     print(train_ix, test_ix)\n",
    "#     X_train, X_test = shuffled_X.iloc[train_ix], shuffled_X.iloc[test_ix]\n",
    "#     y_train, y_test = shuffled_Y.iloc[train_ix], shuffled_Y.iloc[test_ix]\n",
    "    \n",
    "#     train_dataset = df_dataSet( X_train, y_train )\n",
    "#     valid_dataset = df_dataSet( X_test, y_test )\n",
    "                \n",
    "#     train_batch_size = train_dataset.__len__()\n",
    "#     val_batch_size = valid_dataset.__len__()\n",
    "                \n",
    "\n",
    "                \n",
    "#     train_loader = torch.utils.data.DataLoader(train_dataset, batch_size = train_batch_size, shuffle = True, num_workers = 0)\n",
    "#     valid_loader = torch.utils.data.DataLoader(valid_dataset, batch_size = val_batch_size, shuffle = False, num_workers = 0)\n",
    "\n",
    "#     model = simple_model(num_features = shuffled_X.shape[1], hidden_dim = hidden_dimension)\n",
    "#     model = model.to(DEVICE)\n",
    "#     optimizer = torch.optim.Adam(model.parameters(), lr=0.001)\n",
    "#     criterion = torch.nn.BCEWithLogitsLoss() \n",
    "#     best_acc_val = 0.\n",
    "#     model_best = None\n",
    "                \n",
    "#     for epoch_num in range(total_epochs):\n",
    "# #       print(epoch_num)\n",
    "#         model.train()\n",
    "# #       model.drop_probab=.8\n",
    "# #       print(\"model trained\")\n",
    "#         precision, recall, fscore, support, auroc, auprc, acc_train, total_loss, pred, pred_binary, true = loocv_epoch(model=model, optimizer=optimizer, \n",
    "#                                                                                  criterion=criterion, is_training=True, \n",
    "#                                                                                loader=train_loader)\n",
    "# #                     print(\"model validated\")\n",
    "#         model.eval()\n",
    "# #       model.drop_probab=.0\n",
    "#         precision, recall, fscore, support, auroc, auprc, acc_val, total_loss, pred, pred_binary, true = loocv_epoch(model=model, \n",
    "#                                                                                  optimizer=optimizer, \n",
    "#                                                                                  criterion=criterion, is_training=False, \n",
    "#                                                                                 loader=valid_loader)\n",
    "# #       print(\"model kahini done\")\n",
    "#         if acc_val >= best_acc_val:\n",
    "#             best_acc_val = acc_val\n",
    "#             model_best = model.to(DEVICE)\n",
    "\n",
    "#     model_best.eval()\n",
    "#     precision, recall, fscore, support, auroc, auprc, acc_test, total_loss, pred, pred_binary, true = loocv_epoch(model=model_best, \n",
    "#                                                                              optimizer=optimizer, \n",
    "#                                                                              criterion=criterion, is_training=False, \n",
    "#                                                                              loader=valid_loader)\n",
    "#     accuracies += [acc_test]\n",
    "#     accuracies_val += [best_acc_val]\n",
    "    \n",
    "#     if test_ix % 50 == 0:\n",
    "#         print(test_ix, ':', acc_test)\n",
    "   \n",
    "\n",
    "\n",
    "   # print( 'Accuracy', np.sum( accuracies ) / len( accuracies ) )"
   ]
  },
  {
   "cell_type": "code",
   "execution_count": 86,
   "metadata": {},
   "outputs": [],
   "source": [
    "def GetScores(true,pred_binary,pred):\n",
    "    print(true.shape,pred_binary.shape,pred.shape)\n",
    "    precision, recall, fscore, support = precision_recall_fscore_support(true, pred_binary)\n",
    "    auroc = roc_auc_score(true, pred)\n",
    "    p, r, thresholds = precision_recall_curve(true, pred)\n",
    "    auprc = auc(r, p)\n",
    "    acc = (pred_binary==true).mean()\n",
    "\n",
    "\n",
    "#     print(\"precision\",precision[1],\"recall\", recall[1], \"fscore\",fscore[1], \"auroc\", auroc,\"auprc\", auprc,\"accuracy\" ,acc)\n",
    "    return acc, precision[1], recall[1], fscore, auroc, auprc"
   ]
  },
  {
   "cell_type": "code",
   "execution_count": 87,
   "metadata": {},
   "outputs": [],
   "source": [
    "def printScores(avg_acc,avg_prec,avg_rec,avg_fsc,avg_roc,avg_prc):\n",
    "    print(\"accuracy:\",avg_acc)\n",
    "    print(\"precision:\",avg_prec)\n",
    "    print(\"recall:\",avg_rec)\n",
    "    print(\"fscore:\",avg_fsc)\n",
    "    print(\"auroc:\",avg_roc)\n",
    "    print(\"auprc:\",avg_prc)"
   ]
  },
  {
   "cell_type": "code",
   "execution_count": 88,
   "metadata": {},
   "outputs": [],
   "source": [
    "import csv\n",
    "import os\n",
    "\n",
    "# CSV file path\n",
    "def write_out_to_csv(datatype, model, years, acc, prec, rec, auprc, auroc, fscore):\n",
    "    csv_file_path = \"scores.csv\"\n",
    "\n",
    "    # Check if the CSV file already exists\n",
    "    if not os.path.exists(csv_file_path):\n",
    "        # Create a new CSV file and write header\n",
    "        with open(csv_file_path, \"w\", newline=\"\") as csvfile:\n",
    "            csvwriter = csv.writer(csvfile)\n",
    "            csvwriter.writerow([\"Datatype\", \"Model\", \"Year\", \"Size\", \"Features\",\"Average Accuracy\", \"Average Precision\", \"Average Recall\", \"Average F-Score\", \"Average ROC AUC\", \"Average PR AUC\"])\n",
    "\n",
    "    # Append data to the CSV file\n",
    "    with open(csv_file_path, \"a\", newline=\"\") as csvfile:\n",
    "        csvwriter = csv.writer(csvfile)\n",
    "        csvwriter.writerow([datatype, model, years, shuffled.shape[0], shuffled_X.shape[1], acc, prec, rec, fscore, auroc, auprc])\n",
    "\n",
    "    print(\"Average scores have been appended to the CSV file.\")"
   ]
  },
  {
   "cell_type": "markdown",
   "metadata": {},
   "source": [
    "# Model training"
   ]
  },
  {
   "cell_type": "markdown",
   "metadata": {},
   "source": [
    "https://www.analyticsvidhya.com/blog/2021/09/a-comprehensive-guide-on-neural-networks-performance-optimization/"
   ]
  },
  {
   "cell_type": "code",
   "execution_count": 89,
   "metadata": {
    "scrolled": true
   },
   "outputs": [
    {
     "name": "stdout",
     "output_type": "stream",
     "text": [
      "NF:9\n",
      "\n",
      "#F10\n",
      "Split :\n",
      "10 :\n",
      "Split :\n",
      "10 :\n",
      "Split :\n",
      "10 :\n",
      "Split :\n",
      "10 :\n",
      "Split :\n",
      "10 :\n",
      "Split :\n",
      "10 :\n",
      "Split :\n",
      "10 :\n",
      "Split :\n",
      "10 :\n",
      "Split :\n",
      "10 :\n",
      "Split :\n",
      "10 :\n",
      "random_seed:42: 0.7022664199814985 0.056633987265138394 0.7561517113783535 0.05238654096725809 train acc: 0.7177033492822966\n",
      "accuraacies of validation:  [0.7872340425531915, 0.8297872340425532, 0.8297872340425532, 0.723404255319149, 0.6521739130434783, 0.782608695652174, 0.717391304347826, 0.7608695652173914, 0.717391304347826, 0.7608695652173914]\n",
      "global_best_acc_val:0.8297872340425532\n",
      "precision avg :  0.761220143282332\n",
      "recall avg :  0.5996234905445432\n",
      "AUPRC avg :  0.7294650741834596\n",
      "AUROC avg :  0.744715422248317\n",
      "FScore avg :  0.6571597374473752\n",
      "accuracy: [0.75615171]\n",
      "precision: 0.761220143282332\n",
      "recall: 0.5996234905445432\n",
      "fscore: 0.6571597374473752\n",
      "auroc: 0.744715422248317\n",
      "auprc: 0.7294650741834596\n",
      "Average scores have been appended to the CSV file.\n"
     ]
    }
   ],
   "source": [
    "# tensor_X = torch.tensor(shuffled_X.values, dtype=torch.float32).to(DEVICE)\n",
    "# print( tensor_X[0].shape )\n",
    "\n",
    "GENERATE_SHAP = True\n",
    "total_epochs = 500 #250(ideal)\n",
    "num_features = shuffled_X.shape[1]\n",
    "# random_integers = [2, 6, 108, 90, 5]\n",
    "random_seed = random_seed#, 92, 0, 87, 73, 82, 54]\n",
    "\n",
    "total_folds = 10#[37*2]\n",
    "\n",
    "avg_val_acc = []\n",
    "\n",
    "shap_values_list = []\n",
    "# for num_features in num_features_list:\n",
    "print(f'NF:{num_features}')\n",
    "global_best_acc_val = 0.\n",
    "precision_avg = 0\n",
    "recall_avg = 0\n",
    "auprc_avg = 0\n",
    "auroc_avg = 0\n",
    "fscore_avg = 0\n",
    "# for total_folds in folds_list:\n",
    "print(f'\\n#F{total_folds}')\n",
    "# for random_seed in random_integers:\n",
    "accuracies = []\n",
    "accuracies_val = []\n",
    "temp_shap_values = np.zeros(shuffled_X.shape)\n",
    "\n",
    "kf = KFold(n_splits = total_folds, random_state=None)\n",
    "acc_score = []\n",
    "\n",
    "for train_index , test_index in kf.split(shuffled):\n",
    "    print(\"Split :\")\n",
    "    X_train , X_test = shuffled_X.iloc[train_index,:], shuffled_X.iloc[test_index,:]\n",
    "    y_train , y_test = shuffled_Y[train_index] , shuffled_Y[test_index]\n",
    "\n",
    "#                 X_train, y_train = bordersmote( X_train, y_train )\n",
    "#                 print(\"train size: \", X_train.shape, y_train.shape)\n",
    "#                 print(\"test size: \", X_test.shape, y_test.shape)\n",
    "\n",
    "    train_dataset = df_dataSet( X_train, y_train )\n",
    "    valid_dataset = df_dataSet( X_test, y_test )\n",
    "\n",
    "    train_batch_size = train_dataset.__len__()\n",
    "    val_batch_size = valid_dataset.__len__()\n",
    "\n",
    "#                 print( train_batch_size, val_batch_size )\n",
    "\n",
    "    train_loader = torch.utils.data.DataLoader(train_dataset, batch_size = train_batch_size, shuffle = False, num_workers = 0)\n",
    "    valid_loader = torch.utils.data.DataLoader(valid_dataset, batch_size = val_batch_size, shuffle = False, num_workers = 0)\n",
    "\n",
    "    model = simple_model(num_features = shuffled_X.shape[1], hidden_dim = hidden_dimension)\n",
    "    model = model.to(DEVICE)\n",
    "    optimizer = torch.optim.Adam(model.parameters(), lr=0.001)\n",
    "    criterion = torch.nn.BCEWithLogitsLoss() \n",
    "    best_acc_val = 0.\n",
    "    model_best = None\n",
    "\n",
    "    for epoch_num in range(total_epochs):\n",
    "#         print(epoch_num)\n",
    "        model.train()\n",
    "#                     model.drop_probab=.8\n",
    "#                     print(\"model trained\")\n",
    "        precision, recall, fscore, support, auroc, auprc, acc_train, total_loss, pred, pred_binary, true = epoch(model=model, optimizer=optimizer, \n",
    "                                                                                 criterion=criterion, is_training=True, \n",
    "                                                                               loader=train_loader)\n",
    "#                     print(\"model validated\")\n",
    "        model.eval()\n",
    "#                     model.drop_probab=.0\n",
    "        precision, recall, fscore, support, auroc, auprc, acc_val, total_loss, pred, pred_binary, true = epoch(model=model, \n",
    "                                                                                 optimizer=optimizer, \n",
    "                                                                                 criterion=criterion, is_training=False, \n",
    "                                                                                loader=valid_loader)\n",
    "#                     print(\"model kahini done\")\n",
    "        if acc_val > best_acc_val:\n",
    "            best_acc_val = acc_val\n",
    "            if acc_val > global_best_acc_val:\n",
    "                global_best_acc_val = acc_val\n",
    "#                         print('global updated!')\n",
    "            torch.save(model.state_dict(), 'PRS_model.pt')\n",
    "#                     print(f'#F:{total_folds}| seed:{random_seed}, fold:{fold_num}, epoch:{epoch_num} -> local:{best_acc_val}, global:{global_best_acc_val}')  \n",
    "#                     if epoch_num + 1 == total_epochs:\n",
    "#     #                     print(f'LAST_Epoch:{epoch_num}, train_acc:{acc_train}, val_acc:{acc_val}, local_best:{best_acc_val}, global_best:{global_best_acc_val}')\n",
    "#                         pass\n",
    "    model_best = simple_model(num_features= shuffled_X.shape[1], hidden_dim = hidden_dimension, drop_probab=.0)\n",
    "    model_best.load_state_dict(torch.load('PRS_model.pt'))\n",
    "    model_best = model_best.to(DEVICE)\n",
    "    model_best.eval()\n",
    "    precision, recall, fscore, support, auroc, auprc, acc_test, total_loss, pred, pred_binary, true = epoch(model=model_best, \n",
    "                                                                             optimizer=optimizer, \n",
    "                                                                             criterion=criterion, is_training=False, \n",
    "                                                                             loader=valid_loader)\n",
    "    accuracies += [acc_test]\n",
    "    accuracies_val += [best_acc_val]\n",
    "#                 print(\"precision : \", precision, \" ; recall : \", recall)\n",
    "    precision_avg += precision\n",
    "    recall_avg += recall\n",
    "    auprc_avg += auprc\n",
    "    auroc_avg += auroc\n",
    "    fscore_avg += fscore\n",
    "\n",
    "#                 print(precision, recall, fscore, support, auroc, auprc, acc_test, total_loss)\n",
    "#                 print(\"pred\")\n",
    "#                 print(pred)\n",
    "#                 print(\"pred binary\")\n",
    "#                 print(type(pred_binary))\n",
    "#                 print(pred_binary)\n",
    "\n",
    "    print(total_folds, ':')\n",
    "#     if GENERATE_SHAP:\n",
    "#         explainer = shap.GradientExplainer(model_best.to(DEVICE), tensor_X,\n",
    "#                                            batch_size=shuffled_X.shape[0]) #https://shap-lrjball.readthedocs.io/en/latest/generated/shap.KernelExplainer.html\n",
    "# #                     print(\"usable features : \", usable_features.shape[0])\n",
    "# #                     print(usable_features.shape)\n",
    "# #                     print(usable_features)\n",
    "#         shap_values = explainer.shap_values(tensor_X, nsamples=500)\n",
    "# #                     print(\"shap values shape : \", shap_values.shape)\n",
    "# #                     print(\"Shap values : \", shap_values)\n",
    "# #                     print(\"shap values of 0 index\", shap_values[0, :])\n",
    "\n",
    "#         temp_shap_values += shap_values \n",
    "# if GENERATE_SHAP:\n",
    "#     temp_shap_values /= total_folds\n",
    "#     shap_values_list += [temp_shap_values] \n",
    "print(f'random_seed:{random_seed}:', np.mean(accuracies), np.std(accuracies), \n",
    "      np.mean(accuracies_val), np.std(accuracies_val), 'train acc:', acc_train)\n",
    "avg_val_acc += [np.mean(accuracies_val)]\n",
    "print(\"accuraacies of validation: \", accuracies_val)\n",
    "print(f'global_best_acc_val:{global_best_acc_val}')\n",
    "precision_avg = precision_avg * 1.0 / total_folds\n",
    "recall_avg = recall_avg * 1.0 / total_folds\n",
    "auprc_avg = auprc_avg * 1.0 / total_folds\n",
    "auroc_avg = auroc_avg * 1.0 / total_folds\n",
    "fscore_avg = fscore_avg * 1.0 / total_folds\n",
    "print( \"precision avg : \", precision_avg )\n",
    "print( \"recall avg : \", recall_avg )\n",
    "print( \"AUPRC avg : \", auprc_avg )\n",
    "print( \"AUROC avg : \", auroc_avg )\n",
    "print( \"FScore avg : \", fscore_avg )\n",
    "avg_val_acc = np.array(avg_val_acc)\n",
    "printScores(avg_val_acc,precision_avg,recall_avg,fscore_avg,auroc_avg,auprc_avg)\n",
    "write_out_to_csv(\"ADNI_APOE\", \"NN\", yrs, avg_val_acc, precision_avg,recall_avg,fscore_avg,auroc_avg,auprc_avg)\n",
    "\n",
    " \n",
    "\n",
    "# # usable_features = usable_features.cpu().detach().numpy().astype(np.float64)\n",
    "\n",
    "# # print(avg_val_acc.max(), avg_val_acc.min(), avg_val_acc.mean(), avg_val_acc.std())\n"
   ]
  },
  {
   "cell_type": "code",
   "execution_count": 90,
   "metadata": {},
   "outputs": [],
   "source": [
    "# # save model accuracy in model_details.txt\n",
    "# save_in_file(\"Neural Network with \" + str(hidden)  + \" layers_4yrs_\" + str(len(feature_indices_to_consider)), global_best_acc_val)\n",
    "# # save_in_file(\"Neural Network with \" + str(hidden) + \" layers\", global_best_acc_val)"
   ]
  },
  {
   "cell_type": "code",
   "execution_count": 91,
   "metadata": {},
   "outputs": [],
   "source": [
    "# usable_features = usable_features.cpu().detach().numpy().astype(np.float64)"
   ]
  },
  {
   "cell_type": "markdown",
   "metadata": {},
   "source": [
    "# Shap Analysis\n",
    "\n",
    "https://medium.com/dataman-in-ai/explain-your-model-with-the-shap-values-bc36aac4de3d"
   ]
  },
  {
   "cell_type": "code",
   "execution_count": 92,
   "metadata": {},
   "outputs": [],
   "source": [
    "# # print( shap_values_list )\n",
    "# # write shap_values_list to pkl file\n",
    "# pickle.dump(shap_values_list, open('shap_values_list.pkl', 'wb'))\n",
    "# shap_values = np.mean(shap_values_list, axis=0)\n",
    "# print( shap_values.shape )\n",
    "# # print(shap_values)"
   ]
  },
  {
   "cell_type": "markdown",
   "metadata": {},
   "source": [
    "# Force plot :\n",
    "\n",
    "\n",
    "The shap.force_plot() takes three values: \n",
    "\n",
    "(i) the base value (explainerModel.expected_value[0]),\n",
    "\n",
    "(ii) the SHAP values (shap_values_Model[j][0]) and \n",
    "\n",
    "(iii) the matrix of feature values (S.iloc[[j]]). The base value or the expected value is the average of the model output over the training data X_train. It is the base value used in the following plot.\n",
    "\n",
    "https://medium.com/mlearning-ai/shap-force-plots-for-classification-d30be430e195\n",
    "\n",
    "the bold 0.80 is the model’s score for this observation. Higher scores lead the model to predict 1 and lower scores lead the model to predict 0. The features that were important to making the prediction for this observation are shown in red and blue, with red representing features that pushed the model score higher, and blue representing features that pushed the score lower. Features that had more of an impact on the score are located closer to the dividing boundary between red and blue, and the size of that impact is represented by the size of the bar."
   ]
  },
  {
   "cell_type": "code",
   "execution_count": 93,
   "metadata": {
    "scrolled": false
   },
   "outputs": [],
   "source": [
    "# # print( shap_values_list )\n",
    "\n",
    "# # print the JS visualization code to the notebook\n",
    "# shap.initjs()\n",
    "\n",
    "# # print(shap_values[0, :])\n",
    "# # print(usable_features[0, :])\n",
    "# # shap.summary_plot(shap_values[:, :], usable_features[:, :])\n",
    "\n",
    "# # shap.force_plot(.5, shap_values[0,:], usable_features[0, :], link = \"logit\", matplotlib = True)  \n",
    "\n",
    "# # using pandas dataframe\n",
    "# shap.force_plot(.5, shap_values[0,:], shuffled_X.iloc[0, :], link = \"logit\", matplotlib = True  )  "
   ]
  },
  {
   "cell_type": "code",
   "execution_count": 94,
   "metadata": {
    "scrolled": true
   },
   "outputs": [],
   "source": [
    "# # shap.force_plot(.5, shap_values[:,:], usable_features[:, :], link=\"logit\")\n",
    "\n",
    "# # using pandas dataframe\n",
    "# print(shap_values.shape)\n",
    "# print(shuffled_X.shape)\n",
    "# shap.force_plot(.5, shap_values[:,:], shuffled_X.iloc[:, :], link=\"logit\")"
   ]
  },
  {
   "cell_type": "markdown",
   "metadata": {},
   "source": [
    "# Summary Plot\n",
    "This plot is made of all the dots in the train data. It delivers the following information:\n",
    "\n",
    "Feature importance: Variables are ranked in descending order.\n",
    "\n",
    "Impact: The horizontal location shows whether the effect of that value is associated with a higher or lower prediction.\n",
    "\n",
    "Original value: Color shows whether that variable is high (in red) or low (in blue) for that observation.\n",
    "\n",
    "Correlation: A high level of the “alcohol” content has a high and positive impact on the quality rating. The “high” comes from the red color, and the “positive” impact is shown on the X-axis. Similarly, we will say the “volatile acidity” is negatively correlated with the target variable."
   ]
  },
  {
   "cell_type": "code",
   "execution_count": 95,
   "metadata": {},
   "outputs": [],
   "source": [
    "# path = \"./shap/\" + str(num_features)\n",
    "# if not os.path.exists(path):\n",
    "#     os.makedirs(path)\n",
    "    \n",
    "# # for trait in traits:\n",
    "# #     print(trait)\n",
    "# # https://shap-lrjball.readthedocs.io/en/latest/generated/shap.summary_plot.html?highlight=beeswarm#shap.summary_plot\n",
    "# # usable_features_std = (usable_features - usable_features.mean(0))/usable_features.std(0)\n",
    "# # shap.summary_plot(shap_values, features=usable_features, feature_names=traits, plot_type='dot', max_display=len(traits), show = False)\n",
    "# # plt.savefig('shap/' + str(num_features) + '/summary_plot_hidden_'+ str(hidden) + '_dim_' + str(hidden_dimension) + '.pdf',  bbox_inches='tight')\n",
    "# # shap.summary_plot(shap_values, features=usable_features, feature_names=list(range(23)), plot_type='dot', max_display=len(traits))\n",
    "\n",
    "# shap.summary_plot(shap_values, features = shuffled_X, feature_names = shuffled_X.columns, plot_type='dot', max_display=len(traits), show = False)\n"
   ]
  },
  {
   "cell_type": "code",
   "execution_count": 96,
   "metadata": {
    "scrolled": true
   },
   "outputs": [],
   "source": [
    "# # https://shap-lrjball.readthedocs.io/en/latest/generated/shap.summary_plot.html?highlight=beeswarm#shap.summary_plot\n",
    "# # shap.summary_plot(shap_values, features=usable_features, feature_names=list(range(23)), plot_type='bar', max_display=len(traits), show=False)\n",
    "# # plt.savefig('shap/summary_plot_hidden_'+ str(hidden) + '_bar.png', bbox_inches='tight')\n",
    "# # naeem modified\n",
    "# # shap.summary_plot(shap_values, features=usable_features, feature_names=list(range(num_features)), plot_type='bar', max_display=len(traits), show=False)\n",
    "# # shap.summary_plot(shap_values, features=usable_features, feature_names = traits, plot_type='bar', max_display=len(traits), show=False)\n",
    "# # plt.savefig('shap/' + str(num_features) + 'summary_plot_hidden_'+ str(hidden) + '_bar.png', bbox_inches='tight')\n",
    "\n",
    "# shap.summary_plot(shap_values, features = shuffled_X, feature_names = shuffled_X.columns, plot_type='bar', max_display=len(traits), show=False)\n",
    "# plt.savefig('shap/' + str(num_features) + 'summary_plot_hidden_'+ str(hidden) + '_bar.png', bbox_inches='tight')"
   ]
  },
  {
   "cell_type": "code",
   "execution_count": 97,
   "metadata": {},
   "outputs": [],
   "source": [
    "# sorted(list(zip(list(range(23)), abs(shap_values).mean(0))), key=lambda x:x[1], reverse=True)"
   ]
  },
  {
   "cell_type": "code",
   "execution_count": 98,
   "metadata": {},
   "outputs": [],
   "source": [
    "# help(shap.force_plot)\n"
   ]
  },
  {
   "cell_type": "markdown",
   "metadata": {},
   "source": [
    "# precision, recall, fscore, auroc, auprc,accuracy score"
   ]
  },
  {
   "cell_type": "markdown",
   "metadata": {},
   "source": [
    "# AutoML"
   ]
  },
  {
   "cell_type": "code",
   "execution_count": 99,
   "metadata": {},
   "outputs": [],
   "source": [
    "# # example of tpot for the sonar classification dataset\n",
    "# from pandas import read_csv\n",
    "# from sklearn.preprocessing import LabelEncoder\n",
    "# from sklearn.model_selection import RepeatedStratifiedKFold\n",
    "# from tpot import TPOTClassifier\n",
    "\n",
    "# # define model evaluation\n",
    "# cv = RepeatedStratifiedKFold(n_splits=10, n_repeats=3, random_state=1)\n",
    "# # define search\n",
    "# model = TPOTClassifier(generations=5, population_size=50, cv=cv, scoring='accuracy', verbosity=2, random_state=1, n_jobs=-1)\n",
    "# # perform the search\n",
    "# model.fit(shuffled_X, shuffled_Y)\n",
    "# # export the best model\n",
    "# model.export('tpot_sonar_best_model.py')"
   ]
  },
  {
   "cell_type": "markdown",
   "metadata": {},
   "source": [
    "# GradientBoosting"
   ]
  },
  {
   "cell_type": "code",
   "execution_count": 100,
   "metadata": {},
   "outputs": [
    {
     "name": "stdout",
     "output_type": "stream",
     "text": [
      "(47,) (47,) (47,)\n",
      "(47,) (47,) (47,)\n",
      "(47,) (47,) (47,)\n",
      "(47,) (47,) (47,)\n",
      "(46,) (46,) (46,)\n",
      "(46,) (46,) (46,)\n",
      "(46,) (46,) (46,)\n",
      "(46,) (46,) (46,)\n",
      "(46,) (46,) (46,)\n",
      "(46,) (46,) (46,)\n",
      "accuracy: 0.7235892691951896\n",
      "precision: 0.7335266195792511\n",
      "recall: 0.6974822789296473\n",
      "fscore: 0.7201871328498871\n",
      "auroc: 0.789886844583927\n",
      "auprc: 0.8011559099111404\n",
      "Average scores have been appended to the CSV file.\n"
     ]
    }
   ],
   "source": [
    "import numpy as np\n",
    "import pandas as pd\n",
    "from sklearn.ensemble import GradientBoostingClassifier\n",
    "from sklearn.model_selection import train_test_split\n",
    "\n",
    "# NOTE: Make sure that the outcome column is labeled 'target' in the data file\n",
    "# tpot_data = pd.read_csv('PATH/TO/DATA/FILE', sep='COLUMN_SEPARATOR', dtype=np.float64)\n",
    "# features = tpot_data.drop('target', axis=1)\n",
    "# training_features, testing_features, training_target, testing_target = \\\n",
    "#             train_test_split(shuffled_X, shuffled_Y, random_state=1)\n",
    "# print(\"training_features\",X_train.shape)\n",
    "# print(\"testing_features\",X_test.shape)\n",
    "\n",
    "\n",
    "# Average CV score on the training set was: 0.6719885773624091\n",
    "exported_pipeline = GradientBoostingClassifier(learning_rate=0.01, max_depth=8, max_features=1,\n",
    "                    min_samples_leaf=7, min_samples_split=6, n_estimators=100, random_state = random_seed )\n",
    "# Fix random state in exported estimator\n",
    "accuracies=[]\n",
    "precisions=[]\n",
    "recalls=[]\n",
    "fscores=[]\n",
    "aurocs=[]\n",
    "auprcs=[]\n",
    "if hasattr(exported_pipeline, 'random_state'):\n",
    "    setattr(exported_pipeline, 'random_state', random_seed)\n",
    "    \n",
    "for train_index , test_index in kf.split(shuffled):\n",
    "    X_train , X_test = shuffled_X.iloc[train_index,:], shuffled_X.iloc[test_index,:]\n",
    "    y_train , y_test = shuffled_Y[train_index] , shuffled_Y[test_index]\n",
    "\n",
    "    exported_pipeline.fit(X_train, y_train)\n",
    "    y_pred = exported_pipeline.predict(X_test)\n",
    "\n",
    "    true=y_test\n",
    "    pred_binary=y_pred\n",
    "    pred=exported_pipeline.predict_proba(X_test).T\n",
    "    pred=pred[1]\n",
    "    acc,precision, recall,fscore, auroc, auprc=GetScores(true,pred_binary,pred) \n",
    "    \n",
    "    accuracies.append(acc)\n",
    "    precisions.append(precision)\n",
    "    recalls.append(recall)\n",
    "    fscores.append(fscore)\n",
    "    aurocs.append(auroc)\n",
    "    auprcs.append(auprc)\n",
    "avg_acc=np.mean(accuracies)\n",
    "avg_prec=np.mean(precisions)\n",
    "avg_rec=np.mean(recalls)\n",
    "avg_fsc=np.mean(fscores)\n",
    "avg_roc=np.mean(aurocs)\n",
    "avg_prc=np.mean(auprcs)\n",
    "printScores(avg_acc,avg_prec,avg_rec,avg_fsc,avg_roc,avg_prc)\n",
    "write_out_to_csv(\"ADNI_APOE\", \"XGBoost\", yrs, avg_acc, avg_prec, avg_rec, avg_fsc, avg_roc, avg_prc)"
   ]
  },
  {
   "cell_type": "markdown",
   "metadata": {},
   "source": [
    "# SVM"
   ]
  },
  {
   "cell_type": "code",
   "execution_count": 101,
   "metadata": {},
   "outputs": [
    {
     "name": "stdout",
     "output_type": "stream",
     "text": [
      "(47,) (47,) (47,)\n",
      "(47,) (47,) (47,)\n",
      "(47,) (47,) (47,)\n",
      "(47,) (47,) (47,)\n",
      "(46,) (46,) (46,)\n",
      "(46,) (46,) (46,)\n",
      "(46,) (46,) (46,)\n",
      "(46,) (46,) (46,)\n",
      "(46,) (46,) (46,)\n",
      "(46,) (46,) (46,)\n",
      "accuracy: 0.7110083256244218\n",
      "precision: 0.7125392185998594\n",
      "recall: 0.700081706792233\n",
      "fscore: 0.7073340326237052\n",
      "auroc: 0.7900001701620696\n",
      "auprc: 0.7850466621421407\n",
      "Average scores have been appended to the CSV file.\n"
     ]
    }
   ],
   "source": [
    "# X_train, X_test, y_train, y_test = train_test_split(shuffled_X, shuffled_Y, test_size=0.25, random_state=0)\n",
    "\n",
    "# Preprocess the data\n",
    "# from sklearn.preprocessing import StandardScaler\n",
    "# sc = StandardScaler()\n",
    "# X_train = sc.fit_transform(X_train)\n",
    "# X_test = sc.transform(X_test)\n",
    "\n",
    "# Create an SVM object\n",
    "from sklearn.svm import SVC\n",
    "classifier = SVC(kernel='linear', random_state=random_seed, probability=True)\n",
    "\n",
    "\n",
    "accuracies=[]\n",
    "precisions=[]\n",
    "recalls=[]\n",
    "fscores=[]\n",
    "aurocs=[]\n",
    "auprcs=[]\n",
    "for train_index , test_index in kf.split(shuffled):\n",
    "    X_train , X_test = shuffled_X.iloc[train_index,:], shuffled_X.iloc[test_index,:]\n",
    "    y_train , y_test = shuffled_Y[train_index] , shuffled_Y[test_index]\n",
    "   \n",
    "    # Train the model\n",
    "    classifier.fit(X_train, y_train)\n",
    "\n",
    "    # Evaluate the model\n",
    "    y_pred = classifier.predict(X_test)\n",
    "    from sklearn.metrics import confusion_matrix\n",
    "    cm = confusion_matrix(y_test, y_pred)\n",
    "#     print(cm)\n",
    "\n",
    "    true=y_test\n",
    "    pred_binary=y_pred\n",
    "    pred=classifier.predict_proba(X_test).T\n",
    "    pred=pred[1]\n",
    "    acc,precision, recall,fscore, auroc, auprc=GetScores(true,pred_binary,pred)\n",
    "    accuracies.append(acc)\n",
    "    precisions.append(precision)\n",
    "    recalls.append(recall)\n",
    "    fscores.append(fscore)\n",
    "    aurocs.append(auroc)\n",
    "    auprcs.append(auprc)\n",
    "avg_acc=np.mean(accuracies)\n",
    "avg_prec=np.mean(precisions)\n",
    "avg_rec=np.mean(recalls)\n",
    "avg_fsc=np.mean(fscores)\n",
    "avg_roc=np.mean(aurocs)\n",
    "avg_prc=np.mean(auprcs)\n",
    "printScores(avg_acc,avg_prec,avg_rec,avg_fsc,avg_roc,avg_prc)\n",
    "write_out_to_csv(\"ADNI_APOE\", \"SVM\", yrs, avg_acc, avg_prec, avg_rec, avg_fsc, avg_roc, avg_prc)\n"
   ]
  },
  {
   "cell_type": "markdown",
   "metadata": {},
   "source": [
    "# Random Forest Classifier"
   ]
  },
  {
   "cell_type": "code",
   "execution_count": 102,
   "metadata": {},
   "outputs": [
    {
     "name": "stdout",
     "output_type": "stream",
     "text": [
      "(47,) (47,) (47,)\n",
      "(47,) (47,) (47,)\n",
      "(47,) (47,) (47,)\n",
      "(47,) (47,) (47,)\n",
      "(46,) (46,) (46,)\n",
      "(46,) (46,) (46,)\n",
      "(46,) (46,) (46,)\n",
      "(46,) (46,) (46,)\n",
      "(46,) (46,) (46,)\n",
      "(46,) (46,) (46,)\n",
      "accuracy: 0.7191489361702128\n",
      "precision: 0.7139805194805195\n",
      "recall: 0.7270995038100302\n",
      "fscore: 0.7164359664793695\n",
      "auroc: 0.7926500281437352\n",
      "auprc: 0.801507569022573\n",
      "Average scores have been appended to the CSV file.\n"
     ]
    }
   ],
   "source": [
    "from sklearn.ensemble import RandomForestClassifier\n",
    "rfc = RandomForestClassifier(n_estimators=100, max_depth=10, random_state=random_seed)\n",
    "accuracies=[]\n",
    "precisions=[]\n",
    "recalls=[]\n",
    "fscores=[]\n",
    "aurocs=[]\n",
    "auprcs=[]\n",
    "for train_index , test_index in kf.split(shuffled):\n",
    "    X_train , X_test = shuffled_X.iloc[train_index,:], shuffled_X.iloc[test_index,:]\n",
    "    y_train , y_test = shuffled_Y[train_index] , shuffled_Y[test_index]\n",
    "    rfc.fit(X_train, y_train)\n",
    "    y_pred_bin = rfc.predict(X_test)\n",
    "    y_pred_frac= rfc.predict_proba(X_test).T[1]\n",
    "    acc,precision, recall,fscore, auroc, auprc=GetScores(y_test,y_pred_bin,y_pred_frac)\n",
    "    accuracies.append(acc)\n",
    "    precisions.append(precision)\n",
    "    recalls.append(recall)\n",
    "    fscores.append(fscore)\n",
    "    aurocs.append(auroc)\n",
    "    auprcs.append(auprc)\n",
    "avg_acc=np.mean(accuracies)\n",
    "avg_prec=np.mean(precisions)\n",
    "avg_rec=np.mean(recalls)\n",
    "avg_fsc=np.mean(fscores)\n",
    "avg_roc=np.mean(aurocs)\n",
    "avg_prc=np.mean(auprcs)\n",
    "printScores(avg_acc,avg_prec,avg_rec,avg_fsc,avg_roc,avg_prc)\n",
    "write_out_to_csv(\"ADNI_APOE\", \"RF\", yrs, avg_acc, avg_prec, avg_rec, avg_fsc, avg_roc, avg_prc)"
   ]
  },
  {
   "cell_type": "markdown",
   "metadata": {},
   "source": [
    "# AutoML"
   ]
  },
  {
   "cell_type": "code",
   "execution_count": null,
   "metadata": {},
   "outputs": [],
   "source": [
    "# # example of tpot for the sonar classification dataset\n",
    "# from pandas import read_csv\n",
    "# from sklearn.preprocessing import LabelEncoder\n",
    "# from sklearn.model_selection import RepeatedStratifiedKFold\n",
    "# from tpot import TPOTClassifier\n",
    "\n",
    "# # define model evaluation\n",
    "# cv = RepeatedStratifiedKFold(n_splits=10, n_repeats=3, random_state=1)\n",
    "# # define search\n",
    "# model = TPOTClassifier(generations=5, population_size=50, cv=cv, scoring='accuracy', verbosity=2, random_state=1, n_jobs=-1)\n",
    "# # perform the search\n",
    "# model.fit(shuffled_X, shuffled_Y)\n",
    "# # export the best model\n",
    "# model.export('tpot_sonar_best_model.py')"
   ]
  },
  {
   "cell_type": "code",
   "execution_count": null,
   "metadata": {},
   "outputs": [],
   "source": []
  }
 ],
 "metadata": {
  "kernelspec": {
   "display_name": "ad_venv_2",
   "language": "python",
   "name": "ad_venv_2"
  },
  "language_info": {
   "codemirror_mode": {
    "name": "ipython",
    "version": 3
   },
   "file_extension": ".py",
   "mimetype": "text/x-python",
   "name": "python",
   "nbconvert_exporter": "python",
   "pygments_lexer": "ipython3",
   "version": "3.10.8"
  }
 },
 "nbformat": 4,
 "nbformat_minor": 2
}
