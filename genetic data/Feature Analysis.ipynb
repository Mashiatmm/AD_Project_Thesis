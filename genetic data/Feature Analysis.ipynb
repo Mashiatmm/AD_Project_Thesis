{
 "cells": [
  {
   "cell_type": "code",
   "execution_count": 2,
   "metadata": {},
   "outputs": [
    {
     "name": "stdout",
     "output_type": "stream",
     "text": [
      "51 1816\n",
      "51\n"
     ]
    }
   ],
   "source": [
    "# Final_Samples\n",
    "import pandas as pd\n",
    "import numpy as np\n",
    "import json\n",
    "import random\n",
    "usable_samples_ADNI = json.load(open('./usable_samples_ADNI.json'))\n",
    "PRS_orig_feature_matrix = np.load('./PRS_feature_matrix.npy').astype(np.float32)\n",
    "PRS_orig_feature_matrix = (PRS_orig_feature_matrix - PRS_orig_feature_matrix.mean(0))/PRS_orig_feature_matrix.std(0)\n",
    "print( PRS_orig_feature_matrix.shape[1], len(usable_samples_ADNI) )\n",
    "num_features=PRS_orig_feature_matrix.shape[1]\n",
    "print(num_features)"
   ]
  },
  {
   "cell_type": "code",
   "execution_count": 25,
   "metadata": {},
   "outputs": [
    {
     "name": "stdout",
     "output_type": "stream",
     "text": [
      "Non-Dementia    1129\n",
      "Dementia         215\n",
      "Name: DX, dtype: int64\n"
     ]
    }
   ],
   "source": [
    "adnimerge = pd.read_csv(\"ADNIMERGE.csv\")\n",
    "# print( adnimerge.head() )\n",
    "\n",
    "adnimerge = adnimerge[['PTID', 'DX_bl', 'DX', 'Years_bl']]\n",
    "# print( adnimerge.head() )\n",
    "\n",
    "# print( adnimerge['DX'].value_counts() )\n",
    "adnimerge['DX_bl'] = adnimerge['DX_bl'].replace(['CN', 'LMCI', 'EMCI', 'SMC'], 'Non-Dementia')\n",
    "adnimerge['DX_bl'] = adnimerge['DX_bl'].replace(['AD'], 'Dementia')\n",
    "adnimerge['DX'] = adnimerge['DX'].replace(['CN', 'MCI', None ], 'Non-Dementia')\n",
    "\n",
    "# print( adnimerge['DX'].value_counts() )\n",
    "\n",
    "adnimerge = adnimerge.sort_values(['PTID', 'Years_bl']).drop_duplicates(['PTID'], keep='last')\n",
    "# print(adnimerge)\n",
    "adnimerge = adnimerge[ adnimerge['Years_bl'] > 2 ]\n",
    "adnimerge = adnimerge[ adnimerge['DX_bl']== 'Non-Dementia' ]\n",
    "print( adnimerge['DX'].value_counts() )\n"
   ]
  },
  {
   "cell_type": "code",
   "execution_count": 50,
   "metadata": {},
   "outputs": [],
   "source": [
    "num_features = 34"
   ]
  },
  {
   "cell_type": "code",
   "execution_count": 51,
   "metadata": {},
   "outputs": [
    {
     "name": "stdout",
     "output_type": "stream",
     "text": [
      "(1816, 34)\n"
     ]
    }
   ],
   "source": [
    "PRS_feature_matrix = PRS_orig_feature_matrix\n",
    "PRS_feature_matrix = PRS_feature_matrix[:, :num_features]\n",
    "print(PRS_feature_matrix.shape)"
   ]
  },
  {
   "cell_type": "code",
   "execution_count": 52,
   "metadata": {},
   "outputs": [
    {
     "name": "stdout",
     "output_type": "stream",
     "text": [
      "shape (1817, 14)\n",
      "(1817, 2) (1817, 2)\n",
      "                FID               IID       PC1       PC2       PC3       PC4  \\\n",
      "0  ADNI3_036_S_6231  ADNI3_036_S_6231 -0.006724 -0.010617  0.001596 -0.000460   \n",
      "1  ADNI3_006_S_6277  ADNI3_006_S_6277 -0.010432 -0.010269  0.012757  0.006921   \n",
      "2  ADNI3_129_S_6146  ADNI3_129_S_6146 -0.004919 -0.011656 -0.035521  0.064641   \n",
      "3  ADNI3_033_S_6352  ADNI3_033_S_6352 -0.014069 -0.010279  0.020014  0.053023   \n",
      "4  ADNI3_027_S_6183  ADNI3_027_S_6183 -0.010766 -0.012370 -0.010960  0.029830   \n",
      "\n",
      "        PC5       PC6       PC7       PC8       PC9      PC10  PTGENDER   AGE  \n",
      "0 -0.013131 -0.005855 -0.005142 -0.009063 -0.001739 -0.012863         1  69.1  \n",
      "1 -0.014958 -0.005860 -0.027775 -0.009632  0.054966  0.087390         1  70.7  \n",
      "2  0.012094  0.003860  0.035955  0.006561  0.019736 -0.023304         1  65.5  \n",
      "3  0.023691  0.000247 -0.002273 -0.030627 -0.053461  0.049984         0  71.4  \n",
      "4 -0.019520 -0.001955  0.023844  0.079138  0.002207  0.008892         0  65.6  \n"
     ]
    },
    {
     "name": "stderr",
     "output_type": "stream",
     "text": [
      "In a future version of pandas all arguments of read_csv except for the argument 'filepath_or_buffer' will be keyword-only.\n"
     ]
    }
   ],
   "source": [
    "df = pd.read_csv('./COVAR_FILE_bigger_dataset.txt', ' ') \n",
    "print(\"shape\",df.shape)\n",
    "print( df[['AGE', 'PTGENDER']].shape, df[['AGE', 'PTGENDER']].dropna().shape )\n",
    "print( df.head() ) # PC - Principal Component"
   ]
  },
  {
   "cell_type": "code",
   "execution_count": null,
   "metadata": {},
   "outputs": [],
   "source": [
    "df['AGE'].value_counts()"
   ]
  },
  {
   "cell_type": "markdown",
   "metadata": {},
   "source": [
    "# The value counts show that there is not age with 0 value in the covar file"
   ]
  },
  {
   "cell_type": "code",
   "execution_count": 54,
   "metadata": {},
   "outputs": [
    {
     "name": "stdout",
     "output_type": "stream",
     "text": [
      "1816\n",
      "<class 'dict'>\n",
      "1816\n",
      "duplicate values []\n"
     ]
    }
   ],
   "source": [
    "print( len( usable_samples_ADNI ) )\n",
    "print( type( usable_samples_ADNI ) )\n",
    "\n",
    "rev_dict = {}\n",
    "  \n",
    "for key, value in usable_samples_ADNI.items():\n",
    "    rev_dict.setdefault(value, set()).add(key)\n",
    "      \n",
    "result = [key for key, values in rev_dict.items()\n",
    "                              if len(values) > 1]\n",
    "  \n",
    "# printing result\n",
    "print( len( rev_dict ) )\n",
    "print(\"duplicate values\", str(result))"
   ]
  },
  {
   "cell_type": "markdown",
   "metadata": {},
   "source": [
    "* The cell below prints out the mismatched IID of both covar file and usable samples ADNI"
   ]
  },
  {
   "cell_type": "code",
   "execution_count": 59,
   "metadata": {},
   "outputs": [
    {
     "name": "stdout",
     "output_type": "stream",
     "text": [
      "1817\n",
      "234\n",
      "235\n",
      "159_021_S_2124 100_094_S_2201\n",
      "163_019_S_4367 101_068_S_2171\n",
      "168_094_S_2201 102_114_S_0166\n",
      "177_116_S_4010 104_041_S_4004\n",
      "185_941_S_2060 105_033_S_0922\n",
      "196_037_S_0454 105_067_S_2301\n",
      "198_003_S_2374 105_127_S_4500\n",
      "210_036_S_0673 107_129_S_4220\n",
      "222_123_S_2055 108_032_S_0677\n",
      "222_141_S_0915 10_073_S_2264\n",
      "239_153_S_4372 110_941_S_2060\n",
      "249_094_S_4089 111_019_S_4293\n",
      "253_073_S_2225 112_098_S_4215\n",
      "256_116_S_4199 113_073_S_4393\n",
      "25_072_S_2164 114_019_S_4367\n",
      "263_029_S_4307 116_128_S_2130\n",
      "263_072_S_1380 117_033_S_4505\n",
      "268_068_S_4217 118_073_S_4312\n",
      "268_141_S_1004 119_068_S_4174\n",
      "26_052_S_1346 11_094_S_2216\n",
      "26_128_S_0522 120_114_S_1106\n",
      "270_067_S_2301 121_072_S_2027\n",
      "276_073_S_4393 122_011_S_2274\n",
      "289_023_S_0126 124_029_S_4307\n",
      "290_098_S_4215 126_123_S_0072\n",
      "293_002_S_4229 127_009_S_2208\n",
      "296_029_S_0914 128_130_S_0232\n",
      "298_021_S_0178 129_012_S_4012\n",
      "300_128_S_2130 12_021_S_0337\n",
      "305_032_S_0677 130_014_S_0519\n",
      "309_036_S_2380 131_067_S_4054\n",
      "313_068_S_4340 132_130_S_2391\n",
      "313_099_S_4022 133_027_S_0835\n",
      "315_129_S_4396 136_116_S_0382\n",
      "319_002_S_0413 137_141_S_0915\n",
      "319_019_S_4293 138_036_S_2380\n",
      "323_127_S_4197 139_021_S_2124\n",
      "324_002_S_4521 13_141_S_1255\n",
      "324_129_S_4371 141_003_S_2374\n",
      "328_003_S_4136 141_021_S_4254\n",
      "32_941_S_4376 142_116_S_4199\n",
      "336_116_S_4175 143_014_S_4093\n",
      "339_029_S_1318 144_031_S_4194\n",
      "33_033_S_4505 145_941_S_1202\n",
      "340_129_S_2347 147_116_S_4209\n",
      "341_035_S_4464 148_126_S_0709\n",
      "350_073_S_4312 149_126_S_0680\n",
      "352_029_S_4290 14_029_S_1318\n",
      "35_153_S_4077 150_094_S_4089\n",
      "360_135_S_4406 152_033_S_0734\n",
      "361_006_S_4485 154_023_S_0031\n",
      "364_023_S_1046 155_029_S_1218\n",
      "368_129_S_4369 156_128_S_0863\n",
      "370_035_S_0997 157_035_S_0997\n",
      "370_094_S_2367 157_068_S_4332\n",
      "372_031_S_1066 158_002_S_1155\n",
      "375_009_S_2208 159_037_S_0454\n",
      "376_116_S_0361 15_023_S_0331\n",
      "377_033_S_4177 160_029_S_0914\n",
      "379_037_S_4146 161_016_S_1326\n",
      "379_130_S_4352 161_052_S_1352\n",
      "380_099_S_4086 162_137_S_0301\n",
      "381_094_S_2216 163_073_S_2225\n",
      "387_130_S_4405 164_052_S_1346\n",
      "388_098_S_0667 164_116_S_1249\n",
      "388_126_S_4507 166_072_S_1380\n",
      "395_018_S_4257 167_036_S_0673\n",
      "397_022_S_1097 169_116_S_1271\n",
      "397_036_S_2378 170_041_S_4271\n",
      "398_022_S_0096 170_116_S_4010\n",
      "400_002_S_1155 172_067_S_0257\n",
      "405_029_S_4384 173_007_S_2058\n",
      "412_072_S_2072 173_033_S_0514\n",
      "416_099_S_0291 175_137_S_4299\n",
      "419_073_S_2264 175_153_S_4139\n",
      "423_068_S_4274 176_068_S_4340\n",
      "425_031_S_4194 177_123_S_2055\n",
      "426_073_S_2153 179_137_S_4258\n",
      "427_141_S_4423 180_006_S_0731\n",
      "428_011_S_2274 183_007_S_4387\n",
      "429_094_S_4282 185_022_S_4320\n",
      "435_005_S_0572 193_073_S_2153\n",
      "43_021_S_4276 197_035_S_4464\n",
      "445_021_S_4254 198_012_S_0637\n",
      "446_137_S_4299 199_002_S_0413\n",
      "449_006_S_0498 19_018_S_0142\n",
      "451_023_S_0031 200_100_S_0047\n",
      "45_014_S_4079 201_041_S_0125\n",
      "462_098_S_4018 202_031_S_2018\n",
      "477_082_S_1256 202_129_S_4396\n",
      "47_072_S_2027 204_002_S_4213\n",
      "47_153_S_4139 206_003_S_4136\n",
      "480_098_S_2079 210_002_S_4229\n",
      "484_027_S_0307 211_127_S_4197\n",
      "486_018_S_0142 212_033_S_4177\n",
      "487_002_S_4237 213_141_S_0697\n",
      "48_022_S_4320 214_153_S_4372\n",
      "492_041_S_4271 218_002_S_4219\n",
      "49_031_S_2018 21_009_S_1030\n",
      "500_123_S_0108 220_068_S_4217\n",
      "515_023_S_0331 224_094_S_4282\n",
      "51_016_S_0702 225_141_S_4423\n",
      "51_941_S_4377 228_128_S_0522\n",
      "522_068_S_4332 231_130_S_4405\n",
      "52_011_S_4105 233_098_S_4018\n",
      "533_127_S_4500 236_029_S_4384\n",
      "53_116_S_1271 237_141_S_1004\n",
      "547_033_S_0514 239_126_S_4507\n",
      "54_129_S_4220 23_072_S_2164\n",
      "555_099_S_4463 244_022_S_2087\n",
      "558_033_S_0734 246_116_S_4175\n",
      "55_067_S_2196 247_082_S_1256\n",
      "565_137_S_0994 248_941_S_4376\n",
      "57_068_S_2171 24_023_S_0217\n",
      "583_141_S_2333 252_057_S_1269\n",
      "587_023_S_0217 253_941_S_4377\n",
      "589_099_S_1034 255_002_S_4521\n",
      "58_014_S_4080 258_006_S_4485\n",
      "592_114_S_1106 260_006_S_0498\n",
      "595_014_S_0519 263_114_S_0173\n",
      "597_098_S_0269 276_098_S_0269\n",
      "59_116_S_4209 277_023_S_0126\n",
      "5_068_S_2194 278_021_S_0178\n",
      "605_006_S_0731 279_098_S_0667\n",
      "608_123_S_0113 280_099_S_4086\n",
      "60_136_S_4189 281_036_S_2378\n",
      "615_114_S_0416 283_016_S_0702\n",
      "61_067_S_4184 286_027_S_2219\n",
      "625_067_S_0257 288_018_S_4257\n",
      "626_023_S_0042 290_136_S_4189\n",
      "627_116_S_1249 291_021_S_2150\n",
      "629_126_S_1187 295_022_S_0096\n",
      "62_072_S_4226 296_041_S_1010\n",
      "630_022_S_2087 297_068_S_2194\n",
      "631_123_S_0072 298_023_S_1046\n",
      "637_033_S_0922 298_123_S_4096\n",
      "63_027_S_0835 2_123_S_0108\n",
      "648_126_S_0680 301_116_S_0361\n",
      "648_137_S_0972 303_094_S_2367\n",
      "64_027_S_2219 305_129_S_2347\n",
      "651_023_S_0887 306_099_S_4022\n",
      "654_012_S_0637 306_137_S_0459\n",
      "655_021_S_2150 308_022_S_1097\n",
      "663_130_S_0232 308_027_S_0307\n",
      "665_027_S_0074 310_135_S_4406\n",
      "665_137_S_0668 312_014_S_4079\n",
      "66_002_S_2010 312_129_S_4371\n",
      "675_014_S_0658 316_129_S_4369\n",
      "675_128_S_0135 321_029_S_4290\n",
      "67_014_S_4093 322_130_S_4352\n",
      "682_099_S_2146 323_021_S_4276\n",
      "689_037_S_1078 325_037_S_4146\n",
      "68_002_S_4213 327_037_S_0467\n",
      "68_141_S_1255 328_153_S_4077\n",
      "691_037_S_0377 332_137_S_4211\n",
      "692_041_S_0125 334_098_S_4201\n",
      "695_057_S_1269 335_068_S_4274\n",
      "696_137_S_0301 340_033_S_4508\n",
      "69_007_S_4387 349_073_S_0746\n",
      "6_027_S_0118 34_005_S_0572\n",
      "705_128_S_0863 359_137_S_4351\n",
      "709_128_S_0230 35_072_S_2072\n",
      "713_114_S_0166 360_031_S_1066\n",
      "715_021_S_0337 363_099_S_0291\n",
      "719_023_S_4035 364_128_S_0227\n",
      "719_141_S_0767 36_100_S_0296\n",
      "71_002_S_4219 378_099_S_2146\n",
      "71_027_S_1045 38_002_S_4237\n",
      "72_011_S_0008 390_126_S_1187\n",
      "730_029_S_0824 391_114_S_0416\n",
      "732_126_S_0709 395_011_S_4105\n",
      "734_037_S_0467 396_130_S_0886\n",
      "73_114_S_0173 400_014_S_4080\n",
      "740_137_S_0459 401_098_S_2079\n",
      "740_941_S_1202 407_073_S_4300\n",
      "742_021_S_0984 409_141_S_2333\n",
      "743_035_S_0156 40_031_S_0867\n",
      "744_052_S_0989 412_068_S_0210\n",
      "74_941_S_4292 418_099_S_4463\n",
      "753_016_S_1326 42_098_S_0160\n",
      "753_128_S_0227 432_014_S_0658\n",
      "756_009_S_1030 433_068_S_0473\n",
      "75_068_S_4174 438_137_S_0668\n",
      "760_007_S_0698 439_123_S_0113\n",
      "761_100_S_0035 443_137_S_0994\n",
      "763_100_S_0047 450_005_S_0553\n",
      "766_073_S_0746 452_027_S_0118\n",
      "767_130_S_0886 452_027_S_1045\n",
      "768_128_S_0229 454_052_S_0989\n",
      "76_005_S_0553 456_123_S_0106\n",
      "76_127_S_4198 460_067_S_2196\n",
      "770_141_S_0717 471_011_S_4235\n",
      "771_029_S_1218 473_072_S_4226\n",
      "776_068_S_0210 475_941_S_4292\n",
      "77_073_S_4300 477_037_S_0377\n",
      "781_052_S_0952 481_099_S_1034\n",
      "782_141_S_0697 497_072_S_4390\n",
      "783_052_S_1352 502_027_S_0256\n",
      "78_123_S_0106 502_128_S_0230\n",
      "794_037_S_0552 507_002_S_2010\n",
      "799_068_S_0473 527_035_S_0156\n",
      "79_052_S_0951 528_027_S_0074\n",
      "7_098_S_0160 540_027_S_0408\n",
      "801_123_S_4096 563_137_S_0972\n",
      "804_027_S_0408 566_067_S_4184\n",
      "807_116_S_0649 567_130_S_2403\n",
      "809_031_S_0867 56_052_S_0951\n",
      "80_137_S_4258 587_011_S_0008\n",
      "816_129_S_0778 593_141_S_0767\n",
      "817_053_S_0919 59_127_S_4198\n",
      "82_007_S_2058 60_129_S_0778\n",
      "82_067_S_4054 620_023_S_0042\n",
      "83_041_S_1010 620_023_S_0916\n",
      "84_137_S_4351 628_032_S_0978\n",
      "86_033_S_4508 633_029_S_0824\n",
      "86_100_S_0296 638_023_S_0887\n",
      "87_137_S_4211 640_128_S_0229\n",
      "88_033_S_0923 645_128_S_0135\n",
      "89_130_S_2403 668_007_S_0698\n",
      "8_027_S_0256 669_033_S_0923\n",
      "91_012_S_4012 66_024_S_2239\n",
      "91_032_S_0978 67_041_S_1418\n",
      "92_041_S_4004 686_100_S_0035\n",
      "95_116_S_0382 688_037_S_1078\n",
      "96_041_S_1418 68_052_S_0952\n",
      "96_153_S_4125 693_021_S_0984\n",
      "98_130_S_2391 712_053_S_0919\n",
      "99_098_S_4201 724_153_S_4125\n",
      "9_072_S_4390 733_141_S_0717\n",
      "ADNI3_002_S_6066 73_012_S_4094\n",
      "ADNI3_011_S_6303 779_037_S_0552\n",
      "ADNI3_024_S_6005 786_116_S_0649\n",
      "ADNI3_037_S_6125 ADNI3_037_S_6115\n",
      "ADNI3_053_S_6598 ADNI3_129_S_6288\n"
     ]
    }
   ],
   "source": [
    "print( df['IID'].nunique() )\n",
    "# print( usable_samples_ADNI.keys() )\n",
    "\n",
    "notFoundIndex = []\n",
    "for sample in usable_samples_ADNI:\n",
    "    if len( df[df['IID'] == sample].index ) == 0 :\n",
    "        notFoundIndex.append(sample)\n",
    "#     print(df[df['IID'] == sample].index[0])\n",
    "#     foundIndex.append( df[df['IID'] == sample].index[0] )\n",
    "#     if sample in df['IID']:\n",
    "#         print(\"exists\")\n",
    "#     else:\n",
    "#         print(\"doesn't exist\")\n",
    "print( len( notFoundIndex ) )\n",
    "\n",
    "notFoundInSamples = []\n",
    "for item in df['IID'] :\n",
    "    if item not in usable_samples_ADNI.keys():\n",
    "        notFoundInSamples.append(item)\n",
    "print( len(notFoundInSamples ) )\n",
    "\n",
    "notFoundInSamples.sort()\n",
    "notFoundIndex.sort()\n",
    "\n",
    "for i in range( len(notFoundIndex ) ):\n",
    "    print(notFoundIndex[i], notFoundInSamples[i])"
   ]
  },
  {
   "cell_type": "markdown",
   "metadata": {},
   "source": [
    "NO DUPLICATE VALUE IN usable_samples_ADNI\n",
    "\n",
    "NO DUPLICATE VALUE IN IID of covar_file_bigger_dataset"
   ]
  },
  {
   "cell_type": "code",
   "execution_count": 32,
   "metadata": {},
   "outputs": [
    {
     "name": "stderr",
     "output_type": "stream",
     "text": [
      "C:\\Users\\HP\\AppData\\Local\\Temp\\ipykernel_11884\\2969402204.py:3: DtypeWarning: Columns (18,19,20,103,104) have mixed types. Specify dtype option on import or set low_memory=False.\n",
      "  AGE_GENDER_PTID_map = pd.read_csv('../larger_dataset/ADNIMERGE.csv')[['PTID', 'PTGENDER', 'AGE']]\n"
     ]
    },
    {
     "data": {
      "text/html": [
       "<div>\n",
       "<style scoped>\n",
       "    .dataframe tbody tr th:only-of-type {\n",
       "        vertical-align: middle;\n",
       "    }\n",
       "\n",
       "    .dataframe tbody tr th {\n",
       "        vertical-align: top;\n",
       "    }\n",
       "\n",
       "    .dataframe thead th {\n",
       "        text-align: right;\n",
       "    }\n",
       "</style>\n",
       "<table border=\"1\" class=\"dataframe\">\n",
       "  <thead>\n",
       "    <tr style=\"text-align: right;\">\n",
       "      <th></th>\n",
       "      <th>PTID</th>\n",
       "      <th>PTGENDER</th>\n",
       "      <th>AGE</th>\n",
       "    </tr>\n",
       "  </thead>\n",
       "  <tbody>\n",
       "    <tr>\n",
       "      <th>0</th>\n",
       "      <td>011_S_0002</td>\n",
       "      <td>0</td>\n",
       "      <td>74.3</td>\n",
       "    </tr>\n",
       "    <tr>\n",
       "      <th>1</th>\n",
       "      <td>011_S_0003</td>\n",
       "      <td>0</td>\n",
       "      <td>81.3</td>\n",
       "    </tr>\n",
       "    <tr>\n",
       "      <th>2</th>\n",
       "      <td>011_S_0003</td>\n",
       "      <td>0</td>\n",
       "      <td>81.3</td>\n",
       "    </tr>\n",
       "    <tr>\n",
       "      <th>3</th>\n",
       "      <td>011_S_0003</td>\n",
       "      <td>0</td>\n",
       "      <td>81.3</td>\n",
       "    </tr>\n",
       "    <tr>\n",
       "      <th>4</th>\n",
       "      <td>011_S_0003</td>\n",
       "      <td>0</td>\n",
       "      <td>81.3</td>\n",
       "    </tr>\n",
       "    <tr>\n",
       "      <th>...</th>\n",
       "      <td>...</td>\n",
       "      <td>...</td>\n",
       "      <td>...</td>\n",
       "    </tr>\n",
       "    <tr>\n",
       "      <th>15117</th>\n",
       "      <td>021_S_6896</td>\n",
       "      <td>0</td>\n",
       "      <td>64.8</td>\n",
       "    </tr>\n",
       "    <tr>\n",
       "      <th>15118</th>\n",
       "      <td>035_S_4464</td>\n",
       "      <td>0</td>\n",
       "      <td>70.4</td>\n",
       "    </tr>\n",
       "    <tr>\n",
       "      <th>15119</th>\n",
       "      <td>041_S_5097</td>\n",
       "      <td>0</td>\n",
       "      <td>67.5</td>\n",
       "    </tr>\n",
       "    <tr>\n",
       "      <th>15120</th>\n",
       "      <td>027_S_5288</td>\n",
       "      <td>1</td>\n",
       "      <td>81.9</td>\n",
       "    </tr>\n",
       "    <tr>\n",
       "      <th>15121</th>\n",
       "      <td>036_S_6088</td>\n",
       "      <td>1</td>\n",
       "      <td>69.2</td>\n",
       "    </tr>\n",
       "  </tbody>\n",
       "</table>\n",
       "<p>15122 rows × 3 columns</p>\n",
       "</div>"
      ],
      "text/plain": [
       "             PTID  PTGENDER   AGE\n",
       "0      011_S_0002         0  74.3\n",
       "1      011_S_0003         0  81.3\n",
       "2      011_S_0003         0  81.3\n",
       "3      011_S_0003         0  81.3\n",
       "4      011_S_0003         0  81.3\n",
       "...           ...       ...   ...\n",
       "15117  021_S_6896         0  64.8\n",
       "15118  035_S_4464         0  70.4\n",
       "15119  041_S_5097         0  67.5\n",
       "15120  027_S_5288         1  81.9\n",
       "15121  036_S_6088         1  69.2\n",
       "\n",
       "[15122 rows x 3 columns]"
      ]
     },
     "execution_count": 32,
     "metadata": {},
     "output_type": "execute_result"
    }
   ],
   "source": [
    "import numpy as np\n",
    "import pandas as pd\n",
    "AGE_GENDER_PTID_map = pd.read_csv('../larger_dataset/ADNIMERGE.csv')[['PTID', 'PTGENDER', 'AGE']]\n",
    "AGE_GENDER_PTID_map['PTGENDER'] = (AGE_GENDER_PTID_map['PTGENDER'] == 'Female').astype(int)\n",
    "AGE_GENDER_PTID_map"
   ]
  },
  {
   "cell_type": "code",
   "execution_count": 33,
   "metadata": {},
   "outputs": [
    {
     "name": "stdout",
     "output_type": "stream",
     "text": [
      "shape1 (1816, 34)\n",
      "shape2 (1816, 46)\n",
      "[ 7.42901e-02 -1.11187e-02  2.98971e-02 -4.29416e-03  4.33895e-02\n",
      "  1.65844e-02  2.19540e-02  5.88536e-03 -3.96630e-03 -1.28506e-02\n",
      "  0.00000e+00  8.04000e+01]\n",
      "samples:  1815\n",
      "Feature Matrix\n",
      "[[ 6.0254073e-01  3.8611200e-01 -5.8913165e-01 -5.6206602e-01\n",
      "   1.3769143e+00  1.1957877e+00  6.7549521e-01 -8.1201518e-01\n",
      "   1.4735116e+00  1.5833879e+00  1.1038882e+00  4.7303710e-02\n",
      "  -2.5817478e-01  2.0768111e+00  3.4892298e-02  1.5471818e+00\n",
      "   2.1130602e-01 -7.8878814e-01  1.1477689e+00 -7.1390218e-01\n",
      "   6.5592009e-01  3.6035888e-02 -1.0208811e+00  4.2786098e-01\n",
      "   4.4062281e-01  4.1337675e-01  1.9010180e-01 -2.0883363e-01\n",
      "   6.4279914e-01  8.8049096e-01 -1.5337672e+00 -5.0156575e-01\n",
      "  -4.5751646e-02  8.8257521e-01 -6.7239902e-03 -1.0617300e-02\n",
      "   1.5955199e-03 -4.6042900e-04 -1.3131300e-02 -5.8546802e-03\n",
      "  -5.1415302e-03 -9.0632401e-03 -1.7389200e-03 -1.2863100e-02\n",
      "   1.0000000e+00  6.9099998e+01]\n",
      " [ 3.2023571e-02 -7.2182208e-01  5.6008160e-01 -4.5909986e-01\n",
      "  -2.8283790e-01  6.9074273e-01  8.7522858e-01  2.1927162e-01\n",
      "  -3.7697020e-01 -4.5436200e-01  7.2349036e-01 -4.9750850e-01\n",
      "   1.0644186e+00  5.9753662e-01 -2.4813785e-01  2.8968764e-02\n",
      "  -2.7886992e-02  2.6224835e+00  4.3087134e-01 -2.8895292e-01\n",
      "   2.4560858e-01 -5.2110817e-02 -4.4763651e-02 -1.8602200e-01\n",
      "   3.0547190e-01  5.5778086e-01 -2.0424709e-01  3.5013828e-02\n",
      "  -5.5759084e-01 -4.4283944e-01  6.1258554e-01 -9.1423553e-01\n",
      "   6.6405241e-03  1.3060592e+00 -1.0432100e-02 -1.0269200e-02\n",
      "   1.2757200e-02  6.9213500e-03 -1.4958400e-02 -5.8604302e-03\n",
      "  -2.7775100e-02 -9.6316896e-03  5.4965999e-02  8.7389797e-02\n",
      "   1.0000000e+00  7.0699997e+01]]\n"
     ]
    }
   ],
   "source": [
    "# COVAR_FILE = df.to_numpy()[:, 2:].astype(np.float32)\n",
    "cnt = 0\n",
    "print(\"shape1\",PRS_feature_matrix.shape)\n",
    "FEATURE_MATRIX = np.concatenate([PRS_feature_matrix, np.zeros([PRS_feature_matrix.shape[0], 12])], 1).astype(np.float32)\n",
    "print(\"shape2\",FEATURE_MATRIX.shape)\n",
    "for sample in usable_samples_ADNI:\n",
    "    covar = df[df['IID'] == sample].to_numpy()[:, 2:].astype(np.float32) # taking from the PCs, skipping the first two columns of IID, FID\n",
    "#     print(covar)\n",
    "    #     if cnt < 2:\n",
    "#         print(covar)\n",
    "#     print(covar.shape)\n",
    "    if covar.shape[0] != 1:\n",
    "#         print(sample)\n",
    "        cnt += 1\n",
    "        continue\n",
    "    FEATURE_MATRIX[usable_samples_ADNI[sample],num_features:] = covar\n",
    "# cnt/FEATURE_MATRIX.shape[0], FEATURE_MATRIX[:2], PRS_feature_matrix[:2]\n",
    "# print(\"Feature Matrix\")\n",
    "# print(FEATURE_MATRIX[0])\n",
    "print(covar[0])\n",
    "print(\"samples: \", usable_samples_ADNI[sample])\n",
    "# FEATURE_MATRIX[usable_samples_ADNI[sample], num_features:] = covar # naeem's modification\n",
    "print(\"Feature Matrix\")\n",
    "print(FEATURE_MATRIX[:2])\n",
    "# cnt/FEATURE_MATRIX.shape[0], FEATURE_MATRIX[:2], PRS_feature_matrix[:2]"
   ]
  },
  {
   "cell_type": "code",
   "execution_count": 34,
   "metadata": {},
   "outputs": [
    {
     "name": "stdout",
     "output_type": "stream",
     "text": [
      "[0, 1, 2, 3, 4, 5, 6, 7, 8, 9, 10, 11, 12, 13, 14, 15, 16, 17, 18, 19, 20, 21, 22, 23, 24, 25, 26, 27, 28, 29, 30, 31, 32, 33, 45, 44]\n"
     ]
    }
   ],
   "source": [
    "last_idx = FEATURE_MATRIX.shape[1]\n",
    "# feature_indices_to_consider = [0, 1, 2, 3, 4, 5, 7, 8, 9, 12, 13, 14, 15] +  [last_idx - 1, last_idx - 2]\n",
    "feature_indices_to_consider = list(range(num_features)) + [last_idx - 1, last_idx - 2]\n",
    "# feature_indices_to_consider = list(range(23)) + [24, 27, last_idx - 1, last_idx - 2]\n",
    "# feature_indices_to_consider = list(range(23)) + [24, 27, last_idx - 1, last_idx - 2]\n",
    "# feature_indices_to_consider = list(range(num_features)) \n",
    "print(feature_indices_to_consider)"
   ]
  },
  {
   "cell_type": "code",
   "execution_count": 35,
   "metadata": {},
   "outputs": [],
   "source": [
    "import json\n",
    "import numpy as np\n",
    "import random"
   ]
  },
  {
   "cell_type": "code",
   "execution_count": 36,
   "metadata": {},
   "outputs": [
    {
     "name": "stdout",
     "output_type": "stream",
     "text": [
      "974\n",
      "654\n",
      "320\n"
     ]
    }
   ],
   "source": [
    "Final_Samples = json.load(open('Final_Samples_6yrs.json', 'r')) \n",
    "positive_samples = 0\n",
    "negative_samples = 0\n",
    "for x in Final_Samples:\n",
    "    if x[1] == 1 :\n",
    "        positive_samples += 1\n",
    "    else :\n",
    "        negative_samples += 1\n",
    "        \n",
    "print(len(Final_Samples))\n",
    "print(positive_samples)\n",
    "print(negative_samples)"
   ]
  },
  {
   "cell_type": "code",
   "execution_count": 37,
   "metadata": {},
   "outputs": [
    {
     "name": "stdout",
     "output_type": "stream",
     "text": [
      "974\n",
      "654\n",
      "320\n",
      "320 320\n"
     ]
    },
    {
     "data": {
      "text/plain": [
       "(640, 2)"
      ]
     },
     "execution_count": 37,
     "metadata": {},
     "output_type": "execute_result"
    }
   ],
   "source": [
    "print(len(Final_Samples))\n",
    "positive_samples = Final_Samples[:654] # Final_Samples[654:]\n",
    "positive_samples = Final_Samples[:654]\n",
    "negative_samples = Final_Samples[654:]\n",
    "print(len(positive_samples))\n",
    "print(len(negative_samples))\n",
    "len_pos = len(positive_samples)\n",
    "len_neg = len(negative_samples)\n",
    "min_len = min(len_pos, len_neg)\n",
    "random_seed = None\n",
    "if random_seed is not None: \n",
    "    random.seed(random_seed * 2)\n",
    "random.shuffle(positive_samples)\n",
    "random.shuffle(negative_samples)\n",
    "# Final_Samples = positive_samples[:500] + negative_samples[:500]\n",
    "Final_Samples = positive_samples[:min_len] + negative_samples[:min_len]\n",
    "print(len([x[1] for x in Final_Samples if x[1] == 1]), len([x[1] for x in Final_Samples if x[1] == 0]))\n",
    "Final_Samples = np.array(Final_Samples)\n",
    "Final_Samples.shape\n",
    "# Final_Samples.reshape(10, -1, 2).shape"
   ]
  },
  {
   "cell_type": "code",
   "execution_count": 38,
   "metadata": {},
   "outputs": [
    {
     "name": "stdout",
     "output_type": "stream",
     "text": [
      "1816\n"
     ]
    },
    {
     "name": "stderr",
     "output_type": "stream",
     "text": [
      "C:\\Users\\HP\\.conda\\envs\\ad_venv_2\\lib\\site-packages\\IPython\\core\\interactiveshell.py:3397: FutureWarning: In a future version of pandas all arguments of read_csv except for the argument 'filepath_or_buffer' will be keyword-only.\n",
      "  exec(code_obj, self.user_global_ns, self.user_ns)\n"
     ]
    }
   ],
   "source": [
    "import json\n",
    "import pandas as pd\n",
    "GWAS_ID = 'ieu-b-25'\n",
    "usable_samples_ADNI = pd.read_csv(f'./PRSice_output/{GWAS_ID}/{GWAS_ID}.best', ' ')['IID'].to_numpy().tolist()\n",
    "usable_samples_ADNI = {'_'.join(sample.split('_')[1:]):idx for idx,sample in enumerate(usable_samples_ADNI)}\n",
    "# usable_samples_ADNI = {sample:idx for idx,sample in enumerate(usable_samples_ADNI)}\n",
    "print(len( usable_samples_ADNI ))"
   ]
  },
  {
   "cell_type": "code",
   "execution_count": 39,
   "metadata": {},
   "outputs": [
    {
     "name": "stderr",
     "output_type": "stream",
     "text": [
      "C:\\Users\\HP\\.conda\\envs\\ad_venv_2\\lib\\site-packages\\tqdm\\auto.py:22: TqdmWarning: IProgress not found. Please update jupyter and ipywidgets. See https://ipywidgets.readthedocs.io/en/stable/user_install.html\n",
      "  from .autonotebook import tqdm as notebook_tqdm\n"
     ]
    },
    {
     "name": "stdout",
     "output_type": "stream",
     "text": [
      "[ 6.0254073e-01  3.8611200e-01 -5.8913165e-01 -5.6206602e-01\n",
      "  1.3769143e+00  1.1957877e+00  6.7549521e-01 -8.1201518e-01\n",
      "  1.4735116e+00  1.5833879e+00  1.1038882e+00  4.7303710e-02\n",
      " -2.5817478e-01  2.0768111e+00  3.4892298e-02  1.5471818e+00\n",
      "  2.1130602e-01 -7.8878814e-01  1.1477689e+00 -7.1390218e-01\n",
      "  6.5592009e-01  3.6035888e-02 -1.0208811e+00  4.2786098e-01\n",
      "  4.4062281e-01  4.1337675e-01  1.9010180e-01 -2.0883363e-01\n",
      "  6.4279914e-01  8.8049096e-01 -1.5337672e+00 -5.0156575e-01\n",
      " -4.5751646e-02  8.8257521e-01 -6.7239902e-03 -1.0617300e-02\n",
      "  1.5955199e-03 -4.6042900e-04 -1.3131300e-02 -5.8546802e-03\n",
      " -5.1415302e-03 -9.0632401e-03 -1.7389200e-03 -1.2863100e-02\n",
      "  1.0000000e+00  6.9099998e+01]\n",
      "[0, 1, 2, 3, 4, 5, 6, 7, 8, 9, 10, 11, 12, 13, 14, 15, 16, 17, 18, 19, 20, 21, 22, 23, 24, 25, 26, 27, 28, 29, 30, 31, 32, 33, 45, 44]\n",
      "Shape of usable features :  (640, 36)\n",
      "Length of usable labels :  640\n",
      "Usable Features :  tensor([-9.3516e-02, -6.3377e-01, -1.7593e-01, -9.3263e-01, -4.1632e-01,\n",
      "        -5.6924e-01, -1.3121e+00, -4.8367e-01, -1.6390e+00,  2.5577e+00,\n",
      "         1.6445e+00, -1.0392e+00,  4.2268e-01,  1.2134e+00, -8.0146e-01,\n",
      "         2.3814e-01,  6.9834e-02, -1.3261e+00, -1.5977e-01,  4.0056e-01,\n",
      "        -4.9348e-01, -1.2521e+00, -1.2299e+00, -7.7412e-01,  8.1924e-01,\n",
      "         1.1256e+00, -7.6604e-01,  5.2372e-02, -8.8475e-01, -9.2806e-01,\n",
      "        -1.7750e-02, -3.4788e-01, -1.3884e-01,  2.7441e-01,  6.7400e+01,\n",
      "         0.0000e+00])\n"
     ]
    }
   ],
   "source": [
    "import torch\n",
    "from torch.utils import data\n",
    "\n",
    "DEVICE = \"cuda\" if torch.cuda.is_available() else \"cpu\"\n",
    "\n",
    "import shap\n",
    "from copy import deepcopy\n",
    "\n",
    "print(FEATURE_MATRIX[0])\n",
    "# print(len(Final_Samples))\n",
    "usable_indices = [( usable_samples_ADNI[Final_Samples[i][0]] if ( Final_Samples[i][0] in usable_samples_ADNI.keys() ) else None ) for i in range(len(Final_Samples))]\n",
    "# print(len(usable_indices))\n",
    "# print(usable_indices)\n",
    "print(feature_indices_to_consider)\n",
    "usable_features = FEATURE_MATRIX[usable_indices][:, feature_indices_to_consider]\n",
    "print(\"Shape of usable features : \", usable_features.shape)\n",
    "usable_labels = np.array([float(Final_Samples[i][1]) for i in range(len(Final_Samples))])\n",
    "print(\"Length of usable labels : \", len(usable_labels))\n",
    "usable_features = torch.autograd.Variable(torch.from_numpy(usable_features)).to(DEVICE).float()\n",
    "\n",
    "print(\"Usable Features : \", usable_features[0])"
   ]
  },
  {
   "cell_type": "code",
   "execution_count": 40,
   "metadata": {},
   "outputs": [
    {
     "name": "stdout",
     "output_type": "stream",
     "text": [
      "(640, 36)\n",
      "640\n",
      "<class 'numpy.ndarray'>\n"
     ]
    }
   ],
   "source": [
    "# feature_indices_to_consider = list(range(0, num_features)) #[1, 2, 3, 4, 5, 6, 7, 8, 9, 10, 11, 13, 14, 15, 16, 18, 20, 22]\n",
    "\n",
    "usable_indices = [usable_samples_ADNI[Final_Samples[i][0]] for i in range(len(Final_Samples))]\n",
    "usable_features = FEATURE_MATRIX[usable_indices][:, feature_indices_to_consider]\n",
    "usable_labels = np.array([float(Final_Samples[i][1]) for i in range(len(Final_Samples))])\n",
    "\n",
    "print(usable_features.shape)\n",
    "print( len( usable_labels ) )\n",
    "print(type(usable_features))"
   ]
  },
  {
   "cell_type": "code",
   "execution_count": 41,
   "metadata": {},
   "outputs": [
    {
     "name": "stdout",
     "output_type": "stream",
     "text": [
      "34\n"
     ]
    }
   ],
   "source": [
    "import json\n",
    "# in place of json straight took it hardcoded\n",
    "\n",
    "all_traits = json.load(open('traits_map.json', 'r'))\n",
    "# print(all_traits)\n",
    "GWAS_IDS = list(all_traits)\n",
    "# print(GWAS_IDS)\n",
    "traits = [all_traits[x] for x in all_traits]\n",
    "print(len(traits))"
   ]
  },
  {
   "cell_type": "markdown",
   "metadata": {},
   "source": [
    "# Feature Analysis"
   ]
  },
  {
   "cell_type": "code",
   "execution_count": 42,
   "metadata": {},
   "outputs": [
    {
     "name": "stdout",
     "output_type": "stream",
     "text": [
      "(640, 37)\n",
      "34\n",
      "[0, 1, 2, 3, 4, 5, 6, 7, 8, 9, 10, 11, 12, 13, 14, 15, 16, 17, 18, 19, 20, 21, 22, 23, 24, 25, 26, 27, 28, 29, 30, 31, 32, 33, 45, 44, 34]\n",
      "         0         1         2         3         4         5         6   \\\n",
      "0 -0.093516 -0.633771 -0.175928 -0.932626 -0.416321 -0.569236 -1.312102   \n",
      "1  0.728453 -0.724981  0.449982 -1.288971 -0.770526  1.109326 -0.079543   \n",
      "2 -1.022497 -0.049941  0.253761 -0.646202  0.609790  0.395295  0.139893   \n",
      "3  0.622740 -1.445822 -0.609548 -1.173262 -0.014573  0.232548 -0.006102   \n",
      "4  1.206127  1.220486 -0.038037  0.523442  1.369093  0.331368  1.337255   \n",
      "\n",
      "         7         8         9   ...        27        28        29        30  \\\n",
      "0 -0.483665 -1.638959  2.557660  ...  0.052372 -0.884747 -0.928059 -0.017750   \n",
      "1 -0.479633  0.618964  0.526498  ... -0.560728 -0.969551  1.105648 -0.620703   \n",
      "2 -2.121407 -1.309933 -0.414320  ...  0.512234 -0.153402 -1.274109 -1.061743   \n",
      "3  0.626049  0.110038 -0.646800  ... -0.820625  0.117469  0.264643 -0.843659   \n",
      "4  0.899360  2.415206  0.144253  ...  0.917650  0.570121  1.488953  0.063082   \n",
      "\n",
      "         31        32        33         45   44   34  \n",
      "0 -0.347884 -0.138838  0.274406  67.400002  0.0  1.0  \n",
      "1 -1.223158 -1.132298  0.571341  74.300003  1.0  1.0  \n",
      "2  0.911713 -0.282508 -1.040113  79.400002  0.0  1.0  \n",
      "3  1.103678 -0.949632 -0.621803   0.000000  0.0  1.0  \n",
      "4  0.331816  0.370072 -1.310480  68.900002  0.0  1.0  \n",
      "\n",
      "[5 rows x 37 columns]\n"
     ]
    },
    {
     "data": {
      "text/plain": [
       "<AxesSubplot:>"
      ]
     },
     "execution_count": 42,
     "metadata": {},
     "output_type": "execute_result"
    },
    {
     "data": {
      "image/png": "[encoded data removed]",
      "text/plain": [
       "<Figure size 720x720 with 2 Axes>"
      ]
     },
     "metadata": {
      "needs_background": "light"
     },
     "output_type": "display_data"
    }
   ],
   "source": [
    "import seaborn as sns\n",
    "import matplotlib.pyplot as plt\n",
    "\n",
    "total_features = np.c_[ usable_features, usable_labels ]\n",
    "print(total_features.shape)\n",
    "print(num_features)\n",
    "# column_list = list(range(num_features)) + [last_idx - 1, last_idx - 2, num_features ] \n",
    "column_list = feature_indices_to_consider + [num_features]\n",
    "print( column_list )\n",
    "\n",
    "df = pd.DataFrame(total_features, columns = column_list )\n",
    "print( df.head() )\n",
    "\n",
    "fig, ax = plt.subplots(figsize=(10,10))         # Sample figsize in inches\n",
    "corr = df.corr()\n",
    "sns.heatmap(corr)"
   ]
  },
  {
   "cell_type": "code",
   "execution_count": 43,
   "metadata": {},
   "outputs": [
    {
     "name": "stdout",
     "output_type": "stream",
     "text": [
      "          0         1         2         3         4         5         6   \\\n",
      "0   1.000000  0.149426  0.131046  0.209140  0.035876  0.023101  0.011842   \n",
      "1   0.149426  1.000000  0.474469  0.897804  0.103005 -0.043165  0.046001   \n",
      "2   0.131046  0.474469  1.000000  0.520402 -0.016817 -0.072167 -0.056615   \n",
      "3   0.209140  0.897804  0.520402  1.000000  0.062634 -0.059105  0.014392   \n",
      "4   0.035876  0.103005 -0.016817  0.062634  1.000000  0.079032  0.701927   \n",
      "5   0.023101 -0.043165 -0.072167 -0.059105  0.079032  1.000000  0.033378   \n",
      "6   0.011842  0.046001 -0.056615  0.014392  0.701927  0.033378  1.000000   \n",
      "7  -0.066112 -0.193655 -0.165904 -0.220478  0.046436 -0.248222  0.114776   \n",
      "8   0.088495  0.112492  0.103723  0.120008 -0.017574 -0.082061 -0.043843   \n",
      "9  -0.104341 -0.158689 -0.090890 -0.186282  0.012632 -0.081805  0.021250   \n",
      "10 -0.066179 -0.001702 -0.019780 -0.054025 -0.007200 -0.083185  0.002280   \n",
      "11  0.179108  0.928457  0.523981  0.919129  0.083393 -0.049375  0.024381   \n",
      "12  0.110442  0.367930  0.319509  0.415556 -0.020049 -0.031454 -0.009820   \n",
      "13 -0.024924 -0.119827 -0.094665 -0.142671  0.089871  0.138570  0.045435   \n",
      "14  0.158060  0.929930  0.530346  0.931591  0.091667 -0.057372  0.026777   \n",
      "15 -0.121991  0.036924  0.082982  0.045013 -0.059813 -0.318721 -0.013979   \n",
      "16  0.019936  0.089842  0.005465  0.080163  0.051740  0.103157  0.043123   \n",
      "17  0.045437 -0.119554 -0.033578 -0.125818  0.009742  0.044329  0.017731   \n",
      "18 -0.159032 -0.528661 -0.366925 -0.594350 -0.036865  0.015875  0.042697   \n",
      "19 -0.000245  0.186876  0.080568  0.173256  0.037182  0.072958  0.055538   \n",
      "20 -0.007202 -0.072088 -0.030331 -0.083097 -0.039467 -0.058098  0.032478   \n",
      "21  0.175411  0.929506  0.525078  0.937913  0.082301 -0.081322  0.029585   \n",
      "22  0.043822  0.093142  0.090289  0.094406 -0.064443  0.109319 -0.080649   \n",
      "23  0.138181  0.857297  0.458547  0.830779  0.110460 -0.041412  0.048856   \n",
      "24 -0.012309  0.049675  0.068023  0.056109 -0.295551 -0.001737 -0.204693   \n",
      "25 -0.026291  0.036598  0.035819  0.032810 -0.352479 -0.012417 -0.335073   \n",
      "26  0.149655  0.889131  0.481865  0.873178  0.085381 -0.051253  0.036639   \n",
      "27  0.151950  0.539646  0.330009  0.570023  0.077590 -0.019352  0.063289   \n",
      "28  0.118283  0.561210  0.322117  0.551484  0.083208  0.029410  0.015437   \n",
      "29  0.087242  0.159108  0.082223  0.179167  0.023778 -0.003660  0.022962   \n",
      "30  0.158024  0.582564  0.400772  0.641377  0.016063 -0.085230 -0.024375   \n",
      "31  0.107990  0.132501  0.049255  0.115118  0.048078  0.058359  0.000779   \n",
      "32  0.178531  0.929751  0.536840  0.937049  0.086388 -0.050439  0.030425   \n",
      "33  0.064288  0.214641  0.101056  0.223486  0.026487  0.088030  0.065910   \n",
      "45  0.011227 -0.021536  0.007778 -0.030712  0.066886  0.011066 -0.004133   \n",
      "44 -0.013724 -0.023780  0.040670 -0.010275 -0.043390 -0.046874  0.020187   \n",
      "34  0.005709  0.227904  0.102744  0.198193  0.119073 -0.064252  0.073808   \n",
      "\n",
      "          7         8         9   ...        27        28        29        30  \\\n",
      "0  -0.066112  0.088495 -0.104341  ...  0.151950  0.118283  0.087242  0.158024   \n",
      "1  -0.193655  0.112492 -0.158689  ...  0.539646  0.561210  0.159108  0.582564   \n",
      "2  -0.165904  0.103723 -0.090890  ...  0.330009  0.322117  0.082223  0.400772   \n",
      "3  -0.220478  0.120008 -0.186282  ...  0.570023  0.551484  0.179167  0.641377   \n",
      "4   0.046436 -0.017574  0.012632  ...  0.077590  0.083208  0.023778  0.016063   \n",
      "5  -0.248222 -0.082061 -0.081805  ... -0.019352  0.029410 -0.003660 -0.085230   \n",
      "6   0.114776 -0.043843  0.021250  ...  0.063289  0.015437  0.022962 -0.024375   \n",
      "7   1.000000 -0.009946  0.094867  ... -0.204966 -0.189551 -0.039637 -0.230990   \n",
      "8  -0.009946  1.000000 -0.057352  ...  0.030753  0.051563  0.085008  0.149353   \n",
      "9   0.094867 -0.057352  1.000000  ... -0.086481 -0.260303 -0.024263 -0.341378   \n",
      "10  0.137918  0.067902  0.646479  ... -0.060399 -0.067271  0.019233 -0.093460   \n",
      "11 -0.202009  0.125969 -0.155806  ...  0.557842  0.541375  0.171868  0.596412   \n",
      "12 -0.155329  0.060531 -0.012913  ...  0.319287  0.196425  0.110600  0.257183   \n",
      "13  0.074311 -0.053500 -0.126025  ... -0.136131  0.040806 -0.040279 -0.064244   \n",
      "14 -0.208676  0.105511 -0.131733  ...  0.551385  0.552447  0.173249  0.593414   \n",
      "15  0.078916  0.125140  0.125389  ...  0.015730 -0.094352 -0.008421  0.052366   \n",
      "16  0.012264  0.053805 -0.223929  ...  0.040158  0.240584  0.014247  0.193038   \n",
      "17  0.038021  0.032295 -0.107423  ... -0.081105 -0.081965 -0.053154 -0.042962   \n",
      "18  0.291292 -0.166935  0.357570  ... -0.459698 -0.467083 -0.120250 -0.745124   \n",
      "19 -0.080379  0.027661 -0.253400  ...  0.093918  0.221552  0.015920  0.207122   \n",
      "20  0.057841 -0.042646  0.409152  ... -0.011988 -0.289753  0.004834 -0.271607   \n",
      "21 -0.209084  0.114411 -0.141303  ...  0.543199  0.534584  0.186856  0.605126   \n",
      "22  0.010975  0.068136 -0.085103  ...  0.084379  0.127048 -0.009610  0.150863   \n",
      "23 -0.099755  0.068653 -0.040256  ...  0.443798  0.460026  0.156354  0.337923   \n",
      "24  0.025305 -0.081304 -0.098702  ...  0.060700  0.054685  0.046279  0.054876   \n",
      "25 -0.005724 -0.033686 -0.102374  ...  0.042346  0.066327  0.017335  0.082841   \n",
      "26 -0.135342  0.093437 -0.069590  ...  0.497962  0.482669  0.155585  0.412167   \n",
      "27 -0.204966  0.030753 -0.086481  ...  1.000000  0.341371  0.124816  0.426340   \n",
      "28 -0.189551  0.051563 -0.260303  ...  0.341371  1.000000  0.112682  0.509652   \n",
      "29 -0.039637  0.085008 -0.024263  ...  0.124816  0.112682  1.000000  0.128400   \n",
      "30 -0.230990  0.149353 -0.341378  ...  0.426340  0.509652  0.128400  1.000000   \n",
      "31  0.049235 -0.028105 -0.029602  ...  0.061935  0.061418  0.023288  0.020389   \n",
      "32 -0.241871  0.133496 -0.172282  ...  0.571835  0.568835  0.175022  0.651850   \n",
      "33  0.028997 -0.017495 -0.056275  ...  0.078931  0.156696  0.016113  0.177962   \n",
      "45  0.053037  0.099260 -0.013811  ...  0.002641 -0.035584 -0.022865  0.068482   \n",
      "44  0.095085  0.047046  0.057080  ... -0.010126 -0.054803 -0.021333  0.008274   \n",
      "34  0.011652  0.061552  0.084480  ...  0.091219  0.114643  0.077737  0.010247   \n",
      "\n",
      "          31        32        33        45        44        34  \n",
      "0   0.107990  0.178531  0.064288  0.011227 -0.013724  0.005709  \n",
      "1   0.132501  0.929751  0.214641 -0.021536 -0.023780  0.227904  \n",
      "2   0.049255  0.536840  0.101056  0.007778  0.040670  0.102744  \n",
      "3   0.115118  0.937049  0.223486 -0.030712 -0.010275  0.198193  \n",
      "4   0.048078  0.086388  0.026487  0.066886 -0.043390  0.119073  \n",
      "5   0.058359 -0.050439  0.088030  0.011066 -0.046874 -0.064252  \n",
      "6   0.000779  0.030425  0.065910 -0.004133  0.020187  0.073808  \n",
      "7   0.049235 -0.241871  0.028997  0.053037  0.095085  0.011652  \n",
      "8  -0.028105  0.133496 -0.017495  0.099260  0.047046  0.061552  \n",
      "9  -0.029602 -0.172282 -0.056275 -0.013811  0.057080  0.084480  \n",
      "10  0.007028 -0.026101  0.083006  0.006187  0.011031  0.066941  \n",
      "11  0.112882  0.931798  0.201062 -0.033039 -0.033851  0.214938  \n",
      "12  0.035457  0.421907  0.003214 -0.015770  0.083178  0.060470  \n",
      "13 -0.013261 -0.129771  0.102354 -0.029980 -0.059840  0.013511  \n",
      "14  0.112496  0.951636  0.205541 -0.061953 -0.011850  0.212751  \n",
      "15 -0.096319  0.047431 -0.029178  0.059752  0.016017  0.036422  \n",
      "16  0.037446  0.070865  0.141529  0.005346 -0.070185 -0.023017  \n",
      "17  0.053474 -0.103779 -0.011786  0.037697  0.007839 -0.073933  \n",
      "18 -0.009629 -0.608530 -0.086530 -0.080158  0.004188 -0.042228  \n",
      "19  0.083126  0.171651 -0.075935  0.003372 -0.090741 -0.057954  \n",
      "20 -0.013174 -0.067157  0.039873 -0.038798  0.074768  0.016174  \n",
      "21  0.109331  0.956973  0.212759 -0.052234 -0.030712  0.223998  \n",
      "22  0.018161  0.083713  0.047708 -0.008921  0.037541 -0.023740  \n",
      "23  0.135841  0.841480  0.159892 -0.121871 -0.048190  0.262717  \n",
      "24  0.033860  0.039644  0.046883 -0.019216  0.010578 -0.098807  \n",
      "25  0.051429  0.030725  0.039764 -0.040909 -0.015700 -0.134904  \n",
      "26  0.136899  0.884077  0.169070 -0.104077 -0.030885  0.244511  \n",
      "27  0.061935  0.571835  0.078931  0.002641 -0.010126  0.091219  \n",
      "28  0.061418  0.568835  0.156696 -0.035584 -0.054803  0.114643  \n",
      "29  0.023288  0.175022  0.016113 -0.022865 -0.021333  0.077737  \n",
      "30  0.020389  0.651850  0.177962  0.068482  0.008274  0.010247  \n",
      "31  1.000000  0.111900 -0.012909  0.002213 -0.049729  0.010794  \n",
      "32  0.111900  1.000000  0.225192 -0.054357 -0.046821  0.203967  \n",
      "33 -0.012909  0.225192  1.000000 -0.034336 -0.003956  0.021315  \n",
      "45  0.002213 -0.054357 -0.034336  1.000000  0.339113  0.184964  \n",
      "44 -0.049729 -0.046821 -0.003956  0.339113  1.000000  0.036148  \n",
      "34  0.010794  0.203967  0.021315  0.184964  0.036148  1.000000  \n",
      "\n",
      "[37 rows x 37 columns]\n"
     ]
    }
   ],
   "source": [
    "print(corr)"
   ]
  },
  {
   "cell_type": "code",
   "execution_count": 44,
   "metadata": {},
   "outputs": [
    {
     "name": "stdout",
     "output_type": "stream",
     "text": [
      "(37, 37)\n",
      "34\n",
      "1 Ever had known person concerned about, or recommend reduction of, alcohol consumption: No 0.22790416484817105\n",
      "2 Ever had known person concerned about, or recommend reduction of, alcohol consumption: Yes, but not in the last year 0.10274367608348357\n",
      "3 Ever had known person concerned about, or recommend reduction of, alcohol consumption: Yes, during the last year 0.19819294422434217\n",
      "4 Total cholesterol 0.11907316665278112\n",
      "11 Hearing difficulty/problems: Yes 0.21493809036800238\n",
      "14 Hearing difficulty/problems with background noise 0.21275089843941372\n",
      "21 Types of physical activity in last 4 weeks: Strenuous sports 0.2239978106211678\n",
      "23 Loneliness, isolation 0.2627165004465577\n",
      "26 Mood swings 0.24451057974521137\n",
      "28 Non-cancer illness code, self-reported: stroke 0.11464274375091839\n",
      "32 Non-cancer illness code, self-reported: hypothyroidism/myxoedema 0.20396671418211437\n",
      "45 0.18496415340852124\n",
      "[1, 2, 3, 4, 11, 14, 21, 23, 26, 28, 32, 45]\n"
     ]
    }
   ],
   "source": [
    "print(corr.shape)\n",
    "features_selected = []\n",
    "# print(corr)\n",
    "# print(usable_features)\n",
    "print(num_features)\n",
    "# print(column_list)\n",
    "for i in column_list: \n",
    "#     print(corr[i][num_features])\n",
    "#     print(i)\n",
    "    if (corr[i][num_features] > 0.1 ) and i != num_features :\n",
    "       # print(corr[i][num_features])\n",
    "        if i < num_features :\n",
    "            print(i, traits[i], corr[i][num_features])\n",
    "        else:\n",
    "            print(i, corr[i][num_features])\n",
    "        features_selected.append(i)\n",
    "print(features_selected)"
   ]
  },
  {
   "cell_type": "markdown",
   "metadata": {},
   "source": [
    "# For 6 years data\n",
    "\n",
    "1 Ever had known person concerned about, or recommend reduction of, alcohol consumption: No 0.24322385909859548\n",
    "\n",
    "3 Ever had known person concerned about, or recommend reduction of, alcohol consumption: Yes, during the last year 0.21124628089025077\n",
    "\n",
    "4 Total cholesterol 0.12352898692641824\n",
    "\n",
    "9 systolic blood pressure 0.11864501660761692\n",
    "\n",
    "11 Hearing difficulty/problems: Yes 0.20998441565381878\n",
    "    \n",
    "14 Hearing difficulty/problems with background noise 0.228985092105197\n",
    "\n",
    "21 Types of physical activity in last 4 weeks: Strenuous sports 0.23538228660245308\n",
    "    \n",
    "23 Loneliness, isolation 0.2941195196720074\n",
    "\n",
    "26 Mood swings 0.2699143146283435\n",
    "\n",
    "28 Non-cancer illness code, self-reported: stroke 0.11703553736331215\n",
    "    \n",
    "32 Non-cancer illness code, self-reported: hypothyroidism/myxoedema 0.20821258728632597\n",
    "    \n",
    "45 Age - 0.19320066099872274\n",
    "\n",
    "[1, 3, 4, 9, 11, 14, 21, 23, 26, 28, 32, 45]"
   ]
  },
  {
   "cell_type": "markdown",
   "metadata": {},
   "source": [
    "# For 4 years data\n",
    "1 Ever had known person concerned about, or recommend reduction of, alcohol consumption: No 0.2370138227153033\n",
    "\n",
    "2 Ever had known person concerned about, or recommend reduction of, alcohol consumption: Yes, but not in the last year 0.12301597556542748\n",
    "\n",
    "3 Ever had known person concerned about, or recommend reduction of, alcohol consumption: Yes, during the last year 0.21769871588954318\n",
    "\n",
    "11 Hearing difficulty/problems: Yes 0.2267182996133105\n",
    "\n",
    "14 Hearing difficulty/problems with background noise 0.24139083496444005\n",
    "\n",
    "21 Types of physical activity in last 4 weeks: Strenuous sports 0.24786173965876507\n",
    "\n",
    "23 Loneliness, isolation 0.29639049781224136\n",
    "\n",
    "26 Mood swings 0.2757687080856744\n",
    "\n",
    "32 Non-cancer illness code, self-reported: hypothyroidism/myxoedema 0.22102020325282393\n",
    "\n",
    "45 - Age - 0.19490563536656422\n",
    "\n",
    "[1, 2, 3, 11, 14, 21, 23, 26, 32, 45]"
   ]
  },
  {
   "cell_type": "markdown",
   "metadata": {},
   "source": [
    "# 6 years\n",
    "[1, 3, 4, 9, 11, 14, 21, 23, 26, 28, 32, 45]\n",
    "\n",
    "# 4 years\n",
    "[1, 2, 3, 11, 14, 21, 23, 26, 32, 45]"
   ]
  },
  {
   "cell_type": "code",
   "execution_count": 45,
   "metadata": {},
   "outputs": [
    {
     "name": "stdout",
     "output_type": "stream",
     "text": [
      "34\n",
      "1 11 Ever had known person concerned about, or recommend reduction of, alcohol consumption: No Hearing difficulty/problems: Yes 0.9284569327428832\n",
      "1 14 Ever had known person concerned about, or recommend reduction of, alcohol consumption: No Hearing difficulty/problems with background noise 0.9299299109981074\n",
      "1 21 Ever had known person concerned about, or recommend reduction of, alcohol consumption: No Types of physical activity in last 4 weeks: Strenuous sports 0.9295064668150488\n",
      "1 32 Ever had known person concerned about, or recommend reduction of, alcohol consumption: No Non-cancer illness code, self-reported: hypothyroidism/myxoedema 0.9297506871351562\n",
      "3 11 Ever had known person concerned about, or recommend reduction of, alcohol consumption: Yes, during the last year Hearing difficulty/problems: Yes 0.9191291471666234\n",
      "3 14 Ever had known person concerned about, or recommend reduction of, alcohol consumption: Yes, during the last year Hearing difficulty/problems with background noise 0.9315907050757788\n",
      "3 21 Ever had known person concerned about, or recommend reduction of, alcohol consumption: Yes, during the last year Types of physical activity in last 4 weeks: Strenuous sports 0.93791299999882\n",
      "3 32 Ever had known person concerned about, or recommend reduction of, alcohol consumption: Yes, during the last year Non-cancer illness code, self-reported: hypothyroidism/myxoedema 0.9370494483988535\n",
      "11 14 Hearing difficulty/problems: Yes Hearing difficulty/problems with background noise 0.9128299021767915\n",
      "11 21 Hearing difficulty/problems: Yes Types of physical activity in last 4 weeks: Strenuous sports 0.9368977364548269\n",
      "11 32 Hearing difficulty/problems: Yes Non-cancer illness code, self-reported: hypothyroidism/myxoedema 0.9317980719485746\n",
      "14 21 Hearing difficulty/problems with background noise Types of physical activity in last 4 weeks: Strenuous sports 0.9521110957779085\n",
      "14 26 Hearing difficulty/problems with background noise Mood swings 0.9100320558555677\n",
      "14 32 Hearing difficulty/problems with background noise Non-cancer illness code, self-reported: hypothyroidism/myxoedema 0.9516363956697296\n",
      "21 32 Types of physical activity in last 4 weeks: Strenuous sports Non-cancer illness code, self-reported: hypothyroidism/myxoedema 0.9569732085217111\n",
      "23 26 Loneliness, isolation Mood swings 0.9445599308033371\n",
      "[2, 4, 26, 28, 32, 45]\n"
     ]
    }
   ],
   "source": [
    "print(num_features)\n",
    "for i in range(num_features):\n",
    "    for j in range(i + 1, num_features):\n",
    "        if ( corr[i][j] > 0.9 ) and (i != j) :\n",
    "            print(i, j, traits[i], traits[j], corr[i][j])\n",
    "            if ( i in features_selected ) and ( j in features_selected ) :\n",
    "                features_selected.remove(i)\n",
    "print(features_selected)"
   ]
  },
  {
   "cell_type": "markdown",
   "metadata": {},
   "source": [
    "# For 6 years Data\n",
    "1 11 Ever had known person concerned about, or recommend reduction of, alcohol consumption: No Hearing difficulty/problems: Yes 0.9243604874070931\n",
    "\n",
    "1 14 Ever had known person concerned about, or recommend reduction of, alcohol consumption: No Hearing difficulty/problems with background noise 0.9260716711328242\n",
    "\n",
    "1 21 Ever had known person concerned about, or recommend reduction of, alcohol consumption: No Types of physical activity in last 4 weeks: Strenuous sports 0.9251902629480944\n",
    "\n",
    "1 32 Ever had known person concerned about, or recommend reduction of, alcohol consumption: No Non-cancer illness code, self-reported: hypothyroidism/myxoedema 0.9287006787768133\n",
    "\n",
    "3 11 Ever had known person concerned about, or recommend reduction of, alcohol consumption: Yes, during the last year Hearing difficulty/problems: Yes 0.916013760562386\n",
    "\n",
    "3 14 Ever had known person concerned about, or recommend reduction of, alcohol consumption: Yes, during the last year Hearing difficulty/problems with background noise 0.9285155282109617\n",
    "\n",
    "3 21 Ever had known person concerned about, or recommend reduction of, alcohol consumption: Yes, during the last year Types of physical activity in last 4 weeks: Strenuous sports 0.9354400293297891\n",
    "\n",
    "3 32 Ever had known person concerned about, or recommend reduction of, alcohol consumption: Yes, during the last year Non-cancer illness code, self-reported: hypothyroidism/myxoedema 0.933840388869314\n",
    "\n",
    "11 14 Hearing difficulty/problems: Yes Hearing difficulty/problems with background noise 0.9069141055265667\n",
    "\n",
    "11 21 Hearing difficulty/problems: Yes Types of physical activity in last 4 weeks: Strenuous sports 0.9337826472964724\n",
    "\n",
    "11 32 Hearing difficulty/problems: Yes Non-cancer illness code, self-reported: hypothyroidism/myxoedema 0.9269981637278939\n",
    "\n",
    "14 21 Hearing difficulty/problems with background noise Types of physical activity in last 4 weeks: Strenuous sports 0.9501638611483937\n",
    "\n",
    "14 26 Hearing difficulty/problems with background noise Mood swings 0.9112802611037611\n",
    "\n",
    "14 32 Hearing difficulty/problems with background noise Non-cancer illness code, self-reported: hypothyroidism/myxoedema 0.949627270285899\n",
    "\n",
    "21 32 Types of physical activity in last 4 weeks: Strenuous sports Non-cancer illness code, self-reported: hypothyroidism/myxoedema 0.9548955650571679\n",
    "\n",
    "23 26 Loneliness, isolation Mood swings 0.943306221921555\n",
    "\n",
    "\n",
    "[4, 9, 26, 28, 32, 45]"
   ]
  },
  {
   "cell_type": "markdown",
   "metadata": {},
   "source": [
    "# For 4 years\n",
    "\n",
    "1 11 Ever had known person concerned about, or recommend reduction of, alcohol consumption: No Hearing difficulty/problems: Yes 0.9212724532317691\n",
    "\n",
    "1 14 Ever had known person concerned about, or recommend reduction of, alcohol consumption: No Hearing difficulty/problems with background noise 0.9243097877929372\n",
    "\n",
    "1 21 Ever had known person concerned about, or recommend reduction of, alcohol consumption: No Types of physical activity in last 4 weeks: Strenuous sports 0.9243532179243421\n",
    "\n",
    "1 32 Ever had known person concerned about, or recommend reduction of, alcohol consumption: No Non-cancer illness code, self-reported: hypothyroidism/myxoedema 0.924561580278279\n",
    "\n",
    "3 11 Ever had known person concerned about, or recommend reduction of, alcohol consumption: Yes, during the last year Hearing difficulty/problems: Yes 0.9161945240953974\n",
    "\n",
    "3 14 Ever had known person concerned about, or recommend reduction of, alcohol consumption: Yes, during the last year Hearing difficulty/problems with background noise 0.9237643906928457\n",
    "\n",
    "3 21 Ever had known person concerned about, or recommend reduction of, alcohol consumption: Yes, during the last year Types of physical activity in last 4 weeks: Strenuous sports 0.9306475054407137\n",
    "\n",
    "3 32 Ever had known person concerned about, or recommend reduction of, alcohol consumption: Yes, during the last year Non-cancer illness code, self-reported: hypothyroidism/myxoedema 0.9321867417573843\n",
    "\n",
    "11 14 Hearing difficulty/problems: Yes Hearing difficulty/problems with background noise 0.904339215781919\n",
    "\n",
    "11 21 Hearing difficulty/problems: Yes Types of physical activity in last 4 weeks: Strenuous sports 0.9305590439434829\n",
    "\n",
    "11 32 Hearing difficulty/problems: Yes Non-cancer illness code, self-reported: hypothyroidism/myxoedema 0.9265803183928989\n",
    "\n",
    "14 21 Hearing difficulty/problems with background noise Types of physical activity in last 4 weeks: Strenuous sports 0.947395361264485\n",
    "\n",
    "14 26 Hearing difficulty/problems with background noise Mood swings 0.9093575032593045\n",
    "\n",
    "14 32 Hearing difficulty/problems with background noise Non-cancer illness code, self-reported: hypothyroidism/myxoedema 0.9481628939479986\n",
    "\n",
    "21 32 Types of physical activity in last 4 weeks: Strenuous sports Non-cancer illness code, self-reported: hypothyroidism/myxoedema 0.9538671512897174\n",
    "\n",
    "23 26 Loneliness, isolation Mood swings 0.9429904310440599\n",
    "\n",
    "\n",
    "[2, 26, 32, 45]"
   ]
  },
  {
   "cell_type": "markdown",
   "metadata": {},
   "source": [
    "# 6 years\n",
    "[4, 9, 26, 28, 32, 45]\n",
    "\n",
    "# 4 years\n",
    "[2, 26, 32, 45]"
   ]
  },
  {
   "cell_type": "code",
   "execution_count": null,
   "metadata": {},
   "outputs": [],
   "source": []
  },
  {
   "cell_type": "code",
   "execution_count": 46,
   "metadata": {},
   "outputs": [
    {
     "name": "stdout",
     "output_type": "stream",
     "text": [
      "Non-cancer illness code, self-reported: type 2 diabetes\n"
     ]
    },
    {
     "data": {
      "image/png": "[encoded data removed]",
      "text/plain": [
       "<Figure size 432x288 with 1 Axes>"
      ]
     },
     "metadata": {
      "needs_background": "light"
     },
     "output_type": "display_data"
    },
    {
     "name": "stdout",
     "output_type": "stream",
     "text": [
      "Ever had known person concerned about, or recommend reduction of, alcohol consumption: No\n"
     ]
    },
    {
     "data": {
      "image/png": "[encoded data removed]",
      "text/plain": [
       "<Figure size 432x288 with 1 Axes>"
      ]
     },
     "metadata": {
      "needs_background": "light"
     },
     "output_type": "display_data"
    },
    {
     "name": "stdout",
     "output_type": "stream",
     "text": [
      "Ever had known person concerned about, or recommend reduction of, alcohol consumption: Yes, but not in the last year\n"
     ]
    },
    {
     "data": {
      "image/png": "[encoded data removed]",
      "text/plain": [
       "<Figure size 432x288 with 1 Axes>"
      ]
     },
     "metadata": {
      "needs_background": "light"
     },
     "output_type": "display_data"
    },
    {
     "name": "stdout",
     "output_type": "stream",
     "text": [
      "Ever had known person concerned about, or recommend reduction of, alcohol consumption: Yes, during the last year\n"
     ]
    },
    {
     "data": {
      "image/png": "[encoded data removed]",
      "text/plain": [
       "<Figure size 432x288 with 1 Axes>"
      ]
     },
     "metadata": {
      "needs_background": "light"
     },
     "output_type": "display_data"
    },
    {
     "name": "stdout",
     "output_type": "stream",
     "text": [
      "Total cholesterol\n"
     ]
    },
    {
     "data": {
      "image/png": "[encoded data removed]",
      "text/plain": [
       "<Figure size 432x288 with 1 Axes>"
      ]
     },
     "metadata": {
      "needs_background": "light"
     },
     "output_type": "display_data"
    },
    {
     "name": "stdout",
     "output_type": "stream",
     "text": [
      "HDL cholesterol\n"
     ]
    },
    {
     "data": {
      "image/png": "[encoded data removed]",
      "text/plain": [
       "<Figure size 432x288 with 1 Axes>"
      ]
     },
     "metadata": {
      "needs_background": "light"
     },
     "output_type": "display_data"
    },
    {
     "name": "stdout",
     "output_type": "stream",
     "text": [
      "LDL cholesterol\n"
     ]
    },
    {
     "data": {
      "image/png": "[encoded data removed]",
      "text/plain": [
       "<Figure size 432x288 with 1 Axes>"
      ]
     },
     "metadata": {
      "needs_background": "light"
     },
     "output_type": "display_data"
    },
    {
     "name": "stdout",
     "output_type": "stream",
     "text": [
      "triglycerides\n"
     ]
    },
    {
     "data": {
      "image/png": "[encoded data removed]",
      "text/plain": [
       "<Figure size 432x288 with 1 Axes>"
      ]
     },
     "metadata": {
      "needs_background": "light"
     },
     "output_type": "display_data"
    },
    {
     "name": "stdout",
     "output_type": "stream",
     "text": [
      "Cigarettes per Day\n"
     ]
    },
    {
     "data": {
      "image/png": "[encoded data removed]",
      "text/plain": [
       "<Figure size 432x288 with 1 Axes>"
      ]
     },
     "metadata": {
      "needs_background": "light"
     },
     "output_type": "display_data"
    },
    {
     "name": "stdout",
     "output_type": "stream",
     "text": [
      "systolic blood pressure\n"
     ]
    },
    {
     "data": {
      "image/png": "[encoded data removed]",
      "text/plain": [
       "<Figure size 432x288 with 1 Axes>"
      ]
     },
     "metadata": {
      "needs_background": "light"
     },
     "output_type": "display_data"
    },
    {
     "name": "stdout",
     "output_type": "stream",
     "text": [
      "diastolic blood pressure\n"
     ]
    },
    {
     "data": {
      "image/png": "[encoded data removed]",
      "text/plain": [
       "<Figure size 432x288 with 1 Axes>"
      ]
     },
     "metadata": {
      "needs_background": "light"
     },
     "output_type": "display_data"
    },
    {
     "name": "stdout",
     "output_type": "stream",
     "text": [
      "Hearing difficulty/problems: Yes\n"
     ]
    },
    {
     "data": {
      "image/png": "[encoded data removed]",
      "text/plain": [
       "<Figure size 432x288 with 1 Axes>"
      ]
     },
     "metadata": {
      "needs_background": "light"
     },
     "output_type": "display_data"
    },
    {
     "name": "stdout",
     "output_type": "stream",
     "text": [
      "Non-cancer illness code, self-reported: depression\n"
     ]
    },
    {
     "data": {
      "image/png": "[encoded data removed]",
      "text/plain": [
       "<Figure size 432x288 with 1 Axes>"
      ]
     },
     "metadata": {
      "needs_background": "light"
     },
     "output_type": "display_data"
    },
    {
     "name": "stdout",
     "output_type": "stream",
     "text": [
      "Non-oily fish intake\n"
     ]
    },
    {
     "data": {
      "image/png": "[encoded data removed]",
      "text/plain": [
       "<Figure size 432x288 with 1 Axes>"
      ]
     },
     "metadata": {
      "needs_background": "light"
     },
     "output_type": "display_data"
    },
    {
     "name": "stdout",
     "output_type": "stream",
     "text": [
      "Hearing difficulty/problems with background noise\n"
     ]
    },
    {
     "data": {
      "image/png": "[encoded data removed]",
      "text/plain": [
       "<Figure size 432x288 with 1 Axes>"
      ]
     },
     "metadata": {
      "needs_background": "light"
     },
     "output_type": "display_data"
    },
    {
     "name": "stdout",
     "output_type": "stream",
     "text": [
      "Body mass index (BMI)\n"
     ]
    },
    {
     "data": {
      "image/png": "[encoded data removed]",
      "text/plain": [
       "<Figure size 432x288 with 1 Axes>"
      ]
     },
     "metadata": {
      "needs_background": "light"
     },
     "output_type": "display_data"
    },
    {
     "name": "stdout",
     "output_type": "stream",
     "text": [
      "Oily fish intake\n"
     ]
    },
    {
     "data": {
      "image/png": "[encoded data removed]",
      "text/plain": [
       "<Figure size 432x288 with 1 Axes>"
      ]
     },
     "metadata": {
      "needs_background": "light"
     },
     "output_type": "display_data"
    },
    {
     "name": "stdout",
     "output_type": "stream",
     "text": [
      "Sleeplessness / insomnia\n"
     ]
    },
    {
     "data": {
      "image/png": "[encoded data removed]",
      "text/plain": [
       "<Figure size 432x288 with 1 Axes>"
      ]
     },
     "metadata": {
      "needs_background": "light"
     },
     "output_type": "display_data"
    },
    {
     "name": "stdout",
     "output_type": "stream",
     "text": [
      "Sleep duration\n"
     ]
    },
    {
     "data": {
      "image/png": "[encoded data removed]",
      "text/plain": [
       "<Figure size 432x288 with 1 Axes>"
      ]
     },
     "metadata": {
      "needs_background": "light"
     },
     "output_type": "display_data"
    },
    {
     "name": "stdout",
     "output_type": "stream",
     "text": [
      "Age completed full time education\n"
     ]
    },
    {
     "data": {
      "image/png": "[encoded data removed]",
      "text/plain": [
       "<Figure size 432x288 with 1 Axes>"
      ]
     },
     "metadata": {
      "needs_background": "light"
     },
     "output_type": "display_data"
    },
    {
     "name": "stdout",
     "output_type": "stream",
     "text": [
      "Processed meat intake\n"
     ]
    },
    {
     "data": {
      "image/png": "[encoded data removed]",
      "text/plain": [
       "<Figure size 432x288 with 1 Axes>"
      ]
     },
     "metadata": {
      "needs_background": "light"
     },
     "output_type": "display_data"
    },
    {
     "name": "stdout",
     "output_type": "stream",
     "text": [
      "Types of physical activity in last 4 weeks: Strenuous sports\n"
     ]
    },
    {
     "data": {
      "image/png": "[encoded data removed]",
      "text/plain": [
       "<Figure size 432x288 with 1 Axes>"
      ]
     },
     "metadata": {
      "needs_background": "light"
     },
     "output_type": "display_data"
    },
    {
     "name": "stdout",
     "output_type": "stream",
     "text": [
      "Other meat intake\n"
     ]
    },
    {
     "data": {
      "image/png": "[encoded data removed]",
      "text/plain": [
       "<Figure size 432x288 with 1 Axes>"
      ]
     },
     "metadata": {
      "needs_background": "light"
     },
     "output_type": "display_data"
    },
    {
     "name": "stdout",
     "output_type": "stream",
     "text": [
      "Loneliness, isolation\n"
     ]
    },
    {
     "data": {
      "image/png": "[encoded data removed]",
      "text/plain": [
       "<Figure size 432x288 with 1 Axes>"
      ]
     },
     "metadata": {
      "needs_background": "light"
     },
     "output_type": "display_data"
    },
    {
     "name": "stdout",
     "output_type": "stream",
     "text": [
      "Illnesses of father: Alzheimer's disease/dementia\n"
     ]
    },
    {
     "data": {
      "image/png": "[encoded data removed]",
      "text/plain": [
       "<Figure size 432x288 with 1 Axes>"
      ]
     },
     "metadata": {
      "needs_background": "light"
     },
     "output_type": "display_data"
    },
    {
     "name": "stdout",
     "output_type": "stream",
     "text": [
      "Illnesses of mother: Alzheimer's disease/dementia\n"
     ]
    },
    {
     "data": {
      "image/png": "[encoded data removed]",
      "text/plain": [
       "<Figure size 432x288 with 1 Axes>"
      ]
     },
     "metadata": {
      "needs_background": "light"
     },
     "output_type": "display_data"
    },
    {
     "name": "stdout",
     "output_type": "stream",
     "text": [
      "Mood swings\n"
     ]
    },
    {
     "data": {
      "image/png": "[encoded data removed]",
      "text/plain": [
       "<Figure size 432x288 with 1 Axes>"
      ]
     },
     "metadata": {
      "needs_background": "light"
     },
     "output_type": "display_data"
    },
    {
     "name": "stdout",
     "output_type": "stream",
     "text": [
      "Non-cancer illness code, self-reported: anxiety/panic attacks\n"
     ]
    },
    {
     "data": {
      "image/png": "[encoded data removed]",
      "text/plain": [
       "<Figure size 432x288 with 1 Axes>"
      ]
     },
     "metadata": {
      "needs_background": "light"
     },
     "output_type": "display_data"
    },
    {
     "name": "stdout",
     "output_type": "stream",
     "text": [
      "Non-cancer illness code, self-reported: stroke\n"
     ]
    },
    {
     "data": {
      "image/png": "[encoded data removed]",
      "text/plain": [
       "<Figure size 432x288 with 1 Axes>"
      ]
     },
     "metadata": {
      "needs_background": "light"
     },
     "output_type": "display_data"
    },
    {
     "name": "stdout",
     "output_type": "stream",
     "text": [
      "Non-cancer illness code, self-reported: head injury\n"
     ]
    },
    {
     "data": {
      "image/png": "[encoded data removed]",
      "text/plain": [
       "<Figure size 432x288 with 1 Axes>"
      ]
     },
     "metadata": {
      "needs_background": "light"
     },
     "output_type": "display_data"
    },
    {
     "name": "stdout",
     "output_type": "stream",
     "text": [
      "Alcohol intake frequency\n"
     ]
    },
    {
     "data": {
      "image/png": "[encoded data removed]",
      "text/plain": [
       "<Figure size 432x288 with 1 Axes>"
      ]
     },
     "metadata": {
      "needs_background": "light"
     },
     "output_type": "display_data"
    },
    {
     "name": "stdout",
     "output_type": "stream",
     "text": [
      "Diagnoses - secondary ICD10: E66.9 Obesity, unspecified\n"
     ]
    },
    {
     "data": {
      "image/png": "[encoded data removed]",
      "text/plain": [
       "<Figure size 432x288 with 1 Axes>"
      ]
     },
     "metadata": {
      "needs_background": "light"
     },
     "output_type": "display_data"
    },
    {
     "name": "stdout",
     "output_type": "stream",
     "text": [
      "Non-cancer illness code, self-reported: hypothyroidism/myxoedema\n"
     ]
    },
    {
     "data": {
      "image/png": "[encoded data removed]",
      "text/plain": [
       "<Figure size 432x288 with 1 Axes>"
      ]
     },
     "metadata": {
      "needs_background": "light"
     },
     "output_type": "display_data"
    },
    {
     "name": "stdout",
     "output_type": "stream",
     "text": [
      "Non-cancer illness code, self-reported: hyperthyroidism/thyrotoxicosis\n"
     ]
    },
    {
     "data": {
      "image/png": "[encoded data removed]",
      "text/plain": [
       "<Figure size 432x288 with 1 Axes>"
      ]
     },
     "metadata": {
      "needs_background": "light"
     },
     "output_type": "display_data"
    },
    {
     "name": "stdout",
     "output_type": "stream",
     "text": [
      "45\n"
     ]
    },
    {
     "data": {
      "image/png": "[encoded data removed]",
      "text/plain": [
       "<Figure size 432x288 with 1 Axes>"
      ]
     },
     "metadata": {
      "needs_background": "light"
     },
     "output_type": "display_data"
    },
    {
     "name": "stdout",
     "output_type": "stream",
     "text": [
      "44\n"
     ]
    },
    {
     "data": {
      "image/png": "[encoded data removed]",
      "text/plain": [
       "<Figure size 432x288 with 1 Axes>"
      ]
     },
     "metadata": {
      "needs_background": "light"
     },
     "output_type": "display_data"
    },
    {
     "name": "stdout",
     "output_type": "stream",
     "text": [
      "34\n"
     ]
    },
    {
     "data": {
      "image/png": "[encoded data removed]",
      "text/plain": [
       "<Figure size 432x288 with 1 Axes>"
      ]
     },
     "metadata": {
      "needs_background": "light"
     },
     "output_type": "display_data"
    }
   ],
   "source": [
    "# print(df.head())\n",
    "for i in column_list:\n",
    "    if( i < len(traits) ):\n",
    "        print(traits[i])\n",
    "    else:\n",
    "        print(i)\n",
    "    df[i].plot(kind=\"hist\")\n",
    "    plt.show()"
   ]
  },
  {
   "cell_type": "code",
   "execution_count": 47,
   "metadata": {},
   "outputs": [
    {
     "name": "stdout",
     "output_type": "stream",
     "text": [
      "0.000000     134\n",
      "74.300003      7\n",
      "77.000000      6\n",
      "72.599998      6\n",
      "77.099998      6\n",
      "            ... \n",
      "77.500000      1\n",
      "88.400002      1\n",
      "87.800003      1\n",
      "75.199997      1\n",
      "72.699997      1\n",
      "Name: 45, Length: 227, dtype: int64\n"
     ]
    }
   ],
   "source": [
    "print(df[45].value_counts())"
   ]
  },
  {
   "cell_type": "code",
   "execution_count": 21,
   "metadata": {},
   "outputs": [
    {
     "name": "stdout",
     "output_type": "stream",
     "text": [
      "(320, 37)\n",
      "           0         1         2         3         4         5         6   \\\n",
      "320  0.854651 -0.782920 -0.857383 -0.471370  0.444673  0.973569  0.457760   \n",
      "321  0.559150  0.360599  1.469037  0.263515  1.392147 -0.617502  1.050648   \n",
      "322  0.096611  0.976351  1.449188  0.687595 -2.764302  0.574986 -0.185775   \n",
      "323  1.189369  0.522386 -0.379310  0.460519 -1.176670 -0.239111 -1.790910   \n",
      "324 -1.096946 -0.566075  0.088230 -0.812851  0.715146 -0.422891 -0.211144   \n",
      "\n",
      "           7         8         9   ...        27        28        29  \\\n",
      "320  0.214627 -0.883566  0.288172  ... -1.351960 -0.753868  0.751419   \n",
      "321  1.341838  1.178842 -1.783959  ... -0.625117 -1.906565  1.682978   \n",
      "322  0.992830  1.696414 -0.471784  ...  0.163258 -0.229584  1.464586   \n",
      "323 -0.505058  0.112853  0.129561  ...  1.432482  0.075026  1.928175   \n",
      "324 -0.400284 -0.761155  0.395644  ...  0.938417  0.517963  0.962737   \n",
      "\n",
      "           30        31        32        33         45   44   34  \n",
      "320 -0.488166 -1.545470 -1.160080  0.297048  78.300003  1.0  0.0  \n",
      "321 -0.425473  0.182725  0.371210  0.300924  70.000000  1.0  0.0  \n",
      "322 -0.260557 -0.111499  0.814135  1.155389   0.000000  0.0  0.0  \n",
      "323  0.008403 -0.447185  0.297672 -1.787358   0.000000  0.0  0.0  \n",
      "324 -0.609513  0.067430 -1.030169  0.743723  67.599998  1.0  0.0  \n",
      "\n",
      "[5 rows x 37 columns]\n"
     ]
    }
   ],
   "source": [
    "# get df with only negative values for ADNI\n",
    "df_negative = df[df[34] == 0]\n",
    "print(df_negative.shape)\n",
    "print(df_negative.head())"
   ]
  },
  {
   "cell_type": "code",
   "execution_count": 22,
   "metadata": {},
   "outputs": [
    {
     "data": {
      "text/plain": [
       "0.000000     88\n",
       "77.900002     5\n",
       "72.599998     5\n",
       "65.099998     4\n",
       "71.400002     4\n",
       "             ..\n",
       "67.000000     1\n",
       "65.599998     1\n",
       "67.400002     1\n",
       "76.300003     1\n",
       "66.000000     1\n",
       "Name: 45, Length: 150, dtype: int64"
      ]
     },
     "execution_count": 22,
     "metadata": {},
     "output_type": "execute_result"
    }
   ],
   "source": [
    "df_negative[45].value_counts()"
   ]
  },
  {
   "cell_type": "code",
   "execution_count": 23,
   "metadata": {},
   "outputs": [
    {
     "name": "stdout",
     "output_type": "stream",
     "text": [
      "(320, 37)\n",
      "         0         1         2         3         4         5         6   \\\n",
      "0  0.908123 -0.274074  0.758874  0.013049  0.442983 -0.443285  1.485292   \n",
      "1  1.020274 -0.369848  0.150669 -0.581045 -2.227744  0.108810 -0.931956   \n",
      "2  0.313621  0.717114 -1.276234  0.384302  0.151542 -1.449305 -0.555103   \n",
      "3 -0.306784 -0.220525 -0.449427 -0.965876  0.389096  1.208160 -0.549053   \n",
      "4 -0.011817  0.625900  0.424598  0.374737 -1.037671 -1.432151 -0.425815   \n",
      "\n",
      "         7         8         9   ...        27        28        29        30  \\\n",
      "0 -0.082247  1.043784 -0.912264  ... -0.462970 -0.664790 -0.669290  0.469373   \n",
      "1  1.036111 -0.010686 -0.175580  ... -0.745343 -0.156196  2.643934 -0.245744   \n",
      "2  0.186433  0.280066  1.539513  ...  1.360584 -0.224199  1.224479 -0.188662   \n",
      "3  0.003970  0.283371 -0.218040  ...  0.162651  1.141808  1.471753 -0.254233   \n",
      "4  1.823026  0.615346  0.806600  ... -1.019009 -0.428521  2.298245  0.164348   \n",
      "\n",
      "         31        32        33         45   44   34  \n",
      "0 -1.077375 -0.240212  0.604915  74.599998  1.0  1.0  \n",
      "1 -0.178582 -0.884339 -0.198674  82.699997  0.0  1.0  \n",
      "2  0.517052  0.413661 -2.055586  72.000000  1.0  1.0  \n",
      "3 -0.044756 -0.167475  0.123442   0.000000  0.0  1.0  \n",
      "4 -1.735626  0.188688  0.782703  75.599998  0.0  1.0  \n",
      "\n",
      "[5 rows x 37 columns]\n"
     ]
    }
   ],
   "source": [
    "# get df with only positive values for ADNI\n",
    "df_positive = df[df[34] == 1]\n",
    "print(df_positive.shape)\n",
    "print(df_positive.head())"
   ]
  },
  {
   "cell_type": "code",
   "execution_count": 24,
   "metadata": {},
   "outputs": [
    {
     "data": {
      "text/plain": [
       "0.000000     45\n",
       "79.300003     6\n",
       "68.000000     4\n",
       "79.800003     4\n",
       "72.199997     4\n",
       "             ..\n",
       "56.500000     1\n",
       "88.300003     1\n",
       "72.800003     1\n",
       "59.700001     1\n",
       "73.699997     1\n",
       "Name: 45, Length: 172, dtype: int64"
      ]
     },
     "execution_count": 24,
     "metadata": {},
     "output_type": "execute_result"
    }
   ],
   "source": [
    "df_positive[45].value_counts()"
   ]
  },
  {
   "cell_type": "code",
   "execution_count": null,
   "metadata": {},
   "outputs": [],
   "source": []
  }
 ],
 "metadata": {
  "kernelspec": {
   "display_name": "Python 3",
   "language": "python",
   "name": "python3"
  },
  "language_info": {
   "codemirror_mode": {
    "name": "ipython",
    "version": 3
   },
   "file_extension": ".py",
   "mimetype": "text/x-python",
   "name": "python",
   "nbconvert_exporter": "python",
   "pygments_lexer": "ipython3",
   "version": "3.7.6"
  }
 },
 "nbformat": 4,
 "nbformat_minor": 4
}
