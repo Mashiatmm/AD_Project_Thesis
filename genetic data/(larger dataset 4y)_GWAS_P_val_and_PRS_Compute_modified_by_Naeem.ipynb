{
 "cells": [
  {
   "cell_type": "code",
   "execution_count": 7,
   "metadata": {},
   "outputs": [],
   "source": [
    "inputFolder=\"\"\n",
    "folderCounter=1"
   ]
  },
  {
   "cell_type": "code",
   "execution_count": 4,
   "metadata": {},
   "outputs": [
    {
     "name": "stdout",
     "output_type": "stream",
     "text": [
      "<class '_io.TextIOWrapper'>\n",
      "0 :\t CHROM\tPOS\tID\tREF\tALT\tQUAL\tFILTER\tINFO:AF\tUKB-b-6134:ES\tUKB-b-6134:SE\tUKB-b-6134:LP\tUKB-b-6134:AF\tUKB-b-6134:SS\tUKB-b-6134:EZ\tUKB-b-6134:SI\tUKB-b-6134:NC\tUKB-b-6134:ID\n",
      "\n",
      "1 :\t 1\t49298\trs10399793\tT\tC\t.\tPASS\t0.623238\t0.0017795\t0.00366743\t0.200659\t0.623238\t.\t.\t.\t.\trs10399793\n",
      "\n"
     ]
    }
   ],
   "source": [
    "# debug cell\n",
    "with open('simple_table.txt', 'r') as f:\n",
    "    print(type(f))\n",
    "    cnt = 2\n",
    "    for i,line in enumerate(f):\n",
    "        print(i, ':\\t', line)\n",
    "        cnt -= 1\n",
    "        if cnt == 0:\n",
    "            break"
   ]
  },
  {
   "cell_type": "code",
   "execution_count": null,
   "metadata": {},
   "outputs": [],
   "source": [
    "# debug cell\n",
    "import gzip\n",
    "with gzip.open('./ukb-b-6134.vcf.gz') as f:\n",
    "    print(f)"
   ]
  },
  {
   "cell_type": "code",
   "execution_count": null,
   "metadata": {
    "scrolled": true
   },
   "outputs": [],
   "source": [
    "import os\n",
    "import json\n",
    "import pickle\n",
    "import time\n",
    "import gzip\n",
    "import shutil\n",
    "\n",
    "def generate_gwas_output_as_tsv_file(inVCF_File, writeFile=None):\n",
    "    root = './tabular_format_gwas_data/'\n",
    "    t0 = time.time()\n",
    "    if writeFile is None:\n",
    "        writeFile = root + inVCF_File.split('/')[-1].split('.')[0] + '.tsv'\n",
    "    \n",
    "    print(\"Processing:\", inVCF_File)\n",
    "    if \".gz\" == inVCF_File[-3:]:\n",
    "        with gzip.open(inVCF_File, 'rb') as f_in:\n",
    "            with open(root+'temp_vcf.vcf', 'wb') as f_out:\n",
    "                shutil.copyfileobj(f_in, f_out)\n",
    "        inVCF_File = root+'temp_vcf.vcf'\n",
    "    print(\"gzip open done :\", inVCF_File)\n",
    "    \"\"\"\n",
    "    Convert all the VCF into simplified tsv format\n",
    "    Source: https://github.com/everestial/VCF-simplify#table-of-contents\n",
    "    python3 ./VCF-Simplify/VCF-Simplify/VcfSimplify.py SimplifyVCF -toType table -inVCF ./ukb-b-6134.vcf -outFile ./simple_table.txt\n",
    "    \"\"\"\n",
    "    vcf_simplify_path = \"./VCF-Simplify/VCF-Simplify/VcfSimplify.py\"\n",
    "    out_File = root+'temp_table.tsv'\n",
    "    os.system(f\"python3 {vcf_simplify_path} SimplifyVCF -toType table -inVCF {inVCF_File} -outFile {out_File}\")\n",
    "    print(writeFile)\n",
    "        \n",
    "    f_read = open(out_File, 'r')\n",
    "    f_write = open(writeFile, 'w')\n",
    "    cnt = 0\n",
    "    for line in f_read:\n",
    "#         print(line)\n",
    "        newliner = ''\n",
    "        if '\\n' == line[-1]:\n",
    "            newliner = '\\n'\n",
    "            line = line.strip()\n",
    "        if 'CHROM' in line:\n",
    "            line = line.upper() + '\\tPVAL_generated_from_LP'\n",
    "        else:\n",
    "            LP = float(line.split('\\t')[10])\n",
    "#             LP = float(line.split('\\t')[14])\n",
    "            #find out LP column from the tsv file\n",
    "            \n",
    "            p_val = str(10**(-1 * LP))\n",
    "            line = line + '\\t' + p_val\n",
    "        line = line + newliner\n",
    "    #     print(line)\n",
    "        f_write.write(line)\n",
    "        cnt += 1\n",
    "    #     if cnt == 20: break\n",
    "\n",
    "    f_read.close()\n",
    "    f_write.close()\n",
    "    print(f'Total SNPs: {cnt} | Total exec time: {time.time() - t0} seconds')"
   ]
  },
  {
   "cell_type": "code",
   "execution_count": null,
   "metadata": {},
   "outputs": [],
   "source": [
    "\n",
    "generate_gwas_output_as_tsv_file(inVCF_File='./tabular_format_gwas_data/ukb-b-20289.vcf.gz', writeFile=None)\n",
    "generate_gwas_output_as_tsv_file(inVCF_File='./tabular_format_gwas_data/ukb-b-19732.vcf.gz', writeFile=None)\n",
    "\n",
    "# generate_gwas_output_as_tsv_file(inVCF_File='./tabular_format_gwas_data/ukb-b-17006.vcf.gz', writeFile=None)\n",
    "# generate_gwas_output_as_tsv_file(inVCF_File='./tabular_format_gwas_data/ukb-b-5779.vcf.gz', writeFile=None)\n",
    "# generate_gwas_output_as_tsv_file(inVCF_File='./tabular_format_gwas_data/ukb-b-15541.vcf.gz', writeFile=None)\n",
    "\n",
    "\n",
    "# need to just specify the file path here\n",
    "# ebi-a-GCST005920.vcf.gz\n",
    "# ebi-a-GCST005923.vcf.gz\n",
    "# ukb-b-14699.vcf.gz\n",
    "# ukb-b-323.vcf.gz\n",
    "# ukb-b-6358\n",
    "# next update in the 'GWAS_datasets_to_consider.xlsx'\n"
   ]
  },
  {
   "cell_type": "code",
   "execution_count": null,
   "metadata": {},
   "outputs": [],
   "source": [
    "\n",
    "# ' abc def\\n'.strip()"
   ]
  },
  {
   "cell_type": "markdown",
   "metadata": {},
   "source": []
  },
  {
   "cell_type": "code",
   "execution_count": null,
   "metadata": {},
   "outputs": [],
   "source": [
    "# 10**(-1*0.200659) #0.6300007"
   ]
  },
  {
   "cell_type": "code",
   "execution_count": 8,
   "metadata": {
    "scrolled": true
   },
   "outputs": [
    {
     "name": "stdout",
     "output_type": "stream",
     "text": [
      "['Continuous' 'Binary' 'Risk factor' 'NA (Possibly binary)'\n",
      " 'Categorical Ordered (assumed continuous)']\n"
     ]
    },
    {
     "data": {
      "text/plain": [
       "'beta'"
      ]
     },
     "execution_count": 8,
     "metadata": {},
     "output_type": "execute_result"
    }
   ],
   "source": [
    "# %pip install openpyxl\n",
    "import pandas as pd\n",
    "\n",
    "category_map = {\n",
    "    'Continuous' : 'beta', \n",
    "    'Categorical Ordered (assumed continuous)': 'beta',\n",
    "    'Binary': 'or',\n",
    "    'NA (Possibly binary)': 'or'\n",
    "}\n",
    "\n",
    "df = pd.read_excel('GWAS_datasets_to_consider.xlsx', engine='openpyxl')[['GWAS_ID', 'Trait', 'Category']]\n",
    "print(df['Category'].unique())\n",
    "GWAS_ID = 'ieu-b-111'\n",
    "category = category_map[df[df['GWAS_ID'] == GWAS_ID].to_numpy()[0, 2]] \n",
    "category"
   ]
  },
  {
   "cell_type": "code",
   "execution_count": 9,
   "metadata": {
    "scrolled": true
   },
   "outputs": [
    {
     "name": "stdout",
     "output_type": "stream",
     "text": [
      "29\n"
     ]
    }
   ],
   "source": [
    "from glob import glob\n",
    "df = pd.read_excel('GWAS_datasets_to_consider.xlsx', engine='openpyxl')[['GWAS_ID', 'Trait', 'Category']]\n",
    "# all_gwas_vcf_files = glob('/mnt/c/Users/HP/Downloads/Compressed/GWAS/*')\n",
    "# ROOT = '/mnt/c/Users/HP/Downloads/Compressed/GWAS/'\n",
    "# ALL_GWAS_IDS = list(set(df['GWAS_ID'].to_numpy().tolist()) - {'bbj-a-46', 'bbj-a-78', 'ieu-a-1283', 'ukb-a-257','ukb-b-2209','ukb-b-17627','ieub-109','ieu-b-110','ieu-b-111','met-d-Total_C'})\n",
    "# bbj-a-78,ukb-a-257,bbj-a-46\n",
    "# ALL_GWAS_IDS = list(set(df['GWAS_ID'].to_numpy().tolist()) - { 'ieu-a-1283','bbj-a-46', 'bbj-a-78'})\n",
    "ALL_GWAS_IDS = list(set(df['GWAS_ID'].to_numpy().tolist()) - { 'ieu-a-1283','bbj-a-46', 'bbj-a-78','ukb-b-14180','ukb-b-13806','ukb-b-12064','ukb-b-323','ukb-b-14699','ukb-b-14699','ukb-b-5779'})\n",
    "print(len(ALL_GWAS_IDS))\n",
    "\n",
    "# ukb-b-323\n",
    "# ukb-b-14699\n",
    "\n",
    "ukb-b-17243\n",
    "ukb-b-6358\n",
    "ukb-b-17006\n",
    "ukb-b-5779\n",
    "ukb-b-15541\n",
    "ukb-b-20289\n",
    "ukb-b-19732\n",
    "\n",
    "base_files = {}\n",
    "\n",
    "# base_files=[] #naeem mod\n",
    "for GWAS_ID in ALL_GWAS_IDS:\n",
    "\n",
    "#     file = ROOT + GWAS_ID + '.vcf.gz'\n",
    "    base_files[GWAS_ID] = category_map[df[df['GWAS_ID'] == GWAS_ID].to_numpy()[0, 2]]\n",
    "\n",
    "#     generate_gwas_output_as_tsv_file(inVCF_File=file, writeFile=None)\n",
    "# print(name_mapping)\n",
    "# print(name_mapping)\n"
   ]
  },
  {
   "cell_type": "code",
   "execution_count": null,
   "metadata": {
    "scrolled": true
   },
   "outputs": [],
   "source": [
    "# base_files\n",
    "print(base_files)\n",
    "for GWAS_ID in base_files:\n",
    "    print(GWAS_ID)\n",
    "    "
   ]
  },
  {
   "cell_type": "code",
   "execution_count": 10,
   "metadata": {
    "scrolled": true
   },
   "outputs": [
    {
     "name": "stderr",
     "output_type": "stream",
     "text": [
      "/tmp/ipykernel_10821/1785225935.py:2: DtypeWarning: Columns (18,19,20,103,104) have mixed types. Specify dtype option on import or set low_memory=False.\n",
      "  ADNIMERGE = pd.read_csv('ADNIMERGE.csv')\n"
     ]
    }
   ],
   "source": [
    "gender_map = {'Female': 0,'Male': 1}\n",
    "ADNIMERGE = pd.read_csv('ADNIMERGE.csv')\n",
    "def get_gender_and_age(PTID):\n",
    "    gender = ADNIMERGE[ADNIMERGE['PTID'] == PTID]['PTGENDER'].dropna().unique()[0]\n",
    "    age = ADNIMERGE[ADNIMERGE['PTID'] == PTID]['AGE'].dropna().unique()[0]\n",
    "    return str(gender_map[gender]) + ' ' + str(age)\n",
    "\n",
    "# NUM_TRAINING_SAMPLES = int(830 * .7)\n",
    "# print('NUM_TRAINING_SAMPLES:', NUM_TRAINING_SAMPLES)\n",
    "# f_writable = open('./COVAR_FILE.txt', 'w')\n",
    "# f_TRAINING_SAMPLES = open('./TRAINING_SAMPLES.txt', 'w')\n",
    "# with open('/mnt/c/Users/HP/Documents/GWA_tutorial/2_Population_stratification/covar_mds.txt') as f:\n",
    "#     for i, line in enumerate(f):\n",
    "#         if 'FID IID' in line:\n",
    "#             line = line[:-1] + ' GENDER AGE\\n'\n",
    "#         else:\n",
    "#             line = line[:-1] + ' ' + get_gender_and_age(PTID=line.split(' ')[1]) + '\\n'\n",
    "#         if i < NUM_TRAINING_SAMPLES:\n",
    "#             f_TRAINING_SAMPLES.write(' '.join(line.split(' ')[:2])+'\\n')\n",
    "#         f_writable.write(line)\n",
    "# #         print(line)\n",
    "# f_writable.close()"
   ]
  },
  {
   "cell_type": "code",
   "execution_count": null,
   "metadata": {},
   "outputs": [],
   "source": []
  },
  {
   "cell_type": "code",
   "execution_count": null,
   "metadata": {
    "scrolled": true
   },
   "outputs": [],
   "source": [
    "def run_prsice(GWAS_ID, redo=False):\n",
    "#     TARGET_DATA = '/mnt/c/Users/HP/Documents/GWA_tutorial/2_Population_stratification/ADNI' # old and smaller dataset\n",
    "    TARGET_DATA = '../larger_dataset/larger_dataset' # new and larger dataset\n",
    "    '''\n",
    "    return_status --> 0: success | 256: Error. Execusion Halted | 2: \n",
    "    '''\n",
    "#     need to alter between these two if needed\n",
    "    if os.path.isfile(f'./PRSice_output/{GWAS_ID}/'):\n",
    "#     if True:\n",
    "        return_status = os.system(f'mkdir ./PRSice_output/{GWAS_ID}/')\n",
    "        print('0:', return_status)\n",
    "        if return_status == 256 and not redo:\n",
    "            return return_status\n",
    "    print('stat',{base_files[GWAS_ID]})\n",
    "#     prsice_command = f'Rscript ./PRSice_linux/PRSice.R \\\n",
    "#         --dir ./PRSice_output \\\n",
    "#         --prsice ./PRSice_linux/PRSice_linux \\\n",
    "#         --base ./tabular_format_gwas_data/{GWAS_ID}.tsv \\\n",
    "#         --target {TARGET_DATA} \\\n",
    "#         --thread 2 \\\n",
    "#         --stat {base_files[GWAS_ID].upper()} \\\n",
    "#         --{base_files[GWAS_ID]} \\\n",
    "#         --binary-target F \\\n",
    "#         --quantile 10 \\\n",
    "#         --out ./PRSice_output/{GWAS_ID}/{GWAS_ID} \\\n",
    "#         --snp ID --chr CHROM --bp POS --A2 REF --A1 ALT --stat {GWAS_ID.upper()}:ES --pvalue PVAL_generated_from_LP \\\n",
    "#         --score std \\\n",
    "#         --cov ../larger_dataset/COVAR_FILE_bigger_dataset.txt \\\n",
    "#         --extract ./PRSice_output/{GWAS_ID}/{GWAS_ID}.valid'\n",
    "    if os.path.isfile(f'./PRSice_output/{GWAS_ID}/{GWAS_ID}.valid'):\n",
    "        prsice_command = f'Rscript ./PRSice_linux/PRSice.R \\\n",
    "            --dir ./PRSice_output \\\n",
    "            --prsice ./PRSice_linux/PRSice_linux \\\n",
    "            --base ./tabular_format_gwas_data/{GWAS_ID}.tsv \\\n",
    "            --target {TARGET_DATA} \\\n",
    "            --thread 2 \\\n",
    "            --stat {base_files[GWAS_ID].upper()} \\\n",
    "            --{base_files[GWAS_ID]} \\\n",
    "            --binary-target F \\\n",
    "            --quantile 10 \\\n",
    "            --out ./PRSice_output/{GWAS_ID}/{GWAS_ID} \\\n",
    "            --snp ID --chr CHROM --bp POS --A2 REF --A1 ALT --stat {GWAS_ID.upper()}:ES --pvalue PVAL_generated_from_LP \\\n",
    "            --score std \\\n",
    "            --cov ../larger_dataset/COVAR_FILE_bigger_dataset.txt \\\n",
    "            --extract ./PRSice_output/{GWAS_ID}/{GWAS_ID}.valid'\n",
    "    else :\n",
    "        prsice_command = f'Rscript ./PRSice_linux/PRSice.R \\\n",
    "            --dir ./PRSice_output \\\n",
    "            --prsice ./PRSice_linux/PRSice_linux \\\n",
    "            --base ./tabular_format_gwas_data/{GWAS_ID}.tsv \\\n",
    "            --target {TARGET_DATA} \\\n",
    "            --thread 2 \\\n",
    "            --stat {base_files[GWAS_ID].upper()} \\\n",
    "            --{base_files[GWAS_ID]} \\\n",
    "            --binary-target F \\\n",
    "            --quantile 10 \\\n",
    "            --out ./PRSice_output/{GWAS_ID}/{GWAS_ID} \\\n",
    "            --snp ID --chr CHROM --bp POS --A2 REF --A1 ALT --stat {GWAS_ID.upper()}:ES --pvalue PVAL_generated_from_LP \\\n",
    "            --score std \\\n",
    "            --cov ../larger_dataset/COVAR_FILE_bigger_dataset.txt '\n",
    "#         print(prsice_command)\n",
    "#         print('stat',{base_files[GWAS_ID]})\n",
    "#         return_status = os.system(prsice_command) # generate the file named {GWAS_ID}.valid\n",
    "#         print('1:', return_status)\n",
    "#         return_status = os.system('echo \"===== Done =====\"')\n",
    "#         print('2:', return_status) \n",
    "\n",
    "    #             running second time with .valid extraction\n",
    "#         prsice_command = f'Rscript ./PRSice_linux/PRSice.R \\\n",
    "#             --dir ./PRSice_output \\\n",
    "#             --prsice ./PRSice_linux/PRSice_linux \\\n",
    "#             --base ./tabular_format_gwas_data/{GWAS_ID}.tsv \\\n",
    "#             --target {TARGET_DATA} \\\n",
    "#             --thread 2 \\\n",
    "#             --stat {base_files[GWAS_ID].upper()} \\\n",
    "#             --{base_files[GWAS_ID]} \\\n",
    "#             --binary-target F \\\n",
    "#             --quantile 10 \\\n",
    "#             --out ./PRSice_output/{GWAS_ID}/{GWAS_ID} \\\n",
    "#             --snp ID --chr CHROM --bp POS --A2 REF --A1 ALT --stat {GWAS_ID.upper()}:ES --pvalue PVAL_generated_from_LP \\\n",
    "#             --score std \\\n",
    "#             --cov ../larger_dataset/COVAR_FILE_bigger_dataset.txt \\\n",
    "#             --extract ./PRSice_output/{GWAS_ID}/{GWAS_ID}.valid'\n",
    "        \n",
    "\n",
    "# #     return_status = os.system(prsice_command + '  --keep ./TRAINING_SAMPLES.txt') # generate the file named {GWAS_ID}.valid\n",
    "# #     return_status = os.system(prsice_command) # generate the file named {GWAS_ID}.valid\n",
    "# #     print('1a:', return_status)\n",
    "# #     return\n",
    "# #     if os.path.isfile(f'./PRSice_output/{GWAS_ID}/{GWAS_ID}.valid'): \n",
    "# #         prsice_command += f' --extract ./PRSice_output/{GWAS_ID}/{GWAS_ID}.valid' \n",
    "# #         return_status = os.system(prsice_command + '  --keep ./TRAINING_SAMPLES.txt') # perform the regression analysis on the training samples only and choose the best p-value-threshold\n",
    "# #         return_status = os.system(prsice_command) # perform the regression analysis on the training samples only and choose the best p-value-threshold\n",
    "# #         print('1b:', return_status)\n",
    "# #         if return_status != 0:\n",
    "# # #             return_status = os.system(prsice_command) # perform the regression analysis on the training samples only and choose the best p-value-threshold\n",
    "# #             print('1c:', return_status)\n",
    "# #     return_status = os.system(prsice_command + '  --all-score --no-regress') # Do not perform the regression analysis and simply output all PRS.\n",
    "# #     return_status = os.system(prsice_command + '  --all-score') # Do not perform the regression analysis and simply output all PRS.\n",
    "# #     print('2:', return_status)\n",
    "#     # in later steps, select the PRS values for the selected p-value-threshold for all the samples (both training and testing)\n",
    "    print(prsice_command)\n",
    "    print('stat',{base_files[GWAS_ID]})\n",
    "    return_status = os.system(prsice_command) # generate the file named {GWAS_ID}.valid\n",
    "    print('1:', return_status)\n",
    "    return_status = os.system('echo \"===== Done =====\"')\n",
    "    print('2:', return_status) \n",
    "#     os.system(f'mv ./prsice_output/{GWAS_ID}.* ./prsice_output/{GWAS_ID}/')\n",
    "# https://github.com/adiamb/Remove-duplicate-snps-plink"
   ]
  },
  {
   "cell_type": "code",
   "execution_count": null,
   "metadata": {},
   "outputs": [],
   "source": []
  },
  {
   "cell_type": "code",
   "execution_count": null,
   "metadata": {
    "scrolled": false
   },
   "outputs": [],
   "source": [
    "# here for some files a weird error occurs: \"reporter not initialized\"\n",
    "#         bbj-a-78\n",
    "# ukb-a-257\n",
    "# bbj-a-46\n",
    "for GWAS_ID in base_files:\n",
    "    if GWAS_ID == 'ukb-b-19732' :\n",
    "        print('*****GWAS ID IS*****',GWAS_ID)\n",
    "        run_prsice(GWAS_ID=GWAS_ID)\n",
    "#         problem -> they do not have corresponding entries in prsice_output folder->create those folders manually"
   ]
  },
  {
   "cell_type": "code",
   "execution_count": null,
   "metadata": {},
   "outputs": [],
   "source": [
    "# run_prsice(GWAS_ID='ukb-b-17627')"
   ]
  },
  {
   "cell_type": "code",
   "execution_count": null,
   "metadata": {},
   "outputs": [],
   "source": [
    "!ls 'tabular_format_gwas_data/{GWAS_ID}.tsv'"
   ]
  },
  {
   "cell_type": "code",
   "execution_count": 3,
   "metadata": {},
   "outputs": [
    {
     "name": "stdout",
     "output_type": "stream",
     "text": [
      "29\n"
     ]
    },
    {
     "ename": "IndexError",
     "evalue": "index 0 is out of bounds for axis 0 with size 0",
     "output_type": "error",
     "traceback": [
      "\u001b[0;31m---------------------------------------------------------------------------\u001b[0m",
      "\u001b[0;31mIndexError\u001b[0m                                Traceback (most recent call last)",
      "Input \u001b[0;32mIn [3]\u001b[0m, in \u001b[0;36m<cell line: 25>\u001b[0;34m()\u001b[0m\n\u001b[1;32m     24\u001b[0m \u001b[38;5;66;03m# base_files=[] #naeem mod\u001b[39;00m\n\u001b[1;32m     25\u001b[0m \u001b[38;5;28;01mfor\u001b[39;00m GWAS_ID \u001b[38;5;129;01min\u001b[39;00m ALL_GWAS_IDS:\n\u001b[1;32m     26\u001b[0m \n\u001b[1;32m     27\u001b[0m \u001b[38;5;66;03m#     file = ROOT + GWAS_ID + '.vcf.gz'\u001b[39;00m\n\u001b[0;32m---> 28\u001b[0m     base_files[GWAS_ID] \u001b[38;5;241m=\u001b[39m category_map[\u001b[43mdf\u001b[49m\u001b[43m[\u001b[49m\u001b[43mdf\u001b[49m\u001b[43m[\u001b[49m\u001b[38;5;124;43m'\u001b[39;49m\u001b[38;5;124;43mGWAS_ID\u001b[39;49m\u001b[38;5;124;43m'\u001b[39;49m\u001b[43m]\u001b[49m\u001b[43m \u001b[49m\u001b[38;5;241;43m==\u001b[39;49m\u001b[43m \u001b[49m\u001b[43mGWAS_ID\u001b[49m\u001b[43m]\u001b[49m\u001b[38;5;241;43m.\u001b[39;49m\u001b[43mto_numpy\u001b[49m\u001b[43m(\u001b[49m\u001b[43m)\u001b[49m\u001b[43m[\u001b[49m\u001b[38;5;241;43m0\u001b[39;49m\u001b[43m,\u001b[49m\u001b[43m \u001b[49m\u001b[38;5;241;43m2\u001b[39;49m\u001b[43m]\u001b[49m]\n\u001b[1;32m     30\u001b[0m \u001b[38;5;66;03m#     generate_gwas_output_as_tsv_file(inVCF_File=file, writeFile=None)\u001b[39;00m\n\u001b[1;32m     31\u001b[0m \u001b[38;5;66;03m# print(name_mapping)\u001b[39;00m\n\u001b[1;32m     32\u001b[0m \u001b[38;5;66;03m# print(name_mapping)\u001b[39;00m\n\u001b[1;32m     34\u001b[0m gender_map \u001b[38;5;241m=\u001b[39m {\u001b[38;5;124m'\u001b[39m\u001b[38;5;124mFemale\u001b[39m\u001b[38;5;124m'\u001b[39m: \u001b[38;5;241m0\u001b[39m,\u001b[38;5;124m'\u001b[39m\u001b[38;5;124mMale\u001b[39m\u001b[38;5;124m'\u001b[39m: \u001b[38;5;241m1\u001b[39m}\n",
      "\u001b[0;31mIndexError\u001b[0m: index 0 is out of bounds for axis 0 with size 0"
     ]
    }
   ],
   "source": [
    "# # need to remove this\n",
    "# from glob import glob\n",
    "# import pandas as pd\n",
    "# category_map = {\n",
    "#     'Continuous' : 'beta', \n",
    "#     'Categorical Ordered (assumed continuous)': 'beta',\n",
    "#     'Binary': 'or',\n",
    "#     'NA (Possibly binary)': 'or'\n",
    "# }\n",
    "\n",
    "# df = pd.read_excel('GWAS_datasets_to_consider.xlsx', engine='openpyxl')[['GWAS_ID', 'Trait', 'Category']]\n",
    "# # all_gwas_vcf_files = glob('/mnt/c/Users/HP/Downloads/Compressed/GWAS/*')\n",
    "# # ROOT = '/mnt/c/Users/HP/Downloads/Compressed/GWAS/'\n",
    "# # ALL_GWAS_IDS = list(set(df['GWAS_ID'].to_numpy().tolist()) - {'bbj-a-46', 'bbj-a-78', 'ieu-a-1283', 'ukb-a-257','ukb-b-2209','ukb-b-17627','ieub-109','ieu-b-110','ieu-b-111','met-d-Total_C'})\n",
    "# # bbj-a-78,ukb-a-257,bbj-a-46\n",
    "# # ALL_GWAS_IDS = list(set(df['GWAS_ID'].to_numpy().tolist()) - { 'ieu-a-1283','bbj-a-46', 'bbj-a-78'})\n",
    "# ALL_GWAS_IDS = list(set(df['GWAS_ID'].to_numpy().tolist()) - { 'ieu-a-1283','bbj-a-46', 'bbj-a-78','ukb-b-13806','ukb-b-12064','ukb-b-323','ukb-b-14699','ukb-b-14699','ukb-b-5779'})\n",
    "# print(len(ALL_GWAS_IDS))\n",
    "\n",
    "# ALL_GWAS_IDS= {'ukb-b-17006','ukb-b-5779','ukb-b-15541','ukb-b-20289','ukb-b-19732','ukb-b-6324','ukb-b-7663','ukb-b-770','ukb-b-323','ukb-b-14699','ukb-b-14180','ukb-b-17243','ukb-b-6358','','ukb-b-8476','','ukb-b-6134','ukb-b-4424','ukb-b-3957','ukb-b-2209','ukb-b-19953','ukb-b-18275','ukb-b-17627','ukb-b-12064','ukb-a-257','ieu-b-39','ieu-b-38','ieu-b-25','ieu-b-111','ieu-b-110','ieu-b-109','met-d-Total_C','ukb-d-20405_2','ukb-d-20405_1','ukb-d-20405_0','ukb-b-13806','ukb-b-13806','ukb-b-12064','ukb-b-323','ukb-b-14699','ukb-b-14699','ukb-b-5779'}\n",
    "\n",
    "# base_files = {}\n",
    "\n",
    "# # base_files=[] #naeem mod\n",
    "# for GWAS_ID in ALL_GWAS_IDS:\n",
    "\n",
    "# #     file = ROOT + GWAS_ID + '.vcf.gz'\n",
    "#     base_files[GWAS_ID] = category_map[df[df['GWAS_ID'] == GWAS_ID].to_numpy()[0, 2]]\n",
    "\n",
    "# #     generate_gwas_output_as_tsv_file(inVCF_File=file, writeFile=None)\n",
    "# # print(name_mapping)\n",
    "# # print(name_mapping)\n",
    "\n",
    "# gender_map = {'Female': 0,'Male': 1}\n",
    "# ADNIMERGE = pd.read_csv('ADNIMERGE.csv')\n",
    "# def get_gender_and_age(PTID):\n",
    "#     gender = ADNIMERGE[ADNIMERGE['PTID'] == PTID]['PTGENDER'].dropna().unique()[0]\n",
    "#     age = ADNIMERGE[ADNIMERGE['PTID'] == PTID]['AGE'].dropna().unique()[0]\n",
    "#     return str(gender_map[gender]) + ' ' + str(age)\n"
   ]
  },
  {
   "cell_type": "code",
   "execution_count": 11,
   "metadata": {
    "scrolled": true
   },
   "outputs": [],
   "source": [
    "base_files\n",
    "GWAS_ID = 'ukb-b-18275'\n",
    "\n",
    "#====\n",
    "\n",
    "def get_prs_values(GWAS_ID):\n",
    "    prsice_output = f'./PRSice_output/{GWAS_ID}/'\n",
    "\n",
    "    if False:\n",
    "        with open(prsice_output+f'{GWAS_ID}.all_score', 'r') as f:\n",
    "            lines = f.readlines()\n",
    "            lines = ['\\t'.join(x.split()) for x in lines]\n",
    "            lines = '\\n'.join(lines)\n",
    "\n",
    "        with open(prsice_output+f'{GWAS_ID}.all_score.tsv', 'w') as f:\n",
    "            f.write(lines)\n",
    "\n",
    "        # best_p_val_threshold = '0.00025005'\n",
    "        best_p_val_threshold = str(open(prsice_output+f'{GWAS_ID}.summary').readlines()[1].split('\\t')[2]) \n",
    "    #     print(best_p_val_threshold) \n",
    "    prs_array = pd.read_csv(prsice_output+f'{GWAS_ID}.best', ' ')['PRS'].to_numpy() \n",
    "    return prs_array"
   ]
  },
  {
   "cell_type": "code",
   "execution_count": 12,
   "metadata": {},
   "outputs": [
    {
     "name": "stderr",
     "output_type": "stream",
     "text": [
      "/tmp/ipykernel_10821/1595037025.py:1: FutureWarning: In a future version of pandas all arguments of read_csv except for the argument 'filepath_or_buffer' will be keyword-only.\n",
      "  get_prs_values(GWAS_ID=GWAS_ID).shape[0]\n"
     ]
    },
    {
     "data": {
      "text/plain": [
       "1816"
      ]
     },
     "execution_count": 12,
     "metadata": {},
     "output_type": "execute_result"
    }
   ],
   "source": [
    "get_prs_values(GWAS_ID=GWAS_ID).shape[0]"
   ]
  },
  {
   "cell_type": "code",
   "execution_count": 13,
   "metadata": {},
   "outputs": [],
   "source": [
    "import os\n",
    "folderCounter=folderCounter+1\n",
    "inputFolder=\"input/\"+str(folderCounter)+\"/\"\n",
    "os.mkdir(inputFolder)\n"
   ]
  },
  {
   "cell_type": "code",
   "execution_count": 14,
   "metadata": {
    "scrolled": true
   },
   "outputs": [
    {
     "name": "stdout",
     "output_type": "stream",
     "text": [
      "{'ukb-b-17006': 'or', 'ukb-b-19953': 'beta', 'ukb-b-18275': 'or', 'ukb-b-8476': 'or', 'ieu-b-38': 'beta', 'ieu-b-25': 'beta', 'met-d-Total_C': 'beta', 'ukb-b-6134': 'beta', 'ukb-b-7663': 'or', 'ukb-a-257': 'or', 'ukb-b-17243': 'or', 'ukb-b-17627': 'beta', 'ukb-b-770': 'beta', 'ukb-b-14180': 'or', 'ukb-b-19732': 'or', 'ukb-d-20405_2': 'or', 'ieu-b-110': 'beta', 'ukb-b-6358': 'or', 'ukb-b-15541': 'or', 'ukb-b-2209': 'beta', 'ukb-b-4424': 'beta', 'ukb-b-3957': 'beta', 'ukb-d-20405_1': 'or', 'ieu-b-111': 'beta', 'ukb-b-6324': 'beta', 'ieu-b-39': 'beta', 'ukb-b-20289': 'or', 'ieu-b-109': 'beta', 'ukb-d-20405_0': 'or'}\n",
      "ukb-b-17006\n",
      "ukb-b-19953\n",
      "ukb-b-18275\n",
      "ukb-b-8476\n",
      "ieu-b-38\n",
      "ieu-b-25\n",
      "met-d-Total_C\n",
      "ukb-b-6134\n",
      "ukb-b-7663\n",
      "ukb-a-257\n",
      "ukb-b-17243\n",
      "ukb-b-17627\n",
      "ukb-b-770\n",
      "ukb-b-14180\n",
      "ukb-b-19732\n",
      "ukb-d-20405_2\n",
      "ieu-b-110\n",
      "ukb-b-6358\n",
      "ukb-b-15541\n",
      "ukb-b-2209\n",
      "ukb-b-4424\n",
      "ukb-b-3957\n",
      "ukb-d-20405_1\n",
      "ieu-b-111\n",
      "ukb-b-6324\n",
      "ieu-b-39\n",
      "ukb-b-20289\n",
      "ieu-b-109\n",
      "ukb-d-20405_0\n"
     ]
    },
    {
     "name": "stderr",
     "output_type": "stream",
     "text": [
      "/tmp/ipykernel_10821/3477325959.py:21: FutureWarning: In a future version of pandas all arguments of read_csv except for the argument 'filepath_or_buffer' will be keyword-only.\n",
      "  PRS_feature_matrix[i, :] = get_prs_values(GWAS_ID=GWAS_ID)\n",
      "/tmp/ipykernel_10821/3477325959.py:21: FutureWarning: In a future version of pandas all arguments of read_csv except for the argument 'filepath_or_buffer' will be keyword-only.\n",
      "  PRS_feature_matrix[i, :] = get_prs_values(GWAS_ID=GWAS_ID)\n",
      "/tmp/ipykernel_10821/3477325959.py:21: FutureWarning: In a future version of pandas all arguments of read_csv except for the argument 'filepath_or_buffer' will be keyword-only.\n",
      "  PRS_feature_matrix[i, :] = get_prs_values(GWAS_ID=GWAS_ID)\n",
      "/tmp/ipykernel_10821/3477325959.py:21: FutureWarning: In a future version of pandas all arguments of read_csv except for the argument 'filepath_or_buffer' will be keyword-only.\n",
      "  PRS_feature_matrix[i, :] = get_prs_values(GWAS_ID=GWAS_ID)\n",
      "/tmp/ipykernel_10821/3477325959.py:21: FutureWarning: In a future version of pandas all arguments of read_csv except for the argument 'filepath_or_buffer' will be keyword-only.\n",
      "  PRS_feature_matrix[i, :] = get_prs_values(GWAS_ID=GWAS_ID)\n",
      "/tmp/ipykernel_10821/3477325959.py:21: FutureWarning: In a future version of pandas all arguments of read_csv except for the argument 'filepath_or_buffer' will be keyword-only.\n",
      "  PRS_feature_matrix[i, :] = get_prs_values(GWAS_ID=GWAS_ID)\n",
      "/tmp/ipykernel_10821/3477325959.py:21: FutureWarning: In a future version of pandas all arguments of read_csv except for the argument 'filepath_or_buffer' will be keyword-only.\n",
      "  PRS_feature_matrix[i, :] = get_prs_values(GWAS_ID=GWAS_ID)\n",
      "/tmp/ipykernel_10821/3477325959.py:21: FutureWarning: In a future version of pandas all arguments of read_csv except for the argument 'filepath_or_buffer' will be keyword-only.\n",
      "  PRS_feature_matrix[i, :] = get_prs_values(GWAS_ID=GWAS_ID)\n",
      "/tmp/ipykernel_10821/3477325959.py:21: FutureWarning: In a future version of pandas all arguments of read_csv except for the argument 'filepath_or_buffer' will be keyword-only.\n",
      "  PRS_feature_matrix[i, :] = get_prs_values(GWAS_ID=GWAS_ID)\n",
      "/tmp/ipykernel_10821/3477325959.py:21: FutureWarning: In a future version of pandas all arguments of read_csv except for the argument 'filepath_or_buffer' will be keyword-only.\n",
      "  PRS_feature_matrix[i, :] = get_prs_values(GWAS_ID=GWAS_ID)\n",
      "/tmp/ipykernel_10821/3477325959.py:21: FutureWarning: In a future version of pandas all arguments of read_csv except for the argument 'filepath_or_buffer' will be keyword-only.\n",
      "  PRS_feature_matrix[i, :] = get_prs_values(GWAS_ID=GWAS_ID)\n",
      "/tmp/ipykernel_10821/3477325959.py:21: FutureWarning: In a future version of pandas all arguments of read_csv except for the argument 'filepath_or_buffer' will be keyword-only.\n",
      "  PRS_feature_matrix[i, :] = get_prs_values(GWAS_ID=GWAS_ID)\n",
      "/tmp/ipykernel_10821/3477325959.py:21: FutureWarning: In a future version of pandas all arguments of read_csv except for the argument 'filepath_or_buffer' will be keyword-only.\n",
      "  PRS_feature_matrix[i, :] = get_prs_values(GWAS_ID=GWAS_ID)\n",
      "/tmp/ipykernel_10821/3477325959.py:21: FutureWarning: In a future version of pandas all arguments of read_csv except for the argument 'filepath_or_buffer' will be keyword-only.\n",
      "  PRS_feature_matrix[i, :] = get_prs_values(GWAS_ID=GWAS_ID)\n",
      "/tmp/ipykernel_10821/3477325959.py:21: FutureWarning: In a future version of pandas all arguments of read_csv except for the argument 'filepath_or_buffer' will be keyword-only.\n",
      "  PRS_feature_matrix[i, :] = get_prs_values(GWAS_ID=GWAS_ID)\n",
      "/tmp/ipykernel_10821/3477325959.py:21: FutureWarning: In a future version of pandas all arguments of read_csv except for the argument 'filepath_or_buffer' will be keyword-only.\n",
      "  PRS_feature_matrix[i, :] = get_prs_values(GWAS_ID=GWAS_ID)\n",
      "/tmp/ipykernel_10821/3477325959.py:21: FutureWarning: In a future version of pandas all arguments of read_csv except for the argument 'filepath_or_buffer' will be keyword-only.\n",
      "  PRS_feature_matrix[i, :] = get_prs_values(GWAS_ID=GWAS_ID)\n",
      "/tmp/ipykernel_10821/3477325959.py:21: FutureWarning: In a future version of pandas all arguments of read_csv except for the argument 'filepath_or_buffer' will be keyword-only.\n",
      "  PRS_feature_matrix[i, :] = get_prs_values(GWAS_ID=GWAS_ID)\n",
      "/tmp/ipykernel_10821/3477325959.py:21: FutureWarning: In a future version of pandas all arguments of read_csv except for the argument 'filepath_or_buffer' will be keyword-only.\n",
      "  PRS_feature_matrix[i, :] = get_prs_values(GWAS_ID=GWAS_ID)\n",
      "/tmp/ipykernel_10821/3477325959.py:21: FutureWarning: In a future version of pandas all arguments of read_csv except for the argument 'filepath_or_buffer' will be keyword-only.\n",
      "  PRS_feature_matrix[i, :] = get_prs_values(GWAS_ID=GWAS_ID)\n",
      "/tmp/ipykernel_10821/3477325959.py:21: FutureWarning: In a future version of pandas all arguments of read_csv except for the argument 'filepath_or_buffer' will be keyword-only.\n",
      "  PRS_feature_matrix[i, :] = get_prs_values(GWAS_ID=GWAS_ID)\n",
      "/tmp/ipykernel_10821/3477325959.py:21: FutureWarning: In a future version of pandas all arguments of read_csv except for the argument 'filepath_or_buffer' will be keyword-only.\n",
      "  PRS_feature_matrix[i, :] = get_prs_values(GWAS_ID=GWAS_ID)\n",
      "/tmp/ipykernel_10821/3477325959.py:21: FutureWarning: In a future version of pandas all arguments of read_csv except for the argument 'filepath_or_buffer' will be keyword-only.\n",
      "  PRS_feature_matrix[i, :] = get_prs_values(GWAS_ID=GWAS_ID)\n",
      "/tmp/ipykernel_10821/3477325959.py:21: FutureWarning: In a future version of pandas all arguments of read_csv except for the argument 'filepath_or_buffer' will be keyword-only.\n",
      "  PRS_feature_matrix[i, :] = get_prs_values(GWAS_ID=GWAS_ID)\n",
      "/tmp/ipykernel_10821/3477325959.py:21: FutureWarning: In a future version of pandas all arguments of read_csv except for the argument 'filepath_or_buffer' will be keyword-only.\n",
      "  PRS_feature_matrix[i, :] = get_prs_values(GWAS_ID=GWAS_ID)\n",
      "/tmp/ipykernel_10821/3477325959.py:21: FutureWarning: In a future version of pandas all arguments of read_csv except for the argument 'filepath_or_buffer' will be keyword-only.\n",
      "  PRS_feature_matrix[i, :] = get_prs_values(GWAS_ID=GWAS_ID)\n",
      "/tmp/ipykernel_10821/3477325959.py:21: FutureWarning: In a future version of pandas all arguments of read_csv except for the argument 'filepath_or_buffer' will be keyword-only.\n",
      "  PRS_feature_matrix[i, :] = get_prs_values(GWAS_ID=GWAS_ID)\n",
      "/tmp/ipykernel_10821/3477325959.py:21: FutureWarning: In a future version of pandas all arguments of read_csv except for the argument 'filepath_or_buffer' will be keyword-only.\n",
      "  PRS_feature_matrix[i, :] = get_prs_values(GWAS_ID=GWAS_ID)\n",
      "/tmp/ipykernel_10821/3477325959.py:21: FutureWarning: In a future version of pandas all arguments of read_csv except for the argument 'filepath_or_buffer' will be keyword-only.\n",
      "  PRS_feature_matrix[i, :] = get_prs_values(GWAS_ID=GWAS_ID)\n"
     ]
    }
   ],
   "source": [
    "import numpy as np\n",
    "import os.path\n",
    "import json\n",
    "name_mapping={}\n",
    "# GWAS_ID\n",
    "# ukb-b-13806\n",
    "# ukb-b-12064\n",
    "# ukb-b-323\n",
    "# ukb-b-14699\n",
    "# ukb-b-5779\n",
    "# base_files=base_files-\n",
    "print(base_files)\n",
    "\n",
    "\n",
    "\n",
    "PRS_feature_matrix = np.zeros([len(base_files), 1816])\n",
    "for i, GWAS_ID in enumerate(base_files):\n",
    "    print(GWAS_ID)\n",
    "    prsice_output = f'./PRSice_output/{GWAS_ID}/{GWAS_ID}.best'\n",
    "    if os.path.exists(prsice_output):  \n",
    "        PRS_feature_matrix[i, :] = get_prs_values(GWAS_ID=GWAS_ID)\n",
    "        name_mapping[GWAS_ID] =df[df['GWAS_ID'] == GWAS_ID].to_numpy()[0, 1]\n",
    "    else :\n",
    "        print(\"no path exists\")\n",
    "with open(inputFolder+\"traits_map.json\", \"w\") as outfile:\n",
    "    json.dump(name_mapping, outfile)\n",
    "\n",
    "    "
   ]
  },
  {
   "cell_type": "code",
   "execution_count": 15,
   "metadata": {},
   "outputs": [],
   "source": [
    "PRS_feature_matrix = PRS_feature_matrix.T\n",
    "np.save(inputFolder+'PRS_feature_matrix', PRS_feature_matrix)"
   ]
  },
  {
   "cell_type": "code",
   "execution_count": 16,
   "metadata": {},
   "outputs": [],
   "source": [
    "PRS_feature_matrix.shape\n",
    "import random"
   ]
  },
  {
   "cell_type": "code",
   "execution_count": 17,
   "metadata": {},
   "outputs": [
    {
     "name": "stdout",
     "output_type": "stream",
     "text": [
      "[598, 495, 475, 779, 96, 41, 63, 313, 733, 730, 611, 719, 244, 290, 787, 165, 123, 359, 628, 232, 512, 67, 38, 77, 210, 79, 477, 630, 131, 755, 435, 286, 491, 676, 774, 464, 344, 709, 455, 813, 170, 107, 307, 348, 3, 506, 195, 543, 46, 773, 316, 293, 276, 172, 353, 801, 454, 843, 306, 627, 28, 692, 326, 83, 296, 829, 738, 532, 782, 297, 211, 103, 416, 267, 814, 111, 821, 460, 552, 722, 599, 659, 605, 178, 520, 413, 704, 310, 731, 429, 656, 250, 637, 503, 791, 508, 321, 759, 525, 294, 159, 820, 652, 188, 811, 147, 341, 84, 682, 529, 175, 143, 789, 265, 567, 763, 22, 562, 395, 661, 36, 632, 243, 431, 23, 434, 634, 716, 662, 528, 18, 702, 169, 74, 568, 799, 712, 593, 98, 354, 448, 612, 622, 385, 25, 168, 419, 234, 80, 403, 680, 377, 318, 384, 246, 119, 91, 558, 298, 156, 95, 177, 141, 762, 328, 619, 104, 703, 330, 665, 471, 197, 420, 142, 303, 425, 603, 663, 87, 174, 222, 640, 772, 615, 766, 182, 388, 417, 162, 406, 324, 88, 521, 115, 202, 24, 633, 432, 688, 623, 643, 585, 746, 554, 333, 47, 106, 228, 102, 536, 368, 743, 822, 836, 154, 287, 262, 717, 241, 485, 33, 516, 600, 426, 369, 237, 489, 277, 422, 577, 792, 484, 54, 581, 360, 223, 689, 1, 242, 20, 479, 833, 171, 372, 579, 823, 350, 463, 509, 804, 144, 673, 660, 45, 37, 361, 815, 715, 740, 621, 62, 238, 467, 71, 488, 469, 586, 342, 145, 559, 697, 118, 607, 125, 69, 734, 654, 29, 710, 308, 544, 387, 458, 365, 415, 99, 346, 539, 373, 800, 78, 151, 718, 42, 626, 136, 196]\n",
      "550 297 847\n"
     ]
    },
    {
     "data": {
      "text/plain": [
       "(array([-0.09385751,  0.01642564, -0.57333424, -0.66106535,  0.00131472,\n",
       "         0.03094232, -0.11054116, -0.00799823, -0.5540036 , -0.50335698,\n",
       "        -0.24328287,  0.02036986,  0.0576942 , -0.64526496, -0.51393001,\n",
       "        -0.46627079, -0.10406896, -0.16907315, -0.09523837, -0.01321587,\n",
       "         0.10857182, -0.02037406, -0.22436656,  0.04812461, -0.02526823,\n",
       "        -0.00238182, -0.07277892,  0.03169299, -0.51310047]),\n",
       " array([0.98651528, 0.99511254, 0.59826146, 0.7143822 , 0.98329353,\n",
       "        0.96474891, 1.01554322, 1.01980298, 0.57304096, 0.56689474,\n",
       "        0.84786868, 1.01617222, 0.99887723, 0.67401163, 0.53247184,\n",
       "        0.52390114, 0.96567579, 0.87065851, 1.0110494 , 1.04206796,\n",
       "        0.69504082, 0.94342726, 0.87025147, 0.98745743, 1.04149467,\n",
       "        0.9915582 , 0.99609098, 0.98166574, 0.59081424]))"
      ]
     },
     "execution_count": 17,
     "metadata": {},
     "output_type": "execute_result"
    }
   ],
   "source": [
    "TRAIN_SAMPLE_SIZE = 550\n",
    "train_samples = list(range(847))\n",
    "random.shuffle(train_samples)\n",
    "train_samples, test_samples = train_samples[:TRAIN_SAMPLE_SIZE], train_samples[TRAIN_SAMPLE_SIZE:]\n",
    "print(test_samples)\n",
    "print(len(train_samples), len(test_samples), len(train_samples) + len(test_samples))\n",
    "PRS_feature_matrix[train_samples].mean(0), PRS_feature_matrix[train_samples].std(0)"
   ]
  },
  {
   "cell_type": "code",
   "execution_count": 18,
   "metadata": {},
   "outputs": [
    {
     "data": {
      "text/plain": [
       "(array([-0.07978971, -0.04640348, -0.60723057, -0.69161648,  0.04919969,\n",
       "        -0.05904626,  0.00680603,  0.00854154, -0.59186978, -0.55326592,\n",
       "        -0.18246585, -0.02527786, -0.01935378, -0.63260243, -0.55928396,\n",
       "        -0.55387493, -0.03058033, -0.21428949, -0.08246443, -0.0556736 ,\n",
       "         0.15217239,  0.07322877, -0.28980899, -0.05651939,  0.06657292,\n",
       "        -0.00114854, -0.11247226,  0.04622745, -0.53352569]),\n",
       " array([0.98330645, 1.02766439, 0.54846196, 0.67247871, 0.94408693,\n",
       "        0.96591924, 1.06640148, 0.97092508, 0.51717341, 0.52451309,\n",
       "        0.86483669, 0.85458492, 0.97064907, 0.66244159, 0.50791763,\n",
       "        0.49968656, 0.99889027, 0.9036183 , 0.99061671, 0.90999983,\n",
       "        0.64950242, 0.95844263, 0.86128375, 0.89625143, 0.88096603,\n",
       "        0.98820967, 1.03655526, 1.02930485, 0.55202692]))"
      ]
     },
     "execution_count": 18,
     "metadata": {},
     "output_type": "execute_result"
    }
   ],
   "source": [
    "PRS_feature_matrix[test_samples].mean(0), PRS_feature_matrix[test_samples].std(0)"
   ]
  },
  {
   "cell_type": "code",
   "execution_count": 19,
   "metadata": {},
   "outputs": [
    {
     "data": {
      "text/plain": [
       "(array([ 4.53524247e-11,  1.11084739e-11, -5.24669764e-11,  6.10582832e-11,\n",
       "         7.99063703e-12, -2.72191628e-11,  1.19856782e-11, -2.76734093e-12,\n",
       "         9.72282264e-12, -1.15251910e-12, -6.37114248e-12,  1.85110097e-11,\n",
       "         5.42070353e-12,  3.52919065e-11,  6.98566804e-12, -1.24741255e-11,\n",
       "        -3.06668484e-11, -8.16188233e-12,  3.02863363e-12,  5.59416361e-11,\n",
       "        -5.24559427e-11,  3.21943862e-11, -4.03398744e-11, -2.29878925e-11,\n",
       "        -1.95044098e-11,  7.19383295e-11,  3.05832070e-11,  8.02313086e-12,\n",
       "        -7.23843658e-11]),\n",
       " array([0.99972463, 0.99972463, 0.99972463, 0.99972463, 0.99972463,\n",
       "        0.99972463, 0.99972463, 0.99972463, 0.99972463, 0.99972463,\n",
       "        0.99972463, 0.99972463, 0.99972463, 0.99972463, 0.99972463,\n",
       "        0.99972463, 0.99972463, 0.99972463, 0.99972463, 0.99972463,\n",
       "        0.99972463, 0.99972463, 0.99972463, 0.99972463, 0.99972463,\n",
       "        0.99972463, 0.99972463, 0.99972463, 0.99972463]))"
      ]
     },
     "execution_count": 19,
     "metadata": {},
     "output_type": "execute_result"
    }
   ],
   "source": [
    "PRS_feature_matrix[:].mean(0), PRS_feature_matrix[:].std(0)"
   ]
  },
  {
   "cell_type": "code",
   "execution_count": 20,
   "metadata": {
    "scrolled": true
   },
   "outputs": [
    {
     "name": "stderr",
     "output_type": "stream",
     "text": [
      "/home/naeem/anaconda3/envs/ad_venv/lib/python3.9/site-packages/IPython/core/interactiveshell.py:3397: FutureWarning: In a future version of pandas all arguments of read_csv except for the argument 'filepath_or_buffer' will be keyword-only.\n",
      "  exec(code_obj, self.user_global_ns, self.user_ns)\n"
     ]
    },
    {
     "data": {
      "text/plain": [
       "(dict, 1816)"
      ]
     },
     "execution_count": 20,
     "metadata": {},
     "output_type": "execute_result"
    }
   ],
   "source": [
    "import json\n",
    "import pandas as pd\n",
    "GWAS_ID = 'ieu-b-25'\n",
    "usable_samples_ADNI = pd.read_csv(f'./PRSice_output/{GWAS_ID}/{GWAS_ID}.best', ' ')['IID'].to_numpy().tolist()\n",
    "usable_samples_ADNI = {'_'.join(sample.split('_')[1:]):idx for idx,sample in enumerate(usable_samples_ADNI)}\n",
    "# json.dump(usable_samples_ADNI, open('./usable_samples_ADNI.json', 'w'))\n",
    "type(usable_samples_ADNI), len(usable_samples_ADNI)"
   ]
  },
  {
   "cell_type": "code",
   "execution_count": 21,
   "metadata": {},
   "outputs": [
    {
     "name": "stdout",
     "output_type": "stream",
     "text": [
      "'25_7_22_thyroid traits.zip'   met-d-Total_C   ukb-b-18275   ukb-b-6324\r\n",
      " bbj-a-46\t\t       ukb-a-257       ukb-b-19732   ukb-b-6358\r\n",
      " bbj-a-78\t\t       ukb-b-12064     ukb-b-19953   ukb-b-7663\r\n",
      " ieu-b-109\t\t       ukb-b-13806     ukb-b-20289   ukb-b-770\r\n",
      " ieu-b-110\t\t       ukb-b-14180     ukb-b-2209    ukb-b-8476\r\n",
      " ieu-b-111\t\t       ukb-b-14699     ukb-b-323     ukb-d-20405_0\r\n",
      " ieu-b-25\t\t       ukb-b-15541     ukb-b-3957    ukb-d-20405_1\r\n",
      " ieu-b-38\t\t       ukb-b-17006     ukb-b-4424    ukb-d-20405_2\r\n",
      " ieu-b-39\t\t       ukb-b-17243     ukb-b-5779\r\n",
      " lib\t\t\t       ukb-b-17627     ukb-b-6134\r\n"
     ]
    }
   ],
   "source": [
    "!ls PRSice_output"
   ]
  },
  {
   "cell_type": "code",
   "execution_count": null,
   "metadata": {},
   "outputs": [],
   "source": []
  },
  {
   "cell_type": "code",
   "execution_count": 22,
   "metadata": {},
   "outputs": [
    {
     "name": "stdout",
     "output_type": "stream",
     "text": [
      "(1816, 29) 1816\n"
     ]
    }
   ],
   "source": [
    "import json\n",
    "import numpy as np\n",
    "# PRS_feature_matrix = np.load('./PRS_feature_matrix.npy')\n",
    "PRS_feature_matrix = np.load(inputFolder+'PRS_feature_matrix.npy')\n",
    "# usable_samples_ADNI = json.load(open('./usable_samples_ADNI.json'))\n",
    "print(PRS_feature_matrix.shape, usable_samples_ADNI.__len__())\n",
    "\n",
    "# usable_samples_ADNI"
   ]
  },
  {
   "cell_type": "code",
   "execution_count": 24,
   "metadata": {
    "scrolled": true
   },
   "outputs": [
    {
     "name": "stderr",
     "output_type": "stream",
     "text": [
      "/tmp/ipykernel_10821/1350442401.py:2: DtypeWarning: Columns (18,19,20,103,104) have mixed types. Specify dtype option on import or set low_memory=False.\n",
      "  ADNIMERGE = pd.read_csv('ADNIMERGE.csv')\n"
     ]
    },
    {
     "name": "stdout",
     "output_type": "stream",
     "text": [
      "   RID        PTID VISCODE  SITE COLPROT ORIGPROT  EXAMDATE DX_bl   AGE  \\\n",
      "0    2  011_S_0002      bl    11   ADNI1    ADNI1  08-09-05    CN  74.3   \n",
      "1    3  011_S_0003      bl    11   ADNI1    ADNI1  12-09-05    AD  81.3   \n",
      "2    3  011_S_0003     m06    11   ADNI1    ADNI1  13-03-06    AD  81.3   \n",
      "3    3  011_S_0003     m12    11   ADNI1    ADNI1  12-09-06    AD  81.3   \n",
      "4    3  011_S_0003     m24    11   ADNI1    ADNI1  12-09-07    AD  81.3   \n",
      "\n",
      "  PTGENDER  ...  TAU_bl PTAU_bl   FDG_bl PIB_bl  AV45_bl  Years_bl  Month_bl  \\\n",
      "0     Male  ...     NaN     NaN  1.36665    NaN      NaN  0.000000   0.00000   \n",
      "1     Male  ...   239.7   22.83  1.08355    NaN      NaN  0.000000   0.00000   \n",
      "2     Male  ...   239.7   22.83  1.08355    NaN      NaN  0.498289   5.96721   \n",
      "3     Male  ...   239.7   22.83  1.08355    NaN      NaN  0.999316  11.96720   \n",
      "4     Male  ...   239.7   22.83  1.08355    NaN      NaN  1.998630  23.93440   \n",
      "\n",
      "   Month     M update_stamp  \n",
      "0      0   0.0      55:41.0  \n",
      "1      0   0.0      55:41.0  \n",
      "2      6   6.0      55:41.0  \n",
      "3     12  12.0      55:41.0  \n",
      "4     24  24.0      55:41.0  \n",
      "\n",
      "[5 rows x 113 columns]\n",
      "(15122, 113)\n",
      "Dementia shape :  (2338, 4)\n",
      "Samples Dementia length :  787\n",
      "Samples NonDementia length :  1481\n"
     ]
    },
    {
     "data": {
      "text/plain": [
       "(206, 1144, 1350)"
      ]
     },
     "execution_count": 24,
     "metadata": {},
     "output_type": "execute_result"
    }
   ],
   "source": [
    "THRESHOLD_MONTH = 12*4\n",
    "ADNIMERGE = pd.read_csv('ADNIMERGE.csv')\n",
    "print(ADNIMERGE.head())\n",
    "print(ADNIMERGE.shape)\n",
    "ADNI_TEMP = ADNIMERGE[['RID', 'PTID', 'DX', 'Month']].dropna().sort_values(by=['PTID', 'Month'])\n",
    "Dementia = ADNI_TEMP[ADNI_TEMP['DX']=='Dementia']\n",
    "print(\"Dementia shape : \", Dementia.shape)\n",
    "# print(Dementia)\n",
    "Samples_Dementia = set(Dementia['PTID'].unique())\n",
    "print(\"Samples Dementia length : \", len(Samples_Dementia) )\n",
    "Samples_NonDementia = set(ADNI_TEMP['PTID'].unique()) - Samples_Dementia\n",
    "print(\"Samples NonDementia length : \", len( Samples_NonDementia ) )\n",
    "\n",
    "# Samples_NonDementia\n",
    "Final_Samples_Dementia = set()\n",
    "for sample in Samples_Dementia:\n",
    "    last_dx = ADNI_TEMP[ADNI_TEMP['PTID']==sample]['DX'].iloc[-1]\n",
    "    last_month_of_dx = ADNI_TEMP[ADNI_TEMP['PTID']==sample]['Month'].iloc[-1]\n",
    "#     if True:\n",
    "    if last_month_of_dx >= THRESHOLD_MONTH :\n",
    "#         if last_dx != 'Dementia':\n",
    "#             print(last_dx)\n",
    "        if last_dx == 'Dementia' and sample in usable_samples_ADNI:\n",
    "#             why check for dementia again?\n",
    "                Final_Samples_Dementia = Final_Samples_Dementia.union({sample})\n",
    "\n",
    "Final_Samples_NonDementia = set()\n",
    "for sample in Samples_NonDementia:\n",
    "    last_month_of_dx = ADNI_TEMP[ADNI_TEMP['PTID']==sample]['Month'].iloc[-1]\n",
    "#     if last_month_of_dx >= THRESHOLD_MONTH and sample in usable_samples_ADNI:\n",
    "    if sample in usable_samples_ADNI:\n",
    "        Final_Samples_NonDementia = Final_Samples_NonDementia | {sample} # union symbol in python sets\n",
    "    \n",
    "# sum(ADNI_TEMP['Month'] == 6), ADNI_TEMP.shape\n",
    "# Dementia\n",
    "Final_Samples_Dementia = [[x, 1] for x in Final_Samples_Dementia]\n",
    "Final_Samples_NonDementia = [[x, 0] for x in Final_Samples_NonDementia]\n",
    "\n",
    "Final_Samples = Final_Samples_Dementia + Final_Samples_NonDementia\n",
    "json.dump(Final_Samples, open('Final_Samples.json', 'w'))\n",
    "# json.dump(Final_Samples, open('Final_Samples.json', 'w'))\n",
    "\n",
    "\n",
    "Final_Samples_Dementia.__len__(), Final_Samples_NonDementia.__len__(), Final_Samples.__len__()"
   ]
  },
  {
   "cell_type": "code",
   "execution_count": 25,
   "metadata": {},
   "outputs": [
    {
     "name": "stderr",
     "output_type": "stream",
     "text": [
      "/home/naeem/anaconda3/envs/ad_venv/lib/python3.9/site-packages/IPython/core/interactiveshell.py:3397: FutureWarning: In a future version of pandas all arguments of read_csv except for the argument 'filepath_or_buffer' will be keyword-only.\n",
      "  exec(code_obj, self.user_global_ns, self.user_ns)\n"
     ]
    }
   ],
   "source": [
    "import json\n",
    "import pandas as pd\n",
    "GWAS_ID = 'ieu-b-25'\n",
    "usable_samples_ADNI = pd.read_csv(f'./PRSice_output/{GWAS_ID}/{GWAS_ID}.best', ' ')['IID'].to_numpy().tolist()\n",
    "usable_samples_ADNI = {sample:idx for idx,sample in enumerate(usable_samples_ADNI)}\n",
    "json.dump(usable_samples_ADNI, open('./usable_samples_ADNI.json', 'w'))"
   ]
  },
  {
   "cell_type": "code",
   "execution_count": 26,
   "metadata": {},
   "outputs": [
    {
     "name": "stdout",
     "output_type": "stream",
     "text": [
      "['ukb-b-17006', 'ukb-b-19953', 'ukb-b-18275', 'ukb-b-8476', 'ieu-b-38', 'ieu-b-25', 'met-d-Total_C', 'ukb-b-6134', 'ukb-b-7663', 'ukb-a-257', 'ukb-b-17243', 'ukb-b-17627', 'ukb-b-770', 'ukb-b-14180', 'ukb-b-19732', 'ukb-d-20405_2', 'ieu-b-110', 'ukb-b-6358', 'ukb-b-15541', 'ukb-b-2209', 'ukb-b-4424', 'ukb-b-3957', 'ukb-d-20405_1', 'ieu-b-111', 'ukb-b-6324', 'ieu-b-39', 'ukb-b-20289', 'ieu-b-109', 'ukb-d-20405_0']\n"
     ]
    }
   ],
   "source": [
    "ALL_GWAS_IDS = [key for key in base_files]\n",
    "print(ALL_GWAS_IDS)"
   ]
  },
  {
   "cell_type": "code",
   "execution_count": 27,
   "metadata": {
    "scrolled": true
   },
   "outputs": [
    {
     "data": {
      "text/html": [
       "<div>\n",
       "<style scoped>\n",
       "    .dataframe tbody tr th:only-of-type {\n",
       "        vertical-align: middle;\n",
       "    }\n",
       "\n",
       "    .dataframe tbody tr th {\n",
       "        vertical-align: top;\n",
       "    }\n",
       "\n",
       "    .dataframe thead th {\n",
       "        text-align: right;\n",
       "    }\n",
       "</style>\n",
       "<table border=\"1\" class=\"dataframe\">\n",
       "  <thead>\n",
       "    <tr style=\"text-align: right;\">\n",
       "      <th></th>\n",
       "      <th>GWAS_ID</th>\n",
       "      <th>Trait</th>\n",
       "      <th>Category</th>\n",
       "    </tr>\n",
       "  </thead>\n",
       "  <tbody>\n",
       "    <tr>\n",
       "      <th>0</th>\n",
       "      <td>bbj-a-46</td>\n",
       "      <td>Pulse Pressure</td>\n",
       "      <td>Continuous</td>\n",
       "    </tr>\n",
       "    <tr>\n",
       "      <th>1</th>\n",
       "      <td>bbj-a-78</td>\n",
       "      <td>Smoking behaviors : Smoking initiation</td>\n",
       "      <td>Binary</td>\n",
       "    </tr>\n",
       "    <tr>\n",
       "      <th>2</th>\n",
       "      <td>ukb-b-13806</td>\n",
       "      <td>Non-cancer illness code, self-reported: type 2...</td>\n",
       "      <td>Binary</td>\n",
       "    </tr>\n",
       "    <tr>\n",
       "      <th>3</th>\n",
       "      <td>ieu-a-1283</td>\n",
       "      <td>Alcohol consumption</td>\n",
       "      <td>Risk factor</td>\n",
       "    </tr>\n",
       "    <tr>\n",
       "      <th>4</th>\n",
       "      <td>ukb-d-20405_0</td>\n",
       "      <td>Ever had known person concerned about, or reco...</td>\n",
       "      <td>Binary</td>\n",
       "    </tr>\n",
       "    <tr>\n",
       "      <th>5</th>\n",
       "      <td>ukb-d-20405_1</td>\n",
       "      <td>Ever had known person concerned about, or reco...</td>\n",
       "      <td>Binary</td>\n",
       "    </tr>\n",
       "    <tr>\n",
       "      <th>6</th>\n",
       "      <td>ukb-d-20405_2</td>\n",
       "      <td>Ever had known person concerned about, or reco...</td>\n",
       "      <td>Binary</td>\n",
       "    </tr>\n",
       "    <tr>\n",
       "      <th>7</th>\n",
       "      <td>met-d-Total_C</td>\n",
       "      <td>Total cholesterol</td>\n",
       "      <td>Continuous</td>\n",
       "    </tr>\n",
       "    <tr>\n",
       "      <th>8</th>\n",
       "      <td>ieu-b-109</td>\n",
       "      <td>HDL cholesterol</td>\n",
       "      <td>Continuous</td>\n",
       "    </tr>\n",
       "    <tr>\n",
       "      <th>9</th>\n",
       "      <td>ieu-b-110</td>\n",
       "      <td>LDL cholesterol</td>\n",
       "      <td>Continuous</td>\n",
       "    </tr>\n",
       "    <tr>\n",
       "      <th>10</th>\n",
       "      <td>ieu-b-111</td>\n",
       "      <td>triglycerides</td>\n",
       "      <td>Continuous</td>\n",
       "    </tr>\n",
       "    <tr>\n",
       "      <th>11</th>\n",
       "      <td>ieu-b-25</td>\n",
       "      <td>Cigarettes per Day</td>\n",
       "      <td>Continuous</td>\n",
       "    </tr>\n",
       "    <tr>\n",
       "      <th>12</th>\n",
       "      <td>ieu-b-38</td>\n",
       "      <td>systolic blood pressure</td>\n",
       "      <td>Continuous</td>\n",
       "    </tr>\n",
       "    <tr>\n",
       "      <th>13</th>\n",
       "      <td>ieu-b-39</td>\n",
       "      <td>diastolic blood pressure</td>\n",
       "      <td>Continuous</td>\n",
       "    </tr>\n",
       "    <tr>\n",
       "      <th>14</th>\n",
       "      <td>ukb-a-257</td>\n",
       "      <td>Hearing difficulty/problems: Yes</td>\n",
       "      <td>NA (Possibly binary)</td>\n",
       "    </tr>\n",
       "    <tr>\n",
       "      <th>15</th>\n",
       "      <td>ukb-b-12064</td>\n",
       "      <td>Non-cancer illness code, self-reported: depres...</td>\n",
       "      <td>Binary</td>\n",
       "    </tr>\n",
       "    <tr>\n",
       "      <th>16</th>\n",
       "      <td>ukb-b-17627</td>\n",
       "      <td>Non-oily fish intake</td>\n",
       "      <td>Categorical Ordered (assumed continuous)</td>\n",
       "    </tr>\n",
       "    <tr>\n",
       "      <th>17</th>\n",
       "      <td>ukb-b-18275</td>\n",
       "      <td>Hearing difficulty/problems with background noise</td>\n",
       "      <td>Binary</td>\n",
       "    </tr>\n",
       "    <tr>\n",
       "      <th>18</th>\n",
       "      <td>ukb-b-19953</td>\n",
       "      <td>Body mass index (BMI)</td>\n",
       "      <td>Continuous</td>\n",
       "    </tr>\n",
       "    <tr>\n",
       "      <th>19</th>\n",
       "      <td>ukb-b-2209</td>\n",
       "      <td>Oily fish intake</td>\n",
       "      <td>Categorical Ordered (assumed continuous)</td>\n",
       "    </tr>\n",
       "    <tr>\n",
       "      <th>20</th>\n",
       "      <td>ukb-b-3957</td>\n",
       "      <td>Sleeplessness / insomnia</td>\n",
       "      <td>Categorical Ordered (assumed continuous)</td>\n",
       "    </tr>\n",
       "    <tr>\n",
       "      <th>21</th>\n",
       "      <td>ukb-b-4424</td>\n",
       "      <td>Sleep duration</td>\n",
       "      <td>Categorical Ordered (assumed continuous)</td>\n",
       "    </tr>\n",
       "    <tr>\n",
       "      <th>22</th>\n",
       "      <td>ukb-b-6134</td>\n",
       "      <td>Age completed full time education</td>\n",
       "      <td>Categorical Ordered (assumed continuous)</td>\n",
       "    </tr>\n",
       "    <tr>\n",
       "      <th>23</th>\n",
       "      <td>ukb-b-6324</td>\n",
       "      <td>Processed meat intake</td>\n",
       "      <td>Categorical Ordered (assumed continuous)</td>\n",
       "    </tr>\n",
       "    <tr>\n",
       "      <th>24</th>\n",
       "      <td>ukb-b-7663</td>\n",
       "      <td>Types of physical activity in last 4 weeks: St...</td>\n",
       "      <td>Binary</td>\n",
       "    </tr>\n",
       "    <tr>\n",
       "      <th>25</th>\n",
       "      <td>ukb-b-770</td>\n",
       "      <td>Other meat intake</td>\n",
       "      <td>Categorical Ordered (assumed continuous)</td>\n",
       "    </tr>\n",
       "    <tr>\n",
       "      <th>26</th>\n",
       "      <td>ukb-b-8476</td>\n",
       "      <td>Loneliness, isolation</td>\n",
       "      <td>Binary</td>\n",
       "    </tr>\n",
       "    <tr>\n",
       "      <th>27</th>\n",
       "      <td>ukb-b-323</td>\n",
       "      <td>Illnesses of father: Alzheimer's disease/dementia</td>\n",
       "      <td>Binary</td>\n",
       "    </tr>\n",
       "    <tr>\n",
       "      <th>28</th>\n",
       "      <td>ukb-b-14699</td>\n",
       "      <td>Illnesses of mother: Alzheimer's disease/dementia</td>\n",
       "      <td>Binary</td>\n",
       "    </tr>\n",
       "    <tr>\n",
       "      <th>29</th>\n",
       "      <td>ukb-b-14180</td>\n",
       "      <td>Mood swings</td>\n",
       "      <td>Binary</td>\n",
       "    </tr>\n",
       "    <tr>\n",
       "      <th>30</th>\n",
       "      <td>ukb-b-17243</td>\n",
       "      <td>Non-cancer illness code, self-reported: anxiet...</td>\n",
       "      <td>Binary</td>\n",
       "    </tr>\n",
       "    <tr>\n",
       "      <th>31</th>\n",
       "      <td>ukb-b-6358</td>\n",
       "      <td>Non-cancer illness code, self-reported: stroke</td>\n",
       "      <td>Binary</td>\n",
       "    </tr>\n",
       "    <tr>\n",
       "      <th>32</th>\n",
       "      <td>ukb-b-17006</td>\n",
       "      <td>Non-cancer illness code, self-reported: head i...</td>\n",
       "      <td>Binary</td>\n",
       "    </tr>\n",
       "    <tr>\n",
       "      <th>33</th>\n",
       "      <td>ukb-b-5779</td>\n",
       "      <td>Alcohol intake frequency</td>\n",
       "      <td>Categorical Ordered (assumed continuous)</td>\n",
       "    </tr>\n",
       "    <tr>\n",
       "      <th>34</th>\n",
       "      <td>ukb-b-15541</td>\n",
       "      <td>Diagnoses - secondary ICD10: E66.9 Obesity, un...</td>\n",
       "      <td>Binary</td>\n",
       "    </tr>\n",
       "    <tr>\n",
       "      <th>35</th>\n",
       "      <td>ukb-b-19732</td>\n",
       "      <td>Non-cancer illness code, self-reported: hypoth...</td>\n",
       "      <td>Binary</td>\n",
       "    </tr>\n",
       "    <tr>\n",
       "      <th>36</th>\n",
       "      <td>ukb-b-20289</td>\n",
       "      <td>Non-cancer illness code, self-reported: hypert...</td>\n",
       "      <td>Binary</td>\n",
       "    </tr>\n",
       "  </tbody>\n",
       "</table>\n",
       "</div>"
      ],
      "text/plain": [
       "          GWAS_ID                                              Trait  \\\n",
       "0        bbj-a-46                                     Pulse Pressure   \n",
       "1        bbj-a-78             Smoking behaviors : Smoking initiation   \n",
       "2     ukb-b-13806  Non-cancer illness code, self-reported: type 2...   \n",
       "3      ieu-a-1283                                Alcohol consumption   \n",
       "4   ukb-d-20405_0  Ever had known person concerned about, or reco...   \n",
       "5   ukb-d-20405_1  Ever had known person concerned about, or reco...   \n",
       "6   ukb-d-20405_2  Ever had known person concerned about, or reco...   \n",
       "7   met-d-Total_C                                  Total cholesterol   \n",
       "8       ieu-b-109                                    HDL cholesterol   \n",
       "9       ieu-b-110                                    LDL cholesterol   \n",
       "10      ieu-b-111                                      triglycerides   \n",
       "11       ieu-b-25                                 Cigarettes per Day   \n",
       "12       ieu-b-38                            systolic blood pressure   \n",
       "13       ieu-b-39                           diastolic blood pressure   \n",
       "14      ukb-a-257                   Hearing difficulty/problems: Yes   \n",
       "15    ukb-b-12064  Non-cancer illness code, self-reported: depres...   \n",
       "16    ukb-b-17627                               Non-oily fish intake   \n",
       "17    ukb-b-18275  Hearing difficulty/problems with background noise   \n",
       "18    ukb-b-19953                              Body mass index (BMI)   \n",
       "19     ukb-b-2209                                   Oily fish intake   \n",
       "20     ukb-b-3957                           Sleeplessness / insomnia   \n",
       "21     ukb-b-4424                                     Sleep duration   \n",
       "22     ukb-b-6134                  Age completed full time education   \n",
       "23     ukb-b-6324                              Processed meat intake   \n",
       "24     ukb-b-7663  Types of physical activity in last 4 weeks: St...   \n",
       "25      ukb-b-770                                  Other meat intake   \n",
       "26     ukb-b-8476                              Loneliness, isolation   \n",
       "27      ukb-b-323  Illnesses of father: Alzheimer's disease/dementia   \n",
       "28    ukb-b-14699  Illnesses of mother: Alzheimer's disease/dementia   \n",
       "29    ukb-b-14180                                        Mood swings   \n",
       "30    ukb-b-17243  Non-cancer illness code, self-reported: anxiet...   \n",
       "31     ukb-b-6358     Non-cancer illness code, self-reported: stroke   \n",
       "32    ukb-b-17006  Non-cancer illness code, self-reported: head i...   \n",
       "33     ukb-b-5779                           Alcohol intake frequency   \n",
       "34    ukb-b-15541  Diagnoses - secondary ICD10: E66.9 Obesity, un...   \n",
       "35    ukb-b-19732  Non-cancer illness code, self-reported: hypoth...   \n",
       "36    ukb-b-20289  Non-cancer illness code, self-reported: hypert...   \n",
       "\n",
       "                                    Category  \n",
       "0                                 Continuous  \n",
       "1                                     Binary  \n",
       "2                                     Binary  \n",
       "3                                Risk factor  \n",
       "4                                     Binary  \n",
       "5                                     Binary  \n",
       "6                                     Binary  \n",
       "7                                 Continuous  \n",
       "8                                 Continuous  \n",
       "9                                 Continuous  \n",
       "10                                Continuous  \n",
       "11                                Continuous  \n",
       "12                                Continuous  \n",
       "13                                Continuous  \n",
       "14                      NA (Possibly binary)  \n",
       "15                                    Binary  \n",
       "16  Categorical Ordered (assumed continuous)  \n",
       "17                                    Binary  \n",
       "18                                Continuous  \n",
       "19  Categorical Ordered (assumed continuous)  \n",
       "20  Categorical Ordered (assumed continuous)  \n",
       "21  Categorical Ordered (assumed continuous)  \n",
       "22  Categorical Ordered (assumed continuous)  \n",
       "23  Categorical Ordered (assumed continuous)  \n",
       "24                                    Binary  \n",
       "25  Categorical Ordered (assumed continuous)  \n",
       "26                                    Binary  \n",
       "27                                    Binary  \n",
       "28                                    Binary  \n",
       "29                                    Binary  \n",
       "30                                    Binary  \n",
       "31                                    Binary  \n",
       "32                                    Binary  \n",
       "33  Categorical Ordered (assumed continuous)  \n",
       "34                                    Binary  \n",
       "35                                    Binary  \n",
       "36                                    Binary  "
      ]
     },
     "execution_count": 27,
     "metadata": {},
     "output_type": "execute_result"
    }
   ],
   "source": [
    "df"
   ]
  },
  {
   "cell_type": "code",
   "execution_count": 28,
   "metadata": {
    "scrolled": true
   },
   "outputs": [
    {
     "name": "stdout",
     "output_type": "stream",
     "text": [
      "ukb-b-17006 : Non-cancer illness code, self-reported: head injury\n",
      "ukb-b-19953 : Body mass index (BMI)\n",
      "ukb-b-18275 : Hearing difficulty/problems with background noise\n",
      "ukb-b-8476 : Loneliness, isolation\n",
      "ieu-b-38 : systolic blood pressure\n",
      "ieu-b-25 : Cigarettes per Day\n",
      "met-d-Total_C : Total cholesterol\n",
      "ukb-b-6134 : Age completed full time education\n",
      "ukb-b-7663 : Types of physical activity in last 4 weeks: Strenuous sports\n",
      "ukb-a-257 : Hearing difficulty/problems: Yes\n",
      "ukb-b-17243 : Non-cancer illness code, self-reported: anxiety/panic attacks\n",
      "ukb-b-17627 : Non-oily fish intake\n",
      "ukb-b-770 : Other meat intake\n",
      "ukb-b-14180 : Mood swings\n",
      "ukb-b-19732 : Non-cancer illness code, self-reported: hypothyroidism/myxoedema\n",
      "ukb-d-20405_2 : Ever had known person concerned about, or recommend reduction of, alcohol consumption: Yes, during the last year\n",
      "ieu-b-110 : LDL cholesterol\n",
      "ukb-b-6358 : Non-cancer illness code, self-reported: stroke\n",
      "ukb-b-15541 : Diagnoses - secondary ICD10: E66.9 Obesity, unspecified\n",
      "ukb-b-2209 : Oily fish intake\n",
      "ukb-b-4424 : Sleep duration\n",
      "ukb-b-3957 : Sleeplessness / insomnia\n",
      "ukb-d-20405_1 : Ever had known person concerned about, or recommend reduction of, alcohol consumption: Yes, but not in the last year\n",
      "ieu-b-111 : triglycerides\n",
      "ukb-b-6324 : Processed meat intake\n",
      "ieu-b-39 : diastolic blood pressure\n",
      "ukb-b-20289 : Non-cancer illness code, self-reported: hyperthyroidism/thyrotoxicosis\n",
      "ieu-b-109 : HDL cholesterol\n",
      "ukb-d-20405_0 : Ever had known person concerned about, or recommend reduction of, alcohol consumption: No\n",
      "['Non-cancer illness code, self-reported: head injury', 'Body mass index (BMI)', 'Hearing difficulty/problems with background noise', 'Loneliness, isolation', 'systolic blood pressure', 'Cigarettes per Day', 'Total cholesterol', 'Age completed full time education', 'Types of physical activity in last 4 weeks: Strenuous sports', 'Hearing difficulty/problems: Yes', 'Non-cancer illness code, self-reported: anxiety/panic attacks', 'Non-oily fish intake', 'Other meat intake', 'Mood swings', 'Non-cancer illness code, self-reported: hypothyroidism/myxoedema', 'Ever had known person concerned about, or recommend reduction of, alcohol consumption: Yes, during the last year', 'LDL cholesterol', 'Non-cancer illness code, self-reported: stroke', 'Diagnoses - secondary ICD10: E66.9 Obesity, unspecified', 'Oily fish intake', 'Sleep duration', 'Sleeplessness / insomnia', 'Ever had known person concerned about, or recommend reduction of, alcohol consumption: Yes, but not in the last year', 'triglycerides', 'Processed meat intake', 'diastolic blood pressure', 'Non-cancer illness code, self-reported: hyperthyroidism/thyrotoxicosis', 'HDL cholesterol', 'Ever had known person concerned about, or recommend reduction of, alcohol consumption: No']\n"
     ]
    }
   ],
   "source": [
    "df = pd.read_excel('GWAS_datasets_to_consider.xlsx', engine='openpyxl')[['GWAS_ID', 'Trait', 'Category']]\n",
    "all_traits = []\n",
    "for GWAS_ID in ALL_GWAS_IDS:\n",
    "    trait = str(df[df['GWAS_ID'] == GWAS_ID]['Trait'].to_numpy()[0])\n",
    "    print(GWAS_ID, ':', trait)\n",
    "    all_traits += [trait]\n",
    "print(all_traits)"
   ]
  },
  {
   "cell_type": "code",
   "execution_count": 29,
   "metadata": {},
   "outputs": [],
   "source": [
    "# import torch\n",
    "# torch.__version__"
   ]
  },
  {
   "cell_type": "code",
   "execution_count": 30,
   "metadata": {},
   "outputs": [],
   "source": [
    "# # this is for demo purpose\n",
    "# prsice_command = f'Rscript ./PRSice_linux/PRSice.R --dir ./PRSice_linux\t\\\n",
    "# --prsice ./PRSice_linux/PRSice_linux     \\\n",
    "# --base ./PRSice_linux/simple_table_with_pval.txt     \\\n",
    "# --target ./PRSice_linux/ADNI_plink     \\\n",
    "# --thread 1     \\\n",
    "# --beta     \\\n",
    "# --binary-target F\t\\\n",
    "# --out ./PRSice_output/PRSice\t\\\n",
    "# --snp ID --chr CHROM --bp POS --A2 REF --A1 ALT --stat UKB-b-6134:ES --pvalue PVAL_generated_from_LP\t\\\n",
    "# --extract ./PRSice_output/PRSice.valid'"
   ]
  },
  {
   "cell_type": "code",
   "execution_count": 31,
   "metadata": {},
   "outputs": [],
   "source": [
    "#     # this is for demo purpose\n",
    "#     import os\n",
    "#     return_status = os.system(prsice_command) # generate the file named {GWAS_ID}.valid\n",
    "#     print('1a:', return_status)"
   ]
  },
  {
   "cell_type": "code",
   "execution_count": null,
   "metadata": {},
   "outputs": [],
   "source": []
  }
 ],
 "metadata": {
  "kernelspec": {
   "display_name": "Python 3 (ipykernel)",
   "language": "python",
   "name": "python3"
  },
  "language_info": {
   "codemirror_mode": {
    "name": "ipython",
    "version": 3
   },
   "file_extension": ".py",
   "mimetype": "text/x-python",
   "name": "python",
   "nbconvert_exporter": "python",
   "pygments_lexer": "ipython3",
   "version": "3.9.0"
  },
  "vscode": {
   "interpreter": {
    "hash": "916dbcbb3f70747c44a77c7bcd40155683ae19c65e1c03b4aa3499c5328201f1"
   }
  }
 },
 "nbformat": 4,
 "nbformat_minor": 4
}
