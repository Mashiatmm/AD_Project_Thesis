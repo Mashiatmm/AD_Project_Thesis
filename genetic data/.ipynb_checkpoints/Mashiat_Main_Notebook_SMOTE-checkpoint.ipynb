{
 "cells": [
  {
   "cell_type": "markdown",
   "metadata": {},
   "source": [
    "# Read the input dataset :\n",
    "\n",
    "1. usable_samples_ADNI.json : stores the IID (index) for each row of PRS_feature_matrix.npy\n",
    "2. PRS_feature_matrix.npy : PR Score for different features\n",
    "3. Covar_FILE_bigger_dataset : for reading covar such as age, gender\n",
    "4. Final_Samples.json : contains ID and output for each data"
   ]
  },
  {
   "cell_type": "code",
   "execution_count": 1,
   "metadata": {},
   "outputs": [],
   "source": [
    "if True:\n",
    "    def warn(*args, **kwargs):\n",
    "        pass\n",
    "    import warnings\n",
    "    warnings.warn = warn\n",
    "\n",
    "import pandas as pd\n",
    "import numpy as np\n",
    "import json\n",
    "import random\n",
    "import math\n",
    "\n",
    "import os\n",
    "import time\n",
    "import sys\n",
    "\n",
    "import torch as t\n",
    "from torch import nn\n",
    "from torch.autograd import Variable\n",
    "import torch\n",
    "from torch.utils import data\n",
    "\n",
    "from sklearn.metrics import precision_recall_fscore_support, roc_auc_score, precision_recall_curve, auc\n",
    "from sklearn.model_selection import train_test_split\n",
    "from sklearn.model_selection import KFold \n",
    "\n",
    "DEVICE = \"cuda\" if torch.cuda.is_available() else \"cpu\"\n",
    "\n",
    "import shap\n",
    "from copy import deepcopy\n",
    "\n",
    "import pickle\n",
    "from tqdm import tqdm\n",
    "\n",
    "import matplotlib\n",
    "import matplotlib.pyplot as plt\n",
    "\n",
    "import seaborn as sns\n",
    "\n",
    "import tpot\n",
    "\n",
    "from imblearn.over_sampling import SMOTE\n",
    "from imblearn.over_sampling import BorderlineSMOTE\n",
    "from imblearn.over_sampling import ADASYN"
   ]
  },
  {
   "cell_type": "code",
   "execution_count": 2,
   "metadata": {},
   "outputs": [],
   "source": [
    "# !pip install skfeature-chappers\n",
    "# !pip install mlxtend\n",
    "# !pip --version\n",
    "# !pip install imblearn\n",
    "# !conda install -c conda-forge imbalanced-learn\n",
    "# conda install -c conda-forge tqdm\n",
    "# conda install mlxtend\n",
    "\n",
    "# conda config --add channels conda-forge\n",
    "# conda install hyperopt\n",
    "\n",
    "# conda config --add channels conda-forge\n",
    "# conda config --set channel_priority strict\n",
    "# conda install auto-sklearn\n",
    "# conda install -c conda-forge tpot\n",
    "\n"
   ]
  },
  {
   "cell_type": "markdown",
   "metadata": {},
   "source": [
    "Show the installed packages with their versions"
   ]
  },
  {
   "cell_type": "code",
   "execution_count": 3,
   "metadata": {},
   "outputs": [
    {
     "name": "stdout",
     "output_type": "stream",
     "text": [
      "# packages in environment at C:\\ProgramData\\Anaconda3:\n",
      "#\n",
      "# Name                    Version                   Build  Channel\n",
      "_ipyw_jlab_nb_ext_conf    0.1.0                    py37_0  \n",
      "alabaster                 0.7.12                   py37_0  \n",
      "anaconda                  2020.02                  py37_0  \n",
      "anaconda-client           1.7.2                    py37_0  \n",
      "anaconda-navigator        1.9.12                   py37_0  \n",
      "anaconda-project          0.8.4                      py_0  \n",
      "appdirs                   1.4.3                    pypi_0    pypi\n",
      "argh                      0.26.2                   py37_0  \n",
      "asn1crypto                1.3.0                    py37_0  \n",
      "astroid                   2.3.3                    py37_0  \n",
      "astropy                   4.0              py37he774522_0  \n",
      "atomicwrites              1.3.0                    py37_1  \n",
      "attrs                     19.3.0                     py_0  \n",
      "autopep8                  1.4.4                      py_0  \n",
      "babel                     2.8.0                      py_0  \n",
      "backcall                  0.1.0                    py37_0  \n",
      "backports                 1.0                        py_2  \n",
      "backports.functools_lru_cache 1.6.1                      py_0  \n",
      "backports.shutil_get_terminal_size 1.0.0                    py37_2  \n",
      "backports.tempfile        1.0                        py_1  \n",
      "backports.weakref         1.0.post1                  py_1  \n",
      "bcrypt                    3.1.7            py37he774522_0  \n",
      "beautifulsoup4            4.8.2                    py37_0  \n",
      "bitarray                  1.2.1            py37he774522_0  \n",
      "bkcharts                  0.2                      py37_0  \n",
      "blas                      1.0                         mkl  \n",
      "bleach                    3.1.0                    py37_0  \n",
      "blosc                     1.16.3               h7bd577a_0  \n",
      "bokeh                     1.4.0                    py37_0  \n",
      "boto                      2.49.0                   py37_0  \n",
      "bottleneck                1.3.2            py37h2a96729_0  \n",
      "bzip2                     1.0.8                he774522_0  \n",
      "ca-certificates           2020.1.1                      0  \n",
      "certifi                   2019.11.28               py37_0  \n",
      "cffi                      1.14.0           py37h7a1dbc1_0  \n",
      "chardet                   3.0.4                 py37_1003  \n",
      "click                     7.0                      py37_0  \n",
      "cloudpickle               1.3.0                      py_0  \n",
      "clyent                    1.2.2                    py37_1  \n",
      "colorama                  0.4.3                      py_0  \n",
      "comtypes                  1.1.7                    py37_0  \n",
      "conda                     4.8.3                    py37_0  \n",
      "conda-build               3.18.11                  py37_0  \n",
      "conda-env                 2.6.0                         1  \n",
      "conda-package-handling    1.6.0            py37h62dcd97_0  \n",
      "conda-verify              3.4.2                      py_1  \n",
      "console_shortcut          0.1.1                         4  \n",
      "contextlib2               0.6.0.post1                py_0  \n",
      "cryptography              2.8              py37h7a1dbc1_0  \n",
      "curl                      7.68.0               h2a8f88b_0  \n",
      "cycler                    0.10.0                   py37_0  \n",
      "cython                    0.29.15          py37ha925a31_0  \n",
      "cytoolz                   0.10.1           py37he774522_0  \n",
      "dask                      2.11.0                     py_0  \n",
      "dask-core                 2.11.0                     py_0  \n",
      "decorator                 4.4.1                      py_0  \n",
      "defusedxml                0.6.0                      py_0  \n",
      "diff-match-patch          20181111                   py_0  \n",
      "distlib                   0.3.0                    pypi_0    pypi\n",
      "distributed               2.11.0                   py37_0  \n",
      "docutils                  0.16                     py37_0  \n",
      "en-core-web-md            2.2.5                    pypi_0    pypi\n",
      "entrypoints               0.3                      py37_0  \n",
      "et_xmlfile                1.0.1                    py37_0  \n",
      "fastcache                 1.1.0            py37he774522_0  \n",
      "filelock                  3.0.12                     py_0  \n",
      "flake8                    3.7.9                    py37_0  \n",
      "flask                     1.1.1                      py_0  \n",
      "freetype                  2.9.1                ha9979f8_1  \n",
      "fsspec                    0.6.2                      py_0  \n",
      "future                    0.18.2                   py37_0  \n",
      "get_terminal_size         1.0.0                h38e98db_0  \n",
      "gevent                    1.4.0            py37he774522_0  \n",
      "glob2                     0.7                        py_0  \n",
      "greenlet                  0.4.15           py37hfa6e2cd_0  \n",
      "h5py                      2.10.0           py37h5e291fa_0  \n",
      "hdf5                      1.10.4               h7ebc959_0  \n",
      "heapdict                  1.0.1                      py_0  \n",
      "html5lib                  1.0.1                    py37_0  \n",
      "hypothesis                5.5.4                      py_0  \n",
      "icc_rt                    2019.0.0             h0cc432a_1  \n",
      "icu                       58.2                 ha66f8fd_1  \n",
      "idna                      2.8                      py37_0  \n",
      "imageio                   2.6.1                    py37_0  \n",
      "imagesize                 1.2.0                      py_0  \n",
      "importlib_metadata        1.5.0                    py37_0  \n",
      "intel-openmp              2020.0                      166  \n",
      "intervaltree              3.0.2                      py_0  \n",
      "ipykernel                 5.1.4            py37h39e3cac_0  \n",
      "ipython                   7.12.0           py37h5ca1d4c_0  \n",
      "ipython_genutils          0.2.0                    py37_0  \n",
      "ipywidgets                7.5.1                      py_0  \n",
      "isort                     4.3.21                   py37_0  \n",
      "itsdangerous              1.1.0                    py37_0  \n",
      "jdcal                     1.4.1                      py_0  \n",
      "jedi                      0.14.1                   py37_0  \n",
      "jinja2                    2.11.1                     py_0  \n",
      "joblib                    0.14.1                     py_0  \n",
      "jpeg                      9b                   hb83a4c4_2  \n",
      "json5                     0.9.1                      py_0  \n",
      "jsonschema                3.2.0                    py37_0  \n",
      "jupyter                   1.0.0                    py37_7  \n",
      "jupyter_client            5.3.4                    py37_0  \n",
      "jupyter_console           6.1.0                      py_0  \n",
      "jupyter_core              4.6.1                    py37_0  \n",
      "jupyterlab                1.2.6              pyhf63ae98_0  \n",
      "jupyterlab_server         1.0.6                      py_0  \n",
      "kaggle                    1.5.9                    pypi_0    pypi\n",
      "keyring                   21.1.0                   py37_0  \n",
      "kiwisolver                1.1.0            py37ha925a31_0  \n",
      "krb5                      1.17.1               hc04afaa_0  \n",
      "lazy-object-proxy         1.4.3            py37he774522_0  \n",
      "libarchive                3.3.3                h0643e63_5  \n",
      "libcurl                   7.68.0               h2a8f88b_0  \n",
      "libiconv                  1.15                 h1df5818_7  \n",
      "liblief                   0.9.0                ha925a31_2  \n",
      "libpng                    1.6.37               h2a8f88b_0  \n",
      "libsodium                 1.0.16               h9d3ae62_0  \n",
      "libspatialindex           1.9.3                h33f27b4_0  \n",
      "libssh2                   1.8.2                h7a1dbc1_0  \n",
      "libtiff                   4.1.0                h56a325e_0  \n",
      "libxml2                   2.9.9                h464c3ec_0  \n",
      "libxslt                   1.1.33               h579f668_0  \n",
      "llvmlite                  0.31.0           py37ha925a31_0  \n",
      "locket                    0.2.0                    py37_1  \n",
      "lxml                      4.5.0            py37h1350720_0  \n",
      "lz4-c                     1.8.1.2              h2fa13f4_0  \n",
      "lzo                       2.10                 h6df0209_2  \n",
      "m2w64-gcc-libgfortran     5.3.0                         6  \n",
      "m2w64-gcc-libs            5.3.0                         7  \n",
      "m2w64-gcc-libs-core       5.3.0                         7  \n",
      "m2w64-gmp                 6.1.0                         2  \n",
      "m2w64-libwinpthread-git   5.0.0.4634.697f757               2  \n",
      "markupsafe                1.1.1            py37he774522_0  \n",
      "matplotlib                3.1.3                    py37_0  \n",
      "matplotlib-base           3.1.3            py37h64f37c6_0  \n",
      "mccabe                    0.6.1                    py37_1  \n",
      "menuinst                  1.4.16           py37he774522_0  \n",
      "mistune                   0.8.4            py37he774522_0  \n",
      "mkl                       2020.0                      166  \n",
      "mkl-service               2.3.0            py37hb782905_0  \n",
      "mkl_fft                   1.0.15           py37h14836fe_0  \n",
      "mkl_random                1.1.0            py37h675688f_0  \n",
      "mock                      4.0.1                      py_0  \n",
      "more-itertools            8.2.0                      py_0  \n",
      "mpmath                    1.1.0                    py37_0  \n",
      "msgpack-python            0.6.1            py37h74a9793_1  \n",
      "msys2-conda-epoch         20160418                      1  \n",
      "multipledispatch          0.6.0                    py37_0  \n",
      "murmurhash                1.0.2                    pypi_0    pypi\n",
      "navigator-updater         0.2.1                    py37_0  \n",
      "nbconvert                 5.6.1                    py37_0  \n",
      "nbformat                  5.0.4                      py_0  \n",
      "networkx                  2.4                        py_0  \n",
      "nltk                      3.4.5                    py37_0  \n",
      "nose                      1.3.7                    py37_2  \n",
      "notebook                  6.0.3                    py37_0  \n",
      "numba                     0.48.0           py37h47e9c7a_0  \n",
      "numexpr                   2.7.1            py37h25d0782_0  \n",
      "numpy                     1.18.1           py37h93ca92e_0  \n",
      "numpy-base                1.18.1           py37hc3f5095_1  \n",
      "numpydoc                  0.9.2                      py_0  \n",
      "olefile                   0.46                     py37_0  \n",
      "openpyxl                  3.0.3                      py_0  \n",
      "openssl                   1.1.1d               he774522_4  \n",
      "packaging                 20.1                     pypi_0    pypi\n",
      "pandas                    1.0.1            py37h47e9c7a_0  \n",
      "pandoc                    2.2.3.2                       0  \n",
      "pandocfilters             1.4.2                    py37_1  \n",
      "paramiko                  2.7.1                      py_0  \n",
      "parso                     0.5.2                      py_0  \n",
      "partd                     1.1.0                      py_0  \n",
      "path                      13.1.0                   py37_0  \n",
      "path.py                   12.4.0                        0  \n",
      "pathlib2                  2.3.5                    py37_0  \n",
      "pathtools                 0.1.2                      py_1  \n",
      "patsy                     0.5.1                    py37_0  \n",
      "pep8                      1.7.1                    py37_0  \n",
      "pexpect                   4.8.0                    py37_0  \n",
      "pickleshare               0.7.5                    py37_0  \n",
      "pillow                    7.0.0            py37hcc1f983_0  \n",
      "pip                       20.0.2                   py37_1  \n",
      "pkginfo                   1.5.0.1                  py37_0  \n",
      "plac                      1.1.3                    pypi_0    pypi\n",
      "pluggy                    0.13.1                   py37_0  \n",
      "ply                       3.11                     py37_0  \n",
      "powershell_shortcut       0.0.1                         3  \n",
      "prometheus_client         0.7.1                      py_0  \n",
      "prompt_toolkit            3.0.3                      py_0  \n",
      "psutil                    5.6.7            py37he774522_0  \n",
      "py                        1.8.1                      py_0  \n",
      "py-lief                   0.9.0            py37ha925a31_2  \n",
      "pycodestyle               2.5.0                    py37_0  \n",
      "pycosat                   0.6.3            py37he774522_0  \n",
      "pycparser                 2.19                     py37_0  \n",
      "pycrypto                  2.6.1            py37hfa6e2cd_9  \n",
      "pycurl                    7.43.0.5         py37h7a1dbc1_0  \n",
      "pydocstyle                4.0.1                      py_0  \n",
      "pyflakes                  2.1.1                    py37_0  \n",
      "pygame                    1.9.6                    pypi_0    pypi\n",
      "pygments                  2.5.2                      py_0  \n",
      "pylint                    2.4.4                    py37_0  \n",
      "pynacl                    1.3.0            py37h62dcd97_0  \n",
      "pyodbc                    4.0.30           py37ha925a31_0  \n",
      "pyopenssl                 19.1.0                   py37_0  \n",
      "pyparsing                 2.4.6                      py_0  \n",
      "pyqt                      5.9.2            py37h6538335_2  \n",
      "pyreadline                2.1                      py37_1  \n",
      "pyrsistent                0.15.7           py37he774522_0  \n",
      "pysocks                   1.7.1                    py37_0  \n",
      "pytables                  3.6.1            py37h1da0976_0  \n",
      "pytest                    5.3.5                    py37_0  \n",
      "pytest-arraydiff          0.3              py37h39e3cac_0  \n",
      "pytest-astropy            0.8.0                      py_0  \n",
      "pytest-astropy-header     0.1.2                      py_0  \n",
      "pytest-doctestplus        0.5.0                      py_0  \n",
      "pytest-openfiles          0.4.0                      py_0  \n",
      "pytest-remotedata         0.3.2                    py37_0  \n",
      "python                    3.7.6                h60c2a47_2  \n",
      "python-dateutil           2.8.1                      py_0  \n",
      "python-jsonrpc-server     0.3.4                      py_0  \n",
      "python-language-server    0.31.7                   py37_0  \n",
      "python-libarchive-c       2.8                     py37_13  \n",
      "python-slugify            4.0.1                    pypi_0    pypi\n",
      "pytz                      2019.3                     py_0  \n",
      "pywavelets                1.1.1            py37he774522_0  \n",
      "pywin32                   227              py37he774522_1  \n",
      "pywin32-ctypes            0.2.0                 py37_1000  \n",
      "pywinpty                  0.5.7                    py37_0  \n",
      "pyyaml                    5.3              py37he774522_0  \n",
      "pyzmq                     18.1.1           py37ha925a31_0  \n",
      "qdarkstyle                2.8                        py_0  \n",
      "qt                        5.9.7            vc14h73c81de_0  \n",
      "qtawesome                 0.6.1                      py_0  \n",
      "qtconsole                 4.6.0                      py_1  \n",
      "qtpy                      1.9.0                      py_0  \n",
      "requests                  2.22.0                   py37_1  \n",
      "rope                      0.16.0                     py_0  \n",
      "rtree                     0.9.3            py37h21ff451_0  \n",
      "ruamel_yaml               0.15.87          py37he774522_0  \n",
      "scikit-image              0.16.2           py37h47e9c7a_0  \n",
      "scikit-learn              0.22.1                   pypi_0    pypi\n",
      "scipy                     1.4.1            py37h9439919_0  \n",
      "seaborn                   0.10.0                     py_0  \n",
      "send2trash                1.5.0                    py37_0  \n",
      "setuptools                45.2.0                   py37_0  \n",
      "simplegeneric             0.8.1                    py37_2  \n",
      "singledispatch            3.4.0.3                  py37_0  \n",
      "sip                       4.19.8           py37h6538335_0  \n",
      "six                       1.14.0                   py37_0  \n",
      "skfeature-chappers        1.1.0                    pypi_0    pypi\n",
      "slicer                    0.0.7                    pypi_0    pypi\n",
      "slugify                   0.0.1                    pypi_0    pypi\n",
      "snappy                    1.1.7                h777316e_3  \n",
      "snowballstemmer           2.0.0                      py_0  \n",
      "sortedcollections         1.1.2                    py37_0  \n",
      "sortedcontainers          2.1.0                    py37_0  \n",
      "soupsieve                 1.9.5                    py37_0  \n",
      "sphinx                    2.4.0                      py_0  \n",
      "sphinxcontrib             1.0                      py37_1  \n",
      "sphinxcontrib-applehelp   1.0.1                      py_0  \n",
      "sphinxcontrib-devhelp     1.0.1                      py_0  \n",
      "sphinxcontrib-htmlhelp    1.0.2                      py_0  \n",
      "sphinxcontrib-jsmath      1.0.1                      py_0  \n",
      "sphinxcontrib-qthelp      1.0.2                      py_0  \n",
      "sphinxcontrib-serializinghtml 1.1.3                      py_0  \n",
      "sphinxcontrib-websupport  1.2.0                      py_0  \n",
      "spyder                    4.0.1                    py37_0  \n",
      "spyder-kernels            1.8.1                    py37_0  \n",
      "sqlalchemy                1.3.13           py37he774522_0  \n",
      "sqlite                    3.31.1               he774522_0  \n",
      "srsly                     1.0.2                    pypi_0    pypi\n",
      "statsmodels               0.11.0           py37he774522_0  \n",
      "sympy                     1.5.1                    py37_0  \n",
      "tbb                       2020.0               h74a9793_0  \n",
      "tblib                     1.6.0                      py_0  \n",
      "terminado                 0.8.3                    py37_0  \n",
      "testpath                  0.4.4                      py_0  \n",
      "text-unidecode            1.3                      pypi_0    pypi\n",
      "thinc                     7.4.0                    pypi_0    pypi\n",
      "threadpoolctl             3.1.0                    pypi_0    pypi\n",
      "tk                        8.6.8                hfa6e2cd_0  \n",
      "toolz                     0.10.0                     py_0  \n",
      "torch                     1.12.0                   pypi_0    pypi\n",
      "torchvision               0.13.0                   pypi_0    pypi\n",
      "tornado                   6.0.3            py37he774522_3  \n",
      "tqdm                      4.42.1                     py_0  \n",
      "traitlets                 4.3.3                    py37_0  \n",
      "typing-extensions         4.3.0                    pypi_0    pypi\n",
      "ujson                     1.35             py37hfa6e2cd_0  \n",
      "unicodecsv                0.14.1                   py37_0  \n",
      "urllib3                   1.25.8                   py37_0  \n",
      "vboxapi                   1.0                      pypi_0    pypi\n",
      "vc                        14.1                 h0510ff6_4  \n",
      "virtualenv                20.0.16                  pypi_0    pypi\n",
      "vs2015_runtime            14.16.27012          hf0eaf9b_1  \n",
      "watchdog                  0.10.2                   py37_0  \n",
      "wcwidth                   0.1.8                      py_0  \n",
      "webencodings              0.5.1                    py37_1  \n",
      "werkzeug                  1.0.0                      py_0  \n",
      "wheel                     0.34.2                   py37_0  \n",
      "widgetsnbextension        3.5.1                    py37_0  \n",
      "win_inet_pton             1.1.0                    py37_0  \n",
      "win_unicode_console       0.5                      py37_0  \n",
      "wincertstore              0.2                      py37_0  \n",
      "winpty                    0.4.3                         4  \n",
      "wrapt                     1.11.2           py37he774522_0  \n",
      "xlrd                      1.2.0                    py37_0  \n",
      "xlsxwriter                1.2.7                      py_0  \n",
      "xlwings                   0.17.1                   py37_0  \n",
      "xlwt                      1.3.0                    py37_0  \n",
      "xmltodict                 0.12.0                     py_0  \n",
      "xz                        5.2.4                h2fa13f4_4  \n",
      "yaml                      0.1.7                hc54c509_2  \n",
      "yapf                      0.28.0                     py_0  \n",
      "zeromq                    4.3.1                h33f27b4_3  \n",
      "zict                      1.0.0                      py_0  \n",
      "zipp                      2.2.0                      py_0  \n",
      "zlib                      1.2.11               h62dcd97_3  \n",
      "zstd                      1.3.7                h508b16e_0  \n"
     ]
    }
   ],
   "source": [
    "!conda list"
   ]
  },
  {
   "cell_type": "code",
   "execution_count": 4,
   "metadata": {},
   "outputs": [
    {
     "name": "stdout",
     "output_type": "stream",
     "text": [
      "1816\n",
      "52\n"
     ]
    }
   ],
   "source": [
    "Final_Samples_path = 'Final_Samples_6yrs.json'\n",
    "Final_Samples = json.load(open(Final_Samples_path, 'r')) \n",
    "usable_samples_ADNI = json.load(open('./usable_samples_ADNI.json'))\n",
    "PRS_orig_feature_matrix = np.load('./PRS_feature_matrix.npy').astype(np.float32)\n",
    "# normalize feature matrix\n",
    "PRS_orig_feature_matrix = (PRS_orig_feature_matrix - PRS_orig_feature_matrix.mean(0))/PRS_orig_feature_matrix.std(0)\n",
    "# PRS_orig_feature_matrix.shape[1], len(usable_samples_ADNI), usable_samples_ADNI\n",
    "num_features=PRS_orig_feature_matrix.shape[1]\n",
    "print(len( usable_samples_ADNI ) )\n",
    "print(num_features)"
   ]
  },
  {
   "cell_type": "code",
   "execution_count": 5,
   "metadata": {},
   "outputs": [
    {
     "name": "stdout",
     "output_type": "stream",
     "text": [
      "shape (1817, 14)\n",
      "(1817, 2) (1817, 2)\n",
      "                FID               IID       PC1       PC2       PC3       PC4  \\\n",
      "0  ADNI3_036_S_6231  ADNI3_036_S_6231 -0.006724 -0.010617  0.001596 -0.000460   \n",
      "1  ADNI3_006_S_6277  ADNI3_006_S_6277 -0.010432 -0.010269  0.012757  0.006921   \n",
      "2  ADNI3_129_S_6146  ADNI3_129_S_6146 -0.004919 -0.011656 -0.035521  0.064641   \n",
      "3  ADNI3_033_S_6352  ADNI3_033_S_6352 -0.014069 -0.010279  0.020014  0.053023   \n",
      "4  ADNI3_027_S_6183  ADNI3_027_S_6183 -0.010766 -0.012370 -0.010960  0.029830   \n",
      "\n",
      "        PC5       PC6       PC7       PC8       PC9      PC10  PTGENDER    AGE  \n",
      "0 -0.013131 -0.005855 -0.005142 -0.009063 -0.001739 -0.012863         1  0.691  \n",
      "1 -0.014958 -0.005860 -0.027775 -0.009632  0.054966  0.087390         1  0.707  \n",
      "2  0.012094  0.003860  0.035955  0.006561  0.019736 -0.023304         1  0.655  \n",
      "3  0.023691  0.000247 -0.002273 -0.030627 -0.053461  0.049984         0  0.714  \n",
      "4 -0.019520 -0.001955  0.023844  0.079138  0.002207  0.008892         0  0.656  \n"
     ]
    }
   ],
   "source": [
    "# covar_df = pd.read_csv('./COVAR_FILE_bigger_dataset.txt', ' ') \n",
    "covar_df = pd.read_csv('./COVAR_FILE_bigger_dataset.txt', ' ') \n",
    "print(\"shape\",covar_df.shape)\n",
    "print( covar_df[['AGE', 'PTGENDER']].shape, covar_df[['AGE', 'PTGENDER']].dropna().shape ) \n",
    "# PC - Principal Component\n",
    "\n",
    "# trying to normalize AGE with having max age of 100\n",
    "covar_df['AGE'] = covar_df['AGE'] / 100.0\n",
    "print( covar_df.head() )"
   ]
  },
  {
   "cell_type": "markdown",
   "metadata": {},
   "source": [
    "Covar for ADNI Plink"
   ]
  },
  {
   "cell_type": "markdown",
   "metadata": {},
   "source": [
    "# Alter parameters :\n",
    "    1. Number of features\n",
    "    2. Number of Hidden Layers \n",
    "    3. Dimension of Hidden Layers"
   ]
  },
  {
   "cell_type": "code",
   "execution_count": 6,
   "metadata": {},
   "outputs": [],
   "source": [
    "num_features = 51\n",
    "hidden = 4\n",
    "hidden_dimension = 32"
   ]
  },
  {
   "cell_type": "code",
   "execution_count": 7,
   "metadata": {},
   "outputs": [
    {
     "name": "stdout",
     "output_type": "stream",
     "text": [
      "(1816, 51)\n"
     ]
    }
   ],
   "source": [
    "# take the first num_features column from PRS_feature_matrix\n",
    "PRS_feature_matrix = PRS_orig_feature_matrix\n",
    "PRS_feature_matrix = PRS_feature_matrix[:, :num_features]\n",
    "print(PRS_feature_matrix.shape)"
   ]
  },
  {
   "cell_type": "markdown",
   "metadata": {},
   "source": [
    "Final Samples has two columns of data :\n",
    "    1. ID \n",
    "    2. output - true / false\n",
    "    \n",
    "Get the length of positive and negative samples of test dataset"
   ]
  },
  {
   "cell_type": "code",
   "execution_count": 8,
   "metadata": {},
   "outputs": [
    {
     "name": "stdout",
     "output_type": "stream",
     "text": [
      "1214\n",
      "348\n",
      "866\n"
     ]
    }
   ],
   "source": [
    "# positive samples - output true\n",
    "# negative samples - output false\n",
    "len_positive_samples = 0\n",
    "len_negative_samples = 0\n",
    "for x in Final_Samples:\n",
    "    if x[1] == 1 :\n",
    "        len_positive_samples += 1\n",
    "    else :\n",
    "        len_negative_samples += 1\n",
    "        \n",
    "print(len(Final_Samples))\n",
    "print(len_positive_samples)\n",
    "print(len_negative_samples)"
   ]
  },
  {
   "cell_type": "markdown",
   "metadata": {},
   "source": [
    "# Combining covar data with PRS Feature Matrix"
   ]
  },
  {
   "cell_type": "code",
   "execution_count": 9,
   "metadata": {
    "scrolled": true
   },
   "outputs": [
    {
     "name": "stdout",
     "output_type": "stream",
     "text": [
      "Before adding covar_df columns, shape :  (1816, 51)\n",
      "Before adding covar_df columns, shape :  (1816, 63)\n",
      "ADNI3_037_S_6125\n",
      "ADNI3_024_S_6005\n",
      "ADNI3_002_S_6066\n",
      "ADNI3_011_S_6303\n",
      "ADNI3_053_S_6598\n",
      "7_098_S_0160\n",
      "8_027_S_0256\n",
      "26_052_S_1346\n",
      "47_072_S_2027\n",
      "51_016_S_0702\n",
      "64_027_S_2219\n",
      "71_027_S_1045\n",
      "75_068_S_4174\n",
      "82_007_S_2058\n",
      "86_100_S_0296\n",
      "96_041_S_1418\n",
      "222_141_S_0915\n",
      "239_153_S_4372\n",
      "313_068_S_4340\n",
      "315_129_S_4396\n",
      "324_129_S_4371\n",
      "379_037_S_4146\n",
      "387_130_S_4405\n",
      "388_126_S_4507\n",
      "397_022_S_1097\n",
      "445_021_S_4254\n",
      "446_137_S_4299\n",
      "449_006_S_0498\n",
      "462_098_S_4018\n",
      "477_082_S_1256\n",
      "480_098_S_2079\n",
      "487_002_S_4237\n",
      "492_041_S_4271\n",
      "522_068_S_4332\n",
      "533_127_S_4500\n",
      "555_099_S_4463\n",
      "583_141_S_2333\n",
      "589_099_S_1034\n",
      "630_022_S_2087\n",
      "637_033_S_0922\n",
      "648_137_S_0972\n",
      "655_021_S_2150\n",
      "665_027_S_0074\n",
      "675_014_S_0658\n",
      "682_099_S_2146\n",
      "691_037_S_0377\n",
      "695_057_S_1269\n",
      "719_023_S_4035\n",
      "740_137_S_0459\n",
      "753_016_S_1326\n",
      "763_100_S_0047\n",
      "801_123_S_4096\n",
      "196_037_S_0454\n",
      "210_036_S_0673\n",
      "263_072_S_1380\n",
      "268_141_S_1004\n",
      "26_128_S_0522\n",
      "289_023_S_0126\n",
      "296_029_S_0914\n",
      "298_021_S_0178\n",
      "305_032_S_0677\n",
      "319_002_S_0413\n",
      "339_029_S_1318\n",
      "364_023_S_1046\n",
      "370_035_S_0997\n",
      "372_031_S_1066\n",
      "376_116_S_0361\n",
      "388_098_S_0667\n",
      "398_022_S_0096\n",
      "400_002_S_1155\n",
      "416_099_S_0291\n",
      "435_005_S_0572\n",
      "451_023_S_0031\n",
      "484_027_S_0307\n",
      "486_018_S_0142\n",
      "500_123_S_0108\n",
      "515_023_S_0331\n",
      "53_116_S_1271\n",
      "547_033_S_0514\n",
      "558_033_S_0734\n",
      "565_137_S_0994\n",
      "587_023_S_0217\n",
      "592_114_S_1106\n",
      "595_014_S_0519\n",
      "597_098_S_0269\n",
      "605_006_S_0731\n",
      "608_123_S_0113\n",
      "615_114_S_0416\n",
      "625_067_S_0257\n",
      "626_023_S_0042\n",
      "627_116_S_1249\n",
      "629_126_S_1187\n",
      "631_123_S_0072\n",
      "63_027_S_0835\n",
      "648_126_S_0680\n",
      "651_023_S_0887\n",
      "654_012_S_0637\n",
      "663_130_S_0232\n",
      "665_137_S_0668\n",
      "675_128_S_0135\n",
      "689_037_S_1078\n",
      "68_141_S_1255\n",
      "692_041_S_0125\n",
      "696_137_S_0301\n",
      "6_027_S_0118\n",
      "705_128_S_0863\n",
      "709_128_S_0230\n",
      "713_114_S_0166\n",
      "715_021_S_0337\n",
      "719_141_S_0767\n",
      "72_011_S_0008\n",
      "730_029_S_0824\n",
      "732_126_S_0709\n",
      "734_037_S_0467\n",
      "73_114_S_0173\n",
      "740_941_S_1202\n",
      "742_021_S_0984\n",
      "743_035_S_0156\n",
      "744_052_S_0989\n",
      "753_128_S_0227\n",
      "756_009_S_1030\n",
      "760_007_S_0698\n",
      "761_100_S_0035\n",
      "766_073_S_0746\n",
      "767_130_S_0886\n",
      "768_128_S_0229\n",
      "76_005_S_0553\n",
      "770_141_S_0717\n",
      "771_029_S_1218\n",
      "776_068_S_0210\n",
      "781_052_S_0952\n",
      "782_141_S_0697\n",
      "783_052_S_1352\n",
      "78_123_S_0106\n",
      "794_037_S_0552\n",
      "799_068_S_0473\n",
      "79_052_S_0951\n",
      "804_027_S_0408\n",
      "807_116_S_0649\n",
      "809_031_S_0867\n",
      "816_129_S_0778\n",
      "817_053_S_0919\n",
      "83_041_S_1010\n",
      "88_033_S_0923\n",
      "91_032_S_0978\n",
      "95_116_S_0382\n",
      "5_068_S_2194\n",
      "9_072_S_4390\n",
      "25_072_S_2164\n",
      "32_941_S_4376\n",
      "33_033_S_4505\n",
      "35_153_S_4077\n",
      "43_021_S_4276\n",
      "45_014_S_4079\n",
      "47_153_S_4139\n",
      "48_022_S_4320\n",
      "49_031_S_2018\n",
      "51_941_S_4377\n",
      "52_011_S_4105\n",
      "54_129_S_4220\n",
      "55_067_S_2196\n",
      "57_068_S_2171\n",
      "58_014_S_4080\n",
      "59_116_S_4209\n",
      "60_136_S_4189\n",
      "61_067_S_4184\n",
      "62_072_S_4226\n",
      "66_002_S_2010\n",
      "67_014_S_4093\n",
      "68_002_S_4213\n",
      "69_007_S_4387\n",
      "71_002_S_4219\n",
      "74_941_S_4292\n",
      "76_127_S_4198\n",
      "77_073_S_4300\n",
      "80_137_S_4258\n",
      "82_067_S_4054\n",
      "84_137_S_4351\n",
      "86_033_S_4508\n",
      "87_137_S_4211\n",
      "89_130_S_2403\n",
      "91_012_S_4012\n",
      "92_041_S_4004\n",
      "96_153_S_4125\n",
      "98_130_S_2391\n",
      "99_098_S_4201\n",
      "159_021_S_2124\n",
      "163_019_S_4367\n",
      "168_094_S_2201\n",
      "177_116_S_4010\n",
      "185_941_S_2060\n",
      "198_003_S_2374\n",
      "222_123_S_2055\n",
      "249_094_S_4089\n",
      "253_073_S_2225\n",
      "256_116_S_4199\n",
      "263_029_S_4307\n",
      "268_068_S_4217\n",
      "270_067_S_2301\n",
      "276_073_S_4393\n",
      "290_098_S_4215\n",
      "293_002_S_4229\n",
      "300_128_S_2130\n",
      "309_036_S_2380\n",
      "313_099_S_4022\n",
      "319_019_S_4293\n",
      "323_127_S_4197\n",
      "324_002_S_4521\n",
      "328_003_S_4136\n",
      "336_116_S_4175\n",
      "340_129_S_2347\n",
      "341_035_S_4464\n",
      "350_073_S_4312\n",
      "352_029_S_4290\n",
      "360_135_S_4406\n",
      "361_006_S_4485\n",
      "368_129_S_4369\n",
      "370_094_S_2367\n",
      "375_009_S_2208\n",
      "377_033_S_4177\n",
      "379_130_S_4352\n",
      "380_099_S_4086\n",
      "381_094_S_2216\n",
      "395_018_S_4257\n",
      "397_036_S_2378\n",
      "405_029_S_4384\n",
      "412_072_S_2072\n",
      "419_073_S_2264\n",
      "423_068_S_4274\n",
      "425_031_S_4194\n",
      "426_073_S_2153\n",
      "427_141_S_4423\n",
      "428_011_S_2274\n",
      "429_094_S_4282\n",
      "Count of missing samples for covar data :  234\n"
     ]
    }
   ],
   "source": [
    "# cnt = number of missing IDs for which covar data doesn't exist\n",
    "cnt = 0\n",
    "print(\"Before adding covar_df columns, shape : \",PRS_feature_matrix.shape)\n",
    "# adding ( total columns - 2 ) of covar_df , excluding FID, IID\n",
    "FEATURE_MATRIX = np.concatenate([PRS_feature_matrix, np.zeros([PRS_feature_matrix.shape[0], covar_df.shape[1] - 2 ])], 1).astype(np.float32)\n",
    "print(\"Before adding covar_df columns, shape : \",FEATURE_MATRIX.shape)\n",
    "for sample in usable_samples_ADNI:\n",
    "    # taking from the PCs, skipping the first two columns of IID, FID\n",
    "    covar = covar_df[covar_df['IID'] == sample].to_numpy()[:, 2:].astype(np.float32) \n",
    "    # shape[0] = 1 means a row is found in covar for the following sample ID\n",
    "    # if not, that means no covar data exists for the sample in usable_samples_ADNI\n",
    "    if covar.shape[0] != 1:\n",
    "#         print(covar.shape)\n",
    "        print(sample)\n",
    "        cnt += 1\n",
    "        continue\n",
    "    # Adding the covar values to the feature matrix\n",
    "    FEATURE_MATRIX[usable_samples_ADNI[sample], num_features:] = covar\n",
    "\n",
    "\n",
    "print(\"Count of missing samples for covar data : \", cnt)\n",
    "#     FEATURE_MATRIX[usable_samples_ADNI[sample], num_features:] = covar # naeem's modification\n",
    "# cnt/FEATURE_MATRIX.shape[0], FEATURE_MATRIX[:2], PRS_feature_matrix[:2]"
   ]
  },
  {
   "cell_type": "markdown",
   "metadata": {},
   "source": [
    "# Create directory for saving shap figures"
   ]
  },
  {
   "cell_type": "code",
   "execution_count": 10,
   "metadata": {},
   "outputs": [],
   "source": [
    "path = \"./shap/\" + str(num_features)\n",
    "if not os.path.exists(path):\n",
    "    os.makedirs(path)"
   ]
  },
  {
   "cell_type": "markdown",
   "metadata": {},
   "source": [
    "# Storing the index with the Age = 0\n",
    "\n",
    "age is zero for the rows that the covar data was not found"
   ]
  },
  {
   "cell_type": "code",
   "execution_count": 11,
   "metadata": {},
   "outputs": [
    {
     "name": "stdout",
     "output_type": "stream",
     "text": [
      "234\n"
     ]
    }
   ],
   "source": [
    "age_zero = 0\n",
    "age_zero_idx = []\n",
    "for i in range( len(FEATURE_MATRIX) ):\n",
    "    if FEATURE_MATRIX[i, -1] == 0.00:\n",
    "        age_zero += 1\n",
    "        age_zero_idx.append(i)\n",
    "        \n",
    "print(age_zero)"
   ]
  },
  {
   "cell_type": "markdown",
   "metadata": {},
   "source": [
    "# Adding info of CDRSB"
   ]
  },
  {
   "cell_type": "code",
   "execution_count": 12,
   "metadata": {},
   "outputs": [
    {
     "name": "stdout",
     "output_type": "stream",
     "text": [
      "0.0     3423\n",
      "0.5     1357\n",
      "1.0     1115\n",
      "1.5      870\n",
      "2.0      680\n",
      "2.5      530\n",
      "3.0      423\n",
      "3.5      373\n",
      "4.5      318\n",
      "5.0      317\n",
      "4.0      305\n",
      "6.0      239\n",
      "7.0      149\n",
      "5.5      136\n",
      "8.0      117\n",
      "10.0      94\n",
      "9.0       85\n",
      "11.0      65\n",
      "12.0      56\n",
      "13.0      36\n",
      "14.0      32\n",
      "6.5       31\n",
      "16.0      29\n",
      "17.0      21\n",
      "15.0      19\n",
      "18.0      18\n",
      "7.5        8\n",
      "9.5        4\n",
      "8.5        2\n",
      "10.5       1\n",
      "12.5       1\n",
      "Name: CDRSB, dtype: int64\n"
     ]
    },
    {
     "data": {
      "text/html": [
       "<div>\n",
       "<style scoped>\n",
       "    .dataframe tbody tr th:only-of-type {\n",
       "        vertical-align: middle;\n",
       "    }\n",
       "\n",
       "    .dataframe tbody tr th {\n",
       "        vertical-align: top;\n",
       "    }\n",
       "\n",
       "    .dataframe thead th {\n",
       "        text-align: right;\n",
       "    }\n",
       "</style>\n",
       "<table border=\"1\" class=\"dataframe\">\n",
       "  <thead>\n",
       "    <tr style=\"text-align: right;\">\n",
       "      <th></th>\n",
       "      <th>PTID</th>\n",
       "      <th>CDRSB</th>\n",
       "      <th>Years_bl</th>\n",
       "    </tr>\n",
       "  </thead>\n",
       "  <tbody>\n",
       "    <tr>\n",
       "      <th>8713</th>\n",
       "      <td>116_S_4167</td>\n",
       "      <td>NaN</td>\n",
       "      <td>5.229290</td>\n",
       "    </tr>\n",
       "    <tr>\n",
       "      <th>8714</th>\n",
       "      <td>116_S_4167</td>\n",
       "      <td>8.0</td>\n",
       "      <td>4.024640</td>\n",
       "    </tr>\n",
       "    <tr>\n",
       "      <th>8715</th>\n",
       "      <td>116_S_4167</td>\n",
       "      <td>8.0</td>\n",
       "      <td>3.006160</td>\n",
       "    </tr>\n",
       "    <tr>\n",
       "      <th>8716</th>\n",
       "      <td>116_S_4167</td>\n",
       "      <td>NaN</td>\n",
       "      <td>2.502400</td>\n",
       "    </tr>\n",
       "    <tr>\n",
       "      <th>8717</th>\n",
       "      <td>116_S_4167</td>\n",
       "      <td>5.0</td>\n",
       "      <td>1.993160</td>\n",
       "    </tr>\n",
       "    <tr>\n",
       "      <th>8718</th>\n",
       "      <td>116_S_4167</td>\n",
       "      <td>NaN</td>\n",
       "      <td>1.552360</td>\n",
       "    </tr>\n",
       "    <tr>\n",
       "      <th>8719</th>\n",
       "      <td>116_S_4167</td>\n",
       "      <td>3.0</td>\n",
       "      <td>0.991102</td>\n",
       "    </tr>\n",
       "    <tr>\n",
       "      <th>8720</th>\n",
       "      <td>116_S_4167</td>\n",
       "      <td>3.0</td>\n",
       "      <td>0.476386</td>\n",
       "    </tr>\n",
       "    <tr>\n",
       "      <th>8721</th>\n",
       "      <td>116_S_4167</td>\n",
       "      <td>NaN</td>\n",
       "      <td>0.208077</td>\n",
       "    </tr>\n",
       "    <tr>\n",
       "      <th>8722</th>\n",
       "      <td>116_S_4167</td>\n",
       "      <td>3.0</td>\n",
       "      <td>0.000000</td>\n",
       "    </tr>\n",
       "  </tbody>\n",
       "</table>\n",
       "</div>"
      ],
      "text/plain": [
       "            PTID  CDRSB  Years_bl\n",
       "8713  116_S_4167    NaN  5.229290\n",
       "8714  116_S_4167    8.0  4.024640\n",
       "8715  116_S_4167    8.0  3.006160\n",
       "8716  116_S_4167    NaN  2.502400\n",
       "8717  116_S_4167    5.0  1.993160\n",
       "8718  116_S_4167    NaN  1.552360\n",
       "8719  116_S_4167    3.0  0.991102\n",
       "8720  116_S_4167    3.0  0.476386\n",
       "8721  116_S_4167    NaN  0.208077\n",
       "8722  116_S_4167    3.0  0.000000"
      ]
     },
     "execution_count": 12,
     "metadata": {},
     "output_type": "execute_result"
    }
   ],
   "source": [
    "adnimerge = pd.read_csv(\"../larger_dataset/ADNIMERGE.csv\")\n",
    "adnimerge = adnimerge[['PTID', 'CDRSB', 'Years_bl']]\n",
    "print( adnimerge['CDRSB'].value_counts() )\n",
    "adnimerge.loc[ adnimerge['PTID'] == '116_S_4167' ]"
   ]
  },
  {
   "cell_type": "code",
   "execution_count": 13,
   "metadata": {},
   "outputs": [
    {
     "name": "stdout",
     "output_type": "stream",
     "text": [
      "          PTID  CDRSB  Years_bl\n",
      "0   011_S_0002    0.0       0.0\n",
      "1   011_S_0003    4.5       0.0\n",
      "5   022_S_0004    1.0       0.0\n",
      "10  011_S_0005    0.0       0.0\n",
      "15  100_S_0006    0.5       0.0\n"
     ]
    }
   ],
   "source": [
    "adnimerge = pd.read_csv(\"../larger_dataset/ADNIMERGE.csv\")\n",
    "adnimerge = adnimerge[['PTID', 'CDRSB', 'Years_bl']]\n",
    "# adnimerge.sort_values(by = ['PTID', 'Years_bl'], ascending = [True, True], na_position = 'first')\n",
    "# print(adnimerge.head(20))\n",
    "# print( adnimerge.loc[ adnimerge['PTID'] == '116_S_4167' ] )\n",
    "# adnimerge.drop_duplicates(subset = ['PTID'], keep = 'first', inplace = True) \n",
    "adnimerge = adnimerge.loc[adnimerge['Years_bl'] == 0]\n",
    "# print( adnimerge['CDRSB'].value_counts() )\n",
    "\n",
    "print( adnimerge.head() )"
   ]
  },
  {
   "cell_type": "code",
   "execution_count": 14,
   "metadata": {},
   "outputs": [
    {
     "data": {
      "text/html": [
       "<div>\n",
       "<style scoped>\n",
       "    .dataframe tbody tr th:only-of-type {\n",
       "        vertical-align: middle;\n",
       "    }\n",
       "\n",
       "    .dataframe tbody tr th {\n",
       "        vertical-align: top;\n",
       "    }\n",
       "\n",
       "    .dataframe thead th {\n",
       "        text-align: right;\n",
       "    }\n",
       "</style>\n",
       "<table border=\"1\" class=\"dataframe\">\n",
       "  <thead>\n",
       "    <tr style=\"text-align: right;\">\n",
       "      <th></th>\n",
       "      <th>PTID</th>\n",
       "      <th>CDRSB</th>\n",
       "      <th>Years_bl</th>\n",
       "    </tr>\n",
       "  </thead>\n",
       "  <tbody>\n",
       "    <tr>\n",
       "      <th>8722</th>\n",
       "      <td>116_S_4167</td>\n",
       "      <td>3.0</td>\n",
       "      <td>0.0</td>\n",
       "    </tr>\n",
       "  </tbody>\n",
       "</table>\n",
       "</div>"
      ],
      "text/plain": [
       "            PTID  CDRSB  Years_bl\n",
       "8722  116_S_4167    3.0       0.0"
      ]
     },
     "execution_count": 14,
     "metadata": {},
     "output_type": "execute_result"
    }
   ],
   "source": [
    "adnimerge.loc[ adnimerge['PTID'] == '116_S_4167' ]"
   ]
  },
  {
   "cell_type": "code",
   "execution_count": 15,
   "metadata": {},
   "outputs": [],
   "source": [
    "# NEW_FEATURE_MATRIX = np.concatenate([FEATURE_MATRIX, np.zeros([PRS_feature_matrix.shape[0], 1 ])], 1).astype(np.float32)\n",
    "\n",
    "# for sample in usable_samples_ADNI:\n",
    "#     PTID = \"_\".join( sample.split(\"_\")[1:] )\n",
    "# #     print(PTID)\n",
    "#     cdrsb = adnimerge.loc[adnimerge['PTID'] == PTID]['CDRSB']\n",
    "# #     year = adnimerge.loc[adnimerge['PTID'] == PTID]['Years_bl']\n",
    "# #     print( PTID, cdrsb.values[0], year.values[0] )\n",
    "#     NEW_FEATURE_MATRIX[usable_samples_ADNI[sample], -1] = cdrsb.values[0]\n",
    "    \n",
    "# print(NEW_FEATURE_MATRIX)\n",
    "    "
   ]
  },
  {
   "cell_type": "code",
   "execution_count": 16,
   "metadata": {},
   "outputs": [],
   "source": [
    "# FEATURE_MATRIX = NEW_FEATURE_MATRIX\n",
    "# FEATURE_MATRIX"
   ]
  },
  {
   "cell_type": "markdown",
   "metadata": {},
   "source": [
    "# Indices of features to consider"
   ]
  },
  {
   "cell_type": "code",
   "execution_count": 17,
   "metadata": {},
   "outputs": [
    {
     "name": "stdout",
     "output_type": "stream",
     "text": [
      "63\n",
      "[0, 1, 2, 3, 4, 5, 6, 7, 8, 9, 10, 11, 12, 13, 14, 15, 16, 17, 18, 19, 20, 21, 22, 23, 24, 25, 26, 27, 28, 29, 30, 31, 32, 33, 34, 35, 36, 37, 38, 39, 40, 41, 42, 43, 44, 45, 46, 47, 48, 49, 50, 61, 62]\n"
     ]
    }
   ],
   "source": [
    "\n",
    "\n",
    "# feature_indices_to_consider = list(range(23))#list(range(35)) #[1, 2, 3, 4, 5, 6, 7, 8, 9, 10, 11, 13, 14, 15, 16, 18, 20, 22]\n",
    "# naeem modified\n",
    "print(FEATURE_MATRIX.shape[1])\n",
    "last_idx = FEATURE_MATRIX.shape[1] - 1\n",
    "feature_indices_to_consider = list(range(num_features))  + [last_idx - 1, last_idx] #list(range(35)) #[1, 2, 3, 4, 5, 6, 7, 8, 9, 10, 11, 13, 14, 15, 16, 18, 20, 22]\n",
    "# remove_indices = [1, 2, 3]\n",
    "# for i in remove_indices:\n",
    "#     feature_indices_to_consider.remove(i)\n",
    "\n",
    "# feature_indices_to_consider = list(range(23, 36))\n",
    "\n",
    "# feature_indices_to_consider = [ 4, 11, 14, 21, 23, 26, 32, 34, 46]\n",
    "\n",
    "# feature_indices_to_consider = [ 9, 10, 11, 14, 21, 23, 26, 28, 32, 34, 46]\n",
    "# feature_indices_to_consider = [9, 10, 28, 34, 46]\n",
    "\n",
    "print(feature_indices_to_consider)\n",
    "# feature_indices_to_consider = [1, 2, 3, 11, 14, 21, 23, 26, 32, 45]\n",
    "# feature_indices_to_consider = [2, 26, 32, 45]\n"
   ]
  },
  {
   "cell_type": "markdown",
   "metadata": {},
   "source": [
    "# Functions & Classes"
   ]
  },
  {
   "cell_type": "code",
   "execution_count": 18,
   "metadata": {},
   "outputs": [],
   "source": [
    "# save_in_file: saves model accuracy in a text file\n",
    "#     args : model_name : name of model with layers and dimensions\n",
    "#            accuracy : accuracy  score\n",
    "def save_in_file(model_name, accuracy):\n",
    "    model_file = open(\"model_details.txt\",\"a\")\n",
    "    model_file.write(model_name + \" -> accuracy : \" + str(accuracy) + \"\\n\" )\n",
    "    model_file.close() "
   ]
  },
  {
   "cell_type": "markdown",
   "metadata": {},
   "source": [
    "**Modifications**\n",
    "1. Added relu in the hidden layers and sigmoid in the output layer as activation functions\n",
    "2. Added dropout in the hidden layers"
   ]
  },
  {
   "cell_type": "code",
   "execution_count": 19,
   "metadata": {},
   "outputs": [],
   "source": [
    "class simple_model(nn.Module):\n",
    "    def __init__(self, num_features=FEATURE_MATRIX.shape[1], hidden_dim= hidden_dimension, drop_probab=.5):\n",
    "        super(simple_model, self).__init__()\n",
    "        \n",
    "        ####\n",
    "        num_hidden = hidden\n",
    "        hidden_dim = hidden_dimension\n",
    "        self.fc1 = nn.Linear(num_features, hidden_dim)\n",
    "        self.fc_hidden = nn.ModuleList([nn.Linear(hidden_dim, hidden_dim) for i in range(num_hidden)])\n",
    "        self.fc2 = nn.Linear(hidden_dim, 8)\n",
    "        self.outLayer = nn.Linear(8, 1)\n",
    "#         self.softmax = nn.Softmax(-1)\n",
    "        self.sigmoid = nn.Sigmoid()\n",
    "        self.relu = nn.ReLU()\n",
    "        self.num_hidden = num_hidden\n",
    "        self.drop_probab = drop_probab\n",
    "        self.dropout = nn.functional.dropout\n",
    "        ####\n",
    "\n",
    "    def forward(self, features):\n",
    "        features = self.fc1(features)\n",
    "        features = self.dropout(features, p=self.drop_probab)\n",
    "        for i in range(self.num_hidden):\n",
    "            features = self.fc_hidden[i](features)\n",
    "            # added by Mashiat\n",
    "            features = self.dropout(features, p=self.drop_probab)\n",
    "            features = self.relu( features )\n",
    "            ####################\n",
    "        features = self.fc2(features)\n",
    "        features = self.dropout(features, p=self.drop_probab)\n",
    "        logit = self.outLayer(features)\n",
    "#         print(features.shape, features)\n",
    "        probab = self.sigmoid(logit)\n",
    "        return probab\n",
    "    "
   ]
  },
  {
   "cell_type": "code",
   "execution_count": 20,
   "metadata": {},
   "outputs": [
    {
     "data": {
      "text/plain": [
       "simple_model(\n",
       "  (fc1): Linear(in_features=53, out_features=32, bias=True)\n",
       "  (fc_hidden): ModuleList(\n",
       "    (0): Linear(in_features=32, out_features=32, bias=True)\n",
       "    (1): Linear(in_features=32, out_features=32, bias=True)\n",
       "    (2): Linear(in_features=32, out_features=32, bias=True)\n",
       "    (3): Linear(in_features=32, out_features=32, bias=True)\n",
       "  )\n",
       "  (fc2): Linear(in_features=32, out_features=8, bias=True)\n",
       "  (outLayer): Linear(in_features=8, out_features=1, bias=True)\n",
       "  (sigmoid): Sigmoid()\n",
       "  (relu): ReLU()\n",
       ")"
      ]
     },
     "execution_count": 20,
     "metadata": {},
     "output_type": "execute_result"
    }
   ],
   "source": [
    "simple_model(num_features=len(feature_indices_to_consider))"
   ]
  },
  {
   "cell_type": "markdown",
   "metadata": {},
   "source": [
    "# dataSet class \n",
    "combines usable_samples_ADNI, Final_Samples, feature_matrix to one dataset with features and labels"
   ]
  },
  {
   "cell_type": "code",
   "execution_count": 21,
   "metadata": {},
   "outputs": [],
   "source": [
    "class dataSet(data.Dataset):\n",
    "    def __init__(self, Final_Samples, feature_matrix, usable_samples_ADNI, feature_indices_to_consider=feature_indices_to_consider):\n",
    "        super(dataSet, self).__init__()  \n",
    "        self.data_len = len(Final_Samples)\n",
    "        self.usable_samples_ADNI = usable_samples_ADNI\n",
    "        self.Final_Samples = Final_Samples\n",
    "        self.feature_indices_to_consider = feature_indices_to_consider\n",
    "        self.feature_matrix = feature_matrix[:, self.feature_indices_to_consider]\n",
    "        \n",
    "    def __getitem__(self, index):\n",
    "        features = torch.from_numpy(self.feature_matrix[self.usable_samples_ADNI[self.Final_Samples[index][0]]]).float()\n",
    "        label = torch.tensor([float(self.Final_Samples[index][1])]).float()\n",
    "        return features, label\n",
    "    \n",
    "    def update_prs_features(self, mean, std):\n",
    "        self.feature_matrix = (self.feature_matrix - mean) / std\n",
    "        \n",
    "    def get_mean_std(self):\n",
    "        mean = self.feature_matrix.mean(0)\n",
    "        std = self.feature_matrix.std(0)\n",
    "        return mean, std\n",
    "        \n",
    "    def __len__(self):\n",
    "        return self.data_len"
   ]
  },
  {
   "cell_type": "markdown",
   "metadata": {},
   "source": [
    "# Converting Pandas Dataframe to Dataset class\n",
    "\n",
    "overriding the constructor, getitem, len function of the original class"
   ]
  },
  {
   "cell_type": "code",
   "execution_count": 22,
   "metadata": {},
   "outputs": [],
   "source": [
    "class df_dataSet(data.Dataset):\n",
    "    def __init__(self, X, y):\n",
    "        \n",
    "        self.features = torch.tensor(X.values, dtype=torch.float32)\n",
    "        self.labels = torch.tensor(y.values, dtype=torch.float32)\n",
    "        \n",
    "    def __getitem__(self, index):\n",
    "        return self.features[index], self.labels[index]\n",
    "    \n",
    "        \n",
    "        \n",
    "    def __len__(self):\n",
    "        return len(self.labels)"
   ]
  },
  {
   "cell_type": "code",
   "execution_count": 23,
   "metadata": {
    "scrolled": false
   },
   "outputs": [],
   "source": [
    "# random samples : sample test dataset taking equal number of positive & negative outputs\n",
    "#                 args : \n",
    "#                         total_folds : fold number for splitting\n",
    "#                         random_seed : seed value for randomization\n",
    "#                 return :\n",
    "#                         N_splits : test dataset splitted according to fold numbers\n",
    "                        \n",
    "def random_samples(total_folds, random_seed=None):\n",
    "    Final_Samples = json.load(open(Final_Samples_path, 'r')) \n",
    "    positive_samples = Final_Samples[:len_positive_samples]\n",
    "    negative_samples = Final_Samples[len_positive_samples:]\n",
    "    min_len = min( len(positive_samples), len(negative_samples))\n",
    "    if random_seed is not None: \n",
    "        random.seed(random_seed * 2)\n",
    "    random.shuffle(positive_samples)\n",
    "    random.shuffle(negative_samples)\n",
    "    print(\"min length : \", min_len)\n",
    "    Final_Samples = positive_samples[:min_len] + negative_samples[:min_len]\n",
    "    random.shuffle(Final_Samples)\n",
    "    print(len([x[1] for x in Final_Samples if x[1] == 1]), len([x[1] for x in Final_Samples if x[1] == 0]))\n",
    "    Final_Samples = np.array(Final_Samples)\n",
    "\n",
    "#   -----------------------------------------------------------------------\n",
    "#     positive_samples = Final_Samples[:654]\n",
    "#     negative_samples = Final_Samples[654:]\n",
    "#     if random_seed is not None: \n",
    "#         random.seed(random_seed * 2)\n",
    "#     random.shuffle(positive_samples)\n",
    "#     random.shuffle(negative_samples)\n",
    "#     Final_Samples = positive_samples[:500] + negative_samples[:500]\n",
    "#     if random_seed is not None: \n",
    "#         random.seed(random_seed)\n",
    "#     random.shuffle(Final_Samples)\n",
    "#     Final_Samples = np.array(Final_Samples)\n",
    "# --------------------------------------------------------------------------\n",
    "    N_splits = Final_Samples.reshape(total_folds, -1, 2)\n",
    "    return N_splits\n",
    "\n",
    "# generate_datasets : get train, validation & test datasets\n",
    "#                 args : \n",
    "#                         N_splits : data splitted according to folds; output of random samples\n",
    "#                         fold_num : fold_num for test dataset\n",
    "#                         random_seed : seed value for randomization\n",
    "#                 return :\n",
    "#                         train_set, test_set, val_set : datasets\n",
    "def generate_datasets(N_splits, fold_num, random_seed):\n",
    "    test_samples = N_splits[fold_num:fold_num+1].reshape([-1, 2])\n",
    "    train_samples = np.concatenate([N_splits[0:fold_num],N_splits[fold_num+1:]], 0).reshape([-1, 2]).tolist()\n",
    "    if random_seed is not None: \n",
    "        random.seed(random_seed * 3)\n",
    "    random.shuffle(train_samples)\n",
    "    train_samples = np.array(train_samples)\n",
    "    # take all as training dataset, leaves nothing for validation - multiply shpae by 1\n",
    "    split_pos = int(train_samples.shape[0] * 1.) \n",
    "    #split_pos = int(train_samples.shape[0] * .8) \n",
    "#     print(train_samples.shape, split_pos, train_samples.shape[0])\n",
    "    train_samples, val_samples = train_samples[:split_pos], train_samples[split_pos:]\n",
    "    train_set = dataSet(Final_Samples=train_samples, \n",
    "                        feature_matrix=FEATURE_MATRIX, \n",
    "                        usable_samples_ADNI=usable_samples_ADNI)\n",
    "    val_set = dataSet(Final_Samples=val_samples, \n",
    "                      feature_matrix=FEATURE_MATRIX, \n",
    "                      usable_samples_ADNI=usable_samples_ADNI)\n",
    "    test_set = dataSet(Final_Samples=test_samples, \n",
    "                      feature_matrix=FEATURE_MATRIX, \n",
    "                      usable_samples_ADNI=usable_samples_ADNI)\n",
    "    mean, std = train_set.get_mean_std()\n",
    "    # normalize dataset\n",
    "    train_set.update_prs_features(mean, std)\n",
    "    val_set.update_prs_features(mean, std)\n",
    "    test_set.update_prs_features(mean, std)\n",
    "#     print(len(train_set))\n",
    "#     print(len(val_set))\n",
    "#     print(len(test_set))\n",
    "    return train_set, val_set, test_set\n",
    "\n",
    "\n",
    "\n",
    "# generate_loader : get train, validation & test as torch dataset\n",
    "#                 args : \n",
    "#                         train_set, test_set, val_set : datasets\n",
    "#                 returns :\n",
    "#                         train, val & test torch datasets\n",
    "def generate_loader(train_set, val_set, test_set, num_workers):\n",
    "    train_batch_size = train_set.__len__()\n",
    "    val_batch_size = val_set.__len__()\n",
    "    test_batch_size = test_set.__len__()\n",
    "    train_loader = torch.utils.data.DataLoader(train_set,\n",
    "                                              batch_size=train_batch_size,\n",
    "                                              shuffle=False,\n",
    "                                              pin_memory=(torch.cuda.is_available()),\n",
    "                                              num_workers=num_workers)\n",
    "    val_loader = torch.utils.data.DataLoader(val_set,\n",
    "                                              batch_size=val_batch_size,\n",
    "                                              shuffle=False,\n",
    "                                              pin_memory=(torch.cuda.is_available()),\n",
    "                                              num_workers=num_workers)\n",
    "    test_loader = torch.utils.data.DataLoader(test_set,\n",
    "                                              batch_size=test_batch_size,\n",
    "                                              shuffle=False,\n",
    "                                              pin_memory=(torch.cuda.is_available()),\n",
    "                                              num_workers=num_workers)\n",
    "    return train_loader, val_loader, test_loader\n",
    "\n",
    "# train_set, val_set, test_set = generate_datasets(N_splits=random_samples(total_folds=10, random_seed=0), fold_num=0, random_seed=0)\n",
    "# val_set.feature_matrix.shape"
   ]
  },
  {
   "cell_type": "code",
   "execution_count": 24,
   "metadata": {},
   "outputs": [],
   "source": [
    "# epoch function : runs an epoch of a model\n",
    "#                 args :\n",
    "#                         model : neural network model\n",
    "#                         optimizer :\n",
    "#                         criterion :\n",
    "#                         is_training : train - true or test - false\n",
    "#                         loader : torch dataset\n",
    "#                 returns :\n",
    "#                         different accuracy score for the dataset of per epoch\n",
    "def epoch(model, optimizer, criterion, is_training, loader):\n",
    "    pred = []\n",
    "    true = []\n",
    "    total_loss = 0.\n",
    "#     print(loader)\n",
    "    for batch_idx, (features, label) in enumerate(loader):\n",
    "        features = torch.autograd.Variable(features.to(DEVICE).float())\n",
    "        label = torch.autograd.Variable(label.to(DEVICE).float())\n",
    "        label = torch.reshape(label, (label.shape[0], 1))\n",
    "        probab = model(features)\n",
    "        if is_training:  \n",
    "#             print(probab.shape, label.shape)\n",
    "            loss = criterion(probab, label)\n",
    "            ## compute gradient and do SGD step \n",
    "            optimizer.zero_grad()\n",
    "            loss.backward()\n",
    "            optimizer.step()\n",
    "            total_loss += loss.item()\n",
    "#             print(batch_idx, ':', loss) \n",
    "        pred += probab.detach().cpu().numpy().tolist()\n",
    "        true += label.detach().cpu().numpy().tolist()\n",
    "    \n",
    "    pred, true, total_loss = np.array(pred).reshape([-1]), np.array(true).reshape([-1]), total_loss\n",
    "    pred_binary = (pred > .5).astype(float)\n",
    "    precision, recall, fscore, support = precision_recall_fscore_support(true, pred_binary)\n",
    "    auroc = roc_auc_score(true, pred)\n",
    "    p, r, thresholds = precision_recall_curve(true, pred)\n",
    "    auprc = auc(r, p)\n",
    "    acc = (pred_binary==true).mean()\n",
    "    \n",
    "    return precision[1], recall[1], fscore[1], support, auroc, auprc, acc, total_loss, pred, pred_binary, true\n",
    "#     return None, None, None, None, None, None, acc, total_loss, pred, pred_binary, true\n",
    "    \n"
   ]
  },
  {
   "cell_type": "markdown",
   "metadata": {},
   "source": [
    "**epoch function for LOOCV**\n",
    "\n",
    "Without precision, recall, ROC, AUC "
   ]
  },
  {
   "cell_type": "code",
   "execution_count": 25,
   "metadata": {},
   "outputs": [],
   "source": [
    "def loocv_epoch(model, optimizer, criterion, is_training, loader):\n",
    "    pred = []\n",
    "    true = []\n",
    "    total_loss = 0.\n",
    "#     print(loader)\n",
    "    for batch_idx, (features, label) in enumerate(loader):\n",
    "        features = torch.autograd.Variable(features.to(DEVICE).float())\n",
    "        label = torch.autograd.Variable(label.to(DEVICE).float())\n",
    "        label = torch.reshape(label, (label.shape[0], 1))\n",
    "        probab = model(features)\n",
    "        if is_training:  \n",
    "#             print(probab.shape, label.shape)\n",
    "            loss = criterion(probab, label)\n",
    "            ## compute gradient and do SGD step \n",
    "            optimizer.zero_grad()\n",
    "            loss.backward()\n",
    "            optimizer.step()\n",
    "            total_loss += loss.item()\n",
    "#             print(batch_idx, ':', loss) \n",
    "        pred += probab.detach().cpu().numpy().tolist()\n",
    "        true += label.detach().cpu().numpy().tolist()\n",
    "    \n",
    "    pred, true, total_loss = np.array(pred).reshape([-1]), np.array(true).reshape([-1]), total_loss\n",
    "    pred_binary = (pred > .5).astype(float)\n",
    "#     precision, recall, fscore, support = precision_recall_fscore_support(true, pred_binary)\n",
    "#     auroc = roc_auc_score(true, pred)\n",
    "#     p, r, thresholds = precision_recall_curve(true, pred)\n",
    "#     auprc = auc(r, p)\n",
    "    acc = (pred_binary==true).mean()\n",
    "    \n",
    "#     return precision[1], recall[1], fscore[1], support, auroc, auprc, acc, total_loss, pred, pred_binary, true\n",
    "    return None, None, None, None, None, None, acc, total_loss, pred, pred_binary, true\n",
    "    "
   ]
  },
  {
   "cell_type": "markdown",
   "metadata": {},
   "source": [
    "# usable_samples_ADNI "
   ]
  },
  {
   "cell_type": "code",
   "execution_count": 26,
   "metadata": {},
   "outputs": [
    {
     "name": "stdout",
     "output_type": "stream",
     "text": [
      "1214\n",
      "1214\n",
      "Shape of usable features :  (1214, 53)\n"
     ]
    }
   ],
   "source": [
    "# usable_indices : take indices from usable_samples_ADNI which are in Final_Samples\n",
    "# usable_features : take the part of feature matrix with usable_indices( rows )\n",
    "#                   and feature_indices_to_consider ( columns )\n",
    "\n",
    "print(len(Final_Samples))\n",
    "usable_indices = [( usable_samples_ADNI[Final_Samples[i][0]] if ( Final_Samples[i][0] in usable_samples_ADNI.keys() ) else None ) for i in range(len(Final_Samples))]\n",
    "print(len(usable_indices))\n",
    "# print(usable_indices)\n",
    "usable_features = FEATURE_MATRIX[usable_indices][:, feature_indices_to_consider]\n",
    "print(\"Shape of usable features : \", usable_features.shape)\n"
   ]
  },
  {
   "cell_type": "markdown",
   "metadata": {},
   "source": [
    "# Removing age values with 0"
   ]
  },
  {
   "cell_type": "code",
   "execution_count": 27,
   "metadata": {},
   "outputs": [
    {
     "name": "stdout",
     "output_type": "stream",
     "text": [
      "205\n",
      "(1214, 53) 1214\n",
      "(1009, 53) 1009\n",
      "['77_051_S_1331' '1']\n"
     ]
    }
   ],
   "source": [
    "# removing age with value 0\n",
    "#--------------------------------------------------------------------------------\n",
    "age_zero = 0\n",
    "age_zero_idx = []\n",
    "for i in range(len(usable_features)):\n",
    "    if usable_features[i, -1] == 0.00:\n",
    "        age_zero += 1\n",
    "        age_zero_idx.append(i)\n",
    "print(len(age_zero_idx))\n",
    "print(usable_features.shape, len( Final_Samples ) )\n",
    "usable_features = np.delete(usable_features, age_zero_idx, axis = 0)\n",
    "Final_Samples = np.delete(Final_Samples, age_zero_idx, axis = 0)\n",
    "print(usable_features.shape, len( Final_Samples ) )\n",
    "print(Final_Samples[0])\n",
    "#--------------------------------------------------------------------------------"
   ]
  },
  {
   "cell_type": "markdown",
   "metadata": {},
   "source": [
    "# usable_labels : output"
   ]
  },
  {
   "cell_type": "code",
   "execution_count": 28,
   "metadata": {},
   "outputs": [
    {
     "name": "stdout",
     "output_type": "stream",
     "text": [
      "Length of usable labels :  1009\n"
     ]
    }
   ],
   "source": [
    "usable_labels = np.array([float(Final_Samples[i][1]) for i in range(len(Final_Samples))])\n",
    "print(\"Length of usable labels : \", len(usable_labels))"
   ]
  },
  {
   "cell_type": "markdown",
   "metadata": {},
   "source": [
    "# Read all traits from json file "
   ]
  },
  {
   "cell_type": "code",
   "execution_count": 29,
   "metadata": {},
   "outputs": [
    {
     "name": "stdout",
     "output_type": "stream",
     "text": [
      "['Non-cancer illness code, self-reported: type 2 diabetes', 'Ever had known person concerned about, or recommend reduction of, alcohol consumption: No', 'Ever had known person concerned about, or recommend reduction of, alcohol consumption: Yes, but not in the last year', 'Ever had known person concerned about, or recommend reduction of, alcohol consumption: Yes, during the last year', 'Total cholesterol', 'HDL cholesterol', 'LDL cholesterol', 'triglycerides', 'Cigarettes per Day', 'systolic blood pressure', 'diastolic blood pressure', 'Hearing difficulty/problems: Yes', 'Non-cancer illness code, self-reported: depression', 'Non-oily fish intake', 'Hearing difficulty/problems with background noise', 'Body mass index (BMI)', 'Oily fish intake', 'Sleeplessness / insomnia', 'Sleep duration', 'Age completed full time education', 'Processed meat intake', 'Types of physical activity in last 4 weeks: Strenuous sports', 'Other meat intake', 'Loneliness, isolation', \"Illnesses of father: Alzheimer's disease/dementia\", \"Illnesses of mother: Alzheimer's disease/dementia\", 'Mood swings', 'Non-cancer illness code, self-reported: anxiety/panic attacks', 'Non-cancer illness code, self-reported: stroke', 'Non-cancer illness code, self-reported: head injury', 'Alcohol intake frequency', 'Diagnoses - secondary ICD10: E66.9 Obesity, unspecified', 'Non-cancer illness code, self-reported: hypothyroidism/myxoedema', 'Non-cancer illness code, self-reported: hyperthyroidism/thyrotoxicosis', 'Non-cancer illness code, self-reported: hypertension', 'Particulate matter air pollution 2.5-10um; 2010', 'Nitrogen oxides air pollution; 2010', 'Types of physical activity in last 4 weeks: Light DIY (eg: pruning, watering the lawn)', 'Diagnoses - secondary ICD10: I10 Essential (primary) hypertension', 'Prospective memory result', 'Leisure/social activities: Pub or social club', 'Leisure/social activities: Sports club or gym', 'Mental health problems ever diagnosed by a professional: Social anxiety or social phobia', 'Mental health problems ever diagnosed by a professional: Anxiety, nerves or generalized anxiety disorder', 'Operation code: brain surgery', 'Ever had prolonged loss of interest in normal activities', 'Illness, injury, bereavement, stress in last 2 years: Serious illness, injury or assault to yourself', 'Illness, injury, bereavement, stress in last 2 years: Marital separation/divorce', 'Illness, injury, bereavement, stress in last 2 years: Financial difficulties', 'ADHD', 'Microalbumin in urine', \"Parkinson's disease\"]\n"
     ]
    }
   ],
   "source": [
    "all_traits = json.load(open('traits_map.json', 'r'))\n",
    "# print(all_traits)\n",
    "GWAS_IDS = list(all_traits)\n",
    "# print(GWAS_IDS)\n",
    "traits = [all_traits[x] for x in all_traits]\n",
    "print(traits)"
   ]
  },
  {
   "cell_type": "markdown",
   "metadata": {},
   "source": [
    "# Get traits corresponding to features"
   ]
  },
  {
   "cell_type": "code",
   "execution_count": 30,
   "metadata": {},
   "outputs": [
    {
     "name": "stdout",
     "output_type": "stream",
     "text": [
      "52\n",
      "52\n",
      "[0, 1, 2, 3, 4, 5, 6, 7, 8, 9, 10, 11, 12, 13, 14, 15, 16, 17, 18, 19, 20, 21, 22, 23, 24, 25, 26, 27, 28, 29, 30, 31, 32, 33, 34, 35, 36, 37, 38, 39, 40, 41, 42, 43, 44, 45, 46, 47, 48, 49, 50, 61, 62]\n",
      "61\n",
      "62\n",
      "[0, 1, 2, 3, 4, 5, 6, 7, 8, 9, 10, 11, 12, 13, 14, 15, 16, 17, 18, 19, 20, 21, 22, 23, 24, 25, 26, 27, 28, 29, 30, 31, 32, 33, 34, 35, 36, 37, 38, 39, 40, 41, 42, 43, 44, 45, 46, 47, 48, 49, 50, 61, 62]\n"
     ]
    },
    {
     "ename": "IndexError",
     "evalue": "list index out of range",
     "output_type": "error",
     "traceback": [
      "\u001b[1;31m---------------------------------------------------------------------------\u001b[0m",
      "\u001b[1;31mIndexError\u001b[0m                                Traceback (most recent call last)",
      "Input \u001b[1;32mIn [30]\u001b[0m, in \u001b[0;36m<cell line: 9>\u001b[1;34m()\u001b[0m\n\u001b[0;32m     22\u001b[0m     age_include \u001b[38;5;241m=\u001b[39m \u001b[38;5;28;01mTrue\u001b[39;00m\n\u001b[0;32m     24\u001b[0m \u001b[38;5;28mprint\u001b[39m(features)\n\u001b[1;32m---> 25\u001b[0m traits \u001b[38;5;241m=\u001b[39m [ traits[i] \u001b[38;5;28;01mfor\u001b[39;00m i \u001b[38;5;129;01min\u001b[39;00m features]\n\u001b[0;32m     26\u001b[0m \u001b[38;5;28;01mif\u001b[39;00m gender_include \u001b[38;5;241m==\u001b[39m \u001b[38;5;28;01mTrue\u001b[39;00m:\n\u001b[0;32m     27\u001b[0m     traits\u001b[38;5;241m.\u001b[39mappend(\u001b[38;5;124m\"\u001b[39m\u001b[38;5;124mgender\u001b[39m\u001b[38;5;124m\"\u001b[39m)\n",
      "Input \u001b[1;32mIn [30]\u001b[0m, in \u001b[0;36m<listcomp>\u001b[1;34m(.0)\u001b[0m\n\u001b[0;32m     22\u001b[0m     age_include \u001b[38;5;241m=\u001b[39m \u001b[38;5;28;01mTrue\u001b[39;00m\n\u001b[0;32m     24\u001b[0m \u001b[38;5;28mprint\u001b[39m(features)\n\u001b[1;32m---> 25\u001b[0m traits \u001b[38;5;241m=\u001b[39m [ \u001b[43mtraits\u001b[49m\u001b[43m[\u001b[49m\u001b[43mi\u001b[49m\u001b[43m]\u001b[49m \u001b[38;5;28;01mfor\u001b[39;00m i \u001b[38;5;129;01min\u001b[39;00m features]\n\u001b[0;32m     26\u001b[0m \u001b[38;5;28;01mif\u001b[39;00m gender_include \u001b[38;5;241m==\u001b[39m \u001b[38;5;28;01mTrue\u001b[39;00m:\n\u001b[0;32m     27\u001b[0m     traits\u001b[38;5;241m.\u001b[39mappend(\u001b[38;5;124m\"\u001b[39m\u001b[38;5;124mgender\u001b[39m\u001b[38;5;124m\"\u001b[39m)\n",
      "\u001b[1;31mIndexError\u001b[0m: list index out of range"
     ]
    }
   ],
   "source": [
    "print(PRS_orig_feature_matrix.shape[1])\n",
    "# print(feature_indices_to_consider)\n",
    "\n",
    "print(\"traits length: \", len(traits))\n",
    "print(feature_indices_to_consider)\n",
    "\n",
    "# check if age and gender is included\n",
    "# if they are included, their index will be larger than the original feature matrix\n",
    "if any(y >PRS_orig_feature_matrix.shape[1] for y in feature_indices_to_consider):\n",
    "    features = feature_indices_to_consider.copy()\n",
    "    age_include = False\n",
    "    gender_include = False\n",
    "    print(features[-2])\n",
    "    if(features[-2] == PRS_orig_feature_matrix.shape[1] + 10):\n",
    "        print(\"gender_include\")\n",
    "        features.pop(-2)\n",
    "        gender_include = True\n",
    "    print(features[-1])\n",
    "    if(features[-1] == PRS_orig_feature_matrix.shape[1] + 11):\n",
    "        print(\"age include\")\n",
    "        features.pop(-1)\n",
    "        age_include = True\n",
    "    \n",
    "    print(features)\n",
    "    traits = [ traits[i] for i in features]\n",
    "    if gender_include == True:\n",
    "        traits.append(\"gender\")\n",
    "    if age_include == True:\n",
    "        traits.append(\"age\")\n",
    "    \n",
    "#     traits.append(\"output prediction\")\n",
    "#     traits.append(\"age\")\n",
    "#     traits.append(\"gender\")\n",
    "else:\n",
    "    # not included - age, gender\n",
    "    traits = [ traits[i] for i in feature_indices_to_consider]\n",
    "print(traits)\n"
   ]
  },
  {
   "cell_type": "markdown",
   "metadata": {},
   "source": [
    "# Panda dataframe conversion"
   ]
  },
  {
   "cell_type": "code",
   "execution_count": null,
   "metadata": {},
   "outputs": [],
   "source": [
    "total_features = np.c_[ usable_features, usable_labels ]\n",
    "# print(total_features.shape)\n",
    "# print(num_features)\n",
    "# column_list = list(range(num_features)) + [last_idx - 1, last_idx - 2, num_features ] \n",
    "column_list = feature_indices_to_consider + [num_features]\n",
    "# print( column_list )\n",
    "\n",
    "df = pd.DataFrame(total_features, columns = column_list )\n",
    "\n",
    "# turn column names to strings\n",
    "# df.columns = df.columns.astype(str)\n",
    "\n",
    "# assign traits as column names\n",
    "column_names = traits.copy()\n",
    "column_names.append('output')\n",
    "df.columns = column_names\n",
    "# print( df.columns )\n",
    "\n",
    "# dropping last / output column in df\n",
    "df_X = df.iloc[: , :-1]\n",
    "# taking the output column of df\n",
    "df_Y = df.iloc[: , -1]\n",
    "\n",
    "print( df.head() )\n",
    "# print( df_X.head() )\n",
    "# print( df_Y.head() )\n",
    "\n"
   ]
  },
  {
   "cell_type": "markdown",
   "metadata": {},
   "source": [
    "# Get equal amount of positive & negative data"
   ]
  },
  {
   "cell_type": "code",
   "execution_count": null,
   "metadata": {},
   "outputs": [],
   "source": [
    "print( df['output'].value_counts() )\n",
    "\n",
    "# ones = df[df['output'] == 1]\n",
    "# zeros = df[df['output'] == 0]\n",
    "# min_len = min( len(ones), len(zeros) ) \n",
    "\n",
    "# ones = ones.iloc[:min_len, :]\n",
    "# zeros = zeros.iloc[:min_len, :]\n",
    "\n",
    "# df = ones.append(zeros, ignore_index=True)\n",
    "# print(df.shape)"
   ]
  },
  {
   "cell_type": "markdown",
   "metadata": {},
   "source": [
    "# SMOTE Analysis to oversample data\n",
    "\n",
    "https://towardsdatascience.com/smote-synthetic-data-augmentation-for-tabular-data-1ce28090debc#:~:text=SMOTE%20is%20an%20over%2Dsampling,its%20%E2%80%9Ck%E2%80%9D%20nearest%20neighbors."
   ]
  },
  {
   "cell_type": "code",
   "execution_count": null,
   "metadata": {},
   "outputs": [],
   "source": [
    "\n",
    "def smote(x, y):\n",
    "    # Synthetic Minority Over-samping Technique\n",
    "    # \n",
    "    # sampling_strategy: determines the portion of samples to \n",
    "    #                    generate with respect to the majority class\n",
    "    # k_neighbors : number of neighbors to be considered for each sample\n",
    "    \n",
    "    # For this example, only 1% of minoirty samples are considered\n",
    "    k_neighbors = math.ceil(sum(y) * 0.01)\n",
    "      \n",
    "    smote = SMOTE(sampling_strategy=1, \n",
    "                  k_neighbors=k_neighbors)\n",
    "    x, y = smote.fit_resample(x, y)\n",
    "    \n",
    "    return x, y\n",
    "    \n",
    "def bordersmote(x, y):\n",
    "    # Borderline-SMOTE\n",
    "    # \n",
    "    # sampling_strategy: determines the portion of samples to \n",
    "    #                    generate with respect to the majority class\n",
    "    # k_neighbors : number of neighbors to be considered for each sample\n",
    "    # m_neighbors : number of neighbors to consider to determine if a sample is danger\n",
    "    \n",
    "    # For this example, only 1% of minoirty samples are considered\n",
    "    k_neighbors = math.ceil(sum(y) * 0.01)\n",
    "    m_neighbors = math.ceil(sum(y) * 0.01)\n",
    "    \n",
    "    bordersmote = BorderlineSMOTE(sampling_strategy=1, \n",
    "                                  k_neighbors=k_neighbors, \n",
    "                                  m_neighbors=m_neighbors)\n",
    "    \n",
    "    x, y = bordersmote.fit_resample(x, y)\n",
    "    \n",
    "    return x, y\n",
    "    \n",
    "def adasyn(x, y):\n",
    "    # Adaptive Synthetic\n",
    "    # \n",
    "    # sampling_strategy: determines the portion of samples to \n",
    "    #                    generate with respect to the majority class\n",
    "    # n_neighbors : number of neighbors to be considered for each sample\n",
    "    \n",
    "    # For this example, only 1% of minoirty samples are considered\n",
    "    n_neighbors = math.ceil(sum(y) * 0.01)\n",
    "    \n",
    "    adasyn = ADASYN(sampling_strategy=1,\n",
    "                   n_neighbors=n_neighbors)\n",
    "    x, y = adasyn.fit_resample(x, y)\n",
    "\n",
    "    return x, y"
   ]
  },
  {
   "cell_type": "code",
   "execution_count": null,
   "metadata": {},
   "outputs": [],
   "source": [
    "# # dropping last / output column in df\n",
    "# shuffled_X = shuffled.iloc[: , :-1]\n",
    "# # taking the output column of df\n",
    "# shuffled_Y = shuffled.iloc[: , -1]\n",
    "# print(df.shape)\n",
    "# df_X_new, df_Y_new = bordersmote(df_X, df_Y)\n",
    "# print( df_X_new.shape, df_Y_new.shape )\n",
    "\n",
    "# df = df_X_new\n",
    "# df['output'] = df_Y_new\n",
    "# print(df.shape)\n"
   ]
  },
  {
   "cell_type": "code",
   "execution_count": null,
   "metadata": {},
   "outputs": [],
   "source": [
    "print( df['output'].value_counts() )\n",
    "print(df.head())\n",
    "\n",
    "# ones = df[df['output'] == 1]\n",
    "# zeros = df[df['output'] == 0]\n",
    "# min_len = min( len(ones), len(zeros) ) \n",
    "\n",
    "# ones = ones.iloc[:min_len, :]\n",
    "# zeros = zeros.iloc[:min_len, :]\n",
    "\n",
    "# df = ones.append(zeros, ignore_index=True)\n",
    "# print(df.shape)"
   ]
  },
  {
   "cell_type": "markdown",
   "metadata": {},
   "source": [
    "# Shuffling dataframe\n",
    "\n",
    "**Dropping alcohol recommended columns**"
   ]
  },
  {
   "cell_type": "code",
   "execution_count": null,
   "metadata": {},
   "outputs": [],
   "source": [
    "# # keep the index same\n",
    "# shuffled = df.sample(frac=1)\n",
    "# print( shuffled.head() )\n",
    "\n",
    "# reset the index\n",
    "shuffled = df.sample(frac=1, random_state = 1).reset_index()\n",
    "# print(shuffled.columns)\n",
    "shuffled = shuffled.drop( ['index'], axis = 1 )\n",
    "\n",
    "\n",
    "# #  dropping alcohol recommended columns\n",
    "# shuffled = shuffled.drop(['Ever had known person concerned about, or recommend reduction of, alcohol consumption: No', 'Ever had known person concerned about, or recommend reduction of, alcohol consumption: Yes, but not in the last year', 'Ever had known person concerned about, or recommend reduction of, alcohol consumption: Yes, during the last year'], axis = 1)\n",
    "# shuffled = shuffled.drop(['Non-cancer illness code, self-reported: anxiety/panic attacks', 'Sleeplessness / insomnia', 'Non-cancer illness code, self-reported: type 2 diabetes', \"Illnesses of father: Alzheimer's disease/dementia\", \"Illnesses of mother: Alzheimer's disease/dementia\", \"Alcohol intake frequency\", 'Other meat intake' ], axis = 1)\n",
    "\n",
    "print( shuffled.head() )\n",
    "\n"
   ]
  },
  {
   "cell_type": "code",
   "execution_count": null,
   "metadata": {},
   "outputs": [],
   "source": [
    "usable_features = torch.autograd.Variable(torch.from_numpy(usable_features)).to(DEVICE).float()\n",
    "\n",
    "print(\"Usable Features : \", usable_features[:2])\n",
    "\n",
    "print(usable_features.shape)"
   ]
  },
  {
   "cell_type": "markdown",
   "metadata": {},
   "source": [
    "# Combining Illness of Father & Mother having Alzheimer\n",
    "\n",
    "Previously data showed a negative correlation with both of these factors, which shouldn't be. We will now try to combine both risk scores by averaging it and use is as a new feature, descarding the previous two. This new feature will represent the risk score of a parent having Alzheimer."
   ]
  },
  {
   "cell_type": "code",
   "execution_count": null,
   "metadata": {},
   "outputs": [],
   "source": [
    "# shuffled['Parent having Alzheimer'] = shuffled[[\"Illnesses of father: Alzheimer's disease/dementia\", \"Illnesses of mother: Alzheimer's disease/dementia\"]].max(axis=1)\n",
    "# shuffled[[\"Illnesses of father: Alzheimer's disease/dementia\", \"Illnesses of mother: Alzheimer's disease/dementia\", \"Parent having Alzheimer\"]].head()"
   ]
  },
  {
   "cell_type": "code",
   "execution_count": null,
   "metadata": {},
   "outputs": [],
   "source": [
    "# shuffled = shuffled.drop(['Illnesses of mother: Alzheimer\\'s disease/dementia', 'Illnesses of father: Alzheimer\\'s disease/dementia'], axis = 1 )\n",
    "# print( shuffled.head() )"
   ]
  },
  {
   "cell_type": "code",
   "execution_count": null,
   "metadata": {},
   "outputs": [],
   "source": [
    "# index=shuffled.columns.get_loc(\"output\")\n",
    "# temp_cols = shuffled.columns.tolist()\n",
    "# print(index)\n",
    "# new_cols= temp_cols[0 : index] + temp_cols[index+1 : ] + temp_cols[index : index + 1 ]\n",
    "# shuffled = shuffled[new_cols]\n",
    "# print( shuffled.head() )"
   ]
  },
  {
   "cell_type": "markdown",
   "metadata": {},
   "source": [
    "# X, Y differentiate"
   ]
  },
  {
   "cell_type": "code",
   "execution_count": null,
   "metadata": {},
   "outputs": [],
   "source": [
    "# dropping last / output column in df\n",
    "shuffled_X = shuffled.iloc[: , :-1]\n",
    "# taking the output column of df\n",
    "shuffled_Y = shuffled.iloc[: , -1]"
   ]
  },
  {
   "cell_type": "markdown",
   "metadata": {},
   "source": [
    "# Feature Analysis"
   ]
  },
  {
   "cell_type": "code",
   "execution_count": null,
   "metadata": {},
   "outputs": [],
   "source": [
    "# print(df.head())\n",
    "column_list = shuffled.columns\n",
    "for i in column_list:\n",
    "    print(i)\n",
    "    shuffled[i].plot(kind=\"hist\")\n",
    "    plt.show()"
   ]
  },
  {
   "cell_type": "markdown",
   "metadata": {},
   "source": [
    "**check distribution for positive and negative output with parents' Alzheimer PRS**"
   ]
  },
  {
   "cell_type": "code",
   "execution_count": null,
   "metadata": {},
   "outputs": [],
   "source": [
    "cols_to_check = [\"Illnesses of father: Alzheimer's disease/dementia\", \"Illnesses of mother: Alzheimer's disease/dementia\"]\n",
    "shuffled_neg = shuffled[shuffled['output'] == 0]\n",
    "\n",
    "\n",
    "print('negative PRS values for negative output among ', shuffled_neg.shape[0], \" samples\")\n",
    "print( shuffled_neg[cols_to_check].lt(0).sum() )\n",
    "\n",
    "for i in cols_to_check:\n",
    "    print(i)\n",
    "    shuffled_neg[i].plot(kind=\"hist\")\n",
    "    plt.show()"
   ]
  },
  {
   "cell_type": "code",
   "execution_count": null,
   "metadata": {},
   "outputs": [],
   "source": [
    "cols_to_check = [\"Illnesses of father: Alzheimer's disease/dementia\", \"Illnesses of mother: Alzheimer's disease/dementia\"]\n",
    "shuffled_pos = shuffled[shuffled['output'] == 1]\n",
    "\n",
    "\n",
    "print('negative PRS values for positive output among ', shuffled_pos.shape[0], \" samples\")\n",
    "print( shuffled_pos[cols_to_check].lt(0).sum() )\n",
    "\n",
    "for i in cols_to_check:\n",
    "    print(i)\n",
    "    shuffled_pos[i].plot(kind=\"hist\")\n",
    "    plt.show()"
   ]
  },
  {
   "cell_type": "markdown",
   "metadata": {},
   "source": [
    "# Feature Selection\n",
    "https://www.analyticsvidhya.com/blog/2020/10/feature-selection-techniques-in-machine-learning/"
   ]
  },
  {
   "cell_type": "code",
   "execution_count": null,
   "metadata": {},
   "outputs": [],
   "source": [
    "selected_features = []"
   ]
  },
  {
   "cell_type": "markdown",
   "metadata": {},
   "source": [
    "# Filter methods\n",
    "Filter methods pick up the intrinsic properties of the features measured via univariate statistics instead of cross-validation performance. These methods are faster and less computationally expensive than wrapper methods. When dealing with high-dimensional data, it is computationally cheaper to use filter methods."
   ]
  },
  {
   "cell_type": "markdown",
   "metadata": {},
   "source": [
    "**Information Gain**\n",
    "\n",
    "Information gain calculates the reduction in entropy from the transformation of a dataset. It can be used for feature selection by evaluating the Information gain of each variable in the context of the target variable."
   ]
  },
  {
   "cell_type": "code",
   "execution_count": null,
   "metadata": {},
   "outputs": [],
   "source": [
    "from sklearn.feature_selection import mutual_info_classif\n",
    "import matplotlib.pyplot as plt\n",
    "%matplotlib inline\n",
    "from matplotlib.pyplot import figure\n",
    "\n",
    "figure(figsize=(20, 20), dpi=100)\n",
    "\n",
    "importances = mutual_info_classif(shuffled_X, shuffled_Y)\n",
    "feat_importances = pd.Series(importances, shuffled.columns[ 0:len(shuffled.columns) - 1 ] )\n",
    "important_features = []\n",
    "count = 0\n",
    "for elem in feat_importances:\n",
    "    if elem > 0.05:\n",
    "        important_features.append(shuffled.columns[count])\n",
    "    count += 1\n",
    "print(important_features)\n",
    "\n",
    "selected_features += important_features\n",
    "# print(selected_features)\n",
    "\n",
    "feat_importances.plot( kind = 'barh', color = 'teal' )\n",
    "plt.show()"
   ]
  },
  {
   "cell_type": "markdown",
   "metadata": {},
   "source": [
    "**Correlation Coefficient**\n"
   ]
  },
  {
   "cell_type": "code",
   "execution_count": null,
   "metadata": {},
   "outputs": [],
   "source": [
    "fig, ax = plt.subplots(figsize=(20,20))         # Sample figsize in inches\n",
    "corr = shuffled.corr()\n",
    "sns.heatmap( corr )"
   ]
  },
  {
   "cell_type": "code",
   "execution_count": null,
   "metadata": {},
   "outputs": [],
   "source": [
    "print(corr)"
   ]
  },
  {
   "cell_type": "markdown",
   "metadata": {},
   "source": [
    "**Still Alzheimer of parents show negative correlation:**\n",
    "    1. Lack of Diagnosis for parents.\n",
    "    2. Less patients overall earlier.\n",
    "    3. Lack of such patients in this dataset"
   ]
  },
  {
   "cell_type": "code",
   "execution_count": null,
   "metadata": {},
   "outputs": [],
   "source": [
    "print(corr.iloc[0][0])\n",
    "features_selected = []\n",
    "column_len = len( shuffled.columns )\n",
    "output_idx = column_len - 1\n",
    "\n",
    "for i in range( column_len ): \n",
    "    if (corr.iloc[i][output_idx] > 0.1 ) and i != output_idx :\n",
    "        features_selected.append(shuffled.columns[i])\n",
    "print(features_selected)\n",
    "\n",
    "selected_features += features_selected"
   ]
  },
  {
   "cell_type": "markdown",
   "metadata": {},
   "source": [
    "**Variance Threshold**\n",
    "\n",
    "The variance threshold is a simple baseline approach to feature selection. It removes all features which variance doesn’t meet some threshold. By default, it removes all zero-variance features, i.e., features that have the same value in all samples. We assume that features with a higher variance may contain more useful information, but note that we are not taking the relationship between feature variables or feature and target variables into account, which is one of the drawbacks of filter methods."
   ]
  },
  {
   "cell_type": "code",
   "execution_count": null,
   "metadata": {},
   "outputs": [],
   "source": [
    "from sklearn.feature_selection import VarianceThreshold\n",
    "\n",
    "# remove features with variance less than 0.1\n",
    "v_threshold = VarianceThreshold( threshold = 0.1 )\n",
    "v_threshold.fit(shuffled_X)\n",
    "print( v_threshold.get_support() )\n",
    "rejected_col = [x for x, y in zip(shuffled_X.columns, v_threshold.get_support() ) if y == False]\n",
    "print(rejected_col)"
   ]
  },
  {
   "cell_type": "markdown",
   "metadata": {},
   "source": [
    "Makes sense as most of the age is very high for AD patients. No need to reject the \"age\" column"
   ]
  },
  {
   "cell_type": "markdown",
   "metadata": {},
   "source": [
    "**Mean Absolute Difference (MAD)**\n",
    "\n",
    "The mean absolute difference (MAD) computes the absolute difference from the mean value. The main difference between the variance and MAD measures is the absence of the square in the latter. The MAD, like the variance, is also a scale variant.’ This means that higher the MAD, higher the discriminatory power."
   ]
  },
  {
   "cell_type": "code",
   "execution_count": null,
   "metadata": {},
   "outputs": [],
   "source": [
    "mean_abs_diff = np.sum( np.abs( shuffled_X - np.mean(shuffled_X, axis = 0 ) ), axis = 0 ) / shuffled_X.shape[0]\n",
    "\n",
    "plt.bar( np.arange( shuffled_X.shape[1] ), mean_abs_diff, color = 'teal' )"
   ]
  },
  {
   "cell_type": "markdown",
   "metadata": {},
   "source": [
    "# Wrapper Methods\n",
    "\n",
    "Wrappers require some method to search the space of all possible subsets of features, assessing their quality by learning and evaluating a classifier with that feature subset. The feature selection process is based on a specific machine learning algorithm that we are trying to fit on a given dataset. It follows a greedy search approach by evaluating all the possible combinations of features against the evaluation criterion. The wrapper methods usually result in better predictive accuracy than filter methods."
   ]
  },
  {
   "cell_type": "markdown",
   "metadata": {},
   "source": [
    "**Forward Feature Selection**\n",
    "\n",
    "http://rasbt.github.io/mlxtend/user_guide/feature_selection/SequentialFeatureSelector/\n",
    "\n",
    "https://scikit-learn.org/stable/modules/generated/sklearn.feature_selection.SequentialFeatureSelector.html\n",
    "\n",
    "This is an iterative method wherein we start with the best performing variable against the target. Next, we select another variable that gives the best performance in combination with the first selected variable. This process continues until the preset criterion is achieved."
   ]
  },
  {
   "cell_type": "code",
   "execution_count": null,
   "metadata": {},
   "outputs": [],
   "source": [
    "from mlxtend.feature_selection import SequentialFeatureSelector\n",
    "\n",
    "from sklearn.ensemble import RandomForestClassifier\n",
    "rfc = RandomForestClassifier()\n",
    "rfc.fit(shuffled_X, shuffled_Y)\n",
    "\n",
    "ffs = SequentialFeatureSelector( rfc, k_features = 'best', forward = True, n_jobs = -1 )\n",
    "ffs.fit(shuffled_X, shuffled_Y)\n",
    "features = list( ffs.k_feature_names_ )\n",
    "print(features)\n",
    "print( len( features ) )\n",
    "\n",
    "selected_features += features\n",
    "# print(selected_features)"
   ]
  },
  {
   "cell_type": "markdown",
   "metadata": {},
   "source": [
    "**Backward Feature Elimination**\n",
    "\n",
    "This method works exactly opposite to the Forward Feature Selection method. Here, we start with all the features available and build a model. Next, we remove the variable from the model which gives the best evaluation measure value. This process is continued until the preset criterion is achieved."
   ]
  },
  {
   "cell_type": "code",
   "execution_count": null,
   "metadata": {},
   "outputs": [],
   "source": [
    "from sklearn.linear_model import LogisticRegression\n",
    "from mlxtend.feature_selection import SequentialFeatureSelector\n",
    "\n",
    "lr = LogisticRegression( class_weight = 'balanced', solver = 'lbfgs', random_state = 42, n_jobs = -1, max_iter = 500 )\n",
    "lr.fit(shuffled_X, shuffled_Y)\n",
    "\n",
    "bfs = SequentialFeatureSelector( lr, k_features = 'best', forward = False, n_jobs = -1 )\n",
    "bfs.fit(shuffled_X, shuffled_Y)\n",
    "features = list( bfs.k_feature_names_ )\n",
    "print(features)\n",
    "print( len( features ) )\n",
    "\n",
    "selected_features += features\n",
    "# print(selected_features)"
   ]
  },
  {
   "cell_type": "markdown",
   "metadata": {},
   "source": [
    "**Exhaustive Feature Selection**\n",
    "\n",
    "This is the most robust feature selection method covered so far. This is a brute-force evaluation of each feature subset. This means that it tries every possible combination of the variables and returns the best performing subset."
   ]
  },
  {
   "cell_type": "code",
   "execution_count": null,
   "metadata": {},
   "outputs": [],
   "source": [
    "# from mlxtend.feature_selection import ExhaustiveFeatureSelector\n",
    "\n",
    "# from sklearn.ensemble import RandomForestClassifier\n",
    "\n",
    "# efs = ExhaustiveFeatureSelector( RandomForestClassifier(), min_features = 8, max_features = 10, scoring = 'roc_auc', cv = 2)\n",
    "# efs.fit(shuffled_X, shuffled_Y)\n",
    "\n",
    "# selected_features = shuffled_X.columns[list(efs.best_idx_)]\n",
    "# print(selected_features)\n",
    "\n",
    "# print(efs.best_score_)"
   ]
  },
  {
   "cell_type": "markdown",
   "metadata": {},
   "source": [
    "**Recursive Feature Elimination**\n",
    "\n",
    "‘Given an external estimator that assigns weights to features (e.g., the coefficients of a linear model), the goal of recursive feature elimination (RFE) is to select features by recursively considering smaller and smaller sets of features. First, the estimator is trained on the initial set of features and the importance of each feature is obtained either through a coef_ attribute or through a feature_importances_ attribute.\n",
    "\n",
    "Then, the least important features are pruned from the current set of features. That procedure is recursively repeated on the pruned set until the desired number of features to select is eventually reached.’"
   ]
  },
  {
   "cell_type": "code",
   "execution_count": null,
   "metadata": {},
   "outputs": [],
   "source": [
    "from sklearn.feature_selection import RFE\n",
    "# here lr denotes the logistic regression model trained on backward elimination\n",
    "rfe = RFE(lr, n_features_to_select = 10)\n",
    "rfe.fit(shuffled_X, shuffled_Y)\n",
    "selected_col = [ x for x, y in zip(shuffled_X.columns, rfe.support_ )  if y == True ]\n",
    "print(selected_col)\n",
    "print( len (selected_col ) )\n",
    "print(rfe.ranking_)\n",
    "\n",
    "selected_features += selected_col \n",
    "# print(selected_features)"
   ]
  },
  {
   "cell_type": "markdown",
   "metadata": {},
   "source": [
    "# Embedded Methods\n",
    "\n",
    "These methods encompass the benefits of both the wrapper and filter methods, by including interactions of features but also maintaining reasonable computational cost. Embedded methods are iterative in the sense that takes care of each iteration of the model training process and carefully extracts those features which contribute the most to the training for a particular iteration."
   ]
  },
  {
   "cell_type": "markdown",
   "metadata": {},
   "source": [
    "**LASSO Regularization (L1)**\n",
    "\n",
    "Regularization consists of adding a penalty to the different parameters of the machine learning model to reduce the freedom of the model, i.e. to avoid over-fitting. In linear model regularization, the penalty is applied over the coefficients that multiply each of the predictors. From the different types of regularization, Lasso or L1 has the property that is able to shrink some of the coefficients to zero. Therefore, that feature can be removed from the model."
   ]
  },
  {
   "cell_type": "code",
   "execution_count": null,
   "metadata": {},
   "outputs": [],
   "source": [
    "from sklearn.linear_model import LogisticRegression\n",
    "from sklearn.feature_selection import SelectFromModel\n",
    "\n",
    "logistic = LogisticRegression( C = 1, penalty = \"l1\", solver = 'liblinear', random_state = 7 ).fit(shuffled_X, shuffled_Y )\n",
    "\n",
    "model = SelectFromModel(logistic, prefit = True )\n",
    "\n",
    "X_new = model.transform(shuffled_X)\n",
    "\n",
    "selected_feat = shuffled_X.columns[(model.get_support())]\n",
    "print(selected_feat)\n",
    "print( len( selected_feat ) )\n",
    "# selected_columns = shuffled_X.columns[X_new.var() != 0 ]\n",
    "# print(selected_columns)\n",
    "# print( len(selected_columns[0] ) )\n",
    "# print(type(selected_feat))\n",
    "# print( selected_feat.tolist() )\n",
    "selected_features += selected_feat.tolist()\n",
    "\n",
    "# print(selected_features)"
   ]
  },
  {
   "cell_type": "markdown",
   "metadata": {},
   "source": [
    "**Random Forest Importance**\n",
    "\n",
    "Random Forests is a kind of a Bagging Algorithm that aggregates a specified number of decision trees. The tree-based strategies used by random forests naturally rank by how well they improve the purity of the node, or in other words a decrease in the impurity (Gini impurity) over all trees. Nodes with the greatest decrease in impurity happen at the start of the trees, while notes with the least decrease in impurity occur at the end of trees. Thus, by pruning trees below a particular node, we can create a subset of the most important features."
   ]
  },
  {
   "cell_type": "code",
   "execution_count": null,
   "metadata": {},
   "outputs": [],
   "source": [
    "from sklearn.ensemble import RandomForestClassifier\n",
    "\n",
    "model = RandomForestClassifier( n_estimators = 340 )\n",
    "\n",
    "model.fit(shuffled_X, shuffled_Y)\n",
    "\n",
    "importances = model.feature_importances_\n",
    "\n",
    "final_df = pd.DataFrame({\"Features\" : pd.DataFrame(shuffled_X).columns, \"Importances\" : importances } )\n",
    "final_df.set_index('Importances')\n",
    "\n",
    "final_df = final_df.sort_values('Importances')\n",
    "final_df.plot.bar(color = 'teal')"
   ]
  },
  {
   "cell_type": "code",
   "execution_count": null,
   "metadata": {},
   "outputs": [],
   "source": [
    "# print(type( final_df ) )\n",
    "# print(final_df.columns)\n",
    "# print(final_df['Features'].iloc[-10:])\n",
    "important_cols = []\n",
    "important_cols = final_df['Features'].iloc[-10:].values.tolist()\n",
    "print(important_cols)\n",
    "\n",
    "selected_features += important_cols"
   ]
  },
  {
   "cell_type": "markdown",
   "metadata": {},
   "source": [
    "# Select features based on all methods\n",
    "\n",
    "https://www.digitalocean.com/community/tutorials/python-counter-python-collections-counter"
   ]
  },
  {
   "cell_type": "code",
   "execution_count": null,
   "metadata": {},
   "outputs": [],
   "source": [
    "from collections import Counter\n",
    "# print(selected_features)\n",
    "c = Counter( selected_features )\n",
    "# print( c )\n",
    "# print( c.most_common(20) )\n",
    "most_common = c.most_common(15)\n",
    "print( most_common )\n",
    "selected_col = list( list(zip(*most_common))[0] )\n",
    "print(selected_col)"
   ]
  },
  {
   "cell_type": "markdown",
   "metadata": {},
   "source": [
    "# Drop extra features from Shuffled Dataframe"
   ]
  },
  {
   "cell_type": "markdown",
   "metadata": {},
   "source": [
    "# Literature Review select features\n",
    "\n",
    "Features related to : \n",
    "**Alcohol Consumption,\n",
    "Hearing Problem,\n",
    "Smoking / Cigarettes,\n",
    "Cholesterol,\n",
    "Blood Pressure,\n",
    "Meat,\n",
    "Depression,\n",
    "Insomnia /  Sleep Schedule,\n",
    "Education,\n",
    "Hypertension,\n",
    "Physical Inactivity,\n",
    "Brain Injury,\n",
    "Father / Mother,\n",
    "Obesity,\n",
    "Diabetes,\n",
    "Age**\n",
    "\n",
    "\n",
    "'Non-cancer illness code, self-reported: type 2 diabetes'\n",
    "'Total cholesterol', 'HDL cholesterol', 'LDL cholesterol'\n",
    "'Cigarettes per Day', 'systolic blood pressure', 'diastolic blood pressure'\n",
    "'Hearing difficulty/problems: Yes', 'Non-cancer illness code, self-reported: depression’\n",
    "'Hearing difficulty/problems with background noise'\n",
    "'Sleeplessness / insomnia', 'Sleep duration', 'Age completed full time education'\n",
    "'Types of physical activity in last 4 weeks: Strenuous sports', 'Other meat intake', 'Loneliness, isolation', \"Illnesses of father: Alzheimer's disease/dementia\", \"Illnesses of mother: Alzheimer's disease/dementia\", 'Mood swings'\n",
    "'Non-cancer illness code, self-reported: hypertension'\n",
    "'Diagnoses - secondary ICD10: I10 Essential (primary) hypertension'\n",
    "'Non-cancer illness code, self-reported: head injury', 'Alcohol intake frequency', 'Diagnoses - secondary ICD10: E66.9 Obesity, unspecified’\n"
   ]
  },
  {
   "cell_type": "code",
   "execution_count": null,
   "metadata": {},
   "outputs": [],
   "source": [
    "# selected_col = ['Non-cancer illness code, self-reported: type 2 diabetes', 'Total cholesterol', 'HDL cholesterol', 'LDL cholesterol', \n",
    "# 'Cigarettes per Day', 'systolic blood pressure', 'diastolic blood pressure',\n",
    "# 'Hearing difficulty/problems: Yes', 'Non-cancer illness code, self-reported: depression',\n",
    "# 'Hearing difficulty/problems with background noise',\n",
    "# 'Sleeplessness / insomnia', 'Sleep duration', 'Age completed full time education',\n",
    "# 'Types of physical activity in last 4 weeks: Strenuous sports', 'Other meat intake', 'Loneliness, isolation', \"Illnesses of father: Alzheimer's disease/dementia\", \"Illnesses of mother: Alzheimer's disease/dementia\", 'Mood swings',\n",
    "# 'Non-cancer illness code, self-reported: hypertension',\n",
    "# 'Diagnoses - secondary ICD10: I10 Essential (primary) hypertension',\n",
    "# 'Non-cancer illness code, self-reported: head injury', 'Alcohol intake frequency', 'Diagnoses - secondary ICD10: E66.9 Obesity, unspecified', 'age']"
   ]
  },
  {
   "cell_type": "code",
   "execution_count": null,
   "metadata": {},
   "outputs": [],
   "source": [
    "selected_col += ['output']\n",
    "shuffled = shuffled[selected_col]\n",
    "\n",
    "print( shuffled.shape )\n",
    "print( shuffled.head() )\n",
    "\n",
    "# dropping last / output column in df\n",
    "shuffled_X = shuffled.iloc[: , :-1]"
   ]
  },
  {
   "cell_type": "markdown",
   "metadata": {},
   "source": [
    "# LOOCV"
   ]
  },
  {
   "cell_type": "markdown",
   "metadata": {},
   "source": [
    "**Random Forest Classifier with LOOCV**"
   ]
  },
  {
   "cell_type": "code",
   "execution_count": null,
   "metadata": {},
   "outputs": [],
   "source": [
    "# from sklearn.model_selection import LeaveOneOut\n",
    "# from sklearn.ensemble import RandomForestClassifier\n",
    "# from sklearn.metrics import accuracy_score\n",
    "\n",
    "# # print(shuffled_X.shape)\n",
    "# # create loocv procedure\n",
    "# cv = LeaveOneOut()\n",
    "# # enumerate splits\n",
    "# y_true, y_pred = list(), list()\n",
    "# for train_ix, test_ix in cv.split(shuffled_X):\n",
    "#     # split data\n",
    "# #     print(train_ix, test_ix)\n",
    "#     X_train, X_test = shuffled_X.iloc[train_ix], shuffled_X.iloc[test_ix]\n",
    "#     y_train, y_test = shuffled_Y.iloc[train_ix], shuffled_Y.iloc[test_ix]\n",
    "#     # fit model\n",
    "#     model = RandomForestClassifier(random_state=1)\n",
    "#     model.fit(X_train, y_train)\n",
    "#     # evaluate model\n",
    "#     yhat = model.predict(X_test)\n",
    "#     # store\n",
    "# #     print(y_test[0], yhat[0])\n",
    "# #  print(len( y_test ), len( yhat ) )\n",
    "#     y_true.append(y_test)\n",
    "#     y_pred.append(yhat)\n",
    "# # calculate accuracy\n",
    "# acc = accuracy_score(y_true, y_pred)\n",
    "# print('Accuracy: %.3f' % acc)"
   ]
  },
  {
   "cell_type": "markdown",
   "metadata": {},
   "source": [
    "**Neural Network Model with LOOCV**\n",
    "\n",
    "Epoch number is reduced to 250"
   ]
  },
  {
   "cell_type": "code",
   "execution_count": null,
   "metadata": {},
   "outputs": [],
   "source": [
    "# from sklearn.model_selection import LeaveOneOut\n",
    "# from sklearn.ensemble import RandomForestClassifier\n",
    "# from sklearn.metrics import accuracy_score\n",
    "\n",
    "# # print(shuffled_X.shape)\n",
    "\n",
    "# avg_val_acc = []\n",
    "# accuracies = []\n",
    "# accuracies_val = []\n",
    "# acc_score = []\n",
    "# total_epochs = 250 #250(ideal)\n",
    "\n",
    "\n",
    "# # create loocv procedure\n",
    "# cv = LeaveOneOut()\n",
    "# # enumerate splits\n",
    "# y_true, y_pred = list(), list()\n",
    "# for train_ix, test_ix in cv.split(shuffled_X):\n",
    "#     # split data\n",
    "# #     print(train_ix, test_ix)\n",
    "#     X_train, X_test = shuffled_X.iloc[train_ix], shuffled_X.iloc[test_ix]\n",
    "#     y_train, y_test = shuffled_Y.iloc[train_ix], shuffled_Y.iloc[test_ix]\n",
    "    \n",
    "#     train_dataset = df_dataSet( X_train, y_train )\n",
    "#     valid_dataset = df_dataSet( X_test, y_test )\n",
    "                \n",
    "#     train_batch_size = train_dataset.__len__()\n",
    "#     val_batch_size = valid_dataset.__len__()\n",
    "                \n",
    "\n",
    "                \n",
    "#     train_loader = torch.utils.data.DataLoader(train_dataset, batch_size = train_batch_size, shuffle = True, num_workers = 0)\n",
    "#     valid_loader = torch.utils.data.DataLoader(valid_dataset, batch_size = val_batch_size, shuffle = False, num_workers = 0)\n",
    "\n",
    "#     model = simple_model(num_features = shuffled_X.shape[1], hidden_dim = hidden_dimension)\n",
    "#     model = model.to(DEVICE)\n",
    "#     optimizer = torch.optim.Adam(model.parameters(), lr=0.001)\n",
    "#     criterion = torch.nn.BCEWithLogitsLoss() \n",
    "#     best_acc_val = 0.\n",
    "#     model_best = None\n",
    "                \n",
    "#     for epoch_num in range(total_epochs):\n",
    "# #       print(epoch_num)\n",
    "#         model.train()\n",
    "# #       model.drop_probab=.8\n",
    "# #       print(\"model trained\")\n",
    "#         precision, recall, fscore, support, auroc, auprc, acc_train, total_loss, pred, pred_binary, true = loocv_epoch(model=model, optimizer=optimizer, \n",
    "#                                                                                  criterion=criterion, is_training=True, \n",
    "#                                                                                loader=train_loader)\n",
    "# #                     print(\"model validated\")\n",
    "#         model.eval()\n",
    "# #       model.drop_probab=.0\n",
    "#         precision, recall, fscore, support, auroc, auprc, acc_val, total_loss, pred, pred_binary, true = loocv_epoch(model=model, \n",
    "#                                                                                  optimizer=optimizer, \n",
    "#                                                                                  criterion=criterion, is_training=False, \n",
    "#                                                                                 loader=valid_loader)\n",
    "# #       print(\"model kahini done\")\n",
    "#         if acc_val >= best_acc_val:\n",
    "#             best_acc_val = acc_val\n",
    "#             model_best = model.to(DEVICE)\n",
    "\n",
    "#     model_best.eval()\n",
    "#     precision, recall, fscore, support, auroc, auprc, acc_test, total_loss, pred, pred_binary, true = loocv_epoch(model=model_best, \n",
    "#                                                                              optimizer=optimizer, \n",
    "#                                                                              criterion=criterion, is_training=False, \n",
    "#                                                                              loader=valid_loader)\n",
    "#     accuracies += [acc_test]\n",
    "#     accuracies_val += [best_acc_val]\n",
    "    \n",
    "#     if test_ix % 50 == 0:\n",
    "#         print(test_ix, ':', acc_test)\n",
    "   \n",
    "\n",
    "\n",
    "   # print( 'Accuracy', np.sum( accuracies ) / len( accuracies ) )"
   ]
  },
  {
   "cell_type": "code",
   "execution_count": null,
   "metadata": {},
   "outputs": [],
   "source": [
    "def save_train_test_file(X_train, y_train, X_test, y_test, loop):\n",
    "#     print( X_train.head(), type(X_train), y_train.head(), type(y_train) )\n",
    "    train_df = X_train.join( y_train )\n",
    "#     print( train_df.columns, train_df.shape )\n",
    "#     print( train_df.head() )\n",
    "    test_df = X_test.join( y_test )\n",
    "    train_df.to_csv( \"fold_dataset/train_\" + str( loop ) + \".csv\" )\n",
    "    test_df.to_csv( \"fold_dataset/test_\" + str( loop ) + \".csv\" )\n",
    "    "
   ]
  },
  {
   "cell_type": "markdown",
   "metadata": {},
   "source": [
    "# Model training"
   ]
  },
  {
   "cell_type": "markdown",
   "metadata": {},
   "source": [
    "https://www.analyticsvidhya.com/blog/2021/09/a-comprehensive-guide-on-neural-networks-performance-optimization/"
   ]
  },
  {
   "cell_type": "code",
   "execution_count": null,
   "metadata": {
    "scrolled": true
   },
   "outputs": [],
   "source": [
    "tensor_X = torch.tensor(shuffled_X.values, dtype=torch.float32).to(DEVICE)\n",
    "print( tensor_X[0].shape )\n",
    "\n",
    "GENERATE_SHAP = True\n",
    "total_epochs = 500 #250(ideal)\n",
    "num_features_list = [shuffled_X.shape[1]]\n",
    "# random_integers = [2, 6, 108, 90, 5]\n",
    "random_integers = [90]#, 92, 0, 87, 73, 82, 54]\n",
    "\n",
    "folds_list = [10]#[37*2]\n",
    "\n",
    "avg_val_acc = []\n",
    "\n",
    "shap_values_list = []\n",
    "for num_features in num_features_list:\n",
    "    print(f'NF:{num_features}')\n",
    "    global_best_acc_val = 0.\n",
    "    precision_avg = 0\n",
    "    recall_avg = 0\n",
    "    auprc_avg = 0\n",
    "    auroc_avg = 0\n",
    "    fscore_avg = 0\n",
    "    for total_folds in folds_list:\n",
    "        print(f'\\n#F{total_folds}')\n",
    "        for random_seed in random_integers:\n",
    "            accuracies = []\n",
    "            accuracies_val = []\n",
    "            temp_shap_values = np.zeros(shuffled_X.shape)\n",
    "            \n",
    "            kf = KFold(n_splits = total_folds, random_state = None)\n",
    "            acc_score = []\n",
    "            loop = 0\n",
    "            for train_index , test_index in kf.split(shuffled):\n",
    "                X_train , X_test = shuffled_X.iloc[train_index,:], shuffled_X.iloc[test_index,:]\n",
    "                y_train , y_test = shuffled_Y[train_index] , shuffled_Y[test_index]\n",
    "                \n",
    "                X_train, y_train = bordersmote( X_train, y_train )\n",
    "                \n",
    "                                               \n",
    "                save_train_test_file(X_train, y_train, X_test, y_test, loop)                    \n",
    "                loop += 1\n",
    "                \n",
    "                print(\"train size: \", X_train.shape, y_train.shape)\n",
    "                print(\"test size: \", X_test.shape, y_test.shape)\n",
    "                \n",
    "                train_dataset = df_dataSet( X_train, y_train )\n",
    "                valid_dataset = df_dataSet( X_test, y_test )\n",
    "                \n",
    "                train_batch_size = train_dataset.__len__()\n",
    "                val_batch_size = valid_dataset.__len__()\n",
    "                \n",
    "#                 print( train_batch_size, val_batch_size )\n",
    "                train_loader = torch.utils.data.DataLoader(train_dataset, batch_size = train_batch_size, shuffle = False, num_workers = 0)\n",
    "\n",
    "#                 train_loader = torch.utils.data.DataLoader(train_dataset, batch_size = train_batch_size, shuffle = True, num_workers = 0)\n",
    "                valid_loader = torch.utils.data.DataLoader(valid_dataset, batch_size = val_batch_size, shuffle = False, num_workers = 0)\n",
    "\n",
    "                model = simple_model(num_features = shuffled_X.shape[1], hidden_dim = hidden_dimension)\n",
    "                model = model.to(DEVICE)\n",
    "                optimizer = torch.optim.Adam(model.parameters(), lr=0.001)\n",
    "                criterion = torch.nn.BCEWithLogitsLoss() \n",
    "                best_acc_val = 0.\n",
    "                model_best = None\n",
    "                \n",
    "                for epoch_num in range(total_epochs):\n",
    "#                     print(epoch_num)\n",
    "                    model.train()\n",
    "#                     model.drop_probab=.8\n",
    "#                     print(\"model trained\")\n",
    "                    precision, recall, fscore, support, auroc, auprc, acc_train, total_loss, pred, pred_binary, true = epoch(model=model, optimizer=optimizer, \n",
    "                                                                                             criterion=criterion, is_training=True, \n",
    "                                                                                           loader=train_loader)\n",
    "#                     print(\"model validated\")\n",
    "                    model.eval()\n",
    "#                     model.drop_probab=.0\n",
    "                    precision, recall, fscore, support, auroc, auprc, acc_val, total_loss, pred, pred_binary, true = epoch(model=model, \n",
    "                                                                                             optimizer=optimizer, \n",
    "                                                                                             criterion=criterion, is_training=False, \n",
    "                                                                                            loader=valid_loader)\n",
    "#                     print(\"model kahini done\")\n",
    "                    if acc_val > best_acc_val:\n",
    "                        best_acc_val = acc_val\n",
    "                        if acc_val > global_best_acc_val:\n",
    "                            global_best_acc_val = acc_val\n",
    "    #                         print('global updated!')\n",
    "                        torch.save(model.state_dict(), 'PRS_model.pt')\n",
    "    #                     print(f'#F:{total_folds}| seed:{random_seed}, fold:{fold_num}, epoch:{epoch_num} -> local:{best_acc_val}, global:{global_best_acc_val}')  \n",
    "#                     if epoch_num + 1 == total_epochs:\n",
    "#     #                     print(f'LAST_Epoch:{epoch_num}, train_acc:{acc_train}, val_acc:{acc_val}, local_best:{best_acc_val}, global_best:{global_best_acc_val}')\n",
    "#                         pass\n",
    "                model_best = simple_model(num_features= shuffled_X.shape[1], hidden_dim = hidden_dimension, drop_probab=.0)\n",
    "                model_best.load_state_dict(torch.load('PRS_model.pt'))\n",
    "                model_best = model_best.to(DEVICE)\n",
    "                model_best.eval()\n",
    "                precision, recall, fscore, support, auroc, auprc, acc_test, total_loss, pred, pred_binary, true = epoch(model=model_best, \n",
    "                                                                                         optimizer=optimizer, \n",
    "                                                                                         criterion=criterion, is_training=False, \n",
    "                                                                                         loader=valid_loader)\n",
    "                accuracies += [acc_test]\n",
    "                accuracies_val += [best_acc_val]\n",
    "#                 print(\"precision : \", precision, \" ; recall : \", recall)\n",
    "                precision_avg += precision\n",
    "                recall_avg += recall\n",
    "                auprc_avg += auprc\n",
    "                auroc_avg += auroc\n",
    "                fscore_avg += fscore\n",
    "                \n",
    "#                 print(precision, recall, fscore, support, auroc, auprc, acc_test, total_loss)\n",
    "#                 print(\"pred\")\n",
    "#                 print(pred)\n",
    "#                 print(\"pred binary\")\n",
    "#                 print(type(pred_binary))\n",
    "#                 print(pred_binary)\n",
    "                \n",
    "                print(total_folds, ':')\n",
    "                if GENERATE_SHAP:\n",
    "                    explainer = shap.GradientExplainer(model_best.to(DEVICE), tensor_X,\n",
    "                                                       batch_size=shuffled_X.shape[0]) #https://shap-lrjball.readthedocs.io/en/latest/generated/shap.KernelExplainer.html\n",
    "#                     print(\"usable features : \", usable_features.shape[0])\n",
    "#                     print(usable_features.shape)\n",
    "#                     print(usable_features)\n",
    "                    shap_values = explainer.shap_values(tensor_X, nsamples=500)\n",
    "#                     print(\"shap values shape : \", shap_values.shape)\n",
    "#                     print(\"Shap values : \", shap_values)\n",
    "#                     print(\"shap values of 0 index\", shap_values[0, :])\n",
    "                    \n",
    "                    temp_shap_values += shap_values \n",
    "            if GENERATE_SHAP:\n",
    "                temp_shap_values /= total_folds\n",
    "                shap_values_list += [temp_shap_values] \n",
    "            print(f'random_seed:{random_seed}:', np.mean(accuracies), np.std(accuracies), \n",
    "                  np.mean(accuracies_val), np.std(accuracies_val), 'train acc:', acc_train)\n",
    "            avg_val_acc += [np.mean(accuracies_val)]\n",
    "    print(\"accuraacies of validation: \", accuracies_val)\n",
    "    print(\"average val accuracy: \", avg_val_acc)\n",
    "    print(f'global_best_acc_val:{global_best_acc_val}')\n",
    "    precision_avg = precision_avg * 1.0 / total_folds\n",
    "    recall_avg = recall_avg * 1.0 / total_folds\n",
    "    auprc_avg = auprc_avg * 1.0 / total_folds\n",
    "    auroc_avg = auroc_avg * 1.0 / total_folds\n",
    "    fscore_avg = fscore_avg * 1.0 / total_folds\n",
    "    print( \"precision avg : \", precision_avg )\n",
    "    print( \"recall avg : \", recall_avg )\n",
    "    print( \"AUPRC avg : \", auprc_avg )\n",
    "    print( \"AUROC avg : \", auroc_avg )\n",
    "    print( \"FScore avg : \", fscore_avg )\n",
    "# usable_features = usable_features.cpu().detach().numpy().astype(np.float64)\n",
    "avg_val_acc = np.array(avg_val_acc)\n",
    "print(\"average val accuracy: \", avg_val_acc.max(), avg_val_acc.min(), avg_val_acc.mean(), avg_val_acc.std())"
   ]
  },
  {
   "cell_type": "code",
   "execution_count": null,
   "metadata": {
    "scrolled": true
   },
   "outputs": [],
   "source": [
    "# GENERATE_SHAP = True\n",
    "# total_epochs = 500 #250(ideal)\n",
    "# num_features_list = [usable_features.shape[1]]\n",
    "# # random_integers = [2, 6, 108, 90, 5]\n",
    "# random_integers = [90]#, 92, 0, 87, 73, 82, 54]\n",
    "\n",
    "# folds_list = [10]#[37*2]\n",
    "\n",
    "# avg_val_acc = []\n",
    "\n",
    "# shap_values_list = []\n",
    "# for num_features in num_features_list:\n",
    "#     print(f'NF:{num_features}')\n",
    "#     global_best_acc_val = 0.\n",
    "#     precision_avg = 0\n",
    "#     recall_avg = 0\n",
    "#     auprc_avg = 0\n",
    "#     auroc_avg = 0\n",
    "#     fscore_avg = 0\n",
    "#     for total_folds in folds_list:\n",
    "#         print(f'\\n#F{total_folds}')\n",
    "#         for random_seed in random_integers:\n",
    "#             N_splits = random_samples(total_folds=total_folds, random_seed=random_seed)\n",
    "#             accuracies = []\n",
    "#             accuracies_val = []\n",
    "#             temp_shap_values = np.zeros(usable_features.shape)\n",
    "#             for fold_num in tqdm(range(total_folds)):\n",
    "#     #             print(f'fold-{fold_num}:')\n",
    "# #                 train_set, val_set, test_set = generate_datasets(N_splits=N_splits, fold_num=fold_num, random_seed=random_seed)\n",
    "#                 train_set, _, test_set = generate_datasets(N_splits=N_splits, fold_num=fold_num, random_seed=random_seed)\n",
    "#                 val_set = test_set        \n",
    "#                 train_loader, val_loader, test_loader = generate_loader(train_set=train_set, val_set=val_set, \n",
    "#                                                                         test_set=test_set, num_workers=0)\n",
    "#                 model = simple_model(num_features=usable_features.shape[1], hidden_dim= hidden_dimension)\n",
    "#                 model = model.to(DEVICE)\n",
    "#                 optimizer = torch.optim.Adam(model.parameters(), lr=0.001)\n",
    "#                 criterion = torch.nn.BCEWithLogitsLoss() \n",
    "#                 best_acc_val = 0.\n",
    "#                 model_best = None\n",
    "#                 for epoch_num in range(total_epochs):\n",
    "#                     model.train()\n",
    "# #                     model.drop_probab=.8\n",
    "#                     precision, recall, fscore, support, auroc, auprc, acc_train, total_loss, pred, pred_binary, true = epoch(model=model, optimizer=optimizer, \n",
    "#                                                                                              criterion=criterion, is_training=True, \n",
    "#                                                                                              loader=train_loader)\n",
    "#                     model.eval()\n",
    "# #                     model.drop_probab=.0\n",
    "#                     precision, recall, fscore, support, auroc, auprc, acc_val, total_loss, pred, pred_binary, true = epoch(model=model, \n",
    "#                                                                                              optimizer=optimizer, \n",
    "#                                                                                              criterion=criterion, is_training=False, \n",
    "#                                                                                             loader=val_loader)\n",
    "#                     if acc_val > best_acc_val:\n",
    "#                         best_acc_val = acc_val\n",
    "#                         if acc_val > global_best_acc_val:\n",
    "#                             global_best_acc_val = acc_val\n",
    "#     #                         print('global updated!')\n",
    "#                         torch.save(model.state_dict(), 'PRS_model.pt')\n",
    "#     #                     print(f'#F:{total_folds}| seed:{random_seed}, fold:{fold_num}, epoch:{epoch_num} -> local:{best_acc_val}, global:{global_best_acc_val}')  \n",
    "# #                     if epoch_num + 1 == total_epochs:\n",
    "# #     #                     print(f'LAST_Epoch:{epoch_num}, train_acc:{acc_train}, val_acc:{acc_val}, local_best:{best_acc_val}, global_best:{global_best_acc_val}')\n",
    "# #                         pass\n",
    "#                 model_best = simple_model(num_features=usable_features.shape[1], hidden_dim= hidden_dimension, drop_probab=.0)\n",
    "#                 model_best.load_state_dict(torch.load('PRS_model.pt'))\n",
    "#                 model_best = model_best.to(DEVICE)\n",
    "#                 model_best.eval()\n",
    "#                 precision, recall, fscore, support, auroc, auprc, acc_test, total_loss, pred, pred_binary, true = epoch(model=model_best, \n",
    "#                                                                                          optimizer=optimizer, \n",
    "#                                                                                          criterion=criterion, is_training=False, \n",
    "#                                                                                          loader=val_loader)\n",
    "#                 accuracies += [acc_test]\n",
    "#                 accuracies_val += [best_acc_val]\n",
    "# #                 print(\"precision : \", precision, \" ; recall : \", recall)\n",
    "#                 precision_avg += precision\n",
    "#                 recall_avg += recall\n",
    "#                 auprc_avg += auprc\n",
    "#                 auroc_avg += auroc\n",
    "#                 fscore_avg += fscore\n",
    "                \n",
    "# #                 print(precision, recall, fscore, support, auroc, auprc, acc_test, total_loss)\n",
    "# #                 print(\"pred\")\n",
    "# #                 print(pred)\n",
    "# #                 print(\"pred binary\")\n",
    "# #                 print(type(pred_binary))\n",
    "# #                 print(pred_binary)\n",
    "                \n",
    "# #                 print(fold_num, ':', accuracies)\n",
    "#                 if GENERATE_SHAP:\n",
    "#                     explainer = shap.GradientExplainer(model_best.to(DEVICE), usable_features,\n",
    "#                                                        batch_size=usable_features.shape[0]) #https://shap-lrjball.readthedocs.io/en/latest/generated/shap.KernelExplainer.html\n",
    "# #                     print(\"usable features : \", usable_features.shape[0])\n",
    "# #                     print(usable_features.shape)\n",
    "# #                     print(usable_features)\n",
    "#                     shap_values = explainer.shap_values(usable_features, nsamples=500)\n",
    "# #                     print(\"shap values shape : \", shap_values.shape)\n",
    "# #                     print(\"Shap values : \", shap_values)\n",
    "# #                     print(\"shap values of 0 index\", shap_values[0, :])\n",
    "                    \n",
    "#                     temp_shap_values += shap_values \n",
    "#             if GENERATE_SHAP:\n",
    "#                 temp_shap_values /= total_folds\n",
    "#                 shap_values_list += [temp_shap_values] \n",
    "#             print(f'random_seed:{random_seed}:', np.mean(accuracies), np.std(accuracies), \n",
    "#                   np.mean(accuracies_val), np.std(accuracies_val), 'train acc:', acc_train)\n",
    "#             avg_val_acc += [np.mean(accuracies_val)]\n",
    "    \n",
    "#     print(f'global_best_acc_val:{global_best_acc_val}')\n",
    "#     precision_avg = precision_avg * 1.0 / total_folds\n",
    "#     recall_avg = recall_avg * 1.0 / total_folds\n",
    "#     auprc_avg = auprc_avg * 1.0 / total_folds\n",
    "#     auroc_avg = auroc_avg * 1.0 / total_folds\n",
    "#     fscore_avg = fscore_avg * 1.0 / total_folds\n",
    "#     print( \"precision avg : \", precision_avg )\n",
    "#     print( \"recall avg : \", recall_avg )\n",
    "#     print( \"AUPRC avg : \", auprc_avg )\n",
    "#     print( \"AUROC avg : \", auroc_avg )\n",
    "#     print( \"FScore avg : \", fscore_avg )\n",
    "# # usable_features = usable_features.cpu().detach().numpy().astype(np.float64)\n",
    "# avg_val_acc = np.array(avg_val_acc)\n",
    "# print(avg_val_acc.max(), avg_val_acc.min(), avg_val_acc.mean(), avg_val_acc.std())"
   ]
  },
  {
   "cell_type": "code",
   "execution_count": null,
   "metadata": {},
   "outputs": [],
   "source": [
    "# save model accuracy in model_details.txt\n",
    "save_in_file(\"Neural Network with \" + str(hidden)  + \" layers_4yrs_\" + str(len(feature_indices_to_consider)), global_best_acc_val)\n",
    "# save_in_file(\"Neural Network with \" + str(hidden) + \" layers\", global_best_acc_val)"
   ]
  },
  {
   "cell_type": "code",
   "execution_count": null,
   "metadata": {},
   "outputs": [],
   "source": [
    "usable_features = usable_features.cpu().detach().numpy().astype(np.float64)"
   ]
  },
  {
   "cell_type": "markdown",
   "metadata": {},
   "source": [
    "# Shap Analysis\n",
    "\n",
    "https://medium.com/dataman-in-ai/explain-your-model-with-the-shap-values-bc36aac4de3d"
   ]
  },
  {
   "cell_type": "code",
   "execution_count": null,
   "metadata": {},
   "outputs": [],
   "source": [
    "# print( shap_values_list )\n",
    "# write shap_values_list to pkl file\n",
    "pickle.dump(shap_values_list, open('shap_values_list.pkl', 'wb'))\n",
    "shap_values = np.mean(shap_values_list, axis=0)\n",
    "print( shap_values.shape )\n",
    "# print(shap_values)"
   ]
  },
  {
   "cell_type": "markdown",
   "metadata": {},
   "source": [
    "# Force plot :\n",
    "\n",
    "\n",
    "The shap.force_plot() takes three values: \n",
    "\n",
    "(i) the base value (explainerModel.expected_value[0]),\n",
    "\n",
    "(ii) the SHAP values (shap_values_Model[j][0]) and \n",
    "\n",
    "(iii) the matrix of feature values (S.iloc[[j]]). The base value or the expected value is the average of the model output over the training data X_train. It is the base value used in the following plot.\n",
    "\n",
    "https://medium.com/mlearning-ai/shap-force-plots-for-classification-d30be430e195\n",
    "\n",
    "the bold 0.80 is the model’s score for this observation. Higher scores lead the model to predict 1 and lower scores lead the model to predict 0. The features that were important to making the prediction for this observation are shown in red and blue, with red representing features that pushed the model score higher, and blue representing features that pushed the score lower. Features that had more of an impact on the score are located closer to the dividing boundary between red and blue, and the size of that impact is represented by the size of the bar."
   ]
  },
  {
   "cell_type": "code",
   "execution_count": null,
   "metadata": {
    "scrolled": false
   },
   "outputs": [],
   "source": [
    "# print( shap_values_list )\n",
    "\n",
    "# print the JS visualization code to the notebook\n",
    "shap.initjs()\n",
    "\n",
    "# print(shap_values[0, :])\n",
    "# print(usable_features[0, :])\n",
    "# shap.summary_plot(shap_values[:, :], usable_features[:, :])\n",
    "\n",
    "# shap.force_plot(.5, shap_values[0,:], usable_features[0, :], link = \"logit\", matplotlib = True)  \n",
    "\n",
    "# using pandas dataframe\n",
    "shap.force_plot(.5, shap_values[0,:], shuffled_X.iloc[0, :], link = \"logit\", matplotlib = True  )  "
   ]
  },
  {
   "cell_type": "code",
   "execution_count": null,
   "metadata": {
    "scrolled": true
   },
   "outputs": [],
   "source": [
    "# shap.force_plot(.5, shap_values[:,:], usable_features[:, :], link=\"logit\")\n",
    "\n",
    "# using pandas dataframe\n",
    "print(shap_values.shape)\n",
    "print(shuffled_X.shape)\n",
    "shap.force_plot(.5, shap_values[:,:], shuffled_X.iloc[:, :], link=\"logit\")"
   ]
  },
  {
   "cell_type": "markdown",
   "metadata": {},
   "source": [
    "# Summary Plot\n",
    "This plot is made of all the dots in the train data. It delivers the following information:\n",
    "\n",
    "Feature importance: Variables are ranked in descending order.\n",
    "\n",
    "Impact: The horizontal location shows whether the effect of that value is associated with a higher or lower prediction.\n",
    "\n",
    "Original value: Color shows whether that variable is high (in red) or low (in blue) for that observation.\n",
    "\n",
    "Correlation: A high level of the “alcohol” content has a high and positive impact on the quality rating. The “high” comes from the red color, and the “positive” impact is shown on the X-axis. Similarly, we will say the “volatile acidity” is negatively correlated with the target variable."
   ]
  },
  {
   "cell_type": "code",
   "execution_count": null,
   "metadata": {},
   "outputs": [],
   "source": [
    "path = \"./shap/\" + str(num_features)\n",
    "if not os.path.exists(path):\n",
    "    os.makedirs(path)\n",
    "    \n",
    "# for trait in traits:\n",
    "#     print(trait)\n",
    "# https://shap-lrjball.readthedocs.io/en/latest/generated/shap.summary_plot.html?highlight=beeswarm#shap.summary_plot\n",
    "# usable_features_std = (usable_features - usable_features.mean(0))/usable_features.std(0)\n",
    "# shap.summary_plot(shap_values, features=usable_features, feature_names=traits, plot_type='dot', max_display=len(traits), show = False)\n",
    "# plt.savefig('shap/' + str(num_features) + '/summary_plot_hidden_'+ str(hidden) + '_dim_' + str(hidden_dimension) + '.pdf',  bbox_inches='tight')\n",
    "# shap.summary_plot(shap_values, features=usable_features, feature_names=list(range(23)), plot_type='dot', max_display=len(traits))\n",
    "\n",
    "shap.summary_plot(shap_values, features = shuffled_X, feature_names = shuffled_X.columns, plot_type='dot', max_display=len(traits), show = False)\n"
   ]
  },
  {
   "cell_type": "code",
   "execution_count": null,
   "metadata": {
    "scrolled": true
   },
   "outputs": [],
   "source": [
    "# https://shap-lrjball.readthedocs.io/en/latest/generated/shap.summary_plot.html?highlight=beeswarm#shap.summary_plot\n",
    "# shap.summary_plot(shap_values, features=usable_features, feature_names=list(range(23)), plot_type='bar', max_display=len(traits), show=False)\n",
    "# plt.savefig('shap/summary_plot_hidden_'+ str(hidden) + '_bar.png', bbox_inches='tight')\n",
    "# naeem modified\n",
    "# shap.summary_plot(shap_values, features=usable_features, feature_names=list(range(num_features)), plot_type='bar', max_display=len(traits), show=False)\n",
    "# shap.summary_plot(shap_values, features=usable_features, feature_names = traits, plot_type='bar', max_display=len(traits), show=False)\n",
    "# plt.savefig('shap/' + str(num_features) + 'summary_plot_hidden_'+ str(hidden) + '_bar.png', bbox_inches='tight')\n",
    "\n",
    "shap.summary_plot(shap_values, features = shuffled_X, feature_names = shuffled_X.columns, plot_type='bar', max_display=len(traits), show=False)\n",
    "plt.savefig('shap/' + str(num_features) + 'summary_plot_hidden_'+ str(hidden) + '_bar.png', bbox_inches='tight')"
   ]
  },
  {
   "cell_type": "code",
   "execution_count": null,
   "metadata": {},
   "outputs": [],
   "source": [
    "sorted(list(zip(list(range(23)), abs(shap_values).mean(0))), key=lambda x:x[1], reverse=True)"
   ]
  },
  {
   "cell_type": "code",
   "execution_count": null,
   "metadata": {},
   "outputs": [],
   "source": [
    "help(shap.force_plot)\n"
   ]
  },
  {
   "cell_type": "markdown",
   "metadata": {},
   "source": [
    "# SVM "
   ]
  },
  {
   "cell_type": "code",
   "execution_count": null,
   "metadata": {},
   "outputs": [],
   "source": []
  }
 ],
 "metadata": {
  "kernelspec": {
   "display_name": "ad_venv_2",
   "language": "python",
   "name": "ad_venv_2"
  },
  "language_info": {
   "codemirror_mode": {
    "name": "ipython",
    "version": 3
   },
   "file_extension": ".py",
   "mimetype": "text/x-python",
   "name": "python",
   "nbconvert_exporter": "python",
   "pygments_lexer": "ipython3",
   "version": "3.10.4"
  },
  "vscode": {
   "interpreter": {
    "hash": "916dbcbb3f70747c44a77c7bcd40155683ae19c65e1c03b4aa3499c5328201f1"
   }
  }
 },
 "nbformat": 4,
 "nbformat_minor": 2
}
