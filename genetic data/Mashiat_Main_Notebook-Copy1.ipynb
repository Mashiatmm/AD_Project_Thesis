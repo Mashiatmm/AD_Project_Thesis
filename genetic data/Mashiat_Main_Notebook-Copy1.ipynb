{
 "cells": [
  {
   "cell_type": "markdown",
   "metadata": {},
   "source": [
    "# Read the input dataset :\n",
    "\n",
    "1. usable_samples_ADNI.json : stores the IID (index) for each row of PRS_feature_matrix.npy\n",
    "2. PRS_feature_matrix.npy : PR Score for different features\n",
    "3. Covar_FILE_bigger_dataset : for reading covar such as age, gender\n",
    "4. Final_Samples.json : contains ID and output for each data"
   ]
  },
  {
   "cell_type": "code",
   "execution_count": null,
   "metadata": {},
   "outputs": [],
   "source": [
    "if True:\n",
    "    def warn(*args, **kwargs):\n",
    "        pass\n",
    "    import warnings\n",
    "    warnings.warn = warn\n",
    "\n",
    "import pandas as pd\n",
    "import numpy as np\n",
    "import json\n",
    "import random\n",
    "import math\n",
    "\n",
    "import os\n",
    "import time\n",
    "import sys\n",
    "\n",
    "import torch as t\n",
    "from torch import nn\n",
    "from torch.autograd import Variable\n",
    "import torch\n",
    "from torch.utils import data\n",
    "\n",
    "from sklearn.metrics import precision_recall_fscore_support, roc_auc_score, precision_recall_curve, auc\n",
    "from sklearn.model_selection import train_test_split\n",
    "from sklearn.model_selection import KFold \n",
    "\n",
    "DEVICE = \"cuda\" if torch.cuda.is_available() else \"cpu\"\n",
    "\n",
    "import shap\n",
    "from copy import deepcopy\n",
    "\n",
    "import pickle\n",
    "from tqdm import tqdm\n",
    "\n",
    "import matplotlib\n",
    "import matplotlib.pyplot as plt\n",
    "\n",
    "import seaborn as sns\n",
    "\n",
    "import tpot\n",
    "\n",
    "from imblearn.over_sampling import SMOTE\n",
    "from imblearn.over_sampling import BorderlineSMOTE\n",
    "from imblearn.over_sampling import ADASYN"
   ]
  },
  {
   "cell_type": "code",
   "execution_count": null,
   "metadata": {},
   "outputs": [],
   "source": [
    "# !pip install skfeature-chappers\n",
    "# !pip install mlxtend\n",
    "# !pip --version\n",
    "# !pip install imblearn\n",
    "# !conda install -c conda-forge imbalanced-learn\n",
    "# conda install -c conda-forge tqdm\n",
    "# conda install mlxtend\n",
    "\n",
    "# conda config --add channels conda-forge\n",
    "# conda install hyperopt\n",
    "\n",
    "# conda config --add channels conda-forge\n",
    "# conda config --set channel_priority strict\n",
    "# conda install auto-sklearn\n",
    "# conda install -c conda-forge tpot\n",
    "\n"
   ]
  },
  {
   "cell_type": "markdown",
   "metadata": {},
   "source": [
    "Show the installed packages with their versions"
   ]
  },
  {
   "cell_type": "code",
   "execution_count": null,
   "metadata": {},
   "outputs": [],
   "source": [
    "!conda list"
   ]
  },
  {
   "cell_type": "code",
   "execution_count": null,
   "metadata": {},
   "outputs": [],
   "source": [
    "Final_Samples_path = 'Final_Samples_6yrs.json'\n",
    "Final_Samples = json.load(open(Final_Samples_path, 'r')) \n",
    "usable_samples_ADNI = json.load(open('./usable_samples_ADNI.json'))\n",
    "PRS_orig_feature_matrix = np.load('./PRS_feature_matrix.npy').astype(np.float32)\n",
    "# normalize feature matrix\n",
    "PRS_orig_feature_matrix = (PRS_orig_feature_matrix - PRS_orig_feature_matrix.mean(0))/PRS_orig_feature_matrix.std(0)\n",
    "# PRS_orig_feature_matrix.shape[1], len(usable_samples_ADNI), usable_samples_ADNI\n",
    "num_features=PRS_orig_feature_matrix.shape[1]\n",
    "print(len( usable_samples_ADNI ) )\n",
    "print(num_features)"
   ]
  },
  {
   "cell_type": "code",
   "execution_count": null,
   "metadata": {},
   "outputs": [],
   "source": [
    "# covar_df = pd.read_csv('./COVAR_FILE_bigger_dataset.txt', ' ') \n",
    "covar_df = pd.read_csv('./COVAR_FILE_bigger_dataset.txt', ' ') \n",
    "print(\"shape\",covar_df.shape)\n",
    "print( covar_df[['AGE', 'PTGENDER']].shape, covar_df[['AGE', 'PTGENDER']].dropna().shape ) \n",
    "# PC - Principal Component\n",
    "\n",
    "# trying to normalize AGE with having max age of 100\n",
    "covar_df['AGE'] = covar_df['AGE'] / 100.0\n",
    "print( covar_df.head() )"
   ]
  },
  {
   "cell_type": "markdown",
   "metadata": {},
   "source": [
    "Covar for ADNI Plink"
   ]
  },
  {
   "cell_type": "markdown",
   "metadata": {},
   "source": [
    "# Alter parameters :\n",
    "    1. Number of features\n",
    "    2. Number of Hidden Layers \n",
    "    3. Dimension of Hidden Layers"
   ]
  },
  {
   "cell_type": "code",
   "execution_count": null,
   "metadata": {},
   "outputs": [],
   "source": [
    "num_features = 51\n",
    "hidden = 4\n",
    "hidden_dimension = 32"
   ]
  },
  {
   "cell_type": "code",
   "execution_count": null,
   "metadata": {},
   "outputs": [],
   "source": [
    "# take the first num_features column from PRS_feature_matrix\n",
    "PRS_feature_matrix = PRS_orig_feature_matrix\n",
    "PRS_feature_matrix = PRS_feature_matrix[:, :num_features]\n",
    "print(PRS_feature_matrix.shape)"
   ]
  },
  {
   "cell_type": "markdown",
   "metadata": {},
   "source": [
    "Final Samples has two columns of data :\n",
    "    1. ID \n",
    "    2. output - true / false\n",
    "    \n",
    "Get the length of positive and negative samples of test dataset"
   ]
  },
  {
   "cell_type": "code",
   "execution_count": null,
   "metadata": {},
   "outputs": [],
   "source": [
    "# positive samples - output true\n",
    "# negative samples - output false\n",
    "len_positive_samples = 0\n",
    "len_negative_samples = 0\n",
    "for x in Final_Samples:\n",
    "    if x[1] == 1 :\n",
    "        len_positive_samples += 1\n",
    "    else :\n",
    "        len_negative_samples += 1\n",
    "        \n",
    "print(len(Final_Samples))\n",
    "print(len_positive_samples)\n",
    "print(len_negative_samples)"
   ]
  },
  {
   "cell_type": "markdown",
   "metadata": {},
   "source": [
    "# Combining covar data with PRS Feature Matrix"
   ]
  },
  {
   "cell_type": "code",
   "execution_count": null,
   "metadata": {
    "scrolled": true
   },
   "outputs": [],
   "source": [
    "# cnt = number of missing IDs for which covar data doesn't exist\n",
    "cnt = 0\n",
    "print(\"Before adding covar_df columns, shape : \",PRS_feature_matrix.shape)\n",
    "# adding ( total columns - 2 ) of covar_df , excluding FID, IID\n",
    "FEATURE_MATRIX = np.concatenate([PRS_feature_matrix, np.zeros([PRS_feature_matrix.shape[0], covar_df.shape[1] - 2 ])], 1).astype(np.float32)\n",
    "print(\"Before adding covar_df columns, shape : \",FEATURE_MATRIX.shape)\n",
    "for sample in usable_samples_ADNI:\n",
    "    # taking from the PCs, skipping the first two columns of IID, FID\n",
    "    covar = covar_df[covar_df['IID'] == sample].to_numpy()[:, 2:].astype(np.float32) \n",
    "    # shape[0] = 1 means a row is found in covar for the following sample ID\n",
    "    # if not, that means no covar data exists for the sample in usable_samples_ADNI\n",
    "    if covar.shape[0] != 1:\n",
    "#         print(covar.shape)\n",
    "        print(sample)\n",
    "        cnt += 1\n",
    "        continue\n",
    "    # Adding the covar values to the feature matrix\n",
    "    FEATURE_MATRIX[usable_samples_ADNI[sample], num_features:] = covar\n",
    "\n",
    "\n",
    "print(\"Count of missing samples for covar data : \", cnt)\n",
    "#     FEATURE_MATRIX[usable_samples_ADNI[sample], num_features:] = covar # naeem's modification\n",
    "# cnt/FEATURE_MATRIX.shape[0], FEATURE_MATRIX[:2], PRS_feature_matrix[:2]"
   ]
  },
  {
   "cell_type": "markdown",
   "metadata": {},
   "source": [
    "# Create directory for saving shap figures"
   ]
  },
  {
   "cell_type": "code",
   "execution_count": null,
   "metadata": {},
   "outputs": [],
   "source": [
    "path = \"./shap/\" + str(num_features)\n",
    "if not os.path.exists(path):\n",
    "    os.makedirs(path)"
   ]
  },
  {
   "cell_type": "markdown",
   "metadata": {},
   "source": [
    "# Storing the index with the Age = 0\n",
    "\n",
    "age is zero for the rows that the covar data was not found"
   ]
  },
  {
   "cell_type": "code",
   "execution_count": null,
   "metadata": {},
   "outputs": [],
   "source": [
    "age_zero = 0\n",
    "age_zero_idx = []\n",
    "for i in range( len(FEATURE_MATRIX) ):\n",
    "    if FEATURE_MATRIX[i, -1] == 0.00:\n",
    "        age_zero += 1\n",
    "        age_zero_idx.append(i)\n",
    "        \n",
    "print(age_zero)"
   ]
  },
  {
   "cell_type": "markdown",
   "metadata": {},
   "source": [
    "# Indices of features to consider"
   ]
  },
  {
   "cell_type": "code",
   "execution_count": null,
   "metadata": {},
   "outputs": [],
   "source": [
    "\n",
    "\n",
    "# feature_indices_to_consider = list(range(23))#list(range(35)) #[1, 2, 3, 4, 5, 6, 7, 8, 9, 10, 11, 13, 14, 15, 16, 18, 20, 22]\n",
    "# naeem modified\n",
    "print(FEATURE_MATRIX.shape[1])\n",
    "last_idx = FEATURE_MATRIX.shape[1] - 1\n",
    "feature_indices_to_consider = list(range(num_features))  + [last_idx - 1, last_idx] #list(range(35)) #[1, 2, 3, 4, 5, 6, 7, 8, 9, 10, 11, 13, 14, 15, 16, 18, 20, 22]\n",
    "# remove_indices = [1, 2, 3]\n",
    "# for i in remove_indices:\n",
    "#     feature_indices_to_consider.remove(i)\n",
    "\n",
    "# feature_indices_to_consider = list(range(23, 36))\n",
    "\n",
    "# feature_indices_to_consider = [ 4, 11, 14, 21, 23, 26, 32, 34, 46]\n",
    "\n",
    "# feature_indices_to_consider = [ 9, 10, 11, 14, 21, 23, 26, 28, 32, 34, 46]\n",
    "# feature_indices_to_consider = [9, 10, 28, 34, 46]\n",
    "\n",
    "print(feature_indices_to_consider)\n",
    "# feature_indices_to_consider = [1, 2, 3, 11, 14, 21, 23, 26, 32, 45]\n",
    "# feature_indices_to_consider = [2, 26, 32, 45]\n"
   ]
  },
  {
   "cell_type": "markdown",
   "metadata": {},
   "source": [
    "# Functions & Classes"
   ]
  },
  {
   "cell_type": "code",
   "execution_count": null,
   "metadata": {},
   "outputs": [],
   "source": [
    "# save_in_file: saves model accuracy in a text file\n",
    "#     args : model_name : name of model with layers and dimensions\n",
    "#            accuracy : accuracy  score\n",
    "def save_in_file(model_name, accuracy):\n",
    "    model_file = open(\"model_details.txt\",\"a\")\n",
    "    model_file.write(model_name + \" -> accuracy : \" + str(accuracy) + \"\\n\" )\n",
    "    model_file.close() "
   ]
  },
  {
   "cell_type": "markdown",
   "metadata": {},
   "source": [
    "**Modifications**\n",
    "1. Added relu in the hidden layers and sigmoid in the output layer as activation functions\n",
    "2. Added dropout in the hidden layers"
   ]
  },
  {
   "cell_type": "code",
   "execution_count": null,
   "metadata": {},
   "outputs": [],
   "source": [
    "class simple_model(nn.Module):\n",
    "    def __init__(self, num_features=FEATURE_MATRIX.shape[1], hidden_dim= hidden_dimension, drop_probab=.5):\n",
    "        super(simple_model, self).__init__()\n",
    "        \n",
    "        ####\n",
    "        num_hidden = hidden\n",
    "        hidden_dim = hidden_dimension\n",
    "        self.fc1 = nn.Linear(num_features, hidden_dim)\n",
    "        self.fc_hidden = nn.ModuleList([nn.Linear(hidden_dim, hidden_dim) for i in range(num_hidden)])\n",
    "        self.fc2 = nn.Linear(hidden_dim, 8)\n",
    "        self.outLayer = nn.Linear(8, 1)\n",
    "#         self.softmax = nn.Softmax(-1)\n",
    "        self.sigmoid = nn.Sigmoid()\n",
    "        self.relu = nn.ReLU()\n",
    "        self.num_hidden = num_hidden\n",
    "        self.drop_probab = drop_probab\n",
    "        self.dropout = nn.functional.dropout\n",
    "        ####\n",
    "\n",
    "    def forward(self, features):\n",
    "        features = self.fc1(features)\n",
    "        features = self.dropout(features, p=self.drop_probab)\n",
    "        for i in range(self.num_hidden):\n",
    "            features = self.fc_hidden[i](features)\n",
    "            # added by Mashiat\n",
    "            features = self.dropout(features, p=self.drop_probab)\n",
    "            features = self.relu( features )\n",
    "            ####################\n",
    "        features = self.fc2(features)\n",
    "        features = self.dropout(features, p=self.drop_probab)\n",
    "        logit = self.outLayer(features)\n",
    "#         print(features.shape, features)\n",
    "        probab = self.sigmoid(logit)\n",
    "        return probab\n",
    "    "
   ]
  },
  {
   "cell_type": "code",
   "execution_count": null,
   "metadata": {},
   "outputs": [],
   "source": [
    "simple_model(num_features=len(feature_indices_to_consider))"
   ]
  },
  {
   "cell_type": "markdown",
   "metadata": {},
   "source": [
    "# dataSet class \n",
    "combines usable_samples_ADNI, Final_Samples, feature_matrix to one dataset with features and labels"
   ]
  },
  {
   "cell_type": "code",
   "execution_count": null,
   "metadata": {},
   "outputs": [],
   "source": [
    "class dataSet(data.Dataset):\n",
    "    def __init__(self, Final_Samples, feature_matrix, usable_samples_ADNI, feature_indices_to_consider=feature_indices_to_consider):\n",
    "        super(dataSet, self).__init__()  \n",
    "        self.data_len = len(Final_Samples)\n",
    "        self.usable_samples_ADNI = usable_samples_ADNI\n",
    "        self.Final_Samples = Final_Samples\n",
    "        self.feature_indices_to_consider = feature_indices_to_consider\n",
    "        self.feature_matrix = feature_matrix[:, self.feature_indices_to_consider]\n",
    "        \n",
    "    def __getitem__(self, index):\n",
    "        features = torch.from_numpy(self.feature_matrix[self.usable_samples_ADNI[self.Final_Samples[index][0]]]).float()\n",
    "        label = torch.tensor([float(self.Final_Samples[index][1])]).float()\n",
    "        return features, label\n",
    "    \n",
    "    def update_prs_features(self, mean, std):\n",
    "        self.feature_matrix = (self.feature_matrix - mean) / std\n",
    "        \n",
    "    def get_mean_std(self):\n",
    "        mean = self.feature_matrix.mean(0)\n",
    "        std = self.feature_matrix.std(0)\n",
    "        return mean, std\n",
    "        \n",
    "    def __len__(self):\n",
    "        return self.data_len"
   ]
  },
  {
   "cell_type": "markdown",
   "metadata": {},
   "source": [
    "# Converting Pandas Dataframe to Dataset class\n",
    "\n",
    "overriding the constructor, getitem, len function of the original class"
   ]
  },
  {
   "cell_type": "code",
   "execution_count": null,
   "metadata": {},
   "outputs": [],
   "source": [
    "class df_dataSet(data.Dataset):\n",
    "    def __init__(self, X, y):\n",
    "        \n",
    "        self.features = torch.tensor(X.values, dtype=torch.float32)\n",
    "        self.labels = torch.tensor(y.values, dtype=torch.float32)\n",
    "        \n",
    "    def __getitem__(self, index):\n",
    "        return self.features[index], self.labels[index]\n",
    "    \n",
    "        \n",
    "        \n",
    "    def __len__(self):\n",
    "        return len(self.labels)"
   ]
  },
  {
   "cell_type": "code",
   "execution_count": null,
   "metadata": {
    "scrolled": false
   },
   "outputs": [],
   "source": [
    "# random samples : sample test dataset taking equal number of positive & negative outputs\n",
    "#                 args : \n",
    "#                         total_folds : fold number for splitting\n",
    "#                         random_seed : seed value for randomization\n",
    "#                 return :\n",
    "#                         N_splits : test dataset splitted according to fold numbers\n",
    "                        \n",
    "def random_samples(total_folds, random_seed=None):\n",
    "    Final_Samples = json.load(open(Final_Samples_path, 'r')) \n",
    "    positive_samples = Final_Samples[:len_positive_samples]\n",
    "    negative_samples = Final_Samples[len_positive_samples:]\n",
    "    min_len = min( len(positive_samples), len(negative_samples))\n",
    "    if random_seed is not None: \n",
    "        random.seed(random_seed * 2)\n",
    "    random.shuffle(positive_samples)\n",
    "    random.shuffle(negative_samples)\n",
    "    print(\"min length : \", min_len)\n",
    "    Final_Samples = positive_samples[:min_len] + negative_samples[:min_len]\n",
    "    random.shuffle(Final_Samples)\n",
    "    print(len([x[1] for x in Final_Samples if x[1] == 1]), len([x[1] for x in Final_Samples if x[1] == 0]))\n",
    "    Final_Samples = np.array(Final_Samples)\n",
    "\n",
    "#   -----------------------------------------------------------------------\n",
    "#     positive_samples = Final_Samples[:654]\n",
    "#     negative_samples = Final_Samples[654:]\n",
    "#     if random_seed is not None: \n",
    "#         random.seed(random_seed * 2)\n",
    "#     random.shuffle(positive_samples)\n",
    "#     random.shuffle(negative_samples)\n",
    "#     Final_Samples = positive_samples[:500] + negative_samples[:500]\n",
    "#     if random_seed is not None: \n",
    "#         random.seed(random_seed)\n",
    "#     random.shuffle(Final_Samples)\n",
    "#     Final_Samples = np.array(Final_Samples)\n",
    "# --------------------------------------------------------------------------\n",
    "    N_splits = Final_Samples.reshape(total_folds, -1, 2)\n",
    "    return N_splits\n",
    "\n",
    "# generate_datasets : get train, validation & test datasets\n",
    "#                 args : \n",
    "#                         N_splits : data splitted according to folds; output of random samples\n",
    "#                         fold_num : fold_num for test dataset\n",
    "#                         random_seed : seed value for randomization\n",
    "#                 return :\n",
    "#                         train_set, test_set, val_set : datasets\n",
    "def generate_datasets(N_splits, fold_num, random_seed):\n",
    "    test_samples = N_splits[fold_num:fold_num+1].reshape([-1, 2])\n",
    "    train_samples = np.concatenate([N_splits[0:fold_num],N_splits[fold_num+1:]], 0).reshape([-1, 2]).tolist()\n",
    "    if random_seed is not None: \n",
    "        random.seed(random_seed * 3)\n",
    "    random.shuffle(train_samples)\n",
    "    train_samples = np.array(train_samples)\n",
    "    # take all as training dataset, leaves nothing for validation - multiply shpae by 1\n",
    "    split_pos = int(train_samples.shape[0] * 1.) \n",
    "    #split_pos = int(train_samples.shape[0] * .8) \n",
    "#     print(train_samples.shape, split_pos, train_samples.shape[0])\n",
    "    train_samples, val_samples = train_samples[:split_pos], train_samples[split_pos:]\n",
    "    train_set = dataSet(Final_Samples=train_samples, \n",
    "                        feature_matrix=FEATURE_MATRIX, \n",
    "                        usable_samples_ADNI=usable_samples_ADNI)\n",
    "    val_set = dataSet(Final_Samples=val_samples, \n",
    "                      feature_matrix=FEATURE_MATRIX, \n",
    "                      usable_samples_ADNI=usable_samples_ADNI)\n",
    "    test_set = dataSet(Final_Samples=test_samples, \n",
    "                      feature_matrix=FEATURE_MATRIX, \n",
    "                      usable_samples_ADNI=usable_samples_ADNI)\n",
    "    mean, std = train_set.get_mean_std()\n",
    "    # normalize dataset\n",
    "    train_set.update_prs_features(mean, std)\n",
    "    val_set.update_prs_features(mean, std)\n",
    "    test_set.update_prs_features(mean, std)\n",
    "#     print(len(train_set))\n",
    "#     print(len(val_set))\n",
    "#     print(len(test_set))\n",
    "    return train_set, val_set, test_set\n",
    "\n",
    "\n",
    "\n",
    "# generate_loader : get train, validation & test as torch dataset\n",
    "#                 args : \n",
    "#                         train_set, test_set, val_set : datasets\n",
    "#                 returns :\n",
    "#                         train, val & test torch datasets\n",
    "def generate_loader(train_set, val_set, test_set, num_workers):\n",
    "    train_batch_size = train_set.__len__()\n",
    "    val_batch_size = val_set.__len__()\n",
    "    test_batch_size = test_set.__len__()\n",
    "    train_loader = torch.utils.data.DataLoader(train_set,\n",
    "                                              batch_size=train_batch_size,\n",
    "                                              shuffle=False,\n",
    "                                              pin_memory=(torch.cuda.is_available()),\n",
    "                                              num_workers=num_workers)\n",
    "    val_loader = torch.utils.data.DataLoader(val_set,\n",
    "                                              batch_size=val_batch_size,\n",
    "                                              shuffle=False,\n",
    "                                              pin_memory=(torch.cuda.is_available()),\n",
    "                                              num_workers=num_workers)\n",
    "    test_loader = torch.utils.data.DataLoader(test_set,\n",
    "                                              batch_size=test_batch_size,\n",
    "                                              shuffle=False,\n",
    "                                              pin_memory=(torch.cuda.is_available()),\n",
    "                                              num_workers=num_workers)\n",
    "    return train_loader, val_loader, test_loader\n",
    "\n",
    "# train_set, val_set, test_set = generate_datasets(N_splits=random_samples(total_folds=10, random_seed=0), fold_num=0, random_seed=0)\n",
    "# val_set.feature_matrix.shape"
   ]
  },
  {
   "cell_type": "code",
   "execution_count": null,
   "metadata": {},
   "outputs": [],
   "source": [
    "# epoch function : runs an epoch of a model\n",
    "#                 args :\n",
    "#                         model : neural network model\n",
    "#                         optimizer :\n",
    "#                         criterion :\n",
    "#                         is_training : train - true or test - false\n",
    "#                         loader : torch dataset\n",
    "#                 returns :\n",
    "#                         different accuracy score for the dataset of per epoch\n",
    "def epoch(model, optimizer, criterion, is_training, loader):\n",
    "    pred = []\n",
    "    true = []\n",
    "    total_loss = 0.\n",
    "#     print(loader)\n",
    "    for batch_idx, (features, label) in enumerate(loader):\n",
    "        features = torch.autograd.Variable(features.to(DEVICE).float())\n",
    "        label = torch.autograd.Variable(label.to(DEVICE).float())\n",
    "        label = torch.reshape(label, (label.shape[0], 1))\n",
    "        probab = model(features)\n",
    "        if is_training:  \n",
    "#             print(probab.shape, label.shape)\n",
    "            loss = criterion(probab, label)\n",
    "            ## compute gradient and do SGD step \n",
    "            optimizer.zero_grad()\n",
    "            loss.backward()\n",
    "            optimizer.step()\n",
    "            total_loss += loss.item()\n",
    "#             print(batch_idx, ':', loss) \n",
    "        pred += probab.detach().cpu().numpy().tolist()\n",
    "        true += label.detach().cpu().numpy().tolist()\n",
    "    \n",
    "    pred, true, total_loss = np.array(pred).reshape([-1]), np.array(true).reshape([-1]), total_loss\n",
    "    pred_binary = (pred > .5).astype(float)\n",
    "    precision, recall, fscore, support = precision_recall_fscore_support(true, pred_binary)\n",
    "    auroc = roc_auc_score(true, pred)\n",
    "    p, r, thresholds = precision_recall_curve(true, pred)\n",
    "    auprc = auc(r, p)\n",
    "    acc = (pred_binary==true).mean()\n",
    "    \n",
    "    return precision[1], recall[1], fscore[1], support, auroc, auprc, acc, total_loss, pred, pred_binary, true\n",
    "#     return None, None, None, None, None, None, acc, total_loss, pred, pred_binary, true\n",
    "    \n"
   ]
  },
  {
   "cell_type": "markdown",
   "metadata": {},
   "source": [
    "**epoch function for LOOCV**\n",
    "\n",
    "Without precision, recall, ROC, AUC "
   ]
  },
  {
   "cell_type": "code",
   "execution_count": null,
   "metadata": {},
   "outputs": [],
   "source": [
    "def loocv_epoch(model, optimizer, criterion, is_training, loader):\n",
    "    pred = []\n",
    "    true = []\n",
    "    total_loss = 0.\n",
    "#     print(loader)\n",
    "    for batch_idx, (features, label) in enumerate(loader):\n",
    "        features = torch.autograd.Variable(features.to(DEVICE).float())\n",
    "        label = torch.autograd.Variable(label.to(DEVICE).float())\n",
    "        label = torch.reshape(label, (label.shape[0], 1))\n",
    "        probab = model(features)\n",
    "        if is_training:  \n",
    "#             print(probab.shape, label.shape)\n",
    "            loss = criterion(probab, label)\n",
    "            ## compute gradient and do SGD step \n",
    "            optimizer.zero_grad()\n",
    "            loss.backward()\n",
    "            optimizer.step()\n",
    "            total_loss += loss.item()\n",
    "#             print(batch_idx, ':', loss) \n",
    "        pred += probab.detach().cpu().numpy().tolist()\n",
    "        true += label.detach().cpu().numpy().tolist()\n",
    "    \n",
    "    pred, true, total_loss = np.array(pred).reshape([-1]), np.array(true).reshape([-1]), total_loss\n",
    "    pred_binary = (pred > .5).astype(float)\n",
    "#     precision, recall, fscore, support = precision_recall_fscore_support(true, pred_binary)\n",
    "#     auroc = roc_auc_score(true, pred)\n",
    "#     p, r, thresholds = precision_recall_curve(true, pred)\n",
    "#     auprc = auc(r, p)\n",
    "    acc = (pred_binary==true).mean()\n",
    "    \n",
    "#     return precision[1], recall[1], fscore[1], support, auroc, auprc, acc, total_loss, pred, pred_binary, true\n",
    "    return None, None, None, None, None, None, acc, total_loss, pred, pred_binary, true\n",
    "    "
   ]
  },
  {
   "cell_type": "markdown",
   "metadata": {},
   "source": [
    "# usable_samples_ADNI "
   ]
  },
  {
   "cell_type": "code",
   "execution_count": null,
   "metadata": {},
   "outputs": [],
   "source": [
    "# usable_indices : take indices from usable_samples_ADNI which are in Final_Samples\n",
    "# usable_features : take the part of feature matrix with usable_indices( rows )\n",
    "#                   and feature_indices_to_consider ( columns )\n",
    "\n",
    "print(len(Final_Samples))\n",
    "usable_indices = [( usable_samples_ADNI[Final_Samples[i][0]] if ( Final_Samples[i][0] in usable_samples_ADNI.keys() ) else None ) for i in range(len(Final_Samples))]\n",
    "print(len(usable_indices))\n",
    "# print(usable_indices)\n",
    "usable_features = FEATURE_MATRIX[usable_indices][:, feature_indices_to_consider]\n",
    "print(\"Shape of usable features : \", usable_features.shape)\n"
   ]
  },
  {
   "cell_type": "markdown",
   "metadata": {},
   "source": [
    "# Removing age values with 0"
   ]
  },
  {
   "cell_type": "code",
   "execution_count": null,
   "metadata": {},
   "outputs": [],
   "source": [
    "# removing age with value 0\n",
    "#--------------------------------------------------------------------------------\n",
    "age_zero = 0\n",
    "age_zero_idx = []\n",
    "for i in range(len(usable_features)):\n",
    "    if usable_features[i, -1] == 0.00:\n",
    "        age_zero += 1\n",
    "        age_zero_idx.append(i)\n",
    "print(len(age_zero_idx))\n",
    "print(usable_features.shape, len( Final_Samples ) )\n",
    "usable_features = np.delete(usable_features, age_zero_idx, axis = 0)\n",
    "Final_Samples = np.delete(Final_Samples, age_zero_idx, axis = 0)\n",
    "print(usable_features.shape, len( Final_Samples ) )\n",
    "print(Final_Samples[0])\n",
    "#--------------------------------------------------------------------------------"
   ]
  },
  {
   "cell_type": "markdown",
   "metadata": {},
   "source": [
    "# usable_labels : output"
   ]
  },
  {
   "cell_type": "code",
   "execution_count": null,
   "metadata": {},
   "outputs": [],
   "source": [
    "usable_labels = np.array([float(Final_Samples[i][1]) for i in range(len(Final_Samples))])\n",
    "print(\"Length of usable labels : \", len(usable_labels))"
   ]
  },
  {
   "cell_type": "markdown",
   "metadata": {},
   "source": [
    "# Read all traits from json file "
   ]
  },
  {
   "cell_type": "code",
   "execution_count": null,
   "metadata": {},
   "outputs": [],
   "source": [
    "all_traits = json.load(open('traits_map.json', 'r'))\n",
    "# print(all_traits)\n",
    "GWAS_IDS = list(all_traits)\n",
    "# print(GWAS_IDS)\n",
    "traits = [all_traits[x] for x in all_traits]\n",
    "print(traits)"
   ]
  },
  {
   "cell_type": "markdown",
   "metadata": {},
   "source": [
    "# Get traits corresponding to features"
   ]
  },
  {
   "cell_type": "code",
   "execution_count": null,
   "metadata": {},
   "outputs": [],
   "source": [
    "print(PRS_orig_feature_matrix.shape[1])\n",
    "# print(feature_indices_to_consider)\n",
    "\n",
    "print(len(traits))\n",
    "print(feature_indices_to_consider)\n",
    "\n",
    "# check if age and gender is included\n",
    "# if they are included, their index will be larger than the original feature matrix\n",
    "if any(y >PRS_orig_feature_matrix.shape[1] for y in feature_indices_to_consider):\n",
    "    features = feature_indices_to_consider.copy()\n",
    "    age_include = False\n",
    "    gender_include = False\n",
    "    print(features[-2])\n",
    "    if(features[-2] == PRS_orig_feature_matrix.shape[1] + 10):\n",
    "        print(\"gender_include\")\n",
    "        features.pop(-2)\n",
    "        gender_include = True\n",
    "    print(features[-1])\n",
    "    if(features[-1] == PRS_orig_feature_matrix.shape[1] + 11):\n",
    "        print(\"age include\")\n",
    "        features.pop(-1)\n",
    "        age_include = True\n",
    "    \n",
    "    print(features)\n",
    "    traits = [ traits[i] for i in features]\n",
    "    if gender_include == True:\n",
    "        traits.append(\"gender\")\n",
    "    if age_include == True:\n",
    "        traits.append(\"age\")\n",
    "    \n",
    "#     traits.append(\"output prediction\")\n",
    "#     traits.append(\"age\")\n",
    "#     traits.append(\"gender\")\n",
    "else:\n",
    "    # not included - age, gender\n",
    "    traits = [ traits[i] for i in feature_indices_to_consider]\n",
    "print(traits)\n"
   ]
  },
  {
   "cell_type": "markdown",
   "metadata": {},
   "source": [
    "# Panda dataframe conversion"
   ]
  },
  {
   "cell_type": "code",
   "execution_count": null,
   "metadata": {},
   "outputs": [],
   "source": [
    "total_features = np.c_[ usable_features, usable_labels ]\n",
    "# print(total_features.shape)\n",
    "# print(num_features)\n",
    "# column_list = list(range(num_features)) + [last_idx - 1, last_idx - 2, num_features ] \n",
    "column_list = feature_indices_to_consider + [num_features]\n",
    "# print( column_list )\n",
    "\n",
    "df = pd.DataFrame(total_features, columns = column_list )\n",
    "\n",
    "# turn column names to strings\n",
    "# df.columns = df.columns.astype(str)\n",
    "\n",
    "# assign traits as column names\n",
    "column_names = traits.copy()\n",
    "column_names.append('output')\n",
    "df.columns = column_names\n",
    "# print( df.columns )\n",
    "\n",
    "# dropping last / output column in df\n",
    "df_X = df.iloc[: , :-1]\n",
    "# taking the output column of df\n",
    "df_Y = df.iloc[: , -1]\n",
    "\n",
    "print( df.head() )\n",
    "# print( df_X.head() )\n",
    "# print( df_Y.head() )\n",
    "\n"
   ]
  },
  {
   "cell_type": "markdown",
   "metadata": {},
   "source": [
    "# Get equal amount of positive & negative data"
   ]
  },
  {
   "cell_type": "code",
   "execution_count": null,
   "metadata": {},
   "outputs": [],
   "source": [
    "print( df['output'].value_counts() )\n",
    "\n",
    "ones = df[df['output'] == 1]\n",
    "zeros = df[df['output'] == 0]\n",
    "min_len = min( len(ones), len(zeros) ) \n",
    "\n",
    "ones = ones.iloc[:min_len, :]\n",
    "zeros = zeros.iloc[:min_len, :]\n",
    "\n",
    "df = ones.append(zeros, ignore_index=True)\n",
    "print(df.shape)"
   ]
  },
  {
   "cell_type": "markdown",
   "metadata": {},
   "source": [
    "# SMOTE Analysis to oversample data\n",
    "\n",
    "https://towardsdatascience.com/smote-synthetic-data-augmentation-for-tabular-data-1ce28090debc#:~:text=SMOTE%20is%20an%20over%2Dsampling,its%20%E2%80%9Ck%E2%80%9D%20nearest%20neighbors."
   ]
  },
  {
   "cell_type": "code",
   "execution_count": null,
   "metadata": {},
   "outputs": [],
   "source": [
    "\n",
    "def smote(x, y):\n",
    "    # Synthetic Minority Over-samping Technique\n",
    "    # \n",
    "    # sampling_strategy: determines the portion of samples to \n",
    "    #                    generate with respect to the majority class\n",
    "    # k_neighbors : number of neighbors to be considered for each sample\n",
    "    \n",
    "    # For this example, only 1% of minoirty samples are considered\n",
    "    k_neighbors = math.ceil(sum(y) * 0.01)\n",
    "      \n",
    "    smote = SMOTE(sampling_strategy=1, \n",
    "                  k_neighbors=k_neighbors)\n",
    "    x, y = smote.fit_resample(x, y)\n",
    "    \n",
    "    return x, y\n",
    "    \n",
    "def bordersmote(x, y):\n",
    "    # Borderline-SMOTE\n",
    "    # \n",
    "    # sampling_strategy: determines the portion of samples to \n",
    "    #                    generate with respect to the majority class\n",
    "    # k_neighbors : number of neighbors to be considered for each sample\n",
    "    # m_neighbors : number of neighbors to consider to determine if a sample is danger\n",
    "    \n",
    "    # For this example, only 1% of minoirty samples are considered\n",
    "    k_neighbors = math.ceil(sum(y) * 0.01)\n",
    "    m_neighbors = math.ceil(sum(y) * 0.01)\n",
    "    \n",
    "    bordersmote = BorderlineSMOTE(sampling_strategy=1, \n",
    "                                  k_neighbors=k_neighbors, \n",
    "                                  m_neighbors=m_neighbors)\n",
    "    \n",
    "    x, y = bordersmote.fit_resample(x, y)\n",
    "    \n",
    "    return x, y\n",
    "    \n",
    "def adasyn(x, y):\n",
    "    # Adaptive Synthetic\n",
    "    # \n",
    "    # sampling_strategy: determines the portion of samples to \n",
    "    #                    generate with respect to the majority class\n",
    "    # n_neighbors : number of neighbors to be considered for each sample\n",
    "    \n",
    "    # For this example, only 1% of minoirty samples are considered\n",
    "    n_neighbors = math.ceil(sum(y) * 0.01)\n",
    "    \n",
    "    adasyn = ADASYN(sampling_strategy=1,\n",
    "                   n_neighbors=n_neighbors)\n",
    "    x, y = adasyn.fit_resample(x, y)\n",
    "\n",
    "    return x, y"
   ]
  },
  {
   "cell_type": "code",
   "execution_count": null,
   "metadata": {},
   "outputs": [],
   "source": [
    "# # dropping last / output column in df\n",
    "# shuffled_X = shuffled.iloc[: , :-1]\n",
    "# # taking the output column of df\n",
    "# shuffled_Y = shuffled.iloc[: , -1]\n",
    "# print(df.shape)\n",
    "# df_X_new, df_Y_new = bordersmote(df_X, df_Y)\n",
    "# print( df_X_new.shape, df_Y_new.shape )\n",
    "\n",
    "# df = df_X_new\n",
    "# df['output'] = df_Y_new\n",
    "# print(df.shape)\n"
   ]
  },
  {
   "cell_type": "code",
   "execution_count": null,
   "metadata": {},
   "outputs": [],
   "source": [
    "print( df['output'].value_counts() )\n",
    "print(df.head())\n",
    "\n",
    "# ones = df[df['output'] == 1]\n",
    "# zeros = df[df['output'] == 0]\n",
    "# min_len = min( len(ones), len(zeros) ) \n",
    "\n",
    "# ones = ones.iloc[:min_len, :]\n",
    "# zeros = zeros.iloc[:min_len, :]\n",
    "\n",
    "# df = ones.append(zeros, ignore_index=True)\n",
    "# print(df.shape)"
   ]
  },
  {
   "cell_type": "markdown",
   "metadata": {},
   "source": [
    "# Shuffling dataframe\n",
    "\n",
    "**Dropping alcohol recommended columns**"
   ]
  },
  {
   "cell_type": "code",
   "execution_count": null,
   "metadata": {},
   "outputs": [],
   "source": [
    "# # keep the index same\n",
    "# shuffled = df.sample(frac=1)\n",
    "# print( shuffled.head() )\n",
    "\n",
    "# reset the index\n",
    "shuffled = df.sample(frac=1, random_state = 1).reset_index()\n",
    "# print(shuffled.columns)\n",
    "shuffled = shuffled.drop( ['index'], axis = 1 )\n",
    "\n",
    "\n",
    "# #  dropping alcohol recommended columns\n",
    "# shuffled = shuffled.drop(['Ever had known person concerned about, or recommend reduction of, alcohol consumption: No', 'Ever had known person concerned about, or recommend reduction of, alcohol consumption: Yes, but not in the last year', 'Ever had known person concerned about, or recommend reduction of, alcohol consumption: Yes, during the last year'], axis = 1)\n",
    "# shuffled = shuffled.drop(['Non-cancer illness code, self-reported: anxiety/panic attacks', 'Sleeplessness / insomnia', 'Non-cancer illness code, self-reported: type 2 diabetes', \"Illnesses of father: Alzheimer's disease/dementia\", \"Illnesses of mother: Alzheimer's disease/dementia\", \"Alcohol intake frequency\", 'Other meat intake' ], axis = 1)\n",
    "\n",
    "print( shuffled.head() )\n",
    "\n"
   ]
  },
  {
   "cell_type": "code",
   "execution_count": null,
   "metadata": {},
   "outputs": [],
   "source": [
    "usable_features = torch.autograd.Variable(torch.from_numpy(usable_features)).to(DEVICE).float()\n",
    "\n",
    "print(\"Usable Features : \", usable_features[:2])\n",
    "\n",
    "print(usable_features.shape)"
   ]
  },
  {
   "cell_type": "markdown",
   "metadata": {},
   "source": [
    "# Combining Illness of Father & Mother having Alzheimer\n",
    "\n",
    "Previously data showed a negative correlation with both of these factors, which shouldn't be. We will now try to combine both risk scores by averaging it and use is as a new feature, descarding the previous two. This new feature will represent the risk score of a parent having Alzheimer."
   ]
  },
  {
   "cell_type": "code",
   "execution_count": null,
   "metadata": {},
   "outputs": [],
   "source": [
    "# shuffled['Parent having Alzheimer'] = shuffled[[\"Illnesses of father: Alzheimer's disease/dementia\", \"Illnesses of mother: Alzheimer's disease/dementia\"]].max(axis=1)\n",
    "# shuffled[[\"Illnesses of father: Alzheimer's disease/dementia\", \"Illnesses of mother: Alzheimer's disease/dementia\", \"Parent having Alzheimer\"]].head()"
   ]
  },
  {
   "cell_type": "code",
   "execution_count": null,
   "metadata": {},
   "outputs": [],
   "source": [
    "# shuffled = shuffled.drop(['Illnesses of mother: Alzheimer\\'s disease/dementia', 'Illnesses of father: Alzheimer\\'s disease/dementia'], axis = 1 )\n",
    "# print( shuffled.head() )"
   ]
  },
  {
   "cell_type": "code",
   "execution_count": null,
   "metadata": {},
   "outputs": [],
   "source": [
    "# index=shuffled.columns.get_loc(\"output\")\n",
    "# temp_cols = shuffled.columns.tolist()\n",
    "# print(index)\n",
    "# new_cols= temp_cols[0 : index] + temp_cols[index+1 : ] + temp_cols[index : index + 1 ]\n",
    "# shuffled = shuffled[new_cols]\n",
    "# print( shuffled.head() )"
   ]
  },
  {
   "cell_type": "markdown",
   "metadata": {},
   "source": [
    "# X, Y differentiate"
   ]
  },
  {
   "cell_type": "code",
   "execution_count": null,
   "metadata": {},
   "outputs": [],
   "source": [
    "# dropping last / output column in df\n",
    "shuffled_X = shuffled.iloc[: , :-1]\n",
    "# taking the output column of df\n",
    "shuffled_Y = shuffled.iloc[: , -1]"
   ]
  },
  {
   "cell_type": "markdown",
   "metadata": {},
   "source": [
    "# Feature Analysis"
   ]
  },
  {
   "cell_type": "code",
   "execution_count": null,
   "metadata": {},
   "outputs": [],
   "source": [
    "# print(df.head())\n",
    "column_list = shuffled.columns\n",
    "for i in column_list:\n",
    "    print(i)\n",
    "    shuffled[i].plot(kind=\"hist\")\n",
    "    plt.show()"
   ]
  },
  {
   "cell_type": "markdown",
   "metadata": {},
   "source": [
    "**check distribution for positive and negative output with parents' Alzheimer PRS**"
   ]
  },
  {
   "cell_type": "code",
   "execution_count": null,
   "metadata": {},
   "outputs": [],
   "source": [
    "cols_to_check = [\"Illnesses of father: Alzheimer's disease/dementia\", \"Illnesses of mother: Alzheimer's disease/dementia\"]\n",
    "shuffled_neg = shuffled[shuffled['output'] == 0]\n",
    "\n",
    "\n",
    "print('negative PRS values for negative output among ', shuffled_neg.shape[0], \" samples\")\n",
    "print( shuffled_neg[cols_to_check].lt(0).sum() )\n",
    "\n",
    "for i in cols_to_check:\n",
    "    print(i)\n",
    "    shuffled_neg[i].plot(kind=\"hist\")\n",
    "    plt.show()"
   ]
  },
  {
   "cell_type": "code",
   "execution_count": null,
   "metadata": {},
   "outputs": [],
   "source": [
    "cols_to_check = [\"Illnesses of father: Alzheimer's disease/dementia\", \"Illnesses of mother: Alzheimer's disease/dementia\"]\n",
    "shuffled_pos = shuffled[shuffled['output'] == 1]\n",
    "\n",
    "\n",
    "print('negative PRS values for positive output among ', shuffled_pos.shape[0], \" samples\")\n",
    "print( shuffled_pos[cols_to_check].lt(0).sum() )\n",
    "\n",
    "for i in cols_to_check:\n",
    "    print(i)\n",
    "    shuffled_pos[i].plot(kind=\"hist\")\n",
    "    plt.show()"
   ]
  },
  {
   "cell_type": "markdown",
   "metadata": {},
   "source": [
    "# Feature Selection\n",
    "https://www.analyticsvidhya.com/blog/2020/10/feature-selection-techniques-in-machine-learning/"
   ]
  },
  {
   "cell_type": "code",
   "execution_count": null,
   "metadata": {},
   "outputs": [],
   "source": [
    "selected_features = []"
   ]
  },
  {
   "cell_type": "markdown",
   "metadata": {},
   "source": [
    "# Filter methods\n",
    "Filter methods pick up the intrinsic properties of the features measured via univariate statistics instead of cross-validation performance. These methods are faster and less computationally expensive than wrapper methods. When dealing with high-dimensional data, it is computationally cheaper to use filter methods."
   ]
  },
  {
   "cell_type": "markdown",
   "metadata": {},
   "source": [
    "**Information Gain**\n",
    "\n",
    "Information gain calculates the reduction in entropy from the transformation of a dataset. It can be used for feature selection by evaluating the Information gain of each variable in the context of the target variable."
   ]
  },
  {
   "cell_type": "code",
   "execution_count": null,
   "metadata": {},
   "outputs": [],
   "source": [
    "from sklearn.feature_selection import mutual_info_classif\n",
    "import matplotlib.pyplot as plt\n",
    "%matplotlib inline\n",
    "from matplotlib.pyplot import figure\n",
    "\n",
    "figure(figsize=(20, 20), dpi=100)\n",
    "\n",
    "importances = mutual_info_classif(shuffled_X, shuffled_Y)\n",
    "feat_importances = pd.Series(importances, shuffled.columns[ 0:len(shuffled.columns) - 1 ] )\n",
    "important_features = []\n",
    "count = 0\n",
    "for elem in feat_importances:\n",
    "    if elem > 0.05:\n",
    "        important_features.append(shuffled.columns[count])\n",
    "    count += 1\n",
    "print(important_features)\n",
    "\n",
    "selected_features += important_features\n",
    "# print(selected_features)\n",
    "\n",
    "feat_importances.plot( kind = 'barh', color = 'teal' )\n",
    "plt.show()"
   ]
  },
  {
   "cell_type": "markdown",
   "metadata": {},
   "source": [
    "**Correlation Coefficient**\n"
   ]
  },
  {
   "cell_type": "code",
   "execution_count": null,
   "metadata": {},
   "outputs": [],
   "source": [
    "fig, ax = plt.subplots(figsize=(20,20))         # Sample figsize in inches\n",
    "corr = shuffled.corr()\n",
    "sns.heatmap( corr )"
   ]
  },
  {
   "cell_type": "code",
   "execution_count": null,
   "metadata": {},
   "outputs": [],
   "source": [
    "print(corr)"
   ]
  },
  {
   "cell_type": "markdown",
   "metadata": {},
   "source": [
    "**Still Alzheimer of parents show negative correlation:**\n",
    "    1. Lack of Diagnosis for parents.\n",
    "    2. Less patients overall earlier.\n",
    "    3. Lack of such patients in this dataset"
   ]
  },
  {
   "cell_type": "code",
   "execution_count": null,
   "metadata": {},
   "outputs": [],
   "source": [
    "print(corr.iloc[0][0])\n",
    "features_selected = []\n",
    "column_len = len( shuffled.columns )\n",
    "output_idx = column_len - 1\n",
    "\n",
    "for i in range( column_len ): \n",
    "    if (corr.iloc[i][output_idx] > 0.1 ) and i != output_idx :\n",
    "        features_selected.append(shuffled.columns[i])\n",
    "print(features_selected)\n",
    "\n",
    "selected_features += features_selected"
   ]
  },
  {
   "cell_type": "markdown",
   "metadata": {},
   "source": [
    "**Variance Threshold**\n",
    "\n",
    "The variance threshold is a simple baseline approach to feature selection. It removes all features which variance doesn’t meet some threshold. By default, it removes all zero-variance features, i.e., features that have the same value in all samples. We assume that features with a higher variance may contain more useful information, but note that we are not taking the relationship between feature variables or feature and target variables into account, which is one of the drawbacks of filter methods."
   ]
  },
  {
   "cell_type": "code",
   "execution_count": null,
   "metadata": {},
   "outputs": [],
   "source": [
    "from sklearn.feature_selection import VarianceThreshold\n",
    "\n",
    "# remove features with variance less than 0.1\n",
    "v_threshold = VarianceThreshold( threshold = 0.1 )\n",
    "v_threshold.fit(shuffled_X)\n",
    "print( v_threshold.get_support() )\n",
    "rejected_col = [x for x, y in zip(shuffled_X.columns, v_threshold.get_support() ) if y == False]\n",
    "print(rejected_col)"
   ]
  },
  {
   "cell_type": "markdown",
   "metadata": {},
   "source": [
    "Makes sense as most of the age is very high for AD patients. No need to reject the \"age\" column"
   ]
  },
  {
   "cell_type": "markdown",
   "metadata": {},
   "source": [
    "**Mean Absolute Difference (MAD)**\n",
    "\n",
    "The mean absolute difference (MAD) computes the absolute difference from the mean value. The main difference between the variance and MAD measures is the absence of the square in the latter. The MAD, like the variance, is also a scale variant.’ This means that higher the MAD, higher the discriminatory power."
   ]
  },
  {
   "cell_type": "code",
   "execution_count": null,
   "metadata": {},
   "outputs": [],
   "source": [
    "mean_abs_diff = np.sum( np.abs( shuffled_X - np.mean(shuffled_X, axis = 0 ) ), axis = 0 ) / shuffled_X.shape[0]\n",
    "\n",
    "plt.bar( np.arange( shuffled_X.shape[1] ), mean_abs_diff, color = 'teal' )"
   ]
  },
  {
   "cell_type": "markdown",
   "metadata": {},
   "source": [
    "# Wrapper Methods\n",
    "\n",
    "Wrappers require some method to search the space of all possible subsets of features, assessing their quality by learning and evaluating a classifier with that feature subset. The feature selection process is based on a specific machine learning algorithm that we are trying to fit on a given dataset. It follows a greedy search approach by evaluating all the possible combinations of features against the evaluation criterion. The wrapper methods usually result in better predictive accuracy than filter methods."
   ]
  },
  {
   "cell_type": "markdown",
   "metadata": {},
   "source": [
    "**Forward Feature Selection**\n",
    "\n",
    "http://rasbt.github.io/mlxtend/user_guide/feature_selection/SequentialFeatureSelector/\n",
    "\n",
    "https://scikit-learn.org/stable/modules/generated/sklearn.feature_selection.SequentialFeatureSelector.html\n",
    "\n",
    "This is an iterative method wherein we start with the best performing variable against the target. Next, we select another variable that gives the best performance in combination with the first selected variable. This process continues until the preset criterion is achieved."
   ]
  },
  {
   "cell_type": "code",
   "execution_count": null,
   "metadata": {},
   "outputs": [],
   "source": [
    "from mlxtend.feature_selection import SequentialFeatureSelector\n",
    "\n",
    "from sklearn.ensemble import RandomForestClassifier\n",
    "rfc = RandomForestClassifier()\n",
    "rfc.fit(shuffled_X, shuffled_Y)\n",
    "\n",
    "ffs = SequentialFeatureSelector( rfc, k_features = 'best', forward = True, n_jobs = -1 )\n",
    "ffs.fit(shuffled_X, shuffled_Y)\n",
    "features = list( ffs.k_feature_names_ )\n",
    "print(features)\n",
    "print( len( features ) )\n",
    "\n",
    "selected_features += features\n",
    "# print(selected_features)"
   ]
  },
  {
   "cell_type": "markdown",
   "metadata": {},
   "source": [
    "**Backward Feature Elimination**\n",
    "\n",
    "This method works exactly opposite to the Forward Feature Selection method. Here, we start with all the features available and build a model. Next, we remove the variable from the model which gives the best evaluation measure value. This process is continued until the preset criterion is achieved."
   ]
  },
  {
   "cell_type": "code",
   "execution_count": null,
   "metadata": {},
   "outputs": [],
   "source": [
    "from sklearn.linear_model import LogisticRegression\n",
    "from mlxtend.feature_selection import SequentialFeatureSelector\n",
    "\n",
    "lr = LogisticRegression( class_weight = 'balanced', solver = 'lbfgs', random_state = 42, n_jobs = -1, max_iter = 500 )\n",
    "lr.fit(shuffled_X, shuffled_Y)\n",
    "\n",
    "bfs = SequentialFeatureSelector( lr, k_features = 'best', forward = False, n_jobs = -1 )\n",
    "bfs.fit(shuffled_X, shuffled_Y)\n",
    "features = list( bfs.k_feature_names_ )\n",
    "print(features)\n",
    "print( len( features ) )\n",
    "\n",
    "selected_features += features\n",
    "# print(selected_features)"
   ]
  },
  {
   "cell_type": "markdown",
   "metadata": {},
   "source": [
    "**Exhaustive Feature Selection**\n",
    "\n",
    "This is the most robust feature selection method covered so far. This is a brute-force evaluation of each feature subset. This means that it tries every possible combination of the variables and returns the best performing subset."
   ]
  },
  {
   "cell_type": "code",
   "execution_count": null,
   "metadata": {},
   "outputs": [],
   "source": [
    "# from mlxtend.feature_selection import ExhaustiveFeatureSelector\n",
    "\n",
    "# from sklearn.ensemble import RandomForestClassifier\n",
    "\n",
    "# efs = ExhaustiveFeatureSelector( RandomForestClassifier(), min_features = 8, max_features = 10, scoring = 'roc_auc', cv = 2)\n",
    "# efs.fit(shuffled_X, shuffled_Y)\n",
    "\n",
    "# selected_features = shuffled_X.columns[list(efs.best_idx_)]\n",
    "# print(selected_features)\n",
    "\n",
    "# print(efs.best_score_)"
   ]
  },
  {
   "cell_type": "markdown",
   "metadata": {},
   "source": [
    "**Recursive Feature Elimination**\n",
    "\n",
    "‘Given an external estimator that assigns weights to features (e.g., the coefficients of a linear model), the goal of recursive feature elimination (RFE) is to select features by recursively considering smaller and smaller sets of features. First, the estimator is trained on the initial set of features and the importance of each feature is obtained either through a coef_ attribute or through a feature_importances_ attribute.\n",
    "\n",
    "Then, the least important features are pruned from the current set of features. That procedure is recursively repeated on the pruned set until the desired number of features to select is eventually reached.’"
   ]
  },
  {
   "cell_type": "code",
   "execution_count": null,
   "metadata": {},
   "outputs": [],
   "source": [
    "from sklearn.feature_selection import RFE\n",
    "# here lr denotes the logistic regression model trained on backward elimination\n",
    "rfe = RFE(lr, n_features_to_select = 10)\n",
    "rfe.fit(shuffled_X, shuffled_Y)\n",
    "selected_col = [ x for x, y in zip(shuffled_X.columns, rfe.support_ )  if y == True ]\n",
    "print(selected_col)\n",
    "print( len (selected_col ) )\n",
    "print(rfe.ranking_)\n",
    "\n",
    "selected_features += selected_col \n",
    "# print(selected_features)"
   ]
  },
  {
   "cell_type": "markdown",
   "metadata": {},
   "source": [
    "# Embedded Methods\n",
    "\n",
    "These methods encompass the benefits of both the wrapper and filter methods, by including interactions of features but also maintaining reasonable computational cost. Embedded methods are iterative in the sense that takes care of each iteration of the model training process and carefully extracts those features which contribute the most to the training for a particular iteration."
   ]
  },
  {
   "cell_type": "markdown",
   "metadata": {},
   "source": [
    "**LASSO Regularization (L1)**\n",
    "\n",
    "Regularization consists of adding a penalty to the different parameters of the machine learning model to reduce the freedom of the model, i.e. to avoid over-fitting. In linear model regularization, the penalty is applied over the coefficients that multiply each of the predictors. From the different types of regularization, Lasso or L1 has the property that is able to shrink some of the coefficients to zero. Therefore, that feature can be removed from the model."
   ]
  },
  {
   "cell_type": "code",
   "execution_count": null,
   "metadata": {},
   "outputs": [],
   "source": [
    "from sklearn.linear_model import LogisticRegression\n",
    "from sklearn.feature_selection import SelectFromModel\n",
    "\n",
    "logistic = LogisticRegression( C = 1, penalty = \"l1\", solver = 'liblinear', random_state = 7 ).fit(shuffled_X, shuffled_Y )\n",
    "\n",
    "model = SelectFromModel(logistic, prefit = True )\n",
    "\n",
    "X_new = model.transform(shuffled_X)\n",
    "\n",
    "selected_feat = shuffled_X.columns[(model.get_support())]\n",
    "print(selected_feat)\n",
    "print( len( selected_feat ) )\n",
    "# selected_columns = shuffled_X.columns[X_new.var() != 0 ]\n",
    "# print(selected_columns)\n",
    "# print( len(selected_columns[0] ) )\n",
    "# print(type(selected_feat))\n",
    "# print( selected_feat.tolist() )\n",
    "selected_features += selected_feat.tolist()\n",
    "\n",
    "# print(selected_features)"
   ]
  },
  {
   "cell_type": "markdown",
   "metadata": {},
   "source": [
    "**Random Forest Importance**\n",
    "\n",
    "Random Forests is a kind of a Bagging Algorithm that aggregates a specified number of decision trees. The tree-based strategies used by random forests naturally rank by how well they improve the purity of the node, or in other words a decrease in the impurity (Gini impurity) over all trees. Nodes with the greatest decrease in impurity happen at the start of the trees, while notes with the least decrease in impurity occur at the end of trees. Thus, by pruning trees below a particular node, we can create a subset of the most important features."
   ]
  },
  {
   "cell_type": "code",
   "execution_count": null,
   "metadata": {},
   "outputs": [],
   "source": [
    "from sklearn.ensemble import RandomForestClassifier\n",
    "\n",
    "model = RandomForestClassifier( n_estimators = 340 )\n",
    "\n",
    "model.fit(shuffled_X, shuffled_Y)\n",
    "\n",
    "importances = model.feature_importances_\n",
    "\n",
    "final_df = pd.DataFrame({\"Features\" : pd.DataFrame(shuffled_X).columns, \"Importances\" : importances } )\n",
    "final_df.set_index('Importances')\n",
    "\n",
    "final_df = final_df.sort_values('Importances')\n",
    "final_df.plot.bar(color = 'teal')"
   ]
  },
  {
   "cell_type": "code",
   "execution_count": null,
   "metadata": {},
   "outputs": [],
   "source": [
    "# print(type( final_df ) )\n",
    "# print(final_df.columns)\n",
    "# print(final_df['Features'].iloc[-10:])\n",
    "important_cols = []\n",
    "important_cols = final_df['Features'].iloc[-10:].values.tolist()\n",
    "print(important_cols)\n",
    "\n",
    "selected_features += important_cols"
   ]
  },
  {
   "cell_type": "markdown",
   "metadata": {},
   "source": [
    "# Select features based on all methods\n",
    "\n",
    "https://www.digitalocean.com/community/tutorials/python-counter-python-collections-counter"
   ]
  },
  {
   "cell_type": "code",
   "execution_count": null,
   "metadata": {},
   "outputs": [],
   "source": [
    "from collections import Counter\n",
    "# print(selected_features)\n",
    "c = Counter( selected_features )\n",
    "# print( c )\n",
    "# print( c.most_common(20) )\n",
    "most_common = c.most_common(15)\n",
    "print( most_common )\n",
    "selected_col = list( list(zip(*most_common))[0] )\n",
    "print(selected_col)"
   ]
  },
  {
   "cell_type": "markdown",
   "metadata": {},
   "source": [
    "# Drop extra features from Shuffled Dataframe"
   ]
  },
  {
   "cell_type": "markdown",
   "metadata": {},
   "source": [
    "# Literature Review select features\n",
    "\n",
    "Features related to : \n",
    "**Alcohol Consumption,\n",
    "Hearing Problem,\n",
    "Smoking / Cigarettes,\n",
    "Cholesterol,\n",
    "Blood Pressure,\n",
    "Meat,\n",
    "Depression,\n",
    "Insomnia /  Sleep Schedule,\n",
    "Education,\n",
    "Hypertension,\n",
    "Physical Inactivity,\n",
    "Brain Injury,\n",
    "Father / Mother,\n",
    "Obesity,\n",
    "Diabetes,\n",
    "Age**\n",
    "\n",
    "\n",
    "'Non-cancer illness code, self-reported: type 2 diabetes'\n",
    "'Total cholesterol', 'HDL cholesterol', 'LDL cholesterol'\n",
    "'Cigarettes per Day', 'systolic blood pressure', 'diastolic blood pressure'\n",
    "'Hearing difficulty/problems: Yes', 'Non-cancer illness code, self-reported: depression’\n",
    "'Hearing difficulty/problems with background noise'\n",
    "'Sleeplessness / insomnia', 'Sleep duration', 'Age completed full time education'\n",
    "'Types of physical activity in last 4 weeks: Strenuous sports', 'Other meat intake', 'Loneliness, isolation', \"Illnesses of father: Alzheimer's disease/dementia\", \"Illnesses of mother: Alzheimer's disease/dementia\", 'Mood swings'\n",
    "'Non-cancer illness code, self-reported: hypertension'\n",
    "'Diagnoses - secondary ICD10: I10 Essential (primary) hypertension'\n",
    "'Non-cancer illness code, self-reported: head injury', 'Alcohol intake frequency', 'Diagnoses - secondary ICD10: E66.9 Obesity, unspecified’\n"
   ]
  },
  {
   "cell_type": "code",
   "execution_count": null,
   "metadata": {},
   "outputs": [],
   "source": [
    "# selected_col = ['Non-cancer illness code, self-reported: type 2 diabetes', 'Total cholesterol', 'HDL cholesterol', 'LDL cholesterol', \n",
    "# 'Cigarettes per Day', 'systolic blood pressure', 'diastolic blood pressure',\n",
    "# 'Hearing difficulty/problems: Yes', 'Non-cancer illness code, self-reported: depression',\n",
    "# 'Hearing difficulty/problems with background noise',\n",
    "# 'Sleeplessness / insomnia', 'Sleep duration', 'Age completed full time education',\n",
    "# 'Types of physical activity in last 4 weeks: Strenuous sports', 'Other meat intake', 'Loneliness, isolation', \"Illnesses of father: Alzheimer's disease/dementia\", \"Illnesses of mother: Alzheimer's disease/dementia\", 'Mood swings',\n",
    "# 'Non-cancer illness code, self-reported: hypertension',\n",
    "# 'Diagnoses - secondary ICD10: I10 Essential (primary) hypertension',\n",
    "# 'Non-cancer illness code, self-reported: head injury', 'Alcohol intake frequency', 'Diagnoses - secondary ICD10: E66.9 Obesity, unspecified', 'age']"
   ]
  },
  {
   "cell_type": "code",
   "execution_count": null,
   "metadata": {},
   "outputs": [],
   "source": [
    "selected_col += ['output']\n",
    "shuffled = shuffled[selected_col]\n",
    "\n",
    "print( shuffled.shape )\n",
    "print( shuffled.head() )\n",
    "\n",
    "# dropping last / output column in df\n",
    "shuffled_X = shuffled.iloc[: , :-1]"
   ]
  },
  {
   "cell_type": "markdown",
   "metadata": {},
   "source": [
    "# LOOCV"
   ]
  },
  {
   "cell_type": "markdown",
   "metadata": {},
   "source": [
    "**Random Forest Classifier with LOOCV**"
   ]
  },
  {
   "cell_type": "code",
   "execution_count": null,
   "metadata": {},
   "outputs": [],
   "source": [
    "# from sklearn.model_selection import LeaveOneOut\n",
    "# from sklearn.ensemble import RandomForestClassifier\n",
    "# from sklearn.metrics import accuracy_score\n",
    "\n",
    "# # print(shuffled_X.shape)\n",
    "# # create loocv procedure\n",
    "# cv = LeaveOneOut()\n",
    "# # enumerate splits\n",
    "# y_true, y_pred = list(), list()\n",
    "# for train_ix, test_ix in cv.split(shuffled_X):\n",
    "#     # split data\n",
    "# #     print(train_ix, test_ix)\n",
    "#     X_train, X_test = shuffled_X.iloc[train_ix], shuffled_X.iloc[test_ix]\n",
    "#     y_train, y_test = shuffled_Y.iloc[train_ix], shuffled_Y.iloc[test_ix]\n",
    "#     # fit model\n",
    "#     model = RandomForestClassifier(random_state=1)\n",
    "#     model.fit(X_train, y_train)\n",
    "#     # evaluate model\n",
    "#     yhat = model.predict(X_test)\n",
    "#     # store\n",
    "# #     print(y_test[0], yhat[0])\n",
    "# #  print(len( y_test ), len( yhat ) )\n",
    "#     y_true.append(y_test)\n",
    "#     y_pred.append(yhat)\n",
    "# # calculate accuracy\n",
    "# acc = accuracy_score(y_true, y_pred)\n",
    "# print('Accuracy: %.3f' % acc)"
   ]
  },
  {
   "cell_type": "markdown",
   "metadata": {},
   "source": [
    "**Neural Network Model with LOOCV**\n",
    "\n",
    "Epoch number is reduced to 250"
   ]
  },
  {
   "cell_type": "code",
   "execution_count": null,
   "metadata": {},
   "outputs": [],
   "source": [
    "# from sklearn.model_selection import LeaveOneOut\n",
    "# from sklearn.ensemble import RandomForestClassifier\n",
    "# from sklearn.metrics import accuracy_score\n",
    "\n",
    "# # print(shuffled_X.shape)\n",
    "\n",
    "# avg_val_acc = []\n",
    "# accuracies = []\n",
    "# accuracies_val = []\n",
    "# acc_score = []\n",
    "# total_epochs = 250 #250(ideal)\n",
    "\n",
    "\n",
    "# # create loocv procedure\n",
    "# cv = LeaveOneOut()\n",
    "# # enumerate splits\n",
    "# y_true, y_pred = list(), list()\n",
    "# for train_ix, test_ix in cv.split(shuffled_X):\n",
    "#     # split data\n",
    "# #     print(train_ix, test_ix)\n",
    "#     X_train, X_test = shuffled_X.iloc[train_ix], shuffled_X.iloc[test_ix]\n",
    "#     y_train, y_test = shuffled_Y.iloc[train_ix], shuffled_Y.iloc[test_ix]\n",
    "    \n",
    "#     train_dataset = df_dataSet( X_train, y_train )\n",
    "#     valid_dataset = df_dataSet( X_test, y_test )\n",
    "                \n",
    "#     train_batch_size = train_dataset.__len__()\n",
    "#     val_batch_size = valid_dataset.__len__()\n",
    "                \n",
    "\n",
    "                \n",
    "#     train_loader = torch.utils.data.DataLoader(train_dataset, batch_size = train_batch_size, shuffle = True, num_workers = 0)\n",
    "#     valid_loader = torch.utils.data.DataLoader(valid_dataset, batch_size = val_batch_size, shuffle = False, num_workers = 0)\n",
    "\n",
    "#     model = simple_model(num_features = shuffled_X.shape[1], hidden_dim = hidden_dimension)\n",
    "#     model = model.to(DEVICE)\n",
    "#     optimizer = torch.optim.Adam(model.parameters(), lr=0.001)\n",
    "#     criterion = torch.nn.BCEWithLogitsLoss() \n",
    "#     best_acc_val = 0.\n",
    "#     model_best = None\n",
    "                \n",
    "#     for epoch_num in range(total_epochs):\n",
    "# #       print(epoch_num)\n",
    "#         model.train()\n",
    "# #       model.drop_probab=.8\n",
    "# #       print(\"model trained\")\n",
    "#         precision, recall, fscore, support, auroc, auprc, acc_train, total_loss, pred, pred_binary, true = loocv_epoch(model=model, optimizer=optimizer, \n",
    "#                                                                                  criterion=criterion, is_training=True, \n",
    "#                                                                                loader=train_loader)\n",
    "# #                     print(\"model validated\")\n",
    "#         model.eval()\n",
    "# #       model.drop_probab=.0\n",
    "#         precision, recall, fscore, support, auroc, auprc, acc_val, total_loss, pred, pred_binary, true = loocv_epoch(model=model, \n",
    "#                                                                                  optimizer=optimizer, \n",
    "#                                                                                  criterion=criterion, is_training=False, \n",
    "#                                                                                 loader=valid_loader)\n",
    "# #       print(\"model kahini done\")\n",
    "#         if acc_val >= best_acc_val:\n",
    "#             best_acc_val = acc_val\n",
    "#             model_best = model.to(DEVICE)\n",
    "\n",
    "#     model_best.eval()\n",
    "#     precision, recall, fscore, support, auroc, auprc, acc_test, total_loss, pred, pred_binary, true = loocv_epoch(model=model_best, \n",
    "#                                                                              optimizer=optimizer, \n",
    "#                                                                              criterion=criterion, is_training=False, \n",
    "#                                                                              loader=valid_loader)\n",
    "#     accuracies += [acc_test]\n",
    "#     accuracies_val += [best_acc_val]\n",
    "    \n",
    "#     if test_ix % 50 == 0:\n",
    "#         print(test_ix, ':', acc_test)\n",
    "   \n",
    "\n",
    "\n",
    "   # print( 'Accuracy', np.sum( accuracies ) / len( accuracies ) )"
   ]
  },
  {
   "cell_type": "markdown",
   "metadata": {},
   "source": [
    "# Model training"
   ]
  },
  {
   "cell_type": "markdown",
   "metadata": {},
   "source": [
    "https://www.analyticsvidhya.com/blog/2021/09/a-comprehensive-guide-on-neural-networks-performance-optimization/"
   ]
  },
  {
   "cell_type": "code",
   "execution_count": null,
   "metadata": {
    "scrolled": true
   },
   "outputs": [],
   "source": [
    "tensor_X = torch.tensor(shuffled_X.values, dtype=torch.float32).to(DEVICE)\n",
    "print( tensor_X[0].shape )\n",
    "\n",
    "GENERATE_SHAP = True\n",
    "total_epochs = 500 #250(ideal)\n",
    "num_features_list = [shuffled_X.shape[1]]\n",
    "# random_integers = [2, 6, 108, 90, 5]\n",
    "random_integers = [90]#, 92, 0, 87, 73, 82, 54]\n",
    "\n",
    "folds_list = [10]#[37*2]\n",
    "\n",
    "avg_val_acc = []\n",
    "\n",
    "shap_values_list = []\n",
    "for num_features in num_features_list:\n",
    "    print(f'NF:{num_features}')\n",
    "    global_best_acc_val = 0.\n",
    "    precision_avg = 0\n",
    "    recall_avg = 0\n",
    "    auprc_avg = 0\n",
    "    auroc_avg = 0\n",
    "    fscore_avg = 0\n",
    "    for total_folds in folds_list:\n",
    "        print(f'\\n#F{total_folds}')\n",
    "        for random_seed in random_integers:\n",
    "            accuracies = []\n",
    "            accuracies_val = []\n",
    "            temp_shap_values = np.zeros(shuffled_X.shape)\n",
    "            \n",
    "            kf = KFold(n_splits = total_folds, random_state=None)\n",
    "            acc_score = []\n",
    "\n",
    "            for train_index , test_index in kf.split(shuffled):\n",
    "                X_train , X_test = shuffled_X.iloc[train_index,:], shuffled_X.iloc[test_index,:]\n",
    "                y_train , y_test = shuffled_Y[train_index] , shuffled_Y[test_index]\n",
    "                \n",
    "#                 X_train, y_train = bordersmote( X_train, y_train )\n",
    "#                 print(\"train size: \", X_train.shape, y_train.shape)\n",
    "#                 print(\"test size: \", X_test.shape, y_test.shape)\n",
    "                \n",
    "                train_dataset = df_dataSet( X_train, y_train )\n",
    "                valid_dataset = df_dataSet( X_test, y_test )\n",
    "                \n",
    "                train_batch_size = train_dataset.__len__()\n",
    "                val_batch_size = valid_dataset.__len__()\n",
    "                \n",
    "#                 print( train_batch_size, val_batch_size )\n",
    "                \n",
    "                train_loader = torch.utils.data.DataLoader(train_dataset, batch_size = train_batch_size, shuffle = False, num_workers = 0)\n",
    "                valid_loader = torch.utils.data.DataLoader(valid_dataset, batch_size = val_batch_size, shuffle = False, num_workers = 0)\n",
    "\n",
    "                model = simple_model(num_features = shuffled_X.shape[1], hidden_dim = hidden_dimension)\n",
    "                model = model.to(DEVICE)\n",
    "                optimizer = torch.optim.Adam(model.parameters(), lr=0.001)\n",
    "                criterion = torch.nn.BCEWithLogitsLoss() \n",
    "                best_acc_val = 0.\n",
    "                model_best = None\n",
    "                \n",
    "                for epoch_num in range(total_epochs):\n",
    "#                     print(epoch_num)\n",
    "                    model.train()\n",
    "#                     model.drop_probab=.8\n",
    "#                     print(\"model trained\")\n",
    "                    precision, recall, fscore, support, auroc, auprc, acc_train, total_loss, pred, pred_binary, true = epoch(model=model, optimizer=optimizer, \n",
    "                                                                                             criterion=criterion, is_training=True, \n",
    "                                                                                           loader=train_loader)\n",
    "#                     print(\"model validated\")\n",
    "                    model.eval()\n",
    "#                     model.drop_probab=.0\n",
    "                    precision, recall, fscore, support, auroc, auprc, acc_val, total_loss, pred, pred_binary, true = epoch(model=model, \n",
    "                                                                                             optimizer=optimizer, \n",
    "                                                                                             criterion=criterion, is_training=False, \n",
    "                                                                                            loader=valid_loader)\n",
    "#                     print(\"model kahini done\")\n",
    "                    if acc_val > best_acc_val:\n",
    "                        best_acc_val = acc_val\n",
    "                        if acc_val > global_best_acc_val:\n",
    "                            global_best_acc_val = acc_val\n",
    "    #                         print('global updated!')\n",
    "                        torch.save(model.state_dict(), 'PRS_model.pt')\n",
    "    #                     print(f'#F:{total_folds}| seed:{random_seed}, fold:{fold_num}, epoch:{epoch_num} -> local:{best_acc_val}, global:{global_best_acc_val}')  \n",
    "#                     if epoch_num + 1 == total_epochs:\n",
    "#     #                     print(f'LAST_Epoch:{epoch_num}, train_acc:{acc_train}, val_acc:{acc_val}, local_best:{best_acc_val}, global_best:{global_best_acc_val}')\n",
    "#                         pass\n",
    "                model_best = simple_model(num_features= shuffled_X.shape[1], hidden_dim = hidden_dimension, drop_probab=.0)\n",
    "                model_best.load_state_dict(torch.load('PRS_model.pt'))\n",
    "                model_best = model_best.to(DEVICE)\n",
    "                model_best.eval()\n",
    "                precision, recall, fscore, support, auroc, auprc, acc_test, total_loss, pred, pred_binary, true = epoch(model=model_best, \n",
    "                                                                                         optimizer=optimizer, \n",
    "                                                                                         criterion=criterion, is_training=False, \n",
    "                                                                                         loader=valid_loader)\n",
    "                accuracies += [acc_test]\n",
    "                accuracies_val += [best_acc_val]\n",
    "#                 print(\"precision : \", precision, \" ; recall : \", recall)\n",
    "                precision_avg += precision\n",
    "                recall_avg += recall\n",
    "                auprc_avg += auprc\n",
    "                auroc_avg += auroc\n",
    "                fscore_avg += fscore\n",
    "                \n",
    "#                 print(precision, recall, fscore, support, auroc, auprc, acc_test, total_loss)\n",
    "#                 print(\"pred\")\n",
    "#                 print(pred)\n",
    "#                 print(\"pred binary\")\n",
    "#                 print(type(pred_binary))\n",
    "#                 print(pred_binary)\n",
    "                \n",
    "                print(total_folds, ':')\n",
    "                if GENERATE_SHAP:\n",
    "                    explainer = shap.GradientExplainer(model_best.to(DEVICE), tensor_X,\n",
    "                                                       batch_size=shuffled_X.shape[0]) #https://shap-lrjball.readthedocs.io/en/latest/generated/shap.KernelExplainer.html\n",
    "#                     print(\"usable features : \", usable_features.shape[0])\n",
    "#                     print(usable_features.shape)\n",
    "#                     print(usable_features)\n",
    "                    shap_values = explainer.shap_values(tensor_X, nsamples=500)\n",
    "#                     print(\"shap values shape : \", shap_values.shape)\n",
    "#                     print(\"Shap values : \", shap_values)\n",
    "#                     print(\"shap values of 0 index\", shap_values[0, :])\n",
    "                    \n",
    "                    temp_shap_values += shap_values \n",
    "            if GENERATE_SHAP:\n",
    "                temp_shap_values /= total_folds\n",
    "                shap_values_list += [temp_shap_values] \n",
    "            print(f'random_seed:{random_seed}:', np.mean(accuracies), np.std(accuracies), \n",
    "                  np.mean(accuracies_val), np.std(accuracies_val), 'train acc:', acc_train)\n",
    "            avg_val_acc += [np.mean(accuracies_val)]\n",
    "    print(\"accuraacies of validation: \", accuracies_val)\n",
    "    print(f'global_best_acc_val:{global_best_acc_val}')\n",
    "    precision_avg = precision_avg * 1.0 / total_folds\n",
    "    recall_avg = recall_avg * 1.0 / total_folds\n",
    "    auprc_avg = auprc_avg * 1.0 / total_folds\n",
    "    auroc_avg = auroc_avg * 1.0 / total_folds\n",
    "    fscore_avg = fscore_avg * 1.0 / total_folds\n",
    "    print( \"precision avg : \", precision_avg )\n",
    "    print( \"recall avg : \", recall_avg )\n",
    "    print( \"AUPRC avg : \", auprc_avg )\n",
    "    print( \"AUROC avg : \", auroc_avg )\n",
    "    print( \"FScore avg : \", fscore_avg )\n",
    "# usable_features = usable_features.cpu().detach().numpy().astype(np.float64)\n",
    "avg_val_acc = np.array(avg_val_acc)\n",
    "print(avg_val_acc.max(), avg_val_acc.min(), avg_val_acc.mean(), avg_val_acc.std())"
   ]
  },
  {
   "cell_type": "code",
   "execution_count": null,
   "metadata": {
    "scrolled": true
   },
   "outputs": [],
   "source": [
    "# GENERATE_SHAP = True\n",
    "# total_epochs = 500 #250(ideal)\n",
    "# num_features_list = [usable_features.shape[1]]\n",
    "# # random_integers = [2, 6, 108, 90, 5]\n",
    "# random_integers = [90]#, 92, 0, 87, 73, 82, 54]\n",
    "\n",
    "# folds_list = [10]#[37*2]\n",
    "\n",
    "# avg_val_acc = []\n",
    "\n",
    "# shap_values_list = []\n",
    "# for num_features in num_features_list:\n",
    "#     print(f'NF:{num_features}')\n",
    "#     global_best_acc_val = 0.\n",
    "#     precision_avg = 0\n",
    "#     recall_avg = 0\n",
    "#     auprc_avg = 0\n",
    "#     auroc_avg = 0\n",
    "#     fscore_avg = 0\n",
    "#     for total_folds in folds_list:\n",
    "#         print(f'\\n#F{total_folds}')\n",
    "#         for random_seed in random_integers:\n",
    "#             N_splits = random_samples(total_folds=total_folds, random_seed=random_seed)\n",
    "#             accuracies = []\n",
    "#             accuracies_val = []\n",
    "#             temp_shap_values = np.zeros(usable_features.shape)\n",
    "#             for fold_num in tqdm(range(total_folds)):\n",
    "#     #             print(f'fold-{fold_num}:')\n",
    "# #                 train_set, val_set, test_set = generate_datasets(N_splits=N_splits, fold_num=fold_num, random_seed=random_seed)\n",
    "#                 train_set, _, test_set = generate_datasets(N_splits=N_splits, fold_num=fold_num, random_seed=random_seed)\n",
    "#                 val_set = test_set        \n",
    "#                 train_loader, val_loader, test_loader = generate_loader(train_set=train_set, val_set=val_set, \n",
    "#                                                                         test_set=test_set, num_workers=0)\n",
    "#                 model = simple_model(num_features=usable_features.shape[1], hidden_dim= hidden_dimension)\n",
    "#                 model = model.to(DEVICE)\n",
    "#                 optimizer = torch.optim.Adam(model.parameters(), lr=0.001)\n",
    "#                 criterion = torch.nn.BCEWithLogitsLoss() \n",
    "#                 best_acc_val = 0.\n",
    "#                 model_best = None\n",
    "#                 for epoch_num in range(total_epochs):\n",
    "#                     model.train()\n",
    "# #                     model.drop_probab=.8\n",
    "#                     precision, recall, fscore, support, auroc, auprc, acc_train, total_loss, pred, pred_binary, true = epoch(model=model, optimizer=optimizer, \n",
    "#                                                                                              criterion=criterion, is_training=True, \n",
    "#                                                                                              loader=train_loader)\n",
    "#                     model.eval()\n",
    "# #                     model.drop_probab=.0\n",
    "#                     precision, recall, fscore, support, auroc, auprc, acc_val, total_loss, pred, pred_binary, true = epoch(model=model, \n",
    "#                                                                                              optimizer=optimizer, \n",
    "#                                                                                              criterion=criterion, is_training=False, \n",
    "#                                                                                             loader=val_loader)\n",
    "#                     if acc_val > best_acc_val:\n",
    "#                         best_acc_val = acc_val\n",
    "#                         if acc_val > global_best_acc_val:\n",
    "#                             global_best_acc_val = acc_val\n",
    "#     #                         print('global updated!')\n",
    "#                         torch.save(model.state_dict(), 'PRS_model.pt')\n",
    "#     #                     print(f'#F:{total_folds}| seed:{random_seed}, fold:{fold_num}, epoch:{epoch_num} -> local:{best_acc_val}, global:{global_best_acc_val}')  \n",
    "# #                     if epoch_num + 1 == total_epochs:\n",
    "# #     #                     print(f'LAST_Epoch:{epoch_num}, train_acc:{acc_train}, val_acc:{acc_val}, local_best:{best_acc_val}, global_best:{global_best_acc_val}')\n",
    "# #                         pass\n",
    "#                 model_best = simple_model(num_features=usable_features.shape[1], hidden_dim= hidden_dimension, drop_probab=.0)\n",
    "#                 model_best.load_state_dict(torch.load('PRS_model.pt'))\n",
    "#                 model_best = model_best.to(DEVICE)\n",
    "#                 model_best.eval()\n",
    "#                 precision, recall, fscore, support, auroc, auprc, acc_test, total_loss, pred, pred_binary, true = epoch(model=model_best, \n",
    "#                                                                                          optimizer=optimizer, \n",
    "#                                                                                          criterion=criterion, is_training=False, \n",
    "#                                                                                          loader=val_loader)\n",
    "#                 accuracies += [acc_test]\n",
    "#                 accuracies_val += [best_acc_val]\n",
    "# #                 print(\"precision : \", precision, \" ; recall : \", recall)\n",
    "#                 precision_avg += precision\n",
    "#                 recall_avg += recall\n",
    "#                 auprc_avg += auprc\n",
    "#                 auroc_avg += auroc\n",
    "#                 fscore_avg += fscore\n",
    "                \n",
    "# #                 print(precision, recall, fscore, support, auroc, auprc, acc_test, total_loss)\n",
    "# #                 print(\"pred\")\n",
    "# #                 print(pred)\n",
    "# #                 print(\"pred binary\")\n",
    "# #                 print(type(pred_binary))\n",
    "# #                 print(pred_binary)\n",
    "                \n",
    "# #                 print(fold_num, ':', accuracies)\n",
    "#                 if GENERATE_SHAP:\n",
    "#                     explainer = shap.GradientExplainer(model_best.to(DEVICE), usable_features,\n",
    "#                                                        batch_size=usable_features.shape[0]) #https://shap-lrjball.readthedocs.io/en/latest/generated/shap.KernelExplainer.html\n",
    "# #                     print(\"usable features : \", usable_features.shape[0])\n",
    "# #                     print(usable_features.shape)\n",
    "# #                     print(usable_features)\n",
    "#                     shap_values = explainer.shap_values(usable_features, nsamples=500)\n",
    "# #                     print(\"shap values shape : \", shap_values.shape)\n",
    "# #                     print(\"Shap values : \", shap_values)\n",
    "# #                     print(\"shap values of 0 index\", shap_values[0, :])\n",
    "                    \n",
    "#                     temp_shap_values += shap_values \n",
    "#             if GENERATE_SHAP:\n",
    "#                 temp_shap_values /= total_folds\n",
    "#                 shap_values_list += [temp_shap_values] \n",
    "#             print(f'random_seed:{random_seed}:', np.mean(accuracies), np.std(accuracies), \n",
    "#                   np.mean(accuracies_val), np.std(accuracies_val), 'train acc:', acc_train)\n",
    "#             avg_val_acc += [np.mean(accuracies_val)]\n",
    "    \n",
    "#     print(f'global_best_acc_val:{global_best_acc_val}')\n",
    "#     precision_avg = precision_avg * 1.0 / total_folds\n",
    "#     recall_avg = recall_avg * 1.0 / total_folds\n",
    "#     auprc_avg = auprc_avg * 1.0 / total_folds\n",
    "#     auroc_avg = auroc_avg * 1.0 / total_folds\n",
    "#     fscore_avg = fscore_avg * 1.0 / total_folds\n",
    "#     print( \"precision avg : \", precision_avg )\n",
    "#     print( \"recall avg : \", recall_avg )\n",
    "#     print( \"AUPRC avg : \", auprc_avg )\n",
    "#     print( \"AUROC avg : \", auroc_avg )\n",
    "#     print( \"FScore avg : \", fscore_avg )\n",
    "# # usable_features = usable_features.cpu().detach().numpy().astype(np.float64)\n",
    "# avg_val_acc = np.array(avg_val_acc)\n",
    "# print(avg_val_acc.max(), avg_val_acc.min(), avg_val_acc.mean(), avg_val_acc.std())"
   ]
  },
  {
   "cell_type": "code",
   "execution_count": null,
   "metadata": {},
   "outputs": [],
   "source": [
    "# save model accuracy in model_details.txt\n",
    "save_in_file(\"Neural Network with \" + str(hidden)  + \" layers_4yrs_\" + str(len(feature_indices_to_consider)), global_best_acc_val)\n",
    "# save_in_file(\"Neural Network with \" + str(hidden) + \" layers\", global_best_acc_val)"
   ]
  },
  {
   "cell_type": "code",
   "execution_count": null,
   "metadata": {},
   "outputs": [],
   "source": [
    "usable_features = usable_features.cpu().detach().numpy().astype(np.float64)"
   ]
  },
  {
   "cell_type": "markdown",
   "metadata": {},
   "source": [
    "# Shap Analysis\n",
    "\n",
    "https://medium.com/dataman-in-ai/explain-your-model-with-the-shap-values-bc36aac4de3d"
   ]
  },
  {
   "cell_type": "code",
   "execution_count": null,
   "metadata": {},
   "outputs": [],
   "source": [
    "# print( shap_values_list )\n",
    "# write shap_values_list to pkl file\n",
    "pickle.dump(shap_values_list, open('shap_values_list.pkl', 'wb'))\n",
    "shap_values = np.mean(shap_values_list, axis=0)\n",
    "print( shap_values.shape )\n",
    "# print(shap_values)"
   ]
  },
  {
   "cell_type": "markdown",
   "metadata": {},
   "source": [
    "# Force plot :\n",
    "\n",
    "\n",
    "The shap.force_plot() takes three values: \n",
    "\n",
    "(i) the base value (explainerModel.expected_value[0]),\n",
    "\n",
    "(ii) the SHAP values (shap_values_Model[j][0]) and \n",
    "\n",
    "(iii) the matrix of feature values (S.iloc[[j]]). The base value or the expected value is the average of the model output over the training data X_train. It is the base value used in the following plot.\n",
    "\n",
    "https://medium.com/mlearning-ai/shap-force-plots-for-classification-d30be430e195\n",
    "\n",
    "the bold 0.80 is the model’s score for this observation. Higher scores lead the model to predict 1 and lower scores lead the model to predict 0. The features that were important to making the prediction for this observation are shown in red and blue, with red representing features that pushed the model score higher, and blue representing features that pushed the score lower. Features that had more of an impact on the score are located closer to the dividing boundary between red and blue, and the size of that impact is represented by the size of the bar."
   ]
  },
  {
   "cell_type": "code",
   "execution_count": null,
   "metadata": {
    "scrolled": false
   },
   "outputs": [],
   "source": [
    "# print( shap_values_list )\n",
    "\n",
    "# print the JS visualization code to the notebook\n",
    "shap.initjs()\n",
    "\n",
    "# print(shap_values[0, :])\n",
    "# print(usable_features[0, :])\n",
    "# shap.summary_plot(shap_values[:, :], usable_features[:, :])\n",
    "\n",
    "# shap.force_plot(.5, shap_values[0,:], usable_features[0, :], link = \"logit\", matplotlib = True)  \n",
    "\n",
    "# using pandas dataframe\n",
    "shap.force_plot(.5, shap_values[0,:], shuffled_X.iloc[0, :], link = \"logit\", matplotlib = True  )  "
   ]
  },
  {
   "cell_type": "code",
   "execution_count": null,
   "metadata": {
    "scrolled": true
   },
   "outputs": [],
   "source": [
    "# shap.force_plot(.5, shap_values[:,:], usable_features[:, :], link=\"logit\")\n",
    "\n",
    "# using pandas dataframe\n",
    "print(shap_values.shape)\n",
    "print(shuffled_X.shape)\n",
    "shap.force_plot(.5, shap_values[:,:], shuffled_X.iloc[:, :], link=\"logit\")"
   ]
  },
  {
   "cell_type": "markdown",
   "metadata": {},
   "source": [
    "# Summary Plot\n",
    "This plot is made of all the dots in the train data. It delivers the following information:\n",
    "\n",
    "Feature importance: Variables are ranked in descending order.\n",
    "\n",
    "Impact: The horizontal location shows whether the effect of that value is associated with a higher or lower prediction.\n",
    "\n",
    "Original value: Color shows whether that variable is high (in red) or low (in blue) for that observation.\n",
    "\n",
    "Correlation: A high level of the “alcohol” content has a high and positive impact on the quality rating. The “high” comes from the red color, and the “positive” impact is shown on the X-axis. Similarly, we will say the “volatile acidity” is negatively correlated with the target variable."
   ]
  },
  {
   "cell_type": "code",
   "execution_count": null,
   "metadata": {},
   "outputs": [],
   "source": [
    "path = \"./shap/\" + str(num_features)\n",
    "if not os.path.exists(path):\n",
    "    os.makedirs(path)\n",
    "    \n",
    "# for trait in traits:\n",
    "#     print(trait)\n",
    "# https://shap-lrjball.readthedocs.io/en/latest/generated/shap.summary_plot.html?highlight=beeswarm#shap.summary_plot\n",
    "# usable_features_std = (usable_features - usable_features.mean(0))/usable_features.std(0)\n",
    "# shap.summary_plot(shap_values, features=usable_features, feature_names=traits, plot_type='dot', max_display=len(traits), show = False)\n",
    "# plt.savefig('shap/' + str(num_features) + '/summary_plot_hidden_'+ str(hidden) + '_dim_' + str(hidden_dimension) + '.pdf',  bbox_inches='tight')\n",
    "# shap.summary_plot(shap_values, features=usable_features, feature_names=list(range(23)), plot_type='dot', max_display=len(traits))\n",
    "\n",
    "shap.summary_plot(shap_values, features = shuffled_X, feature_names = shuffled_X.columns, plot_type='dot', max_display=len(traits), show = False)\n"
   ]
  },
  {
   "cell_type": "code",
   "execution_count": null,
   "metadata": {
    "scrolled": true
   },
   "outputs": [],
   "source": [
    "# https://shap-lrjball.readthedocs.io/en/latest/generated/shap.summary_plot.html?highlight=beeswarm#shap.summary_plot\n",
    "# shap.summary_plot(shap_values, features=usable_features, feature_names=list(range(23)), plot_type='bar', max_display=len(traits), show=False)\n",
    "# plt.savefig('shap/summary_plot_hidden_'+ str(hidden) + '_bar.png', bbox_inches='tight')\n",
    "# naeem modified\n",
    "# shap.summary_plot(shap_values, features=usable_features, feature_names=list(range(num_features)), plot_type='bar', max_display=len(traits), show=False)\n",
    "# shap.summary_plot(shap_values, features=usable_features, feature_names = traits, plot_type='bar', max_display=len(traits), show=False)\n",
    "# plt.savefig('shap/' + str(num_features) + 'summary_plot_hidden_'+ str(hidden) + '_bar.png', bbox_inches='tight')\n",
    "\n",
    "shap.summary_plot(shap_values, features = shuffled_X, feature_names = shuffled_X.columns, plot_type='bar', max_display=len(traits), show=False)\n",
    "plt.savefig('shap/' + str(num_features) + 'summary_plot_hidden_'+ str(hidden) + '_bar.png', bbox_inches='tight')"
   ]
  },
  {
   "cell_type": "code",
   "execution_count": null,
   "metadata": {},
   "outputs": [],
   "source": [
    "sorted(list(zip(list(range(23)), abs(shap_values).mean(0))), key=lambda x:x[1], reverse=True)"
   ]
  },
  {
   "cell_type": "code",
   "execution_count": null,
   "metadata": {},
   "outputs": [],
   "source": [
    "help(shap.force_plot)\n"
   ]
  },
  {
   "cell_type": "markdown",
   "metadata": {},
   "source": [
    "# SVM "
   ]
  },
  {
   "cell_type": "code",
   "execution_count": null,
   "metadata": {},
   "outputs": [],
   "source": []
  }
 ],
 "metadata": {
  "kernelspec": {
   "display_name": "ad_venv_2",
   "language": "python",
   "name": "ad_venv_2"
  },
  "language_info": {
   "codemirror_mode": {
    "name": "ipython",
    "version": 3
   },
   "file_extension": ".py",
   "mimetype": "text/x-python",
   "name": "python",
   "nbconvert_exporter": "python",
   "pygments_lexer": "ipython3",
   "version": "3.10.4"
  },
  "vscode": {
   "interpreter": {
    "hash": "916dbcbb3f70747c44a77c7bcd40155683ae19c65e1c03b4aa3499c5328201f1"
   }
  }
 },
 "nbformat": 4,
 "nbformat_minor": 2
}
