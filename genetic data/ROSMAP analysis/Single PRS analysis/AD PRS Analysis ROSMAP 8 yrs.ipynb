{
 "cells": [
  {
   "cell_type": "code",
   "execution_count": 1,
   "metadata": {},
   "outputs": [],
   "source": [
    "import pandas as pd\n",
    "import numpy as np"
   ]
  },
  {
   "cell_type": "code",
   "execution_count": 2,
   "metadata": {},
   "outputs": [
    {
     "name": "stdout",
     "output_type": "stream",
     "text": [
      "   Unnamed: 0  Non-cancer illness code, self-reported: type 2 diabetes  \\\n",
      "0           0                                           1.011165         \n",
      "1           1                                          -0.776343         \n",
      "2           2                                          -0.814657         \n",
      "3           3                                          -0.764805         \n",
      "4           4                                           0.599249         \n",
      "\n",
      "   Ever had known person concerned about, or recommend reduction of, alcohol consumption: No  \\\n",
      "0                                          -0.285235                                           \n",
      "1                                           0.283466                                           \n",
      "2                                           0.885290                                           \n",
      "3                                           0.596894                                           \n",
      "4                                           0.169029                                           \n",
      "\n",
      "   Ever had known person concerned about, or recommend reduction of, alcohol consumption: Yes, but not in the last year  \\\n",
      "0                                          -0.322072                                                                      \n",
      "1                                          -0.218473                                                                      \n",
      "2                                          -1.710685                                                                      \n",
      "3                                          -1.117914                                                                      \n",
      "4                                          -1.581342                                                                      \n",
      "\n",
      "   Ever had known person concerned about, or recommend reduction of, alcohol consumption: Yes, during the last year  \\\n",
      "0                                          -1.077039                                                                  \n",
      "1                                           0.824608                                                                  \n",
      "2                                           0.980318                                                                  \n",
      "3                                          -1.021452                                                                  \n",
      "4                                           0.457376                                                                  \n",
      "\n",
      "   Total cholesterol  HDL cholesterol  LDL cholesterol  triglycerides  \\\n",
      "0           0.764695         0.127163         0.276333       0.471426   \n",
      "1           0.761456         1.345437        -0.568452      -0.739123   \n",
      "2           1.124239         1.701495        -0.479846      -1.719384   \n",
      "3          -0.696240        -0.226962         0.035543       0.013129   \n",
      "4           0.304487         0.660388         0.184127       1.470287   \n",
      "\n",
      "   Cigarettes per Day  ...  \\\n",
      "0            1.717036  ...   \n",
      "1           -0.065564  ...   \n",
      "2           -0.168065  ...   \n",
      "3            1.006253  ...   \n",
      "4            0.665148  ...   \n",
      "\n",
      "   Illness, injury, bereavement, stress in last 2 years: Serious illness, injury or assault to yourself  \\\n",
      "0                                           0.452892                                                      \n",
      "1                                           1.751600                                                      \n",
      "2                                           2.216811                                                      \n",
      "3                                          -2.109980                                                      \n",
      "4                                          -1.507984                                                      \n",
      "\n",
      "   Illness, injury, bereavement, stress in last 2 years: Marital separation/divorce  \\\n",
      "0                                          -0.907127                                  \n",
      "1                                          -0.925093                                  \n",
      "2                                           1.301251                                  \n",
      "3                                          -1.050168                                  \n",
      "4                                           0.504444                                  \n",
      "\n",
      "   Illness, injury, bereavement, stress in last 2 years: Financial difficulties  \\\n",
      "0                                          -1.286280                              \n",
      "1                                           1.569634                              \n",
      "2                                          -0.719765                              \n",
      "3                                          -0.874170                              \n",
      "4                                          -0.128510                              \n",
      "\n",
      "       ADHD  Microalbumin in urine  Parkinson's disease  Alzheimer's disease  \\\n",
      "0 -0.290922               0.270765             1.390531             0.914950   \n",
      "1  1.010439              -0.222821            -0.373027            -0.500243   \n",
      "2  1.112449               0.455005            -2.166065            -0.452429   \n",
      "3 -0.307183              -1.177689            -0.920031             0.941689   \n",
      "4 -0.234108              -1.215863            -0.583659             0.701310   \n",
      "\n",
      "   gender       age  output  \n",
      "0     0.0  0.778617     0.0  \n",
      "1     0.0  0.764326     1.0  \n",
      "2     0.0  0.803806     1.0  \n",
      "3     1.0  0.694073     1.0  \n",
      "4     0.0  0.719096     0.0  \n",
      "\n",
      "[5 rows x 57 columns]\n"
     ]
    }
   ],
   "source": [
    "shuffled = pd.read_csv(\"../rosmap_balanced_shuffled_8yrs.csv\")\n",
    "print( shuffled.head() )"
   ]
  },
  {
   "cell_type": "code",
   "execution_count": 3,
   "metadata": {},
   "outputs": [
    {
     "name": "stdout",
     "output_type": "stream",
     "text": [
      "   Alzheimer's disease  output\n",
      "0             0.914950     0.0\n",
      "1            -0.500243     1.0\n",
      "2            -0.452429     1.0\n",
      "3             0.941689     1.0\n",
      "4             0.701310     0.0\n"
     ]
    }
   ],
   "source": [
    "cols_to_take = ['Alzheimer\\'s disease', 'output']\n",
    "shuffled = shuffled[cols_to_take]\n",
    "print( shuffled.head() )"
   ]
  },
  {
   "cell_type": "code",
   "execution_count": 8,
   "metadata": {},
   "outputs": [],
   "source": [
    "positive_samples = list(shuffled[shuffled['output'] == 1]['Alzheimer\\'s disease'])\n",
    "negative_samples =list( shuffled[shuffled['output'] == 0]['Alzheimer\\'s disease'])\n",
    "\n",
    "# print(positive_samples)\n"
   ]
  },
  {
   "cell_type": "code",
   "execution_count": 9,
   "metadata": {},
   "outputs": [
    {
     "name": "stdout",
     "output_type": "stream",
     "text": [
      "Positive samples mean PRS : 0.02351163678435744 standard deviation 1.0194698002882316\n"
     ]
    },
    {
     "data": {
      "image/png": "[encoded data removed]",
      "text/plain": [
       "<Figure size 640x480 with 1 Axes>"
      ]
     },
     "metadata": {},
     "output_type": "display_data"
    },
    {
     "name": "stdout",
     "output_type": "stream",
     "text": [
      "Negative samples mean PRS : 0.012306919095090815 standard deviation 1.006582283607248\n"
     ]
    },
    {
     "data": {
      "image/png": "[encoded data removed]",
      "text/plain": [
       "<Figure size 640x480 with 1 Axes>"
      ]
     },
     "metadata": {},
     "output_type": "display_data"
    }
   ],
   "source": [
    "import matplotlib.pyplot as plt\n",
    "print(\"Positive samples mean PRS :\",np.mean(positive_samples),\"standard deviation\",np.std(positive_samples))\n",
    "plt.hist(positive_samples,10)\n",
    "plt.show()\n",
    "plt.hist(negative_samples,10)\n",
    "print(\"Negative samples mean PRS :\",np.mean(negative_samples),\"standard deviation\",np.std(negative_samples))"
   ]
  },
  {
   "cell_type": "code",
   "execution_count": 11,
   "metadata": {},
   "outputs": [
    {
     "data": {
      "text/plain": [
       "<AxesSubplot:ylabel='Density'>"
      ]
     },
     "execution_count": 11,
     "metadata": {},
     "output_type": "execute_result"
    },
    {
     "data": {
      "image/png": "[encoded data removed]",
      "text/plain": [
       "<Figure size 640x480 with 1 Axes>"
      ]
     },
     "metadata": {},
     "output_type": "display_data"
    }
   ],
   "source": [
    "# sns plot\n",
    "import seaborn as sns\n",
    "sns.kdeplot(positive_samples)\n",
    "sns.kdeplot(negative_samples)"
   ]
  },
  {
   "cell_type": "code",
   "execution_count": 4,
   "metadata": {},
   "outputs": [
    {
     "name": "stdout",
     "output_type": "stream",
     "text": [
      "0.017909277939724126 0.034319220110774\n"
     ]
    }
   ],
   "source": [
    "mean = shuffled['Alzheimer\\'s disease'].mean()\n",
    "median = shuffled['Alzheimer\\'s disease'].median()\n",
    "\n",
    "print( mean, median)"
   ]
  },
  {
   "cell_type": "code",
   "execution_count": 5,
   "metadata": {},
   "outputs": [],
   "source": [
    "mode = 'mean'"
   ]
  },
  {
   "cell_type": "code",
   "execution_count": 6,
   "metadata": {},
   "outputs": [
    {
     "name": "stdout",
     "output_type": "stream",
     "text": [
      "   Alzheimer's disease  output\n",
      "0                    1     0.0\n",
      "1                    0     1.0\n",
      "2                    0     1.0\n",
      "3                    1     1.0\n",
      "4                    1     0.0\n"
     ]
    }
   ],
   "source": [
    "if mode == 'mean':\n",
    "    shuffled['Alzheimer\\'s disease'] = np.where( shuffled['Alzheimer\\'s disease'] >= mean, 1, 0)\n",
    "elif mode == 'median':\n",
    "    shuffled['Alzheimer\\'s disease'] = np.where( shuffled['Alzheimer\\'s disease'] >= median, 1, 0)\n",
    "    \n",
    "print( shuffled.head() )"
   ]
  },
  {
   "cell_type": "code",
   "execution_count": 7,
   "metadata": {},
   "outputs": [
    {
     "name": "stdout",
     "output_type": "stream",
     "text": [
      "Accuracy: 0.5074487895716946\n",
      "Precision: 0.507380073800738\n",
      "Recall: 0.5121042830540037\n",
      "F1-score: 0.509731232622799\n",
      "AUROC: 0.5074487895716946\n",
      "AUPRC: 0.5037793674026125\n"
     ]
    }
   ],
   "source": [
    "from sklearn.metrics import confusion_matrix,accuracy_score, precision_score, recall_score, f1_score, roc_auc_score, average_precision_score\n",
    "\n",
    "true_labels = shuffled['output']\n",
    "predicted_labels = shuffled['Alzheimer\\'s disease']\n",
    "\n",
    "# Calculate accuracy\n",
    "accuracy = accuracy_score(true_labels, predicted_labels)\n",
    "\n",
    "# Calculate precision\n",
    "precision = precision_score(true_labels, predicted_labels)\n",
    "\n",
    "# Calculate recall\n",
    "recall = recall_score(true_labels, predicted_labels)\n",
    "\n",
    "# Calculate AUROC\n",
    "auroc = roc_auc_score(true_labels, predicted_labels)\n",
    "\n",
    "# Calculate AUPRC\n",
    "auprc = average_precision_score(true_labels, predicted_labels)\n",
    "\n",
    "fscore = f1_score(true_labels, predicted_labels)\n",
    "\n",
    "print(\"Accuracy:\", accuracy)\n",
    "print(\"Precision:\", precision)\n",
    "print(\"Recall:\", recall)\n",
    "print(\"F1-score:\", fscore)\n",
    "print(\"AUROC:\", auroc)\n",
    "print(\"AUPRC:\", auprc)\n"
   ]
  },
  {
   "cell_type": "code",
   "execution_count": 8,
   "metadata": {},
   "outputs": [
    {
     "name": "stdout",
     "output_type": "stream",
     "text": [
      "[[270 267]\n",
      " [262 275]]\n"
     ]
    }
   ],
   "source": [
    "conf_matrix = confusion_matrix(true_labels, predicted_labels)\n",
    "print( conf_matrix )"
   ]
  },
  {
   "cell_type": "code",
   "execution_count": 9,
   "metadata": {},
   "outputs": [],
   "source": [
    "# def get_prs_values(GWAS_ID):\n",
    "#     prsice_output = f'../PRSice_output_ROSMAP/{GWAS_ID}/'\n",
    "#     prs_array = pd.read_csv(prsice_output+f'{GWAS_ID}.best', ' ')['PRS'].to_numpy() \n",
    "#     return prs_array"
   ]
  },
  {
   "cell_type": "code",
   "execution_count": 10,
   "metadata": {},
   "outputs": [],
   "source": [
    "# # PRS_feature_matrix_only_ad = np.zeros([1, 1816])\n",
    "# PRS_feature_matrix_only_ad = get_prs_values(GWAS_ID='ieu-b-5067')\n",
    "# # PRS_feature_matrix_only_ad = PRS_feature_matrix_only_ad.reshape(1,-1)\n",
    "# np.save('PRS_feature_matrix_only_ad', PRS_feature_matrix_only_ad)"
   ]
  },
  {
   "cell_type": "code",
   "execution_count": 11,
   "metadata": {},
   "outputs": [],
   "source": [
    "# import numpy as np\n",
    "# import pandas as pd\n",
    "# import json\n",
    "\n",
    "# PRS_orig_feature_matrix = np.load('./PRS_feature_matrix_only_ad.npy').astype(np.float32)\n",
    "# usable_samples_ROSMAP = json.load(open('../usable_samples_ROSMAP.json'))\n",
    "# final_samples_6yrs=json.load(open('../Final Samples/Final_Samples_6yrs.json'))\n",
    "# final_samples_8yrs=json.load(open('../Final Samples/Final_Samples_8yrs.json'))\n",
    "# covar_df = pd.read_csv('../covar_affymetrix.txt', ' ') \n",
    "# # covar_df['AGE'] = covar_df['AGE'] / 100.0\n",
    "\n",
    "# print(usable_samples_ROSMAP.__len__())\n",
    "# print(final_samples_6yrs.__len__())\n",
    "# print(final_samples_8yrs.__len__())\n",
    "# print(PRS_orig_feature_matrix.shape)\n",
    "# # print(covar_df['AGE'])\n",
    "\n",
    "\n",
    "# # print(PRS_to_AD_mapping.__len__())"
   ]
  },
  {
   "cell_type": "code",
   "execution_count": 12,
   "metadata": {},
   "outputs": [],
   "source": [
    "\n",
    "# positive_samples = []\n",
    "# negative_samples = []\n",
    "\n",
    "# for i,sample in enumerate(usable_samples_ROSMAP):\n",
    "#     for s in final_samples_8yrs:\n",
    "#         # print(s)\n",
    "#         if sample == s[0]:\n",
    "#             if s[1] == 0:\n",
    "#                 negative_samples.append(PRS_orig_feature_matrix[i])\n",
    "#             else:\n",
    "#                 positive_samples.append(PRS_orig_feature_matrix[i])\n",
    "\n",
    "# print(\"total positive\",len(positive_samples))\n",
    "# print(\"total negative\",len(negative_samples))\n",
    "\n",
    "# import random\n",
    "# random.seed(42)\n",
    "# min_len=min(len(positive_samples),len(negative_samples))\n",
    "# random.shuffle(positive_samples)\n",
    "# random.shuffle(negative_samples)\n",
    "# positive_samples,negative_samples=positive_samples[:min_len],negative_samples[:min_len]\n",
    "\n",
    "# total_samples=positive_samples+negative_samples\n",
    "# all_labels=min_len*[1]+min_len*[0]\n",
    "# print(len(total_samples))\n",
    "# print(len(all_labels))"
   ]
  },
  {
   "cell_type": "code",
   "execution_count": 13,
   "metadata": {},
   "outputs": [],
   "source": [
    "# mean_of_total=np.mean(total_samples)\n",
    "# median_of_total=np.median(total_samples)\n",
    "# print(mean_of_total,median_of_total)"
   ]
  },
  {
   "cell_type": "code",
   "execution_count": 14,
   "metadata": {},
   "outputs": [
    {
     "ename": "NameError",
     "evalue": "name 'all_labels' is not defined",
     "output_type": "error",
     "traceback": [
      "\u001b[0;31m---------------------------------------------------------------------------\u001b[0m",
      "\u001b[0;31mNameError\u001b[0m                                 Traceback (most recent call last)",
      "\u001b[0;32m/tmp/ipykernel_11760/820197175.py\u001b[0m in \u001b[0;36m<module>\u001b[0;34m\u001b[0m\n\u001b[0;32m----> 1\u001b[0;31m \u001b[0my_original\u001b[0m\u001b[0;34m=\u001b[0m\u001b[0mnp\u001b[0m\u001b[0;34m.\u001b[0m\u001b[0marray\u001b[0m\u001b[0;34m(\u001b[0m\u001b[0mall_labels\u001b[0m\u001b[0;34m)\u001b[0m\u001b[0;34m\u001b[0m\u001b[0;34m\u001b[0m\u001b[0m\n\u001b[0m\u001b[1;32m      2\u001b[0m \u001b[0my_predicted\u001b[0m\u001b[0;34m=\u001b[0m\u001b[0mnp\u001b[0m\u001b[0;34m.\u001b[0m\u001b[0marray\u001b[0m\u001b[0;34m(\u001b[0m\u001b[0mtotal_samples\u001b[0m\u001b[0;34m)\u001b[0m\u001b[0;34m>\u001b[0m\u001b[0mmean_of_total\u001b[0m\u001b[0;34m\u001b[0m\u001b[0;34m\u001b[0m\u001b[0m\n",
      "\u001b[0;31mNameError\u001b[0m: name 'all_labels' is not defined"
     ]
    }
   ],
   "source": [
    "y_original=np.array(all_labels)\n",
    "y_predicted=np.array(total_samples)>mean_of_total\n"
   ]
  },
  {
   "cell_type": "code",
   "execution_count": null,
   "metadata": {},
   "outputs": [],
   "source": [
    "# import matplotlib.pyplot as plt\n",
    "# print(\"Positive samples mean PRS :\",np.mean(positive_samples),\"standard deviation\",np.std(positive_samples))\n",
    "# plt.hist(positive_samples,10)\n",
    "# plt.show()\n",
    "# plt.hist(negative_samples,10)\n",
    "# print(\"Negative samples mean PRS :\",np.mean(negative_samples),\"standard deviation\",np.std(negative_samples))"
   ]
  },
  {
   "cell_type": "code",
   "execution_count": null,
   "metadata": {},
   "outputs": [],
   "source": [
    "# mean_of_total=np.mean(PRS_orig_feature_matrix)\n",
    "# median_of_total=np.median(PRS_orig_feature_matrix)\n",
    "# print(mean_of_total,median_of_total)"
   ]
  },
  {
   "cell_type": "code",
   "execution_count": null,
   "metadata": {},
   "outputs": [],
   "source": [
    "# # making mean as threshold\n",
    "# y_original=[]\n",
    "# y_predicted=[]\n",
    "\n",
    "# for i,sample in enumerate(usable_samples_ROSMAP):\n",
    "    \n",
    "#     for s in final_samples_8yrs:\n",
    "#         # print(s)\n",
    "#         if sample == s[0]: \n",
    "#             y_predicted.append(PRS_orig_feature_matrix[i] >= mean_of_total)\n",
    "#             y_original.append(s[1])\n",
    "      \n"
   ]
  },
  {
   "cell_type": "code",
   "execution_count": null,
   "metadata": {},
   "outputs": [],
   "source": [
    "from sklearn import metrics\n",
    "true=0\n",
    "for i in range(y_original.__len__()):\n",
    "    true+=(y_original[i]==y_predicted[i])\n",
    "precision, recall, fscore,support = metrics.precision_recall_fscore_support(y_original, y_predicted)\n",
    "AUROC=metrics.roc_auc_score(y_original,y_predicted)\n",
    "p, r, thresholds = metrics.precision_recall_curve(y_original,y_predicted)\n",
    "AUPRC = metrics.auc(r, p)\n",
    "print(\"precision: \",precision[1],\"recall: \", recall[1],\"f1 score:\", fscore[1])\n",
    "print(\"accuracy\",true/(y_original.__len__()))\n",
    "print(\"AUROC:\",AUROC,\"AUPRC:\",AUPRC)"
   ]
  },
  {
   "cell_type": "code",
   "execution_count": null,
   "metadata": {},
   "outputs": [],
   "source": [
    "# # making median as threshold\n",
    "# y_original=[]\n",
    "# y_predicted=[]\n",
    "\n",
    "# for i,sample in enumerate(usable_samples_ROSMAP):\n",
    "    \n",
    "#     for s in final_samples_8yrs:\n",
    "#         # print(s)\n",
    "#         if sample == s[0]: \n",
    "#             y_predicted.append(PRS_orig_feature_matrix[i] >= median_of_total)\n",
    "#             y_original.append(s[1])\n",
    "      \n"
   ]
  },
  {
   "cell_type": "code",
   "execution_count": null,
   "metadata": {},
   "outputs": [],
   "source": [
    "y_original=np.array(all_labels)\n",
    "y_predicted=np.array(total_samples)>median_of_total"
   ]
  },
  {
   "cell_type": "code",
   "execution_count": null,
   "metadata": {},
   "outputs": [],
   "source": [
    "# from sklearn import metrics\n",
    "# true=0\n",
    "# for i in range(y_original.__len__()):\n",
    "#     true+=(y_original[i]==y_predicted[i])\n",
    "# precision, recall, fscore,support = metrics.precision_recall_fscore_support(y_original, y_predicted)\n",
    "# AUROC=metrics.roc_auc_score(y_original,y_predicted)\n",
    "# p, r, thresholds = metrics.precision_recall_curve(y_original,y_predicted)\n",
    "# AUPRC = metrics.auc(r, p)\n",
    "# print(\"precision: \",precision[1],\"recall: \", recall[1],\"f1 score:\", fscore[1])\n",
    "# print(\"accuracy\",true/(y_original.__len__()))\n",
    "# print(\"AUROC:\",AUROC,\"AUPRC:\",AUPRC)"
   ]
  },
  {
   "cell_type": "code",
   "execution_count": null,
   "metadata": {},
   "outputs": [],
   "source": [
    "# print(PRS_feature_matrix_only_ad.shape)"
   ]
  },
  {
   "cell_type": "code",
   "execution_count": null,
   "metadata": {},
   "outputs": [],
   "source": []
  }
 ],
 "metadata": {
  "kernelspec": {
   "display_name": "Python 3 (ipykernel)",
   "language": "python",
   "name": "python3"
  },
  "language_info": {
   "codemirror_mode": {
    "name": "ipython",
    "version": 3
   },
   "file_extension": ".py",
   "mimetype": "text/x-python",
   "name": "python",
   "nbconvert_exporter": "python",
   "pygments_lexer": "ipython3",
   "version": "3.7.11"
  },
  "vscode": {
   "interpreter": {
    "hash": "3f7965b4c8ddf98cd8cc1f613dce0c0d054499dd4a6b649eeb59a69b51e3259a"
   }
  }
 },
 "nbformat": 4,
 "nbformat_minor": 2
}
