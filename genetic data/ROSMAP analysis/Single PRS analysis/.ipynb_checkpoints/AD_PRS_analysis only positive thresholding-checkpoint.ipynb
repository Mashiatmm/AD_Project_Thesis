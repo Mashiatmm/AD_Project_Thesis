{
 "cells": [
  {
   "cell_type": "code",
   "execution_count": 1,
   "metadata": {},
   "outputs": [
    {
     "name": "stdout",
     "output_type": "stream",
     "text": [
      "1816\n",
      "974\n",
      "(1816,)\n"
     ]
    },
    {
     "name": "stderr",
     "output_type": "stream",
     "text": [
      "/tmp/ipykernel_29673/721540308.py:9: FutureWarning: In a future version of pandas all arguments of read_csv except for the argument 'filepath_or_buffer' will be keyword-only.\n",
      "  covar_df = pd.read_csv('./COVAR_FILE_bigger_dataset.txt', ' ')\n"
     ]
    }
   ],
   "source": [
    "import numpy as np\n",
    "import pandas as pd\n",
    "import json\n",
    "\n",
    "PRS_orig_feature_matrix = np.load('./PRS_feature_matrix_only_ad.npy').astype(np.float32)\n",
    "usable_samples_ADNI = json.load(open('./usable_samples_ADNI.json'))\n",
    "final_samples_6yrs=json.load(open('./Final_Samples_6yrs.json'))\n",
    "# final_samples_2yrs=json.load(open('./Final_Samples_2yrs.json'))\n",
    "covar_df = pd.read_csv('./COVAR_FILE_bigger_dataset.txt', ' ') \n",
    "covar_df['AGE'] = covar_df['AGE'] / 100.0\n",
    "\n",
    "print(usable_samples_ADNI.__len__())\n",
    "print(final_samples_6yrs.__len__())\n",
    "# print(final_samples_2yrs.__len__())\n",
    "print(PRS_orig_feature_matrix.shape)\n",
    "\n",
    "positive_samples = []\n",
    "negative_samples = []\n",
    "\n",
    "for i,sample in enumerate(usable_samples_ADNI):\n",
    "    for s in final_samples_6yrs:\n",
    "        # print(s)\n",
    "        if sample == s[0]:\n",
    "            if s[1] == 0:\n",
    "                negative_samples.append(PRS_orig_feature_matrix[i])\n",
    "            else:\n",
    "                positive_samples.append(PRS_orig_feature_matrix[i])\n",
    "\n",
    "\n",
    "\n",
    "\n",
    "\n",
    "# print(PRS_to_AD_mapping.__len__())"
   ]
  },
  {
   "cell_type": "code",
   "execution_count": 2,
   "metadata": {},
   "outputs": [
    {
     "name": "stdout",
     "output_type": "stream",
     "text": [
      "Positive samples mean PRS : -0.21301332 standard deviation 0.99877524\n"
     ]
    },
    {
     "data": {
      "image/png": "[encoded data removed]",
      "text/plain": [
       "<Figure size 640x480 with 1 Axes>"
      ]
     },
     "metadata": {},
     "output_type": "display_data"
    },
    {
     "name": "stdout",
     "output_type": "stream",
     "text": [
      "Negative samples mean PRS : 0.12148829 standard deviation 0.91424644\n"
     ]
    },
    {
     "data": {
      "image/png": "[encoded data removed]",
      "text/plain": [
       "<Figure size 640x480 with 1 Axes>"
      ]
     },
     "metadata": {},
     "output_type": "display_data"
    }
   ],
   "source": [
    "import matplotlib.pyplot as plt\n",
    "print(\"Positive samples mean PRS :\",np.mean(positive_samples),\"standard deviation\",np.std(positive_samples))\n",
    "plt.hist(positive_samples,10)\n",
    "plt.show()\n",
    "plt.hist(negative_samples,10)\n",
    "print(\"Negative samples mean PRS :\",np.mean(negative_samples),\"standard deviation\",np.std(negative_samples))"
   ]
  },
  {
   "cell_type": "code",
   "execution_count": 3,
   "metadata": {},
   "outputs": [],
   "source": [
    "# making 0 as threshold\n",
    "y_original=[]\n",
    "y_predicted=[]\n",
    "\n",
    "for i,sample in enumerate(usable_samples_ADNI):\n",
    "    \n",
    "    for s in final_samples_6yrs:\n",
    "        # print(s)\n",
    "        if sample == s[0]: \n",
    "            y_predicted.append(PRS_orig_feature_matrix[i] >= 0)\n",
    "            y_original.append(s[1])\n",
    "      \n"
   ]
  },
  {
   "cell_type": "code",
   "execution_count": 4,
   "metadata": {},
   "outputs": [
    {
     "name": "stdout",
     "output_type": "stream",
     "text": [
      "precision:  0.4521583909597613 recall:  0.4461487003058104 f1 score: 0.4286850957646102\n",
      "accuracy 0.4383983572895277\n",
      "AUROC: 0.4461487003058104 AUPRC: 0.7151489282686381\n"
     ]
    }
   ],
   "source": [
    "from sklearn import metrics\n",
    "true=0\n",
    "for i in range(y_original.__len__()):\n",
    "    true+=(y_original[i]==y_predicted[i])\n",
    "precision, recall, fscore,support = metrics.precision_recall_fscore_support(y_original, y_predicted,average=\"macro\")\n",
    "AUROC=metrics.roc_auc_score(y_original,y_predicted)\n",
    "p, r, thresholds = metrics.precision_recall_curve(y_original,y_predicted)\n",
    "AUPRC = metrics.auc(r, p)\n",
    "print(\"precision: \",precision,\"recall: \", recall,\"f1 score:\", fscore)\n",
    "print(\"accuracy\",true/(y_original.__len__()))\n",
    "print(\"AUROC:\",AUROC,\"AUPRC:\",AUPRC)"
   ]
  },
  {
   "cell_type": "code",
   "execution_count": 5,
   "metadata": {},
   "outputs": [],
   "source": [
    "# making 0.6 as threshold\n",
    "y_original=[]\n",
    "y_predicted=[]\n",
    "\n",
    "for i,sample in enumerate(usable_samples_ADNI):\n",
    "    \n",
    "    for s in final_samples_6yrs:\n",
    "        # print(s)\n",
    "        if sample == s[0]: \n",
    "            y_predicted.append(PRS_orig_feature_matrix[i] >= 0.6)\n",
    "            y_original.append(s[1])\n",
    "      \n"
   ]
  },
  {
   "cell_type": "code",
   "execution_count": 6,
   "metadata": {},
   "outputs": [
    {
     "name": "stdout",
     "output_type": "stream",
     "text": [
      "precision:  0.42609220048244445 recall:  0.43675458715596327 f1 score: 0.35562340966921124\n",
      "accuracy 0.3593429158110883\n",
      "AUROC: 0.43675458715596327 AUPRC: 0.6508794556890429\n"
     ]
    }
   ],
   "source": [
    "from sklearn import metrics\n",
    "true=0\n",
    "for i in range(y_original.__len__()):\n",
    "    true+=(y_original[i]==y_predicted[i])\n",
    "precision, recall, fscore,support = metrics.precision_recall_fscore_support(y_original, y_predicted,average=\"macro\")\n",
    "AUROC=metrics.roc_auc_score(y_original,y_predicted)\n",
    "p, r, thresholds = metrics.precision_recall_curve(y_original,y_predicted)\n",
    "AUPRC = metrics.auc(r, p)\n",
    "print(\"precision: \",precision,\"recall: \", recall,\"f1 score:\", fscore)\n",
    "print(\"accuracy\",true/(y_original.__len__()))\n",
    "print(\"AUROC:\",AUROC,\"AUPRC:\",AUPRC)"
   ]
  }
 ],
 "metadata": {
  "kernelspec": {
   "display_name": "Python 3 (ipykernel)",
   "language": "python",
   "name": "python3"
  },
  "language_info": {
   "codemirror_mode": {
    "name": "ipython",
    "version": 3
   },
   "file_extension": ".py",
   "mimetype": "text/x-python",
   "name": "python",
   "nbconvert_exporter": "python",
   "pygments_lexer": "ipython3",
   "version": "3.7.11"
  },
  "vscode": {
   "interpreter": {
    "hash": "3f7965b4c8ddf98cd8cc1f613dce0c0d054499dd4a6b649eeb59a69b51e3259a"
   }
  }
 },
 "nbformat": 4,
 "nbformat_minor": 2
}
