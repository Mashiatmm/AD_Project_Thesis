{
 "cells": [
  {
   "cell_type": "code",
   "execution_count": 8,
   "metadata": {},
   "outputs": [],
   "source": [
    "import pandas as pd\n",
    "import numpy as np"
   ]
  },
  {
   "cell_type": "code",
   "execution_count": 9,
   "metadata": {},
   "outputs": [],
   "source": [
    "shuffled = pd.read_csv(\"../rosmap_balanced_shuffled_8yrs.csv\")\n",
    "# print( shuffled.head() )"
   ]
  },
  {
   "cell_type": "code",
   "execution_count": 10,
   "metadata": {},
   "outputs": [
    {
     "name": "stdout",
     "output_type": "stream",
     "text": [
      "   Alzheimer's disease  output\n",
      "0             0.914950     0.0\n",
      "1            -0.500243     1.0\n",
      "2            -0.452429     1.0\n",
      "3             0.941689     1.0\n",
      "4             0.701310     0.0\n"
     ]
    }
   ],
   "source": [
    "cols_to_take = ['Alzheimer\\'s disease', 'output']\n",
    "shuffled = shuffled[cols_to_take]\n",
    "print( shuffled.head() )"
   ]
  },
  {
   "cell_type": "code",
   "execution_count": 11,
   "metadata": {},
   "outputs": [
    {
     "name": "stdout",
     "output_type": "stream",
     "text": [
      "0.017909277939724126 0.034319220110774 0.02351163678435744\n"
     ]
    }
   ],
   "source": [
    "mean = shuffled['Alzheimer\\'s disease'].mean()\n",
    "median = shuffled['Alzheimer\\'s disease'].median()\n",
    "positive_samples=shuffled[shuffled['output'] == 1]\n",
    "pos_samples_mean=positive_samples['Alzheimer\\'s disease'].mean()\n",
    "negative_samples=shuffled[shuffled['output'] == 0]\n",
    "neg_samples_mean=negative_samples['Alzheimer\\'s disease'].mean()\n",
    "\n",
    "print( mean, median,pos_samples_mean)"
   ]
  },
  {
   "cell_type": "code",
   "execution_count": 12,
   "metadata": {},
   "outputs": [],
   "source": [
    "mode = 'negative mean'"
   ]
  },
  {
   "cell_type": "code",
   "execution_count": 13,
   "metadata": {},
   "outputs": [
    {
     "name": "stdout",
     "output_type": "stream",
     "text": [
      "   Alzheimer's disease  output\n",
      "0                    1     0.0\n",
      "1                    0     1.0\n",
      "2                    0     1.0\n",
      "3                    1     1.0\n",
      "4                    1     0.0\n"
     ]
    }
   ],
   "source": [
    "if mode == 'mean':\n",
    "    shuffled['Alzheimer\\'s disease'] = np.where( shuffled['Alzheimer\\'s disease'] >= mean, 1, 0)\n",
    "elif mode == 'median':\n",
    "    shuffled['Alzheimer\\'s disease'] = np.where( shuffled['Alzheimer\\'s disease'] >= median, 1, 0)\n",
    "elif mode=='positive mean': \n",
    "    shuffled['Alzheimer\\'s disease'] = np.where( shuffled['Alzheimer\\'s disease'] >= pos_samples_mean, 1, 0)\n",
    "elif mode=='negative mean': \n",
    "    shuffled['Alzheimer\\'s disease'] = np.where( shuffled['Alzheimer\\'s disease'] >= neg_samples_mean, 1, 0)\n",
    "print( shuffled.head() )"
   ]
  },
  {
   "cell_type": "code",
   "execution_count": 14,
   "metadata": {},
   "outputs": [
    {
     "name": "stdout",
     "output_type": "stream",
     "text": [
      "Accuracy: 0.5083798882681564\n",
      "Precision: 0.5082568807339449\n",
      "Recall: 0.515828677839851\n",
      "F1-score: 0.5120147874306838\n",
      "AUROC: 0.5083798882681564\n",
      "AUPRC: 0.5042591358720722\n"
     ]
    }
   ],
   "source": [
    "from sklearn.metrics import confusion_matrix, accuracy_score, precision_score, recall_score, f1_score, roc_auc_score, average_precision_score\n",
    "\n",
    "true_labels = shuffled['output']\n",
    "predicted_labels = shuffled['Alzheimer\\'s disease']\n",
    "\n",
    "# Calculate accuracy\n",
    "accuracy = accuracy_score(true_labels, predicted_labels)\n",
    "\n",
    "# Calculate precision\n",
    "precision = precision_score(true_labels, predicted_labels)\n",
    "\n",
    "# Calculate recall\n",
    "recall = recall_score(true_labels, predicted_labels)\n",
    "\n",
    "# Calculate AUROC\n",
    "auroc = roc_auc_score(true_labels, predicted_labels)\n",
    "\n",
    "# Calculate AUPRC\n",
    "auprc = average_precision_score(true_labels, predicted_labels)\n",
    "\n",
    "fscore = f1_score(true_labels, predicted_labels)\n",
    "\n",
    "print(\"Accuracy:\", accuracy)\n",
    "print(\"Precision:\", precision)\n",
    "print(\"Recall:\", recall)\n",
    "print(\"F1-score:\", fscore)\n",
    "print(\"AUROC:\", auroc)\n",
    "print(\"AUPRC:\", auprc)\n"
   ]
  },
  {
   "cell_type": "code",
   "execution_count": 63,
   "metadata": {},
   "outputs": [
    {
     "name": "stdout",
     "output_type": "stream",
     "text": [
      "[[144  88]\n",
      " [ 88 144]]\n"
     ]
    }
   ],
   "source": [
    "conf_matrix = confusion_matrix(true_labels, predicted_labels)\n",
    "print( conf_matrix )"
   ]
  },
  {
   "cell_type": "markdown",
   "metadata": {},
   "source": [
    "# Read the input dataset :\n",
    "\n",
    "1. usable_samples_ADNI.json : stores the IID (index) for each row of PRS_feature_matrix.npy\n",
    "2. PRS_feature_matrix.npy : PR Score for different features\n",
    "3. Covar_FILE_bigger_dataset : for reading covar such as age, gender\n",
    "4. Final_Samples.json : contains ID and output for each data"
   ]
  },
  {
   "cell_type": "code",
   "execution_count": 3,
   "metadata": {},
   "outputs": [],
   "source": [
    "if True:\n",
    "    def warn(*args, **kwargs):\n",
    "        pass\n",
    "    import warnings\n",
    "    warnings.warn = warn\n",
    "\n",
    "import pandas as pd\n",
    "import numpy as np\n",
    "import json\n",
    "import random\n",
    "import math\n",
    "\n",
    "import os\n",
    "import time\n",
    "import sys\n",
    "\n",
    "import torch as t\n",
    "from torch import nn\n",
    "from torch.autograd import Variable\n",
    "import torch\n",
    "from torch.utils import data\n",
    "\n",
    "from sklearn.metrics import precision_recall_fscore_support, roc_auc_score, precision_recall_curve, auc\n",
    "from sklearn.model_selection import train_test_split\n",
    "from sklearn.model_selection import KFold \n",
    "\n",
    "DEVICE = \"cuda\" if torch.cuda.is_available() else \"cpu\"\n",
    "\n",
    "import shap\n",
    "from copy import deepcopy\n",
    "\n",
    "import pickle\n",
    "from tqdm import tqdm\n",
    "\n",
    "import matplotlib\n",
    "import matplotlib.pyplot as plt\n",
    "\n",
    "import seaborn as sns\n",
    "\n",
    "import tpot\n",
    "\n",
    "from imblearn.over_sampling import SMOTE\n",
    "from imblearn.over_sampling import BorderlineSMOTE\n",
    "from imblearn.over_sampling import ADASYN"
   ]
  },
  {
   "cell_type": "code",
   "execution_count": 2,
   "metadata": {},
   "outputs": [],
   "source": [
    "# !pip install skfeature-chappers\n",
    "# !pip install mlxtend\n",
    "# !pip --version\n",
    "# !pip install imblearn\n",
    "# !conda install -c conda-forge imbalanced-learn\n",
    "# conda install -c conda-forge tqdm\n",
    "# conda install mlxtend\n",
    "\n",
    "# conda config --add channels conda-forge\n",
    "# conda install hyperopt\n",
    "\n",
    "# conda config --add channels conda-forge\n",
    "# conda config --set channel_priority strict\n",
    "# conda install auto-sklearn\n",
    "# conda install -c conda-forge tpot\n",
    "\n"
   ]
  },
  {
   "cell_type": "markdown",
   "metadata": {},
   "source": [
    "Show the installed packages with their versions"
   ]
  },
  {
   "cell_type": "code",
   "execution_count": 3,
   "metadata": {},
   "outputs": [
    {
     "name": "stdout",
     "output_type": "stream",
     "text": [
      "# packages in environment at /home/bayzid/anaconda3/envs/ad_venv_2:\r\n",
      "#\r\n",
      "# Name                    Version                   Build  Channel\r\n",
      "_libgcc_mutex             0.1                 conda_forge    conda-forge\r\n",
      "_openmp_mutex             4.5                  2_kmp_llvm    conda-forge\r\n",
      "_py-xgboost-mutex         2.0                       cpu_0    conda-forge\r\n",
      "_r-mutex                  1.0.1               anacondar_1    conda-forge\r\n",
      "abseil-cpp                20211102.0           h93e1e8c_2    conda-forge\r\n",
      "absl-py                   1.4.0              pyhd8ed1ab_0    conda-forge\r\n",
      "aiohttp                   3.8.4           py310h1fa729e_0    conda-forge\r\n",
      "aiosignal                 1.3.1              pyhd8ed1ab_0    conda-forge\r\n",
      "alsa-lib                  1.2.6.1              h7f98852_0    conda-forge\r\n",
      "anyio                     3.6.2              pyhd8ed1ab_0    conda-forge\r\n",
      "aom                       3.5.0                h27087fc_0    conda-forge\r\n",
      "argon2-cffi               21.3.0             pyhd8ed1ab_0    conda-forge\r\n",
      "argon2-cffi-bindings      21.2.0          py310h5764c6d_3    conda-forge\r\n",
      "asttokens                 2.2.0              pyhd8ed1ab_0    conda-forge\r\n",
      "astunparse                1.6.3              pyhd8ed1ab_0    conda-forge\r\n",
      "async-timeout             4.0.2              pyhd8ed1ab_0    conda-forge\r\n",
      "attr                      2.5.1                h166bdaf_1    conda-forge\r\n",
      "attrs                     22.1.0             pyh71513ae_1    conda-forge\r\n",
      "backcall                  0.2.0              pyh9f0ad1d_0    conda-forge\r\n",
      "backports                 1.0                pyhd8ed1ab_3    conda-forge\r\n",
      "backports.functools_lru_cache 1.6.4              pyhd8ed1ab_0    conda-forge\r\n",
      "beautifulsoup4            4.11.1             pyha770c72_0    conda-forge\r\n",
      "binutils_impl_linux-64    2.39                 he00db2b_1    conda-forge\r\n",
      "binutils_linux-64         2.39                h5fc0e48_11    conda-forge\r\n",
      "blas                      2.116                  openblas    conda-forge\r\n",
      "blas-devel                3.9.0           16_linux64_openblas    conda-forge\r\n",
      "bleach                    5.0.1              pyhd8ed1ab_0    conda-forge\r\n",
      "blinker                   1.5                pyhd8ed1ab_0    conda-forge\r\n",
      "blosc                     1.21.3               hafa529b_0    conda-forge\r\n",
      "bottleneck                1.3.5           py310hde88566_1    conda-forge\r\n",
      "brotli                    1.0.9                h166bdaf_8    conda-forge\r\n",
      "brotli-bin                1.0.9                h166bdaf_8    conda-forge\r\n",
      "brotlipy                  0.7.0           py310h5764c6d_1005    conda-forge\r\n",
      "brunsli                   0.1                  h9c3ff4c_0    conda-forge\r\n",
      "bwidget                   1.9.14               ha770c72_1    conda-forge\r\n",
      "bzip2                     1.0.8                h7f98852_4    conda-forge\r\n",
      "c-ares                    1.18.1               h7f98852_0    conda-forge\r\n",
      "c-blosc2                  2.6.1                hf91038e_0    conda-forge\r\n",
      "ca-certificates           2022.12.7            ha878542_0    conda-forge\r\n",
      "cached-property           1.5.2                hd8ed1ab_1    conda-forge\r\n",
      "cached_property           1.5.2              pyha770c72_1    conda-forge\r\n",
      "cachetools                5.3.0              pyhd8ed1ab_0    conda-forge\r\n",
      "cairo                     1.16.0            ha61ee94_1012    conda-forge\r\n",
      "certifi                   2022.12.7          pyhd8ed1ab_0    conda-forge\r\n",
      "cffi                      1.15.1          py310h255011f_2    conda-forge\r\n",
      "cfitsio                   4.1.0                hd9d235c_0    conda-forge\r\n",
      "charls                    2.3.4                h9c3ff4c_0    conda-forge\r\n",
      "charset-normalizer        2.1.1              pyhd8ed1ab_0    conda-forge\r\n",
      "click                     8.1.3           unix_pyhd8ed1ab_2    conda-forge\r\n",
      "cloudpickle               2.2.0              pyhd8ed1ab_0    conda-forge\r\n",
      "colorama                  0.4.6              pyhd8ed1ab_0    conda-forge\r\n",
      "contourpy                 1.0.6           py310hbf28c38_0    conda-forge\r\n",
      "cryptography              38.0.4          py310h597c629_0    conda-forge\r\n",
      "cudatoolkit               10.2.89             h713d32c_11    conda-forge\r\n",
      "cudnn                     7.6.5.32             h01f27c4_1    conda-forge\r\n",
      "curl                      7.86.0               h7bff187_1    conda-forge\r\n",
      "cycler                    0.11.0             pyhd8ed1ab_0    conda-forge\r\n",
      "cytoolz                   0.12.0          py310h5764c6d_1    conda-forge\r\n",
      "dask-core                 2023.2.0           pyhd8ed1ab_0    conda-forge\r\n",
      "dav1d                     1.0.0                h166bdaf_1    conda-forge\r\n",
      "dbus                      1.13.6               h5008d03_3    conda-forge\r\n",
      "deap                      1.3.3           py310h769672d_1    conda-forge\r\n",
      "debugpy                   1.6.4           py310hd8f1fbe_0    conda-forge\r\n",
      "decorator                 5.1.1              pyhd8ed1ab_0    conda-forge\r\n",
      "defusedxml                0.7.1              pyhd8ed1ab_0    conda-forge\r\n",
      "deprecated                1.2.13                   pypi_0    pypi\r\n",
      "entrypoints               0.4                pyhd8ed1ab_0    conda-forge\r\n",
      "et_xmlfile                1.0.1                   py_1001    conda-forge\r\n",
      "exceptiongroup            1.1.0                    pypi_0    pypi\r\n",
      "executing                 1.2.0              pyhd8ed1ab_0    conda-forge\r\n",
      "expat                     2.5.0                h27087fc_0    conda-forge\r\n",
      "ffmpeg                    4.4.2           gpl_hc51e5dc_110    conda-forge\r\n",
      "fftw                      3.3.10          nompi_hf0379b8_105    conda-forge\r\n",
      "flit-core                 3.8.0              pyhd8ed1ab_0    conda-forge\r\n",
      "font-ttf-dejavu-sans-mono 2.37                 hab24e00_0    conda-forge\r\n",
      "font-ttf-inconsolata      3.000                h77eed37_0    conda-forge\r\n",
      "font-ttf-source-code-pro  2.038                h77eed37_0    conda-forge\r\n",
      "font-ttf-ubuntu           0.83                 hab24e00_0    conda-forge\r\n",
      "fontconfig                2.14.0               h8e229c2_0    conda-forge\r\n",
      "fonts-conda-ecosystem     1                             0    conda-forge\r\n",
      "fonts-conda-forge         1                             0    conda-forge\r\n",
      "fonttools                 4.38.0          py310h5764c6d_1    conda-forge\r\n",
      "freeglut                  3.2.2                h9c3ff4c_1    conda-forge\r\n",
      "freetype                  2.12.1               hca18f0e_1    conda-forge\r\n",
      "fribidi                   1.0.10               h36c2ea0_0    conda-forge\r\n",
      "frozenlist                1.3.3           py310h5764c6d_0    conda-forge\r\n",
      "fsspec                    2023.1.0           pyhd8ed1ab_0    conda-forge\r\n",
      "gast                      0.4.0              pyh9f0ad1d_0    conda-forge\r\n",
      "gcc_impl_linux-64         12.2.0              hcc96c02_19    conda-forge\r\n",
      "gcc_linux-64              12.2.0              h4798a0e_11    conda-forge\r\n",
      "gettext                   0.21.1               h27087fc_0    conda-forge\r\n",
      "gfortran_impl_linux-64    12.2.0              h55be85b_19    conda-forge\r\n",
      "gfortran_linux-64         12.2.0              h307d370_11    conda-forge\r\n",
      "giflib                    5.2.1                h36c2ea0_2    conda-forge\r\n",
      "glib                      2.74.1               h6239696_0    conda-forge\r\n",
      "glib-tools                2.74.1               h6239696_0    conda-forge\r\n",
      "gmp                       6.2.1                h58526e2_0    conda-forge\r\n",
      "gnutls                    3.7.8                hf3e180e_0    conda-forge\r\n",
      "google-auth               2.16.1             pyh1a96a4e_0    conda-forge\r\n",
      "google-auth-oauthlib      0.4.6              pyhd8ed1ab_0    conda-forge\r\n",
      "google-pasta              0.2.0              pyh8c360ce_0    conda-forge\r\n",
      "graphite2                 1.3.13            h58526e2_1001    conda-forge\r\n",
      "grpc-cpp                  1.46.4               h6fc47f4_3    conda-forge\r\n",
      "grpcio                    1.46.4          py310he36eabb_3    conda-forge\r\n",
      "gsl                       2.7                  he838d99_0    conda-forge\r\n",
      "gst-plugins-base          1.20.3               hf6a322e_0    conda-forge\r\n",
      "gstreamer                 1.20.3               hd4edc92_2    conda-forge\r\n",
      "gxx_impl_linux-64         12.2.0              hcc96c02_19    conda-forge\r\n",
      "gxx_linux-64              12.2.0              hb41e900_11    conda-forge\r\n",
      "h5py                      3.8.0           nompi_py310h0311031_100    conda-forge\r\n",
      "harfbuzz                  5.1.0                hf9f4e7c_0    conda-forge\r\n",
      "hdf5                      1.12.2          nompi_h2386368_100    conda-forge\r\n",
      "icu                       70.1                 h27087fc_0    conda-forge\r\n",
      "idna                      3.4                pyhd8ed1ab_0    conda-forge\r\n",
      "imagecodecs               2022.7.27       py310h1281eb2_0    conda-forge\r\n",
      "imageio                   2.25.1             pyh24c5eb1_0    conda-forge\r\n",
      "imbalanced-learn          0.9.1              pyhd8ed1ab_1    conda-forge\r\n",
      "importlib-metadata        5.1.0              pyha770c72_0    conda-forge\r\n",
      "importlib_resources       5.10.0             pyhd8ed1ab_0    conda-forge\r\n",
      "iniconfig                 2.0.0                    pypi_0    pypi\r\n",
      "intel-openmp              2022.1.0          h9e868ea_3769  \r\n",
      "ipykernel                 6.17.1             pyh210e3f2_0    conda-forge\r\n",
      "ipython                   8.6.0              pyh41d4057_1    conda-forge\r\n",
      "ipython_genutils          0.2.0                      py_1    conda-forge\r\n",
      "ipywidgets                8.0.2              pyhd8ed1ab_1    conda-forge\r\n",
      "jack                      1.9.18            h8c3723f_1002    conda-forge\r\n",
      "jasper                    2.0.33               h0ff4b12_1    conda-forge\r\n",
      "jedi                      0.18.2             pyhd8ed1ab_0    conda-forge\r\n",
      "jinja2                    3.1.2              pyhd8ed1ab_1    conda-forge\r\n",
      "joblib                    1.2.0              pyhd8ed1ab_0    conda-forge\r\n",
      "jpeg                      9e                   h166bdaf_2    conda-forge\r\n",
      "jsonschema                4.17.3             pyhd8ed1ab_0    conda-forge\r\n",
      "jupyter                   1.0.0           py310hff52083_7    conda-forge\r\n",
      "jupyter_client            7.4.7              pyhd8ed1ab_0    conda-forge\r\n",
      "jupyter_console           6.4.4              pyhd8ed1ab_0    conda-forge\r\n",
      "jupyter_core              5.1.0           py310hff52083_0    conda-forge\r\n",
      "jupyter_server            1.23.3             pyhd8ed1ab_0    conda-forge\r\n",
      "jupyterlab_pygments       0.2.2              pyhd8ed1ab_0    conda-forge\r\n",
      "jupyterlab_widgets        3.0.3              pyhd8ed1ab_0    conda-forge\r\n",
      "jxrlib                    1.1                  h7f98852_2    conda-forge\r\n",
      "keras                     2.9.0              pyhd8ed1ab_0    conda-forge\r\n",
      "keras-preprocessing       1.1.2              pyhd8ed1ab_0    conda-forge\r\n",
      "kernel-headers_linux-64   2.6.32              he073ed8_15    conda-forge\r\n",
      "keyutils                  1.6.1                h166bdaf_0    conda-forge\r\n",
      "kiwisolver                1.4.4           py310hbf28c38_1    conda-forge\r\n",
      "krb5                      1.19.3               h3790be6_0    conda-forge\r\n",
      "lame                      3.100             h166bdaf_1003    conda-forge\r\n",
      "lcms2                     2.14                 h6ed2654_0    conda-forge\r\n",
      "ld_impl_linux-64          2.39                 hcc3a1bd_1    conda-forge\r\n",
      "lerc                      3.0                  h9c3ff4c_0    conda-forge\r\n",
      "libabseil                 20211102.0      cxx17_h48a1fff_2    conda-forge\r\n",
      "libaec                    1.0.6                hcb278e6_1    conda-forge\r\n",
      "libavif                   0.10.1               h5cdd6b5_2    conda-forge\r\n",
      "libblas                   3.9.0           16_linux64_openblas    conda-forge\r\n",
      "libbrotlicommon           1.0.9                h166bdaf_8    conda-forge\r\n",
      "libbrotlidec              1.0.9                h166bdaf_8    conda-forge\r\n",
      "libbrotlienc              1.0.9                h166bdaf_8    conda-forge\r\n",
      "libcap                    2.64                 ha37c62d_0    conda-forge\r\n",
      "libcblas                  3.9.0           16_linux64_openblas    conda-forge\r\n",
      "libclang                  14.0.6          default_h2e3cab8_0    conda-forge\r\n",
      "libclang13                14.0.6          default_h3a83d3e_0    conda-forge\r\n",
      "libcups                   2.3.3                h3e49a29_2    conda-forge\r\n",
      "libcurl                   7.86.0               h7bff187_1    conda-forge\r\n",
      "libdb                     6.2.32               h9c3ff4c_0    conda-forge\r\n",
      "libdeflate                1.12                 h166bdaf_0    conda-forge\r\n",
      "libdrm                    2.4.114              h166bdaf_0    conda-forge\r\n",
      "libedit                   3.1.20191231         he28a2e2_2    conda-forge\r\n",
      "libev                     4.33                 h516909a_1    conda-forge\r\n",
      "libevent                  2.1.10               h9b69904_4    conda-forge\r\n",
      "libffi                    3.4.2                h7f98852_5    conda-forge\r\n",
      "libflac                   1.3.4                h27087fc_0    conda-forge\r\n",
      "libgcc                    5.2.0                         0    conda-forge\r\n",
      "libgcc-devel_linux-64     12.2.0              h3b97bd3_19    conda-forge\r\n",
      "libgcc-ng                 12.2.0              h65d4601_19    conda-forge\r\n",
      "libgfortran-ng            12.2.0              h69a702a_19    conda-forge\r\n",
      "libgfortran5              12.2.0              h337968e_19    conda-forge\r\n",
      "libglib                   2.74.1               h7a41b64_0    conda-forge\r\n",
      "libglu                    9.0.0             he1b5a44_1001    conda-forge\r\n",
      "libgomp                   12.2.0              h65d4601_19    conda-forge\r\n",
      "libiconv                  1.17                 h166bdaf_0    conda-forge\r\n",
      "libidn2                   2.3.4                h166bdaf_0    conda-forge\r\n",
      "liblapack                 3.9.0           16_linux64_openblas    conda-forge\r\n",
      "liblapacke                3.9.0           16_linux64_openblas    conda-forge\r\n",
      "libllvm10                 10.0.1               he513fc3_3    conda-forge\r\n",
      "libllvm11                 11.1.0               he0ac6c6_5    conda-forge\r\n",
      "libllvm14                 14.0.6               he0ac6c6_1    conda-forge\r\n",
      "libnghttp2                1.47.0               hdcd2b5c_1    conda-forge\r\n",
      "libnsl                    2.0.0                h7f98852_0    conda-forge\r\n",
      "libogg                    1.3.4                h7f98852_1    conda-forge\r\n",
      "libopenblas               0.3.21          pthreads_h78a6416_3    conda-forge\r\n",
      "libopencv                 4.6.0           py310hedba25b_3    conda-forge\r\n",
      "libopus                   1.3.1                h7f98852_1    conda-forge\r\n",
      "libpciaccess              0.17                 h166bdaf_0    conda-forge\r\n",
      "libpng                    1.6.39               h753d276_0    conda-forge\r\n",
      "libpq                     14.5                 hd77ab85_1    conda-forge\r\n",
      "libprotobuf               3.20.2               h6239696_0    conda-forge\r\n",
      "libsanitizer              12.2.0              h46fd767_19    conda-forge\r\n",
      "libsndfile                1.0.31               h9c3ff4c_1    conda-forge\r\n",
      "libsodium                 1.0.18               h36c2ea0_1    conda-forge\r\n",
      "libsqlite                 3.40.0               h753d276_0    conda-forge\r\n",
      "libssh2                   1.10.0               ha56f1ee_2    conda-forge\r\n",
      "libstdcxx-devel_linux-64  12.2.0              h3b97bd3_19    conda-forge\r\n",
      "libstdcxx-ng              12.2.0              h46fd767_19    conda-forge\r\n",
      "libtasn1                  4.19.0               h166bdaf_0    conda-forge\r\n",
      "libtiff                   4.4.0                hc85c160_1    conda-forge\r\n",
      "libtool                   2.4.6             h9c3ff4c_1008    conda-forge\r\n",
      "libudev1                  252                  h166bdaf_0    conda-forge\r\n",
      "libunistring              0.9.10               h7f98852_0    conda-forge\r\n",
      "libuuid                   2.32.1            h7f98852_1000    conda-forge\r\n",
      "libva                     2.17.0               h0b41bf4_0    conda-forge\r\n",
      "libvorbis                 1.3.7                h9c3ff4c_0    conda-forge\r\n",
      "libvpx                    1.11.0               h9c3ff4c_3    conda-forge\r\n",
      "libwebp                   1.2.4                h522a892_0    conda-forge\r\n",
      "libwebp-base              1.2.4                h166bdaf_0    conda-forge\r\n",
      "libxcb                    1.13              h7f98852_1004    conda-forge\r\n",
      "libxgboost                1.7.1            cpu_ha3b9936_0    conda-forge\r\n",
      "libxkbcommon              1.0.3                he3ba5ed_0    conda-forge\r\n",
      "libxml2                   2.10.3               h7463322_0    conda-forge\r\n",
      "libxslt                   1.1.37               h873f0b0_0    conda-forge\r\n",
      "libzlib                   1.2.13               h166bdaf_4    conda-forge\r\n",
      "libzopfli                 1.0.3                h9c3ff4c_0    conda-forge\r\n",
      "llvm-openmp               15.0.6               he0ac6c6_0    conda-forge\r\n",
      "llvmlite                  0.39.1          py310h58363a5_1    conda-forge\r\n",
      "locket                    1.0.0              pyhd8ed1ab_0    conda-forge\r\n",
      "lz4-c                     1.9.3                h9c3ff4c_1    conda-forge\r\n",
      "magma                     2.5.4                hfead8bd_4    conda-forge\r\n",
      "make                      4.3                  hd18ef5c_1    conda-forge\r\n",
      "markdown                  3.4.1              pyhd8ed1ab_0    conda-forge\r\n",
      "markupsafe                2.1.1           py310h5764c6d_2    conda-forge\r\n",
      "matplotlib                3.6.2           py310hff52083_0    conda-forge\r\n",
      "matplotlib-base           3.6.2           py310h8d5ebf3_0    conda-forge\r\n",
      "matplotlib-inline         0.1.6              pyhd8ed1ab_0    conda-forge\r\n",
      "mistune                   2.0.4              pyhd8ed1ab_0    conda-forge\r\n",
      "mkl                       2022.2.1         h84fe81f_16996    conda-forge\r\n",
      "mlxtend                   0.21.0             pyhd8ed1ab_0    conda-forge\r\n",
      "multidict                 6.0.4           py310h1fa729e_0    conda-forge\r\n",
      "munkres                   1.1.4              pyh9f0ad1d_0    conda-forge\r\n",
      "mysql-common              8.0.31               haf5c9bc_0    conda-forge\r\n",
      "mysql-libs                8.0.31               h28c427c_0    conda-forge\r\n",
      "nbclassic                 0.4.8              pyhd8ed1ab_0    conda-forge\r\n",
      "nbclient                  0.7.2              pyhd8ed1ab_0    conda-forge\r\n",
      "nbconvert                 7.2.5              pyhd8ed1ab_0    conda-forge\r\n",
      "nbconvert-core            7.2.5              pyhd8ed1ab_0    conda-forge\r\n",
      "nbconvert-pandoc          7.2.5              pyhd8ed1ab_0    conda-forge\r\n",
      "nbformat                  5.7.0              pyhd8ed1ab_0    conda-forge\r\n",
      "nccl                      2.14.3.1             h1a5f58c_0    conda-forge\r\n",
      "ncurses                   6.3                  h27087fc_1    conda-forge\r\n",
      "nest-asyncio              1.5.6              pyhd8ed1ab_0    conda-forge\r\n",
      "nettle                    3.8.1                hc379101_1    conda-forge\r\n",
      "networkx                  3.0                pyhd8ed1ab_0    conda-forge\r\n",
      "ninja                     1.11.0               h924138e_0    conda-forge\r\n",
      "notebook                  6.5.2              pyha770c72_1    conda-forge\r\n",
      "notebook-shim             0.2.2              pyhd8ed1ab_0    conda-forge\r\n",
      "nspr                      4.35                 h27087fc_0    conda-forge\r\n",
      "nss                       3.82                 he02c5a1_0    conda-forge\r\n",
      "numba                     0.56.4          py310ha5257ce_0    conda-forge\r\n",
      "numexpr                   2.7.3           py310hb5077e9_1    conda-forge\r\n",
      "numpy                     1.23.5          py310h53a5b5f_0    conda-forge\r\n",
      "oauthlib                  3.2.2              pyhd8ed1ab_0    conda-forge\r\n",
      "openblas                  0.3.21          pthreads_h320a7e8_3    conda-forge\r\n",
      "opencv                    4.6.0           py310hff52083_3    conda-forge\r\n",
      "openh264                  2.3.1                h27087fc_1    conda-forge\r\n",
      "openjpeg                  2.5.0                h7d73246_1    conda-forge\r\n",
      "openpyxl                  3.0.9              pyhd8ed1ab_0    conda-forge\r\n",
      "openssl                   1.1.1t               h0b41bf4_0    conda-forge\r\n",
      "opt_einsum                3.3.0              pyhd8ed1ab_1    conda-forge\r\n",
      "p11-kit                   0.24.1               hc5aa10d_0    conda-forge\r\n",
      "packaging                 21.3               pyhd8ed1ab_0    conda-forge\r\n",
      "pandas                    1.5.2           py310h769672d_0    conda-forge\r\n",
      "pandas-plink              2.2.9                    pypi_0    pypi\r\n",
      "pandoc                    2.19.2               ha770c72_0    conda-forge\r\n",
      "pandocfilters             1.5.0              pyhd8ed1ab_0    conda-forge\r\n",
      "pango                     1.50.9               hc4f8a73_0    conda-forge\r\n",
      "parso                     0.8.3              pyhd8ed1ab_0    conda-forge\r\n",
      "partd                     1.3.0              pyhd8ed1ab_0    conda-forge\r\n",
      "patsy                     0.5.3              pyhd8ed1ab_0    conda-forge\r\n",
      "pcre                      8.45                 h9c3ff4c_0    conda-forge\r\n",
      "pcre2                     10.37                h032f7d1_0    conda-forge\r\n",
      "pexpect                   4.8.0              pyh1a96a4e_2    conda-forge\r\n",
      "pickleshare               0.7.5                   py_1003    conda-forge\r\n",
      "pillow                    9.2.0           py310hbd86126_2    conda-forge\r\n",
      "pip                       22.3.1             pyhd8ed1ab_0    conda-forge\r\n",
      "pixman                    0.40.0               h36c2ea0_0    conda-forge\r\n",
      "pkgutil-resolve-name      1.3.10             pyhd8ed1ab_0    conda-forge\r\n",
      "platformdirs              2.5.2              pyhd8ed1ab_1    conda-forge\r\n",
      "pluggy                    1.0.0                    pypi_0    pypi\r\n",
      "ply                       3.11                       py_1    conda-forge\r\n",
      "portaudio                 19.6.0               h57a0ea0_5    conda-forge\r\n",
      "prometheus_client         0.15.0             pyhd8ed1ab_0    conda-forge\r\n",
      "prompt-toolkit            3.0.33             pyha770c72_0    conda-forge\r\n",
      "prompt_toolkit            3.0.33               hd8ed1ab_0    conda-forge\r\n",
      "protobuf                  3.20.2          py310hd8f1fbe_1    conda-forge\r\n",
      "psutil                    5.9.4           py310h5764c6d_0    conda-forge\r\n",
      "pthread-stubs             0.4               h36c2ea0_1001    conda-forge\r\n",
      "ptyprocess                0.7.0              pyhd3deb0d_0    conda-forge\r\n",
      "pulseaudio                14.0                 h7f54b18_8    conda-forge\r\n",
      "pure_eval                 0.2.2              pyhd8ed1ab_0    conda-forge\r\n",
      "py-opencv                 4.6.0           py310hfdc917e_3    conda-forge\r\n",
      "py-xgboost                1.7.1           cpu_py310hd1aba9c_0    conda-forge\r\n",
      "pyasn1                    0.4.8                      py_0    conda-forge\r\n",
      "pyasn1-modules            0.2.7                      py_0    conda-forge\r\n",
      "pycparser                 2.21               pyhd8ed1ab_0    conda-forge\r\n",
      "pygments                  2.13.0             pyhd8ed1ab_0    conda-forge\r\n",
      "pyjwt                     2.6.0              pyhd8ed1ab_0    conda-forge\r\n",
      "pyopenssl                 22.1.0             pyhd8ed1ab_0    conda-forge\r\n",
      "pyparsing                 3.0.9              pyhd8ed1ab_0    conda-forge\r\n",
      "pyqt                      5.15.7          py310h29803b5_0    conda-forge\r\n",
      "pyqt5-sip                 12.11.0         py310hd8f1fbe_0    conda-forge\r\n",
      "pyrsistent                0.19.2          py310h5764c6d_0    conda-forge\r\n",
      "pysocks                   1.7.1              pyha2e5f31_6    conda-forge\r\n",
      "pytest                    7.2.1                    pypi_0    pypi\r\n",
      "python                    3.10.8          h257c98d_0_cpython    conda-forge\r\n",
      "python-dateutil           2.8.2              pyhd8ed1ab_0    conda-forge\r\n",
      "python-fastjsonschema     2.16.2             pyhd8ed1ab_0    conda-forge\r\n",
      "python-flatbuffers        1.12               pyhd8ed1ab_1    conda-forge\r\n",
      "python_abi                3.10                    2_cp310    conda-forge\r\n",
      "pytorch                   1.12.1          cuda102py310hdf4a2db_200    conda-forge\r\n",
      "pytz                      2022.6             pyhd8ed1ab_0    conda-forge\r\n",
      "pyu2f                     0.1.5              pyhd8ed1ab_0    conda-forge\r\n",
      "pywavelets                1.4.1           py310h0a54255_0    conda-forge\r\n",
      "pyyaml                    6.0             py310h5764c6d_5    conda-forge\r\n",
      "pyzmq                     24.0.1          py310h330234f_1    conda-forge\r\n",
      "qt-main                   5.15.4               ha5833f6_2    conda-forge\r\n",
      "qt-webengine              5.15.4               hcbadb6c_3    conda-forge\r\n",
      "qtconsole                 5.4.0              pyhd8ed1ab_0    conda-forge\r\n",
      "qtconsole-base            5.4.0              pyha770c72_0    conda-forge\r\n",
      "qtpy                      2.3.0              pyhd8ed1ab_0    conda-forge\r\n",
      "qtwebkit                  5.212                h3383a02_6    conda-forge\r\n",
      "r                         4.2             r42hd8ed1ab_1006    conda-forge\r\n",
      "r-base                    4.2.1                ha8c3e7c_1    conda-forge\r\n",
      "r-boot                    1.3_28.1          r42hc72bb7e_0    conda-forge\r\n",
      "r-class                   7.3_20            r42h06615bd_1    conda-forge\r\n",
      "r-cluster                 2.1.4             r42h8da6f51_0    conda-forge\r\n",
      "r-codetools               0.2_18            r42hc72bb7e_1    conda-forge\r\n",
      "r-foreign                 0.8_83            r42h06615bd_1    conda-forge\r\n",
      "r-kernsmooth              2.23_20           r42hd009a43_1    conda-forge\r\n",
      "r-lattice                 0.20_45           r42h06615bd_1    conda-forge\r\n",
      "r-mass                    7.3_58.1          r42h06615bd_1    conda-forge\r\n",
      "r-matrix                  1.5_3             r42h5f7b363_0    conda-forge\r\n",
      "r-mgcv                    1.8_41            r42h5f7b363_0    conda-forge\r\n",
      "r-nlme                    3.1_160           r42h8da6f51_0    conda-forge\r\n",
      "r-nnet                    7.3_18            r42h06615bd_1    conda-forge\r\n",
      "r-recommended             4.2             r42hd8ed1ab_1005    conda-forge\r\n",
      "r-rpart                   4.1.19            r42h06615bd_0    conda-forge\r\n",
      "r-spatial                 7.3_15            r42h06615bd_1    conda-forge\r\n",
      "r-survival                3.4_0             r42h06615bd_1    conda-forge\r\n",
      "re2                       2022.06.01           h27087fc_1    conda-forge\r\n",
      "readline                  8.1.2                h0f457ee_0    conda-forge\r\n",
      "requests                  2.28.1             pyhd8ed1ab_1    conda-forge\r\n",
      "requests-oauthlib         1.3.1              pyhd8ed1ab_0    conda-forge\r\n",
      "rsa                       4.9                pyhd8ed1ab_0    conda-forge\r\n",
      "scikit-image              0.19.3          py310h769672d_2    conda-forge\r\n",
      "scikit-learn              1.1.3           py310h0c3af53_1    conda-forge\r\n",
      "scipy                     1.9.3           py310hdfbd76f_2    conda-forge\r\n",
      "seaborn                   0.12.1               hd8ed1ab_0    conda-forge\r\n",
      "seaborn-base              0.12.1             pyhd8ed1ab_0    conda-forge\r\n",
      "sed                       4.8                  he412f7d_0    conda-forge\r\n",
      "send2trash                1.8.0              pyhd8ed1ab_0    conda-forge\r\n",
      "setuptools                65.5.1             pyhd8ed1ab_0    conda-forge\r\n",
      "shap                      0.39.0          py310hb5077e9_1    conda-forge\r\n",
      "sip                       6.6.2           py310hd8f1fbe_0    conda-forge\r\n",
      "six                       1.16.0             pyh6c4a22f_0    conda-forge\r\n",
      "sleef                     3.5.1                h9b69904_2    conda-forge\r\n",
      "slicer                    0.0.7              pyhd8ed1ab_0    conda-forge\r\n",
      "snappy                    1.1.9                hbd366e4_2    conda-forge\r\n",
      "sniffio                   1.3.0              pyhd8ed1ab_0    conda-forge\r\n",
      "soupsieve                 2.3.2.post1        pyhd8ed1ab_0    conda-forge\r\n",
      "sqlite                    3.40.0               h4ff8645_0    conda-forge\r\n",
      "stack_data                0.6.2              pyhd8ed1ab_0    conda-forge\r\n",
      "statsmodels               0.13.5          py310hde88566_2    conda-forge\r\n",
      "stopit                    1.1.2                      py_0    conda-forge\r\n",
      "svt-av1                   1.3.0                h27087fc_0    conda-forge\r\n",
      "sysroot_linux-64          2.12                he073ed8_15    conda-forge\r\n",
      "tbb                       2021.7.0             h924138e_0    conda-forge\r\n",
      "tensorboard               2.9.0              pyhd8ed1ab_0    conda-forge\r\n",
      "tensorboard-data-server   0.6.1           py310h597c629_4    conda-forge\r\n",
      "tensorboard-plugin-wit    1.8.1              pyhd8ed1ab_0    conda-forge\r\n",
      "tensorflow                2.9.1           cuda102py310hcf4adbc_0    conda-forge\r\n",
      "tensorflow-base           2.9.1           cuda102py310h282d6da_0    conda-forge\r\n",
      "tensorflow-estimator      2.9.1           cuda102py310hac962ef_0    conda-forge\r\n",
      "termcolor                 2.2.0              pyhd8ed1ab_0    conda-forge\r\n",
      "terminado                 0.17.0             pyh41d4057_0    conda-forge\r\n",
      "threadpoolctl             3.1.0              pyh8a188c0_0    conda-forge\r\n",
      "tifffile                  2022.10.10         pyhd8ed1ab_0    conda-forge\r\n",
      "tinycss2                  1.2.1              pyhd8ed1ab_0    conda-forge\r\n",
      "tk                        8.6.12               h27826a3_0    conda-forge\r\n",
      "tktable                   2.10                 hb7b940f_3    conda-forge\r\n",
      "toml                      0.10.2             pyhd8ed1ab_0    conda-forge\r\n",
      "tomli                     2.0.1                    pypi_0    pypi\r\n",
      "toolz                     0.12.0             pyhd8ed1ab_0    conda-forge\r\n",
      "torchvision               0.13.0          cuda102py310h4532de0_0    conda-forge\r\n",
      "tornado                   6.2             py310h5764c6d_1    conda-forge\r\n",
      "tpot                      0.11.7             pyhd8ed1ab_1    conda-forge\r\n",
      "tqdm                      4.64.1             pyhd8ed1ab_0    conda-forge\r\n",
      "traitlets                 5.6.0              pyhd8ed1ab_0    conda-forge\r\n",
      "typing-extensions         4.4.0                hd8ed1ab_0    conda-forge\r\n",
      "typing_extensions         4.4.0              pyha770c72_0    conda-forge\r\n",
      "tzdata                    2022g                h191b570_0    conda-forge\r\n",
      "unicodedata2              15.0.0          py310h5764c6d_0    conda-forge\r\n",
      "update_checker            0.18.0             pyh9f0ad1d_0    conda-forge\r\n",
      "urllib3                   1.26.13            pyhd8ed1ab_0    conda-forge\r\n",
      "wcwidth                   0.2.5              pyh9f0ad1d_2    conda-forge\r\n",
      "webencodings              0.5.1                      py_1    conda-forge\r\n",
      "websocket-client          1.4.2              pyhd8ed1ab_0    conda-forge\r\n",
      "werkzeug                  2.2.3              pyhd8ed1ab_0    conda-forge\r\n",
      "wheel                     0.38.4             pyhd8ed1ab_0    conda-forge\r\n",
      "widgetsnbextension        4.0.3              pyhd8ed1ab_0    conda-forge\r\n",
      "wrapt                     1.14.1          py310h5764c6d_1    conda-forge\r\n",
      "x264                      1!164.3095           h166bdaf_2    conda-forge\r\n",
      "x265                      3.5                  h924138e_3    conda-forge\r\n",
      "xarray                    2023.2.0                 pypi_0    pypi\r\n",
      "xcb-util                  0.4.0                h166bdaf_0    conda-forge\r\n",
      "xcb-util-image            0.4.0                h166bdaf_0    conda-forge\r\n",
      "xcb-util-keysyms          0.4.0                h166bdaf_0    conda-forge\r\n",
      "xcb-util-renderutil       0.3.9                h166bdaf_0    conda-forge\r\n",
      "xcb-util-wm               0.4.1                h166bdaf_0    conda-forge\r\n",
      "xorg-fixesproto           5.0               h7f98852_1002    conda-forge\r\n",
      "xorg-inputproto           2.3.2             h7f98852_1002    conda-forge\r\n",
      "xorg-kbproto              1.0.7             h7f98852_1002    conda-forge\r\n",
      "xorg-libice               1.0.10               h7f98852_0    conda-forge\r\n",
      "xorg-libsm                1.2.3             hd9c2040_1000    conda-forge\r\n",
      "xorg-libx11               1.7.2                h7f98852_0    conda-forge\r\n",
      "xorg-libxau               1.0.9                h7f98852_0    conda-forge\r\n",
      "xorg-libxdmcp             1.1.3                h7f98852_0    conda-forge\r\n",
      "xorg-libxext              1.3.4                h7f98852_1    conda-forge\r\n",
      "xorg-libxfixes            5.0.3             h7f98852_1004    conda-forge\r\n",
      "xorg-libxi                1.7.10               h7f98852_0    conda-forge\r\n",
      "xorg-libxrender           0.9.10            h7f98852_1003    conda-forge\r\n",
      "xorg-libxt                1.2.1                h7f98852_2    conda-forge\r\n",
      "xorg-renderproto          0.11.1            h7f98852_1002    conda-forge\r\n",
      "xorg-xextproto            7.3.0             h7f98852_1002    conda-forge\r\n",
      "xorg-xproto               7.0.31            h7f98852_1007    conda-forge\r\n",
      "xz                        5.2.6                h166bdaf_0    conda-forge\r\n",
      "yaml                      0.2.5                h7f98852_2    conda-forge\r\n",
      "yarl                      1.8.2           py310h5764c6d_0    conda-forge\r\n",
      "zeromq                    4.3.4                h9c3ff4c_1    conda-forge\r\n",
      "zfp                       0.5.5                h9c3ff4c_8    conda-forge\r\n",
      "zipp                      3.11.0             pyhd8ed1ab_0    conda-forge\r\n",
      "zlib                      1.2.13               h166bdaf_4    conda-forge\r\n",
      "zlib-ng                   2.0.6                h166bdaf_0    conda-forge\r\n",
      "zstandard                 0.19.0                   pypi_0    pypi\r\n",
      "zstd                      1.5.2                h6239696_4    conda-forge\r\n"
     ]
    }
   ],
   "source": [
    "!conda list"
   ]
  },
  {
   "cell_type": "code",
   "execution_count": 4,
   "metadata": {},
   "outputs": [],
   "source": [
    "random_seed =  42# or any of your favorite number \n",
    "torch.manual_seed(random_seed)\n",
    "torch.cuda.manual_seed(random_seed)\n",
    "torch.backends.cudnn.deterministic = True\n",
    "torch.backends.cudnn.benchmark = False\n",
    "\n",
    "np.random.seed(random_seed)\n",
    "random.seed(random_seed)"
   ]
  },
  {
   "cell_type": "code",
   "execution_count": 9,
   "metadata": {},
   "outputs": [
    {
     "name": "stdout",
     "output_type": "stream",
     "text": [
      "1816\n",
      "1816\n"
     ]
    }
   ],
   "source": [
    "Final_Samples_path = './Final_Samples_6yrs.json'\n",
    "Final_Samples = json.load(open(Final_Samples_path, 'r')) \n",
    "usable_samples_ADNI = json.load(open('./usable_samples_ADNI.json'))\n",
    "PRS_orig_feature_matrix = np.load('./PRS_feature_matrix_only_ad.npy').astype(np.float32)\n",
    "# normalize feature matrix\n",
    "PRS_orig_feature_matrix = (PRS_orig_feature_matrix - PRS_orig_feature_matrix.mean(0))/PRS_orig_feature_matrix.std(0)\n",
    "# PRS_orig_feature_matrix.shape[1], len(usable_samples_ADNI), usable_samples_ADNI\n",
    "num_features=len(PRS_orig_feature_matrix)\n",
    "print(len( usable_samples_ADNI ) )\n",
    "print(num_features)"
   ]
  },
  {
   "cell_type": "code",
   "execution_count": 10,
   "metadata": {},
   "outputs": [
    {
     "name": "stdout",
     "output_type": "stream",
     "text": [
      "shape (1817, 14)\n",
      "(1817, 2) (1817, 2)\n",
      "                FID               IID       PC1       PC2       PC3       PC4  \\\n",
      "0  ADNI3_036_S_6231  ADNI3_036_S_6231 -0.006724 -0.010617  0.001596 -0.000460   \n",
      "1  ADNI3_006_S_6277  ADNI3_006_S_6277 -0.010432 -0.010269  0.012757  0.006921   \n",
      "2  ADNI3_129_S_6146  ADNI3_129_S_6146 -0.004919 -0.011656 -0.035521  0.064641   \n",
      "3  ADNI3_033_S_6352  ADNI3_033_S_6352 -0.014069 -0.010279  0.020014  0.053023   \n",
      "4  ADNI3_027_S_6183  ADNI3_027_S_6183 -0.010766 -0.012370 -0.010960  0.029830   \n",
      "\n",
      "        PC5       PC6       PC7       PC8       PC9      PC10  PTGENDER    AGE  \n",
      "0 -0.013131 -0.005855 -0.005142 -0.009063 -0.001739 -0.012863         1  0.691  \n",
      "1 -0.014958 -0.005860 -0.027775 -0.009632  0.054966  0.087390         1  0.707  \n",
      "2  0.012094  0.003860  0.035955  0.006561  0.019736 -0.023304         1  0.655  \n",
      "3  0.023691  0.000247 -0.002273 -0.030627 -0.053461  0.049984         0  0.714  \n",
      "4 -0.019520 -0.001955  0.023844  0.079138  0.002207  0.008892         0  0.656  \n"
     ]
    }
   ],
   "source": [
    "# covar_df = pd.read_csv('./COVAR_FILE_bigger_dataset.txt', ' ') \n",
    "covar_df = pd.read_csv('./COVAR_FILE_bigger_dataset.txt', ' ') \n",
    "print(\"shape\",covar_df.shape)\n",
    "print( covar_df[['AGE', 'PTGENDER']].shape, covar_df[['AGE', 'PTGENDER']].dropna().shape ) \n",
    "# PC - Principal Component\n",
    "\n",
    "# trying to normalize AGE with having max age of 100\n",
    "covar_df['AGE'] = covar_df['AGE'] / 100.0\n",
    "print( covar_df.head() )"
   ]
  },
  {
   "cell_type": "markdown",
   "metadata": {},
   "source": [
    "Covar for ADNI Plink"
   ]
  },
  {
   "cell_type": "markdown",
   "metadata": {},
   "source": [
    "# Alter parameters :\n",
    "    1. Number of features\n",
    "    2. Number of Hidden Layers \n",
    "    3. Dimension of Hidden Layers"
   ]
  },
  {
   "cell_type": "code",
   "execution_count": 7,
   "metadata": {},
   "outputs": [],
   "source": [
    "# num_features = 52\n",
    "# hidden = 4\n",
    "# hidden_dimension = 32"
   ]
  },
  {
   "cell_type": "code",
   "execution_count": 11,
   "metadata": {},
   "outputs": [
    {
     "name": "stdout",
     "output_type": "stream",
     "text": [
      "(1816,)\n"
     ]
    }
   ],
   "source": [
    "# take the first num_features column from PRS_feature_matrix\n",
    "PRS_feature_matrix = PRS_orig_feature_matrix\n",
    "# PRS_feature_matrix = PRS_feature_matrix[:, :num_features]\n",
    "print(PRS_feature_matrix.shape)"
   ]
  },
  {
   "cell_type": "markdown",
   "metadata": {},
   "source": [
    "Final Samples has two columns of data :\n",
    "    1. ID \n",
    "    2. output - true / false\n",
    "    \n",
    "Get the length of positive and negative samples of test dataset"
   ]
  },
  {
   "cell_type": "code",
   "execution_count": 15,
   "metadata": {},
   "outputs": [
    {
     "name": "stdout",
     "output_type": "stream",
     "text": [
      "974\n",
      "654\n",
      "320\n",
      "['2_130_S_4984', 1]\n"
     ]
    }
   ],
   "source": [
    "# positive samples - output true\n",
    "# negative samples - output false\n",
    "len_positive_samples = 0\n",
    "len_negative_samples = 0\n",
    "for x in Final_Samples:\n",
    "    if x[1] == 1 :\n",
    "        len_positive_samples += 1\n",
    "    else :\n",
    "        len_negative_samples += 1\n",
    "        \n",
    "print(len(Final_Samples))\n",
    "print(len_positive_samples)\n",
    "print(len_negative_samples)\n",
    "# print(Final_Samples[0])"
   ]
  },
  {
   "cell_type": "markdown",
   "metadata": {},
   "source": [
    "# Combining covar data with PRS Feature Matrix"
   ]
  },
  {
   "cell_type": "code",
   "execution_count": 19,
   "metadata": {
    "scrolled": true
   },
   "outputs": [
    {
     "name": "stdout",
     "output_type": "stream",
     "text": [
      "Before adding covar_df columns, shape :  (1816,)\n",
      "after adding covar_df columns, shape :  (1816, 2)\n",
      "Count of missing samples for covar data :  234\n"
     ]
    }
   ],
   "source": [
    "# cnt = number of missing IDs for which covar data doesn't exist\n",
    "cnt = 0\n",
    "print(\"Before adding covar_df columns, shape : \",PRS_feature_matrix.shape)\n",
    "# adding ( total columns - 2 ) of covar_df , excluding FID, IID\n",
    "# FEATURE_MATRIX = np.concatenate([PRS_feature_matrix, np.zeros([PRS_feature_matrix.shape[0], covar_df.shape[1] - 2 ])], 1).astype(np.float32)\n",
    "FEATURE_MATRIX = np.concatenate([PRS_feature_matrix.reshape(PRS_feature_matrix.shape[0],1), np.zeros([PRS_feature_matrix.shape[0], 1 ])],1).astype(np.float32)\n",
    "\n",
    "print(\"after adding covar_df columns, shape : \",FEATURE_MATRIX.shape)\n",
    "for sample in usable_samples_ADNI:\n",
    "    age = covar_df[covar_df['IID'] == sample]['AGE']\n",
    "    # shape[0] = 1 means a row is found in covar for the following sample ID\n",
    "    # if not, that means no covar data exists for the sample in usable_samples_ADNI\n",
    "#     print(usable_samples_ADNI[sample],age)\n",
    "#     print(FEATURE_MATRIX[usable_samples_ADNI[sample]])\n",
    "    if age.shape[0] != 1:\n",
    "#         print(covar.shape)\n",
    "#         print(sample)\n",
    "        cnt += 1\n",
    "        continue\n",
    "    # Adding the covar values to the feature matrix\n",
    "    FEATURE_MATRIX[usable_samples_ADNI[sample], -1] = age\n",
    "\n",
    "\n",
    "print(\"Count of missing samples for covar data : \", cnt)\n",
    "#     FEATURE_MATRIX[usable_samples_ADNI[sample], num_features:] = covar # naeem's modification\n",
    "# cnt/FEATURE_MATRIX.shape[0], FEATURE_MATRIX[:2], PRS_feature_matrix[:2]"
   ]
  },
  {
   "cell_type": "markdown",
   "metadata": {},
   "source": [
    "# Storing the index with the Age = 0\n",
    "\n",
    "age is zero for the rows that the covar data was not found"
   ]
  },
  {
   "cell_type": "code",
   "execution_count": 20,
   "metadata": {},
   "outputs": [
    {
     "name": "stdout",
     "output_type": "stream",
     "text": [
      "234\n"
     ]
    }
   ],
   "source": [
    "age_zero = 0\n",
    "age_zero_idx = []\n",
    "for i in range( len(FEATURE_MATRIX) ):\n",
    "    if FEATURE_MATRIX[i, -1] == 0.00:\n",
    "        age_zero += 1\n",
    "        age_zero_idx.append(i)\n",
    "        \n",
    "print(age_zero)"
   ]
  },
  {
   "cell_type": "markdown",
   "metadata": {},
   "source": [
    "# Indices of features to consider"
   ]
  },
  {
   "cell_type": "code",
   "execution_count": 13,
   "metadata": {},
   "outputs": [
    {
     "name": "stdout",
     "output_type": "stream",
     "text": [
      "64\n",
      "[0, 1, 2, 3, 4, 5, 6, 7, 8, 9, 10, 11, 12, 13, 14, 15, 16, 17, 18, 19, 20, 21, 22, 23, 24, 25, 26, 27, 28, 29, 30, 31, 32, 33, 34, 35, 36, 37, 38, 39, 40, 41, 42, 43, 44, 45, 46, 47, 48, 49, 50, 51, 62, 63]\n"
     ]
    }
   ],
   "source": [
    "\n",
    "\n",
    "# # feature_indices_to_consider = list(range(23))#list(range(35)) #[1, 2, 3, 4, 5, 6, 7, 8, 9, 10, 11, 13, 14, 15, 16, 18, 20, 22]\n",
    "# # naeem modified\n",
    "# print(FEATURE_MATRIX.shape[1])\n",
    "# last_idx = FEATURE_MATRIX.shape[1] - 1\n",
    "# feature_indices_to_consider = list(range(num_features))  + [last_idx - 1, last_idx] #list(range(35)) #[1, 2, 3, 4, 5, 6, 7, 8, 9, 10, 11, 13, 14, 15, 16, 18, 20, 22]\n",
    "# # remove_indices = [1, 2, 3]\n",
    "# # for i in remove_indices:\n",
    "# #     feature_indices_to_consider.remove(i)\n",
    "\n",
    "# # feature_indices_to_consider = list(range(23, 36))\n",
    "\n",
    "# # feature_indices_to_consider = [ 4, 11, 14, 21, 23, 26, 32, 34, 46]\n",
    "\n",
    "# # feature_indices_to_consider = [ 9, 10, 11, 14, 21, 23, 26, 28, 32, 34, 46]\n",
    "# # feature_indices_to_consider = [9, 10, 28, 34, 46]\n",
    "\n",
    "# print(feature_indices_to_consider)\n",
    "# # feature_indices_to_consider = [1, 2, 3, 11, 14, 21, 23, 26, 32, 45]\n",
    "# # feature_indices_to_consider = [2, 26, 32, 45]\n"
   ]
  },
  {
   "cell_type": "markdown",
   "metadata": {},
   "source": [
    "# usable_samples_ADNI "
   ]
  },
  {
   "cell_type": "code",
   "execution_count": 21,
   "metadata": {},
   "outputs": [
    {
     "name": "stdout",
     "output_type": "stream",
     "text": [
      "974\n",
      "974\n",
      "Shape of usable features :  (974, 2)\n"
     ]
    }
   ],
   "source": [
    "# usable_indices : take indices from usable_samples_ADNI which are in Final_Samples\n",
    "# usable_features : take the part of feature matrix with usable_indices( rows )\n",
    "#                   and feature_indices_to_consider ( columns )\n",
    "\n",
    "print(len(Final_Samples))\n",
    "usable_indices = [( usable_samples_ADNI[Final_Samples[i][0]] if ( Final_Samples[i][0] in usable_samples_ADNI.keys() ) else None ) for i in range(len(Final_Samples))]\n",
    "print(len(usable_indices))\n",
    "# print(usable_indices)\n",
    "usable_features = FEATURE_MATRIX[usable_indices]\n",
    "print(\"Shape of usable features : \", usable_features.shape)\n"
   ]
  },
  {
   "cell_type": "markdown",
   "metadata": {},
   "source": [
    "# Removing age values with 0"
   ]
  },
  {
   "cell_type": "code",
   "execution_count": 22,
   "metadata": {},
   "outputs": [
    {
     "name": "stdout",
     "output_type": "stream",
     "text": [
      "166\n",
      "(974, 2) 974\n",
      "(808, 2) 808\n",
      "['2_130_S_4984' '1']\n"
     ]
    }
   ],
   "source": [
    "# removing age with value 0\n",
    "#--------------------------------------------------------------------------------\n",
    "age_zero = 0\n",
    "age_zero_idx = []\n",
    "for i in range(len(usable_features)):\n",
    "    if usable_features[i, -1] == 0.00:\n",
    "        age_zero += 1\n",
    "        age_zero_idx.append(i)\n",
    "print(len(age_zero_idx))\n",
    "print(usable_features.shape, len( Final_Samples ) )\n",
    "usable_features = np.delete(usable_features, age_zero_idx, axis = 0)\n",
    "Final_Samples = np.delete(Final_Samples, age_zero_idx, axis = 0)\n",
    "print(usable_features.shape, len( Final_Samples ) )\n",
    "print(Final_Samples[0])\n",
    "#--------------------------------------------------------------------------------"
   ]
  },
  {
   "cell_type": "markdown",
   "metadata": {},
   "source": [
    "# usable_labels : output"
   ]
  },
  {
   "cell_type": "code",
   "execution_count": 23,
   "metadata": {},
   "outputs": [
    {
     "name": "stdout",
     "output_type": "stream",
     "text": [
      "Length of usable labels :  808\n"
     ]
    }
   ],
   "source": [
    "usable_labels = np.array([float(Final_Samples[i][1]) for i in range(len(Final_Samples))])\n",
    "print(\"Length of usable labels : \", len(usable_labels))"
   ]
  },
  {
   "cell_type": "code",
   "execution_count": 28,
   "metadata": {},
   "outputs": [
    {
     "name": "stdout",
     "output_type": "stream",
     "text": [
      "(808, 3)\n",
      "            0      1    2\n",
      "0    0.395380  0.731  1.0\n",
      "1   -0.889506  0.785  1.0\n",
      "2   -0.164152  0.818  1.0\n",
      "3    1.324432  0.716  1.0\n",
      "4   -0.864636  0.695  1.0\n",
      "..        ...    ...  ...\n",
      "803  1.202705  0.770  0.0\n",
      "804 -0.948704  0.681  0.0\n",
      "805 -0.511887  0.788  0.0\n",
      "806 -0.174923  0.665  0.0\n",
      "807 -0.527674  0.742  0.0\n",
      "\n",
      "[808 rows x 3 columns]\n",
      "     AD_PRS    age  output\n",
      "0  0.395380  0.731     1.0\n",
      "1 -0.889506  0.785     1.0\n",
      "2 -0.164152  0.818     1.0\n",
      "3  1.324432  0.716     1.0\n",
      "4 -0.864636  0.695     1.0\n"
     ]
    }
   ],
   "source": [
    "total_features = np.c_[ usable_features, usable_labels ]\n",
    "print(total_features.shape)\n",
    "# print(num_features)\n",
    "# column_list = list(range(num_features)) + [last_idx - 1, last_idx - 2, num_features ] \n",
    "# column_list = feature_indices_to_consider + [num_features]\n",
    "# print( column_list )\n",
    "\n",
    "df = pd.DataFrame(total_features)\n",
    "print(df)\n",
    "\n",
    "# turn column names to strings\n",
    "# df.columns = df.columns.astype(str)\n",
    "\n",
    "# assign traits as column names\n",
    "column_names = ['AD_PRS','age']\n",
    "column_names.append('output')\n",
    "df.columns = column_names\n",
    "# print( df.columns )\n",
    "\n",
    "# dropping last / output column in df\n",
    "df_X = df.iloc[: , :-1]\n",
    "# taking the output column of df\n",
    "df_Y = df.iloc[: , -1]\n",
    "\n",
    "print( df.head() )\n",
    "# print( df_X.head() )\n",
    "# print( df_Y.head() )\n",
    "\n"
   ]
  },
  {
   "cell_type": "code",
   "execution_count": 29,
   "metadata": {},
   "outputs": [
    {
     "name": "stdout",
     "output_type": "stream",
     "text": [
      "(808, 3)\n"
     ]
    }
   ],
   "source": [
    "print(df.shape)\n",
    "df.to_csv('./AD_PRS_age_labels.csv')"
   ]
  },
  {
   "cell_type": "markdown",
   "metadata": {},
   "source": [
    "# Get equal amount of positive & negative data"
   ]
  },
  {
   "cell_type": "code",
   "execution_count": 30,
   "metadata": {},
   "outputs": [
    {
     "name": "stdout",
     "output_type": "stream",
     "text": [
      "1.0    576\n",
      "0.0    232\n",
      "Name: output, dtype: int64\n",
      "(464, 3)\n"
     ]
    }
   ],
   "source": [
    "print( df['output'].value_counts() )\n",
    "\n",
    "ones = df[df['output'] == 1]\n",
    "zeros = df[df['output'] == 0]\n",
    "min_len = min( len(ones), len(zeros) ) \n",
    "\n",
    "ones = ones.iloc[:min_len, :]\n",
    "zeros = zeros.iloc[:min_len, :]\n",
    "\n",
    "df = ones.append(zeros, ignore_index=True)\n",
    "print(df.shape)"
   ]
  },
  {
   "cell_type": "code",
   "execution_count": 31,
   "metadata": {},
   "outputs": [
    {
     "name": "stdout",
     "output_type": "stream",
     "text": [
      "1.0    232\n",
      "0.0    232\n",
      "Name: output, dtype: int64\n"
     ]
    }
   ],
   "source": [
    "print( df['output'].value_counts() )\n",
    "# print(df.head())\n",
    "\n",
    "# ones = df[df['output'] == 1]\n",
    "# zeros = df[df['output'] == 0]\n",
    "# min_len = min( len(ones), len(zeros) ) \n",
    "\n",
    "# ones = ones.iloc[:min_len, :]\n",
    "# zeros = zeros.iloc[:min_len, :]\n",
    "\n",
    "# df = ones.append(zeros, ignore_index=True)\n",
    "# print(df.shape)"
   ]
  },
  {
   "cell_type": "code",
   "execution_count": 36,
   "metadata": {},
   "outputs": [
    {
     "name": "stdout",
     "output_type": "stream",
     "text": [
      "9     -1.427951\n",
      "30     0.069411\n",
      "39    -1.075641\n",
      "443   -0.024665\n",
      "266    0.742128\n",
      "         ...   \n",
      "106   -0.400051\n",
      "270    1.241351\n",
      "348    0.279653\n",
      "435    0.311312\n",
      "102    0.297412\n",
      "Name: AD_PRS, Length: 464, dtype: float64\n",
      "9      1.0\n",
      "30     1.0\n",
      "39     1.0\n",
      "443    0.0\n",
      "266    0.0\n",
      "      ... \n",
      "106    1.0\n",
      "270    0.0\n",
      "348    0.0\n",
      "435    0.0\n",
      "102    1.0\n",
      "Name: output, Length: 464, dtype: float64\n"
     ]
    }
   ],
   "source": [
    "random_seed=42\n",
    "np.random.seed(random_seed)\n",
    "random.seed(random_seed)\n",
    "df=df.sample(frac=1,random_state=42)\n",
    "AD_PRS=df['AD_PRS']\n",
    "labels=df['output']\n",
    "\n",
    "print(AD_PRS)\n",
    "print(labels)"
   ]
  },
  {
   "cell_type": "code",
   "execution_count": 37,
   "metadata": {},
   "outputs": [
    {
     "name": "stdout",
     "output_type": "stream",
     "text": [
      "-0.024325916067905854 -0.01911396812647581\n"
     ]
    }
   ],
   "source": [
    "mean_of_total=np.mean(AD_PRS)\n",
    "median_of_total=np.median(AD_PRS)\n",
    "print(mean_of_total,median_of_total)"
   ]
  },
  {
   "cell_type": "code",
   "execution_count": 40,
   "metadata": {},
   "outputs": [],
   "source": [
    "y_original=np.array(labels)\n",
    "y_predicted_from_mean=np.array(AD_PRS)>mean_of_total\n",
    "y_predicted_from_median=np.array(AD_PRS)>median_of_total\n",
    "\n",
    "# print(y_original)\n",
    "# print(y_predicted_from_mean)"
   ]
  },
  {
   "cell_type": "code",
   "execution_count": 47,
   "metadata": {},
   "outputs": [
    {
     "name": "stdout",
     "output_type": "stream",
     "text": [
      "accuracy 0.4698275862068966 precision 0.4700854700854701 recall 0.47413793103448276 auroc 0.4698275862068966 auprc 0.6035772178013558 fscore 0.4721030042918455\n"
     ]
    }
   ],
   "source": [
    "from sklearn.metrics import precision_score, accuracy_score\n",
    "# from mean scores\n",
    "\n",
    "acc,precision=accuracy_score(y_original, y_predicted_from_mean), precision_score(y_original, y_predicted_from_mean)\n",
    "precision, recall, fscore, support = precision_recall_fscore_support(y_original, y_predicted_from_mean)\n",
    "\n",
    "auroc = roc_auc_score(y_original, y_predicted_from_mean)\n",
    "\n",
    "p, r, thresholds = precision_recall_curve(y_original, y_predicted_from_mean)\n",
    "\n",
    "auprc = auc(r, p)\n",
    "\n",
    "\n",
    "\n",
    "print(\"accuracy\",acc,\"precision\",precision[1],\"recall\",recall[1],\"auroc\",auroc,\"auprc\",auprc,\"fscore\",fscore[1])\n"
   ]
  },
  {
   "cell_type": "code",
   "execution_count": 49,
   "metadata": {},
   "outputs": [
    {
     "name": "stdout",
     "output_type": "stream",
     "text": [
      "accuracy 0.4698275862068966 precision 0.4698275862068966 recall 0.4698275862068966 auroc 0.4698275862068966 auprc 0.6023706896551724 fscore 0.4698275862068966\n"
     ]
    }
   ],
   "source": [
    "from sklearn.metrics import precision_score, accuracy_score\n",
    "# from median scores\n",
    "\n",
    "acc,precision=accuracy_score(y_original, y_predicted_from_median), precision_score(y_original, y_predicted_from_median)\n",
    "precision, recall, fscore, support = precision_recall_fscore_support(y_original, y_predicted_from_median)\n",
    "\n",
    "auroc = roc_auc_score(y_original, y_predicted_from_median)\n",
    "\n",
    "p, r, thresholds = precision_recall_curve(y_original, y_predicted_from_median)\n",
    "\n",
    "auprc = auc(r, p)\n",
    "\n",
    "\n",
    "\n",
    "print(\"accuracy\",acc,\"precision\",precision[1],\"recall\",recall[1],\"auroc\",auroc,\"auprc\",auprc,\"fscore\",fscore[1])\n"
   ]
  },
  {
   "cell_type": "code",
   "execution_count": null,
   "metadata": {},
   "outputs": [],
   "source": []
  }
 ],
 "metadata": {
  "kernelspec": {
   "display_name": "ad_venv_2",
   "language": "python",
   "name": "ad_venv_2"
  },
  "language_info": {
   "codemirror_mode": {
    "name": "ipython",
    "version": 3
   },
   "file_extension": ".py",
   "mimetype": "text/x-python",
   "name": "python",
   "nbconvert_exporter": "python",
   "pygments_lexer": "ipython3",
   "version": "3.10.8"
  }
 },
 "nbformat": 4,
 "nbformat_minor": 2
}
