{
 "cells": [
  {
   "cell_type": "code",
   "execution_count": 7,
   "metadata": {},
   "outputs": [],
   "source": [
    "import pandas as pd\n",
    "import numpy as np"
   ]
  },
  {
   "cell_type": "code",
   "execution_count": 4,
   "metadata": {},
   "outputs": [],
   "source": [
    "def get_prs_values(GWAS_ID):\n",
    "    prsice_output = f'../PRSice_output_ROSMAP/{GWAS_ID}/'\n",
    "    prs_array = pd.read_csv(prsice_output+f'{GWAS_ID}.best', ' ')['PRS'].to_numpy() \n",
    "    return prs_array"
   ]
  },
  {
   "cell_type": "code",
   "execution_count": 8,
   "metadata": {},
   "outputs": [
    {
     "name": "stderr",
     "output_type": "stream",
     "text": [
      "/tmp/ipykernel_13604/1243932605.py:3: FutureWarning: In a future version of pandas all arguments of read_csv except for the argument 'filepath_or_buffer' will be keyword-only.\n",
      "  prs_array = pd.read_csv(prsice_output+f'{GWAS_ID}.best', ' ')['PRS'].to_numpy()\n"
     ]
    }
   ],
   "source": [
    "# PRS_feature_matrix_only_ad = np.zeros([1, 1816])\n",
    "PRS_feature_matrix_only_ad = get_prs_values(GWAS_ID='ukb-b-12963')\n",
    "PRS_feature_matrix_only_ad = PRS_feature_matrix_only_ad.T\n",
    "np.save('PRS_feature_matrix_only_ad', PRS_feature_matrix_only_ad)"
   ]
  },
  {
   "cell_type": "code",
   "execution_count": 10,
   "metadata": {},
   "outputs": [
    {
     "name": "stdout",
     "output_type": "stream",
     "text": [
      "1644\n",
      "1286\n",
      "1192\n",
      "(1644,)\n"
     ]
    },
    {
     "name": "stderr",
     "output_type": "stream",
     "text": [
      "/tmp/ipykernel_13604/4138940926.py:9: FutureWarning: In a future version of pandas all arguments of read_csv except for the argument 'filepath_or_buffer' will be keyword-only.\n",
      "  covar_df = pd.read_csv('../covar_affymetrix.txt', ' ')\n"
     ]
    }
   ],
   "source": [
    "import numpy as np\n",
    "import pandas as pd\n",
    "import json\n",
    "\n",
    "PRS_orig_feature_matrix = np.load('./PRS_feature_matrix_only_ad.npy').astype(np.float32)\n",
    "usable_samples_ROSMAP = json.load(open('../usable_samples_ROSMAP.json'))\n",
    "final_samples_6yrs=json.load(open('../Final Samples/Final_Samples_6yrs.json'))\n",
    "final_samples_8yrs=json.load(open('../Final Samples/Final_Samples_8yrs.json'))\n",
    "covar_df = pd.read_csv('../covar_affymetrix.txt', ' ') \n",
    "# covar_df['AGE'] = covar_df['AGE'] / 100.0\n",
    "\n",
    "print(usable_samples_ROSMAP.__len__())\n",
    "print(final_samples_6yrs.__len__())\n",
    "print(final_samples_8yrs.__len__())\n",
    "print(PRS_orig_feature_matrix.shape)\n",
    "# print(covar_df['AGE'])\n",
    "\n",
    "\n",
    "# print(PRS_to_AD_mapping.__len__())"
   ]
  },
  {
   "cell_type": "code",
   "execution_count": 11,
   "metadata": {},
   "outputs": [],
   "source": [
    "\n",
    "positive_samples = []\n",
    "negative_samples = []\n",
    "\n",
    "for i,sample in enumerate(usable_samples_ROSMAP):\n",
    "    for s in final_samples_8yrs:\n",
    "        # print(s)\n",
    "        if sample == s[0]:\n",
    "            if s[1] == 0:\n",
    "                negative_samples.append(PRS_orig_feature_matrix[i])\n",
    "            else:\n",
    "                positive_samples.append(PRS_orig_feature_matrix[i])\n",
    "\n",
    "\n"
   ]
  },
  {
   "cell_type": "code",
   "execution_count": 12,
   "metadata": {},
   "outputs": [
    {
     "name": "stdout",
     "output_type": "stream",
     "text": [
      "Positive samples mean PRS : 0.018147467 standard deviation 1.0639718\n"
     ]
    },
    {
     "data": {
      "image/png": "[encoded data removed]",
      "text/plain": [
       "<Figure size 640x480 with 1 Axes>"
      ]
     },
     "metadata": {},
     "output_type": "display_data"
    },
    {
     "name": "stdout",
     "output_type": "stream",
     "text": [
      "Negative samples mean PRS : 0.016001927 standard deviation 0.8952241\n"
     ]
    },
    {
     "data": {
      "image/png": "[encoded data removed]",
      "text/plain": [
       "<Figure size 640x480 with 1 Axes>"
      ]
     },
     "metadata": {},
     "output_type": "display_data"
    }
   ],
   "source": [
    "import matplotlib.pyplot as plt\n",
    "print(\"Positive samples mean PRS :\",np.mean(positive_samples),\"standard deviation\",np.std(positive_samples))\n",
    "plt.hist(positive_samples,10)\n",
    "plt.show()\n",
    "plt.hist(negative_samples,10)\n",
    "print(\"Negative samples mean PRS :\",np.mean(negative_samples),\"standard deviation\",np.std(negative_samples))"
   ]
  },
  {
   "cell_type": "code",
   "execution_count": 14,
   "metadata": {},
   "outputs": [],
   "source": [
    "# making 0 as threshold\n",
    "y_original=[]\n",
    "y_predicted=[]\n",
    "\n",
    "for i,sample in enumerate(usable_samples_ROSMAP):\n",
    "    \n",
    "    for s in final_samples_8yrs:\n",
    "        # print(s)\n",
    "        if sample == s[0]: \n",
    "            y_predicted.append(PRS_orig_feature_matrix[i] >= 0)\n",
    "            y_original.append(s[1])\n",
    "      \n"
   ]
  },
  {
   "cell_type": "code",
   "execution_count": 15,
   "metadata": {},
   "outputs": [
    {
     "name": "stdout",
     "output_type": "stream",
     "text": [
      "precision:  0.4976999776916191 recall:  0.4976843362190285 f1 score: 0.4947260503538968\n",
      "accuracy 0.4949664429530201\n",
      "AUROC: 0.4976843362190285 AUPRC: 0.65420283097118\n"
     ]
    }
   ],
   "source": [
    "from sklearn import metrics\n",
    "true=0\n",
    "for i in range(y_original.__len__()):\n",
    "    true+=(y_original[i]==y_predicted[i])\n",
    "precision, recall, fscore,support = metrics.precision_recall_fscore_support(y_original, y_predicted,average=\"macro\")\n",
    "AUROC=metrics.roc_auc_score(y_original,y_predicted)\n",
    "p, r, thresholds = metrics.precision_recall_curve(y_original,y_predicted)\n",
    "AUPRC = metrics.auc(r, p)\n",
    "print(\"precision: \",precision,\"recall: \", recall,\"f1 score:\", fscore)\n",
    "print(\"accuracy\",true/(y_original.__len__()))\n",
    "print(\"AUROC:\",AUROC,\"AUPRC:\",AUPRC)"
   ]
  },
  {
   "cell_type": "code",
   "execution_count": 17,
   "metadata": {},
   "outputs": [],
   "source": [
    "# making 0.6 as threshold\n",
    "y_original=[]\n",
    "y_predicted=[]\n",
    "\n",
    "for i,sample in enumerate(usable_samples_ROSMAP):\n",
    "    \n",
    "    for s in final_samples_8yrs:\n",
    "        # print(s)\n",
    "        if sample == s[0]: \n",
    "            y_predicted.append(PRS_orig_feature_matrix[i] >= 0.6)\n",
    "            y_original.append(s[1])\n",
    "      \n"
   ]
  },
  {
   "cell_type": "code",
   "execution_count": 18,
   "metadata": {},
   "outputs": [
    {
     "name": "stdout",
     "output_type": "stream",
     "text": [
      "precision:  0.5143327067669172 recall:  0.5104055610047337 f1 score: 0.4589076737414334\n",
      "accuracy 0.48406040268456374\n",
      "AUROC: 0.5104055610047337 AUPRC: 0.6154859184823579\n"
     ]
    }
   ],
   "source": [
    "from sklearn import metrics\n",
    "true=0\n",
    "for i in range(y_original.__len__()):\n",
    "    true+=(y_original[i]==y_predicted[i])\n",
    "precision, recall, fscore,support = metrics.precision_recall_fscore_support(y_original, y_predicted,average=\"macro\")\n",
    "AUROC=metrics.roc_auc_score(y_original,y_predicted)\n",
    "p, r, thresholds = metrics.precision_recall_curve(y_original,y_predicted)\n",
    "AUPRC = metrics.auc(r, p)\n",
    "print(\"precision: \",precision,\"recall: \", recall,\"f1 score:\", fscore)\n",
    "print(\"accuracy\",true/(y_original.__len__()))\n",
    "print(\"AUROC:\",AUROC,\"AUPRC:\",AUPRC)"
   ]
  },
  {
   "cell_type": "code",
   "execution_count": null,
   "metadata": {},
   "outputs": [],
   "source": [
    "print(PRS_feature_matrix_only_ad.shap)"
   ]
  }
 ],
 "metadata": {
  "kernelspec": {
   "display_name": "Python 3 (ipykernel)",
   "language": "python",
   "name": "python3"
  },
  "language_info": {
   "codemirror_mode": {
    "name": "ipython",
    "version": 3
   },
   "file_extension": ".py",
   "mimetype": "text/x-python",
   "name": "python",
   "nbconvert_exporter": "python",
   "pygments_lexer": "ipython3",
   "version": "3.10.8"
  },
  "vscode": {
   "interpreter": {
    "hash": "3f7965b4c8ddf98cd8cc1f613dce0c0d054499dd4a6b649eeb59a69b51e3259a"
   }
  }
 },
 "nbformat": 4,
 "nbformat_minor": 2
}
