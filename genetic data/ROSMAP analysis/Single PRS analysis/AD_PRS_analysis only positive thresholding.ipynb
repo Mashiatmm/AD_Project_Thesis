{
 "cells": [
  {
   "cell_type": "code",
   "execution_count": 3,
   "metadata": {},
   "outputs": [
    {
     "ename": "FileNotFoundError",
     "evalue": "[Errno 2] No such file or directory: '../usable_samples_ADNI.json'",
     "output_type": "error",
     "traceback": [
      "\u001b[0;31m---------------------------------------------------------------------------\u001b[0m",
      "\u001b[0;31mFileNotFoundError\u001b[0m                         Traceback (most recent call last)",
      "\u001b[0;32m/tmp/ipykernel_12883/1881799187.py\u001b[0m in \u001b[0;36m<module>\u001b[0;34m\u001b[0m\n\u001b[1;32m      5\u001b[0m \u001b[0;34m\u001b[0m\u001b[0m\n\u001b[1;32m      6\u001b[0m \u001b[0mPRS_orig_feature_matrix\u001b[0m \u001b[0;34m=\u001b[0m \u001b[0mnp\u001b[0m\u001b[0;34m.\u001b[0m\u001b[0mload\u001b[0m\u001b[0;34m(\u001b[0m\u001b[0;34m'./PRS_feature_matrix_only_ad.npy'\u001b[0m\u001b[0;34m)\u001b[0m\u001b[0;34m.\u001b[0m\u001b[0mastype\u001b[0m\u001b[0;34m(\u001b[0m\u001b[0mnp\u001b[0m\u001b[0;34m.\u001b[0m\u001b[0mfloat32\u001b[0m\u001b[0;34m)\u001b[0m\u001b[0;34m\u001b[0m\u001b[0;34m\u001b[0m\u001b[0m\n\u001b[0;32m----> 7\u001b[0;31m \u001b[0musable_samples_ADNI\u001b[0m \u001b[0;34m=\u001b[0m \u001b[0mjson\u001b[0m\u001b[0;34m.\u001b[0m\u001b[0mload\u001b[0m\u001b[0;34m(\u001b[0m\u001b[0mopen\u001b[0m\u001b[0;34m(\u001b[0m\u001b[0;34m'../usable_samples_ADNI.json'\u001b[0m\u001b[0;34m)\u001b[0m\u001b[0;34m)\u001b[0m\u001b[0;34m\u001b[0m\u001b[0;34m\u001b[0m\u001b[0m\n\u001b[0m\u001b[1;32m      8\u001b[0m \u001b[0mfinal_samples_6yrs\u001b[0m\u001b[0;34m=\u001b[0m\u001b[0mjson\u001b[0m\u001b[0;34m.\u001b[0m\u001b[0mload\u001b[0m\u001b[0;34m(\u001b[0m\u001b[0mopen\u001b[0m\u001b[0;34m(\u001b[0m\u001b[0;34m'./Final_Samples_8yrs.json'\u001b[0m\u001b[0;34m)\u001b[0m\u001b[0;34m)\u001b[0m\u001b[0;34m\u001b[0m\u001b[0;34m\u001b[0m\u001b[0m\n\u001b[1;32m      9\u001b[0m \u001b[0;31m# final_samples_2yrs=json.load(open('./Final_Samples_2yrs.json'))\u001b[0m\u001b[0;34m\u001b[0m\u001b[0;34m\u001b[0m\u001b[0;34m\u001b[0m\u001b[0m\n",
      "\u001b[0;31mFileNotFoundError\u001b[0m: [Errno 2] No such file or directory: '../usable_samples_ADNI.json'"
     ]
    }
   ],
   "source": [
    "import numpy as np\n",
    "import pandas as pd\n",
    "import json\n",
    "import seaborn as sns\n",
    "\n",
    "PRS_orig_feature_matrix = np.load('./PRS_feature_matrix_only_ad.npy').astype(np.float32)\n",
    "usable_samples_ADNI = json.load(open('../usable_samples_ADNI.json'))\n",
    "final_samples_6yrs=json.load(open('./Final_Samples_8yrs.json'))\n",
    "# final_samples_2yrs=json.load(open('./Final_Samples_2yrs.json'))\n",
    "covar_df = pd.read_csv('./COVAR_FILE_bigger_dataset.txt', ' ') \n",
    "covar_df['AGE'] = covar_df['AGE'] / 100.0\n",
    "\n",
    "print(usable_samples_ADNI.__len__())\n",
    "print(final_samples_6yrs.__len__())\n",
    "# print(final_samples_2yrs.__len__())\n",
    "print(PRS_orig_feature_matrix.shape)\n",
    "\n",
    "positive_samples = []\n",
    "negative_samples = []\n",
    "\n",
    "for i,sample in enumerate(usable_samples_ADNI):\n",
    "    for s in final_samples_6yrs:\n",
    "        # print(s)\n",
    "        if sample == s[0]:\n",
    "            if s[1] == 0:\n",
    "                negative_samples.append(PRS_orig_feature_matrix[i])\n",
    "            else:\n",
    "                positive_samples.append(PRS_orig_feature_matrix[i])\n",
    "\n",
    "\n",
    "\n",
    "\n",
    "\n",
    "# print(PRS_to_AD_mapping.__len__())"
   ]
  },
  {
   "cell_type": "code",
   "execution_count": 2,
   "metadata": {},
   "outputs": [
    {
     "ename": "NameError",
     "evalue": "name 'positive_samples' is not defined",
     "output_type": "error",
     "traceback": [
      "\u001b[0;31m---------------------------------------------------------------------------\u001b[0m",
      "\u001b[0;31mNameError\u001b[0m                                 Traceback (most recent call last)",
      "\u001b[0;32m/tmp/ipykernel_12883/4138457537.py\u001b[0m in \u001b[0;36m<module>\u001b[0;34m\u001b[0m\n\u001b[1;32m      1\u001b[0m \u001b[0;32mimport\u001b[0m \u001b[0mmatplotlib\u001b[0m\u001b[0;34m.\u001b[0m\u001b[0mpyplot\u001b[0m \u001b[0;32mas\u001b[0m \u001b[0mplt\u001b[0m\u001b[0;34m\u001b[0m\u001b[0;34m\u001b[0m\u001b[0m\n\u001b[0;32m----> 2\u001b[0;31m \u001b[0mprint\u001b[0m\u001b[0;34m(\u001b[0m\u001b[0;34m\"Positive samples mean PRS :\"\u001b[0m\u001b[0;34m,\u001b[0m\u001b[0mnp\u001b[0m\u001b[0;34m.\u001b[0m\u001b[0mmean\u001b[0m\u001b[0;34m(\u001b[0m\u001b[0mpositive_samples\u001b[0m\u001b[0;34m)\u001b[0m\u001b[0;34m,\u001b[0m\u001b[0;34m\"standard deviation\"\u001b[0m\u001b[0;34m,\u001b[0m\u001b[0mnp\u001b[0m\u001b[0;34m.\u001b[0m\u001b[0mstd\u001b[0m\u001b[0;34m(\u001b[0m\u001b[0mpositive_samples\u001b[0m\u001b[0;34m)\u001b[0m\u001b[0;34m)\u001b[0m\u001b[0;34m\u001b[0m\u001b[0;34m\u001b[0m\u001b[0m\n\u001b[0m\u001b[1;32m      3\u001b[0m \u001b[0mplt\u001b[0m\u001b[0;34m.\u001b[0m\u001b[0mhist\u001b[0m\u001b[0;34m(\u001b[0m\u001b[0mpositive_samples\u001b[0m\u001b[0;34m,\u001b[0m\u001b[0;36m10\u001b[0m\u001b[0;34m)\u001b[0m\u001b[0;34m\u001b[0m\u001b[0;34m\u001b[0m\u001b[0m\n\u001b[1;32m      4\u001b[0m \u001b[0mplt\u001b[0m\u001b[0;34m.\u001b[0m\u001b[0mshow\u001b[0m\u001b[0;34m(\u001b[0m\u001b[0;34m)\u001b[0m\u001b[0;34m\u001b[0m\u001b[0;34m\u001b[0m\u001b[0m\n\u001b[1;32m      5\u001b[0m \u001b[0mplt\u001b[0m\u001b[0;34m.\u001b[0m\u001b[0mhist\u001b[0m\u001b[0;34m(\u001b[0m\u001b[0mnegative_samples\u001b[0m\u001b[0;34m,\u001b[0m\u001b[0;36m10\u001b[0m\u001b[0;34m)\u001b[0m\u001b[0;34m\u001b[0m\u001b[0;34m\u001b[0m\u001b[0m\n",
      "\u001b[0;31mNameError\u001b[0m: name 'positive_samples' is not defined"
     ]
    }
   ],
   "source": [
    "import matplotlib.pyplot as plt\n",
    "print(\"Positive samples mean PRS :\",np.mean(positive_samples),\"standard deviation\",np.std(positive_samples))\n",
    "plt.hist(positive_samples,10)\n",
    "plt.show()\n",
    "plt.hist(negative_samples,10)\n",
    "print(\"Negative samples mean PRS :\",np.mean(negative_samples),\"standard deviation\",np.std(negative_samples))"
   ]
  },
  {
   "cell_type": "code",
   "execution_count": 3,
   "metadata": {},
   "outputs": [],
   "source": [
    "# making 0 as threshold\n",
    "y_original=[]\n",
    "y_predicted=[]\n",
    "\n",
    "for i,sample in enumerate(usable_samples_ADNI):\n",
    "    \n",
    "    for s in final_samples_6yrs:\n",
    "        # print(s)\n",
    "        if sample == s[0]: \n",
    "            y_predicted.append(PRS_orig_feature_matrix[i] >= 0)\n",
    "            y_original.append(s[1])\n",
    "      \n"
   ]
  },
  {
   "cell_type": "code",
   "execution_count": 4,
   "metadata": {},
   "outputs": [
    {
     "name": "stdout",
     "output_type": "stream",
     "text": [
      "precision:  0.4521583909597613 recall:  0.4461487003058104 f1 score: 0.4286850957646102\n",
      "accuracy 0.4383983572895277\n",
      "AUROC: 0.4461487003058104 AUPRC: 0.7151489282686381\n"
     ]
    }
   ],
   "source": [
    "from sklearn import metrics\n",
    "true=0\n",
    "for i in range(y_original.__len__()):\n",
    "    true+=(y_original[i]==y_predicted[i])\n",
    "precision, recall, fscore,support = metrics.precision_recall_fscore_support(y_original, y_predicted,average=\"macro\")\n",
    "AUROC=metrics.roc_auc_score(y_original,y_predicted)\n",
    "p, r, thresholds = metrics.precision_recall_curve(y_original,y_predicted)\n",
    "AUPRC = metrics.auc(r, p)\n",
    "print(\"precision: \",precision,\"recall: \", recall,\"f1 score:\", fscore)\n",
    "print(\"accuracy\",true/(y_original.__len__()))\n",
    "print(\"AUROC:\",AUROC,\"AUPRC:\",AUPRC)"
   ]
  },
  {
   "cell_type": "code",
   "execution_count": 5,
   "metadata": {},
   "outputs": [],
   "source": [
    "# making 0.6 as threshold\n",
    "y_original=[]\n",
    "y_predicted=[]\n",
    "\n",
    "for i,sample in enumerate(usable_samples_ADNI):\n",
    "    \n",
    "    for s in final_samples_6yrs:\n",
    "        # print(s)\n",
    "        if sample == s[0]: \n",
    "            y_predicted.append(PRS_orig_feature_matrix[i] >= 0.6)\n",
    "            y_original.append(s[1])\n",
    "      \n"
   ]
  },
  {
   "cell_type": "code",
   "execution_count": 6,
   "metadata": {},
   "outputs": [
    {
     "name": "stdout",
     "output_type": "stream",
     "text": [
      "precision:  0.42609220048244445 recall:  0.43675458715596327 f1 score: 0.35562340966921124\n",
      "accuracy 0.3593429158110883\n",
      "AUROC: 0.43675458715596327 AUPRC: 0.6508794556890429\n"
     ]
    }
   ],
   "source": [
    "from sklearn import metrics\n",
    "true=0\n",
    "for i in range(y_original.__len__()):\n",
    "    true+=(y_original[i]==y_predicted[i])\n",
    "precision, recall, fscore,support = metrics.precision_recall_fscore_support(y_original, y_predicted,average=\"macro\")\n",
    "AUROC=metrics.roc_auc_score(y_original,y_predicted)\n",
    "p, r, thresholds = metrics.precision_recall_curve(y_original,y_predicted)\n",
    "AUPRC = metrics.auc(r, p)\n",
    "print(\"precision: \",precision,\"recall: \", recall,\"f1 score:\", fscore)\n",
    "print(\"accuracy\",true/(y_original.__len__()))\n",
    "print(\"AUROC:\",AUROC,\"AUPRC:\",AUPRC)"
   ]
  }
 ],
 "metadata": {
  "kernelspec": {
   "display_name": "Python 3 (ipykernel)",
   "language": "python",
   "name": "python3"
  },
  "language_info": {
   "codemirror_mode": {
    "name": "ipython",
    "version": 3
   },
   "file_extension": ".py",
   "mimetype": "text/x-python",
   "name": "python",
   "nbconvert_exporter": "python",
   "pygments_lexer": "ipython3",
   "version": "3.7.11"
  },
  "vscode": {
   "interpreter": {
    "hash": "3f7965b4c8ddf98cd8cc1f613dce0c0d054499dd4a6b649eeb59a69b51e3259a"
   }
  }
 },
 "nbformat": 4,
 "nbformat_minor": 2
}
