{
 "cells": [
  {
   "cell_type": "code",
   "execution_count": 1,
   "metadata": {},
   "outputs": [
    {
     "name": "stdout",
     "output_type": "stream",
     "text": [
      "35 1816\n",
      "35\n"
     ]
    }
   ],
   "source": [
    "# Final_Samples\n",
    "import pandas as pd\n",
    "import numpy as np\n",
    "import json\n",
    "import random\n",
    "usable_samples_ADNI = json.load(open('./usable_samples_ADNI.json'))\n",
    "PRS_orig_feature_matrix = np.load('./PRS_feature_matrix.npy').astype(np.float32)\n",
    "PRS_orig_feature_matrix = (PRS_orig_feature_matrix - PRS_orig_feature_matrix.mean(0))/PRS_orig_feature_matrix.std(0)\n",
    "print( PRS_orig_feature_matrix.shape[1], len(usable_samples_ADNI) )\n",
    "num_features=PRS_orig_feature_matrix.shape[1]\n",
    "print(num_features)"
   ]
  },
  {
   "cell_type": "code",
   "execution_count": 2,
   "metadata": {},
   "outputs": [],
   "source": [
    "num_features = 35"
   ]
  },
  {
   "cell_type": "code",
   "execution_count": 3,
   "metadata": {},
   "outputs": [
    {
     "name": "stdout",
     "output_type": "stream",
     "text": [
      "(1816, 35)\n"
     ]
    }
   ],
   "source": [
    "PRS_feature_matrix = PRS_orig_feature_matrix\n",
    "PRS_feature_matrix = PRS_feature_matrix[:, :num_features]\n",
    "print(PRS_feature_matrix.shape)"
   ]
  },
  {
   "cell_type": "code",
   "execution_count": 4,
   "metadata": {},
   "outputs": [
    {
     "name": "stdout",
     "output_type": "stream",
     "text": [
      "shape (1817, 14)\n",
      "(1817, 2) (1817, 2)\n",
      "                FID               IID       PC1       PC2       PC3       PC4  \\\n",
      "0  ADNI3_036_S_6231  ADNI3_036_S_6231 -0.006724 -0.010617  0.001596 -0.000460   \n",
      "1  ADNI3_006_S_6277  ADNI3_006_S_6277 -0.010432 -0.010269  0.012757  0.006921   \n",
      "2  ADNI3_129_S_6146  ADNI3_129_S_6146 -0.004919 -0.011656 -0.035521  0.064641   \n",
      "3  ADNI3_033_S_6352  ADNI3_033_S_6352 -0.014069 -0.010279  0.020014  0.053023   \n",
      "4  ADNI3_027_S_6183  ADNI3_027_S_6183 -0.010766 -0.012370 -0.010960  0.029830   \n",
      "\n",
      "        PC5       PC6       PC7       PC8       PC9      PC10  PTGENDER   AGE  \n",
      "0 -0.013131 -0.005855 -0.005142 -0.009063 -0.001739 -0.012863         1  69.1  \n",
      "1 -0.014958 -0.005860 -0.027775 -0.009632  0.054966  0.087390         1  70.7  \n",
      "2  0.012094  0.003860  0.035955  0.006561  0.019736 -0.023304         1  65.5  \n",
      "3  0.023691  0.000247 -0.002273 -0.030627 -0.053461  0.049984         0  71.4  \n",
      "4 -0.019520 -0.001955  0.023844  0.079138  0.002207  0.008892         0  65.6  \n"
     ]
    },
    {
     "name": "stderr",
     "output_type": "stream",
     "text": [
      "C:\\Users\\HP\\.conda\\envs\\ad_venv_2\\lib\\site-packages\\IPython\\core\\interactiveshell.py:3397: FutureWarning: In a future version of pandas all arguments of read_csv except for the argument 'filepath_or_buffer' will be keyword-only.\n",
      "  exec(code_obj, self.user_global_ns, self.user_ns)\n"
     ]
    }
   ],
   "source": [
    "df = pd.read_csv('./COVAR_FILE_bigger_dataset.txt', ' ') \n",
    "print(\"shape\",df.shape)\n",
    "print( df[['AGE', 'PTGENDER']].shape, df[['AGE', 'PTGENDER']].dropna().shape )\n",
    "print( df.head() ) # PC - Principal Component"
   ]
  },
  {
   "cell_type": "code",
   "execution_count": 5,
   "metadata": {},
   "outputs": [
    {
     "data": {
      "text/plain": [
       "75.8    17\n",
       "70.8    15\n",
       "80.4    15\n",
       "71.4    14\n",
       "70.9    14\n",
       "        ..\n",
       "91.4     1\n",
       "89.2     1\n",
       "86.6     1\n",
       "54.4     1\n",
       "58.0     1\n",
       "Name: AGE, Length: 328, dtype: int64"
      ]
     },
     "execution_count": 5,
     "metadata": {},
     "output_type": "execute_result"
    }
   ],
   "source": [
    "df['AGE'].value_counts()"
   ]
  },
  {
   "cell_type": "markdown",
   "metadata": {},
   "source": [
    "# The value counts show that there is not age with 0 value in the covar file"
   ]
  },
  {
   "cell_type": "code",
   "execution_count": 6,
   "metadata": {},
   "outputs": [
    {
     "name": "stdout",
     "output_type": "stream",
     "text": [
      "1816\n",
      "<class 'dict'>\n",
      "1816\n",
      "duplicate values []\n"
     ]
    }
   ],
   "source": [
    "print( len( usable_samples_ADNI ) )\n",
    "print( type( usable_samples_ADNI ) )\n",
    "\n",
    "rev_dict = {}\n",
    "  \n",
    "for key, value in usable_samples_ADNI.items():\n",
    "    rev_dict.setdefault(value, set()).add(key)\n",
    "      \n",
    "result = [key for key, values in rev_dict.items()\n",
    "                              if len(values) > 1]\n",
    "  \n",
    "# printing result\n",
    "print( len( rev_dict ) )\n",
    "print(\"duplicate values\", str(result))"
   ]
  },
  {
   "cell_type": "markdown",
   "metadata": {},
   "source": [
    "* The cell below prints out the mismatched IID of both covar file and usable samples ADNI"
   ]
  },
  {
   "cell_type": "code",
   "execution_count": 7,
   "metadata": {},
   "outputs": [
    {
     "name": "stdout",
     "output_type": "stream",
     "text": [
      "1817\n",
      "234\n",
      "235\n",
      "159_021_S_2124 100_094_S_2201\n",
      "163_019_S_4367 101_068_S_2171\n",
      "168_094_S_2201 102_114_S_0166\n",
      "177_116_S_4010 104_041_S_4004\n",
      "185_941_S_2060 105_033_S_0922\n",
      "196_037_S_0454 105_067_S_2301\n",
      "198_003_S_2374 105_127_S_4500\n",
      "210_036_S_0673 107_129_S_4220\n",
      "222_123_S_2055 108_032_S_0677\n",
      "222_141_S_0915 10_073_S_2264\n",
      "239_153_S_4372 110_941_S_2060\n",
      "249_094_S_4089 111_019_S_4293\n",
      "253_073_S_2225 112_098_S_4215\n",
      "256_116_S_4199 113_073_S_4393\n",
      "25_072_S_2164 114_019_S_4367\n",
      "263_029_S_4307 116_128_S_2130\n",
      "263_072_S_1380 117_033_S_4505\n",
      "268_068_S_4217 118_073_S_4312\n",
      "268_141_S_1004 119_068_S_4174\n",
      "26_052_S_1346 11_094_S_2216\n",
      "26_128_S_0522 120_114_S_1106\n",
      "270_067_S_2301 121_072_S_2027\n",
      "276_073_S_4393 122_011_S_2274\n",
      "289_023_S_0126 124_029_S_4307\n",
      "290_098_S_4215 126_123_S_0072\n",
      "293_002_S_4229 127_009_S_2208\n",
      "296_029_S_0914 128_130_S_0232\n",
      "298_021_S_0178 129_012_S_4012\n",
      "300_128_S_2130 12_021_S_0337\n",
      "305_032_S_0677 130_014_S_0519\n",
      "309_036_S_2380 131_067_S_4054\n",
      "313_068_S_4340 132_130_S_2391\n",
      "313_099_S_4022 133_027_S_0835\n",
      "315_129_S_4396 136_116_S_0382\n",
      "319_002_S_0413 137_141_S_0915\n",
      "319_019_S_4293 138_036_S_2380\n",
      "323_127_S_4197 139_021_S_2124\n",
      "324_002_S_4521 13_141_S_1255\n",
      "324_129_S_4371 141_003_S_2374\n",
      "328_003_S_4136 141_021_S_4254\n",
      "32_941_S_4376 142_116_S_4199\n",
      "336_116_S_4175 143_014_S_4093\n",
      "339_029_S_1318 144_031_S_4194\n",
      "33_033_S_4505 145_941_S_1202\n",
      "340_129_S_2347 147_116_S_4209\n",
      "341_035_S_4464 148_126_S_0709\n",
      "350_073_S_4312 149_126_S_0680\n",
      "352_029_S_4290 14_029_S_1318\n",
      "35_153_S_4077 150_094_S_4089\n",
      "360_135_S_4406 152_033_S_0734\n",
      "361_006_S_4485 154_023_S_0031\n",
      "364_023_S_1046 155_029_S_1218\n",
      "368_129_S_4369 156_128_S_0863\n",
      "370_035_S_0997 157_035_S_0997\n",
      "370_094_S_2367 157_068_S_4332\n",
      "372_031_S_1066 158_002_S_1155\n",
      "375_009_S_2208 159_037_S_0454\n",
      "376_116_S_0361 15_023_S_0331\n",
      "377_033_S_4177 160_029_S_0914\n",
      "379_037_S_4146 161_016_S_1326\n",
      "379_130_S_4352 161_052_S_1352\n",
      "380_099_S_4086 162_137_S_0301\n",
      "381_094_S_2216 163_073_S_2225\n",
      "387_130_S_4405 164_052_S_1346\n",
      "388_098_S_0667 164_116_S_1249\n",
      "388_126_S_4507 166_072_S_1380\n",
      "395_018_S_4257 167_036_S_0673\n",
      "397_022_S_1097 169_116_S_1271\n",
      "397_036_S_2378 170_041_S_4271\n",
      "398_022_S_0096 170_116_S_4010\n",
      "400_002_S_1155 172_067_S_0257\n",
      "405_029_S_4384 173_007_S_2058\n",
      "412_072_S_2072 173_033_S_0514\n",
      "416_099_S_0291 175_137_S_4299\n",
      "419_073_S_2264 175_153_S_4139\n",
      "423_068_S_4274 176_068_S_4340\n",
      "425_031_S_4194 177_123_S_2055\n",
      "426_073_S_2153 179_137_S_4258\n",
      "427_141_S_4423 180_006_S_0731\n",
      "428_011_S_2274 183_007_S_4387\n",
      "429_094_S_4282 185_022_S_4320\n",
      "435_005_S_0572 193_073_S_2153\n",
      "43_021_S_4276 197_035_S_4464\n",
      "445_021_S_4254 198_012_S_0637\n",
      "446_137_S_4299 199_002_S_0413\n",
      "449_006_S_0498 19_018_S_0142\n",
      "451_023_S_0031 200_100_S_0047\n",
      "45_014_S_4079 201_041_S_0125\n",
      "462_098_S_4018 202_031_S_2018\n",
      "477_082_S_1256 202_129_S_4396\n",
      "47_072_S_2027 204_002_S_4213\n",
      "47_153_S_4139 206_003_S_4136\n",
      "480_098_S_2079 210_002_S_4229\n",
      "484_027_S_0307 211_127_S_4197\n",
      "486_018_S_0142 212_033_S_4177\n",
      "487_002_S_4237 213_141_S_0697\n",
      "48_022_S_4320 214_153_S_4372\n",
      "492_041_S_4271 218_002_S_4219\n",
      "49_031_S_2018 21_009_S_1030\n",
      "500_123_S_0108 220_068_S_4217\n",
      "515_023_S_0331 224_094_S_4282\n",
      "51_016_S_0702 225_141_S_4423\n",
      "51_941_S_4377 228_128_S_0522\n",
      "522_068_S_4332 231_130_S_4405\n",
      "52_011_S_4105 233_098_S_4018\n",
      "533_127_S_4500 236_029_S_4384\n",
      "53_116_S_1271 237_141_S_1004\n",
      "547_033_S_0514 239_126_S_4507\n",
      "54_129_S_4220 23_072_S_2164\n",
      "555_099_S_4463 244_022_S_2087\n",
      "558_033_S_0734 246_116_S_4175\n",
      "55_067_S_2196 247_082_S_1256\n",
      "565_137_S_0994 248_941_S_4376\n",
      "57_068_S_2171 24_023_S_0217\n",
      "583_141_S_2333 252_057_S_1269\n",
      "587_023_S_0217 253_941_S_4377\n",
      "589_099_S_1034 255_002_S_4521\n",
      "58_014_S_4080 258_006_S_4485\n",
      "592_114_S_1106 260_006_S_0498\n",
      "595_014_S_0519 263_114_S_0173\n",
      "597_098_S_0269 276_098_S_0269\n",
      "59_116_S_4209 277_023_S_0126\n",
      "5_068_S_2194 278_021_S_0178\n",
      "605_006_S_0731 279_098_S_0667\n",
      "608_123_S_0113 280_099_S_4086\n",
      "60_136_S_4189 281_036_S_2378\n",
      "615_114_S_0416 283_016_S_0702\n",
      "61_067_S_4184 286_027_S_2219\n",
      "625_067_S_0257 288_018_S_4257\n",
      "626_023_S_0042 290_136_S_4189\n",
      "627_116_S_1249 291_021_S_2150\n",
      "629_126_S_1187 295_022_S_0096\n",
      "62_072_S_4226 296_041_S_1010\n",
      "630_022_S_2087 297_068_S_2194\n",
      "631_123_S_0072 298_023_S_1046\n",
      "637_033_S_0922 298_123_S_4096\n",
      "63_027_S_0835 2_123_S_0108\n",
      "648_126_S_0680 301_116_S_0361\n",
      "648_137_S_0972 303_094_S_2367\n",
      "64_027_S_2219 305_129_S_2347\n",
      "651_023_S_0887 306_099_S_4022\n",
      "654_012_S_0637 306_137_S_0459\n",
      "655_021_S_2150 308_022_S_1097\n",
      "663_130_S_0232 308_027_S_0307\n",
      "665_027_S_0074 310_135_S_4406\n",
      "665_137_S_0668 312_014_S_4079\n",
      "66_002_S_2010 312_129_S_4371\n",
      "675_014_S_0658 316_129_S_4369\n",
      "675_128_S_0135 321_029_S_4290\n",
      "67_014_S_4093 322_130_S_4352\n",
      "682_099_S_2146 323_021_S_4276\n",
      "689_037_S_1078 325_037_S_4146\n",
      "68_002_S_4213 327_037_S_0467\n",
      "68_141_S_1255 328_153_S_4077\n",
      "691_037_S_0377 332_137_S_4211\n",
      "692_041_S_0125 334_098_S_4201\n",
      "695_057_S_1269 335_068_S_4274\n",
      "696_137_S_0301 340_033_S_4508\n",
      "69_007_S_4387 349_073_S_0746\n",
      "6_027_S_0118 34_005_S_0572\n",
      "705_128_S_0863 359_137_S_4351\n",
      "709_128_S_0230 35_072_S_2072\n",
      "713_114_S_0166 360_031_S_1066\n",
      "715_021_S_0337 363_099_S_0291\n",
      "719_023_S_4035 364_128_S_0227\n",
      "719_141_S_0767 36_100_S_0296\n",
      "71_002_S_4219 378_099_S_2146\n",
      "71_027_S_1045 38_002_S_4237\n",
      "72_011_S_0008 390_126_S_1187\n",
      "730_029_S_0824 391_114_S_0416\n",
      "732_126_S_0709 395_011_S_4105\n",
      "734_037_S_0467 396_130_S_0886\n",
      "73_114_S_0173 400_014_S_4080\n",
      "740_137_S_0459 401_098_S_2079\n",
      "740_941_S_1202 407_073_S_4300\n",
      "742_021_S_0984 409_141_S_2333\n",
      "743_035_S_0156 40_031_S_0867\n",
      "744_052_S_0989 412_068_S_0210\n",
      "74_941_S_4292 418_099_S_4463\n",
      "753_016_S_1326 42_098_S_0160\n",
      "753_128_S_0227 432_014_S_0658\n",
      "756_009_S_1030 433_068_S_0473\n",
      "75_068_S_4174 438_137_S_0668\n",
      "760_007_S_0698 439_123_S_0113\n",
      "761_100_S_0035 443_137_S_0994\n",
      "763_100_S_0047 450_005_S_0553\n",
      "766_073_S_0746 452_027_S_0118\n",
      "767_130_S_0886 452_027_S_1045\n",
      "768_128_S_0229 454_052_S_0989\n",
      "76_005_S_0553 456_123_S_0106\n",
      "76_127_S_4198 460_067_S_2196\n",
      "770_141_S_0717 471_011_S_4235\n",
      "771_029_S_1218 473_072_S_4226\n",
      "776_068_S_0210 475_941_S_4292\n",
      "77_073_S_4300 477_037_S_0377\n",
      "781_052_S_0952 481_099_S_1034\n",
      "782_141_S_0697 497_072_S_4390\n",
      "783_052_S_1352 502_027_S_0256\n",
      "78_123_S_0106 502_128_S_0230\n",
      "794_037_S_0552 507_002_S_2010\n",
      "799_068_S_0473 527_035_S_0156\n",
      "79_052_S_0951 528_027_S_0074\n",
      "7_098_S_0160 540_027_S_0408\n",
      "801_123_S_4096 563_137_S_0972\n",
      "804_027_S_0408 566_067_S_4184\n",
      "807_116_S_0649 567_130_S_2403\n",
      "809_031_S_0867 56_052_S_0951\n",
      "80_137_S_4258 587_011_S_0008\n",
      "816_129_S_0778 593_141_S_0767\n",
      "817_053_S_0919 59_127_S_4198\n",
      "82_007_S_2058 60_129_S_0778\n",
      "82_067_S_4054 620_023_S_0042\n",
      "83_041_S_1010 620_023_S_0916\n",
      "84_137_S_4351 628_032_S_0978\n",
      "86_033_S_4508 633_029_S_0824\n",
      "86_100_S_0296 638_023_S_0887\n",
      "87_137_S_4211 640_128_S_0229\n",
      "88_033_S_0923 645_128_S_0135\n",
      "89_130_S_2403 668_007_S_0698\n",
      "8_027_S_0256 669_033_S_0923\n",
      "91_012_S_4012 66_024_S_2239\n",
      "91_032_S_0978 67_041_S_1418\n",
      "92_041_S_4004 686_100_S_0035\n",
      "95_116_S_0382 688_037_S_1078\n",
      "96_041_S_1418 68_052_S_0952\n",
      "96_153_S_4125 693_021_S_0984\n",
      "98_130_S_2391 712_053_S_0919\n",
      "99_098_S_4201 724_153_S_4125\n",
      "9_072_S_4390 733_141_S_0717\n",
      "ADNI3_002_S_6066 73_012_S_4094\n",
      "ADNI3_011_S_6303 779_037_S_0552\n",
      "ADNI3_024_S_6005 786_116_S_0649\n",
      "ADNI3_037_S_6125 ADNI3_037_S_6115\n",
      "ADNI3_053_S_6598 ADNI3_129_S_6288\n"
     ]
    }
   ],
   "source": [
    "print( df['IID'].nunique() )\n",
    "# print( usable_samples_ADNI.keys() )\n",
    "\n",
    "notFoundIndex = []\n",
    "for sample in usable_samples_ADNI:\n",
    "    if len( df[df['IID'] == sample].index ) == 0 :\n",
    "        notFoundIndex.append(sample)\n",
    "#     print(df[df['IID'] == sample].index[0])\n",
    "#     foundIndex.append( df[df['IID'] == sample].index[0] )\n",
    "#     if sample in df['IID']:\n",
    "#         print(\"exists\")\n",
    "#     else:\n",
    "#         print(\"doesn't exist\")\n",
    "print( len( notFoundIndex ) )\n",
    "\n",
    "notFoundInSamples = []\n",
    "for item in df['IID'] :\n",
    "    if item not in usable_samples_ADNI.keys():\n",
    "        notFoundInSamples.append(item)\n",
    "print( len(notFoundInSamples ) )\n",
    "\n",
    "notFoundInSamples.sort()\n",
    "notFoundIndex.sort()\n",
    "\n",
    "for i in range( len(notFoundIndex ) ):\n",
    "    print(notFoundIndex[i], notFoundInSamples[i])"
   ]
  },
  {
   "cell_type": "markdown",
   "metadata": {},
   "source": [
    "NO DUPLICATE VALUE IN usable_samples_ADNI\n",
    "\n",
    "NO DUPLICATE VALUE IN IID of covar_file_bigger_dataset"
   ]
  },
  {
   "cell_type": "code",
   "execution_count": 8,
   "metadata": {},
   "outputs": [
    {
     "name": "stderr",
     "output_type": "stream",
     "text": [
      "C:\\Users\\HP\\AppData\\Local\\Temp\\ipykernel_16140\\2969402204.py:3: DtypeWarning: Columns (18,19,20,103,104) have mixed types. Specify dtype option on import or set low_memory=False.\n",
      "  AGE_GENDER_PTID_map = pd.read_csv('../larger_dataset/ADNIMERGE.csv')[['PTID', 'PTGENDER', 'AGE']]\n"
     ]
    },
    {
     "data": {
      "text/html": [
       "<div>\n",
       "<style scoped>\n",
       "    .dataframe tbody tr th:only-of-type {\n",
       "        vertical-align: middle;\n",
       "    }\n",
       "\n",
       "    .dataframe tbody tr th {\n",
       "        vertical-align: top;\n",
       "    }\n",
       "\n",
       "    .dataframe thead th {\n",
       "        text-align: right;\n",
       "    }\n",
       "</style>\n",
       "<table border=\"1\" class=\"dataframe\">\n",
       "  <thead>\n",
       "    <tr style=\"text-align: right;\">\n",
       "      <th></th>\n",
       "      <th>PTID</th>\n",
       "      <th>PTGENDER</th>\n",
       "      <th>AGE</th>\n",
       "    </tr>\n",
       "  </thead>\n",
       "  <tbody>\n",
       "    <tr>\n",
       "      <th>0</th>\n",
       "      <td>011_S_0002</td>\n",
       "      <td>0</td>\n",
       "      <td>74.3</td>\n",
       "    </tr>\n",
       "    <tr>\n",
       "      <th>1</th>\n",
       "      <td>011_S_0003</td>\n",
       "      <td>0</td>\n",
       "      <td>81.3</td>\n",
       "    </tr>\n",
       "    <tr>\n",
       "      <th>2</th>\n",
       "      <td>011_S_0003</td>\n",
       "      <td>0</td>\n",
       "      <td>81.3</td>\n",
       "    </tr>\n",
       "    <tr>\n",
       "      <th>3</th>\n",
       "      <td>011_S_0003</td>\n",
       "      <td>0</td>\n",
       "      <td>81.3</td>\n",
       "    </tr>\n",
       "    <tr>\n",
       "      <th>4</th>\n",
       "      <td>011_S_0003</td>\n",
       "      <td>0</td>\n",
       "      <td>81.3</td>\n",
       "    </tr>\n",
       "    <tr>\n",
       "      <th>...</th>\n",
       "      <td>...</td>\n",
       "      <td>...</td>\n",
       "      <td>...</td>\n",
       "    </tr>\n",
       "    <tr>\n",
       "      <th>15117</th>\n",
       "      <td>021_S_6896</td>\n",
       "      <td>0</td>\n",
       "      <td>64.8</td>\n",
       "    </tr>\n",
       "    <tr>\n",
       "      <th>15118</th>\n",
       "      <td>035_S_4464</td>\n",
       "      <td>0</td>\n",
       "      <td>70.4</td>\n",
       "    </tr>\n",
       "    <tr>\n",
       "      <th>15119</th>\n",
       "      <td>041_S_5097</td>\n",
       "      <td>0</td>\n",
       "      <td>67.5</td>\n",
       "    </tr>\n",
       "    <tr>\n",
       "      <th>15120</th>\n",
       "      <td>027_S_5288</td>\n",
       "      <td>1</td>\n",
       "      <td>81.9</td>\n",
       "    </tr>\n",
       "    <tr>\n",
       "      <th>15121</th>\n",
       "      <td>036_S_6088</td>\n",
       "      <td>1</td>\n",
       "      <td>69.2</td>\n",
       "    </tr>\n",
       "  </tbody>\n",
       "</table>\n",
       "<p>15122 rows × 3 columns</p>\n",
       "</div>"
      ],
      "text/plain": [
       "             PTID  PTGENDER   AGE\n",
       "0      011_S_0002         0  74.3\n",
       "1      011_S_0003         0  81.3\n",
       "2      011_S_0003         0  81.3\n",
       "3      011_S_0003         0  81.3\n",
       "4      011_S_0003         0  81.3\n",
       "...           ...       ...   ...\n",
       "15117  021_S_6896         0  64.8\n",
       "15118  035_S_4464         0  70.4\n",
       "15119  041_S_5097         0  67.5\n",
       "15120  027_S_5288         1  81.9\n",
       "15121  036_S_6088         1  69.2\n",
       "\n",
       "[15122 rows x 3 columns]"
      ]
     },
     "execution_count": 8,
     "metadata": {},
     "output_type": "execute_result"
    }
   ],
   "source": [
    "import numpy as np\n",
    "import pandas as pd\n",
    "AGE_GENDER_PTID_map = pd.read_csv('../larger_dataset/ADNIMERGE.csv')[['PTID', 'PTGENDER', 'AGE']]\n",
    "AGE_GENDER_PTID_map['PTGENDER'] = (AGE_GENDER_PTID_map['PTGENDER'] == 'Female').astype(int)\n",
    "AGE_GENDER_PTID_map"
   ]
  },
  {
   "cell_type": "code",
   "execution_count": 9,
   "metadata": {},
   "outputs": [
    {
     "name": "stdout",
     "output_type": "stream",
     "text": [
      "shape1 (1816, 35)\n",
      "shape2 (1816, 47)\n",
      "[ 7.42901e-02 -1.11187e-02  2.98971e-02 -4.29416e-03  4.33895e-02\n",
      "  1.65844e-02  2.19540e-02  5.88536e-03 -3.96630e-03 -1.28506e-02\n",
      "  0.00000e+00  8.04000e+01]\n",
      "samples:  1815\n",
      "Feature Matrix\n",
      "[[ 6.0254073e-01  3.8611200e-01 -5.8913165e-01 -5.6206602e-01\n",
      "   1.3769143e+00  1.1957877e+00  6.7549521e-01 -8.1201518e-01\n",
      "   1.4735116e+00  1.5833879e+00  1.1038882e+00  4.7303710e-02\n",
      "  -2.5817478e-01  2.0768111e+00  3.4892298e-02  1.5471818e+00\n",
      "   2.1130602e-01 -7.8878814e-01  1.1477689e+00 -7.1390218e-01\n",
      "   6.5592009e-01  3.6035888e-02 -1.0208811e+00  4.2786098e-01\n",
      "   4.4062281e-01  4.1337675e-01  1.9010180e-01 -2.0883363e-01\n",
      "   6.4279914e-01  8.8049096e-01 -1.5337672e+00 -5.0156575e-01\n",
      "  -4.5751646e-02  8.8257521e-01 -3.8061208e-01 -6.7239902e-03\n",
      "  -1.0617300e-02  1.5955199e-03 -4.6042900e-04 -1.3131300e-02\n",
      "  -5.8546802e-03 -5.1415302e-03 -9.0632401e-03 -1.7389200e-03\n",
      "  -1.2863100e-02  1.0000000e+00  6.9099998e+01]\n",
      " [ 3.2023571e-02 -7.2182208e-01  5.6008160e-01 -4.5909986e-01\n",
      "  -2.8283790e-01  6.9074273e-01  8.7522858e-01  2.1927162e-01\n",
      "  -3.7697020e-01 -4.5436200e-01  7.2349036e-01 -4.9750850e-01\n",
      "   1.0644186e+00  5.9753662e-01 -2.4813785e-01  2.8968764e-02\n",
      "  -2.7886992e-02  2.6224835e+00  4.3087134e-01 -2.8895292e-01\n",
      "   2.4560858e-01 -5.2110817e-02 -4.4763651e-02 -1.8602200e-01\n",
      "   3.0547190e-01  5.5778086e-01 -2.0424709e-01  3.5013828e-02\n",
      "  -5.5759084e-01 -4.4283944e-01  6.1258554e-01 -9.1423553e-01\n",
      "   6.6405241e-03  1.3060592e+00 -1.9559491e-01 -1.0432100e-02\n",
      "  -1.0269200e-02  1.2757200e-02  6.9213500e-03 -1.4958400e-02\n",
      "  -5.8604302e-03 -2.7775100e-02 -9.6316896e-03  5.4965999e-02\n",
      "   8.7389797e-02  1.0000000e+00  7.0699997e+01]]\n"
     ]
    }
   ],
   "source": [
    "# COVAR_FILE = df.to_numpy()[:, 2:].astype(np.float32)\n",
    "cnt = 0\n",
    "print(\"shape1\",PRS_feature_matrix.shape)\n",
    "FEATURE_MATRIX = np.concatenate([PRS_feature_matrix, np.zeros([PRS_feature_matrix.shape[0], 12])], 1).astype(np.float32)\n",
    "print(\"shape2\",FEATURE_MATRIX.shape)\n",
    "for sample in usable_samples_ADNI:\n",
    "    covar = df[df['IID'] == sample].to_numpy()[:, 2:].astype(np.float32) # taking from the PCs, skipping the first two columns of IID, FID\n",
    "#     print(covar)\n",
    "    #     if cnt < 2:\n",
    "#         print(covar)\n",
    "#     print(covar.shape)\n",
    "    if covar.shape[0] != 1:\n",
    "#         print(sample)\n",
    "        cnt += 1\n",
    "        continue\n",
    "    FEATURE_MATRIX[usable_samples_ADNI[sample],num_features:] = covar\n",
    "# cnt/FEATURE_MATRIX.shape[0], FEATURE_MATRIX[:2], PRS_feature_matrix[:2]\n",
    "# print(\"Feature Matrix\")\n",
    "# print(FEATURE_MATRIX[0])\n",
    "print(covar[0])\n",
    "print(\"samples: \", usable_samples_ADNI[sample])\n",
    "# FEATURE_MATRIX[usable_samples_ADNI[sample], num_features:] = covar # naeem's modification\n",
    "print(\"Feature Matrix\")\n",
    "print(FEATURE_MATRIX[:2])\n",
    "# cnt/FEATURE_MATRIX.shape[0], FEATURE_MATRIX[:2], PRS_feature_matrix[:2]"
   ]
  },
  {
   "cell_type": "code",
   "execution_count": 10,
   "metadata": {},
   "outputs": [
    {
     "name": "stdout",
     "output_type": "stream",
     "text": [
      "[0, 1, 2, 3, 4, 5, 6, 7, 8, 9, 10, 11, 12, 13, 14, 15, 16, 17, 18, 19, 20, 21, 22, 23, 24, 25, 26, 27, 28, 29, 30, 31, 32, 33, 34, 46, 45]\n"
     ]
    }
   ],
   "source": [
    "last_idx = FEATURE_MATRIX.shape[1]\n",
    "# feature_indices_to_consider = [0, 1, 2, 3, 4, 5, 7, 8, 9, 12, 13, 14, 15] +  [last_idx - 1, last_idx - 2]\n",
    "feature_indices_to_consider = list(range(num_features)) + [last_idx - 1, last_idx - 2]\n",
    "# feature_indices_to_consider = list(range(23)) + [24, 27, last_idx - 1, last_idx - 2]\n",
    "# feature_indices_to_consider = list(range(23)) + [24, 27, last_idx - 1, last_idx - 2]\n",
    "# feature_indices_to_consider = list(range(num_features)) \n",
    "print(feature_indices_to_consider)"
   ]
  },
  {
   "cell_type": "code",
   "execution_count": 11,
   "metadata": {},
   "outputs": [],
   "source": [
    "import json\n",
    "import numpy as np\n",
    "import random"
   ]
  },
  {
   "cell_type": "code",
   "execution_count": 12,
   "metadata": {},
   "outputs": [
    {
     "name": "stdout",
     "output_type": "stream",
     "text": [
      "1158\n",
      "654\n",
      "504\n"
     ]
    }
   ],
   "source": [
    "Final_Samples = json.load(open('Final_Samples_4yrs.json', 'r')) \n",
    "positive_samples = 0\n",
    "negative_samples = 0\n",
    "for x in Final_Samples:\n",
    "    if x[1] == 1 :\n",
    "        positive_samples += 1\n",
    "    else :\n",
    "        negative_samples += 1\n",
    "        \n",
    "print(len(Final_Samples))\n",
    "print(positive_samples)\n",
    "print(negative_samples)"
   ]
  },
  {
   "cell_type": "code",
   "execution_count": 13,
   "metadata": {},
   "outputs": [
    {
     "name": "stdout",
     "output_type": "stream",
     "text": [
      "1158\n",
      "654\n",
      "504\n",
      "504 504\n"
     ]
    },
    {
     "data": {
      "text/plain": [
       "(1008, 2)"
      ]
     },
     "execution_count": 13,
     "metadata": {},
     "output_type": "execute_result"
    }
   ],
   "source": [
    "print(len(Final_Samples))\n",
    "positive_samples = Final_Samples[:654] # Final_Samples[654:]\n",
    "positive_samples = Final_Samples[:654]\n",
    "negative_samples = Final_Samples[654:]\n",
    "print(len(positive_samples))\n",
    "print(len(negative_samples))\n",
    "len_pos = len(positive_samples)\n",
    "len_neg = len(negative_samples)\n",
    "min_len = min(len_pos, len_neg)\n",
    "random_seed = None\n",
    "if random_seed is not None: \n",
    "    random.seed(random_seed * 2)\n",
    "random.shuffle(positive_samples)\n",
    "random.shuffle(negative_samples)\n",
    "# Final_Samples = positive_samples[:500] + negative_samples[:500]\n",
    "Final_Samples = positive_samples[:min_len] + negative_samples[:min_len]\n",
    "print(len([x[1] for x in Final_Samples if x[1] == 1]), len([x[1] for x in Final_Samples if x[1] == 0]))\n",
    "Final_Samples = np.array(Final_Samples)\n",
    "Final_Samples.shape\n",
    "# Final_Samples.reshape(10, -1, 2).shape"
   ]
  },
  {
   "cell_type": "code",
   "execution_count": 14,
   "metadata": {},
   "outputs": [
    {
     "name": "stdout",
     "output_type": "stream",
     "text": [
      "1816\n"
     ]
    },
    {
     "name": "stderr",
     "output_type": "stream",
     "text": [
      "C:\\Users\\HP\\.conda\\envs\\ad_venv_2\\lib\\site-packages\\IPython\\core\\interactiveshell.py:3397: FutureWarning: In a future version of pandas all arguments of read_csv except for the argument 'filepath_or_buffer' will be keyword-only.\n",
      "  exec(code_obj, self.user_global_ns, self.user_ns)\n"
     ]
    }
   ],
   "source": [
    "import json\n",
    "import pandas as pd\n",
    "GWAS_ID = 'ieu-b-25'\n",
    "usable_samples_ADNI = pd.read_csv(f'./PRSice_output/{GWAS_ID}/{GWAS_ID}.best', ' ')['IID'].to_numpy().tolist()\n",
    "usable_samples_ADNI = {'_'.join(sample.split('_')[1:]):idx for idx,sample in enumerate(usable_samples_ADNI)}\n",
    "# usable_samples_ADNI = {sample:idx for idx,sample in enumerate(usable_samples_ADNI)}\n",
    "print(len( usable_samples_ADNI ))"
   ]
  },
  {
   "cell_type": "code",
   "execution_count": 15,
   "metadata": {},
   "outputs": [
    {
     "name": "stderr",
     "output_type": "stream",
     "text": [
      "C:\\Users\\HP\\.conda\\envs\\ad_venv_2\\lib\\site-packages\\tqdm\\auto.py:22: TqdmWarning: IProgress not found. Please update jupyter and ipywidgets. See https://ipywidgets.readthedocs.io/en/stable/user_install.html\n",
      "  from .autonotebook import tqdm as notebook_tqdm\n"
     ]
    },
    {
     "name": "stdout",
     "output_type": "stream",
     "text": [
      "[ 6.0254073e-01  3.8611200e-01 -5.8913165e-01 -5.6206602e-01\n",
      "  1.3769143e+00  1.1957877e+00  6.7549521e-01 -8.1201518e-01\n",
      "  1.4735116e+00  1.5833879e+00  1.1038882e+00  4.7303710e-02\n",
      " -2.5817478e-01  2.0768111e+00  3.4892298e-02  1.5471818e+00\n",
      "  2.1130602e-01 -7.8878814e-01  1.1477689e+00 -7.1390218e-01\n",
      "  6.5592009e-01  3.6035888e-02 -1.0208811e+00  4.2786098e-01\n",
      "  4.4062281e-01  4.1337675e-01  1.9010180e-01 -2.0883363e-01\n",
      "  6.4279914e-01  8.8049096e-01 -1.5337672e+00 -5.0156575e-01\n",
      " -4.5751646e-02  8.8257521e-01 -3.8061208e-01 -6.7239902e-03\n",
      " -1.0617300e-02  1.5955199e-03 -4.6042900e-04 -1.3131300e-02\n",
      " -5.8546802e-03 -5.1415302e-03 -9.0632401e-03 -1.7389200e-03\n",
      " -1.2863100e-02  1.0000000e+00  6.9099998e+01]\n",
      "[0, 1, 2, 3, 4, 5, 6, 7, 8, 9, 10, 11, 12, 13, 14, 15, 16, 17, 18, 19, 20, 21, 22, 23, 24, 25, 26, 27, 28, 29, 30, 31, 32, 33, 34, 46, 45]\n",
      "Shape of usable features :  (1008, 37)\n",
      "Length of usable labels :  1008\n",
      "Usable Features :  tensor([ 0.9037,  0.9120, -1.2539,  1.2701, -0.4980,  1.6819, -0.1803,  0.0715,\n",
      "         0.2723, -0.5704,  0.0212,  1.0991,  0.7787,  0.9666,  0.9262, -1.4949,\n",
      "         0.1657,  0.5783,  0.0447, -0.1352, -0.2261,  0.6786,  1.5350,  1.0294,\n",
      "         0.3162, -0.1030,  1.2012, -0.4240, -0.2226,  2.1877,  0.5925,  1.0785,\n",
      "         0.4967,  0.4895,  0.6423,  0.0000,  0.0000])\n"
     ]
    }
   ],
   "source": [
    "import torch\n",
    "from torch.utils import data\n",
    "\n",
    "DEVICE = \"cuda\" if torch.cuda.is_available() else \"cpu\"\n",
    "\n",
    "import shap\n",
    "from copy import deepcopy\n",
    "\n",
    "print(FEATURE_MATRIX[0])\n",
    "# print(len(Final_Samples))\n",
    "usable_indices = [( usable_samples_ADNI[Final_Samples[i][0]] if ( Final_Samples[i][0] in usable_samples_ADNI.keys() ) else None ) for i in range(len(Final_Samples))]\n",
    "# print(len(usable_indices))\n",
    "# print(usable_indices)\n",
    "print(feature_indices_to_consider)\n",
    "usable_features = FEATURE_MATRIX[usable_indices][:, feature_indices_to_consider]\n",
    "print(\"Shape of usable features : \", usable_features.shape)\n",
    "usable_labels = np.array([float(Final_Samples[i][1]) for i in range(len(Final_Samples))])\n",
    "print(\"Length of usable labels : \", len(usable_labels))\n",
    "usable_features = torch.autograd.Variable(torch.from_numpy(usable_features)).to(DEVICE).float()\n",
    "\n",
    "print(\"Usable Features : \", usable_features[0])"
   ]
  },
  {
   "cell_type": "code",
   "execution_count": 16,
   "metadata": {},
   "outputs": [
    {
     "name": "stdout",
     "output_type": "stream",
     "text": [
      "(1008, 37)\n",
      "1008\n",
      "<class 'numpy.ndarray'>\n"
     ]
    }
   ],
   "source": [
    "# feature_indices_to_consider = list(range(0, num_features)) #[1, 2, 3, 4, 5, 6, 7, 8, 9, 10, 11, 13, 14, 15, 16, 18, 20, 22]\n",
    "\n",
    "usable_indices = [usable_samples_ADNI[Final_Samples[i][0]] for i in range(len(Final_Samples))]\n",
    "usable_features = FEATURE_MATRIX[usable_indices][:, feature_indices_to_consider]\n",
    "usable_labels = np.array([float(Final_Samples[i][1]) for i in range(len(Final_Samples))])\n",
    "\n",
    "print(usable_features.shape)\n",
    "print( len( usable_labels ) )\n",
    "print(type(usable_features))"
   ]
  },
  {
   "cell_type": "code",
   "execution_count": 17,
   "metadata": {},
   "outputs": [
    {
     "name": "stdout",
     "output_type": "stream",
     "text": [
      "35\n"
     ]
    }
   ],
   "source": [
    "import json\n",
    "# in place of json straight took it hardcoded\n",
    "\n",
    "all_traits = json.load(open('traits_map.json', 'r'))\n",
    "# print(all_traits)\n",
    "GWAS_IDS = list(all_traits)\n",
    "# print(GWAS_IDS)\n",
    "traits = [all_traits[x] for x in all_traits]\n",
    "print(len(traits))"
   ]
  },
  {
   "cell_type": "markdown",
   "metadata": {},
   "source": [
    "# Feature Analysis"
   ]
  },
  {
   "cell_type": "code",
   "execution_count": 18,
   "metadata": {},
   "outputs": [
    {
     "name": "stdout",
     "output_type": "stream",
     "text": [
      "(1008, 38)\n",
      "35\n",
      "[0, 1, 2, 3, 4, 5, 6, 7, 8, 9, 10, 11, 12, 13, 14, 15, 16, 17, 18, 19, 20, 21, 22, 23, 24, 25, 26, 27, 28, 29, 30, 31, 32, 33, 34, 46, 45, 35]\n",
      "         0         1         2         3         4         5         6   \\\n",
      "0  0.903660  0.912048 -1.253871  1.270148 -0.497992  1.681909 -0.180305   \n",
      "1 -0.532490 -0.312643  1.666165 -0.261126 -2.270244 -0.858339 -1.260206   \n",
      "2  0.590052  0.734882  0.144445  0.198777 -0.562625 -0.928095 -0.916218   \n",
      "3 -1.305919 -0.835075 -0.489801 -1.039889 -0.066257  1.366336 -1.181942   \n",
      "4 -0.278340  0.598193  0.317768 -0.121613  0.499716  0.296452 -0.382195   \n",
      "\n",
      "         7         8         9   ...        28        29        30        31  \\\n",
      "0  0.071504  0.272273 -0.570381  ... -0.222598  2.187735  0.592474  1.078475   \n",
      "1  1.531173  0.055451 -0.812556  ...  0.092694 -0.827596  0.785791 -0.079983   \n",
      "2 -0.627963  1.751986 -0.196626  ... -0.998954 -0.199754 -0.782435  1.378963   \n",
      "3 -0.750764  1.994656 -0.593526  ...  1.103186 -0.105400  2.316528  0.541324   \n",
      "4  1.060972  1.491283  0.458597  ... -0.164732 -0.671765 -0.458944 -1.154504   \n",
      "\n",
      "         32        33        34         46   45   35  \n",
      "0  0.496738  0.489520  0.642338   0.000000  0.0  1.0  \n",
      "1 -0.574384  0.001605 -0.324990  72.800003  1.0  1.0  \n",
      "2  0.381115 -1.662528  0.470924   0.000000  0.0  1.0  \n",
      "3 -0.776516 -0.893477 -0.735428  55.599998  1.0  1.0  \n",
      "4  0.006875 -2.363300  0.337492  73.300003  1.0  1.0  \n",
      "\n",
      "[5 rows x 38 columns]\n"
     ]
    },
    {
     "data": {
      "text/plain": [
       "<AxesSubplot:>"
      ]
     },
     "execution_count": 18,
     "metadata": {},
     "output_type": "execute_result"
    },
    {
     "data": {
      "image/png": "[encoded data removed]",
      "text/plain": [
       "<Figure size 720x720 with 2 Axes>"
      ]
     },
     "metadata": {
      "needs_background": "light"
     },
     "output_type": "display_data"
    }
   ],
   "source": [
    "import seaborn as sns\n",
    "import matplotlib.pyplot as plt\n",
    "\n",
    "total_features = np.c_[ usable_features, usable_labels ]\n",
    "print(total_features.shape)\n",
    "print(num_features)\n",
    "# column_list = list(range(num_features)) + [last_idx - 1, last_idx - 2, num_features ] \n",
    "column_list = feature_indices_to_consider + [num_features]\n",
    "print( column_list )\n",
    "\n",
    "df = pd.DataFrame(total_features, columns = column_list )\n",
    "print( df.head() )\n",
    "\n",
    "fig, ax = plt.subplots(figsize=(10,10))         # Sample figsize in inches\n",
    "corr = df.corr()\n",
    "sns.heatmap(corr)"
   ]
  },
  {
   "cell_type": "code",
   "execution_count": 19,
   "metadata": {},
   "outputs": [
    {
     "name": "stdout",
     "output_type": "stream",
     "text": [
      "          0         1         2         3         4         5         6   \\\n",
      "0   1.000000  0.141751  0.060590  0.181219  0.038616  0.045792  0.024468   \n",
      "1   0.141751  1.000000  0.381217  0.877838  0.036322 -0.030318  0.027641   \n",
      "2   0.060590  0.381217  1.000000  0.448232 -0.040381 -0.076090 -0.025379   \n",
      "3   0.181219  0.877838  0.448232  1.000000  0.008420 -0.048874  0.009007   \n",
      "4   0.038616  0.036322 -0.040381  0.008420  1.000000  0.079567  0.677176   \n",
      "5   0.045792 -0.030318 -0.076090 -0.048874  0.079567  1.000000  0.032924   \n",
      "6   0.024468  0.027641 -0.025379  0.009007  0.677176  0.032924  1.000000   \n",
      "7  -0.026465 -0.137973 -0.083839 -0.153913  0.076351 -0.273371  0.118439   \n",
      "8  -0.000699  0.067921  0.050142  0.068833 -0.026691 -0.017130 -0.018412   \n",
      "9  -0.087398 -0.116371 -0.063002 -0.140275  0.004409 -0.099806  0.018655   \n",
      "10 -0.015554  0.021280 -0.018600 -0.033395 -0.019526 -0.059199 -0.013961   \n",
      "11  0.157874  0.914788  0.443492  0.908548  0.033180 -0.033624  0.025912   \n",
      "12  0.096741  0.345036  0.222185  0.372100 -0.056431 -0.050476 -0.056699   \n",
      "13  0.000735 -0.073896 -0.032746 -0.065898  0.031441  0.148066  0.024255   \n",
      "14  0.148953  0.915849  0.451497  0.918736  0.044206 -0.057098  0.028203   \n",
      "15 -0.134827  0.010988  0.034164 -0.001353 -0.069045 -0.328204 -0.030898   \n",
      "16  0.024365  0.069818 -0.012325  0.076291  0.027546  0.158572  0.033504   \n",
      "17  0.042290 -0.075911 -0.003953 -0.082914  0.029978  0.037683  0.010762   \n",
      "18 -0.097881 -0.488032 -0.283352 -0.546064 -0.002388  0.006206  0.028839   \n",
      "19  0.006270  0.164339  0.079385  0.171032 -0.000201  0.100977  0.026740   \n",
      "20 -0.006896 -0.048962 -0.052420 -0.080437 -0.026707 -0.089506  0.017760   \n",
      "21  0.165394  0.919177  0.452797  0.925970  0.021382 -0.077700  0.023027   \n",
      "22  0.003261  0.081365  0.060774  0.096527 -0.075817  0.061540 -0.062368   \n",
      "23  0.149040  0.843012  0.399279  0.824428  0.070479 -0.036870  0.059234   \n",
      "24  0.000118  0.005628  0.025892  0.026017 -0.305128  0.027075 -0.192503   \n",
      "25 -0.037930  0.028205  0.043816  0.041065 -0.340270  0.010332 -0.295182   \n",
      "26  0.145768  0.878469  0.414199  0.863749  0.047131 -0.036990  0.038876   \n",
      "27  0.128667  0.461044  0.241094  0.493818  0.059786 -0.001132  0.069119   \n",
      "28  0.100612  0.484301  0.251713  0.488318  0.022103  0.056458 -0.010150   \n",
      "29  0.072145  0.138714  0.059628  0.145631  0.011400  0.013816 -0.004157   \n",
      "30  0.096933  0.511158  0.341225  0.582621 -0.037675 -0.078958 -0.023590   \n",
      "31  0.077728  0.077121  0.021353  0.077476  0.010542  0.029938 -0.033574   \n",
      "32  0.164910  0.919192  0.459718  0.926612  0.030188 -0.034380  0.029810   \n",
      "33  0.085028  0.213457  0.089816  0.201253  0.026336  0.109120  0.041759   \n",
      "34  0.168820  0.919188  0.454122  0.924386  0.039981 -0.023535  0.042700   \n",
      "46  0.013506 -0.042153 -0.013723 -0.033602  0.062536  0.026692 -0.004033   \n",
      "45 -0.044154 -0.070510  0.002774 -0.061129 -0.030621 -0.026079  0.028026   \n",
      "35 -0.001109  0.233192  0.106431  0.211505  0.108031 -0.079136  0.076571   \n",
      "\n",
      "          7         8         9   ...        28        29        30        31  \\\n",
      "0  -0.026465 -0.000699 -0.087398  ...  0.100612  0.072145  0.096933  0.077728   \n",
      "1  -0.137973  0.067921 -0.116371  ...  0.484301  0.138714  0.511158  0.077121   \n",
      "2  -0.083839  0.050142 -0.063002  ...  0.251713  0.059628  0.341225  0.021353   \n",
      "3  -0.153913  0.068833 -0.140275  ...  0.488318  0.145631  0.582621  0.077476   \n",
      "4   0.076351 -0.026691  0.004409  ...  0.022103  0.011400 -0.037675  0.010542   \n",
      "5  -0.273371 -0.017130 -0.099806  ...  0.056458  0.013816 -0.078958  0.029938   \n",
      "6   0.118439 -0.018412  0.018655  ... -0.010150 -0.004157 -0.023590 -0.033574   \n",
      "7   1.000000 -0.031386  0.070340  ... -0.154144 -0.034729 -0.162795  0.050366   \n",
      "8  -0.031386  1.000000 -0.041728  ...  0.045850  0.028566  0.144946 -0.073211   \n",
      "9   0.070340 -0.041728  1.000000  ... -0.285809  0.003100 -0.299999 -0.024980   \n",
      "10  0.105025  0.041570  0.642145  ... -0.081998  0.014702 -0.065143 -0.017850   \n",
      "11 -0.137804  0.062695 -0.114962  ...  0.467674  0.144215  0.537498  0.065866   \n",
      "12 -0.139846  0.016338  0.054774  ...  0.155127  0.095741  0.197026  0.051875   \n",
      "13  0.033477 -0.044193 -0.161548  ...  0.111956 -0.024001  0.029326  0.006951   \n",
      "14 -0.155750  0.061753 -0.093724  ...  0.480645  0.144515  0.524309  0.071686   \n",
      "15  0.055922  0.083651  0.141396  ... -0.140356 -0.005260  0.045285 -0.132532   \n",
      "16 -0.040230  0.033515 -0.240358  ...  0.273582  0.001857  0.191468  0.030276   \n",
      "17  0.023018  0.039394 -0.101083  ... -0.031870  0.016655  0.015349  0.034231   \n",
      "18  0.242441 -0.131237  0.318091  ... -0.429922 -0.098348 -0.711538  0.015362   \n",
      "19 -0.074970  0.065837 -0.233114  ...  0.216334  0.015719  0.230961  0.015984   \n",
      "20  0.066749 -0.066859  0.390305  ... -0.307993  0.021628 -0.285739  0.002475   \n",
      "21 -0.145738  0.065339 -0.092723  ...  0.462279  0.153507  0.536279  0.078816   \n",
      "22 -0.009953  0.052319 -0.106294  ...  0.140673 -0.010106  0.186358  0.026997   \n",
      "23 -0.072840  0.025104 -0.013248  ...  0.391610  0.127768  0.270387  0.087684   \n",
      "24 -0.003306 -0.037681 -0.085659  ...  0.026582  0.038197  0.026393 -0.017765   \n",
      "25 -0.011641  0.000226 -0.098116  ...  0.093788  0.020551  0.077469  0.016441   \n",
      "26 -0.093536  0.051827 -0.040828  ...  0.419295  0.132799  0.346082  0.096909   \n",
      "27 -0.153379  0.008609 -0.052238  ...  0.245970  0.093499  0.354993  0.020904   \n",
      "28 -0.154144  0.045850 -0.285809  ...  1.000000  0.118520  0.460201  0.057379   \n",
      "29 -0.034729  0.028566  0.003100  ...  0.118520  1.000000  0.103911  0.001366   \n",
      "30 -0.162795  0.144946 -0.299999  ...  0.460201  0.103911  1.000000 -0.014440   \n",
      "31  0.050366 -0.073211 -0.024980  ...  0.057379  0.001366 -0.014440  1.000000   \n",
      "32 -0.187965  0.081043 -0.119483  ...  0.501665  0.152263  0.586462  0.067177   \n",
      "33  0.044742 -0.024717 -0.009404  ...  0.093973  0.025509  0.115706  0.038756   \n",
      "34 -0.166262  0.058551 -0.174780  ...  0.495665  0.129034  0.523488  0.066328   \n",
      "46  0.025460  0.052181  0.013880  ... -0.035290 -0.023656  0.050887  0.019684   \n",
      "45  0.063739  0.004592  0.031391  ... -0.062667 -0.022183 -0.001181 -0.017080   \n",
      "35  0.022335  0.007841  0.082223  ...  0.087441  0.079262  0.005395  0.055896   \n",
      "\n",
      "          32        33        34        46        45        35  \n",
      "0   0.164910  0.085028  0.168820  0.013506 -0.044154 -0.001109  \n",
      "1   0.919192  0.213457  0.919188 -0.042153 -0.070510  0.233192  \n",
      "2   0.459718  0.089816  0.454122 -0.013723  0.002774  0.106431  \n",
      "3   0.926612  0.201253  0.924386 -0.033602 -0.061129  0.211505  \n",
      "4   0.030188  0.026336  0.039981  0.062536 -0.030621  0.108031  \n",
      "5  -0.034380  0.109120 -0.023535  0.026692 -0.026079 -0.079136  \n",
      "6   0.029810  0.041759  0.042700 -0.004033  0.028026  0.076571  \n",
      "7  -0.187965  0.044742 -0.166262  0.025460  0.063739  0.022335  \n",
      "8   0.081043 -0.024717  0.058551  0.052181  0.004592  0.007841  \n",
      "9  -0.119483 -0.009404 -0.174780  0.013880  0.031391  0.082223  \n",
      "10 -0.000510  0.133495 -0.063246  0.009364  0.028313  0.036424  \n",
      "11  0.920977  0.204817  0.917674 -0.049725 -0.079585  0.219820  \n",
      "12  0.393162  0.046425  0.385456 -0.006606  0.061894  0.077004  \n",
      "13 -0.071716  0.131827 -0.082069  0.009044 -0.024389  0.044110  \n",
      "14  0.944285  0.193735  0.945561 -0.071429 -0.067259  0.227850  \n",
      "15  0.016377 -0.047622 -0.023196 -0.018910  0.039411  0.084037  \n",
      "16  0.068645  0.139086  0.043064  0.002421 -0.027269 -0.031926  \n",
      "17 -0.062330 -0.017221 -0.087651  0.012470  0.011545 -0.070090  \n",
      "18 -0.557634 -0.036599 -0.506181 -0.063086  0.014486 -0.023574  \n",
      "19  0.162870 -0.099945  0.172315 -0.002607 -0.079932 -0.057539  \n",
      "20 -0.052362  0.052145 -0.043829 -0.037793  0.043356  0.055507  \n",
      "21  0.948881  0.209970  0.942035 -0.055955 -0.079697  0.245212  \n",
      "22  0.070398  0.027817  0.072871 -0.016723  0.031184 -0.052587  \n",
      "23  0.838497  0.161540  0.876782 -0.120418 -0.076892  0.294532  \n",
      "24  0.014710 -0.023066  0.014083 -0.040850 -0.031356 -0.148248  \n",
      "25  0.033831 -0.028120  0.019336 -0.066118 -0.037082 -0.177252  \n",
      "26  0.875982  0.181634  0.902193 -0.098338 -0.077822  0.269524  \n",
      "27  0.500534  0.060127  0.485747  0.002022 -0.021959  0.099064  \n",
      "28  0.501665  0.093973  0.495665 -0.035290 -0.062667  0.087441  \n",
      "29  0.152263  0.025509  0.129034 -0.023656 -0.022183  0.079262  \n",
      "30  0.586462  0.115706  0.523488  0.050887 -0.001181  0.005395  \n",
      "31  0.067177  0.038756  0.066328  0.019684 -0.017080  0.055896  \n",
      "32  1.000000  0.221308  0.942066 -0.060554 -0.093053  0.210996  \n",
      "33  0.221308  1.000000  0.196674  0.007933 -0.017101  0.074876  \n",
      "34  0.942066  0.196674  1.000000 -0.066968 -0.064481  0.223203  \n",
      "46 -0.060554  0.007933 -0.066968  1.000000  0.329783  0.193420  \n",
      "45 -0.093053 -0.017101 -0.064481  0.329783  1.000000  0.020704  \n",
      "35  0.210996  0.074876  0.223203  0.193420  0.020704  1.000000  \n",
      "\n",
      "[38 rows x 38 columns]\n"
     ]
    }
   ],
   "source": [
    "print(corr)"
   ]
  },
  {
   "cell_type": "code",
   "execution_count": 20,
   "metadata": {},
   "outputs": [
    {
     "name": "stdout",
     "output_type": "stream",
     "text": [
      "(38, 38)\n",
      "35\n",
      "1 Ever had known person concerned about, or recommend reduction of, alcohol consumption: No 0.23319245477597259\n",
      "2 Ever had known person concerned about, or recommend reduction of, alcohol consumption: Yes, but not in the last year 0.10643128717160187\n",
      "3 Ever had known person concerned about, or recommend reduction of, alcohol consumption: Yes, during the last year 0.21150526853730012\n",
      "4 Total cholesterol 0.10803119465875663\n",
      "11 Hearing difficulty/problems: Yes 0.21981989426917592\n",
      "14 Hearing difficulty/problems with background noise 0.2278497222523498\n",
      "21 Types of physical activity in last 4 weeks: Strenuous sports 0.24521174077152394\n",
      "23 Loneliness, isolation 0.29453203927527616\n",
      "26 Mood swings 0.2695235990304714\n",
      "32 Non-cancer illness code, self-reported: hypothyroidism/myxoedema 0.21099550405509884\n",
      "34 Non-cancer illness code, self-reported: hypertension 0.2232030645706439\n",
      "46 0.19341965463469896\n",
      "[1, 2, 3, 4, 11, 14, 21, 23, 26, 32, 34, 46]\n"
     ]
    }
   ],
   "source": [
    "print(corr.shape)\n",
    "features_selected = []\n",
    "# print(corr)\n",
    "# print(usable_features)\n",
    "print(num_features)\n",
    "# print(column_list)\n",
    "for i in column_list: \n",
    "#     print(corr[i][num_features])\n",
    "#     print(i)\n",
    "    if (corr[i][num_features] > 0.1 ) and i != num_features :\n",
    "       # print(corr[i][num_features])\n",
    "        if i < num_features :\n",
    "            print(i, traits[i], corr[i][num_features])\n",
    "        else:\n",
    "            print(i, corr[i][num_features])\n",
    "        features_selected.append(i)\n",
    "print(features_selected)"
   ]
  },
  {
   "cell_type": "markdown",
   "metadata": {},
   "source": [
    "# For 6 years data\n",
    "\n",
    "1 Ever had known person concerned about, or recommend reduction of, alcohol consumption: No 0.20953815028723816\n",
    "\n",
    "3 Ever had known person concerned about, or recommend reduction of, alcohol consumption: Yes, during the last year 0.19550254145659604\n",
    "\n",
    "9 systolic blood pressure 0.13136112452843546\n",
    "\n",
    "10 diastolic blood pressure 0.12331358008367997\n",
    "\n",
    "11 Hearing difficulty/problems: Yes 0.2043427554414797\n",
    "\n",
    "14 Hearing difficulty/problems with background noise 0.21204661783800505\n",
    "\n",
    "21 Types of physical activity in last 4 weeks: Strenuous sports 0.2177339471469747\n",
    "\n",
    "23 Loneliness, isolation 0.26826517643489145\n",
    "\n",
    "26 Mood swings 0.2538914921054018\n",
    "\n",
    "28 Non-cancer illness code, self-reported: stroke 0.11139490259273072\n",
    "\n",
    "32 Non-cancer illness code, self-reported: hypothyroidism/myxoedema 0.18822760980334968\n",
    "\n",
    "34 Non-cancer illness code, self-reported: hypertension 0.1952774419467026\n",
    "\n",
    "46 Age 0.20476908743398434\n",
    "\n",
    "[1, 3, 9, 10, 11, 14, 21, 23, 26, 28, 32, 34, 46]"
   ]
  },
  {
   "cell_type": "markdown",
   "metadata": {},
   "source": [
    "# For 4 years data\n",
    "1 Ever had known person concerned about, or recommend reduction of, alcohol consumption: No 0.23319245477597259\n",
    "\n",
    "2 Ever had known person concerned about, or recommend reduction of, alcohol consumption: Yes, but not in the last year 0.10643128717160187\n",
    "\n",
    "3 Ever had known person concerned about, or recommend reduction of, alcohol consumption: Yes, during the last year 0.21150526853730012\n",
    "\n",
    "4 Total cholesterol 0.10803119465875663\n",
    "\n",
    "11 Hearing difficulty/problems: Yes 0.21981989426917592\n",
    "\n",
    "14 Hearing difficulty/problems with background noise 0.2278497222523498\n",
    "\n",
    "21 Types of physical activity in last 4 weeks: Strenuous sports 0.24521174077152394\n",
    "\n",
    "23 Loneliness, isolation 0.29453203927527616\n",
    "\n",
    "26 Mood swings 0.2695235990304714\n",
    "\n",
    "32 Non-cancer illness code, self-reported: hypothyroidism/myxoedema 0.21099550405509884\n",
    "\n",
    "34 Non-cancer illness code, self-reported: hypertension 0.2232030645706439\n",
    "\n",
    "46 Age 0.19341965463469896\n",
    "\n",
    "[1, 2, 3, 4, 11, 14, 21, 23, 26, 32, 34, 46]"
   ]
  },
  {
   "cell_type": "markdown",
   "metadata": {},
   "source": [
    "# 6 years\n",
    "[1, 3, 9, 10, 11, 14, 21, 23, 26, 28, 32, 34, 46]\n",
    "\n",
    "# 4 years\n",
    "[1, 2, 3, 4, 11, 14, 21, 23, 26, 32, 34, 46]"
   ]
  },
  {
   "cell_type": "code",
   "execution_count": 21,
   "metadata": {},
   "outputs": [
    {
     "name": "stdout",
     "output_type": "stream",
     "text": [
      "35\n",
      "1 11 Ever had known person concerned about, or recommend reduction of, alcohol consumption: No Hearing difficulty/problems: Yes 0.9147876892119942\n",
      "1 14 Ever had known person concerned about, or recommend reduction of, alcohol consumption: No Hearing difficulty/problems with background noise 0.9158492919281928\n",
      "1 21 Ever had known person concerned about, or recommend reduction of, alcohol consumption: No Types of physical activity in last 4 weeks: Strenuous sports 0.9191770131238025\n",
      "1 32 Ever had known person concerned about, or recommend reduction of, alcohol consumption: No Non-cancer illness code, self-reported: hypothyroidism/myxoedema 0.9191916604503252\n",
      "1 34 Ever had known person concerned about, or recommend reduction of, alcohol consumption: No Non-cancer illness code, self-reported: hypertension 0.9191877367446427\n",
      "3 11 Ever had known person concerned about, or recommend reduction of, alcohol consumption: Yes, during the last year Hearing difficulty/problems: Yes 0.9085477431566377\n",
      "3 14 Ever had known person concerned about, or recommend reduction of, alcohol consumption: Yes, during the last year Hearing difficulty/problems with background noise 0.9187355395502976\n",
      "3 21 Ever had known person concerned about, or recommend reduction of, alcohol consumption: Yes, during the last year Types of physical activity in last 4 weeks: Strenuous sports 0.9259698329647723\n",
      "3 32 Ever had known person concerned about, or recommend reduction of, alcohol consumption: Yes, during the last year Non-cancer illness code, self-reported: hypothyroidism/myxoedema 0.9266118954278297\n",
      "3 34 Ever had known person concerned about, or recommend reduction of, alcohol consumption: Yes, during the last year Non-cancer illness code, self-reported: hypertension 0.924386310766261\n",
      "11 21 Hearing difficulty/problems: Yes Types of physical activity in last 4 weeks: Strenuous sports 0.9268842511289856\n",
      "11 32 Hearing difficulty/problems: Yes Non-cancer illness code, self-reported: hypothyroidism/myxoedema 0.9209767515369269\n",
      "11 34 Hearing difficulty/problems: Yes Non-cancer illness code, self-reported: hypertension 0.9176740497550955\n",
      "14 21 Hearing difficulty/problems with background noise Types of physical activity in last 4 weeks: Strenuous sports 0.9425321947109231\n",
      "14 26 Hearing difficulty/problems with background noise Mood swings 0.903440843801307\n",
      "14 32 Hearing difficulty/problems with background noise Non-cancer illness code, self-reported: hypothyroidism/myxoedema 0.9442851472919036\n",
      "14 34 Hearing difficulty/problems with background noise Non-cancer illness code, self-reported: hypertension 0.9455607074443202\n",
      "21 32 Types of physical activity in last 4 weeks: Strenuous sports Non-cancer illness code, self-reported: hypothyroidism/myxoedema 0.9488809338857472\n",
      "21 34 Types of physical activity in last 4 weeks: Strenuous sports Non-cancer illness code, self-reported: hypertension 0.9420345060227503\n",
      "23 26 Loneliness, isolation Mood swings 0.9398081473947429\n",
      "26 34 Mood swings Non-cancer illness code, self-reported: hypertension 0.9021932566898926\n",
      "32 34 Non-cancer illness code, self-reported: hypothyroidism/myxoedema Non-cancer illness code, self-reported: hypertension 0.9420664068442942\n",
      "[2, 4, 34, 46]\n"
     ]
    }
   ],
   "source": [
    "print(num_features)\n",
    "for i in range(num_features):\n",
    "    for j in range(i + 1, num_features):\n",
    "        if ( corr[i][j] > 0.9 ) and (i != j) :\n",
    "            print(i, j, traits[i], traits[j], corr[i][j])\n",
    "            if ( i in features_selected ) and ( j in features_selected ) :\n",
    "                features_selected.remove(i)\n",
    "print(features_selected)"
   ]
  },
  {
   "cell_type": "markdown",
   "metadata": {},
   "source": [
    "# For 6 years Data\n",
    "1 11 Ever had known person concerned about, or recommend reduction of, alcohol consumption: No Hearing difficulty/problems: Yes 0.9284715636345631\n",
    "\n",
    "1 14 Ever had known person concerned about, or recommend reduction of, alcohol consumption: No Hearing difficulty/problems with background noise 0.9297188173084894\n",
    "\n",
    "1 21 Ever had known person concerned about, or recommend reduction of, alcohol consumption: No Types of physical activity in last 4 weeks: Strenuous sports 0.9297324727788002\n",
    "\n",
    "1 32 Ever had known person concerned about, or recommend reduction of, alcohol consumption: No Non-cancer illness code, self-reported: hypothyroidism/myxoedema 0.930182724394133\n",
    "\n",
    "1 34 Ever had known person concerned about, or recommend reduction of, alcohol consumption: No Non-cancer illness code, self-reported: hypertension 0.9299910860980392\n",
    "\n",
    "3 11 Ever had known person concerned about, or recommend reduction of, alcohol consumption: Yes, during the last year Hearing difficulty/problems: Yes 0.9184726201588524\n",
    "\n",
    "3 14 Ever had known person concerned about, or recommend reduction of, alcohol consumption: Yes, during the last year Hearing difficulty/problems with background noise 0.9296195348566246\n",
    "\n",
    "3 21 Ever had known person concerned about, or recommend reduction of, alcohol consumption: Yes, during the last year Types of physical activity in last 4 weeks: Strenuous sports 0.9333280494678614\n",
    "\n",
    "3 32 Ever had known person concerned about, or recommend reduction of, alcohol consumption: Yes, during the last year Non-cancer illness code, self-reported: hypothyroidism/myxoedema 0.9366443200793778\n",
    "\n",
    "3 34 Ever had known person concerned about, or recommend reduction of, alcohol consumption: Yes, during the last year Non-cancer illness code, self-reported: hypertension 0.9353503095919462\n",
    "\n",
    "11 14 Hearing difficulty/problems: Yes Hearing difficulty/problems with background noise 0.913064371980317\n",
    "\n",
    "11 21 Hearing difficulty/problems: Yes Types of physical activity in last 4 weeks: Strenuous sports 0.9370115122954104.\n",
    "\n",
    "11 32 Hearing difficulty/problems: Yes Non-cancer illness code, self-reported: hypothyroidism/myxoedema 0.9331949982856079\n",
    "\n",
    "11 34 Hearing difficulty/problems: Yes Non-cancer illness code, self-reported: hypertension 0.9300580335363602\n",
    "\n",
    "14 21 Hearing difficulty/problems with background noise Types of physical activity in last 4 weeks: Strenuous sports 0.9515055032977894\n",
    "\n",
    "14 26 Hearing difficulty/problems with background noise Mood swings 0.9139895282633408\n",
    "\n",
    "14 32 Hearing difficulty/problems with background noise Non-cancer illness code, self-reported: hypothyroidism/myxoedema 0.9523903322224636\n",
    "\n",
    "14 34 Hearing difficulty/problems with background noise Non-cancer illness code, self-reported: hypertension 0.9519350008614197\n",
    "\n",
    "21 32 Types of physical activity in last 4 weeks: Strenuous sports Non-cancer illness code, self-reported: hypothyroidism/myxoedema 0.9560649095047308\n",
    "\n",
    "21 34 Types of physical activity in last 4 weeks: Strenuous sports Non-cancer illness code, self-reported: hypertension 0.9472482370476791\n",
    "\n",
    "23 26 Loneliness, isolation Mood swings 0.9474518369910158\n",
    "\n",
    "26 34 Mood swings Non-cancer illness code, self-reported: hypertension 0.909437789567519\n",
    "\n",
    "32 34 Non-cancer illness code, self-reported: hypothyroidism/myxoedema Non-cancer illness code, self-reported: hypertension 0.9499556098473917\n",
    "\n",
    "[9, 10, 28, 34, 46]"
   ]
  },
  {
   "cell_type": "markdown",
   "metadata": {},
   "source": [
    "# For 4 years\n",
    "\n",
    "1 11 Ever had known person concerned about, or recommend reduction of, alcohol consumption: No Hearing difficulty/problems: Yes 0.9147876892119942\n",
    "\n",
    "1 14 Ever had known person concerned about, or recommend reduction of, alcohol consumption: No Hearing difficulty/problems with background noise 0.9158492919281928\n",
    "\n",
    "1 21 Ever had known person concerned about, or recommend reduction of, alcohol consumption: No Types of physical activity in last 4 weeks: Strenuous sports 0.9191770131238025\n",
    "\n",
    "1 32 Ever had known person concerned about, or recommend reduction of, alcohol consumption: No Non-cancer illness code, self-reported: hypothyroidism/myxoedema 0.9191916604503252\n",
    "\n",
    "1 34 Ever had known person concerned about, or recommend reduction of, alcohol consumption: No Non-cancer illness code, self-reported: hypertension 0.9191877367446427\n",
    "\n",
    "3 11 Ever had known person concerned about, or recommend reduction of, alcohol consumption: Yes, during the last year Hearing difficulty/problems: Yes 0.9085477431566377\n",
    "\n",
    "3 14 Ever had known person concerned about, or recommend reduction of, alcohol consumption: Yes, during the last year Hearing difficulty/problems with background noise 0.9187355395502976\n",
    "\n",
    "3 21 Ever had known person concerned about, or recommend reduction of, alcohol consumption: Yes, during the last year Types of physical activity in last 4 weeks: Strenuous sports 0.9259698329647723\n",
    "\n",
    "3 32 Ever had known person concerned about, or recommend reduction of, alcohol consumption: Yes, during the last year Non-cancer illness code, self-reported: hypothyroidism/myxoedema 0.9266118954278297\n",
    "\n",
    "3 34 Ever had known person concerned about, or recommend reduction of, alcohol consumption: Yes, during the last year Non-cancer illness code, self-reported: hypertension 0.924386310766261\n",
    "\n",
    "11 21 Hearing difficulty/problems: Yes Types of physical activity in last 4 weeks: Strenuous sports 0.9268842511289856\n",
    "\n",
    "11 32 Hearing difficulty/problems: Yes Non-cancer illness code, self-reported: hypothyroidism/myxoedema 0.9209767515369269\n",
    "\n",
    "11 34 Hearing difficulty/problems: Yes Non-cancer illness code, self-reported: hypertension 0.9176740497550955\n",
    "\n",
    "14 21 Hearing difficulty/problems with background noise Types of physical activity in last 4 weeks: Strenuous sports 0.9425321947109231\n",
    "\n",
    "14 26 Hearing difficulty/problems with background noise Mood swings 0.903440843801307\n",
    "\n",
    "14 32 Hearing difficulty/problems with background noise Non-cancer illness code, self-reported: hypothyroidism/myxoedema 0.9442851472919036\n",
    "\n",
    "14 34 Hearing difficulty/problems with background noise Non-cancer illness code, self-reported: hypertension 0.9455607074443202\n",
    "\n",
    "21 32 Types of physical activity in last 4 weeks: Strenuous sports Non-cancer illness code, self-reported: hypothyroidism/myxoedema 0.9488809338857472\n",
    "\n",
    "21 34 Types of physical activity in last 4 weeks: Strenuous sports Non-cancer illness code, self-reported: hypertension 0.9420345060227503\n",
    "\n",
    "23 26 Loneliness, isolation Mood swings 0.9398081473947429\n",
    "\n",
    "26 34 Mood swings Non-cancer illness code, self-reported: hypertension 0.9021932566898926\n",
    "\n",
    "32 34 Non-cancer illness code, self-reported: hypothyroidism/myxoedema Non-cancer illness code, self-reported: hypertension 0.9420664068442942\n",
    "\n",
    "[2, 4, 34, 46]"
   ]
  },
  {
   "cell_type": "markdown",
   "metadata": {},
   "source": [
    "# 6 years\n",
    "[9, 10, 28, 34, 46]\n",
    "\n",
    "# 4 years\n",
    "[2, 4, 34, 46]"
   ]
  },
  {
   "cell_type": "code",
   "execution_count": null,
   "metadata": {},
   "outputs": [],
   "source": []
  },
  {
   "cell_type": "code",
   "execution_count": 22,
   "metadata": {},
   "outputs": [
    {
     "name": "stdout",
     "output_type": "stream",
     "text": [
      "Non-cancer illness code, self-reported: type 2 diabetes\n"
     ]
    },
    {
     "data": {
      "image/png": "[encoded data removed]",
      "text/plain": [
       "<Figure size 432x288 with 1 Axes>"
      ]
     },
     "metadata": {
      "needs_background": "light"
     },
     "output_type": "display_data"
    },
    {
     "name": "stdout",
     "output_type": "stream",
     "text": [
      "Ever had known person concerned about, or recommend reduction of, alcohol consumption: No\n"
     ]
    },
    {
     "data": {
      "image/png": "[encoded data removed]",
      "text/plain": [
       "<Figure size 432x288 with 1 Axes>"
      ]
     },
     "metadata": {
      "needs_background": "light"
     },
     "output_type": "display_data"
    },
    {
     "name": "stdout",
     "output_type": "stream",
     "text": [
      "Ever had known person concerned about, or recommend reduction of, alcohol consumption: Yes, but not in the last year\n"
     ]
    },
    {
     "data": {
      "image/png": "[encoded data removed]",
      "text/plain": [
       "<Figure size 432x288 with 1 Axes>"
      ]
     },
     "metadata": {
      "needs_background": "light"
     },
     "output_type": "display_data"
    },
    {
     "name": "stdout",
     "output_type": "stream",
     "text": [
      "Ever had known person concerned about, or recommend reduction of, alcohol consumption: Yes, during the last year\n"
     ]
    },
    {
     "data": {
      "image/png": "[encoded data removed]",
      "text/plain": [
       "<Figure size 432x288 with 1 Axes>"
      ]
     },
     "metadata": {
      "needs_background": "light"
     },
     "output_type": "display_data"
    },
    {
     "name": "stdout",
     "output_type": "stream",
     "text": [
      "Total cholesterol\n"
     ]
    },
    {
     "data": {
      "image/png": "[encoded data removed]",
      "text/plain": [
       "<Figure size 432x288 with 1 Axes>"
      ]
     },
     "metadata": {
      "needs_background": "light"
     },
     "output_type": "display_data"
    },
    {
     "name": "stdout",
     "output_type": "stream",
     "text": [
      "HDL cholesterol\n"
     ]
    },
    {
     "data": {
      "image/png": "[encoded data removed]",
      "text/plain": [
       "<Figure size 432x288 with 1 Axes>"
      ]
     },
     "metadata": {
      "needs_background": "light"
     },
     "output_type": "display_data"
    },
    {
     "name": "stdout",
     "output_type": "stream",
     "text": [
      "LDL cholesterol\n"
     ]
    },
    {
     "data": {
      "image/png": "[encoded data removed]",
      "text/plain": [
       "<Figure size 432x288 with 1 Axes>"
      ]
     },
     "metadata": {
      "needs_background": "light"
     },
     "output_type": "display_data"
    },
    {
     "name": "stdout",
     "output_type": "stream",
     "text": [
      "triglycerides\n"
     ]
    },
    {
     "data": {
      "image/png": "[encoded data removed]",
      "text/plain": [
       "<Figure size 432x288 with 1 Axes>"
      ]
     },
     "metadata": {
      "needs_background": "light"
     },
     "output_type": "display_data"
    },
    {
     "name": "stdout",
     "output_type": "stream",
     "text": [
      "Cigarettes per Day\n"
     ]
    },
    {
     "data": {
      "image/png": "[encoded data removed]",
      "text/plain": [
       "<Figure size 432x288 with 1 Axes>"
      ]
     },
     "metadata": {
      "needs_background": "light"
     },
     "output_type": "display_data"
    },
    {
     "name": "stdout",
     "output_type": "stream",
     "text": [
      "systolic blood pressure\n"
     ]
    },
    {
     "data": {
      "image/png": "[encoded data removed]",
      "text/plain": [
       "<Figure size 432x288 with 1 Axes>"
      ]
     },
     "metadata": {
      "needs_background": "light"
     },
     "output_type": "display_data"
    },
    {
     "name": "stdout",
     "output_type": "stream",
     "text": [
      "diastolic blood pressure\n"
     ]
    },
    {
     "data": {
      "image/png": "[encoded data removed]",
      "text/plain": [
       "<Figure size 432x288 with 1 Axes>"
      ]
     },
     "metadata": {
      "needs_background": "light"
     },
     "output_type": "display_data"
    },
    {
     "name": "stdout",
     "output_type": "stream",
     "text": [
      "Hearing difficulty/problems: Yes\n"
     ]
    },
    {
     "data": {
      "image/png": "[encoded data removed]",
      "text/plain": [
       "<Figure size 432x288 with 1 Axes>"
      ]
     },
     "metadata": {
      "needs_background": "light"
     },
     "output_type": "display_data"
    },
    {
     "name": "stdout",
     "output_type": "stream",
     "text": [
      "Non-cancer illness code, self-reported: depression\n"
     ]
    },
    {
     "data": {
      "image/png": "[encoded data removed]",
      "text/plain": [
       "<Figure size 432x288 with 1 Axes>"
      ]
     },
     "metadata": {
      "needs_background": "light"
     },
     "output_type": "display_data"
    },
    {
     "name": "stdout",
     "output_type": "stream",
     "text": [
      "Non-oily fish intake\n"
     ]
    },
    {
     "data": {
      "image/png": "[encoded data removed]",
      "text/plain": [
       "<Figure size 432x288 with 1 Axes>"
      ]
     },
     "metadata": {
      "needs_background": "light"
     },
     "output_type": "display_data"
    },
    {
     "name": "stdout",
     "output_type": "stream",
     "text": [
      "Hearing difficulty/problems with background noise\n"
     ]
    },
    {
     "data": {
      "image/png": "[encoded data removed]",
      "text/plain": [
       "<Figure size 432x288 with 1 Axes>"
      ]
     },
     "metadata": {
      "needs_background": "light"
     },
     "output_type": "display_data"
    },
    {
     "name": "stdout",
     "output_type": "stream",
     "text": [
      "Body mass index (BMI)\n"
     ]
    },
    {
     "data": {
      "image/png": "[encoded data removed]",
      "text/plain": [
       "<Figure size 432x288 with 1 Axes>"
      ]
     },
     "metadata": {
      "needs_background": "light"
     },
     "output_type": "display_data"
    },
    {
     "name": "stdout",
     "output_type": "stream",
     "text": [
      "Oily fish intake\n"
     ]
    },
    {
     "data": {
      "image/png": "[encoded data removed]",
      "text/plain": [
       "<Figure size 432x288 with 1 Axes>"
      ]
     },
     "metadata": {
      "needs_background": "light"
     },
     "output_type": "display_data"
    },
    {
     "name": "stdout",
     "output_type": "stream",
     "text": [
      "Sleeplessness / insomnia\n"
     ]
    },
    {
     "data": {
      "image/png": "[encoded data removed]",
      "text/plain": [
       "<Figure size 432x288 with 1 Axes>"
      ]
     },
     "metadata": {
      "needs_background": "light"
     },
     "output_type": "display_data"
    },
    {
     "name": "stdout",
     "output_type": "stream",
     "text": [
      "Sleep duration\n"
     ]
    },
    {
     "data": {
      "image/png": "[encoded data removed]",
      "text/plain": [
       "<Figure size 432x288 with 1 Axes>"
      ]
     },
     "metadata": {
      "needs_background": "light"
     },
     "output_type": "display_data"
    },
    {
     "name": "stdout",
     "output_type": "stream",
     "text": [
      "Age completed full time education\n"
     ]
    },
    {
     "data": {
      "image/png": "[encoded data removed]",
      "text/plain": [
       "<Figure size 432x288 with 1 Axes>"
      ]
     },
     "metadata": {
      "needs_background": "light"
     },
     "output_type": "display_data"
    },
    {
     "name": "stdout",
     "output_type": "stream",
     "text": [
      "Processed meat intake\n"
     ]
    },
    {
     "data": {
      "image/png": "[encoded data removed]",
      "text/plain": [
       "<Figure size 432x288 with 1 Axes>"
      ]
     },
     "metadata": {
      "needs_background": "light"
     },
     "output_type": "display_data"
    },
    {
     "name": "stdout",
     "output_type": "stream",
     "text": [
      "Types of physical activity in last 4 weeks: Strenuous sports\n"
     ]
    },
    {
     "data": {
      "image/png": "[encoded data removed]",
      "text/plain": [
       "<Figure size 432x288 with 1 Axes>"
      ]
     },
     "metadata": {
      "needs_background": "light"
     },
     "output_type": "display_data"
    },
    {
     "name": "stdout",
     "output_type": "stream",
     "text": [
      "Other meat intake\n"
     ]
    },
    {
     "data": {
      "image/png": "[encoded data removed]",
      "text/plain": [
       "<Figure size 432x288 with 1 Axes>"
      ]
     },
     "metadata": {
      "needs_background": "light"
     },
     "output_type": "display_data"
    },
    {
     "name": "stdout",
     "output_type": "stream",
     "text": [
      "Loneliness, isolation\n"
     ]
    },
    {
     "data": {
      "image/png": "[encoded data removed]",
      "text/plain": [
       "<Figure size 432x288 with 1 Axes>"
      ]
     },
     "metadata": {
      "needs_background": "light"
     },
     "output_type": "display_data"
    },
    {
     "name": "stdout",
     "output_type": "stream",
     "text": [
      "Illnesses of father: Alzheimer's disease/dementia\n"
     ]
    },
    {
     "data": {
      "image/png": "[encoded data removed]",
      "text/plain": [
       "<Figure size 432x288 with 1 Axes>"
      ]
     },
     "metadata": {
      "needs_background": "light"
     },
     "output_type": "display_data"
    },
    {
     "name": "stdout",
     "output_type": "stream",
     "text": [
      "Illnesses of mother: Alzheimer's disease/dementia\n"
     ]
    },
    {
     "data": {
      "image/png": "[encoded data removed]",
      "text/plain": [
       "<Figure size 432x288 with 1 Axes>"
      ]
     },
     "metadata": {
      "needs_background": "light"
     },
     "output_type": "display_data"
    },
    {
     "name": "stdout",
     "output_type": "stream",
     "text": [
      "Mood swings\n"
     ]
    },
    {
     "data": {
      "image/png": "[encoded data removed]",
      "text/plain": [
       "<Figure size 432x288 with 1 Axes>"
      ]
     },
     "metadata": {
      "needs_background": "light"
     },
     "output_type": "display_data"
    },
    {
     "name": "stdout",
     "output_type": "stream",
     "text": [
      "Non-cancer illness code, self-reported: anxiety/panic attacks\n"
     ]
    },
    {
     "data": {
      "image/png": "[encoded data removed]",
      "text/plain": [
       "<Figure size 432x288 with 1 Axes>"
      ]
     },
     "metadata": {
      "needs_background": "light"
     },
     "output_type": "display_data"
    },
    {
     "name": "stdout",
     "output_type": "stream",
     "text": [
      "Non-cancer illness code, self-reported: stroke\n"
     ]
    },
    {
     "data": {
      "image/png": "[encoded data removed]",
      "text/plain": [
       "<Figure size 432x288 with 1 Axes>"
      ]
     },
     "metadata": {
      "needs_background": "light"
     },
     "output_type": "display_data"
    },
    {
     "name": "stdout",
     "output_type": "stream",
     "text": [
      "Non-cancer illness code, self-reported: head injury\n"
     ]
    },
    {
     "data": {
      "image/png": "[encoded data removed]",
      "text/plain": [
       "<Figure size 432x288 with 1 Axes>"
      ]
     },
     "metadata": {
      "needs_background": "light"
     },
     "output_type": "display_data"
    },
    {
     "name": "stdout",
     "output_type": "stream",
     "text": [
      "Alcohol intake frequency\n"
     ]
    },
    {
     "data": {
      "image/png": "[encoded data removed]",
      "text/plain": [
       "<Figure size 432x288 with 1 Axes>"
      ]
     },
     "metadata": {
      "needs_background": "light"
     },
     "output_type": "display_data"
    },
    {
     "name": "stdout",
     "output_type": "stream",
     "text": [
      "Diagnoses - secondary ICD10: E66.9 Obesity, unspecified\n"
     ]
    },
    {
     "data": {
      "image/png": "[encoded data removed]",
      "text/plain": [
       "<Figure size 432x288 with 1 Axes>"
      ]
     },
     "metadata": {
      "needs_background": "light"
     },
     "output_type": "display_data"
    },
    {
     "name": "stdout",
     "output_type": "stream",
     "text": [
      "Non-cancer illness code, self-reported: hypothyroidism/myxoedema\n"
     ]
    },
    {
     "data": {
      "image/png": "[encoded data removed]",
      "text/plain": [
       "<Figure size 432x288 with 1 Axes>"
      ]
     },
     "metadata": {
      "needs_background": "light"
     },
     "output_type": "display_data"
    },
    {
     "name": "stdout",
     "output_type": "stream",
     "text": [
      "Non-cancer illness code, self-reported: hyperthyroidism/thyrotoxicosis\n"
     ]
    },
    {
     "data": {
      "image/png": "[encoded data removed]",
      "text/plain": [
       "<Figure size 432x288 with 1 Axes>"
      ]
     },
     "metadata": {
      "needs_background": "light"
     },
     "output_type": "display_data"
    },
    {
     "name": "stdout",
     "output_type": "stream",
     "text": [
      "Non-cancer illness code, self-reported: hypertension\n"
     ]
    },
    {
     "data": {
      "image/png": "[encoded data removed]",
      "text/plain": [
       "<Figure size 432x288 with 1 Axes>"
      ]
     },
     "metadata": {
      "needs_background": "light"
     },
     "output_type": "display_data"
    },
    {
     "name": "stdout",
     "output_type": "stream",
     "text": [
      "46\n"
     ]
    },
    {
     "data": {
      "image/png": "[encoded data removed]",
      "text/plain": [
       "<Figure size 432x288 with 1 Axes>"
      ]
     },
     "metadata": {
      "needs_background": "light"
     },
     "output_type": "display_data"
    },
    {
     "name": "stdout",
     "output_type": "stream",
     "text": [
      "45\n"
     ]
    },
    {
     "data": {
      "image/png": "[encoded data removed]",
      "text/plain": [
       "<Figure size 432x288 with 1 Axes>"
      ]
     },
     "metadata": {
      "needs_background": "light"
     },
     "output_type": "display_data"
    },
    {
     "name": "stdout",
     "output_type": "stream",
     "text": [
      "35\n"
     ]
    },
    {
     "data": {
      "image/png": "[encoded data removed]",
      "text/plain": [
       "<Figure size 432x288 with 1 Axes>"
      ]
     },
     "metadata": {
      "needs_background": "light"
     },
     "output_type": "display_data"
    }
   ],
   "source": [
    "# print(df.head())\n",
    "for i in column_list:\n",
    "    if( i < len(traits) ):\n",
    "        print(traits[i])\n",
    "    else:\n",
    "        print(i)\n",
    "    df[i].plot(kind=\"hist\")\n",
    "    plt.show()"
   ]
  },
  {
   "cell_type": "code",
   "execution_count": 23,
   "metadata": {},
   "outputs": [
    {
     "name": "stdout",
     "output_type": "stream",
     "text": [
      "0.0    648\n",
      "1.0    360\n",
      "Name: 45, dtype: int64\n"
     ]
    }
   ],
   "source": [
    "print(df[45].value_counts())"
   ]
  },
  {
   "cell_type": "code",
   "execution_count": 24,
   "metadata": {},
   "outputs": [
    {
     "name": "stdout",
     "output_type": "stream",
     "text": [
      "(0, 38)\n",
      "Empty DataFrame\n",
      "Columns: [0, 1, 2, 3, 4, 5, 6, 7, 8, 9, 10, 11, 12, 13, 14, 15, 16, 17, 18, 19, 20, 21, 22, 23, 24, 25, 26, 27, 28, 29, 30, 31, 32, 33, 34, 46, 45, 35]\n",
      "Index: []\n",
      "\n",
      "[0 rows x 38 columns]\n"
     ]
    }
   ],
   "source": [
    "# get df with only negative values for ADNI\n",
    "df_negative = df[df[34] == 0]\n",
    "print(df_negative.shape)\n",
    "print(df_negative.head())"
   ]
  },
  {
   "cell_type": "code",
   "execution_count": 25,
   "metadata": {},
   "outputs": [
    {
     "data": {
      "text/plain": [
       "Series([], Name: 45, dtype: int64)"
      ]
     },
     "execution_count": 25,
     "metadata": {},
     "output_type": "execute_result"
    }
   ],
   "source": [
    "df_negative[45].value_counts()"
   ]
  },
  {
   "cell_type": "code",
   "execution_count": 26,
   "metadata": {},
   "outputs": [
    {
     "name": "stdout",
     "output_type": "stream",
     "text": [
      "(0, 38)\n",
      "Empty DataFrame\n",
      "Columns: [0, 1, 2, 3, 4, 5, 6, 7, 8, 9, 10, 11, 12, 13, 14, 15, 16, 17, 18, 19, 20, 21, 22, 23, 24, 25, 26, 27, 28, 29, 30, 31, 32, 33, 34, 46, 45, 35]\n",
      "Index: []\n",
      "\n",
      "[0 rows x 38 columns]\n"
     ]
    }
   ],
   "source": [
    "# get df with only positive values for ADNI\n",
    "df_positive = df[df[34] == 1]\n",
    "print(df_positive.shape)\n",
    "print(df_positive.head())"
   ]
  },
  {
   "cell_type": "code",
   "execution_count": 27,
   "metadata": {},
   "outputs": [
    {
     "data": {
      "text/plain": [
       "Series([], Name: 45, dtype: int64)"
      ]
     },
     "execution_count": 27,
     "metadata": {},
     "output_type": "execute_result"
    }
   ],
   "source": [
    "df_positive[45].value_counts()"
   ]
  },
  {
   "cell_type": "code",
   "execution_count": null,
   "metadata": {},
   "outputs": [],
   "source": []
  }
 ],
 "metadata": {
  "kernelspec": {
   "display_name": "ad_venv_2",
   "language": "python",
   "name": "ad_venv_2"
  },
  "language_info": {
   "codemirror_mode": {
    "name": "ipython",
    "version": 3
   },
   "file_extension": ".py",
   "mimetype": "text/x-python",
   "name": "python",
   "nbconvert_exporter": "python",
   "pygments_lexer": "ipython3",
   "version": "3.10.8"
  }
 },
 "nbformat": 4,
 "nbformat_minor": 4
}
