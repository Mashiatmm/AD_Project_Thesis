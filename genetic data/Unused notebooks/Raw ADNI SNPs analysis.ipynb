{
 "cells": [
  {
   "cell_type": "code",
   "execution_count": null,
   "metadata": {
    "scrolled": true
   },
   "outputs": [],
   "source": [
    "import numpy as np\n",
    "f = open('ADNI_TSV_FILE.raw', 'r')\n",
    "def generate_raw_snp_samples(line):\n",
    "    FID, IID, PAT,  MAT, SEX, SNPs = line[0], line[1], line[2], line[3], line[4], line[6:]\n",
    "    return FID, IID, PAT,  MAT, SEX, np.array(SNPs).astype(int)\n",
    "\n",
    "cnt = 0\n",
    "missing = set()\n",
    "while True:\n",
    "    cnt += 1\n",
    "    line = f.readline()\n",
    "    line = line.split()\n",
    "#     print(len(line[6:]));break\n",
    "    temp = {i for i, x in enumerate(line) if x == \"NA\"}\n",
    "    missing = missing | temp\n",
    "    print(cnt, ':', len(temp))\n",
    "    if len(line) == 0:\n",
    "        break\n",
    "# FID, IID, PAT,  MAT, SEX, SNPs = generate_raw_snp_samples(line=line)\n",
    "# FID, IID, PAT,  MAT, SEX, SNPs[:10]\n",
    "len(missing)\n",
    "f.close()\n",
    "\n",
    "# (1628272, 0.7635722458779614)"
   ]
  },
  {
   "cell_type": "code",
   "execution_count": null,
   "metadata": {},
   "outputs": [],
   "source": [
    "len(missing), len(missing) / 2132440"
   ]
  },
  {
   "cell_type": "code",
   "execution_count": null,
   "metadata": {
    "scrolled": true
   },
   "outputs": [],
   "source": [
    "import numpy as np\n",
    "f = open('ADNI_TSV_FILE.raw', 'r')\n",
    "\n",
    "cnt = 0\n",
    "missing = {}\n",
    "while True:\n",
    "    cnt += 1\n",
    "    line = f.readline()\n",
    "    line = line.split()\n",
    "    for i, x in enumerate(line[6:]):\n",
    "        if x == \"NA\":\n",
    "            if i in missing:\n",
    "                missing[i] += 1\n",
    "            else:\n",
    "                missing[i] = 1\n",
    "    print(cnt, ':')\n",
    "    if len(line) == 0:\n",
    "        break\n",
    "# FID, IID, PAT,  MAT, SEX, SNPs = generate_raw_snp_samples(line=line)\n",
    "# FID, IID, PAT,  MAT, SEX, SNPs[:10]\n",
    "len(missing)\n",
    "f.close()"
   ]
  },
  {
   "cell_type": "code",
   "execution_count": null,
   "metadata": {},
   "outputs": [],
   "source": [
    "missing2 = [[x, missing[x]] for x in missing]"
   ]
  },
  {
   "cell_type": "code",
   "execution_count": null,
   "metadata": {},
   "outputs": [],
   "source": [
    "missing2 = sorted(missing2, key=lambda x:x[1], reverse=True)\n",
    "missing2 = np.array(missing2)\n",
    "missing2"
   ]
  },
  {
   "cell_type": "code",
   "execution_count": null,
   "metadata": {},
   "outputs": [],
   "source": [
    "cnt2 =(missing2[:, 1] > 5).sum() \n",
    "(cnt2, cnt2 / 2132434), (5 / 847)\n",
    "snps_to_consider = list(set(range(2132434)) - set(missing2[missing2[:, 1] > 5][:, 0]))\n",
    "len(snps_to_consider), (missing2[:, 1] > 5).sum()\n",
    "\n",
    "import pickle\n",
    "pickle.dump(snps_to_consider, open('snps_to_consider.pkl', 'wb'))"
   ]
  },
  {
   "cell_type": "code",
   "execution_count": null,
   "metadata": {},
   "outputs": [],
   "source": [
    "from sklearn.preprocessing import OneHotEncoder\n",
    "enc = OneHotEncoder(categories='auto', handle_unknown='error')\n",
    "X = [[0], [1], [2]]\n",
    "print(enc.fit(X))\n",
    "print(enc.categories_)\n",
    "temp = [[0], [1], [0], [2]]\n",
    "encoded = enc.transform(temp).toarray().astype(np.float32)\n",
    "print(encoded)\n",
    "\n",
    "\n",
    "# enc.inverse_transform([[0, 1, 1, 0, 0], [0, 0, 0, 1, 0]])\n",
    "\n",
    "feature_names = enc.get_feature_names(['SNP'])\n",
    "print(feature_names)"
   ]
  },
  {
   "cell_type": "code",
   "execution_count": null,
   "metadata": {
    "scrolled": true
   },
   "outputs": [],
   "source": [
    "f = open('ADNI_TSV_FILE.raw', 'r')\n",
    "def generate_raw_snp_samples(line, get_onehot=False):\n",
    "    line = line.replace('NA', '0').split() \n",
    "    FID, IID, PAT,  MAT, SEX, SNPs = line[0], line[1], line[2], line[3], line[4], line[6:]\n",
    "    SNPs = np.array(SNPs).astype(int)[snps_to_consider]\n",
    "    if get_onehot:\n",
    "        SNPs = enc.transform(SNPs.reshape([-1, 1])).toarray().astype(np.float32)\n",
    "    \n",
    "    return FID, IID, PAT,  MAT, SEX, SNPs\n",
    "\n",
    "line = f.readline()\n",
    "line = f.readline()\n",
    "FID, IID, PAT,  MAT, SEX, SNPs = generate_raw_snp_samples(line, get_onehot=True)\n",
    "FID, IID, PAT,  MAT, SEX, SNPs"
   ]
  },
  {
   "cell_type": "code",
   "execution_count": null,
   "metadata": {},
   "outputs": [],
   "source": [
    "f = open('ADNI_TSV_FILE.raw', 'r')\n",
    "\n",
    "header = f.readline()\n",
    "open(f'./RAW_SNPs/header.snp', 'w').write(header)\n",
    "\n",
    "for i in range(847):\n",
    "    line = f.readline()\n",
    "    IID = line.split()[1]\n",
    "    open(f'./RAW_SNPs/{IID}.snp', 'w').write(line)\n",
    "    \n",
    "f.close()"
   ]
  },
  {
   "cell_type": "code",
   "execution_count": null,
   "metadata": {},
   "outputs": [],
   "source": [
    "ttl, a, b, c = SNPs.shape[0], SNPs[:, 0].sum(), SNPs[:, 1].sum(), SNPs[:, 2].sum()\n",
    "ttl, a, b, c, a/ttl, b/ttl, c/ttl, SNPs.shape"
   ]
  },
  {
   "cell_type": "code",
   "execution_count": null,
   "metadata": {},
   "outputs": [],
   "source": [
    "import json\n",
    "import random\n",
    "Final_Samples = json.load(open('Final_Samples.json', 'r')) \n",
    "negative_samples = Final_Samples[370:]\n",
    "random.seed(7)\n",
    "random.shuffle(negative_samples)\n",
    "Final_Samples = Final_Samples[:370] + negative_samples[:370]\n",
    "len([x[1] for x in Final_Samples if x[1] == 1]), len([x[1] for x in Final_Samples if x[1] == 0])\n",
    "Final_Samples = np.array(Final_Samples)\n",
    "Final_Samples"
   ]
  },
  {
   "cell_type": "code",
   "execution_count": null,
   "metadata": {},
   "outputs": [],
   "source": [
    "Final_Samples = {x[0]:float(x[1]) for x in Final_Samples}\n",
    "# Final_Samples"
   ]
  },
  {
   "cell_type": "code",
   "execution_count": null,
   "metadata": {},
   "outputs": [],
   "source": [
    "if False:\n",
    "    def warn(*args, **kwargs):\n",
    "        pass\n",
    "    import warnings\n",
    "    warnings.warn = warn\n",
    "\n",
    "import os\n",
    "import time\n",
    "import sys\n",
    "\n",
    "import torch\n",
    "from torch import nn\n",
    "from torch.autograd import Variable\n",
    "\n",
    "class simple_model(nn.Module):\n",
    "    def __init__(self, num_features=1260680, num_hidden=0, hidden_dim=32, drop_probab=.5):\n",
    "        super(simple_model, self).__init__()\n",
    "        \n",
    "        ####\n",
    "        self.drop_probab = drop_probab\n",
    "        self.num_hidden = num_hidden\n",
    "        self.dropout0 = nn.Dropout(p=self.drop_probab)\n",
    "        self.fc1 = nn.Linear(num_features, hidden_dim)\n",
    "        self.dropout1 = nn.Dropout(p=self.drop_probab)\n",
    "        self.fc_hidden = nn.ModuleList([nn.Linear(hidden_dim, hidden_dim) for i in range(self.num_hidden)])\n",
    "        self.dropout_hidden = nn.ModuleList([nn.Dropout(p=self.drop_probab) for i in range(self.num_hidden)])\n",
    "        self.fc2 = nn.Linear(hidden_dim, 8)\n",
    "        self.dropout2 = nn.Dropout(p=self.drop_probab)\n",
    "        self.outLayer = nn.Linear(8, 1)\n",
    "        self.sigmoid = nn.Sigmoid()\n",
    "        self.dropout = nn.functional.dropout\n",
    "        self.dropout1 = nn.Dropout(p=self.drop_probab)\n",
    "        ####\n",
    "\n",
    "    def forward(self, features):\n",
    "        features = self.dropout0(features)\n",
    "        features = self.fc1(features)\n",
    "        features = self.dropout1(features)\n",
    "        for i in range(self.num_hidden):\n",
    "            features = self.fc_hidden[i](features)\n",
    "            features = self.dropout_hidden[i](features)\n",
    "        features = self.fc2(features)\n",
    "        features = self.dropout2(features)\n",
    "        logit = self.outLayer(features)\n",
    "#         print(features.shape, features)\n",
    "        probab = self.sigmoid(logit)\n",
    "        return probab\n",
    "    "
   ]
  },
  {
   "cell_type": "code",
   "execution_count": null,
   "metadata": {},
   "outputs": [],
   "source": [
    "DEVICE = \"cuda\" if torch.cuda.is_available() else \"cpu\"\n",
    "\n",
    "import shap\n",
    "from copy import deepcopy\n",
    "\n",
    "model = simple_model(num_features=1260680*3)\n",
    "model.to(DEVICE)"
   ]
  },
  {
   "cell_type": "code",
   "execution_count": null,
   "metadata": {},
   "outputs": [],
   "source": [
    "# usable_features = torch.autograd.Variable(torch.from_numpy(usable_features)).to(DEVICE).float()"
   ]
  },
  {
   "cell_type": "code",
   "execution_count": null,
   "metadata": {
    "scrolled": true
   },
   "outputs": [],
   "source": [
    "FID, IID, PAT, MAT, SEX, SNPs = generate_raw_snp_samples(line, get_onehot=True)\n",
    "SNPs = torch.autograd.Variable(torch.from_numpy(SNPs)).to(DEVICE).float()\n",
    "FID, IID, PAT, MAT, SEX, SNPs\n",
    "model.eval()\n",
    "model(SNPs.view([-1]))"
   ]
  },
  {
   "cell_type": "code",
   "execution_count": null,
   "metadata": {},
   "outputs": [],
   "source": []
  },
  {
   "cell_type": "code",
   "execution_count": null,
   "metadata": {},
   "outputs": [],
   "source": []
  }
 ],
 "metadata": {
  "kernelspec": {
   "display_name": "Python 3",
   "language": "python",
   "name": "python3"
  },
  "language_info": {
   "codemirror_mode": {
    "name": "ipython",
    "version": 3
   },
   "file_extension": ".py",
   "mimetype": "text/x-python",
   "name": "python",
   "nbconvert_exporter": "python",
   "pygments_lexer": "ipython3",
   "version": "3.7.3"
  }
 },
 "nbformat": 4,
 "nbformat_minor": 4
}
