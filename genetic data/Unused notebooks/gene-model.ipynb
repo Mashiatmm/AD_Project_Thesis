{
 "cells": [
  {
   "cell_type": "code",
   "execution_count": 2,
   "metadata": {
    "collapsed": true
   },
   "outputs": [],
   "source": [
    "import os\n",
    "import time\n",
    "import sys\n",
    "\n",
    "import torch as t\n",
    "from torch import nn\n",
    "from torch.autograd import Variable\n",
    "\n",
    "class simple_model(nn.Module):\n",
    "    def __init__(self):\n",
    "        super(simple_model, self).__init__()\n",
    "        \n",
    "        ####\n",
    "        self.fc1 = nn.Linear(32, 24)\n",
    "        self.fc1_1 = nn.Linear(24, 24)\n",
    "        self.fc1_2 = nn.Linear(24, 24)\n",
    "        self.fc2 = nn.Linear(24, 16)\n",
    "        self.outLayer = nn.Linear(16, 3)\n",
    "        self.softmax = nn.Softmax(-1)\n",
    "        ####\n",
    "\n",
    "    def forward(self, features):\n",
    "        features = self.fc1(features)\n",
    "        features = self.fc1_1(features)\n",
    "        features = self.fc1_2(features)\n",
    "        features = self.fc2(features)\n",
    "        logits = self.outLayer(features)\n",
    "        # print('output size', features.shape)\n",
    "        probabs = self.softmax(logits)\n",
    "        return logits, probabs\n",
    "    "
   ]
  },
  {
   "cell_type": "code",
   "execution_count": null,
   "metadata": {
    "collapsed": true
   },
   "outputs": [],
   "source": []
  }
 ],
 "metadata": {
  "kernelspec": {
   "display_name": "Python 3",
   "language": "python",
   "name": "python3"
  },
  "language_info": {
   "codemirror_mode": {
    "name": "ipython",
    "version": 3
   },
   "file_extension": ".py",
   "mimetype": "text/x-python",
   "name": "python",
   "nbconvert_exporter": "python",
   "pygments_lexer": "ipython3",
   "version": "3.7.3"
  }
 },
 "nbformat": 4,
 "nbformat_minor": 2
}
